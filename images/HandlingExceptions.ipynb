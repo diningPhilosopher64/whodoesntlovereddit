{
 "cells": [
  {
   "cell_type": "code",
   "execution_count": 1,
   "id": "1b3086e9-f047-4c1a-8264-d90310ae4bd2",
   "metadata": {},
   "outputs": [
    {
     "name": "stderr",
     "output_type": "stream",
     "text": [
      "INFO:botocore.credentials:Found credentials in shared credentials file: ~/.aws/credentials\n"
     ]
    }
   ],
   "source": [
    "import requests, boto3, pandas as pd, os, sys, pprint, logging\n",
    "from pathlib import Path\n",
    "pp = pprint.PrettyPrinter(indent=2, compact=True, width=80)\n",
    "\n",
    "# Initialize log config.\n",
    "logging.basicConfig(level=logging.INFO)\n",
    "logger = logging.getLogger()\n",
    "\n",
    "\n",
    "# Making the current directory in which this file is in discoverable to python.\n",
    "# Commenting it here because it will not work in jupyter notebook. It will work in lambda though.\n",
    "#sys.path.append(os.path.join(os.path.dirname(__file__)))\n",
    "\n",
    "# Below should be used only in jupyter notebook\n",
    "sys.path.append('./')\n",
    "\n",
    "\n",
    "REDDIT_AUTH_URL = 'https://www.reddit.com/api/v1/access_token'\n",
    "REDDIT_ACCOUNTS_TABLE_NAME = 'RedditAccountsTable-dev'\n",
    "DAILY_UPLOADS_TABLE_NAME = \"DailyUploadsTable-dev\"\n",
    "REDDIT_API_URL_TOP = \"https://oauth.reddit.com/r/placeholder_value/top\"\n",
    "REDDIT_API_URL_SORT = \"https://oauth.reddit.com/r/placeholder_value/sort\"\n",
    "\n",
    "ddb = boto3.client(\"dynamodb\", region_name=\"ap-south-1\")"
   ]
  },
  {
   "cell_type": "code",
   "execution_count": 2,
   "id": "9120585a-2299-4b9f-bc26-5d02c924ff1a",
   "metadata": {},
   "outputs": [],
   "source": [
    "from entities.GatherUrls import GatherUrls\n",
    "from entities.RedditAccount import RedditAccount\n",
    "subreddit='funny'"
   ]
  },
  {
   "cell_type": "code",
   "execution_count": 3,
   "id": "8a7104e5-902e-46c7-9b38-599b1f95eea4",
   "metadata": {},
   "outputs": [],
   "source": [
    "reddit_account = RedditAccount(subreddit=subreddit, ddb=ddb, logger=logger)\n",
    "gather_urls = GatherUrls(subreddit=subreddit, logger=logger)\n",
    "REDDIT_API_URL_TOP = REDDIT_API_URL_TOP.replace('placeholder_value','funny')"
   ]
  },
  {
   "cell_type": "code",
   "execution_count": 4,
   "id": "a48c4333-7de7-4cf6-8b28-8160e402bbba",
   "metadata": {},
   "outputs": [
    {
     "name": "stderr",
     "output_type": "stream",
     "text": [
      "INFO:root:Fetched and updated the following account details:\n",
      "\n",
      "INFO:root:{ 'PK': 'funny',\n",
      "  'email_address': 'mugblsxlqpoqbclaqi@bptfp.net',\n",
      "  'password': 'Abcd@12349',\n",
      "  'personal_use_script': 'epsNZpypuQ1IngadWDnlGg',\n",
      "  'secret_key': 'yG4Ej57nkBMIdFzpWkzhNXChnsiluw',\n",
      "  'username': 'mugblsxlqpoqbclaqi'}\n"
     ]
    }
   ],
   "source": [
    "reddit_account.fetch_and_update_account_details(REDDIT_ACCOUNTS_TABLE_NAME)\n",
    "reddit_account.authenticate_with_api()"
   ]
  },
  {
   "cell_type": "code",
   "execution_count": 5,
   "id": "ef200ec0-3a42-4fd1-a8b3-a7f20267dcdc",
   "metadata": {},
   "outputs": [],
   "source": [
    "reddit_account.fetch_and_update_access_token(REDDIT_AUTH_URL)"
   ]
  },
  {
   "cell_type": "code",
   "execution_count": 6,
   "id": "d53bb160-e5d7-460e-a397-e6cfe6ebf17d",
   "metadata": {},
   "outputs": [],
   "source": [
    "posts =  reddit_account.fetch_posts_as_json(REDDIT_API_URL_TOP)"
   ]
  },
  {
   "cell_type": "code",
   "execution_count": null,
   "id": "f84fc1d1-f1ea-45f6-86e5-87eb579aa28c",
   "metadata": {},
   "outputs": [],
   "source": []
  },
  {
   "cell_type": "code",
   "execution_count": 7,
   "id": "76e4ccc7-4279-4c0d-9478-c752c86c5b8f",
   "metadata": {
    "tags": []
   },
   "outputs": [
    {
     "name": "stderr",
     "output_type": "stream",
     "text": [
      "INFO:root:For funny on date: 2021-08-14\n",
      "INFO:root:('Post with title: I prototype stupid ideas and today I made a zip off bathing '\n",
      " 'suit with towel pant legs. with duration: 38s is added to eligible posts\\n')\n",
      "INFO:root:('Post with title: Kid runs on football pitch. Mom takes him down and carries '\n",
      " 'him back. with duration: 25s is added to eligible posts\\n')\n",
      "INFO:root:(\"Post with title: Dude; Where's my bike? with duration: 23s is added to \"\n",
      " 'eligible posts\\n')\n",
      "INFO:root:('Post with title: Yo! Hold the door! with duration: 12s is added to eligible '\n",
      " 'posts\\n')\n",
      "INFO:root:(\"Post with title: Garbage service isn't as safe as you think with duration: \"\n",
      " '28s is added to eligible posts\\n')\n",
      "INFO:root:('Post with title: and the Oscar goes to.... with duration: 16s is added to '\n",
      " 'eligible posts\\n')\n",
      "INFO:root:('Post with title: I re-edited the Matrix throat chop video to be something '\n",
      " 'other than potato quality. Enjoy! with duration: 35s is added to eligible '\n",
      " 'posts\\n')\n",
      "INFO:root:('Post with title: Turkey calls.... with duration: 25s is added to eligible '\n",
      " 'posts\\n')\n",
      "INFO:root:('Post with title: …….. just do it …….. with duration: 34s is added to '\n",
      " 'eligible posts\\n')\n",
      "INFO:root:(\"Post with title: An ad I wouldn't mind watching with duration: 30s is added \"\n",
      " 'to eligible posts\\n')\n",
      "INFO:root:('Post with title: You always need a hype man with duration: 20s is added to '\n",
      " 'eligible posts\\n')\n",
      "INFO:root:'Total duration for funny subreddit on 2021-08-14 is 286\\n'\n"
     ]
    }
   ],
   "source": [
    "gather_urls.parse_posts(posts)"
   ]
  },
  {
   "cell_type": "code",
   "execution_count": 8,
   "id": "791c8093-2287-4b37-b892-801c51f5b6eb",
   "metadata": {
    "tags": []
   },
   "outputs": [
    {
     "name": "stderr",
     "output_type": "stream",
     "text": [
      "INFO:root:('Serialized item is:\\n'\n",
      " \"{'PK': {'S': '2021-08-14'}, 'SK': {'S': 'funny'}, 'posts': {'L': [{'M': \"\n",
      " \"{'title': {'S': 'I prototype stupid ideas and today I made a zip off bathing \"\n",
      " \"suit with towel pant legs.'}, 'url': {'S': \"\n",
      " \"'https://v.redd.it/4nex55lbp6h71'}, 'upvote_ratio': {'N': '0.81'}, 'ups': \"\n",
      " \"{'N': '61550'}, 'author': {'S': 'rightcoastguy'}, 'name': {'S': \"\n",
      " \"'t3_p3tc8p'}, 'total_awards_received': {'N': '88'}}}, {'M': {'title': {'S': \"\n",
      " \"'Kid runs on football pitch. Mom takes him down and carries him back.'}, \"\n",
      " \"'url': {'S': 'https://v.redd.it/dyb2i0y666h71'}, 'upvote_ratio': {'N': \"\n",
      " \"'0.98'}, 'ups': {'N': '5844'}, 'author': {'S': 'justgossiping'}, 'name': \"\n",
      " \"{'S': 't3_p3r9r9'}, 'total_awards_received': {'N': '6'}}}, {'M': {'title': \"\n",
      " '{\\'S\\': \"Dude; Where\\'s my bike?\"}, \\'url\\': {\\'S\\': '\n",
      " \"'https://v.redd.it/fevwhi5nu7h71'}, 'upvote_ratio': {'N': '0.95'}, 'ups': \"\n",
      " \"{'N': '2212'}, 'author': {'S': 'WrickyB'}, 'name': {'S': 't3_p3xkk1'}, \"\n",
      " \"'total_awards_received': {'N': '3'}}}, {'M': {'title': {'S': 'Yo! Hold the \"\n",
      " \"door!'}, 'url': {'S': 'https://v.redd.it/nhxoz7ltebh71'}, 'upvote_ratio': \"\n",
      " \"{'N': '0.96'}, 'ups': {'N': '2992'}, 'author': {'S': 'noinu_dica_one'}, \"\n",
      " \"'name': {'S': 't3_p46xt6'}, 'total_awards_received': {'N': '3'}}}, {'M': \"\n",
      " '{\\'title\\': {\\'S\\': \"Garbage service isn\\'t as safe as you think\"}, \\'url\\': '\n",
      " \"{'S': 'https://v.redd.it/tjc9205777h71'}, 'upvote_ratio': {'N': '0.97'}, \"\n",
      " \"'ups': {'N': '1904'}, 'author': {'S': 'LFDT'}, 'name': {'S': 't3_p3vbok'}, \"\n",
      " \"'total_awards_received': {'N': '4'}}}, {'M': {'title': {'S': 'and the Oscar \"\n",
      " \"goes to....'}, 'url': {'S': 'https://v.redd.it/z8u9h2jz9bh71'}, \"\n",
      " \"'upvote_ratio': {'N': '0.97'}, 'ups': {'N': '2604'}, 'author': {'S': \"\n",
      " \"'Chapungu'}, 'name': {'S': 't3_p46jk1'}, 'total_awards_received': {'N': \"\n",
      " \"'3'}}}, {'M': {'title': {'S': 'I re-edited the Matrix throat chop video to \"\n",
      " \"be something other than potato quality. Enjoy!'}, 'url': {'S': \"\n",
      " \"'https://v.redd.it/oiabirp307h71'}, 'upvote_ratio': {'N': '0.94'}, 'ups': \"\n",
      " \"{'N': '1465'}, 'author': {'S': 'ChapoCumHouse'}, 'name': {'S': 't3_p3uj4j'}, \"\n",
      " \"'total_awards_received': {'N': '7'}}}, {'M': {'title': {'S': 'Turkey \"\n",
      " \"calls....'}, 'url': {'S': 'https://v.redd.it/0cb3ojs31bh71'}, \"\n",
      " \"'upvote_ratio': {'N': '0.94'}, 'ups': {'N': '1098'}, 'author': {'S': \"\n",
      " \"'tradsouthernmale'}, 'name': {'S': 't3_p45xtf'}, 'total_awards_received': \"\n",
      " \"{'N': '4'}}}, {'M': {'title': {'S': '…….. just do it ……..'}, 'url': {'S': \"\n",
      " \"'https://v.redd.it/eyzcv9rkp8h71'}, 'upvote_ratio': {'N': '0.89'}, 'ups': \"\n",
      " \"{'N': '576'}, 'author': {'S': 'Delphi00'}, 'name': {'S': 't3_p407hk'}, \"\n",
      " '\\'total_awards_received\\': {\\'N\\': \\'0\\'}}}, {\\'M\\': {\\'title\\': {\\'S\\': \"An '\n",
      " 'ad I wouldn\\'t mind watching\"}, \\'url\\': {\\'S\\': '\n",
      " \"'https://v.redd.it/kvmytl5f2ch71'}, 'upvote_ratio': {'N': '0.97'}, 'ups': \"\n",
      " \"{'N': '1758'}, 'author': {'S': 'Muhiaprime'}, 'name': {'S': 't3_p48z8n'}, \"\n",
      " \"'total_awards_received': {'N': '2'}}}, {'M': {'title': {'S': 'You always \"\n",
      " \"need a hype man'}, 'url': {'S': 'https://v.redd.it/i21uumnc96h71'}, \"\n",
      " \"'upvote_ratio': {'N': '0.86'}, 'ups': {'N': '316'}, 'author': {'S': \"\n",
      " \"'timetraveldan'}, 'name': {'S': 't3_p3rkbn'}, 'total_awards_received': {'N': \"\n",
      " \"'0'}}}]}}\\n\")\n"
     ]
    }
   ],
   "source": [
    "DAILY_UPLOADS_TABLE_NAME = \"DailyUploadsTable-dev\"\n",
    "TransactItems=[\n",
    "                {\n",
    "                    \"Put\": {\n",
    "                        \"TableName\": DAILY_UPLOADS_TABLE_NAME,\n",
    "                        \"Item\": gather_urls.serialize_to_item(),\n",
    "                    }\n",
    "                },\n",
    "                {\n",
    "                    \"Update\": {\n",
    "                        \"TableName\": DAILY_UPLOADS_TABLE_NAME,\n",
    "                        \"Key\": {\n",
    "                            \"PK\": {\"S\": '2013-12-12'},\n",
    "                            \"SK\": {\"S\": \"todays_subreddits_count\"},\n",
    "                        },\n",
    "                        \"ConditionExpression\": \"attribute_exists(PK) and attribute_exists(SK)\",\n",
    "                        \"UpdateExpression\": \"SET #count = #count + :inc\",\n",
    "                        \"ExpressionAttributeNames\": {\"#count\": \"count\"},\n",
    "                        \"ExpressionAttributeValues\": {\":inc\": {\"N\": \"1\"}},\n",
    "                    }\n",
    "                },\n",
    "            ]"
   ]
  },
  {
   "cell_type": "code",
   "execution_count": 9,
   "id": "cee59439-6088-48ed-907f-cf2db4369d45",
   "metadata": {},
   "outputs": [
    {
     "name": "stderr",
     "output_type": "stream",
     "text": [
      "--- Logging error ---\n",
      "Traceback (most recent call last):\n",
      "  File \"/home/sourabh/work/personal/whodoesntlovereddit/images/ddb_helpers/__init__.py\", line 32, in transact_write_items\n",
      "    resp = ddb.transact_write_items(TransactItems=TransactItems)\n",
      "  File \"/home/sourabh/work/personal/whodoesntlovereddit/.venv/lib/python3.8/site-packages/botocore/client.py\", line 386, in _api_call\n",
      "    return self._make_api_call(operation_name, kwargs)\n",
      "  File \"/home/sourabh/work/personal/whodoesntlovereddit/.venv/lib/python3.8/site-packages/botocore/client.py\", line 705, in _make_api_call\n",
      "    raise error_class(parsed_response, operation_name)\n",
      "botocore.errorfactory.TransactionCanceledException: An error occurred (TransactionCanceledException) when calling the TransactWriteItems operation: Transaction cancelled, please refer cancellation reasons for specific reasons [None, ConditionalCheckFailed]\n",
      "\n",
      "During handling of the above exception, another exception occurred:\n",
      "\n",
      "Traceback (most recent call last):\n",
      "  File \"/usr/lib/python3.8/logging/__init__.py\", line 1085, in emit\n",
      "    msg = self.format(record)\n",
      "  File \"/usr/lib/python3.8/logging/__init__.py\", line 929, in format\n",
      "    return fmt.format(record)\n",
      "  File \"/usr/lib/python3.8/logging/__init__.py\", line 668, in format\n",
      "    record.message = record.getMessage()\n",
      "  File \"/usr/lib/python3.8/logging/__init__.py\", line 373, in getMessage\n",
      "    msg = msg % self.args\n",
      "TypeError: not all arguments converted during string formatting\n",
      "Call stack:\n",
      "  File \"/usr/lib/python3.8/runpy.py\", line 194, in _run_module_as_main\n",
      "    return _run_code(code, main_globals, None,\n",
      "  File \"/usr/lib/python3.8/runpy.py\", line 87, in _run_code\n",
      "    exec(code, run_globals)\n",
      "  File \"/home/sourabh/work/personal/whodoesntlovereddit/.venv/lib/python3.8/site-packages/ipykernel_launcher.py\", line 16, in <module>\n",
      "    app.launch_new_instance()\n",
      "  File \"/home/sourabh/work/personal/whodoesntlovereddit/.venv/lib/python3.8/site-packages/traitlets/config/application.py\", line 845, in launch_instance\n",
      "    app.start()\n",
      "  File \"/home/sourabh/work/personal/whodoesntlovereddit/.venv/lib/python3.8/site-packages/ipykernel/kernelapp.py\", line 667, in start\n",
      "    self.io_loop.start()\n",
      "  File \"/home/sourabh/work/personal/whodoesntlovereddit/.venv/lib/python3.8/site-packages/tornado/platform/asyncio.py\", line 199, in start\n",
      "    self.asyncio_loop.run_forever()\n",
      "  File \"/usr/lib/python3.8/asyncio/base_events.py\", line 570, in run_forever\n",
      "    self._run_once()\n",
      "  File \"/usr/lib/python3.8/asyncio/base_events.py\", line 1859, in _run_once\n",
      "    handle._run()\n",
      "  File \"/usr/lib/python3.8/asyncio/events.py\", line 81, in _run\n",
      "    self._context.run(self._callback, *self._args)\n",
      "  File \"/home/sourabh/work/personal/whodoesntlovereddit/.venv/lib/python3.8/site-packages/ipykernel/kernelbase.py\", line 456, in dispatch_queue\n",
      "    await self.process_one()\n",
      "  File \"/home/sourabh/work/personal/whodoesntlovereddit/.venv/lib/python3.8/site-packages/ipykernel/kernelbase.py\", line 445, in process_one\n",
      "    await dispatch(*args)\n",
      "  File \"/home/sourabh/work/personal/whodoesntlovereddit/.venv/lib/python3.8/site-packages/ipykernel/kernelbase.py\", line 352, in dispatch_shell\n",
      "    await result\n",
      "  File \"/home/sourabh/work/personal/whodoesntlovereddit/.venv/lib/python3.8/site-packages/ipykernel/kernelbase.py\", line 647, in execute_request\n",
      "    reply_content = await reply_content\n",
      "  File \"/home/sourabh/work/personal/whodoesntlovereddit/.venv/lib/python3.8/site-packages/ipykernel/ipkernel.py\", line 345, in do_execute\n",
      "    res = shell.run_cell(code, store_history=store_history, silent=silent)\n",
      "  File \"/home/sourabh/work/personal/whodoesntlovereddit/.venv/lib/python3.8/site-packages/ipykernel/zmqshell.py\", line 532, in run_cell\n",
      "    return super(ZMQInteractiveShell, self).run_cell(*args, **kwargs)\n",
      "  File \"/home/sourabh/work/personal/whodoesntlovereddit/.venv/lib/python3.8/site-packages/IPython/core/interactiveshell.py\", line 2898, in run_cell\n",
      "    result = self._run_cell(\n",
      "  File \"/home/sourabh/work/personal/whodoesntlovereddit/.venv/lib/python3.8/site-packages/IPython/core/interactiveshell.py\", line 2944, in _run_cell\n",
      "    return runner(coro)\n",
      "  File \"/home/sourabh/work/personal/whodoesntlovereddit/.venv/lib/python3.8/site-packages/IPython/core/async_helpers.py\", line 68, in _pseudo_sync_runner\n",
      "    coro.send(None)\n",
      "  File \"/home/sourabh/work/personal/whodoesntlovereddit/.venv/lib/python3.8/site-packages/IPython/core/interactiveshell.py\", line 3169, in run_cell_async\n",
      "    has_raised = await self.run_ast_nodes(code_ast.body, cell_name,\n",
      "  File \"/home/sourabh/work/personal/whodoesntlovereddit/.venv/lib/python3.8/site-packages/IPython/core/interactiveshell.py\", line 3361, in run_ast_nodes\n",
      "    if (await self.run_code(code, result,  async_=asy)):\n",
      "  File \"/home/sourabh/work/personal/whodoesntlovereddit/.venv/lib/python3.8/site-packages/IPython/core/interactiveshell.py\", line 3441, in run_code\n",
      "    exec(code_obj, self.user_global_ns, self.user_ns)\n",
      "  File \"/tmp/ipykernel_52785/2916535756.py\", line 3, in <module>\n",
      "    resp = ddb_helpers.transact_write_items(ddb=ddb,TransactItems=TransactItems,logger=logger)\n",
      "  File \"/home/sourabh/work/personal/whodoesntlovereddit/images/ddb_helpers/__init__.py\", line 35, in transact_write_items\n",
      "    logger.error(\n",
      "Message: 'TransactionCanceledException raised.Details:\\nTransactItems:\\n'\n",
      "Arguments: ('[ { \\'Put\\': { \\'Item\\': { \\'PK\\': {\\'S\\': \\'2021-08-14\\'},\\n                       \\'SK\\': {\\'S\\': \\'funny\\'},\\n                       \\'posts\\': { \\'L\\': [ { \\'M\\': { \\'author\\': { \\'S\\': \\'rightcoastguy\\'},\\n                                                  \\'name\\': {\\'S\\': \\'t3_p3tc8p\\'},\\n                                                  \\'title\\': { \\'S\\': \\'I prototype \\'\\n                                                                  \\'stupid \\'\\n                                                                  \\'ideas and \\'\\n                                                                  \\'today I \\'\\n                                                                  \\'made a zip \\'\\n                                                                  \\'off bathing \\'\\n                                                                  \\'suit with \\'\\n                                                                  \\'towel pant \\'\\n                                                                  \\'legs.\\'},\\n                                                  \\'total_awards_received\\': { \\'N\\': \\'88\\'},\\n                                                  \\'ups\\': {\\'N\\': \\'61550\\'},\\n                                                  \\'upvote_ratio\\': {\\'N\\': \\'0.81\\'},\\n                                                  \\'url\\': { \\'S\\': \\'https://v.redd.it/4nex55lbp6h71\\'}}},\\n                                         { \\'M\\': { \\'author\\': { \\'S\\': \\'justgossiping\\'},\\n                                                  \\'name\\': {\\'S\\': \\'t3_p3r9r9\\'},\\n                                                  \\'title\\': { \\'S\\': \\'Kid runs on \\'\\n                                                                  \\'football \\'\\n                                                                  \\'pitch. Mom \\'\\n                                                                  \\'takes him \\'\\n                                                                  \\'down and \\'\\n                                                                  \\'carries him \\'\\n                                                                  \\'back.\\'},\\n                                                  \\'total_awards_received\\': { \\'N\\': \\'6\\'},\\n                                                  \\'ups\\': {\\'N\\': \\'5844\\'},\\n                                                  \\'upvote_ratio\\': {\\'N\\': \\'0.98\\'},\\n                                                  \\'url\\': { \\'S\\': \\'https://v.redd.it/dyb2i0y666h71\\'}}},\\n                                         { \\'M\\': { \\'author\\': {\\'S\\': \\'WrickyB\\'},\\n                                                  \\'name\\': {\\'S\\': \\'t3_p3xkk1\\'},\\n                                                  \\'title\\': { \\'S\\': \\'Dude; \\'\\n                                                                  \"Where\\'s my \"\\n                                                                  \\'bike?\\'},\\n                                                  \\'total_awards_received\\': { \\'N\\': \\'3\\'},\\n                                                  \\'ups\\': {\\'N\\': \\'2212\\'},\\n                                                  \\'upvote_ratio\\': {\\'N\\': \\'0.95\\'},\\n                                                  \\'url\\': { \\'S\\': \\'https://v.redd.it/fevwhi5nu7h71\\'}}},\\n                                         { \\'M\\': { \\'author\\': { \\'S\\': \\'noinu_dica_one\\'},\\n                                                  \\'name\\': {\\'S\\': \\'t3_p46xt6\\'},\\n                                                  \\'title\\': { \\'S\\': \\'Yo! Hold \\'\\n                                                                  \\'the door!\\'},\\n                                                  \\'total_awards_received\\': { \\'N\\': \\'3\\'},\\n                                                  \\'ups\\': {\\'N\\': \\'2992\\'},\\n                                                  \\'upvote_ratio\\': {\\'N\\': \\'0.96\\'},\\n                                                  \\'url\\': { \\'S\\': \\'https://v.redd.it/nhxoz7ltebh71\\'}}},\\n                                         { \\'M\\': { \\'author\\': {\\'S\\': \\'LFDT\\'},\\n                                                  \\'name\\': {\\'S\\': \\'t3_p3vbok\\'},\\n                                                  \\'title\\': { \\'S\\': \\'Garbage \\'\\n                                                                  \\'service \\'\\n                                                                  \"isn\\'t as \"\\n                                                                  \\'safe as you \\'\\n                                                                  \\'think\\'},\\n                                                  \\'total_awards_received\\': { \\'N\\': \\'4\\'},\\n                                                  \\'ups\\': {\\'N\\': \\'1904\\'},\\n                                                  \\'upvote_ratio\\': {\\'N\\': \\'0.97\\'},\\n                                                  \\'url\\': { \\'S\\': \\'https://v.redd.it/tjc9205777h71\\'}}},\\n                                         { \\'M\\': { \\'author\\': {\\'S\\': \\'Chapungu\\'},\\n                                                  \\'name\\': {\\'S\\': \\'t3_p46jk1\\'},\\n                                                  \\'title\\': { \\'S\\': \\'and the \\'\\n                                                                  \\'Oscar goes \\'\\n                                                                  \\'to....\\'},\\n                                                  \\'total_awards_received\\': { \\'N\\': \\'3\\'},\\n                                                  \\'ups\\': {\\'N\\': \\'2604\\'},\\n                                                  \\'upvote_ratio\\': {\\'N\\': \\'0.97\\'},\\n                                                  \\'url\\': { \\'S\\': \\'https://v.redd.it/z8u9h2jz9bh71\\'}}},\\n                                         { \\'M\\': { \\'author\\': { \\'S\\': \\'ChapoCumHouse\\'},\\n                                                  \\'name\\': {\\'S\\': \\'t3_p3uj4j\\'},\\n                                                  \\'title\\': { \\'S\\': \\'I re-edited \\'\\n                                                                  \\'the Matrix \\'\\n                                                                  \\'throat chop \\'\\n                                                                  \\'video to be \\'\\n                                                                  \\'something \\'\\n                                                                  \\'other than \\'\\n                                                                  \\'potato \\'\\n                                                                  \\'quality. \\'\\n                                                                  \\'Enjoy!\\'},\\n                                                  \\'total_awards_received\\': { \\'N\\': \\'7\\'},\\n                                                  \\'ups\\': {\\'N\\': \\'1465\\'},\\n                                                  \\'upvote_ratio\\': {\\'N\\': \\'0.94\\'},\\n                                                  \\'url\\': { \\'S\\': \\'https://v.redd.it/oiabirp307h71\\'}}},\\n                                         { \\'M\\': { \\'author\\': { \\'S\\': \\'tradsouthernmale\\'},\\n                                                  \\'name\\': {\\'S\\': \\'t3_p45xtf\\'},\\n                                                  \\'title\\': { \\'S\\': \\'Turkey \\'\\n                                                                  \\'calls....\\'},\\n                                                  \\'total_awards_received\\': { \\'N\\': \\'4\\'},\\n                                                  \\'ups\\': {\\'N\\': \\'1098\\'},\\n                                                  \\'upvote_ratio\\': {\\'N\\': \\'0.94\\'},\\n                                                  \\'url\\': { \\'S\\': \\'https://v.redd.it/0cb3ojs31bh71\\'}}},\\n                                         { \\'M\\': { \\'author\\': {\\'S\\': \\'Delphi00\\'},\\n                                                  \\'name\\': {\\'S\\': \\'t3_p407hk\\'},\\n                                                  \\'title\\': { \\'S\\': \\'…….. just \\'\\n                                                                  \\'do it ……..\\'},\\n                                                  \\'total_awards_received\\': { \\'N\\': \\'0\\'},\\n                                                  \\'ups\\': {\\'N\\': \\'576\\'},\\n                                                  \\'upvote_ratio\\': {\\'N\\': \\'0.89\\'},\\n                                                  \\'url\\': { \\'S\\': \\'https://v.redd.it/eyzcv9rkp8h71\\'}}},\\n                                         { \\'M\\': { \\'author\\': {\\'S\\': \\'Muhiaprime\\'},\\n                                                  \\'name\\': {\\'S\\': \\'t3_p48z8n\\'},\\n                                                  \\'title\\': { \\'S\\': \\'An ad I \\'\\n                                                                  \"wouldn\\'t \"\\n                                                                  \\'mind \\'\\n                                                                  \\'watching\\'},\\n                                                  \\'total_awards_received\\': { \\'N\\': \\'2\\'},\\n                                                  \\'ups\\': {\\'N\\': \\'1758\\'},\\n                                                  \\'upvote_ratio\\': {\\'N\\': \\'0.97\\'},\\n                                                  \\'url\\': { \\'S\\': \\'https://v.redd.it/kvmytl5f2ch71\\'}}},\\n                                         { \\'M\\': { \\'author\\': { \\'S\\': \\'timetraveldan\\'},\\n                                                  \\'name\\': {\\'S\\': \\'t3_p3rkbn\\'},\\n                                                  \\'title\\': { \\'S\\': \\'You always \\'\\n                                                                  \\'need a hype \\'\\n                                                                  \\'man\\'},\\n                                                  \\'total_awards_received\\': { \\'N\\': \\'0\\'},\\n                                                  \\'ups\\': {\\'N\\': \\'316\\'},\\n                                                  \\'upvote_ratio\\': {\\'N\\': \\'0.86\\'},\\n                                                  \\'url\\': { \\'S\\': \\'https://v.redd.it/i21uumnc96h71\\'}}}]}},\\n             \\'TableName\\': \\'DailyUploadsTable-dev\\'}},\\n  { \\'Update\\': { \\'ConditionExpression\\': \\'attribute_exists(PK) and \\'\\n                                       \\'attribute_exists(SK)\\',\\n                \\'ExpressionAttributeNames\\': {\\'#count\\': \\'count\\'},\\n                \\'ExpressionAttributeValues\\': {\\':inc\\': {\\'N\\': \\'1\\'}},\\n                \\'Key\\': { \\'PK\\': {\\'S\\': \\'2013-12-12\\'},\\n                         \\'SK\\': {\\'S\\': \\'todays_subreddits_count\\'}},\\n                \\'TableName\\': \\'DailyUploadsTable-dev\\',\\n                \\'UpdateExpression\\': \\'SET #count = #count + :inc\\'}}]',)\n"
     ]
    },
    {
     "ename": "TransactionCanceledException",
     "evalue": "An error occurred (TransactionCanceledException) when calling the TransactWriteItems operation: Transaction cancelled, please refer cancellation reasons for specific reasons [None, ConditionalCheckFailed]",
     "output_type": "error",
     "traceback": [
      "\u001b[0;31m---------------------------------------------------------------------------\u001b[0m",
      "\u001b[0;31mTransactionCanceledException\u001b[0m              Traceback (most recent call last)",
      "\u001b[0;32m/tmp/ipykernel_52785/2916535756.py\u001b[0m in \u001b[0;36m<module>\u001b[0;34m\u001b[0m\n\u001b[1;32m      1\u001b[0m \u001b[0;32mimport\u001b[0m \u001b[0mddb_helpers\u001b[0m\u001b[0;34m\u001b[0m\u001b[0;34m\u001b[0m\u001b[0m\n\u001b[1;32m      2\u001b[0m \u001b[0;34m\u001b[0m\u001b[0m\n\u001b[0;32m----> 3\u001b[0;31m \u001b[0mresp\u001b[0m \u001b[0;34m=\u001b[0m \u001b[0mddb_helpers\u001b[0m\u001b[0;34m.\u001b[0m\u001b[0mtransact_write_items\u001b[0m\u001b[0;34m(\u001b[0m\u001b[0mddb\u001b[0m\u001b[0;34m=\u001b[0m\u001b[0mddb\u001b[0m\u001b[0;34m,\u001b[0m\u001b[0mTransactItems\u001b[0m\u001b[0;34m=\u001b[0m\u001b[0mTransactItems\u001b[0m\u001b[0;34m,\u001b[0m\u001b[0mlogger\u001b[0m\u001b[0;34m=\u001b[0m\u001b[0mlogger\u001b[0m\u001b[0;34m)\u001b[0m\u001b[0;34m\u001b[0m\u001b[0;34m\u001b[0m\u001b[0m\n\u001b[0m",
      "\u001b[0;32m~/work/personal/whodoesntlovereddit/images/ddb_helpers/__init__.py\u001b[0m in \u001b[0;36mtransact_write_items\u001b[0;34m(ddb, TransactItems, logger)\u001b[0m\n\u001b[1;32m     38\u001b[0m         )\n\u001b[1;32m     39\u001b[0m         \u001b[0;31m# logger.error(pp.pformat(TransactItems))\u001b[0m\u001b[0;34m\u001b[0m\u001b[0;34m\u001b[0m\u001b[0;34m\u001b[0m\u001b[0m\n\u001b[0;32m---> 40\u001b[0;31m         \u001b[0;32mraise\u001b[0m \u001b[0merr\u001b[0m\u001b[0;34m\u001b[0m\u001b[0;34m\u001b[0m\u001b[0m\n\u001b[0m\u001b[1;32m     41\u001b[0m \u001b[0;34m\u001b[0m\u001b[0m\n\u001b[1;32m     42\u001b[0m     \u001b[0;32mexcept\u001b[0m \u001b[0mException\u001b[0m\u001b[0;34m:\u001b[0m\u001b[0;34m\u001b[0m\u001b[0;34m\u001b[0m\u001b[0m\n",
      "\u001b[0;32m~/work/personal/whodoesntlovereddit/images/ddb_helpers/__init__.py\u001b[0m in \u001b[0;36mtransact_write_items\u001b[0;34m(ddb, TransactItems, logger)\u001b[0m\n\u001b[1;32m     30\u001b[0m \u001b[0;32mdef\u001b[0m \u001b[0mtransact_write_items\u001b[0m\u001b[0;34m(\u001b[0m\u001b[0mddb\u001b[0m\u001b[0;34m,\u001b[0m \u001b[0mTransactItems\u001b[0m\u001b[0;34m,\u001b[0m \u001b[0mlogger\u001b[0m\u001b[0;34m)\u001b[0m\u001b[0;34m:\u001b[0m\u001b[0;34m\u001b[0m\u001b[0;34m\u001b[0m\u001b[0m\n\u001b[1;32m     31\u001b[0m     \u001b[0;32mtry\u001b[0m\u001b[0;34m:\u001b[0m\u001b[0;34m\u001b[0m\u001b[0;34m\u001b[0m\u001b[0m\n\u001b[0;32m---> 32\u001b[0;31m         \u001b[0mresp\u001b[0m \u001b[0;34m=\u001b[0m \u001b[0mddb\u001b[0m\u001b[0;34m.\u001b[0m\u001b[0mtransact_write_items\u001b[0m\u001b[0;34m(\u001b[0m\u001b[0mTransactItems\u001b[0m\u001b[0;34m=\u001b[0m\u001b[0mTransactItems\u001b[0m\u001b[0;34m)\u001b[0m\u001b[0;34m\u001b[0m\u001b[0;34m\u001b[0m\u001b[0m\n\u001b[0m\u001b[1;32m     33\u001b[0m         \u001b[0;32mreturn\u001b[0m \u001b[0mresp\u001b[0m\u001b[0;34m\u001b[0m\u001b[0;34m\u001b[0m\u001b[0m\n\u001b[1;32m     34\u001b[0m     \u001b[0;32mexcept\u001b[0m \u001b[0mddb\u001b[0m\u001b[0;34m.\u001b[0m\u001b[0mexceptions\u001b[0m\u001b[0;34m.\u001b[0m\u001b[0mTransactionCanceledException\u001b[0m \u001b[0;32mas\u001b[0m \u001b[0merr\u001b[0m\u001b[0;34m:\u001b[0m\u001b[0;34m\u001b[0m\u001b[0;34m\u001b[0m\u001b[0m\n",
      "\u001b[0;32m~/work/personal/whodoesntlovereddit/.venv/lib/python3.8/site-packages/botocore/client.py\u001b[0m in \u001b[0;36m_api_call\u001b[0;34m(self, *args, **kwargs)\u001b[0m\n\u001b[1;32m    384\u001b[0m                     \"%s() only accepts keyword arguments.\" % py_operation_name)\n\u001b[1;32m    385\u001b[0m             \u001b[0;31m# The \"self\" in this scope is referring to the BaseClient.\u001b[0m\u001b[0;34m\u001b[0m\u001b[0;34m\u001b[0m\u001b[0;34m\u001b[0m\u001b[0m\n\u001b[0;32m--> 386\u001b[0;31m             \u001b[0;32mreturn\u001b[0m \u001b[0mself\u001b[0m\u001b[0;34m.\u001b[0m\u001b[0m_make_api_call\u001b[0m\u001b[0;34m(\u001b[0m\u001b[0moperation_name\u001b[0m\u001b[0;34m,\u001b[0m \u001b[0mkwargs\u001b[0m\u001b[0;34m)\u001b[0m\u001b[0;34m\u001b[0m\u001b[0;34m\u001b[0m\u001b[0m\n\u001b[0m\u001b[1;32m    387\u001b[0m \u001b[0;34m\u001b[0m\u001b[0m\n\u001b[1;32m    388\u001b[0m         \u001b[0m_api_call\u001b[0m\u001b[0;34m.\u001b[0m\u001b[0m__name__\u001b[0m \u001b[0;34m=\u001b[0m \u001b[0mstr\u001b[0m\u001b[0;34m(\u001b[0m\u001b[0mpy_operation_name\u001b[0m\u001b[0;34m)\u001b[0m\u001b[0;34m\u001b[0m\u001b[0;34m\u001b[0m\u001b[0m\n",
      "\u001b[0;32m~/work/personal/whodoesntlovereddit/.venv/lib/python3.8/site-packages/botocore/client.py\u001b[0m in \u001b[0;36m_make_api_call\u001b[0;34m(self, operation_name, api_params)\u001b[0m\n\u001b[1;32m    703\u001b[0m             \u001b[0merror_code\u001b[0m \u001b[0;34m=\u001b[0m \u001b[0mparsed_response\u001b[0m\u001b[0;34m.\u001b[0m\u001b[0mget\u001b[0m\u001b[0;34m(\u001b[0m\u001b[0;34m\"Error\"\u001b[0m\u001b[0;34m,\u001b[0m \u001b[0;34m{\u001b[0m\u001b[0;34m}\u001b[0m\u001b[0;34m)\u001b[0m\u001b[0;34m.\u001b[0m\u001b[0mget\u001b[0m\u001b[0;34m(\u001b[0m\u001b[0;34m\"Code\"\u001b[0m\u001b[0;34m)\u001b[0m\u001b[0;34m\u001b[0m\u001b[0;34m\u001b[0m\u001b[0m\n\u001b[1;32m    704\u001b[0m             \u001b[0merror_class\u001b[0m \u001b[0;34m=\u001b[0m \u001b[0mself\u001b[0m\u001b[0;34m.\u001b[0m\u001b[0mexceptions\u001b[0m\u001b[0;34m.\u001b[0m\u001b[0mfrom_code\u001b[0m\u001b[0;34m(\u001b[0m\u001b[0merror_code\u001b[0m\u001b[0;34m)\u001b[0m\u001b[0;34m\u001b[0m\u001b[0;34m\u001b[0m\u001b[0m\n\u001b[0;32m--> 705\u001b[0;31m             \u001b[0;32mraise\u001b[0m \u001b[0merror_class\u001b[0m\u001b[0;34m(\u001b[0m\u001b[0mparsed_response\u001b[0m\u001b[0;34m,\u001b[0m \u001b[0moperation_name\u001b[0m\u001b[0;34m)\u001b[0m\u001b[0;34m\u001b[0m\u001b[0;34m\u001b[0m\u001b[0m\n\u001b[0m\u001b[1;32m    706\u001b[0m         \u001b[0;32melse\u001b[0m\u001b[0;34m:\u001b[0m\u001b[0;34m\u001b[0m\u001b[0;34m\u001b[0m\u001b[0m\n\u001b[1;32m    707\u001b[0m             \u001b[0;32mreturn\u001b[0m \u001b[0mparsed_response\u001b[0m\u001b[0;34m\u001b[0m\u001b[0;34m\u001b[0m\u001b[0m\n",
      "\u001b[0;31mTransactionCanceledException\u001b[0m: An error occurred (TransactionCanceledException) when calling the TransactWriteItems operation: Transaction cancelled, please refer cancellation reasons for specific reasons [None, ConditionalCheckFailed]"
     ]
    }
   ],
   "source": [
    "import ddb_helpers\n",
    "\n",
    "resp = ddb_helpers.transact_write_items(ddb=ddb,TransactItems=TransactItems,logger=logger)"
   ]
  },
  {
   "cell_type": "code",
   "execution_count": null,
   "id": "eab3e24c-2ccf-4c86-b87b-64ae2368e514",
   "metadata": {},
   "outputs": [],
   "source": []
  },
  {
   "cell_type": "code",
   "execution_count": null,
   "id": "240728af-95bf-41f0-9fcf-16b54f874980",
   "metadata": {},
   "outputs": [],
   "source": []
  }
 ],
 "metadata": {
  "kernelspec": {
   "display_name": "Python 3.8.10 64-bit ('.venv': venv)",
   "language": "python",
   "name": "python3810jvsc74a57bd024b555649d86f360bc29675e4ea05747664583e96f16283f97272f664e30bb4e"
  },
  "language_info": {
   "codemirror_mode": {
    "name": "ipython",
    "version": 3
   },
   "file_extension": ".py",
   "mimetype": "text/x-python",
   "name": "python",
   "nbconvert_exporter": "python",
   "pygments_lexer": "ipython3",
   "version": "3.8.10"
  }
 },
 "nbformat": 4,
 "nbformat_minor": 5
}
