{
 "cells": [
  {
   "cell_type": "code",
   "execution_count": 1,
   "id": "1b3086e9-f047-4c1a-8264-d90310ae4bd2",
   "metadata": {},
   "outputs": [
    {
     "name": "stderr",
     "output_type": "stream",
     "text": [
      "INFO:botocore.credentials:Found credentials in shared credentials file: ~/.aws/credentials\n"
     ]
    }
   ],
   "source": [
    "import requests, boto3, pandas as pd, os, sys, pprint, logging\n",
    "from pathlib import Path\n",
    "pp = pprint.PrettyPrinter(indent=2, compact=True, width=80)\n",
    "\n",
    "# Initialize log config.\n",
    "logging.basicConfig(level=logging.INFO)\n",
    "logger = logging.getLogger()\n",
    "\n",
    "\n",
    "# Making the current directory in which this file is in discoverable to python.\n",
    "# Commenting it here because it will not work in jupyter notebook. It will work in lambda though.\n",
    "#sys.path.append(os.path.join(os.path.dirname(__file__)))\n",
    "\n",
    "# Below should be used only in jupyter notebook\n",
    "sys.path.append('./')\n",
    "\n",
    "\n",
    "REDDIT_AUTH_URL = 'https://www.reddit.com/api/v1/access_token'\n",
    "REDDIT_ACCOUNTS_TABLE_NAME = 'RedditAccountsTable-dev'\n",
    "DAILY_UPLOADS_TABLE_NAME = \"DailyUploadsTable-dev\"\n",
    "REDDIT_API_URL_TOP = \"https://oauth.reddit.com/r/placeholder_value/top\"\n",
    "REDDIT_API_URL_SORT = \"https://oauth.reddit.com/r/placeholder_value/sort\"\n",
    "\n",
    "ddb = boto3.client(\"dynamodb\", region_name=\"ap-south-1\")"
   ]
  },
  {
   "cell_type": "code",
   "execution_count": 7,
   "id": "b6e0d6a4-ba0d-4593-8768-5e07b10143c9",
   "metadata": {},
   "outputs": [
    {
     "data": {
      "text/plain": [
       "<module 'helpers.ddb' from '/home/sourabh/work/personal/whodoesntlovereddit/images/helpers/ddb/__init__.py'>"
      ]
     },
     "execution_count": 7,
     "metadata": {},
     "output_type": "execute_result"
    }
   ],
   "source": []
  },
  {
   "cell_type": "code",
   "execution_count": 6,
   "id": "9120585a-2299-4b9f-bc26-5d02c924ff1a",
   "metadata": {},
   "outputs": [],
   "source": [
    "from entities.GatherUrls import GatherUrls\n",
    "from entities.RedditAccount import RedditAccount\n",
    "subreddit='funny'"
   ]
  },
  {
   "cell_type": "code",
   "execution_count": 7,
   "id": "8a7104e5-902e-46c7-9b38-599b1f95eea4",
   "metadata": {},
   "outputs": [],
   "source": [
    "reddit_account = RedditAccount(subreddit=subreddit, ddb=ddb, logger=logger)\n",
    "gather_urls = GatherUrls(subreddit=subreddit, logger=logger)\n",
    "REDDIT_API_URL_TOP = REDDIT_API_URL_TOP.replace('placeholder_value','funny')"
   ]
  },
  {
   "cell_type": "code",
   "execution_count": 8,
   "id": "a48c4333-7de7-4cf6-8b28-8160e402bbba",
   "metadata": {},
   "outputs": [
    {
     "ename": "AttributeError",
     "evalue": "module 'helpers' has no attribute 'ddb'",
     "output_type": "error",
     "traceback": [
      "\u001b[0;31m---------------------------------------------------------------------------\u001b[0m",
      "\u001b[0;31mAttributeError\u001b[0m                            Traceback (most recent call last)",
      "\u001b[0;32m/tmp/ipykernel_54484/2411379952.py\u001b[0m in \u001b[0;36m<module>\u001b[0;34m\u001b[0m\n\u001b[0;32m----> 1\u001b[0;31m \u001b[0mreddit_account\u001b[0m\u001b[0;34m.\u001b[0m\u001b[0mfetch_and_update_account_details\u001b[0m\u001b[0;34m(\u001b[0m\u001b[0mREDDIT_ACCOUNTS_TABLE_NAME\u001b[0m\u001b[0;34m)\u001b[0m\u001b[0;34m\u001b[0m\u001b[0;34m\u001b[0m\u001b[0m\n\u001b[0m\u001b[1;32m      2\u001b[0m \u001b[0mreddit_account\u001b[0m\u001b[0;34m.\u001b[0m\u001b[0mauthenticate_with_api\u001b[0m\u001b[0;34m(\u001b[0m\u001b[0;34m)\u001b[0m\u001b[0;34m\u001b[0m\u001b[0;34m\u001b[0m\u001b[0m\n",
      "\u001b[0;32m~/work/personal/whodoesntlovereddit/images/entities/RedditAccount.py\u001b[0m in \u001b[0;36mfetch_and_update_account_details\u001b[0;34m(self, REDDIT_ACCOUNTS_TABLE_NAME)\u001b[0m\n\u001b[1;32m     25\u001b[0m     \u001b[0;32mdef\u001b[0m \u001b[0mfetch_and_update_account_details\u001b[0m\u001b[0;34m(\u001b[0m\u001b[0mself\u001b[0m\u001b[0;34m,\u001b[0m \u001b[0mREDDIT_ACCOUNTS_TABLE_NAME\u001b[0m\u001b[0;34m)\u001b[0m\u001b[0;34m:\u001b[0m\u001b[0;34m\u001b[0m\u001b[0;34m\u001b[0m\u001b[0m\n\u001b[1;32m     26\u001b[0m \u001b[0;34m\u001b[0m\u001b[0m\n\u001b[0;32m---> 27\u001b[0;31m         item = helpers.ddb.get_item(\n\u001b[0m\u001b[1;32m     28\u001b[0m             \u001b[0mddb\u001b[0m\u001b[0;34m=\u001b[0m\u001b[0mself\u001b[0m\u001b[0;34m.\u001b[0m\u001b[0mddb\u001b[0m\u001b[0;34m,\u001b[0m\u001b[0;34m\u001b[0m\u001b[0;34m\u001b[0m\u001b[0m\n\u001b[1;32m     29\u001b[0m             \u001b[0mTableName\u001b[0m\u001b[0;34m=\u001b[0m\u001b[0mREDDIT_ACCOUNTS_TABLE_NAME\u001b[0m\u001b[0;34m,\u001b[0m\u001b[0;34m\u001b[0m\u001b[0;34m\u001b[0m\u001b[0m\n",
      "\u001b[0;31mAttributeError\u001b[0m: module 'helpers' has no attribute 'ddb'"
     ]
    }
   ],
   "source": [
    "reddit_account.fetch_and_update_account_details(REDDIT_ACCOUNTS_TABLE_NAME)\n",
    "reddit_account.authenticate_with_api()"
   ]
  },
  {
   "cell_type": "code",
   "execution_count": 5,
   "id": "ef200ec0-3a42-4fd1-a8b3-a7f20267dcdc",
   "metadata": {},
   "outputs": [],
   "source": [
    "reddit_account.fetch_and_update_access_token(REDDIT_AUTH_URL)"
   ]
  },
  {
   "cell_type": "code",
   "execution_count": 6,
   "id": "d53bb160-e5d7-460e-a397-e6cfe6ebf17d",
   "metadata": {},
   "outputs": [],
   "source": [
    "posts =  reddit_account.fetch_posts_as_json(REDDIT_API_URL_TOP)"
   ]
  },
  {
   "cell_type": "code",
   "execution_count": null,
   "id": "f84fc1d1-f1ea-45f6-86e5-87eb579aa28c",
   "metadata": {},
   "outputs": [],
   "source": []
  },
  {
   "cell_type": "code",
   "execution_count": 7,
   "id": "76e4ccc7-4279-4c0d-9478-c752c86c5b8f",
   "metadata": {
    "tags": []
   },
   "outputs": [
    {
     "name": "stderr",
     "output_type": "stream",
     "text": [
      "INFO:root:For funny on date: 2021-08-14\n",
      "INFO:root:('Post with title: I prototype stupid ideas and today I made a zip off bathing '\n",
      " 'suit with towel pant legs. with duration: 38s is added to eligible posts\\n')\n",
      "INFO:root:('Post with title: Kid runs on football pitch. Mom takes him down and carries '\n",
      " 'him back. with duration: 25s is added to eligible posts\\n')\n",
      "INFO:root:(\"Post with title: Dude; Where's my bike? with duration: 23s is added to \"\n",
      " 'eligible posts\\n')\n",
      "INFO:root:('Post with title: Yo! Hold the door! with duration: 12s is added to eligible '\n",
      " 'posts\\n')\n",
      "INFO:root:(\"Post with title: Garbage service isn't as safe as you think with duration: \"\n",
      " '28s is added to eligible posts\\n')\n",
      "INFO:root:('Post with title: and the Oscar goes to.... with duration: 16s is added to '\n",
      " 'eligible posts\\n')\n",
      "INFO:root:('Post with title: I re-edited the Matrix throat chop video to be something '\n",
      " 'other than potato quality. Enjoy! with duration: 35s is added to eligible '\n",
      " 'posts\\n')\n",
      "INFO:root:('Post with title: Turkey calls.... with duration: 25s is added to eligible '\n",
      " 'posts\\n')\n",
      "INFO:root:('Post with title: …….. just do it …….. with duration: 34s is added to '\n",
      " 'eligible posts\\n')\n",
      "INFO:root:(\"Post with title: An ad I wouldn't mind watching with duration: 30s is added \"\n",
      " 'to eligible posts\\n')\n",
      "INFO:root:('Post with title: You always need a hype man with duration: 20s is added to '\n",
      " 'eligible posts\\n')\n",
      "INFO:root:'Total duration for funny subreddit on 2021-08-14 is 286\\n'\n"
     ]
    }
   ],
   "source": [
    "gather_urls.parse_posts(posts)"
   ]
  },
  {
   "cell_type": "code",
   "execution_count": 8,
   "id": "791c8093-2287-4b37-b892-801c51f5b6eb",
   "metadata": {
    "tags": []
   },
   "outputs": [
    {
     "name": "stderr",
     "output_type": "stream",
     "text": [
      "INFO:root:('Serialized item is:\\n'\n",
      " \"{'PK': {'S': '2021-08-14'}, 'SK': {'S': 'funny'}, 'posts': {'L': [{'M': \"\n",
      " \"{'title': {'S': 'I prototype stupid ideas and today I made a zip off bathing \"\n",
      " \"suit with towel pant legs.'}, 'url': {'S': \"\n",
      " \"'https://v.redd.it/4nex55lbp6h71'}, 'upvote_ratio': {'N': '0.81'}, 'ups': \"\n",
      " \"{'N': '61550'}, 'author': {'S': 'rightcoastguy'}, 'name': {'S': \"\n",
      " \"'t3_p3tc8p'}, 'total_awards_received': {'N': '88'}}}, {'M': {'title': {'S': \"\n",
      " \"'Kid runs on football pitch. Mom takes him down and carries him back.'}, \"\n",
      " \"'url': {'S': 'https://v.redd.it/dyb2i0y666h71'}, 'upvote_ratio': {'N': \"\n",
      " \"'0.98'}, 'ups': {'N': '5844'}, 'author': {'S': 'justgossiping'}, 'name': \"\n",
      " \"{'S': 't3_p3r9r9'}, 'total_awards_received': {'N': '6'}}}, {'M': {'title': \"\n",
      " '{\\'S\\': \"Dude; Where\\'s my bike?\"}, \\'url\\': {\\'S\\': '\n",
      " \"'https://v.redd.it/fevwhi5nu7h71'}, 'upvote_ratio': {'N': '0.95'}, 'ups': \"\n",
      " \"{'N': '2212'}, 'author': {'S': 'WrickyB'}, 'name': {'S': 't3_p3xkk1'}, \"\n",
      " \"'total_awards_received': {'N': '3'}}}, {'M': {'title': {'S': 'Yo! Hold the \"\n",
      " \"door!'}, 'url': {'S': 'https://v.redd.it/nhxoz7ltebh71'}, 'upvote_ratio': \"\n",
      " \"{'N': '0.96'}, 'ups': {'N': '2992'}, 'author': {'S': 'noinu_dica_one'}, \"\n",
      " \"'name': {'S': 't3_p46xt6'}, 'total_awards_received': {'N': '3'}}}, {'M': \"\n",
      " '{\\'title\\': {\\'S\\': \"Garbage service isn\\'t as safe as you think\"}, \\'url\\': '\n",
      " \"{'S': 'https://v.redd.it/tjc9205777h71'}, 'upvote_ratio': {'N': '0.97'}, \"\n",
      " \"'ups': {'N': '1904'}, 'author': {'S': 'LFDT'}, 'name': {'S': 't3_p3vbok'}, \"\n",
      " \"'total_awards_received': {'N': '4'}}}, {'M': {'title': {'S': 'and the Oscar \"\n",
      " \"goes to....'}, 'url': {'S': 'https://v.redd.it/z8u9h2jz9bh71'}, \"\n",
      " \"'upvote_ratio': {'N': '0.97'}, 'ups': {'N': '2604'}, 'author': {'S': \"\n",
      " \"'Chapungu'}, 'name': {'S': 't3_p46jk1'}, 'total_awards_received': {'N': \"\n",
      " \"'3'}}}, {'M': {'title': {'S': 'I re-edited the Matrix throat chop video to \"\n",
      " \"be something other than potato quality. Enjoy!'}, 'url': {'S': \"\n",
      " \"'https://v.redd.it/oiabirp307h71'}, 'upvote_ratio': {'N': '0.94'}, 'ups': \"\n",
      " \"{'N': '1465'}, 'author': {'S': 'ChapoCumHouse'}, 'name': {'S': 't3_p3uj4j'}, \"\n",
      " \"'total_awards_received': {'N': '7'}}}, {'M': {'title': {'S': 'Turkey \"\n",
      " \"calls....'}, 'url': {'S': 'https://v.redd.it/0cb3ojs31bh71'}, \"\n",
      " \"'upvote_ratio': {'N': '0.94'}, 'ups': {'N': '1098'}, 'author': {'S': \"\n",
      " \"'tradsouthernmale'}, 'name': {'S': 't3_p45xtf'}, 'total_awards_received': \"\n",
      " \"{'N': '4'}}}, {'M': {'title': {'S': '…….. just do it ……..'}, 'url': {'S': \"\n",
      " \"'https://v.redd.it/eyzcv9rkp8h71'}, 'upvote_ratio': {'N': '0.89'}, 'ups': \"\n",
      " \"{'N': '576'}, 'author': {'S': 'Delphi00'}, 'name': {'S': 't3_p407hk'}, \"\n",
      " '\\'total_awards_received\\': {\\'N\\': \\'0\\'}}}, {\\'M\\': {\\'title\\': {\\'S\\': \"An '\n",
      " 'ad I wouldn\\'t mind watching\"}, \\'url\\': {\\'S\\': '\n",
      " \"'https://v.redd.it/kvmytl5f2ch71'}, 'upvote_ratio': {'N': '0.97'}, 'ups': \"\n",
      " \"{'N': '1758'}, 'author': {'S': 'Muhiaprime'}, 'name': {'S': 't3_p48z8n'}, \"\n",
      " \"'total_awards_received': {'N': '2'}}}, {'M': {'title': {'S': 'You always \"\n",
      " \"need a hype man'}, 'url': {'S': 'https://v.redd.it/i21uumnc96h71'}, \"\n",
      " \"'upvote_ratio': {'N': '0.86'}, 'ups': {'N': '316'}, 'author': {'S': \"\n",
      " \"'timetraveldan'}, 'name': {'S': 't3_p3rkbn'}, 'total_awards_received': {'N': \"\n",
      " \"'0'}}}]}}\\n\")\n"
     ]
    }
   ],
   "source": [
    "DAILY_UPLOADS_TABLE_NAME = \"DailyUploadsTable-dev\"\n",
    "TransactItems=[\n",
    "                {\n",
    "                    \"Put\": {\n",
    "                        \"TableName\": DAILY_UPLOADS_TABLE_NAME,\n",
    "                        \"Item\": gather_urls.serialize_to_item(),\n",
    "                    }\n",
    "                },\n",
    "                {\n",
    "                    \"Update\": {\n",
    "                        \"TableName\": DAILY_UPLOADS_TABLE_NAME,\n",
    "                        \"Key\": {\n",
    "                            \"PK\": {\"S\": '2013-12-12'},\n",
    "                            \"SK\": {\"S\": \"todays_subreddits_count\"},\n",
    "                        },\n",
    "                        \"ConditionExpression\": \"attribute_exists(PK) and attribute_exists(SK)\",\n",
    "                        \"UpdateExpression\": \"SET #count = #count + :inc\",\n",
    "                        \"ExpressionAttributeNames\": {\"#count\": \"count\"},\n",
    "                        \"ExpressionAttributeValues\": {\":inc\": {\"N\": \"1\"}},\n",
    "                    }\n",
    "                },\n",
    "            ]"
   ]
  },
  {
   "cell_type": "code",
   "execution_count": 2,
   "id": "cee59439-6088-48ed-907f-cf2db4369d45",
   "metadata": {},
   "outputs": [
    {
     "ename": "AttributeError",
     "evalue": "module 'helpers' has no attribute 'ddb'",
     "output_type": "error",
     "traceback": [
      "\u001b[0;31m---------------------------------------------------------------------------\u001b[0m",
      "\u001b[0;31mAttributeError\u001b[0m                            Traceback (most recent call last)",
      "\u001b[0;32m/tmp/ipykernel_54484/3010987924.py\u001b[0m in \u001b[0;36m<module>\u001b[0;34m\u001b[0m\n\u001b[1;32m      1\u001b[0m \u001b[0;32mimport\u001b[0m \u001b[0mhelpers\u001b[0m\u001b[0;34m\u001b[0m\u001b[0;34m\u001b[0m\u001b[0m\n\u001b[1;32m      2\u001b[0m \u001b[0;34m\u001b[0m\u001b[0m\n\u001b[0;32m----> 3\u001b[0;31m \u001b[0mresp\u001b[0m \u001b[0;34m=\u001b[0m \u001b[0mhelpers\u001b[0m\u001b[0;34m.\u001b[0m\u001b[0mddb\u001b[0m\u001b[0;34m.\u001b[0m\u001b[0mtransact_write_items\u001b[0m\u001b[0;34m(\u001b[0m\u001b[0mddb\u001b[0m\u001b[0;34m=\u001b[0m\u001b[0mddb\u001b[0m\u001b[0;34m,\u001b[0m\u001b[0mTransactItems\u001b[0m\u001b[0;34m=\u001b[0m\u001b[0mTransactItems\u001b[0m\u001b[0;34m,\u001b[0m\u001b[0mlogger\u001b[0m\u001b[0;34m=\u001b[0m\u001b[0mlogger\u001b[0m\u001b[0;34m)\u001b[0m\u001b[0;34m\u001b[0m\u001b[0;34m\u001b[0m\u001b[0m\n\u001b[0m",
      "\u001b[0;31mAttributeError\u001b[0m: module 'helpers' has no attribute 'ddb'"
     ]
    }
   ],
   "source": [
    "import helpers\n",
    "\n",
    "resp = helpers.ddb.transact_write_items(ddb=ddb,TransactItems=TransactItems,logger=logger)"
   ]
  },
  {
   "cell_type": "code",
   "execution_count": null,
   "id": "eab3e24c-2ccf-4c86-b87b-64ae2368e514",
   "metadata": {},
   "outputs": [],
   "source": []
  },
  {
   "cell_type": "code",
   "execution_count": null,
   "id": "08686cfe-7ecd-4d8b-8006-366b17ed18f0",
   "metadata": {},
   "outputs": [],
   "source": []
  },
  {
   "cell_type": "code",
   "execution_count": null,
   "id": "36d3d50c-12f5-4ec0-89fd-42c4996184d7",
   "metadata": {},
   "outputs": [],
   "source": [
    "the item from ddb.the item from ddb."
   ]
  },
  {
   "cell_type": "code",
   "execution_count": null,
   "id": "b3cdff92-fe08-4d4c-b76e-67cded7952b6",
   "metadata": {},
   "outputs": [],
   "source": []
  },
  {
   "cell_type": "code",
   "execution_count": null,
   "id": "ca73f8fe-d8f8-4611-86fc-989186340523",
   "metadata": {},
   "outputs": [],
   "source": []
  }
 ],
 "metadata": {
  "kernelspec": {
   "display_name": "Python 3.8.10 64-bit ('.venv': venv)",
   "language": "python",
   "name": "python3810jvsc74a57bd024b555649d86f360bc29675e4ea05747664583e96f16283f97272f664e30bb4e"
  },
  "language_info": {
   "codemirror_mode": {
    "name": "ipython",
    "version": 3
   },
   "file_extension": ".py",
   "mimetype": "text/x-python",
   "name": "python",
   "nbconvert_exporter": "python",
   "pygments_lexer": "ipython3",
   "version": "3.8.10"
  }
 },
 "nbformat": 4,
 "nbformat_minor": 5
}
