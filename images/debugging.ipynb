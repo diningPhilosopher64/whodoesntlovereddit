{
 "cells": [
  {
   "cell_type": "code",
   "execution_count": 1,
   "id": "2732d1c4-3a1d-4317-86c9-f9c563bfddac",
   "metadata": {},
   "outputs": [],
   "source": [
    "import boto3, logging, pprint\n",
    "from helpers import ddb as ddb_helpers\n",
    "from entities.GatherPosts import GatherPosts\n",
    "# Initialize logger and its config.\n",
    "logger = logging.getLogger()\n",
    "logger.setLevel(logging.INFO)\n",
    "\n",
    "pp = pprint.PrettyPrinter(indent=2, compact=True, width=30)"
   ]
  },
  {
   "cell_type": "code",
   "execution_count": null,
   "id": "74649738-cf21-4443-9ba8-ce37cb20e1fd",
   "metadata": {},
   "outputs": [],
   "source": []
  },
  {
   "cell_type": "code",
   "execution_count": 29,
   "id": "6f34c059-762f-4c17-9b90-aaa9024b0de1",
   "metadata": {},
   "outputs": [],
   "source": [
    "subreddits_group = ['funny']"
   ]
  },
  {
   "cell_type": "code",
   "execution_count": 30,
   "id": "a6506da7-a550-4b7c-a511-96ec1a8816f4",
   "metadata": {},
   "outputs": [],
   "source": [
    "transact_items = []\n",
    "for subreddit in subreddits_group:\n",
    "    gather_posts = GatherPosts(subreddit, logger)\n",
    "    transact_item = {\n",
    "        'Get': {\n",
    "            \"TableName\": 'DailyUploadsTable-dev',\n",
    "            \"Key\": gather_posts.key()            \n",
    "        }\n",
    "    }\n",
    "    transact_items.append(transact_item)\n",
    "\n",
    "kwargs = {'TransactItems': transact_items} "
   ]
  },
  {
   "cell_type": "code",
   "execution_count": 31,
   "id": "a20a5599-130e-4256-b7b0-dcff7cb39aee",
   "metadata": {},
   "outputs": [
    {
     "name": "stdout",
     "output_type": "stream",
     "text": [
      "{ 'TransactItems': [ { 'Get': { 'Key': { 'PK': { 'S': '2021-08-23'},\n",
      "                                         'SK': { 'S': 'funny'}},\n",
      "                                'TableName': 'DailyUploadsTable-dev'}}]}\n"
     ]
    }
   ],
   "source": [
    "pp.pprint(kwargs)"
   ]
  },
  {
   "cell_type": "code",
   "execution_count": 32,
   "id": "d6c584fc-8496-488c-bfa7-bf110b408c86",
   "metadata": {},
   "outputs": [],
   "source": [
    "ddb = boto3.client('dynamodb')\n",
    "subreddit_items = ddb_helpers.transact_get_items(ddb, logger=logger, **kwargs)"
   ]
  },
  {
   "cell_type": "code",
   "execution_count": 33,
   "id": "b5602c02-8ea0-496d-8627-1055611db15a",
   "metadata": {
    "collapsed": true,
    "jupyter": {
     "outputs_hidden": true
    },
    "tags": []
   },
   "outputs": [
    {
     "data": {
      "text/plain": [
       "[{'posts': {'L': [{'M': {'duration': {'N': '42'},\n",
       "      'upvote_ratio': {'N': '0.85'},\n",
       "      'author': {'S': 'dmabrokenframe'},\n",
       "      'name': {'S': 't3_p9nf0j'},\n",
       "      'ups': {'N': '92356'},\n",
       "      'title': {'S': 'The Rock surprising a Celeb tour bus'},\n",
       "      'total_awards_received': {'N': '342'},\n",
       "      'url': {'S': 'https://v.redd.it/spw7o8oktzi71'}}},\n",
       "    {'M': {'duration': {'N': '99'},\n",
       "      'upvote_ratio': {'N': '0.88'},\n",
       "      'author': {'S': 'avabosco'},\n",
       "      'name': {'S': 't3_p9p4l4'},\n",
       "      'ups': {'N': '8804'},\n",
       "      'title': {'S': 'For my brother’s 21st birthday I went with an unconventional present'},\n",
       "      'total_awards_received': {'N': '13'},\n",
       "      'url': {'S': 'https://v.redd.it/d20a88wyb0j71'}}},\n",
       "    {'M': {'duration': {'N': '34'},\n",
       "      'upvote_ratio': {'N': '0.93'},\n",
       "      'author': {'S': 'TheOfficialAK'},\n",
       "      'name': {'S': 't3_p9x0xy'},\n",
       "      'ups': {'N': '2206'},\n",
       "      'title': {'S': 'Setting a good example'},\n",
       "      'total_awards_received': {'N': '1'},\n",
       "      'url': {'S': 'https://v.redd.it/5kcalthi43j71'}}},\n",
       "    {'M': {'duration': {'N': '7'},\n",
       "      'upvote_ratio': {'N': '0.98'},\n",
       "      'author': {'S': 'shobijatoi19'},\n",
       "      'name': {'S': 't3_p9yc36'},\n",
       "      'ups': {'N': '1905'},\n",
       "      'title': {'S': 'Damn he got the whole squad laughing!'},\n",
       "      'total_awards_received': {'N': '4'},\n",
       "      'url': {'S': 'https://v.redd.it/jx0lmpznk3j71'}}},\n",
       "    {'M': {'duration': {'N': '28'},\n",
       "      'upvote_ratio': {'N': '0.88'},\n",
       "      'author': {'S': 'Billy_Lo'},\n",
       "      'name': {'S': 't3_p9uofc'},\n",
       "      'ups': {'N': '1553'},\n",
       "      'title': {'S': 'Working out in nature has risks'},\n",
       "      'total_awards_received': {'N': '2'},\n",
       "      'url': {'S': 'https://v.redd.it/l1grx0rg62j71'}}},\n",
       "    {'M': {'duration': {'N': '6'},\n",
       "      'upvote_ratio': {'N': '0.94'},\n",
       "      'author': {'S': 'neary-aerial'},\n",
       "      'name': {'S': 't3_p9h2or'},\n",
       "      'ups': {'N': '943'},\n",
       "      'title': {'S': 'Disappearing cat...'},\n",
       "      'total_awards_received': {'N': '0'},\n",
       "      'url': {'S': 'https://v.redd.it/h9na3g6h5yi71'}}},\n",
       "    {'M': {'duration': {'N': '54'},\n",
       "      'upvote_ratio': {'N': '0.96'},\n",
       "      'author': {'S': 'noobyonekenobi'},\n",
       "      'name': {'S': 't3_p9tlub'},\n",
       "      'ups': {'N': '991'},\n",
       "      'title': {'S': 'Rat spy blew his cover'},\n",
       "      'total_awards_received': {'N': '4'},\n",
       "      'url': {'S': 'https://v.redd.it/wmjljtqbr1j71'}}},\n",
       "    {'M': {'duration': {'N': '277'},\n",
       "      'upvote_ratio': {'N': '0.97'},\n",
       "      'author': {'S': 'PrivatePilot9'},\n",
       "      'name': {'S': 't3_pa04ep'},\n",
       "      'ups': {'N': '1131'},\n",
       "      'title': {'S': \"Angry 80's Winnebago salesman having a nonstop stream of meltdowns.\"},\n",
       "      'total_awards_received': {'N': '5'},\n",
       "      'url': {'S': 'https://v.redd.it/jbqh1lwc34j71'}}},\n",
       "    {'M': {'duration': {'N': '15'},\n",
       "      'upvote_ratio': {'N': '0.9'},\n",
       "      'author': {'S': 'DamageSource'},\n",
       "      'name': {'S': 't3_p9iiho'},\n",
       "      'ups': {'N': '560'},\n",
       "      'title': {'S': \"As a recent single father, I'm learning how to efficiently dry my daughter's hair after a shower\"},\n",
       "      'total_awards_received': {'N': '5'},\n",
       "      'url': {'S': 'https://v.redd.it/vn8temlbiyi71'}}},\n",
       "    {'M': {'duration': {'N': '19'},\n",
       "      'upvote_ratio': {'N': '0.95'},\n",
       "      'author': {'S': 'AdLongjumping9918'},\n",
       "      'name': {'S': 't3_p9yvy1'},\n",
       "      'ups': {'N': '495'},\n",
       "      'title': {'S': 'Upset frog'},\n",
       "      'total_awards_received': {'N': '1'},\n",
       "      'url': {'S': 'https://v.redd.it/x70wmuq7o3j71'}}},\n",
       "    {'M': {'duration': {'N': '105'},\n",
       "      'upvote_ratio': {'N': '0.83'},\n",
       "      'author': {'S': 'BentLongChip'},\n",
       "      'name': {'S': 't3_p9i51b'},\n",
       "      'ups': {'N': '348'},\n",
       "      'title': {'S': 'The sad story of a tank'},\n",
       "      'total_awards_received': {'N': '9'},\n",
       "      'url': {'S': 'https://v.redd.it/dvt45i7ueyi71'}}},\n",
       "    {'M': {'duration': {'N': '35'},\n",
       "      'upvote_ratio': {'N': '0.69'},\n",
       "      'author': {'S': 'stoshif10'},\n",
       "      'name': {'S': 't3_p9jiug'},\n",
       "      'ups': {'N': '308'},\n",
       "      'title': {'S': 'Try again dude you can'},\n",
       "      'total_awards_received': {'N': '5'},\n",
       "      'url': {'S': 'https://v.redd.it/15nkr0lqryi71'}}},\n",
       "    {'M': {'duration': {'N': '32'},\n",
       "      'upvote_ratio': {'N': '0.85'},\n",
       "      'author': {'S': 'MrTripsOnTheory'},\n",
       "      'name': {'S': 't3_p9hm0m'},\n",
       "      'ups': {'N': '207'},\n",
       "      'title': {'S': 'This is the kind of middle school teacher that my friend became'},\n",
       "      'total_awards_received': {'N': '1'},\n",
       "      'url': {'S': 'https://v.redd.it/z305pv93ayi71'}}},\n",
       "    {'M': {'duration': {'N': '11'},\n",
       "      'upvote_ratio': {'N': '0.87'},\n",
       "      'author': {'S': 'TawanaMcgowan'},\n",
       "      'name': {'S': 't3_p9zywv'},\n",
       "      'ups': {'N': '254'},\n",
       "      'title': {'S': 'Strange Doctor...'},\n",
       "      'total_awards_received': {'N': '0'},\n",
       "      'url': {'S': 'https://v.redd.it/1d93qf2gy3j71'}}},\n",
       "    {'M': {'duration': {'N': '285'},\n",
       "      'upvote_ratio': {'N': '0.76'},\n",
       "      'author': {'S': 'AlwaysAngryFox'},\n",
       "      'name': {'S': 't3_p9qq00'},\n",
       "      'ups': {'N': '136'},\n",
       "      'title': {'S': 'More Rare Vines. Get them while you can'},\n",
       "      'total_awards_received': {'N': '0'},\n",
       "      'url': {'S': 'https://v.redd.it/5q1qfhh3t0j71'}}},\n",
       "    {'M': {'duration': {'N': '7'},\n",
       "      'upvote_ratio': {'N': '0.85'},\n",
       "      'author': {'S': 'jimcreighton12'},\n",
       "      'name': {'S': 't3_p9fs5a'},\n",
       "      'ups': {'N': '108'},\n",
       "      'title': {'S': 'A hurricane is always the best time to go outside'},\n",
       "      'total_awards_received': {'N': '0'},\n",
       "      'url': {'S': 'https://v.redd.it/uay7188ftxi71'}}},\n",
       "    {'M': {'duration': {'N': '27'},\n",
       "      'upvote_ratio': {'N': '0.86'},\n",
       "      'author': {'S': 'FranDes'},\n",
       "      'name': {'S': 't3_p9pll4'},\n",
       "      'ups': {'N': '111'},\n",
       "      'title': {'S': 'If golf and soccer switched announcers'},\n",
       "      'total_awards_received': {'N': '0'},\n",
       "      'url': {'S': 'https://v.redd.it/3hpk3fqzg0j71'}}},\n",
       "    {'M': {'duration': {'N': '6'},\n",
       "      'upvote_ratio': {'N': '0.91'},\n",
       "      'author': {'S': 'TheKingOfDub'},\n",
       "      'name': {'S': 't3_p9lgv6'},\n",
       "      'ups': {'N': '103'},\n",
       "      'title': {'S': 'The sound of a chipmunk running with a mouth full of peanuts'},\n",
       "      'total_awards_received': {'N': '1'},\n",
       "      'url': {'S': 'https://v.redd.it/lkc0auv3azi71'}}},\n",
       "    {'M': {'duration': {'N': '13'},\n",
       "      'upvote_ratio': {'N': '0.81'},\n",
       "      'author': {'S': 'EstelaLightfoot'},\n",
       "      'name': {'S': 't3_p9zuq1'},\n",
       "      'ups': {'N': '91'},\n",
       "      'title': {'S': 'Supportive mom.'},\n",
       "      'total_awards_received': {'N': '0'},\n",
       "      'url': {'S': 'https://v.redd.it/5itgxk0az3j71'}}},\n",
       "    {'M': {'duration': {'N': '8'},\n",
       "      'upvote_ratio': {'N': '0.84'},\n",
       "      'author': {'S': 'shobijatoi19'},\n",
       "      'name': {'S': 't3_p9y8n1'},\n",
       "      'ups': {'N': '89'},\n",
       "      'title': {'S': 'Why does he sound like a warning siren'},\n",
       "      'total_awards_received': {'N': '0'},\n",
       "      'url': {'S': 'https://v.redd.it/9q5mwqskj3j71'}}},\n",
       "    {'M': {'duration': {'N': '101'},\n",
       "      'upvote_ratio': {'N': '0.83'},\n",
       "      'author': {'S': 'SMJ_2003'},\n",
       "      'name': {'S': 't3_p9qhnq'},\n",
       "      'ups': {'N': '62'},\n",
       "      'title': {'S': 'I can’t stop laughing'},\n",
       "      'total_awards_received': {'N': '4'},\n",
       "      'url': {'S': 'https://v.redd.it/817st9yoq0j71'}}},\n",
       "    {'M': {'duration': {'N': '43'},\n",
       "      'upvote_ratio': {'N': '0.8'},\n",
       "      'author': {'S': 'kolosman'},\n",
       "      'name': {'S': 't3_p9xkkd'},\n",
       "      'ups': {'N': '60'},\n",
       "      'title': {'S': 'human carousel looks fun'},\n",
       "      'total_awards_received': {'N': '0'},\n",
       "      'url': {'S': 'https://v.redd.it/bwdok0hdb3j71'}}},\n",
       "    {'M': {'duration': {'N': '12'},\n",
       "      'upvote_ratio': {'N': '0.74'},\n",
       "      'author': {'S': 'The_JF-JEFF'},\n",
       "      'name': {'S': 't3_p9fpd8'},\n",
       "      'ups': {'N': '57'},\n",
       "      'title': {'S': 'Probably staged, but it made me laugh'},\n",
       "      'total_awards_received': {'N': '1'},\n",
       "      'url': {'S': 'https://v.redd.it/gqqzr7losxi71'}}},\n",
       "    {'M': {'duration': {'N': '30'},\n",
       "      'upvote_ratio': {'N': '0.8'},\n",
       "      'author': {'S': 'aitwal'},\n",
       "      'name': {'S': 't3_p9nzh4'},\n",
       "      'ups': {'N': '52'},\n",
       "      'title': {'S': 'My cousin’s 18 month old son interacting with google nest. Smart boy!'},\n",
       "      'total_awards_received': {'N': '0'},\n",
       "      'url': {'S': 'https://v.redd.it/vubro2xlzzi71'}}},\n",
       "    {'M': {'duration': {'N': '4'},\n",
       "      'upvote_ratio': {'N': '0.78'},\n",
       "      'author': {'S': 'Neko_Chan101'},\n",
       "      'name': {'S': 't3_p9q5v2'},\n",
       "      'ups': {'N': '49'},\n",
       "      'title': {'S': 'Hoot Hoot'},\n",
       "      'total_awards_received': {'N': '0'},\n",
       "      'url': {'S': 'https://v.redd.it/53a4mh85n0j71'}}},\n",
       "    {'M': {'duration': {'N': '5'},\n",
       "      'upvote_ratio': {'N': '0.88'},\n",
       "      'author': {'S': 'Interestingplant1'},\n",
       "      'name': {'S': 't3_p9l70a'},\n",
       "      'ups': {'N': '49'},\n",
       "      'title': {'S': 'Short straw'},\n",
       "      'total_awards_received': {'N': '0'},\n",
       "      'url': {'S': 'https://v.redd.it/7gui6g2f7zi71'}}}]},\n",
       "  'SK': {'S': 'funny'},\n",
       "  'PK': {'S': '2021-08-23'}}]"
      ]
     },
     "execution_count": 33,
     "metadata": {},
     "output_type": "execute_result"
    }
   ],
   "source": [
    "subreddit_items"
   ]
  },
  {
   "cell_type": "code",
   "execution_count": 34,
   "id": "75f68db9-a357-4982-a1bb-f6225e610374",
   "metadata": {},
   "outputs": [],
   "source": [
    "objects = ['beep.mp4', 'good_old_rub_credited.mp4', 'hehe_boi_credited.mp4', 'noice.mp4', 'please_stand_by.mp4', 'please_stand_by_ca.mp4',\n",
    "\t'please_stand_by.mp4', 'please_stand_by_ca.mp4','please_stand_by_youtube.mp4', 'slap_credited.mp4',\n",
    "\t'please_stand_by_youtube.mp4', 'slap_credited.mp4'] "
   ]
  },
  {
   "cell_type": "code",
   "execution_count": 53,
   "id": "2b2c6624-0fa9-482b-af95-0ab6af2b0227",
   "metadata": {},
   "outputs": [
    {
     "data": {
      "text/plain": [
       "'noice.mp4'"
      ]
     },
     "execution_count": 53,
     "metadata": {},
     "output_type": "execute_result"
    }
   ],
   "source": [
    "import random\n",
    "objects[random.randint(0, len(objects))]"
   ]
  },
  {
   "cell_type": "code",
   "execution_count": 54,
   "id": "1deb5043-54e4-465a-b1ff-11d1fecbb66d",
   "metadata": {},
   "outputs": [
    {
     "name": "stdout",
     "output_type": "stream",
     "text": [
      "6\n",
      "please_stand_by.mp4\n",
      "10\n",
      "please_stand_by_youtube.mp4\n",
      "9\n",
      "slap_credited.mp4\n",
      "8\n",
      "please_stand_by_youtube.mp4\n",
      "12\n"
     ]
    },
    {
     "ename": "IndexError",
     "evalue": "list index out of range",
     "output_type": "error",
     "traceback": [
      "\u001b[0;31m---------------------------------------------------------------------------\u001b[0m",
      "\u001b[0;31mIndexError\u001b[0m                                Traceback (most recent call last)",
      "\u001b[0;32m/tmp/ipykernel_75375/769487451.py\u001b[0m in \u001b[0;36m<module>\u001b[0;34m\u001b[0m\n\u001b[1;32m      2\u001b[0m     \u001b[0mrand_index\u001b[0m \u001b[0;34m=\u001b[0m \u001b[0mrandom\u001b[0m\u001b[0;34m.\u001b[0m\u001b[0mrandint\u001b[0m\u001b[0;34m(\u001b[0m\u001b[0;36m0\u001b[0m\u001b[0;34m,\u001b[0m \u001b[0mlen\u001b[0m\u001b[0;34m(\u001b[0m\u001b[0mobjects\u001b[0m\u001b[0;34m)\u001b[0m\u001b[0;34m)\u001b[0m\u001b[0;34m\u001b[0m\u001b[0;34m\u001b[0m\u001b[0m\n\u001b[1;32m      3\u001b[0m     \u001b[0mprint\u001b[0m\u001b[0;34m(\u001b[0m\u001b[0mrand_index\u001b[0m\u001b[0;34m)\u001b[0m\u001b[0;34m\u001b[0m\u001b[0;34m\u001b[0m\u001b[0m\n\u001b[0;32m----> 4\u001b[0;31m     \u001b[0mprint\u001b[0m\u001b[0;34m(\u001b[0m\u001b[0mobjects\u001b[0m\u001b[0;34m[\u001b[0m\u001b[0mrand_index\u001b[0m\u001b[0;34m]\u001b[0m\u001b[0;34m)\u001b[0m\u001b[0;34m\u001b[0m\u001b[0;34m\u001b[0m\u001b[0m\n\u001b[0m\u001b[1;32m      5\u001b[0m \u001b[0;34m\u001b[0m\u001b[0m\n",
      "\u001b[0;31mIndexError\u001b[0m: list index out of range"
     ]
    }
   ],
   "source": [
    "for i in range(100):\n",
    "    rand_index = random.randint(0, len(objects))\n",
    "    print(rand_index)\n",
    "    print(objects[rand_index])\n",
    "    "
   ]
  },
  {
   "cell_type": "code",
   "execution_count": 16,
   "id": "086a29d2-9bfc-484f-be85-296e005ec055",
   "metadata": {},
   "outputs": [],
   "source": [
    "import os, boto3, logging\n",
    "from helpers import s3 as s3_helpers\n",
    "\n",
    "s3 = boto3.client('s3')\n",
    "# Initialize logger and its config.\n",
    "logger = logging.getLogger()\n",
    "logger.setLevel(logging.INFO)\n"
   ]
  },
  {
   "cell_type": "code",
   "execution_count": 57,
   "id": "910e3599-0781-48b0-bd0b-1a234244f644",
   "metadata": {
    "collapsed": true,
    "jupyter": {
     "outputs_hidden": true
    },
    "tags": []
   },
   "outputs": [
    {
     "name": "stdout",
     "output_type": "stream",
     "text": [
      "t3_p8bvoq.mp4\n",
      "t3_p8kt0o.mp4\n",
      "t3_p81jhe.mp4\n",
      "t3_p8gcdf.mp4\n",
      "t3_p8f9r6.mp4\n",
      "t3_p83aey.mp4\n",
      "t3_p8idhu.mp4\n",
      "t3_p8nof5.mp4\n",
      "t3_p8n7pv.mp4\n",
      "t3_p8bnpl.mp4\n",
      "t3_p8lbwz.mp4\n",
      "t3_p82nvt.mp4\n",
      "t3_p8gxmr.mp4\n",
      "t3_p8jqy2.mp4\n",
      ".ipynb_checkpoints\n",
      "t3_p8bys5.mp4\n",
      "video_processing.ipynb\n",
      "t3_p8lyl3.mp4\n",
      "t3_p8ne7e.mp4\n",
      "t3_p87ssw.mp4\n",
      "t3_p8gm46.mp4\n",
      "t3_p8j2r7.mp4\n",
      "t3_p8j9me.mp4\n",
      "t3_p8ibwq.mp4\n",
      "t3_p8ha4q.mp4\n",
      "t3_p8id2y.mp4\n",
      "t3_p8lju9.mp4\n",
      "t3_p8jzx6.mp4\n",
      "t3_p87a63.mp4\n",
      "t3_p8j5ps.mp4\n"
     ]
    }
   ],
   "source": [
    "processed_files = os.listdir('../vids')\n",
    "for processed_file in processed_files:\n",
    "    print(processed_file)"
   ]
  },
  {
   "cell_type": "code",
   "execution_count": 9,
   "id": "e67fe184-6303-4469-8d3d-8fd624e3a266",
   "metadata": {},
   "outputs": [],
   "source": [
    "params = {\"Bucket\": 'whodoesntlovereddit-transitions'}\n",
    "objects = s3_helpers.list_objects_v2(s3, logger, **params)"
   ]
  },
  {
   "cell_type": "code",
   "execution_count": 10,
   "id": "2e28814c-3cd1-4415-847d-10da6a4ed1e9",
   "metadata": {},
   "outputs": [
    {
     "data": {
      "text/plain": [
       "['beep.mp4',\n",
       " 'good_old_rub_credited.mp4',\n",
       " 'hehe_boi_credited.mp4',\n",
       " 'noice.mp4',\n",
       " 'please_stand_by.mp4',\n",
       " 'please_stand_by_ca.mp4',\n",
       " 'please_stand_by_youtube.mp4',\n",
       " 'slap_credited.mp4']"
      ]
     },
     "execution_count": 10,
     "metadata": {},
     "output_type": "execute_result"
    }
   ],
   "source": [
    "objects"
   ]
  },
  {
   "cell_type": "code",
   "execution_count": 11,
   "id": "9d401a07-52cc-4f67-8527-f7fb3222de9a",
   "metadata": {},
   "outputs": [
    {
     "data": {
      "text/plain": [
       "'noice.mp4'"
      ]
     },
     "execution_count": 11,
     "metadata": {},
     "output_type": "execute_result"
    }
   ],
   "source": [
    "objects[3]"
   ]
  },
  {
   "cell_type": "code",
   "execution_count": null,
   "id": "64a9c301-45d4-4a14-ae6a-c395fb6c6c16",
   "metadata": {},
   "outputs": [
    {
     "name": "stdout",
     "output_type": "stream",
     "text": [
      "/home/sourabh/work/personal/whodoesntlovereddit/images/please_stand_by_ca.mp4\n"
     ]
    }
   ],
   "source": [
    "transition_clips = {}\n",
    "transition_clips_set = set()\n",
    "\n",
    "transition_clips['t3_abcd'] = objects[3]\n",
    "transition_clips['t3_def'] = objects[2]\n",
    "transition_clips['t3_a'] = objects[3]\n",
    "transition_clips['t3_cd'] = objects[5]\n",
    "\n",
    "transition_clips_set.add(objects[3])\n",
    "transition_clips_set.add(objects[2])\n",
    "transition_clips_set.add(objects[5])\n",
    "\n",
    "for clip in transition_clips_set:\n",
    "    print(os.path.join(os.getcwd(), clip))\n",
    "    params = {\n",
    "        \"Bucket\": 'whodoesntlovereddit-transitions',\n",
    "        \"Key\": clip,\n",
    "        \"Filename\": os.path.join(os.getcwd(), clip)\n",
    "    }\n",
    "    \n",
    "    s3_helpers.download_file(s3, logger, **params)\n",
    "    \n"
   ]
  },
  {
   "cell_type": "code",
   "execution_count": 35,
   "id": "c7867077-6e45-4643-b652-792e94f13d68",
   "metadata": {},
   "outputs": [],
   "source": [
    "import os, logging\n",
    "\n",
    "from moviepy.editor import *\n",
    "os.chdir('/tmp/temp')"
   ]
  },
  {
   "cell_type": "code",
   "execution_count": 36,
   "id": "a5e5b200-19b6-4663-be98-a6d54386b97d",
   "metadata": {},
   "outputs": [],
   "source": [
    "intro_clip = VideoFileClip('intro_2.mp4')"
   ]
  },
  {
   "cell_type": "code",
   "execution_count": 37,
   "id": "b186522e-47dd-46b9-9ea7-cd41ead5fe94",
   "metadata": {},
   "outputs": [],
   "source": [
    "transition_clip = VideoFileClip('noice.mp4')"
   ]
  },
  {
   "cell_type": "code",
   "execution_count": 38,
   "id": "4ac7e0aa-d522-4be9-af94-9de75fd699e6",
   "metadata": {},
   "outputs": [],
   "source": [
    "video_clip = VideoFileClip('t3_p9uofc.mp4')"
   ]
  },
  {
   "cell_type": "code",
   "execution_count": 39,
   "id": "3b6a87ea-2d47-4eaf-afa7-35c59fc83a25",
   "metadata": {},
   "outputs": [
    {
     "data": {
      "text/plain": [
       "(30.0, 25.0, 30.0)"
      ]
     },
     "execution_count": 39,
     "metadata": {},
     "output_type": "execute_result"
    }
   ],
   "source": [
    "intro_clip.fps, transition_clip.fps, video_clip.fps"
   ]
  },
  {
   "cell_type": "code",
   "execution_count": 40,
   "id": "3e5dfbd1-0761-409d-8f31-41a992befc56",
   "metadata": {},
   "outputs": [],
   "source": [
    "fps = video_clip.fps\n",
    "duration = video_clip.reader.duration\n",
    "size = video_clip.size\n",
    "w, h = video_clip.size"
   ]
  },
  {
   "cell_type": "code",
   "execution_count": 41,
   "id": "40b694d1-f2b7-4e7a-b9e8-805c8d77bf4f",
   "metadata": {},
   "outputs": [],
   "source": [
    "watermark_clip = TextClip(\n",
    "    \"@VidsFromAroundTheInternet\",\n",
    "    fontsize=20,\n",
    "    color=\"white\",\n",
    "    size=[w, 30],\n",
    "    align=\"East\",\n",
    ")\n",
    "watermark_clip = watermark_clip.set_duration(duration).set_fps(fps)\n",
    "watermark_clip = watermark_clip.set_pos((\"bottom\"))\n",
    "logger.info(f\"Generated watermark_clip for the post with name : t3_p9uofc\")"
   ]
  },
  {
   "cell_type": "code",
   "execution_count": 42,
   "id": "eda751a3-a30c-484f-9c46-f85458a2364a",
   "metadata": {},
   "outputs": [],
   "source": [
    "title_clip = TextClip(\n",
    "    \"hello\",\n",
    "    fontsize=18,\n",
    "    color=\"white\",\n",
    "    size=[w, 24],\n",
    "    align=\"West\",\n",
    "    stroke_width=1.5,\n",
    ")\n",
    "\n",
    "# words per sec\n",
    "wps = 3\n",
    "title_clip_duration = min(2 / wps, duration / 2)\n",
    "title_clip = title_clip.set_pos((\"top\"))\n",
    "title_clip = title_clip.set_duration(title_clip_duration).set_fps(fps)\n",
    "logger.info(f\"Generated title_clip for the post with name : hello\")"
   ]
  },
  {
   "cell_type": "code",
   "execution_count": 43,
   "id": "6223caa1-b5ef-4077-9e50-421b4e0af940",
   "metadata": {},
   "outputs": [],
   "source": [
    "processed_clip = CompositeVideoClip(\n",
    "            [video_clip, title_clip, watermark_clip], size=size\n",
    "        )"
   ]
  },
  {
   "cell_type": "code",
   "execution_count": 44,
   "id": "be5137ae-bda0-409e-b131-09e4302e0c7a",
   "metadata": {
    "tags": []
   },
   "outputs": [
    {
     "name": "stderr",
     "output_type": "stream",
     "text": [
      "\n",
      "\u001b[A                                                                                                            \n",
      "t:   0%|▏                                                      | 2/861 [40:45<291:45:31, 1222.74s/it, now=None]\u001b[A\n",
      "\u001b[A                                                                                                            \n",
      "t:   0%|▏                                                      | 2/861 [40:45<291:45:32, 1222.74s/it, now=None]\u001b[A"
     ]
    },
    {
     "name": "stdout",
     "output_type": "stream",
     "text": [
      "Moviepy - Building video temp.mp4.\n",
      "MoviePy - Writing audio in tempTEMP_MPY_wvf_snd.mp3\n"
     ]
    },
    {
     "name": "stderr",
     "output_type": "stream",
     "text": [
      "                                                                                                               \n",
      "\u001b[A                                                                                                            \n",
      "t:   0%|▏                                                      | 2/861 [40:45<291:48:45, 1222.96s/it, now=None]\u001b[A\n",
      "\u001b[A                                                                                                            \n",
      "t:   0%|▏                                                      | 2/861 [40:45<291:48:45, 1222.96s/it, now=None]\u001b[A"
     ]
    },
    {
     "name": "stdout",
     "output_type": "stream",
     "text": [
      "MoviePy - Done.\n",
      "Moviepy - Writing video temp.mp4\n",
      "\n"
     ]
    },
    {
     "name": "stderr",
     "output_type": "stream",
     "text": [
      "                                                                                                               \n",
      "\u001b[A                                                                                                            \n",
      "t:   0%|▏                                                      | 2/861 [40:49<292:17:39, 1224.98s/it, now=None]\u001b[A\n",
      "\u001b[A                                                                                                            \n",
      "t:   0%|▏                                                      | 2/861 [40:49<292:17:40, 1224.98s/it, now=None]\u001b[A"
     ]
    },
    {
     "name": "stdout",
     "output_type": "stream",
     "text": [
      "Moviepy - Done !\n",
      "Moviepy - video ready temp.mp4\n"
     ]
    }
   ],
   "source": [
    "processed_clip.write_videofile('temp.mp4')"
   ]
  },
  {
   "cell_type": "code",
   "execution_count": 33,
   "id": "c8fa4b90-6428-4f88-af89-c64c6c761363",
   "metadata": {},
   "outputs": [
    {
     "ename": "SyntaxError",
     "evalue": "invalid syntax (3864763808.py, line 3)",
     "output_type": "error",
     "traceback": [
      "\u001b[0;36m  File \u001b[0;32m\"/tmp/ipykernel_73454/3864763808.py\"\u001b[0;36m, line \u001b[0;32m3\u001b[0m\n\u001b[0;31m    final_clip.write_videofile('temp.mp4', fps=)\u001b[0m\n\u001b[0m                                               ^\u001b[0m\n\u001b[0;31mSyntaxError\u001b[0m\u001b[0;31m:\u001b[0m invalid syntax\n"
     ]
    }
   ],
   "source": [
    "final_clip = concatenate_videoclips([intro_clip, video_clip, transition_clip], )\n",
    "\n",
    "final_clip.write_videofile('temp.mp4', fps=)"
   ]
  },
  {
   "cell_type": "code",
   "execution_count": 48,
   "id": "b4235859-f6e9-4df8-921e-2c3c97924063",
   "metadata": {},
   "outputs": [
    {
     "name": "stdout",
     "output_type": "stream",
     "text": [
      "intro_2.mp4  noice.mp4\toutput.mp4  t3_p9uofc.mp4  temp.mp4\n"
     ]
    }
   ],
   "source": [
    "! ls"
   ]
  },
  {
   "cell_type": "code",
   "execution_count": 51,
   "id": "76aae1f5-720a-4374-9da1-eeba37f511d7",
   "metadata": {
    "collapsed": true,
    "jupyter": {
     "outputs_hidden": true
    },
    "tags": []
   },
   "outputs": [
    {
     "name": "stdout",
     "output_type": "stream",
     "text": [
      "ffmpeg version 4.2.4-1ubuntu0.1 Copyright (c) 2000-2020 the FFmpeg developers\n",
      "  built with gcc 9 (Ubuntu 9.3.0-10ubuntu2)\n",
      "  configuration: --prefix=/usr --extra-version=1ubuntu0.1 --toolchain=hardened --libdir=/usr/lib/x86_64-linux-gnu --incdir=/usr/include/x86_64-linux-gnu --arch=amd64 --enable-gpl --disable-stripping --enable-avresample --disable-filter=resample --enable-avisynth --enable-gnutls --enable-ladspa --enable-libaom --enable-libass --enable-libbluray --enable-libbs2b --enable-libcaca --enable-libcdio --enable-libcodec2 --enable-libflite --enable-libfontconfig --enable-libfreetype --enable-libfribidi --enable-libgme --enable-libgsm --enable-libjack --enable-libmp3lame --enable-libmysofa --enable-libopenjpeg --enable-libopenmpt --enable-libopus --enable-libpulse --enable-librsvg --enable-librubberband --enable-libshine --enable-libsnappy --enable-libsoxr --enable-libspeex --enable-libssh --enable-libtheora --enable-libtwolame --enable-libvidstab --enable-libvorbis --enable-libvpx --enable-libwavpack --enable-libwebp --enable-libx265 --enable-libxml2 --enable-libxvid --enable-libzmq --enable-libzvbi --enable-lv2 --enable-omx --enable-openal --enable-opencl --enable-opengl --enable-sdl2 --enable-libdc1394 --enable-libdrm --enable-libiec61883 --enable-nvenc --enable-chromaprint --enable-frei0r --enable-libx264 --enable-shared\n",
      "  libavutil      56. 31.100 / 56. 31.100\n",
      "  libavcodec     58. 54.100 / 58. 54.100\n",
      "  libavformat    58. 29.100 / 58. 29.100\n",
      "  libavdevice    58.  8.100 / 58.  8.100\n",
      "  libavfilter     7. 57.100 /  7. 57.100\n",
      "  libavresample   4.  0.  0 /  4.  0.  0\n",
      "  libswscale      5.  5.100 /  5.  5.100\n",
      "  libswresample   3.  5.100 /  3.  5.100\n",
      "  libpostproc    55.  5.100 / 55.  5.100\n",
      "\u001b[0;35m[mov,mp4,m4a,3gp,3g2,mj2 @ 0x55f28838a6c0] \u001b[0m\u001b[0;33mFound duplicated MOOV Atom. Skipped it\n",
      "\u001b[0mInput #0, mov,mp4,m4a,3gp,3g2,mj2, from 'concat:temp.mp4|noice.mp4':\n",
      "  Metadata:\n",
      "    encoder         : Lavf58.29.100\n",
      "    major_brand     : isom\n",
      "    minor_version   : 512\n",
      "    compatible_brands: isomiso2avc1mp41\n",
      "  Duration: 00:00:28.74, start: 0.000000, bitrate: 1479 kb/s\n",
      "    Stream #0:0(und): Video: h264 (High) (avc1 / 0x31637661), yuv420p, 404x720, 1323 kb/s, 30 fps, 30 tbr, 15360 tbn, 60 tbc (default)\n",
      "    Metadata:\n",
      "      handler_name    : VideoHandler\n",
      "    Stream #0:1(und): Audio: mp3 (mp4a / 0x6134706D), 44100 Hz, stereo, fltp, 127 kb/s (default)\n",
      "    Metadata:\n",
      "      handler_name    : SoundHandler\n",
      "Output #0, mp4, to 'output.mp4':\n",
      "  Metadata:\n",
      "    compatible_brands: isomiso2avc1mp41\n",
      "    major_brand     : isom\n",
      "    minor_version   : 512\n",
      "    encoder         : Lavf58.29.100\n",
      "    Stream #0:0(und): Video: h264 (High) (avc1 / 0x31637661), yuv420p, 404x720, q=2-31, 1323 kb/s, 30 fps, 30 tbr, 15360 tbn, 15360 tbc (default)\n",
      "    Metadata:\n",
      "      handler_name    : VideoHandler\n",
      "    Stream #0:1(und): Audio: mp3 (mp4a / 0x6134706D), 44100 Hz, stereo, fltp, 127 kb/s (default)\n",
      "    Metadata:\n",
      "      handler_name    : SoundHandler\n",
      "Stream mapping:\n",
      "  Stream #0:0 -> #0:0 (copy)\n",
      "  Stream #0:1 -> #0:1 (copy)\n",
      "Press [q] to stop, [?] for help\n",
      "frame=  861 fps=0.0 q=-1.0 Lsize=    5108kB time=00:00:28.68 bitrate=1458.9kbits/s speed=3.73e+03x    \n",
      "video:4635kB audio:449kB subtitle:0kB other streams:0kB global headers:0kB muxing overhead: 0.472507%\n"
     ]
    }
   ],
   "source": [
    "! ffmpeg -i \"concat:temp.mp4|noice.mp4\" -codec copy output.mp4"
   ]
  },
  {
   "cell_type": "code",
   "execution_count": 3,
   "id": "411d7b14-89d2-444b-9746-13430212841e",
   "metadata": {},
   "outputs": [],
   "source": [
    "import youtube_dl, logging"
   ]
  },
  {
   "cell_type": "code",
   "execution_count": 6,
   "id": "1f27f185-e248-44d7-8e69-77da1277a3ce",
   "metadata": {},
   "outputs": [],
   "source": [
    "ydl_opts = {\n",
    "            \"format\": \"bestvideo[ext=mp4]+bestaudio[ext=m4a]/best[ext=mp4]/best\",\n",
    "#     \"format\": \"bestvideo+bestaudio/best[ext=mkv]/best\",\n",
    "            \"logger\": logging.getLogger(),\n",
    "            \"outtmpl\": \"hello\",\n",
    "        }"
   ]
  },
  {
   "cell_type": "code",
   "execution_count": 7,
   "id": "40556e82-8643-48cf-baf7-2b969d5860ae",
   "metadata": {},
   "outputs": [],
   "source": [
    "with youtube_dl.YoutubeDL(ydl_opts) as ydl:\n",
    "    ydl.download(['https://v.redd.it/5kcalthi43j71'])"
   ]
  },
  {
   "cell_type": "code",
   "execution_count": 97,
   "id": "d9f86944-d634-4d30-b5d1-b2ee91fb49a9",
   "metadata": {},
   "outputs": [
    {
     "data": {
      "text/plain": [
       "'/tmp/temp'"
      ]
     },
     "execution_count": 97,
     "metadata": {},
     "output_type": "execute_result"
    }
   ],
   "source": [
    "os.getcwd()"
   ]
  },
  {
   "cell_type": "code",
   "execution_count": 114,
   "id": "461961a0-41b0-47f9-9cb3-6d2b5969f457",
   "metadata": {
    "collapsed": true,
    "jupyter": {
     "outputs_hidden": true
    },
    "tags": []
   },
   "outputs": [
    {
     "name": "stdout",
     "output_type": "stream",
     "text": [
      "ffmpeg version 4.2.4-1ubuntu0.1 Copyright (c) 2000-2020 the FFmpeg developers\n",
      "  built with gcc 9 (Ubuntu 9.3.0-10ubuntu2)\n",
      "  configuration: --prefix=/usr --extra-version=1ubuntu0.1 --toolchain=hardened --libdir=/usr/lib/x86_64-linux-gnu --incdir=/usr/include/x86_64-linux-gnu --arch=amd64 --enable-gpl --disable-stripping --enable-avresample --disable-filter=resample --enable-avisynth --enable-gnutls --enable-ladspa --enable-libaom --enable-libass --enable-libbluray --enable-libbs2b --enable-libcaca --enable-libcdio --enable-libcodec2 --enable-libflite --enable-libfontconfig --enable-libfreetype --enable-libfribidi --enable-libgme --enable-libgsm --enable-libjack --enable-libmp3lame --enable-libmysofa --enable-libopenjpeg --enable-libopenmpt --enable-libopus --enable-libpulse --enable-librsvg --enable-librubberband --enable-libshine --enable-libsnappy --enable-libsoxr --enable-libspeex --enable-libssh --enable-libtheora --enable-libtwolame --enable-libvidstab --enable-libvorbis --enable-libvpx --enable-libwavpack --enable-libwebp --enable-libx265 --enable-libxml2 --enable-libxvid --enable-libzmq --enable-libzvbi --enable-lv2 --enable-omx --enable-openal --enable-opencl --enable-opengl --enable-sdl2 --enable-libdc1394 --enable-libdrm --enable-libiec61883 --enable-nvenc --enable-chromaprint --enable-frei0r --enable-libx264 --enable-shared\n",
      "  libavutil      56. 31.100 / 56. 31.100\n",
      "  libavcodec     58. 54.100 / 58. 54.100\n",
      "  libavformat    58. 29.100 / 58. 29.100\n",
      "  libavdevice    58.  8.100 / 58.  8.100\n",
      "  libavfilter     7. 57.100 /  7. 57.100\n",
      "  libavresample   4.  0.  0 /  4.  0.  0\n",
      "  libswscale      5.  5.100 /  5.  5.100\n",
      "  libswresample   3.  5.100 /  3.  5.100\n",
      "  libpostproc    55.  5.100 / 55.  5.100\n",
      "Input #0, mov,mp4,m4a,3gp,3g2,mj2, from '3.mp4':\n",
      "  Metadata:\n",
      "    major_brand     : isom\n",
      "    minor_version   : 512\n",
      "    compatible_brands: isomiso2avc1mp41\n",
      "    encoder         : Lavf58.29.100\n",
      "  Duration: 00:00:02.04, start: 0.000000, bitrate: 320 kb/s\n",
      "    Stream #0:0(und): Video: h264 (High) (avc1 / 0x31637661), yuv420p, 480x270, 183 kb/s, 25 fps, 25 tbr, 12800 tbn, 50 tbc (default)\n",
      "    Metadata:\n",
      "      handler_name    : VideoHandler\n",
      "    Stream #0:1(und): Audio: mp3 (mp4a / 0x6134706D), 44100 Hz, stereo, fltp, 127 kb/s (default)\n",
      "    Metadata:\n",
      "      handler_name    : SoundHandler\n",
      "Stream mapping:\n",
      "  Stream #0:0 -> #0:0 (h264 (native) -> h264 (libx264))\n",
      "  Stream #0:1 -> #0:1 (mp3 (mp3float) -> ac3 (native))\n",
      "Press [q] to stop, [?] for help\n",
      "\u001b[1;36m[libx264 @ 0x558926b5b4c0] \u001b[0musing cpu capabilities: MMX2 SSE2Fast SSSE3 SSE4.2 AVX FMA3 BMI2 AVX2\n",
      "\u001b[1;36m[libx264 @ 0x558926b5b4c0] \u001b[0mprofile High, level 2.1\n",
      "\u001b[1;36m[libx264 @ 0x558926b5b4c0] \u001b[0m264 - core 155 r2917 0a84d98 - H.264/MPEG-4 AVC codec - Copyleft 2003-2018 - http://www.videolan.org/x264.html - options: cabac=1 ref=3 deblock=1:0:0 analyse=0x3:0x113 me=hex subme=7 psy=1 psy_rd=1.00:0.00 mixed_ref=1 me_range=16 chroma_me=1 trellis=1 8x8dct=1 cqm=0 deadzone=21,11 fast_pskip=1 chroma_qp_offset=-2 threads=8 lookahead_threads=1 sliced_threads=0 nr=0 decimate=1 interlaced=0 bluray_compat=0 constrained_intra=0 bframes=3 b_pyramid=2 b_adapt=1 b_bias=0 direct=1 weightb=1 open_gop=0 weightp=2 keyint=250 keyint_min=25 scenecut=40 intra_refresh=0 rc_lookahead=40 rc=crf mbtree=1 crf=23.0 qcomp=0.60 qpmin=0 qpmax=69 qpstep=4 ip_ratio=1.40 aq=1:1.00\n",
      "Output #0, matroska, to '3_.mkv':\n",
      "  Metadata:\n",
      "    major_brand     : isom\n",
      "    minor_version   : 512\n",
      "    compatible_brands: isomiso2avc1mp41\n",
      "    encoder         : Lavf58.29.100\n",
      "    Stream #0:0(und): Video: h264 (libx264) (H264 / 0x34363248), yuv420p, 480x270, q=-1--1, 25 fps, 1k tbn, 25 tbc (default)\n",
      "    Metadata:\n",
      "      handler_name    : VideoHandler\n",
      "      encoder         : Lavc58.54.100 libx264\n",
      "    Side data:\n",
      "      cpb: bitrate max/min/avg: 0/0/0 buffer size: 0 vbv_delay: -1\n",
      "    Stream #0:1(und): Audio: ac3 ([0] [0][0] / 0x2000), 44100 Hz, stereo, fltp, 192 kb/s (default)\n",
      "    Metadata:\n",
      "      handler_name    : SoundHandler\n",
      "      encoder         : Lavc58.54.100 ac3\n",
      "frame=   50 fps=0.0 q=-1.0 Lsize=      90kB time=00:00:02.01 bitrate= 367.3kbits/s speed=22.4x    \n",
      "video:41kB audio:47kB subtitle:0kB other streams:0kB global headers:0kB muxing overhead: 2.090116%\n",
      "\u001b[1;36m[libx264 @ 0x558926b5b4c0] \u001b[0mframe I:1     Avg QP:18.73  size:  5999\n",
      "\u001b[1;36m[libx264 @ 0x558926b5b4c0] \u001b[0mframe P:14    Avg QP:22.24  size:  1788\n",
      "\u001b[1;36m[libx264 @ 0x558926b5b4c0] \u001b[0mframe B:35    Avg QP:27.59  size:   298\n",
      "\u001b[1;36m[libx264 @ 0x558926b5b4c0] \u001b[0mconsecutive B-frames:  4.0%  8.0%  0.0% 88.0%\n",
      "\u001b[1;36m[libx264 @ 0x558926b5b4c0] \u001b[0mmb I  I16..4: 31.4% 52.4% 16.3%\n",
      "\u001b[1;36m[libx264 @ 0x558926b5b4c0] \u001b[0mmb P  I16..4:  2.2%  3.5%  0.5%  P16..4: 30.4% 12.7%  5.8%  0.0%  0.0%    skip:44.9%\n",
      "\u001b[1;36m[libx264 @ 0x558926b5b4c0] \u001b[0mmb B  I16..4:  0.1%  0.2%  0.0%  B16..8: 27.5%  2.6%  0.3%  direct: 0.4%  skip:68.9%  L0:45.1% L1:49.6% BI: 5.4%\n",
      "\u001b[1;36m[libx264 @ 0x558926b5b4c0] \u001b[0m8x8 transform intra:54.8% inter:66.7%\n",
      "\u001b[1;36m[libx264 @ 0x558926b5b4c0] \u001b[0mcoded y,uvDC,uvAC intra: 33.0% 40.5% 11.7% inter: 5.1% 4.7% 0.0%\n",
      "\u001b[1;36m[libx264 @ 0x558926b5b4c0] \u001b[0mi16 v,h,dc,p: 48% 21% 10% 20%\n",
      "\u001b[1;36m[libx264 @ 0x558926b5b4c0] \u001b[0mi8 v,h,dc,ddl,ddr,vr,hd,vl,hu: 34% 15% 33%  3%  2%  3%  3%  3%  3%\n",
      "\u001b[1;36m[libx264 @ 0x558926b5b4c0] \u001b[0mi4 v,h,dc,ddl,ddr,vr,hd,vl,hu: 28% 18% 17%  4%  7%  7%  9%  4%  6%\n",
      "\u001b[1;36m[libx264 @ 0x558926b5b4c0] \u001b[0mi8c dc,h,v,p: 64% 13% 17%  6%\n",
      "\u001b[1;36m[libx264 @ 0x558926b5b4c0] \u001b[0mWeighted P-Frames: Y:0.0% UV:0.0%\n",
      "\u001b[1;36m[libx264 @ 0x558926b5b4c0] \u001b[0mref P L0: 71.0%  8.9% 15.0%  5.1%\n",
      "\u001b[1;36m[libx264 @ 0x558926b5b4c0] \u001b[0mref B L0: 90.6%  7.9%  1.5%\n",
      "\u001b[1;36m[libx264 @ 0x558926b5b4c0] \u001b[0mref B L1: 97.4%  2.6%\n",
      "\u001b[1;36m[libx264 @ 0x558926b5b4c0] \u001b[0mkb/s:165.78\n"
     ]
    }
   ],
   "source": [
    "! ffmpeg \\\n",
    "-i 3.mp4 \\\n",
    "-vcodec libx264 \\\n",
    "-acodec ac3 \\\n",
    "3_.mkv -y"
   ]
  },
  {
   "cell_type": "code",
   "execution_count": 121,
   "id": "f9ea7d5f-e48b-4459-b97d-9512494e36b8",
   "metadata": {},
   "outputs": [],
   "source": [
    "# ! ffmpeg -i 2.mkv"
   ]
  },
  {
   "cell_type": "code",
   "execution_count": 123,
   "id": "0e613ad1-a386-4603-8d1b-911a379c4edc",
   "metadata": {},
   "outputs": [],
   "source": [
    "# ! ffmpeg -i 1.mkv -i 2.mkv -i ending.mkv \\\n",
    "# -filter_complex \"[0:v] [0:a] [1:v] [1:a] [2:v] [2:a] \\\n",
    "# concat=n=3:v=1:a=1 [v] [a]\" \\\n",
    "# -map \"[v]\" -map \"[a]\" output.mkv"
   ]
  },
  {
   "cell_type": "code",
   "execution_count": 10,
   "id": "e2f560a1-1edf-4f89-a3ed-606a9828703c",
   "metadata": {},
   "outputs": [],
   "source": [
    "! touch list.txt\n"
   ]
  },
  {
   "cell_type": "code",
   "execution_count": 116,
   "id": "71c00755-20c4-47f5-9ebd-b1bae67e4f51",
   "metadata": {
    "collapsed": true,
    "jupyter": {
     "outputs_hidden": true
    },
    "tags": []
   },
   "outputs": [
    {
     "name": "stdout",
     "output_type": "stream",
     "text": [
      "ffmpeg version 4.2.4-1ubuntu0.1 Copyright (c) 2000-2020 the FFmpeg developers\n",
      "  built with gcc 9 (Ubuntu 9.3.0-10ubuntu2)\n",
      "  configuration: --prefix=/usr --extra-version=1ubuntu0.1 --toolchain=hardened --libdir=/usr/lib/x86_64-linux-gnu --incdir=/usr/include/x86_64-linux-gnu --arch=amd64 --enable-gpl --disable-stripping --enable-avresample --disable-filter=resample --enable-avisynth --enable-gnutls --enable-ladspa --enable-libaom --enable-libass --enable-libbluray --enable-libbs2b --enable-libcaca --enable-libcdio --enable-libcodec2 --enable-libflite --enable-libfontconfig --enable-libfreetype --enable-libfribidi --enable-libgme --enable-libgsm --enable-libjack --enable-libmp3lame --enable-libmysofa --enable-libopenjpeg --enable-libopenmpt --enable-libopus --enable-libpulse --enable-librsvg --enable-librubberband --enable-libshine --enable-libsnappy --enable-libsoxr --enable-libspeex --enable-libssh --enable-libtheora --enable-libtwolame --enable-libvidstab --enable-libvorbis --enable-libvpx --enable-libwavpack --enable-libwebp --enable-libx265 --enable-libxml2 --enable-libxvid --enable-libzmq --enable-libzvbi --enable-lv2 --enable-omx --enable-openal --enable-opencl --enable-opengl --enable-sdl2 --enable-libdc1394 --enable-libdrm --enable-libiec61883 --enable-nvenc --enable-chromaprint --enable-frei0r --enable-libx264 --enable-shared\n",
      "  libavutil      56. 31.100 / 56. 31.100\n",
      "  libavcodec     58. 54.100 / 58. 54.100\n",
      "  libavformat    58. 29.100 / 58. 29.100\n",
      "  libavdevice    58.  8.100 / 58.  8.100\n",
      "  libavfilter     7. 57.100 /  7. 57.100\n",
      "  libavresample   4.  0.  0 /  4.  0.  0\n",
      "  libswscale      5.  5.100 /  5.  5.100\n",
      "  libswresample   3.  5.100 /  3.  5.100\n",
      "  libpostproc    55.  5.100 / 55.  5.100\n",
      "\u001b[0;35m[matroska,webm @ 0x560d09abf700] \u001b[0mAuto-inserting h264_mp4toannexb bitstream filter\n",
      "Input #0, concat, from 'list.txt':\n",
      "  Duration: N/A, start: 0.000000, bitrate: N/A\n",
      "    Stream #0:0: Video: h264 (High), yuv420p(progressive), 1920x1080 [SAR 1:1 DAR 16:9], 30 fps, 30 tbr, 1k tbn, 60 tbc\n",
      "    Metadata:\n",
      "      HANDLER_NAME    : VideoHandler\n",
      "      ENCODER         : Lavc58.54.100 libx264\n",
      "      DURATION        : 00:00:06.306000000\n",
      "    Stream #0:1: Audio: ac3, 44100 Hz, stereo, fltp, 192 kb/s\n",
      "    Metadata:\n",
      "      HANDLER_NAME    : SoundHandler\n",
      "      ENCODER         : Lavc58.54.100 ac3\n",
      "      DURATION        : 00:00:06.339000000\n",
      "\u001b[1;35m[mp4 @ 0x560d09adffc0] \u001b[0m\u001b[0;33mtrack 1: codec frame size is not set\n",
      "\u001b[0mOutput #0, mp4, to 'final.mp4':\n",
      "  Metadata:\n",
      "    encoder         : Lavf58.29.100\n",
      "    Stream #0:0: Video: h264 (High) (avc1 / 0x31637661), yuv420p(progressive), 1920x1080 [SAR 1:1 DAR 16:9], q=2-31, 30 fps, 30 tbr, 16k tbn, 1k tbc\n",
      "    Metadata:\n",
      "      HANDLER_NAME    : VideoHandler\n",
      "      ENCODER         : Lavc58.54.100 libx264\n",
      "      DURATION        : 00:00:06.306000000\n",
      "    Stream #0:1: Audio: ac3 (ac-3 / 0x332D6361), 44100 Hz, stereo, fltp, 192 kb/s\n",
      "    Metadata:\n",
      "      HANDLER_NAME    : SoundHandler\n",
      "      ENCODER         : Lavc58.54.100 ac3\n",
      "      DURATION        : 00:00:06.339000000\n",
      "Stream mapping:\n",
      "  Stream #0:0 -> #0:0 (copy)\n",
      "  Stream #0:1 -> #0:1 (copy)\n",
      "Press [q] to stop, [?] for help\n",
      "\u001b[0;35m[matroska,webm @ 0x560d09b26800] \u001b[0mAuto-inserting h264_mp4toannexb bitstream filter\n",
      "\u001b[0;35m[matroska,webm @ 0x560d09abf6c0] \u001b[0mAuto-inserting h264_mp4toannexb bitstream filter\n",
      "frame= 1280 fps=0.0 q=-1.0 Lsize=    2558kB time=00:00:43.07 bitrate= 486.4kbits/s speed=1.93e+03x    \n",
      "video:1505kB audio:1010kB subtitle:0kB other streams:0kB global headers:0kB muxing overhead: 1.694237%\n"
     ]
    }
   ],
   "source": [
    "! ffmpeg -f concat -safe 0 -i list.txt -c copy final.mp4 -y"
   ]
  },
  {
   "cell_type": "code",
   "execution_count": null,
   "id": "3f5e9f8d-f6e0-4eb2-a5d0-5937a2a880e1",
   "metadata": {},
   "outputs": [],
   "source": []
  },
  {
   "cell_type": "code",
   "execution_count": null,
   "id": "c5ccf4f3-cd34-4b50-a393-99e1074dd5d1",
   "metadata": {},
   "outputs": [],
   "source": []
  },
  {
   "cell_type": "code",
   "execution_count": null,
   "id": "7e80df69-3a5c-49cf-8df5-8caf78781375",
   "metadata": {},
   "outputs": [],
   "source": []
  },
  {
   "cell_type": "code",
   "execution_count": 138,
   "id": "9651dad6-5aed-41c5-a5ab-62215cb79574",
   "metadata": {},
   "outputs": [
    {
     "data": {
      "text/plain": [
       "'/tmp/temp'"
      ]
     },
     "execution_count": 138,
     "metadata": {},
     "output_type": "execute_result"
    }
   ],
   "source": [
    "os.getcwd()"
   ]
  },
  {
   "cell_type": "code",
   "execution_count": 102,
   "id": "1bfedb89-9ddc-4b17-a72e-ab529f5560eb",
   "metadata": {},
   "outputs": [],
   "source": [
    "from moviepy.editor import *"
   ]
  },
  {
   "cell_type": "code",
   "execution_count": 104,
   "id": "77d1eb11-5421-43a3-9346-8668fc364cae",
   "metadata": {},
   "outputs": [],
   "source": [
    "intro_clip = VideoFileClip('1_.mp4')\n",
    "video_clip = VideoFileClip('2_.mp4')\n",
    "transition_clip = VideoFileClip('3_.mp4')"
   ]
  },
  {
   "cell_type": "code",
   "execution_count": 50,
   "id": "cff374c2-fbc6-4f2e-882a-852ec0f52cac",
   "metadata": {},
   "outputs": [],
   "source": [
    "# ydl_opts = {\n",
    "#             \"format\": \"bestvideo[ext=mp4]+bestaudio[ext=m4a]/best[ext=mp4]/best\",\n",
    "#             \"logger\": logging.getLogger(),\n",
    "#             \"outtmpl\": \"output.mp4\",\n",
    "#         }"
   ]
  },
  {
   "cell_type": "code",
   "execution_count": 51,
   "id": "ce083544-6deb-4223-a42c-806c3a95fe50",
   "metadata": {},
   "outputs": [],
   "source": [
    "# with youtube_dl.YoutubeDL(ydl_opts) as ydl:\n",
    "#     ydl.download(['https://v.redd.it/5kcalthi43j71'])"
   ]
  },
  {
   "cell_type": "code",
   "execution_count": 107,
   "id": "6aec37d9-2728-40bb-a7fd-fbf0b06aff43",
   "metadata": {},
   "outputs": [],
   "source": [
    "final_clip = concatenate_videoclips([intro_clip, video_clip, transition_clip], method='compose')"
   ]
  },
  {
   "cell_type": "code",
   "execution_count": 108,
   "id": "e624d8d5-ff02-4a15-8fda-8cec5d799cac",
   "metadata": {},
   "outputs": [
    {
     "name": "stdout",
     "output_type": "stream",
     "text": [
      "Moviepy - Building video final1.mp4.\n",
      "MoviePy - Writing audio in final1TEMP_MPY_wvf_snd.mp3\n"
     ]
    },
    {
     "name": "stderr",
     "output_type": "stream",
     "text": [
      "                                                                                                                                                                \r"
     ]
    },
    {
     "name": "stdout",
     "output_type": "stream",
     "text": [
      "MoviePy - Done.\n",
      "Moviepy - Writing video final1.mp4\n",
      "\n"
     ]
    },
    {
     "name": "stderr",
     "output_type": "stream",
     "text": [
      "                                                                                                                                                                \r"
     ]
    },
    {
     "name": "stdout",
     "output_type": "stream",
     "text": [
      "Moviepy - Done !\n",
      "Moviepy - video ready final1.mp4\n"
     ]
    }
   ],
   "source": [
    "final_clip.write_videofile('final1.mp4')"
   ]
  },
  {
   "cell_type": "code",
   "execution_count": null,
   "id": "837c399d-31f6-4f4e-942d-5d628425016e",
   "metadata": {},
   "outputs": [],
   "source": []
  },
  {
   "cell_type": "code",
   "execution_count": null,
   "id": "2a6d2f60-0dbb-49ea-aa98-15361f1ef4da",
   "metadata": {},
   "outputs": [],
   "source": []
  },
  {
   "cell_type": "code",
   "execution_count": null,
   "id": "153de3c4-5190-46ae-af16-231d7b44a708",
   "metadata": {},
   "outputs": [],
   "source": []
  },
  {
   "cell_type": "code",
   "execution_count": 69,
   "id": "5f040e45-0873-4226-aa81-9fd50eb7bb3c",
   "metadata": {
    "collapsed": true,
    "jupyter": {
     "outputs_hidden": true
    },
    "tags": []
   },
   "outputs": [
    {
     "name": "stdout",
     "output_type": "stream",
     "text": [
      "ffmpeg version 4.2.4-1ubuntu0.1 Copyright (c) 2000-2020 the FFmpeg developers\n",
      "  built with gcc 9 (Ubuntu 9.3.0-10ubuntu2)\n",
      "  configuration: --prefix=/usr --extra-version=1ubuntu0.1 --toolchain=hardened --libdir=/usr/lib/x86_64-linux-gnu --incdir=/usr/include/x86_64-linux-gnu --arch=amd64 --enable-gpl --disable-stripping --enable-avresample --disable-filter=resample --enable-avisynth --enable-gnutls --enable-ladspa --enable-libaom --enable-libass --enable-libbluray --enable-libbs2b --enable-libcaca --enable-libcdio --enable-libcodec2 --enable-libflite --enable-libfontconfig --enable-libfreetype --enable-libfribidi --enable-libgme --enable-libgsm --enable-libjack --enable-libmp3lame --enable-libmysofa --enable-libopenjpeg --enable-libopenmpt --enable-libopus --enable-libpulse --enable-librsvg --enable-librubberband --enable-libshine --enable-libsnappy --enable-libsoxr --enable-libspeex --enable-libssh --enable-libtheora --enable-libtwolame --enable-libvidstab --enable-libvorbis --enable-libvpx --enable-libwavpack --enable-libwebp --enable-libx265 --enable-libxml2 --enable-libxvid --enable-libzmq --enable-libzvbi --enable-lv2 --enable-omx --enable-openal --enable-opencl --enable-opengl --enable-sdl2 --enable-libdc1394 --enable-libdrm --enable-libiec61883 --enable-nvenc --enable-chromaprint --enable-frei0r --enable-libx264 --enable-shared\n",
      "  libavutil      56. 31.100 / 56. 31.100\n",
      "  libavcodec     58. 54.100 / 58. 54.100\n",
      "  libavformat    58. 29.100 / 58. 29.100\n",
      "  libavdevice    58.  8.100 / 58.  8.100\n",
      "  libavfilter     7. 57.100 /  7. 57.100\n",
      "  libavresample   4.  0.  0 /  4.  0.  0\n",
      "  libswscale      5.  5.100 /  5.  5.100\n",
      "  libswresample   3.  5.100 /  3.  5.100\n",
      "  libpostproc    55.  5.100 / 55.  5.100\n",
      "Input #0, mov,mp4,m4a,3gp,3g2,mj2, from 'hello.mp4':\n",
      "  Metadata:\n",
      "    major_brand     : isom\n",
      "    minor_version   : 512\n",
      "    compatible_brands: isomiso2avc1mp41\n",
      "    encoder         : Lavf58.29.100\n",
      "  Duration: 00:00:34.73, start: 0.000000, bitrate: 1365 kb/s\n",
      "    Stream #0:0(und): Video: h264 (Main) (avc1 / 0x31637661), yuv420p(tv, bt709), 358x480 [SAR 357:358 DAR 119:160], 1230 kb/s, 30 fps, 30 tbr, 12k tbn, 60 tbc (default)\n",
      "    Metadata:\n",
      "      handler_name    : Bento4 Video Handler\n",
      "    Stream #0:1(und): Audio: aac (LC) (mp4a / 0x6134706D), 48000 Hz, stereo, fltp, 128 kb/s (default)\n",
      "    Metadata:\n",
      "      handler_name    : Bento4 Sound Handler\n",
      "Output #0, mpegts, to 'intermediate2.ts':\n",
      "  Metadata:\n",
      "    major_brand     : isom\n",
      "    minor_version   : 512\n",
      "    compatible_brands: isomiso2avc1mp41\n",
      "    encoder         : Lavf58.29.100\n",
      "    Stream #0:0(und): Video: h264 (Main) (avc1 / 0x31637661), yuv420p(tv, bt709), 358x480 [SAR 357:358 DAR 119:160], q=2-31, 1230 kb/s, 30 fps, 30 tbr, 90k tbn, 12k tbc (default)\n",
      "    Metadata:\n",
      "      handler_name    : Bento4 Video Handler\n",
      "    Stream #0:1(und): Audio: aac (LC) (mp4a / 0x6134706D), 48000 Hz, stereo, fltp, 128 kb/s (default)\n",
      "    Metadata:\n",
      "      handler_name    : Bento4 Sound Handler\n",
      "Stream mapping:\n",
      "  Stream #0:0 -> #0:0 (copy)\n",
      "  Stream #0:1 -> #0:1 (copy)\n",
      "Press [q] to stop, [?] for help\n",
      "frame= 1041 fps=0.0 q=-1.0 Lsize=    6368kB time=00:00:34.70 bitrate=1503.0kbits/s speed=2.48e+03x    \n",
      "video:5214kB audio:544kB subtitle:0kB other streams:0kB global headers:0kB muxing overhead: 10.606824%\n"
     ]
    }
   ],
   "source": [
    "! ffmpeg -i hello.mp4 -c copy -bsf:v h264_mp4toannexb -f mpegts intermediate2.ts"
   ]
  },
  {
   "cell_type": "code",
   "execution_count": 70,
   "id": "6f5bdf14-9312-4ea6-a0b3-0d4a29ae919e",
   "metadata": {
    "collapsed": true,
    "jupyter": {
     "outputs_hidden": true
    },
    "tags": []
   },
   "outputs": [
    {
     "name": "stdout",
     "output_type": "stream",
     "text": [
      "ffmpeg version 4.2.4-1ubuntu0.1 Copyright (c) 2000-2020 the FFmpeg developers\n",
      "  built with gcc 9 (Ubuntu 9.3.0-10ubuntu2)\n",
      "  configuration: --prefix=/usr --extra-version=1ubuntu0.1 --toolchain=hardened --libdir=/usr/lib/x86_64-linux-gnu --incdir=/usr/include/x86_64-linux-gnu --arch=amd64 --enable-gpl --disable-stripping --enable-avresample --disable-filter=resample --enable-avisynth --enable-gnutls --enable-ladspa --enable-libaom --enable-libass --enable-libbluray --enable-libbs2b --enable-libcaca --enable-libcdio --enable-libcodec2 --enable-libflite --enable-libfontconfig --enable-libfreetype --enable-libfribidi --enable-libgme --enable-libgsm --enable-libjack --enable-libmp3lame --enable-libmysofa --enable-libopenjpeg --enable-libopenmpt --enable-libopus --enable-libpulse --enable-librsvg --enable-librubberband --enable-libshine --enable-libsnappy --enable-libsoxr --enable-libspeex --enable-libssh --enable-libtheora --enable-libtwolame --enable-libvidstab --enable-libvorbis --enable-libvpx --enable-libwavpack --enable-libwebp --enable-libx265 --enable-libxml2 --enable-libxvid --enable-libzmq --enable-libzvbi --enable-lv2 --enable-omx --enable-openal --enable-opencl --enable-opengl --enable-sdl2 --enable-libdc1394 --enable-libdrm --enable-libiec61883 --enable-nvenc --enable-chromaprint --enable-frei0r --enable-libx264 --enable-shared\n",
      "  libavutil      56. 31.100 / 56. 31.100\n",
      "  libavcodec     58. 54.100 / 58. 54.100\n",
      "  libavformat    58. 29.100 / 58. 29.100\n",
      "  libavdevice    58.  8.100 / 58.  8.100\n",
      "  libavfilter     7. 57.100 /  7. 57.100\n",
      "  libavresample   4.  0.  0 /  4.  0.  0\n",
      "  libswscale      5.  5.100 /  5.  5.100\n",
      "  libswresample   3.  5.100 /  3.  5.100\n",
      "  libpostproc    55.  5.100 / 55.  5.100\n",
      "Input #0, mpegts, from 'concat:intermediate1.ts|intermediate2.ts':\n",
      "  Duration: 00:00:34.66, start: 1.443444, bitrate: 1613 kb/s\n",
      "  Program 1 \n",
      "    Metadata:\n",
      "      service_name    : Service01\n",
      "      service_provider: FFmpeg\n",
      "    Stream #0:0[0x100]: Video: h264 (High) ([27][0][0][0] / 0x001B), yuv420p(tv, bt709, progressive), 1920x1080 [SAR 1:1 DAR 16:9], 30 fps, 30 tbr, 90k tbn, 60 tbc\n",
      "    Stream #0:1[0x101](und): Audio: aac (LC) ([15][0][0][0] / 0x000F), 44100 Hz, stereo, fltp, 182 kb/s\n",
      "Output #0, mp4, to 'output.mp4':\n",
      "  Metadata:\n",
      "    encoder         : Lavf58.29.100\n",
      "    Stream #0:0: Video: h264 (High) (avc1 / 0x31637661), yuv420p(tv, bt709, progressive), 1920x1080 [SAR 1:1 DAR 16:9], q=2-31, 30 fps, 30 tbr, 90k tbn, 90k tbc\n",
      "    Stream #0:1(und): Audio: aac (LC) (mp4a / 0x6134706D), 44100 Hz, stereo, fltp, 182 kb/s\n",
      "Stream mapping:\n",
      "  Stream #0:0 -> #0:0 (copy)\n",
      "  Stream #0:1 -> #0:1 (copy)\n",
      "Press [q] to stop, [?] for help\n",
      "\u001b[0;35m[mpegts @ 0x55995f9b4700] \u001b[0m\u001b[0;33mDTS 126000 < 690000 out of order\n",
      "\u001b[0m\u001b[1;35m[mp4 @ 0x55995fb7c5c0] \u001b[0m\u001b[0;33mNon-monotonous DTS in output stream 0:1; previous: 278528, current: 275914; \u001b[0m\u001b[0;33mchanging to 278529. This may result in incorrect timestamps in the output file.\n",
      "\u001b[0m\u001b[1;35m[mp4 @ 0x55995fb7c5c0] \u001b[0m\u001b[0;33mNon-monotonous DTS in output stream 0:1; previous: 278529, current: 276938; \u001b[0m\u001b[0;33mchanging to 278530. This may result in incorrect timestamps in the output file.\n",
      "\u001b[0m\u001b[1;35m[mp4 @ 0x55995fb7c5c0] \u001b[0m\u001b[0;33mNon-monotonous DTS in output stream 0:1; previous: 278530, current: 277962; \u001b[0m\u001b[0;33mchanging to 278531. This may result in incorrect timestamps in the output file.\n",
      "\u001b[0mframe= 1230 fps=0.0 q=-1.0 Lsize=    6201kB time=00:00:40.96 bitrate=1239.9kbits/s speed=1.86e+03x    \n",
      "video:5468kB audio:691kB subtitle:0kB other streams:0kB global headers:0kB muxing overhead: 0.675546%\n"
     ]
    }
   ],
   "source": [
    "# converting to inte\n",
    "! ffmpeg -i \"concat:intermediate1.ts|intermediate2.ts\" -c copy -bsf:a aac_adtstoasc output.mp4"
   ]
  },
  {
   "cell_type": "code",
   "execution_count": null,
   "id": "2f4ac1de-b1aa-431a-adc8-c31d11b3a891",
   "metadata": {},
   "outputs": [],
   "source": []
  },
  {
   "cell_type": "code",
   "execution_count": null,
   "id": "d4a86eb7-95ed-4b2c-b160-c1b3f9242225",
   "metadata": {},
   "outputs": [],
   "source": []
  },
  {
   "cell_type": "code",
   "execution_count": 74,
   "id": "efaf67ca-90d8-4775-b375-2bc883c44c34",
   "metadata": {
    "collapsed": true,
    "jupyter": {
     "outputs_hidden": true
    },
    "tags": []
   },
   "outputs": [
    {
     "name": "stdout",
     "output_type": "stream",
     "text": [
      "ffmpeg version 4.2.4-1ubuntu0.1 Copyright (c) 2000-2020 the FFmpeg developers\n",
      "  built with gcc 9 (Ubuntu 9.3.0-10ubuntu2)\n",
      "  configuration: --prefix=/usr --extra-version=1ubuntu0.1 --toolchain=hardened --libdir=/usr/lib/x86_64-linux-gnu --incdir=/usr/include/x86_64-linux-gnu --arch=amd64 --enable-gpl --disable-stripping --enable-avresample --disable-filter=resample --enable-avisynth --enable-gnutls --enable-ladspa --enable-libaom --enable-libass --enable-libbluray --enable-libbs2b --enable-libcaca --enable-libcdio --enable-libcodec2 --enable-libflite --enable-libfontconfig --enable-libfreetype --enable-libfribidi --enable-libgme --enable-libgsm --enable-libjack --enable-libmp3lame --enable-libmysofa --enable-libopenjpeg --enable-libopenmpt --enable-libopus --enable-libpulse --enable-librsvg --enable-librubberband --enable-libshine --enable-libsnappy --enable-libsoxr --enable-libspeex --enable-libssh --enable-libtheora --enable-libtwolame --enable-libvidstab --enable-libvorbis --enable-libvpx --enable-libwavpack --enable-libwebp --enable-libx265 --enable-libxml2 --enable-libxvid --enable-libzmq --enable-libzvbi --enable-lv2 --enable-omx --enable-openal --enable-opencl --enable-opengl --enable-sdl2 --enable-libdc1394 --enable-libdrm --enable-libiec61883 --enable-nvenc --enable-chromaprint --enable-frei0r --enable-libx264 --enable-shared\n",
      "  libavutil      56. 31.100 / 56. 31.100\n",
      "  libavcodec     58. 54.100 / 58. 54.100\n",
      "  libavformat    58. 29.100 / 58. 29.100\n",
      "  libavdevice    58.  8.100 / 58.  8.100\n",
      "  libavfilter     7. 57.100 /  7. 57.100\n",
      "  libavresample   4.  0.  0 /  4.  0.  0\n",
      "  libswscale      5.  5.100 /  5.  5.100\n",
      "  libswresample   3.  5.100 /  3.  5.100\n",
      "  libpostproc    55.  5.100 / 55.  5.100\n",
      "Input #0, mpegts, from 'concat:temp1|temp2':\n",
      "  Duration: N/A, start: 1.443444, bitrate: N/A\n",
      "  Program 1 \n",
      "    Metadata:\n",
      "      service_name    : Service01\n",
      "      service_provider: FFmpeg\n",
      "    Stream #0:0[0x100]: Video: h264 (High) ([27][0][0][0] / 0x001B), yuv420p(tv, bt709, progressive), 1920x1080 [SAR 1:1 DAR 16:9], 30 fps, 30 tbr, 90k tbn, 60 tbc\n",
      "    Stream #0:1[0x101](und): Audio: aac (LC) ([15][0][0][0] / 0x000F), 44100 Hz, stereo, fltp, 182 kb/s\n",
      "Output #0, mp4, to 'output.mp4':\n",
      "  Metadata:\n",
      "    encoder         : Lavf58.29.100\n",
      "    Stream #0:0: Video: h264 (High) (avc1 / 0x31637661), yuv420p(tv, bt709, progressive), 1920x1080 [SAR 1:1 DAR 16:9], q=2-31, 30 fps, 30 tbr, 90k tbn, 90k tbc\n",
      "    Stream #0:1(und): Audio: aac (LC) (mp4a / 0x6134706D), 44100 Hz, stereo, fltp, 182 kb/s\n",
      "Stream mapping:\n",
      "  Stream #0:0 -> #0:0 (copy)\n",
      "  Stream #0:1 -> #0:1 (copy)\n",
      "Press [q] to stop, [?] for help\n",
      "\u001b[0;35m[mpegts @ 0x5592bec2c700] \u001b[0m\u001b[0;33mDTS 126000 < 690000 out of order\n",
      "\u001b[0m\u001b[1;35m[mp4 @ 0x5592bed75d40] \u001b[0m\u001b[0;33mNon-monotonous DTS in output stream 0:1; previous: 278528, current: 275914; \u001b[0m\u001b[0;33mchanging to 278529. This may result in incorrect timestamps in the output file.\n",
      "\u001b[0m\u001b[1;35m[mp4 @ 0x5592bed75d40] \u001b[0m\u001b[0;33mNon-monotonous DTS in output stream 0:1; previous: 278529, current: 276938; \u001b[0m\u001b[0;33mchanging to 278530. This may result in incorrect timestamps in the output file.\n",
      "\u001b[0m\u001b[1;35m[mp4 @ 0x5592bed75d40] \u001b[0m\u001b[0;33mNon-monotonous DTS in output stream 0:1; previous: 278530, current: 277962; \u001b[0m\u001b[0;33mchanging to 278531. This may result in incorrect timestamps in the output file.\n",
      "\u001b[0mframe= 1230 fps=0.0 q=-1.0 Lsize=    6201kB time=00:00:40.96 bitrate=1239.9kbits/s speed=1.97e+03x    \n",
      "video:5468kB audio:691kB subtitle:0kB other streams:0kB global headers:0kB muxing overhead: 0.676180%\n"
     ]
    }
   ],
   "source": [
    "! mkfifo temp1 temp2\n",
    "! ffmpeg -y -i intro_1.mp4 -c copy -bsf:v h264_mp4toannexb -f mpegts temp1 2> /dev/null & \\\n",
    "! ffmpeg -y -i hello.mp4 -c copy -bsf:v h264_mp4toannexb -f mpegts temp2 2> /dev/null & \\\n",
    "! ffmpeg -f mpegts -i \"concat:temp1|temp2\" -c copy -bsf:a aac_adtstoasc output.mp4\n"
   ]
  },
  {
   "cell_type": "code",
   "execution_count": 79,
   "id": "503ef06f-63be-4219-8972-cdb022c9fd86",
   "metadata": {},
   "outputs": [],
   "source": [
    "os.chdir('../')"
   ]
  },
  {
   "cell_type": "code",
   "execution_count": 80,
   "id": "fbc5bfce-c545-4323-b734-f2fbeb92d7d1",
   "metadata": {
    "collapsed": true,
    "jupyter": {
     "outputs_hidden": true
    },
    "tags": []
   },
   "outputs": [
    {
     "name": "stdout",
     "output_type": "stream",
     "text": [
      "ffmpeg version 4.2.4-1ubuntu0.1 Copyright (c) 2000-2020 the FFmpeg developers\n",
      "  built with gcc 9 (Ubuntu 9.3.0-10ubuntu2)\n",
      "  configuration: --prefix=/usr --extra-version=1ubuntu0.1 --toolchain=hardened --libdir=/usr/lib/x86_64-linux-gnu --incdir=/usr/include/x86_64-linux-gnu --arch=amd64 --enable-gpl --disable-stripping --enable-avresample --disable-filter=resample --enable-avisynth --enable-gnutls --enable-ladspa --enable-libaom --enable-libass --enable-libbluray --enable-libbs2b --enable-libcaca --enable-libcdio --enable-libcodec2 --enable-libflite --enable-libfontconfig --enable-libfreetype --enable-libfribidi --enable-libgme --enable-libgsm --enable-libjack --enable-libmp3lame --enable-libmysofa --enable-libopenjpeg --enable-libopenmpt --enable-libopus --enable-libpulse --enable-librsvg --enable-librubberband --enable-libshine --enable-libsnappy --enable-libsoxr --enable-libspeex --enable-libssh --enable-libtheora --enable-libtwolame --enable-libvidstab --enable-libvorbis --enable-libvpx --enable-libwavpack --enable-libwebp --enable-libx265 --enable-libxml2 --enable-libxvid --enable-libzmq --enable-libzvbi --enable-lv2 --enable-omx --enable-openal --enable-opencl --enable-opengl --enable-sdl2 --enable-libdc1394 --enable-libdrm --enable-libiec61883 --enable-nvenc --enable-chromaprint --enable-frei0r --enable-libx264 --enable-shared\n",
      "  libavutil      56. 31.100 / 56. 31.100\n",
      "  libavcodec     58. 54.100 / 58. 54.100\n",
      "  libavformat    58. 29.100 / 58. 29.100\n",
      "  libavdevice    58.  8.100 / 58.  8.100\n",
      "  libavfilter     7. 57.100 /  7. 57.100\n",
      "  libavresample   4.  0.  0 /  4.  0.  0\n",
      "  libswscale      5.  5.100 /  5.  5.100\n",
      "  libswresample   3.  5.100 /  3.  5.100\n",
      "  libpostproc    55.  5.100 / 55.  5.100\n",
      "Input #0, mov,mp4,m4a,3gp,3g2,mj2, from 'intro_1.mp4':\n",
      "  Metadata:\n",
      "    major_brand     : isom\n",
      "    minor_version   : 512\n",
      "    compatible_brands: isomiso2avc1mp41\n",
      "    encoder         : Lavf58.45.100\n",
      "  Duration: 00:00:06.32, start: 0.000000, bitrate: 525 kb/s\n",
      "    Stream #0:0(und): Video: h264 (High) (avc1 / 0x31637661), yuv420p(tv, bt709), 1920x1080 [SAR 1:1 DAR 16:9], 321 kb/s, 30 fps, 30 tbr, 15360 tbn, 60 tbc (default)\n",
      "    Metadata:\n",
      "      handler_name    : VideoHandler\n",
      "    Stream #0:1(und): Audio: aac (LC) (mp4a / 0x6134706D), 44100 Hz, stereo, fltp, 191 kb/s (default)\n",
      "    Metadata:\n",
      "      handler_name    : SoundHandler\n",
      "Output #0, mpegts, to 'intermediate1.ts':\n",
      "  Metadata:\n",
      "    major_brand     : isom\n",
      "    minor_version   : 512\n",
      "    compatible_brands: isomiso2avc1mp41\n",
      "    encoder         : Lavf58.29.100\n",
      "    Stream #0:0(und): Video: h264 (High) (avc1 / 0x31637661), yuv420p(tv, bt709), 1920x1080 [SAR 1:1 DAR 16:9], q=2-31, 321 kb/s, 30 fps, 30 tbr, 90k tbn, 15360 tbc (default)\n",
      "    Metadata:\n",
      "      handler_name    : VideoHandler\n",
      "    Stream #0:1(und): Audio: aac (LC) (mp4a / 0x6134706D), 44100 Hz, stereo, fltp, 191 kb/s (default)\n",
      "    Metadata:\n",
      "      handler_name    : SoundHandler\n",
      "Stream mapping:\n",
      "  Stream #0:0 -> #0:0 (copy)\n",
      "  Stream #0:1 -> #0:1 (copy)\n",
      "Press [q] to stop, [?] for help\n",
      "frame=  189 fps=0.0 q=-1.0 Lsize=     456kB time=00:00:06.29 bitrate= 593.9kbits/s speed=2.54e+03x    \n",
      "video:247kB audio:147kB subtitle:0kB other streams:0kB global headers:0kB muxing overhead: 15.584255%\n",
      "ffmpeg version 4.2.4-1ubuntu0.1 Copyright (c) 2000-2020 the FFmpeg developers\n",
      "  built with gcc 9 (Ubuntu 9.3.0-10ubuntu2)\n",
      "  configuration: --prefix=/usr --extra-version=1ubuntu0.1 --toolchain=hardened --libdir=/usr/lib/x86_64-linux-gnu --incdir=/usr/include/x86_64-linux-gnu --arch=amd64 --enable-gpl --disable-stripping --enable-avresample --disable-filter=resample --enable-avisynth --enable-gnutls --enable-ladspa --enable-libaom --enable-libass --enable-libbluray --enable-libbs2b --enable-libcaca --enable-libcdio --enable-libcodec2 --enable-libflite --enable-libfontconfig --enable-libfreetype --enable-libfribidi --enable-libgme --enable-libgsm --enable-libjack --enable-libmp3lame --enable-libmysofa --enable-libopenjpeg --enable-libopenmpt --enable-libopus --enable-libpulse --enable-librsvg --enable-librubberband --enable-libshine --enable-libsnappy --enable-libsoxr --enable-libspeex --enable-libssh --enable-libtheora --enable-libtwolame --enable-libvidstab --enable-libvorbis --enable-libvpx --enable-libwavpack --enable-libwebp --enable-libx265 --enable-libxml2 --enable-libxvid --enable-libzmq --enable-libzvbi --enable-lv2 --enable-omx --enable-openal --enable-opencl --enable-opengl --enable-sdl2 --enable-libdc1394 --enable-libdrm --enable-libiec61883 --enable-nvenc --enable-chromaprint --enable-frei0r --enable-libx264 --enable-shared\n",
      "  libavutil      56. 31.100 / 56. 31.100\n",
      "  libavcodec     58. 54.100 / 58. 54.100\n",
      "  libavformat    58. 29.100 / 58. 29.100\n",
      "  libavdevice    58.  8.100 / 58.  8.100\n",
      "  libavfilter     7. 57.100 /  7. 57.100\n",
      "  libavresample   4.  0.  0 /  4.  0.  0\n",
      "  libswscale      5.  5.100 /  5.  5.100\n",
      "  libswresample   3.  5.100 /  3.  5.100\n",
      "  libpostproc    55.  5.100 / 55.  5.100\n",
      "Input #0, mov,mp4,m4a,3gp,3g2,mj2, from 'hello.mp4':\n",
      "  Metadata:\n",
      "    major_brand     : isom\n",
      "    minor_version   : 512\n",
      "    compatible_brands: isomiso2avc1mp41\n",
      "    encoder         : Lavf58.29.100\n",
      "  Duration: 00:00:34.73, start: 0.000000, bitrate: 1365 kb/s\n",
      "    Stream #0:0(und): Video: h264 (Main) (avc1 / 0x31637661), yuv420p(tv, bt709), 358x480 [SAR 357:358 DAR 119:160], 1230 kb/s, 30 fps, 30 tbr, 12k tbn, 60 tbc (default)\n",
      "    Metadata:\n",
      "      handler_name    : Bento4 Video Handler\n",
      "    Stream #0:1(und): Audio: aac (LC) (mp4a / 0x6134706D), 48000 Hz, stereo, fltp, 128 kb/s (default)\n",
      "    Metadata:\n",
      "      handler_name    : Bento4 Sound Handler\n",
      "Output #0, mpegts, to 'intermediate2.ts':\n",
      "  Metadata:\n",
      "    major_brand     : isom\n",
      "    minor_version   : 512\n",
      "    compatible_brands: isomiso2avc1mp41\n",
      "    encoder         : Lavf58.29.100\n",
      "    Stream #0:0(und): Video: h264 (Main) (avc1 / 0x31637661), yuv420p(tv, bt709), 358x480 [SAR 357:358 DAR 119:160], q=2-31, 1230 kb/s, 30 fps, 30 tbr, 90k tbn, 12k tbc (default)\n",
      "    Metadata:\n",
      "      handler_name    : Bento4 Video Handler\n",
      "    Stream #0:1(und): Audio: aac (LC) (mp4a / 0x6134706D), 48000 Hz, stereo, fltp, 128 kb/s (default)\n",
      "    Metadata:\n",
      "      handler_name    : Bento4 Sound Handler\n",
      "Stream mapping:\n",
      "  Stream #0:0 -> #0:0 (copy)\n",
      "  Stream #0:1 -> #0:1 (copy)\n",
      "Press [q] to stop, [?] for help\n",
      "frame= 1041 fps=0.0 q=-1.0 Lsize=    6368kB time=00:00:34.70 bitrate=1503.0kbits/s speed=2.44e+03x    \n",
      "video:5214kB audio:544kB subtitle:0kB other streams:0kB global headers:0kB muxing overhead: 10.606824%\n"
     ]
    }
   ],
   "source": [
    "! ffmpeg -i intro_1.mp4 -c copy -bsf:v h264_mp4toannexb -f mpegts intermediate1.ts\n",
    "! ffmpeg -i hello.mp4 -c copy -bsf:v h264_mp4toannexb -f mpegts intermediate2.ts"
   ]
  },
  {
   "cell_type": "code",
   "execution_count": 82,
   "id": "5f6a631c-4509-45bd-819c-71f8d0a315b2",
   "metadata": {},
   "outputs": [],
   "source": [
    "os.chdir('./tt')"
   ]
  },
  {
   "cell_type": "code",
   "execution_count": null,
   "id": "52fe1677-fdc0-4cec-a40f-3a7b901bacc9",
   "metadata": {},
   "outputs": [],
   "source": []
  },
  {
   "cell_type": "code",
   "execution_count": 87,
   "id": "65f4c4b4-eb34-45e6-9a99-ffabac4c275c",
   "metadata": {
    "collapsed": true,
    "jupyter": {
     "outputs_hidden": true
    },
    "tags": []
   },
   "outputs": [
    {
     "name": "stdout",
     "output_type": "stream",
     "text": [
      "ffmpeg version 4.2.4-1ubuntu0.1 Copyright (c) 2000-2020 the FFmpeg developers\n",
      "  built with gcc 9 (Ubuntu 9.3.0-10ubuntu2)\n",
      "  configuration: --prefix=/usr --extra-version=1ubuntu0.1 --toolchain=hardened --libdir=/usr/lib/x86_64-linux-gnu --incdir=/usr/include/x86_64-linux-gnu --arch=amd64 --enable-gpl --disable-stripping --enable-avresample --disable-filter=resample --enable-avisynth --enable-gnutls --enable-ladspa --enable-libaom --enable-libass --enable-libbluray --enable-libbs2b --enable-libcaca --enable-libcdio --enable-libcodec2 --enable-libflite --enable-libfontconfig --enable-libfreetype --enable-libfribidi --enable-libgme --enable-libgsm --enable-libjack --enable-libmp3lame --enable-libmysofa --enable-libopenjpeg --enable-libopenmpt --enable-libopus --enable-libpulse --enable-librsvg --enable-librubberband --enable-libshine --enable-libsnappy --enable-libsoxr --enable-libspeex --enable-libssh --enable-libtheora --enable-libtwolame --enable-libvidstab --enable-libvorbis --enable-libvpx --enable-libwavpack --enable-libwebp --enable-libx265 --enable-libxml2 --enable-libxvid --enable-libzmq --enable-libzvbi --enable-lv2 --enable-omx --enable-openal --enable-opencl --enable-opengl --enable-sdl2 --enable-libdc1394 --enable-libdrm --enable-libiec61883 --enable-nvenc --enable-chromaprint --enable-frei0r --enable-libx264 --enable-shared\n",
      "  libavutil      56. 31.100 / 56. 31.100\n",
      "  libavcodec     58. 54.100 / 58. 54.100\n",
      "  libavformat    58. 29.100 / 58. 29.100\n",
      "  libavdevice    58.  8.100 / 58.  8.100\n",
      "  libavfilter     7. 57.100 /  7. 57.100\n",
      "  libavresample   4.  0.  0 /  4.  0.  0\n",
      "  libswscale      5.  5.100 /  5.  5.100\n",
      "  libswresample   3.  5.100 /  3.  5.100\n",
      "  libpostproc    55.  5.100 / 55.  5.100\n",
      "Input #0, mov,mp4,m4a,3gp,3g2,mj2, from '1.mp4':\n",
      "  Metadata:\n",
      "    major_brand     : isom\n",
      "    minor_version   : 512\n",
      "    compatible_brands: isomiso2avc1mp41\n",
      "    encoder         : Lavf58.45.100\n",
      "  Duration: 00:00:06.32, start: 0.000000, bitrate: 525 kb/s\n",
      "    Stream #0:0(und): Video: h264 (High) (avc1 / 0x31637661), yuv420p(tv, bt709), 1920x1080 [SAR 1:1 DAR 16:9], 321 kb/s, 30 fps, 30 tbr, 15360 tbn, 60 tbc (default)\n",
      "    Metadata:\n",
      "      handler_name    : VideoHandler\n",
      "    Stream #0:1(und): Audio: aac (LC) (mp4a / 0x6134706D), 44100 Hz, stereo, fltp, 191 kb/s (default)\n",
      "    Metadata:\n",
      "      handler_name    : SoundHandler\n",
      "\u001b[0;33mPlease use -q:a or -q:v, -qscale is ambiguous\n",
      "\u001b[0mStream mapping:\n",
      "  Stream #0:0 -> #0:0 (h264 (native) -> mpeg1video (native))\n",
      "  Stream #0:1 -> #0:1 (aac (native) -> mp2 (native))\n",
      "Press [q] to stop, [?] for help\n",
      "\u001b[1;35m[mpeg @ 0x55703358f980] \u001b[0m\u001b[0;33mVBV buffer size not set, using default size of 230KB\n",
      "If you want the mpeg file to be compliant to some specification\n",
      "Like DVD, VCD or others, make sure you set the correct buffer size\n",
      "\u001b[0mOutput #0, mpeg, to '1.mpg':\n",
      "  Metadata:\n",
      "    major_brand     : isom\n",
      "    minor_version   : 512\n",
      "    compatible_brands: isomiso2avc1mp41\n",
      "    encoder         : Lavf58.29.100\n",
      "    Stream #0:0(und): Video: mpeg1video, yuv420p, 1920x1080 [SAR 1:1 DAR 16:9], q=2-31, 200 kb/s, 30 fps, 90k tbn, 30 tbc (default)\n",
      "    Metadata:\n",
      "      handler_name    : VideoHandler\n",
      "      encoder         : Lavc58.54.100 mpeg1video\n",
      "    Side data:\n",
      "      cpb: bitrate max/min/avg: 0/0/200000 buffer size: 0 vbv_delay: -1\n",
      "    Stream #0:1(und): Audio: mp2, 44100 Hz, stereo, s16, 384 kb/s (default)\n",
      "    Metadata:\n",
      "      handler_name    : SoundHandler\n",
      "      encoder         : Lavc58.54.100 mp2\n",
      "\u001b[1;36m[mpeg1video @ 0x5570335b5e80] \u001b[0mwarning, clipping 1 dct coefficients to -255..255\n",
      "    Last message repeated 256 times\n",
      "frame=  189 fps=0.0 q=0.0 Lsize=    1838kB time=00:00:06.31 bitrate=2385.9kbits/s speed=12.7x    \n",
      "video:1528kB audio:296kB subtitle:0kB other streams:0kB global headers:0kB muxing overhead: 0.723432%\n"
     ]
    }
   ],
   "source": []
  },
  {
   "cell_type": "code",
   "execution_count": 95,
   "id": "91db2b76-89f3-4bcb-a1c2-71ecaea2b26a",
   "metadata": {
    "collapsed": true,
    "jupyter": {
     "outputs_hidden": true
    },
    "tags": []
   },
   "outputs": [
    {
     "name": "stdout",
     "output_type": "stream",
     "text": [
      "ffmpeg version 4.2.4-1ubuntu0.1 Copyright (c) 2000-2020 the FFmpeg developers\n",
      "  built with gcc 9 (Ubuntu 9.3.0-10ubuntu2)\n",
      "  configuration: --prefix=/usr --extra-version=1ubuntu0.1 --toolchain=hardened --libdir=/usr/lib/x86_64-linux-gnu --incdir=/usr/include/x86_64-linux-gnu --arch=amd64 --enable-gpl --disable-stripping --enable-avresample --disable-filter=resample --enable-avisynth --enable-gnutls --enable-ladspa --enable-libaom --enable-libass --enable-libbluray --enable-libbs2b --enable-libcaca --enable-libcdio --enable-libcodec2 --enable-libflite --enable-libfontconfig --enable-libfreetype --enable-libfribidi --enable-libgme --enable-libgsm --enable-libjack --enable-libmp3lame --enable-libmysofa --enable-libopenjpeg --enable-libopenmpt --enable-libopus --enable-libpulse --enable-librsvg --enable-librubberband --enable-libshine --enable-libsnappy --enable-libsoxr --enable-libspeex --enable-libssh --enable-libtheora --enable-libtwolame --enable-libvidstab --enable-libvorbis --enable-libvpx --enable-libwavpack --enable-libwebp --enable-libx265 --enable-libxml2 --enable-libxvid --enable-libzmq --enable-libzvbi --enable-lv2 --enable-omx --enable-openal --enable-opencl --enable-opengl --enable-sdl2 --enable-libdc1394 --enable-libdrm --enable-libiec61883 --enable-nvenc --enable-chromaprint --enable-frei0r --enable-libx264 --enable-shared\n",
      "  libavutil      56. 31.100 / 56. 31.100\n",
      "  libavcodec     58. 54.100 / 58. 54.100\n",
      "  libavformat    58. 29.100 / 58. 29.100\n",
      "  libavdevice    58.  8.100 / 58.  8.100\n",
      "  libavfilter     7. 57.100 /  7. 57.100\n",
      "  libavresample   4.  0.  0 /  4.  0.  0\n",
      "  libswscale      5.  5.100 /  5.  5.100\n",
      "  libswresample   3.  5.100 /  3.  5.100\n",
      "  libpostproc    55.  5.100 / 55.  5.100\n",
      "Input #0, mov,mp4,m4a,3gp,3g2,mj2, from '1.mp4':\n",
      "  Metadata:\n",
      "    major_brand     : isom\n",
      "    minor_version   : 512\n",
      "    compatible_brands: isomiso2avc1mp41\n",
      "    encoder         : Lavf58.45.100\n",
      "  Duration: 00:00:06.32, start: 0.000000, bitrate: 525 kb/s\n",
      "    Stream #0:0(und): Video: h264 (High) (avc1 / 0x31637661), yuv420p(tv, bt709), 1920x1080 [SAR 1:1 DAR 16:9], 321 kb/s, 30 fps, 30 tbr, 15360 tbn, 60 tbc (default)\n",
      "    Metadata:\n",
      "      handler_name    : VideoHandler\n",
      "    Stream #0:1(und): Audio: aac (LC) (mp4a / 0x6134706D), 44100 Hz, stereo, fltp, 191 kb/s (default)\n",
      "    Metadata:\n",
      "      handler_name    : SoundHandler\n",
      "\u001b[0;33mPlease use -q:a or -q:v, -qscale is ambiguous\n",
      "\u001b[0mStream mapping:\n",
      "  Stream #0:0 -> #0:0 (h264 (native) -> mpeg1video (native))\n",
      "  Stream #0:1 -> #0:1 (aac (native) -> mp2 (native))\n",
      "Press [q] to stop, [?] for help\n",
      "\u001b[1;35m[mpeg @ 0x55d05aa86980] \u001b[0m\u001b[0;33mVBV buffer size not set, using default size of 230KB\n",
      "If you want the mpeg file to be compliant to some specification\n",
      "Like DVD, VCD or others, make sure you set the correct buffer size\n",
      "\u001b[0mOutput #0, mpeg, to '1.mpg':\n",
      "  Metadata:\n",
      "    major_brand     : isom\n",
      "    minor_version   : 512\n",
      "    compatible_brands: isomiso2avc1mp41\n",
      "    encoder         : Lavf58.29.100\n",
      "    Stream #0:0(und): Video: mpeg1video, yuv420p, 1920x1080 [SAR 1:1 DAR 16:9], q=2-31, 200 kb/s, 30 fps, 90k tbn, 30 tbc (default)\n",
      "    Metadata:\n",
      "      handler_name    : VideoHandler\n",
      "      encoder         : Lavc58.54.100 mpeg1video\n",
      "    Side data:\n",
      "      cpb: bitrate max/min/avg: 0/0/200000 buffer size: 0 vbv_delay: -1\n",
      "    Stream #0:1(und): Audio: mp2, 44100 Hz, stereo, s16, 384 kb/s (default)\n",
      "    Metadata:\n",
      "      handler_name    : SoundHandler\n",
      "      encoder         : Lavc58.54.100 mp2\n",
      "\u001b[1;36m[mpeg1video @ 0x55d05aaace80] \u001b[0mwarning, clipping 1 dct coefficients to -255..255\n",
      "    Last message repeated 256 times\n",
      "frame=  189 fps=0.0 q=0.0 Lsize=    1838kB time=00:00:06.31 bitrate=2385.9kbits/s speed=  13x    \n",
      "video:1528kB audio:296kB subtitle:0kB other streams:0kB global headers:0kB muxing overhead: 0.723432%\n",
      "ffmpeg version 4.2.4-1ubuntu0.1 Copyright (c) 2000-2020 the FFmpeg developers\n",
      "  built with gcc 9 (Ubuntu 9.3.0-10ubuntu2)\n",
      "  configuration: --prefix=/usr --extra-version=1ubuntu0.1 --toolchain=hardened --libdir=/usr/lib/x86_64-linux-gnu --incdir=/usr/include/x86_64-linux-gnu --arch=amd64 --enable-gpl --disable-stripping --enable-avresample --disable-filter=resample --enable-avisynth --enable-gnutls --enable-ladspa --enable-libaom --enable-libass --enable-libbluray --enable-libbs2b --enable-libcaca --enable-libcdio --enable-libcodec2 --enable-libflite --enable-libfontconfig --enable-libfreetype --enable-libfribidi --enable-libgme --enable-libgsm --enable-libjack --enable-libmp3lame --enable-libmysofa --enable-libopenjpeg --enable-libopenmpt --enable-libopus --enable-libpulse --enable-librsvg --enable-librubberband --enable-libshine --enable-libsnappy --enable-libsoxr --enable-libspeex --enable-libssh --enable-libtheora --enable-libtwolame --enable-libvidstab --enable-libvorbis --enable-libvpx --enable-libwavpack --enable-libwebp --enable-libx265 --enable-libxml2 --enable-libxvid --enable-libzmq --enable-libzvbi --enable-lv2 --enable-omx --enable-openal --enable-opencl --enable-opengl --enable-sdl2 --enable-libdc1394 --enable-libdrm --enable-libiec61883 --enable-nvenc --enable-chromaprint --enable-frei0r --enable-libx264 --enable-shared\n",
      "  libavutil      56. 31.100 / 56. 31.100\n",
      "  libavcodec     58. 54.100 / 58. 54.100\n",
      "  libavformat    58. 29.100 / 58. 29.100\n",
      "  libavdevice    58.  8.100 / 58.  8.100\n",
      "  libavfilter     7. 57.100 /  7. 57.100\n",
      "  libavresample   4.  0.  0 /  4.  0.  0\n",
      "  libswscale      5.  5.100 /  5.  5.100\n",
      "  libswresample   3.  5.100 /  3.  5.100\n",
      "  libpostproc    55.  5.100 / 55.  5.100\n",
      "Input #0, mov,mp4,m4a,3gp,3g2,mj2, from '2.mp4':\n",
      "  Metadata:\n",
      "    major_brand     : isom\n",
      "    minor_version   : 512\n",
      "    compatible_brands: isomiso2avc1mp41\n",
      "    encoder         : Lavf58.29.100\n",
      "  Duration: 00:00:34.73, start: 0.000000, bitrate: 1365 kb/s\n",
      "    Stream #0:0(und): Video: h264 (Main) (avc1 / 0x31637661), yuv420p(tv, bt709), 358x480 [SAR 357:358 DAR 119:160], 1230 kb/s, 30 fps, 30 tbr, 12k tbn, 60 tbc (default)\n",
      "    Metadata:\n",
      "      handler_name    : Bento4 Video Handler\n",
      "    Stream #0:1(und): Audio: aac (LC) (mp4a / 0x6134706D), 48000 Hz, stereo, fltp, 128 kb/s (default)\n",
      "    Metadata:\n",
      "      handler_name    : Bento4 Sound Handler\n",
      "\u001b[0;33mPlease use -q:a or -q:v, -qscale is ambiguous\n",
      "\u001b[0mStream mapping:\n",
      "  Stream #0:0 -> #0:0 (h264 (native) -> mpeg1video (native))\n",
      "  Stream #0:1 -> #0:1 (aac (native) -> mp2 (native))\n",
      "Press [q] to stop, [?] for help\n",
      "\u001b[1;35m[mpeg @ 0x560bd64368c0] \u001b[0m\u001b[0;33mVBV buffer size not set, using default size of 230KB\n",
      "If you want the mpeg file to be compliant to some specification\n",
      "Like DVD, VCD or others, make sure you set the correct buffer size\n",
      "\u001b[0mOutput #0, mpeg, to '2.mpg':\n",
      "  Metadata:\n",
      "    major_brand     : isom\n",
      "    minor_version   : 512\n",
      "    compatible_brands: isomiso2avc1mp41\n",
      "    encoder         : Lavf58.29.100\n",
      "    Stream #0:0(und): Video: mpeg1video, yuv420p, 358x480 [SAR 357:358 DAR 119:160], q=2-31, 200 kb/s, 30 fps, 90k tbn, 30 tbc (default)\n",
      "    Metadata:\n",
      "      handler_name    : Bento4 Video Handler\n",
      "      encoder         : Lavc58.54.100 mpeg1video\n",
      "    Side data:\n",
      "      cpb: bitrate max/min/avg: 0/0/200000 buffer size: 0 vbv_delay: -1\n",
      "    Stream #0:1(und): Audio: mp2, 48000 Hz, stereo, s16, 384 kb/s (default)\n",
      "    Metadata:\n",
      "      handler_name    : Bento4 Sound Handler\n",
      "      encoder         : Lavc58.54.100 mp2\n",
      "frame= 1041 fps=998 q=0.0 Lsize=   10616kB time=00:00:34.74 bitrate=2503.2kbits/s speed=33.3x    \n",
      "video:8915kB audio:1629kB subtitle:0kB other streams:0kB global headers:0kB muxing overhead: 0.679459%\n",
      "ffmpeg version 4.2.4-1ubuntu0.1 Copyright (c) 2000-2020 the FFmpeg developers\n",
      "  built with gcc 9 (Ubuntu 9.3.0-10ubuntu2)\n",
      "  configuration: --prefix=/usr --extra-version=1ubuntu0.1 --toolchain=hardened --libdir=/usr/lib/x86_64-linux-gnu --incdir=/usr/include/x86_64-linux-gnu --arch=amd64 --enable-gpl --disable-stripping --enable-avresample --disable-filter=resample --enable-avisynth --enable-gnutls --enable-ladspa --enable-libaom --enable-libass --enable-libbluray --enable-libbs2b --enable-libcaca --enable-libcdio --enable-libcodec2 --enable-libflite --enable-libfontconfig --enable-libfreetype --enable-libfribidi --enable-libgme --enable-libgsm --enable-libjack --enable-libmp3lame --enable-libmysofa --enable-libopenjpeg --enable-libopenmpt --enable-libopus --enable-libpulse --enable-librsvg --enable-librubberband --enable-libshine --enable-libsnappy --enable-libsoxr --enable-libspeex --enable-libssh --enable-libtheora --enable-libtwolame --enable-libvidstab --enable-libvorbis --enable-libvpx --enable-libwavpack --enable-libwebp --enable-libx265 --enable-libxml2 --enable-libxvid --enable-libzmq --enable-libzvbi --enable-lv2 --enable-omx --enable-openal --enable-opencl --enable-opengl --enable-sdl2 --enable-libdc1394 --enable-libdrm --enable-libiec61883 --enable-nvenc --enable-chromaprint --enable-frei0r --enable-libx264 --enable-shared\n",
      "  libavutil      56. 31.100 / 56. 31.100\n",
      "  libavcodec     58. 54.100 / 58. 54.100\n",
      "  libavformat    58. 29.100 / 58. 29.100\n",
      "  libavdevice    58.  8.100 / 58.  8.100\n",
      "  libavfilter     7. 57.100 /  7. 57.100\n",
      "  libavresample   4.  0.  0 /  4.  0.  0\n",
      "  libswscale      5.  5.100 /  5.  5.100\n",
      "  libswresample   3.  5.100 /  3.  5.100\n",
      "  libpostproc    55.  5.100 / 55.  5.100\n",
      "Input #0, mov,mp4,m4a,3gp,3g2,mj2, from '3.mp4':\n",
      "  Metadata:\n",
      "    major_brand     : isom\n",
      "    minor_version   : 512\n",
      "    compatible_brands: isomiso2avc1mp41\n",
      "    encoder         : Lavf58.29.100\n",
      "  Duration: 00:00:02.04, start: 0.000000, bitrate: 320 kb/s\n",
      "    Stream #0:0(und): Video: h264 (High) (avc1 / 0x31637661), yuv420p, 480x270, 183 kb/s, 25 fps, 25 tbr, 12800 tbn, 50 tbc (default)\n",
      "    Metadata:\n",
      "      handler_name    : VideoHandler\n",
      "    Stream #0:1(und): Audio: mp3 (mp4a / 0x6134706D), 44100 Hz, stereo, fltp, 127 kb/s (default)\n",
      "    Metadata:\n",
      "      handler_name    : SoundHandler\n",
      "\u001b[0;33mPlease use -q:a or -q:v, -qscale is ambiguous\n",
      "\u001b[0mStream mapping:\n",
      "  Stream #0:0 -> #0:0 (h264 (native) -> mpeg1video (native))\n",
      "  Stream #0:1 -> #0:1 (mp3 (mp3float) -> mp2 (native))\n",
      "Press [q] to stop, [?] for help\n",
      "\u001b[1;35m[mpeg @ 0x564bafbbecc0] \u001b[0m\u001b[0;33mVBV buffer size not set, using default size of 230KB\n",
      "If you want the mpeg file to be compliant to some specification\n",
      "Like DVD, VCD or others, make sure you set the correct buffer size\n",
      "\u001b[0mOutput #0, mpeg, to '3.mpg':\n",
      "  Metadata:\n",
      "    major_brand     : isom\n",
      "    minor_version   : 512\n",
      "    compatible_brands: isomiso2avc1mp41\n",
      "    encoder         : Lavf58.29.100\n",
      "    Stream #0:0(und): Video: mpeg1video, yuv420p, 480x270, q=2-31, 200 kb/s, 25 fps, 90k tbn, 25 tbc (default)\n",
      "    Metadata:\n",
      "      handler_name    : VideoHandler\n",
      "      encoder         : Lavc58.54.100 mpeg1video\n",
      "    Side data:\n",
      "      cpb: bitrate max/min/avg: 0/0/200000 buffer size: 0 vbv_delay: -1\n",
      "    Stream #0:1(und): Audio: mp2, 44100 Hz, stereo, s16, 384 kb/s (default)\n",
      "    Metadata:\n",
      "      handler_name    : SoundHandler\n",
      "      encoder         : Lavc58.54.100 mp2\n",
      "frame=   50 fps=0.0 q=0.0 Lsize=     330kB time=00:00:02.02 bitrate=1333.9kbits/s speed=57.6x    \n",
      "video:230kB audio:96kB subtitle:0kB other streams:0kB global headers:0kB muxing overhead: 1.426916%\n"
     ]
    }
   ],
   "source": [
    "! ffmpeg -i 1.mp4 -qscale 0 1.mpg\n",
    "! ffmpeg -i 2.mp4 -qscale 0 2.mpg\n",
    "! ffmpeg -i 3.mp4 -qscale 0 3.mpg"
   ]
  },
  {
   "cell_type": "code",
   "execution_count": 96,
   "id": "df76dda8-bc85-4a6b-bc4f-bf46311fe3cb",
   "metadata": {
    "collapsed": true,
    "jupyter": {
     "outputs_hidden": true
    },
    "tags": []
   },
   "outputs": [
    {
     "name": "stdout",
     "output_type": "stream",
     "text": [
      "ffmpeg version 4.2.4-1ubuntu0.1 Copyright (c) 2000-2020 the FFmpeg developers\n",
      "  built with gcc 9 (Ubuntu 9.3.0-10ubuntu2)\n",
      "  configuration: --prefix=/usr --extra-version=1ubuntu0.1 --toolchain=hardened --libdir=/usr/lib/x86_64-linux-gnu --incdir=/usr/include/x86_64-linux-gnu --arch=amd64 --enable-gpl --disable-stripping --enable-avresample --disable-filter=resample --enable-avisynth --enable-gnutls --enable-ladspa --enable-libaom --enable-libass --enable-libbluray --enable-libbs2b --enable-libcaca --enable-libcdio --enable-libcodec2 --enable-libflite --enable-libfontconfig --enable-libfreetype --enable-libfribidi --enable-libgme --enable-libgsm --enable-libjack --enable-libmp3lame --enable-libmysofa --enable-libopenjpeg --enable-libopenmpt --enable-libopus --enable-libpulse --enable-librsvg --enable-librubberband --enable-libshine --enable-libsnappy --enable-libsoxr --enable-libspeex --enable-libssh --enable-libtheora --enable-libtwolame --enable-libvidstab --enable-libvorbis --enable-libvpx --enable-libwavpack --enable-libwebp --enable-libx265 --enable-libxml2 --enable-libxvid --enable-libzmq --enable-libzvbi --enable-lv2 --enable-omx --enable-openal --enable-opencl --enable-opengl --enable-sdl2 --enable-libdc1394 --enable-libdrm --enable-libiec61883 --enable-nvenc --enable-chromaprint --enable-frei0r --enable-libx264 --enable-shared\n",
      "  libavutil      56. 31.100 / 56. 31.100\n",
      "  libavcodec     58. 54.100 / 58. 54.100\n",
      "  libavformat    58. 29.100 / 58. 29.100\n",
      "  libavdevice    58.  8.100 / 58.  8.100\n",
      "  libavfilter     7. 57.100 /  7. 57.100\n",
      "  libavresample   4.  0.  0 /  4.  0.  0\n",
      "  libswscale      5.  5.100 /  5.  5.100\n",
      "  libswresample   3.  5.100 /  3.  5.100\n",
      "  libpostproc    55.  5.100 / 55.  5.100\n",
      "Input #0, mpeg, from 'pipe:':\n",
      "  Duration: N/A, start: 0.522422, bitrate: 105241 kb/s\n",
      "    Stream #0:0[0x1e0]: Video: mpeg1video, yuv420p(tv), 1920x1080 [SAR 1:1 DAR 16:9], 104857 kb/s, 30 fps, 30 tbr, 90k tbn, 30 tbc\n",
      "    Stream #0:1[0x1c0]: Audio: mp2, 44100 Hz, stereo, s16p, 384 kb/s\n",
      "\u001b[0;33mPlease use -q:a or -q:v, -qscale is ambiguous\n",
      "\u001b[0mStream mapping:\n",
      "  Stream #0:0 -> #0:0 (mpeg1video (native) -> mpeg4 (native))\n",
      "  Stream #0:1 -> #0:1 (mp2 (native) -> aac (native))\n",
      "Output #0, mp4, to 'output.mp4':\n",
      "  Metadata:\n",
      "    encoder         : Lavf58.29.100\n",
      "    Stream #0:0: Video: mpeg4 (mp4v / 0x7634706D), yuv420p, 1920x1080 [SAR 1:1 DAR 16:9], q=2-31, 200 kb/s, 30 fps, 15360 tbn, 30 tbc\n",
      "    Metadata:\n",
      "      encoder         : Lavc58.54.100 mpeg4\n",
      "    Side data:\n",
      "      cpb: bitrate max/min/avg: 0/0/200000 buffer size: 0 vbv_delay: -1\n",
      "    Stream #0:1: Audio: aac (LC) (mp4a / 0x6134706D), 44100 Hz, stereo, fltp, 128 kb/s\n",
      "    Metadata:\n",
      "      encoder         : Lavc58.54.100 aac\n",
      "frame= 1292 fps=197 q=0.0 Lsize=   47173kB time=00:00:43.11 bitrate=8961.9kbits/s dup=14 drop=0 speed=6.58x    \n",
      "video:46459kB audio:676kB subtitle:0kB other streams:0kB global headers:0kB muxing overhead: 0.079621%\n",
      "\u001b[1;36m[aac @ 0x555b2b248ec0] \u001b[0mQavg: 434.951\n"
     ]
    }
   ],
   "source": [
    "cat 1.mpg 2.mpg 3.mpg| ffmpeg -f mpeg -i - -qscale 0 -vcodec mpeg4 output.mp4"
   ]
  },
  {
   "cell_type": "code",
   "execution_count": 142,
   "id": "4fd96adc-2368-4da7-8aa3-1214fe661bc4",
   "metadata": {
    "collapsed": true,
    "jupyter": {
     "outputs_hidden": true
    },
    "tags": []
   },
   "outputs": [
    {
     "name": "stdout",
     "output_type": "stream",
     "text": [
      "ffmpeg version 4.2.4-1ubuntu0.1 Copyright (c) 2000-2020 the FFmpeg developers\n",
      "  built with gcc 9 (Ubuntu 9.3.0-10ubuntu2)\n",
      "  configuration: --prefix=/usr --extra-version=1ubuntu0.1 --toolchain=hardened --libdir=/usr/lib/x86_64-linux-gnu --incdir=/usr/include/x86_64-linux-gnu --arch=amd64 --enable-gpl --disable-stripping --enable-avresample --disable-filter=resample --enable-avisynth --enable-gnutls --enable-ladspa --enable-libaom --enable-libass --enable-libbluray --enable-libbs2b --enable-libcaca --enable-libcdio --enable-libcodec2 --enable-libflite --enable-libfontconfig --enable-libfreetype --enable-libfribidi --enable-libgme --enable-libgsm --enable-libjack --enable-libmp3lame --enable-libmysofa --enable-libopenjpeg --enable-libopenmpt --enable-libopus --enable-libpulse --enable-librsvg --enable-librubberband --enable-libshine --enable-libsnappy --enable-libsoxr --enable-libspeex --enable-libssh --enable-libtheora --enable-libtwolame --enable-libvidstab --enable-libvorbis --enable-libvpx --enable-libwavpack --enable-libwebp --enable-libx265 --enable-libxml2 --enable-libxvid --enable-libzmq --enable-libzvbi --enable-lv2 --enable-omx --enable-openal --enable-opencl --enable-opengl --enable-sdl2 --enable-libdc1394 --enable-libdrm --enable-libiec61883 --enable-nvenc --enable-chromaprint --enable-frei0r --enable-libx264 --enable-shared\n",
      "  libavutil      56. 31.100 / 56. 31.100\n",
      "  libavcodec     58. 54.100 / 58. 54.100\n",
      "  libavformat    58. 29.100 / 58. 29.100\n",
      "  libavdevice    58.  8.100 / 58.  8.100\n",
      "  libavfilter     7. 57.100 /  7. 57.100\n",
      "  libavresample   4.  0.  0 /  4.  0.  0\n",
      "  libswscale      5.  5.100 /  5.  5.100\n",
      "  libswresample   3.  5.100 /  3.  5.100\n",
      "  libpostproc    55.  5.100 / 55.  5.100\n",
      "Input #0, mov,mp4,m4a,3gp,3g2,mj2, from '2.mp4':\n",
      "  Metadata:\n",
      "    major_brand     : isom\n",
      "    minor_version   : 512\n",
      "    compatible_brands: isomiso2avc1mp41\n",
      "    encoder         : Lavf58.29.100\n",
      "  Duration: 00:00:27.33, start: 0.000000, bitrate: 2304 kb/s\n",
      "    Stream #0:0(und): Video: h264 (Main) (avc1 / 0x31637661), yuv420p(tv, bt709), 406x720 [SAR 405:406 DAR 9:16], 2177 kb/s, 30 fps, 30 tbr, 12k tbn, 60 tbc (default)\n",
      "    Metadata:\n",
      "      handler_name    : Bento4 Video Handler\n",
      "    Stream #0:1(und): Audio: aac (LC) (mp4a / 0x6134706D), 48000 Hz, stereo, fltp, 124 kb/s (default)\n",
      "    Metadata:\n",
      "      handler_name    : Bento4 Sound Handler\n",
      "Stream mapping:\n",
      "  Stream #0:0 -> #0:0 (h264 (native) -> h264 (libx264))\n",
      "  Stream #0:1 -> #0:1 (aac (native) -> aac (native))\n",
      "Press [q] to stop, [?] for help\n",
      "\u001b[1;34m[swscaler @ 0x55ded2dd6780] \u001b[0m\u001b[0;33mWarning: data is not aligned! This can lead to a speed loss\n",
      "\u001b[0m\u001b[1;36m[libx264 @ 0x55ded28e0f00] \u001b[0musing SAR=405/406\n",
      "\u001b[1;36m[libx264 @ 0x55ded28e0f00] \u001b[0musing cpu capabilities: MMX2 SSE2Fast SSSE3 SSE4.2 AVX FMA3 BMI2 AVX2\n",
      "\u001b[1;36m[libx264 @ 0x55ded28e0f00] \u001b[0mprofile High, level 4.0\n",
      "\u001b[1;36m[libx264 @ 0x55ded28e0f00] \u001b[0m264 - core 155 r2917 0a84d98 - H.264/MPEG-4 AVC codec - Copyleft 2003-2018 - http://www.videolan.org/x264.html - options: cabac=1 ref=3 deblock=1:0:0 analyse=0x3:0x113 me=hex subme=7 psy=1 psy_rd=1.00:0.00 mixed_ref=1 me_range=16 chroma_me=1 trellis=1 8x8dct=1 cqm=0 deadzone=21,11 fast_pskip=1 chroma_qp_offset=-2 threads=18 lookahead_threads=3 sliced_threads=0 nr=0 decimate=1 interlaced=0 bluray_compat=0 constrained_intra=0 bframes=3 b_pyramid=2 b_adapt=1 b_bias=0 direct=1 weightb=1 open_gop=0 weightp=2 keyint=250 keyint_min=25 scenecut=40 intra_refresh=0 rc_lookahead=40 rc=crf mbtree=1 crf=23.0 qcomp=0.60 qpmin=0 qpmax=69 qpstep=4 ip_ratio=1.40 aq=1:1.00\n",
      "Output #0, mp4, to '2_scaled.mp4':\n",
      "  Metadata:\n",
      "    major_brand     : isom\n",
      "    minor_version   : 512\n",
      "    compatible_brands: isomiso2avc1mp41\n",
      "    encoder         : Lavf58.29.100\n",
      "    Stream #0:0(und): Video: h264 (libx264) (avc1 / 0x31637661), yuv420p, 1920x1080 [SAR 405:406 DAR 360:203], q=-1--1, 30 fps, 15360 tbn, 30 tbc (default)\n",
      "    Metadata:\n",
      "      handler_name    : Bento4 Video Handler\n",
      "      encoder         : Lavc58.54.100 libx264\n",
      "    Side data:\n",
      "      cpb: bitrate max/min/avg: 0/0/0 buffer size: 0 vbv_delay: -1\n",
      "    Stream #0:1(und): Audio: aac (LC) (mp4a / 0x6134706D), 48000 Hz, stereo, fltp, 128 kb/s (default)\n",
      "    Metadata:\n",
      "      handler_name    : Bento4 Sound Handler\n",
      "      encoder         : Lavc58.54.100 aac\n",
      "frame=  820 fps= 81 q=-1.0 Lsize=    6297kB time=00:00:27.23 bitrate=1894.1kbits/s speed= 2.7x    \n",
      "video:5868kB audio:399kB subtitle:0kB other streams:0kB global headers:0kB muxing overhead: 0.476640%\n",
      "\u001b[1;36m[libx264 @ 0x55ded28e0f00] \u001b[0mframe I:7     Avg QP:18.11  size: 18926\n",
      "\u001b[1;36m[libx264 @ 0x55ded28e0f00] \u001b[0mframe P:228   Avg QP:25.18  size: 12659\n",
      "\u001b[1;36m[libx264 @ 0x55ded28e0f00] \u001b[0mframe B:585   Avg QP:26.20  size:  5110\n",
      "\u001b[1;36m[libx264 @ 0x55ded28e0f00] \u001b[0mconsecutive B-frames:  3.4%  2.4%  5.9% 88.3%\n",
      "\u001b[1;36m[libx264 @ 0x55ded28e0f00] \u001b[0mmb I  I16..4: 42.7% 54.3%  3.1%\n",
      "\u001b[1;36m[libx264 @ 0x55ded28e0f00] \u001b[0mmb P  I16..4:  3.8% 11.0%  0.9%  P16..4:  8.8%  2.6%  0.7%  0.0%  0.0%    skip:72.1%\n",
      "\u001b[1;36m[libx264 @ 0x55ded28e0f00] \u001b[0mmb B  I16..4:  0.6%  1.4%  0.1%  B16..8: 12.5%  2.0%  0.2%  direct: 0.8%  skip:82.4%  L0:46.2% L1:48.9% BI: 4.9%\n",
      "\u001b[1;36m[libx264 @ 0x55ded28e0f00] \u001b[0m8x8 transform intra:67.3% inter:87.8%\n",
      "\u001b[1;36m[libx264 @ 0x55ded28e0f00] \u001b[0mcoded y,uvDC,uvAC intra: 39.3% 35.1% 2.7% inter: 4.0% 3.4% 0.0%\n",
      "\u001b[1;36m[libx264 @ 0x55ded28e0f00] \u001b[0mi16 v,h,dc,p: 52% 12%  5% 31%\n",
      "\u001b[1;36m[libx264 @ 0x55ded28e0f00] \u001b[0mi8 v,h,dc,ddl,ddr,vr,hd,vl,hu: 31% 13% 18%  6%  5%  6%  6% 10%  4%\n",
      "\u001b[1;36m[libx264 @ 0x55ded28e0f00] \u001b[0mi4 v,h,dc,ddl,ddr,vr,hd,vl,hu: 32% 16% 20%  5%  7%  6%  7%  6%  2%\n",
      "\u001b[1;36m[libx264 @ 0x55ded28e0f00] \u001b[0mi8c dc,h,v,p: 61% 14% 22%  4%\n",
      "\u001b[1;36m[libx264 @ 0x55ded28e0f00] \u001b[0mWeighted P-Frames: Y:0.9% UV:0.4%\n",
      "\u001b[1;36m[libx264 @ 0x55ded28e0f00] \u001b[0mref P L0: 58.3% 17.3% 16.8%  7.5%  0.0%\n",
      "\u001b[1;36m[libx264 @ 0x55ded28e0f00] \u001b[0mref B L0: 89.9%  7.8%  2.4%\n",
      "\u001b[1;36m[libx264 @ 0x55ded28e0f00] \u001b[0mref B L1: 97.3%  2.7%\n",
      "\u001b[1;36m[libx264 @ 0x55ded28e0f00] \u001b[0mkb/s:1758.48\n",
      "\u001b[1;36m[aac @ 0x55ded28fa6c0] \u001b[0mQavg: 3341.761\n"
     ]
    }
   ],
   "source": [
    "! ffmpeg -i 2.mp4 -vf \"scale=1920:1080:force_original_aspect_ratio=decrease,pad=1920:1080:-1:-1:color=black\" 2_scaled.mp4 -y"
   ]
  },
  {
   "cell_type": "code",
   "execution_count": 149,
   "id": "71f96119-dc68-41a6-9d05-76dd4945284f",
   "metadata": {
    "collapsed": true,
    "jupyter": {
     "outputs_hidden": true
    },
    "tags": []
   },
   "outputs": [
    {
     "name": "stdout",
     "output_type": "stream",
     "text": [
      "ffmpeg version 4.2.4-1ubuntu0.1 Copyright (c) 2000-2020 the FFmpeg developers\n",
      "  built with gcc 9 (Ubuntu 9.3.0-10ubuntu2)\n",
      "  configuration: --prefix=/usr --extra-version=1ubuntu0.1 --toolchain=hardened --libdir=/usr/lib/x86_64-linux-gnu --incdir=/usr/include/x86_64-linux-gnu --arch=amd64 --enable-gpl --disable-stripping --enable-avresample --disable-filter=resample --enable-avisynth --enable-gnutls --enable-ladspa --enable-libaom --enable-libass --enable-libbluray --enable-libbs2b --enable-libcaca --enable-libcdio --enable-libcodec2 --enable-libflite --enable-libfontconfig --enable-libfreetype --enable-libfribidi --enable-libgme --enable-libgsm --enable-libjack --enable-libmp3lame --enable-libmysofa --enable-libopenjpeg --enable-libopenmpt --enable-libopus --enable-libpulse --enable-librsvg --enable-librubberband --enable-libshine --enable-libsnappy --enable-libsoxr --enable-libspeex --enable-libssh --enable-libtheora --enable-libtwolame --enable-libvidstab --enable-libvorbis --enable-libvpx --enable-libwavpack --enable-libwebp --enable-libx265 --enable-libxml2 --enable-libxvid --enable-libzmq --enable-libzvbi --enable-lv2 --enable-omx --enable-openal --enable-opencl --enable-opengl --enable-sdl2 --enable-libdc1394 --enable-libdrm --enable-libiec61883 --enable-nvenc --enable-chromaprint --enable-frei0r --enable-libx264 --enable-shared\n",
      "  libavutil      56. 31.100 / 56. 31.100\n",
      "  libavcodec     58. 54.100 / 58. 54.100\n",
      "  libavformat    58. 29.100 / 58. 29.100\n",
      "  libavdevice    58.  8.100 / 58.  8.100\n",
      "  libavfilter     7. 57.100 /  7. 57.100\n",
      "  libavresample   4.  0.  0 /  4.  0.  0\n",
      "  libswscale      5.  5.100 /  5.  5.100\n",
      "  libswresample   3.  5.100 /  3.  5.100\n",
      "  libpostproc    55.  5.100 / 55.  5.100\n",
      "Input #0, mov,mp4,m4a,3gp,3g2,mj2, from '3.mp4':\n",
      "  Metadata:\n",
      "    major_brand     : isom\n",
      "    minor_version   : 512\n",
      "    compatible_brands: isomiso2avc1mp41\n",
      "    encoder         : Lavf58.29.100\n",
      "  Duration: 00:00:02.04, start: 0.000000, bitrate: 320 kb/s\n",
      "    Stream #0:0(und): Video: h264 (High) (avc1 / 0x31637661), yuv420p, 480x270, 183 kb/s, 25 fps, 25 tbr, 12800 tbn, 50 tbc (default)\n",
      "    Metadata:\n",
      "      handler_name    : VideoHandler\n",
      "    Stream #0:1(und): Audio: mp3 (mp4a / 0x6134706D), 44100 Hz, stereo, fltp, 127 kb/s (default)\n",
      "    Metadata:\n",
      "      handler_name    : SoundHandler\n",
      "\u001b[4;31mOutput 3.mp4 same as Input #0 - exiting\n",
      "\u001b[0m\u001b[0;33mFFmpeg cannot edit existing files in-place.\n",
      "\u001b[0m"
     ]
    }
   ],
   "source": [
    "! ffmpeg -i 3.mp4 -vf \"scale=1920:1080:force_original_aspect_ratio=decrease,pad=1920:1080:-1:-1:color=black\" 3.mp4 -y"
   ]
  },
  {
   "cell_type": "code",
   "execution_count": 143,
   "id": "81bf329c-be8c-4304-97fc-a6c01f2cc557",
   "metadata": {},
   "outputs": [],
   "source": [
    "intro_clip = VideoFileClip(\"1.mp4\")\n",
    "video_clip = VideoFileClip(\"2_scaled.mp4\")\n",
    "transition_clip = VideoFileClip(\"3_scaled.mp4\")"
   ]
  },
  {
   "cell_type": "code",
   "execution_count": 144,
   "id": "ef902f18-7263-4d55-8057-efcf6702f773",
   "metadata": {},
   "outputs": [],
   "source": [
    "# video_clip = video_clip.resize(height=1080)\n",
    "# transition_clip = transition_clip.resize(height=1080)"
   ]
  },
  {
   "cell_type": "code",
   "execution_count": 145,
   "id": "5b6c7dcc-411c-41cd-ac9c-30d5bd5a5d60",
   "metadata": {
    "tags": []
   },
   "outputs": [],
   "source": [
    "final_clip = concatenate_videoclips([intro_clip, video_clip, transition_clip])"
   ]
  },
  {
   "cell_type": "code",
   "execution_count": 146,
   "id": "4ed6eba3-7bad-4162-afc1-32b07131ba32",
   "metadata": {
    "collapsed": true,
    "jupyter": {
     "outputs_hidden": true
    },
    "tags": []
   },
   "outputs": [
    {
     "name": "stderr",
     "output_type": "stream",
     "text": [
      "t:  16%|█████████████████                                                                                          | 166/1042 [11:59<00:21, 41.42it/s, now=None]"
     ]
    },
    {
     "name": "stdout",
     "output_type": "stream",
     "text": [
      "Moviepy - Building video final.mp4.\n",
      "MoviePy - Writing audio in finalTEMP_MPY_wvf_snd.mp3\n"
     ]
    },
    {
     "name": "stderr",
     "output_type": "stream",
     "text": [
      "\n",
      "chunk:   0%|                                                                                                                  | 0/787 [00:00<?, ?it/s, now=None]\u001b[A\n",
      "chunk:  14%|██████████████▏                                                                                       | 109/787 [00:00<00:00, 1088.93it/s, now=None]\u001b[A\n",
      "chunk:  28%|████████████████████████████▎                                                                         | 218/787 [00:00<00:00, 1025.06it/s, now=None]\u001b[A\n",
      "chunk:  41%|██████████████████████████████████████████                                                             | 321/787 [00:00<00:00, 999.36it/s, now=None]\u001b[A\n",
      "chunk:  54%|███████████████████████████████████████████████████████▏                                               | 422/787 [00:00<00:00, 985.91it/s, now=None]\u001b[A\n",
      "chunk:  66%|████████████████████████████████████████████████████████████████████▏                                  | 521/787 [00:00<00:00, 950.42it/s, now=None]\u001b[A\n",
      "chunk:  78%|████████████████████████████████████████████████████████████████████████████████▊                      | 617/787 [00:00<00:00, 935.96it/s, now=None]\u001b[A\n",
      "chunk:  98%|███████████████████████████████████████████████████████████████████████████████████████████████████▉  | 771/787 [00:00<00:00, 1123.62it/s, now=None]\u001b[A\n",
      "t:  16%|█████████████████                                                                                          | 166/1042 [12:00<00:21, 41.42it/s, now=None]\u001b[A"
     ]
    },
    {
     "name": "stdout",
     "output_type": "stream",
     "text": [
      "MoviePy - Done.\n",
      "Moviepy - Writing video final.mp4\n",
      "\n"
     ]
    },
    {
     "name": "stderr",
     "output_type": "stream",
     "text": [
      "\n",
      "t:   0%|                                                                                                                     | 0/1071 [00:00<?, ?it/s, now=None]\u001b[A\n",
      "t:   1%|█▎                                                                                                         | 13/1071 [00:00<00:08, 121.69it/s, now=None]\u001b[A\n",
      "t:   2%|██▌                                                                                                        | 26/1071 [00:00<00:09, 115.97it/s, now=None]\u001b[A\n",
      "t:   4%|███▊                                                                                                       | 38/1071 [00:00<00:09, 110.31it/s, now=None]\u001b[A\n",
      "t:   5%|████▉                                                                                                      | 50/1071 [00:00<00:09, 112.70it/s, now=None]\u001b[A\n",
      "t:   6%|██████▎                                                                                                     | 62/1071 [00:00<00:11, 88.75it/s, now=None]\u001b[A\n",
      "t:   7%|███████▎                                                                                                    | 72/1071 [00:00<00:11, 87.50it/s, now=None]\u001b[A\n",
      "t:   8%|████████▎                                                                                                   | 82/1071 [00:00<00:11, 89.83it/s, now=None]\u001b[A\n",
      "t:   9%|█████████▎                                                                                                  | 92/1071 [00:00<00:11, 88.78it/s, now=None]\u001b[A\n",
      "t:  10%|██████████▏                                                                                                | 102/1071 [00:01<00:10, 89.39it/s, now=None]\u001b[A\n",
      "t:  10%|███████████▏                                                                                               | 112/1071 [00:01<00:10, 91.86it/s, now=None]\u001b[A\n",
      "t:  11%|████████████▏                                                                                              | 122/1071 [00:01<00:10, 93.86it/s, now=None]\u001b[A\n",
      "t:  12%|█████████████▎                                                                                             | 133/1071 [00:01<00:09, 96.75it/s, now=None]\u001b[A\n",
      "t:  13%|██████████████▎                                                                                            | 143/1071 [00:01<00:09, 96.28it/s, now=None]\u001b[A\n",
      "t:  14%|███████████████▎                                                                                           | 153/1071 [00:01<00:09, 96.03it/s, now=None]\u001b[A\n",
      "t:  15%|████████████████▍                                                                                          | 164/1071 [00:01<00:09, 97.96it/s, now=None]\u001b[A\n",
      "t:  16%|█████████████████▍                                                                                         | 174/1071 [00:01<00:09, 95.12it/s, now=None]\u001b[A\n",
      "t:  17%|██████████████████▍                                                                                        | 184/1071 [00:01<00:09, 95.66it/s, now=None]\u001b[A\n",
      "t:  18%|███████████████████▍                                                                                       | 194/1071 [00:02<00:09, 92.81it/s, now=None]\u001b[A\n",
      "t:  19%|████████████████████▍                                                                                      | 204/1071 [00:02<00:09, 88.66it/s, now=None]\u001b[A\n",
      "t:  20%|█████████████████████▎                                                                                     | 213/1071 [00:02<00:09, 86.19it/s, now=None]\u001b[A\n",
      "t:  21%|██████████████████████▏                                                                                    | 222/1071 [00:02<00:10, 80.86it/s, now=None]\u001b[A\n",
      "t:  22%|███████████████████████                                                                                    | 231/1071 [00:02<00:10, 82.69it/s, now=None]\u001b[A\n",
      "t:  22%|███████████████████████▉                                                                                   | 240/1071 [00:02<00:09, 84.64it/s, now=None]\u001b[A\n",
      "t:  23%|████████████████████████▉                                                                                  | 249/1071 [00:02<00:09, 84.26it/s, now=None]\u001b[A\n",
      "t:  24%|█████████████████████████▊                                                                                 | 258/1071 [00:02<00:10, 78.60it/s, now=None]\u001b[A\n",
      "t:  25%|██████████████████████████▌                                                                                | 266/1071 [00:02<00:10, 74.68it/s, now=None]\u001b[A\n",
      "t:  26%|███████████████████████████▎                                                                               | 274/1071 [00:03<00:11, 70.87it/s, now=None]\u001b[A\n",
      "t:  26%|████████████████████████████▏                                                                              | 282/1071 [00:03<00:11, 66.62it/s, now=None]\u001b[A\n",
      "t:  27%|████████████████████████████▊                                                                              | 289/1071 [00:03<00:11, 65.88it/s, now=None]\u001b[A\n",
      "t:  28%|█████████████████████████████▌                                                                             | 296/1071 [00:03<00:11, 64.93it/s, now=None]\u001b[A\n",
      "t:  28%|██████████████████████████████▎                                                                            | 303/1071 [00:03<00:11, 65.62it/s, now=None]\u001b[A\n",
      "t:  29%|██████████████████████████████▉                                                                            | 310/1071 [00:03<00:11, 65.94it/s, now=None]\u001b[A\n",
      "t:  30%|███████████████████████████████▋                                                                           | 317/1071 [00:03<00:11, 66.05it/s, now=None]\u001b[A\n",
      "t:  30%|████████████████████████████████▎                                                                          | 324/1071 [00:03<00:11, 64.46it/s, now=None]\u001b[A\n",
      "t:  31%|█████████████████████████████████                                                                          | 331/1071 [00:03<00:11, 63.28it/s, now=None]\u001b[A\n",
      "t:  32%|█████████████████████████████████▊                                                                         | 338/1071 [00:04<00:11, 63.26it/s, now=None]\u001b[A\n",
      "t:  32%|██████████████████████████████████▍                                                                        | 345/1071 [00:04<00:11, 64.14it/s, now=None]\u001b[A\n",
      "t:  33%|███████████████████████████████████▏                                                                       | 352/1071 [00:04<00:11, 63.87it/s, now=None]\u001b[A\n",
      "t:  34%|███████████████████████████████████▊                                                                       | 359/1071 [00:04<00:11, 61.32it/s, now=None]\u001b[A\n",
      "t:  34%|████████████████████████████████████▌                                                                      | 366/1071 [00:04<00:11, 61.64it/s, now=None]\u001b[A\n",
      "t:  35%|█████████████████████████████████████▎                                                                     | 373/1071 [00:04<00:11, 59.95it/s, now=None]\u001b[A\n",
      "t:  35%|█████████████████████████████████████▉                                                                     | 380/1071 [00:04<00:11, 59.24it/s, now=None]\u001b[A\n",
      "t:  36%|██████████████████████████████████████▌                                                                    | 386/1071 [00:04<00:11, 58.93it/s, now=None]\u001b[A\n",
      "t:  37%|███████████████████████████████████████▏                                                                   | 392/1071 [00:05<00:11, 58.54it/s, now=None]\u001b[A\n",
      "t:  37%|███████████████████████████████████████▊                                                                   | 399/1071 [00:05<00:11, 59.76it/s, now=None]\u001b[A\n",
      "t:  38%|████████████████████████████████████████▌                                                                  | 406/1071 [00:05<00:10, 61.25it/s, now=None]\u001b[A\n",
      "t:  39%|█████████████████████████████████████████▎                                                                 | 413/1071 [00:05<00:10, 60.84it/s, now=None]\u001b[A\n",
      "t:  39%|█████████████████████████████████████████▉                                                                 | 420/1071 [00:05<00:10, 61.16it/s, now=None]\u001b[A\n",
      "t:  40%|██████████████████████████████████████████▋                                                                | 427/1071 [00:05<00:10, 59.53it/s, now=None]\u001b[A\n",
      "t:  40%|███████████████████████████████████████████▎                                                               | 433/1071 [00:05<00:10, 58.66it/s, now=None]\u001b[A\n",
      "t:  41%|███████████████████████████████████████████▉                                                               | 440/1071 [00:05<00:10, 61.24it/s, now=None]\u001b[A\n",
      "t:  42%|████████████████████████████████████████████▋                                                              | 447/1071 [00:05<00:10, 61.39it/s, now=None]\u001b[A\n",
      "t:  42%|█████████████████████████████████████████████▎                                                             | 454/1071 [00:06<00:10, 60.79it/s, now=None]\u001b[A\n",
      "t:  43%|██████████████████████████████████████████████                                                             | 461/1071 [00:06<00:10, 60.86it/s, now=None]\u001b[A\n",
      "t:  44%|██████████████████████████████████████████████▊                                                            | 468/1071 [00:06<00:09, 60.62it/s, now=None]\u001b[A\n",
      "t:  44%|███████████████████████████████████████████████▍                                                           | 475/1071 [00:06<00:09, 60.62it/s, now=None]\u001b[A\n",
      "t:  45%|████████████████████████████████████████████████▏                                                          | 482/1071 [00:06<00:09, 60.10it/s, now=None]\u001b[A\n",
      "t:  46%|████████████████████████████████████████████████▊                                                          | 489/1071 [00:06<00:09, 61.64it/s, now=None]\u001b[A\n",
      "t:  46%|█████████████████████████████████████████████████▌                                                         | 496/1071 [00:06<00:09, 61.57it/s, now=None]\u001b[A\n",
      "t:  47%|██████████████████████████████████████████████████▎                                                        | 503/1071 [00:06<00:09, 62.09it/s, now=None]\u001b[A\n",
      "t:  48%|██████████████████████████████████████████████████▉                                                        | 510/1071 [00:06<00:09, 61.79it/s, now=None]\u001b[A\n",
      "t:  48%|███████████████████████████████████████████████████▋                                                       | 517/1071 [00:07<00:09, 61.48it/s, now=None]\u001b[A\n",
      "t:  49%|████████████████████████████████████████████████████▎                                                      | 524/1071 [00:07<00:08, 62.98it/s, now=None]\u001b[A\n",
      "t:  50%|█████████████████████████████████████████████████████                                                      | 531/1071 [00:07<00:08, 63.17it/s, now=None]\u001b[A\n",
      "t:  50%|█████████████████████████████████████████████████████▋                                                     | 538/1071 [00:07<00:08, 64.07it/s, now=None]\u001b[A\n",
      "t:  51%|██████████████████████████████████████████████████████▍                                                    | 545/1071 [00:07<00:08, 64.21it/s, now=None]\u001b[A\n",
      "t:  52%|███████████████████████████████████████████████████████▏                                                   | 552/1071 [00:07<00:08, 62.89it/s, now=None]\u001b[A\n",
      "t:  52%|███████████████████████████████████████████████████████▊                                                   | 559/1071 [00:07<00:08, 62.12it/s, now=None]\u001b[A\n",
      "t:  53%|████████████████████████████████████████████████████████▌                                                  | 566/1071 [00:07<00:08, 61.80it/s, now=None]\u001b[A\n",
      "t:  54%|█████████████████████████████████████████████████████████▏                                                 | 573/1071 [00:07<00:08, 59.81it/s, now=None]\u001b[A\n",
      "t:  54%|█████████████████████████████████████████████████████████▉                                                 | 580/1071 [00:08<00:07, 62.20it/s, now=None]\u001b[A\n",
      "t:  55%|██████████████████████████████████████████████████████████▋                                                | 587/1071 [00:08<00:07, 62.70it/s, now=None]\u001b[A\n",
      "t:  55%|███████████████████████████████████████████████████████████▎                                               | 594/1071 [00:08<00:07, 62.03it/s, now=None]\u001b[A\n",
      "t:  56%|████████████████████████████████████████████████████████████                                               | 601/1071 [00:08<00:07, 60.38it/s, now=None]\u001b[A\n",
      "t:  57%|████████████████████████████████████████████████████████████▋                                              | 608/1071 [00:08<00:07, 59.35it/s, now=None]\u001b[A\n",
      "t:  57%|█████████████████████████████████████████████████████████████▎                                             | 614/1071 [00:08<00:07, 59.50it/s, now=None]\u001b[A\n",
      "t:  58%|█████████████████████████████████████████████████████████████▉                                             | 620/1071 [00:08<00:07, 59.09it/s, now=None]\u001b[A\n",
      "t:  58%|██████████████████████████████████████████████████████████████▌                                            | 626/1071 [00:08<00:07, 57.89it/s, now=None]\u001b[A\n",
      "t:  59%|███████████████████████████████████████████████████████████████▏                                           | 632/1071 [00:08<00:07, 58.18it/s, now=None]\u001b[A\n",
      "t:  60%|███████████████████████████████████████████████████████████████▊                                           | 639/1071 [00:09<00:07, 58.67it/s, now=None]\u001b[A\n",
      "t:  60%|████████████████████████████████████████████████████████████████▍                                          | 645/1071 [00:09<00:07, 58.86it/s, now=None]\u001b[A\n",
      "t:  61%|█████████████████████████████████████████████████████████████████▏                                         | 652/1071 [00:09<00:06, 60.33it/s, now=None]\u001b[A\n",
      "t:  62%|█████████████████████████████████████████████████████████████████▊                                         | 659/1071 [00:09<00:06, 60.02it/s, now=None]\u001b[A\n",
      "t:  62%|██████████████████████████████████████████████████████████████████▌                                        | 666/1071 [00:09<00:06, 62.64it/s, now=None]\u001b[A\n",
      "t:  63%|███████████████████████████████████████████████████████████████████▏                                       | 673/1071 [00:09<00:06, 61.09it/s, now=None]\u001b[A\n",
      "t:  63%|███████████████████████████████████████████████████████████████████▉                                       | 680/1071 [00:09<00:06, 63.49it/s, now=None]\u001b[A\n",
      "t:  64%|████████████████████████████████████████████████████████████████████▋                                      | 687/1071 [00:09<00:06, 62.75it/s, now=None]\u001b[A\n",
      "t:  65%|█████████████████████████████████████████████████████████████████████▎                                     | 694/1071 [00:09<00:05, 62.97it/s, now=None]\u001b[A\n",
      "t:  65%|██████████████████████████████████████████████████████████████████████                                     | 701/1071 [00:10<00:05, 63.30it/s, now=None]\u001b[A\n",
      "t:  66%|██████████████████████████████████████████████████████████████████████▋                                    | 708/1071 [00:10<00:05, 63.70it/s, now=None]\u001b[A\n",
      "t:  67%|███████████████████████████████████████████████████████████████████████▍                                   | 715/1071 [00:10<00:05, 62.86it/s, now=None]\u001b[A\n",
      "t:  67%|████████████████████████████████████████████████████████████████████████▏                                  | 722/1071 [00:10<00:05, 62.35it/s, now=None]\u001b[A\n",
      "t:  68%|████████████████████████████████████████████████████████████████████████▊                                  | 729/1071 [00:10<00:05, 63.40it/s, now=None]\u001b[A\n",
      "t:  69%|█████████████████████████████████████████████████████████████████████████▌                                 | 736/1071 [00:10<00:05, 64.00it/s, now=None]\u001b[A\n",
      "t:  69%|██████████████████████████████████████████████████████████████████████████▏                                | 743/1071 [00:10<00:05, 64.65it/s, now=None]\u001b[A\n",
      "t:  70%|██████████████████████████████████████████████████████████████████████████▉                                | 750/1071 [00:10<00:04, 64.63it/s, now=None]\u001b[A\n",
      "t:  71%|███████████████████████████████████████████████████████████████████████████▋                               | 757/1071 [00:10<00:04, 63.83it/s, now=None]\u001b[A\n",
      "t:  71%|████████████████████████████████████████████████████████████████████████████▎                              | 764/1071 [00:11<00:05, 55.54it/s, now=None]\u001b[A\n",
      "t:  72%|█████████████████████████████████████████████████████████████████████████████                              | 771/1071 [00:11<00:05, 57.28it/s, now=None]\u001b[A\n",
      "t:  73%|█████████████████████████████████████████████████████████████████████████████▋                             | 778/1071 [00:11<00:04, 59.21it/s, now=None]\u001b[A\n",
      "t:  73%|██████████████████████████████████████████████████████████████████████████████▍                            | 785/1071 [00:11<00:04, 60.30it/s, now=None]\u001b[A\n",
      "t:  74%|███████████████████████████████████████████████████████████████████████████████▏                           | 792/1071 [00:11<00:04, 60.69it/s, now=None]\u001b[A\n",
      "t:  75%|███████████████████████████████████████████████████████████████████████████████▊                           | 799/1071 [00:11<00:04, 63.15it/s, now=None]\u001b[A\n",
      "t:  75%|████████████████████████████████████████████████████████████████████████████████▌                          | 806/1071 [00:11<00:04, 62.02it/s, now=None]\u001b[A\n",
      "t:  76%|█████████████████████████████████████████████████████████████████████████████████▏                         | 813/1071 [00:11<00:04, 61.14it/s, now=None]\u001b[A\n",
      "t:  77%|█████████████████████████████████████████████████████████████████████████████████▉                         | 820/1071 [00:12<00:04, 56.29it/s, now=None]\u001b[A\n",
      "t:  77%|██████████████████████████████████████████████████████████████████████████████████▌                        | 827/1071 [00:12<00:04, 56.02it/s, now=None]\u001b[A\n",
      "t:  78%|███████████████████████████████████████████████████████████████████████████████████▏                       | 833/1071 [00:12<00:04, 55.68it/s, now=None]\u001b[A\n",
      "t:  78%|███████████████████████████████████████████████████████████████████████████████████▊                       | 839/1071 [00:12<00:04, 52.39it/s, now=None]\u001b[A\n",
      "t:  79%|████████████████████████████████████████████████████████████████████████████████████▍                      | 845/1071 [00:12<00:04, 52.63it/s, now=None]\u001b[A\n",
      "t:  79%|█████████████████████████████████████████████████████████████████████████████████████                      | 851/1071 [00:12<00:04, 53.14it/s, now=None]\u001b[A\n",
      "t:  80%|█████████████████████████████████████████████████████████████████████████████████████▌                     | 857/1071 [00:12<00:04, 52.87it/s, now=None]\u001b[A\n",
      "t:  81%|██████████████████████████████████████████████████████████████████████████████████████▏                    | 863/1071 [00:12<00:03, 52.59it/s, now=None]\u001b[A\n",
      "t:  81%|██████████████████████████████████████████████████████████████████████████████████████▊                    | 869/1071 [00:12<00:03, 54.26it/s, now=None]\u001b[A\n",
      "t:  82%|███████████████████████████████████████████████████████████████████████████████████████▍                   | 875/1071 [00:13<00:03, 51.68it/s, now=None]\u001b[A\n",
      "t:  82%|████████████████████████████████████████████████████████████████████████████████████████                   | 881/1071 [00:13<00:03, 53.68it/s, now=None]\u001b[A\n",
      "t:  83%|████████████████████████████████████████████████████████████████████████████████████████▌                  | 887/1071 [00:13<00:03, 47.17it/s, now=None]\u001b[A\n",
      "t:  83%|█████████████████████████████████████████████████████████████████████████████████████████▏                 | 893/1071 [00:13<00:03, 48.63it/s, now=None]\u001b[A\n",
      "t:  84%|█████████████████████████████████████████████████████████████████████████████████████████▉                 | 900/1071 [00:13<00:03, 52.64it/s, now=None]\u001b[A\n",
      "t:  85%|██████████████████████████████████████████████████████████████████████████████████████████▌                | 906/1071 [00:13<00:03, 53.99it/s, now=None]\u001b[A\n",
      "t:  85%|███████████████████████████████████████████████████████████████████████████████████████████                | 912/1071 [00:13<00:03, 50.48it/s, now=None]\u001b[A\n",
      "t:  86%|███████████████████████████████████████████████████████████████████████████████████████████▋               | 918/1071 [00:13<00:02, 51.08it/s, now=None]\u001b[A\n",
      "t:  86%|████████████████████████████████████████████████████████████████████████████████████████████▎              | 924/1071 [00:14<00:03, 48.15it/s, now=None]\u001b[A\n",
      "t:  87%|████████████████████████████████████████████████████████████████████████████████████████████▊              | 929/1071 [00:14<00:02, 48.61it/s, now=None]\u001b[A\n",
      "t:  87%|█████████████████████████████████████████████████████████████████████████████████████████████▍             | 935/1071 [00:14<00:02, 50.82it/s, now=None]\u001b[A\n",
      "t:  88%|██████████████████████████████████████████████████████████████████████████████████████████████             | 942/1071 [00:14<00:02, 54.00it/s, now=None]\u001b[A\n",
      "t:  89%|██████████████████████████████████████████████████████████████████████████████████████████████▊            | 949/1071 [00:14<00:02, 56.87it/s, now=None]\u001b[A\n",
      "t:  89%|███████████████████████████████████████████████████████████████████████████████████████████████▍           | 955/1071 [00:14<00:02, 56.55it/s, now=None]\u001b[A\n",
      "t:  90%|████████████████████████████████████████████████████████████████████████████████████████████████           | 961/1071 [00:14<00:02, 53.15it/s, now=None]\u001b[A\n",
      "t:  90%|████████████████████████████████████████████████████████████████████████████████████████████████▋          | 968/1071 [00:14<00:01, 56.46it/s, now=None]\u001b[A\n",
      "t:  91%|█████████████████████████████████████████████████████████████████████████████████████████████████▎         | 974/1071 [00:14<00:01, 56.46it/s, now=None]\u001b[A\n",
      "t:  92%|█████████████████████████████████████████████████████████████████████████████████████████████████▉         | 980/1071 [00:15<00:01, 54.75it/s, now=None]\u001b[A\n",
      "t:  92%|██████████████████████████████████████████████████████████████████████████████████████████████████▌        | 986/1071 [00:15<00:01, 55.65it/s, now=None]\u001b[A\n",
      "t:  93%|███████████████████████████████████████████████████████████████████████████████████████████████████▎       | 994/1071 [00:15<00:01, 61.98it/s, now=None]\u001b[A\n",
      "t:  93%|███████████████████████████████████████████████████████████████████████████████████████████████████       | 1001/1071 [00:15<00:01, 63.99it/s, now=None]\u001b[A\n",
      "t:  94%|███████████████████████████████████████████████████████████████████████████████████████████████████▊      | 1009/1071 [00:15<00:00, 66.62it/s, now=None]\u001b[A\n",
      "t:  95%|████████████████████████████████████████████████████████████████████████████████████████████████████▋     | 1017/1071 [00:15<00:00, 70.05it/s, now=None]\u001b[A\n",
      "t:  96%|█████████████████████████████████████████████████████████████████████████████████████████████████████▋    | 1027/1071 [00:15<00:00, 77.06it/s, now=None]\u001b[A\n",
      "t:  97%|██████████████████████████████████████████████████████████████████████████████████████████████████████▍   | 1035/1071 [00:15<00:00, 76.41it/s, now=None]\u001b[A\n",
      "t:  97%|███████████████████████████████████████████████████████████████████████████████████████████████████████▎  | 1044/1071 [00:15<00:00, 77.66it/s, now=None]\u001b[A\n",
      "t:  98%|████████████████████████████████████████████████████████████████████████████████████████████████████████  | 1052/1071 [00:16<00:00, 78.26it/s, now=None]\u001b[A\n",
      "t:  99%|█████████████████████████████████████████████████████████████████████████████████████████████████████████ | 1061/1071 [00:16<00:00, 81.42it/s, now=None]\u001b[A\n",
      "t: 100%|█████████████████████████████████████████████████████████████████████████████████████████████████████████▉| 1070/1071 [00:16<00:00, 81.87it/s, now=None]\u001b[A\n",
      "t:  16%|█████████████████                                                                                          | 166/1042 [12:16<00:21, 41.42it/s, now=None]\u001b[A"
     ]
    },
    {
     "name": "stdout",
     "output_type": "stream",
     "text": [
      "Moviepy - Done !\n",
      "Moviepy - video ready final.mp4\n"
     ]
    }
   ],
   "source": [
    "final_clip.write_videofile(\"final.mp4\")"
   ]
  },
  {
   "cell_type": "code",
   "execution_count": null,
   "id": "0dcbe66b-2479-44b4-9042-34950b9afd3c",
   "metadata": {},
   "outputs": [],
   "source": []
  },
  {
   "cell_type": "code",
   "execution_count": 174,
   "id": "660e4c85-eab8-4ea9-943b-5d401f75e057",
   "metadata": {
    "collapsed": true,
    "jupyter": {
     "outputs_hidden": true
    },
    "tags": []
   },
   "outputs": [
    {
     "name": "stdout",
     "output_type": "stream",
     "text": [
      "ffmpeg version 4.2.4-1ubuntu0.1 Copyright (c) 2000-2020 the FFmpeg developers\n",
      "  built with gcc 9 (Ubuntu 9.3.0-10ubuntu2)\n",
      "  configuration: --prefix=/usr --extra-version=1ubuntu0.1 --toolchain=hardened --libdir=/usr/lib/x86_64-linux-gnu --incdir=/usr/include/x86_64-linux-gnu --arch=amd64 --enable-gpl --disable-stripping --enable-avresample --disable-filter=resample --enable-avisynth --enable-gnutls --enable-ladspa --enable-libaom --enable-libass --enable-libbluray --enable-libbs2b --enable-libcaca --enable-libcdio --enable-libcodec2 --enable-libflite --enable-libfontconfig --enable-libfreetype --enable-libfribidi --enable-libgme --enable-libgsm --enable-libjack --enable-libmp3lame --enable-libmysofa --enable-libopenjpeg --enable-libopenmpt --enable-libopus --enable-libpulse --enable-librsvg --enable-librubberband --enable-libshine --enable-libsnappy --enable-libsoxr --enable-libspeex --enable-libssh --enable-libtheora --enable-libtwolame --enable-libvidstab --enable-libvorbis --enable-libvpx --enable-libwavpack --enable-libwebp --enable-libx265 --enable-libxml2 --enable-libxvid --enable-libzmq --enable-libzvbi --enable-lv2 --enable-omx --enable-openal --enable-opencl --enable-opengl --enable-sdl2 --enable-libdc1394 --enable-libdrm --enable-libiec61883 --enable-nvenc --enable-chromaprint --enable-frei0r --enable-libx264 --enable-shared\n",
      "  libavutil      56. 31.100 / 56. 31.100\n",
      "  libavcodec     58. 54.100 / 58. 54.100\n",
      "  libavformat    58. 29.100 / 58. 29.100\n",
      "  libavdevice    58.  8.100 / 58.  8.100\n",
      "  libavfilter     7. 57.100 /  7. 57.100\n",
      "  libavresample   4.  0.  0 /  4.  0.  0\n",
      "  libswscale      5.  5.100 /  5.  5.100\n",
      "  libswresample   3.  5.100 /  3.  5.100\n",
      "  libpostproc    55.  5.100 / 55.  5.100\n",
      "Input #0, mov,mp4,m4a,3gp,3g2,mj2, from 'please_stand_by.mp4':\n",
      "  Metadata:\n",
      "    major_brand     : isom\n",
      "    minor_version   : 512\n",
      "    compatible_brands: isomiso2avc1mp41\n",
      "    encoder         : Lavf58.29.100\n",
      "  Duration: 00:00:01.31, start: 0.000000, bitrate: 383 kb/s\n",
      "    Stream #0:0(und): Video: h264 (High 4:4:4 Predictive) (avc1 / 0x31637661), yuv444p, 2555x1077, 307 kb/s, 100 fps, 100 tbr, 12800 tbn, 200 tbc (default)\n",
      "    Metadata:\n",
      "      handler_name    : VideoHandler\n",
      "    Stream #0:1(und): Audio: mp3 (mp4a / 0x6134706D), 44100 Hz, stereo, fltp, 127 kb/s (default)\n",
      "    Metadata:\n",
      "      handler_name    : SoundHandler\n",
      "\u001b[4;31mAt least one output file must be specified\n",
      "\u001b[0m"
     ]
    }
   ],
   "source": [
    "! ffmpeg -i please_stand_by.mp4"
   ]
  },
  {
   "cell_type": "code",
   "execution_count": 173,
   "id": "79176275-c29f-4f69-8724-a773499b6f90",
   "metadata": {
    "collapsed": true,
    "jupyter": {
     "outputs_hidden": true
    },
    "tags": []
   },
   "outputs": [
    {
     "name": "stdout",
     "output_type": "stream",
     "text": [
      "ffmpeg version 4.2.4-1ubuntu0.1 Copyright (c) 2000-2020 the FFmpeg developers\n",
      "  built with gcc 9 (Ubuntu 9.3.0-10ubuntu2)\n",
      "  configuration: --prefix=/usr --extra-version=1ubuntu0.1 --toolchain=hardened --libdir=/usr/lib/x86_64-linux-gnu --incdir=/usr/include/x86_64-linux-gnu --arch=amd64 --enable-gpl --disable-stripping --enable-avresample --disable-filter=resample --enable-avisynth --enable-gnutls --enable-ladspa --enable-libaom --enable-libass --enable-libbluray --enable-libbs2b --enable-libcaca --enable-libcdio --enable-libcodec2 --enable-libflite --enable-libfontconfig --enable-libfreetype --enable-libfribidi --enable-libgme --enable-libgsm --enable-libjack --enable-libmp3lame --enable-libmysofa --enable-libopenjpeg --enable-libopenmpt --enable-libopus --enable-libpulse --enable-librsvg --enable-librubberband --enable-libshine --enable-libsnappy --enable-libsoxr --enable-libspeex --enable-libssh --enable-libtheora --enable-libtwolame --enable-libvidstab --enable-libvorbis --enable-libvpx --enable-libwavpack --enable-libwebp --enable-libx265 --enable-libxml2 --enable-libxvid --enable-libzmq --enable-libzvbi --enable-lv2 --enable-omx --enable-openal --enable-opencl --enable-opengl --enable-sdl2 --enable-libdc1394 --enable-libdrm --enable-libiec61883 --enable-nvenc --enable-chromaprint --enable-frei0r --enable-libx264 --enable-shared\n",
      "  libavutil      56. 31.100 / 56. 31.100\n",
      "  libavcodec     58. 54.100 / 58. 54.100\n",
      "  libavformat    58. 29.100 / 58. 29.100\n",
      "  libavdevice    58.  8.100 / 58.  8.100\n",
      "  libavfilter     7. 57.100 /  7. 57.100\n",
      "  libavresample   4.  0.  0 /  4.  0.  0\n",
      "  libswscale      5.  5.100 /  5.  5.100\n",
      "  libswresample   3.  5.100 /  3.  5.100\n",
      "  libpostproc    55.  5.100 / 55.  5.100\n",
      "Input #0, mov,mp4,m4a,3gp,3g2,mj2, from 'please_stand_by.mp4':\n",
      "  Metadata:\n",
      "    major_brand     : isom\n",
      "    minor_version   : 512\n",
      "    compatible_brands: isomiso2avc1mp41\n",
      "    encoder         : Lavf58.29.100\n",
      "  Duration: 00:00:01.31, start: 0.000000, bitrate: 383 kb/s\n",
      "    Stream #0:0(und): Video: h264 (High 4:4:4 Predictive) (avc1 / 0x31637661), yuv444p, 2555x1077, 307 kb/s, 100 fps, 100 tbr, 12800 tbn, 200 tbc (default)\n",
      "    Metadata:\n",
      "      handler_name    : VideoHandler\n",
      "    Stream #0:1(und): Audio: mp3 (mp4a / 0x6134706D), 44100 Hz, stereo, fltp, 127 kb/s (default)\n",
      "    Metadata:\n",
      "      handler_name    : SoundHandler\n",
      "Stream mapping:\n",
      "  Stream #0:0 -> #0:0 (h264 (native) -> h264 (libx264))\n",
      "  Stream #0:1 -> #0:1 (mp3 (mp3float) -> aac (native))\n",
      "Press [q] to stop, [?] for help\n",
      "\u001b[1;36m[libx264 @ 0x5633460afe40] \u001b[0musing cpu capabilities: MMX2 SSE2Fast SSSE3 SSE4.2 AVX FMA3 BMI2 AVX2\n",
      "\u001b[1;36m[libx264 @ 0x5633460afe40] \u001b[0mprofile High 4:4:4 Predictive, level 5.1, 4:4:4 8-bit\n",
      "\u001b[1;36m[libx264 @ 0x5633460afe40] \u001b[0m264 - core 155 r2917 0a84d98 - H.264/MPEG-4 AVC codec - Copyleft 2003-2018 - http://www.videolan.org/x264.html - options: cabac=1 ref=3 deblock=1:0:0 analyse=0x1:0x111 me=hex subme=7 psy=1 psy_rd=1.00:0.00 mixed_ref=1 me_range=16 chroma_me=1 trellis=1 8x8dct=0 cqm=0 deadzone=21,11 fast_pskip=1 chroma_qp_offset=4 threads=18 lookahead_threads=3 sliced_threads=0 nr=0 decimate=1 interlaced=0 bluray_compat=0 constrained_intra=0 bframes=3 b_pyramid=2 b_adapt=1 b_bias=0 direct=1 weightb=1 open_gop=0 weightp=2 keyint=250 keyint_min=25 scenecut=40 intra_refresh=0 rc_lookahead=40 rc=crf mbtree=1 crf=23.0 qcomp=0.60 qpmin=0 qpmax=69 qpstep=4 ip_ratio=1.40 aq=1:1.00\n",
      "Output #0, mp4, to 'output.mp4':\n",
      "  Metadata:\n",
      "    major_brand     : isom\n",
      "    minor_version   : 512\n",
      "    compatible_brands: isomiso2avc1mp41\n",
      "    encoder         : Lavf58.29.100\n",
      "    Stream #0:0(und): Video: h264 (libx264) (avc1 / 0x31637661), yuv444p, 1920x1080, q=-1--1, 100 fps, 12800 tbn, 100 tbc (default)\n",
      "    Metadata:\n",
      "      handler_name    : VideoHandler\n",
      "      encoder         : Lavc58.54.100 libx264\n",
      "    Side data:\n",
      "      cpb: bitrate max/min/avg: 0/0/0 buffer size: 0 vbv_delay: -1\n",
      "    Stream #0:1(und): Audio: aac (LC) (mp4a / 0x6134706D), 44100 Hz, stereo, fltp, 128 kb/s (default)\n",
      "    Metadata:\n",
      "      handler_name    : SoundHandler\n",
      "      encoder         : Lavc58.54.100 aac\n",
      "frame=  100 fps= 69 q=-1.0 Lsize=      54kB time=00:00:01.30 bitrate= 341.3kbits/s speed=0.903x    \n",
      "video:31kB audio:20kB subtitle:0kB other streams:0kB global headers:0kB muxing overhead: 6.694617%\n",
      "\u001b[1;36m[libx264 @ 0x5633460afe40] \u001b[0mframe I:1     Avg QP:17.97  size: 15843\n",
      "\u001b[1;36m[libx264 @ 0x5633460afe40] \u001b[0mframe P:25    Avg QP:19.61  size:   200\n",
      "\u001b[1;36m[libx264 @ 0x5633460afe40] \u001b[0mframe B:74    Avg QP:38.34  size:   133\n",
      "\u001b[1;36m[libx264 @ 0x5633460afe40] \u001b[0mconsecutive B-frames:  1.0%  0.0%  3.0% 96.0%\n",
      "\u001b[1;36m[libx264 @ 0x5633460afe40] \u001b[0mmb I  I16..4: 92.4%  0.0%  7.6%\n",
      "\u001b[1;36m[libx264 @ 0x5633460afe40] \u001b[0mmb P  I16..4:  0.2%  0.0%  0.0%  P16..4:  0.5%  0.2%  0.0%  0.0%  0.0%    skip:99.0%\n",
      "\u001b[1;36m[libx264 @ 0x5633460afe40] \u001b[0mmb B  I16..4:  0.0%  0.0%  0.0%  B16..8:  0.9%  0.0%  0.0%  direct: 0.0%  skip:99.1%  L0:38.9% L1:61.1% BI: 0.0%\n",
      "\u001b[1;36m[libx264 @ 0x5633460afe40] \u001b[0mcoded y,u,v intra: 4.4% 0.9% 0.7% inter: 0.0% 0.0% 0.0%\n",
      "\u001b[1;36m[libx264 @ 0x5633460afe40] \u001b[0mi16 v,h,dc,p: 78% 20%  1%  1%\n",
      "\u001b[1;36m[libx264 @ 0x5633460afe40] \u001b[0mi4 v,h,dc,ddl,ddr,vr,hd,vl,hu: 40% 20% 23%  2%  2%  6%  1%  4%  1%\n",
      "\u001b[1;36m[libx264 @ 0x5633460afe40] \u001b[0mWeighted P-Frames: Y:0.0% UV:0.0%\n",
      "\u001b[1;36m[libx264 @ 0x5633460afe40] \u001b[0mref P L0: 83.8%  0.4% 14.6%  1.2%\n",
      "\u001b[1;36m[libx264 @ 0x5633460afe40] \u001b[0mref B L0: 22.8% 77.2%\n",
      "\u001b[1;36m[libx264 @ 0x5633460afe40] \u001b[0mref B L1: 97.5%  2.5%\n",
      "\u001b[1;36m[libx264 @ 0x5633460afe40] \u001b[0mkb/s:245.56\n",
      "\u001b[1;36m[aac @ 0x56334608ac00] \u001b[0mQavg: 8330.461\n"
     ]
    }
   ],
   "source": [
    "! ffmpeg -i please_stand_by.mp4 -vf scale=\"1920:1080\" output.mp4 -y"
   ]
  },
  {
   "cell_type": "code",
   "execution_count": 163,
   "id": "0ca5b249-2552-44b5-b179-8c3bfb10b963",
   "metadata": {
    "collapsed": true,
    "jupyter": {
     "outputs_hidden": true
    },
    "tags": []
   },
   "outputs": [
    {
     "name": "stderr",
     "output_type": "stream",
     "text": [
      "ffmpeg version 4.2.4-1ubuntu0.1 Copyright (c) 2000-2020 the FFmpeg developers\n",
      "  built with gcc 9 (Ubuntu 9.3.0-10ubuntu2)\n",
      "  configuration: --prefix=/usr --extra-version=1ubuntu0.1 --toolchain=hardened --libdir=/usr/lib/x86_64-linux-gnu --incdir=/usr/include/x86_64-linux-gnu --arch=amd64 --enable-gpl --disable-stripping --enable-avresample --disable-filter=resample --enable-avisynth --enable-gnutls --enable-ladspa --enable-libaom --enable-libass --enable-libbluray --enable-libbs2b --enable-libcaca --enable-libcdio --enable-libcodec2 --enable-libflite --enable-libfontconfig --enable-libfreetype --enable-libfribidi --enable-libgme --enable-libgsm --enable-libjack --enable-libmp3lame --enable-libmysofa --enable-libopenjpeg --enable-libopenmpt --enable-libopus --enable-libpulse --enable-librsvg --enable-librubberband --enable-libshine --enable-libsnappy --enable-libsoxr --enable-libspeex --enable-libssh --enable-libtheora --enable-libtwolame --enable-libvidstab --enable-libvorbis --enable-libvpx --enable-libwavpack --enable-libwebp --enable-libx265 --enable-libxml2 --enable-libxvid --enable-libzmq --enable-libzvbi --enable-lv2 --enable-omx --enable-openal --enable-opencl --enable-opengl --enable-sdl2 --enable-libdc1394 --enable-libdrm --enable-libiec61883 --enable-nvenc --enable-chromaprint --enable-frei0r --enable-libx264 --enable-shared\n",
      "  libavutil      56. 31.100 / 56. 31.100\n",
      "  libavcodec     58. 54.100 / 58. 54.100\n",
      "  libavformat    58. 29.100 / 58. 29.100\n",
      "  libavdevice    58.  8.100 / 58.  8.100\n",
      "  libavfilter     7. 57.100 /  7. 57.100\n",
      "  libavresample   4.  0.  0 /  4.  0.  0\n",
      "  libswscale      5.  5.100 /  5.  5.100\n",
      "  libswresample   3.  5.100 /  3.  5.100\n",
      "  libpostproc    55.  5.100 / 55.  5.100\n",
      "Input #0, mov,mp4,m4a,3gp,3g2,mj2, from 'please_stand_by.mp4':\n",
      "  Metadata:\n",
      "    major_brand     : isom\n",
      "    minor_version   : 512\n",
      "    compatible_brands: isomiso2avc1mp41\n",
      "    encoder         : Lavf58.29.100\n",
      "  Duration: 00:00:01.31, start: 0.000000, bitrate: 383 kb/s\n",
      "    Stream #0:0(und): Video: h264 (High 4:4:4 Predictive) (avc1 / 0x31637661), yuv444p, 2555x1077, 307 kb/s, 100 fps, 100 tbr, 12800 tbn, 200 tbc (default)\n",
      "    Metadata:\n",
      "      handler_name    : VideoHandler\n",
      "    Stream #0:1(und): Audio: mp3 (mp4a / 0x6134706D), 44100 Hz, stereo, fltp, 127 kb/s (default)\n",
      "    Metadata:\n",
      "      handler_name    : SoundHandler\n",
      "Stream mapping:\n",
      "  Stream #0:0 -> #0:0 (h264 (native) -> h264 (libx264))\n",
      "  Stream #0:1 -> #0:1 (mp3 (mp3float) -> aac (native))\n",
      "Press [q] to stop, [?] for help\n",
      "[libx264 @ 0x55acdd6a9e40] using cpu capabilities: MMX2 SSE2Fast SSSE3 SSE4.2 AVX FMA3 BMI2 AVX2\n",
      "[libx264 @ 0x55acdd6a9e40] profile High 4:4:4 Predictive, level 5.1, 4:4:4 8-bit\n",
      "[libx264 @ 0x55acdd6a9e40] 264 - core 155 r2917 0a84d98 - H.264/MPEG-4 AVC codec - Copyleft 2003-2018 - http://www.videolan.org/x264.html - options: cabac=1 ref=3 deblock=1:0:0 analyse=0x1:0x111 me=hex subme=7 psy=1 psy_rd=1.00:0.00 mixed_ref=1 me_range=16 chroma_me=1 trellis=1 8x8dct=0 cqm=0 deadzone=21,11 fast_pskip=1 chroma_qp_offset=4 threads=18 lookahead_threads=3 sliced_threads=0 nr=0 decimate=1 interlaced=0 bluray_compat=0 constrained_intra=0 bframes=3 b_pyramid=2 b_adapt=1 b_bias=0 direct=1 weightb=1 open_gop=0 weightp=2 keyint=250 keyint_min=25 scenecut=40 intra_refresh=0 rc_lookahead=40 rc=crf mbtree=1 crf=23.0 qcomp=0.60 qpmin=0 qpmax=69 qpstep=4 ip_ratio=1.40 aq=1:1.00\n",
      "Output #0, mp4, to 'out.mp4':\n",
      "  Metadata:\n",
      "    major_brand     : isom\n",
      "    minor_version   : 512\n",
      "    compatible_brands: isomiso2avc1mp41\n",
      "    encoder         : Lavf58.29.100\n",
      "    Stream #0:0(und): Video: h264 (libx264) (avc1 / 0x31637661), yuv444p, 1920x1080, q=-1--1, 100 fps, 12800 tbn, 100 tbc (default)\n",
      "    Metadata:\n",
      "      handler_name    : VideoHandler\n",
      "      encoder         : Lavc58.54.100 libx264\n",
      "    Side data:\n",
      "      cpb: bitrate max/min/avg: 0/0/0 buffer size: 0 vbv_delay: -1\n",
      "    Stream #0:1(und): Audio: aac (LC) (mp4a / 0x6134706D), 44100 Hz, stereo, fltp, 128 kb/s (default)\n",
      "    Metadata:\n",
      "      handler_name    : SoundHandler\n",
      "      encoder         : Lavc58.54.100 aac\n",
      "frame=  100 fps= 70 q=-1.0 Lsize=      50kB time=00:00:01.30 bitrate= 312.1kbits/s speed=0.908x    \n",
      "video:26kB audio:20kB subtitle:0kB other streams:0kB global headers:0kB muxing overhead: 7.367352%\n",
      "[libx264 @ 0x55acdd6a9e40] frame I:1     Avg QP:17.49  size: 12723\n",
      "[libx264 @ 0x55acdd6a9e40] frame P:25    Avg QP:14.47  size:   166\n",
      "[libx264 @ 0x55acdd6a9e40] frame B:74    Avg QP:17.68  size:   123\n",
      "[libx264 @ 0x55acdd6a9e40] consecutive B-frames:  1.0%  0.0%  3.0% 96.0%\n",
      "[libx264 @ 0x55acdd6a9e40] mb I  I16..4: 94.3%  0.0%  5.7%\n",
      "[libx264 @ 0x55acdd6a9e40] mb P  I16..4:  0.1%  0.0%  0.0%  P16..4:  0.3%  0.2%  0.0%  0.0%  0.0%    skip:99.3%\n",
      "[libx264 @ 0x55acdd6a9e40] mb B  I16..4:  0.0%  0.0%  0.0%  B16..8:  0.8%  0.0%  0.0%  direct: 0.0%  skip:99.2%  L0:31.5% L1:68.5% BI: 0.0%\n",
      "[libx264 @ 0x55acdd6a9e40] coded y,u,v intra: 3.2% 0.6% 0.5% inter: 0.0% 0.0% 0.0%\n",
      "[libx264 @ 0x55acdd6a9e40] i16 v,h,dc,p: 78% 19%  2%  0%\n",
      "[libx264 @ 0x55acdd6a9e40] i4 v,h,dc,ddl,ddr,vr,hd,vl,hu: 37% 21% 23%  3%  3%  6%  2%  6%  1%\n",
      "[libx264 @ 0x55acdd6a9e40] Weighted P-Frames: Y:0.0% UV:0.0%\n",
      "[libx264 @ 0x55acdd6a9e40] ref P L0: 90.5%  0.7%  7.4%  1.4%\n",
      "[libx264 @ 0x55acdd6a9e40] ref B L0: 28.0% 72.0%\n",
      "[libx264 @ 0x55acdd6a9e40] ref B L1: 99.0%  1.0%\n",
      "[libx264 @ 0x55acdd6a9e40] kb/s:207.58\n",
      "[aac @ 0x55acdd684c00] Qavg: 8330.461\n"
     ]
    },
    {
     "data": {
      "text/plain": [
       "0"
      ]
     },
     "execution_count": 163,
     "metadata": {},
     "output_type": "execute_result"
    }
   ],
   "source": [
    "\n",
    "os.system(f'ffmpeg -i please_stand_by.mp4 -vf \"scale=1920:1080:force_original_aspect_ratio=decrease,pad=1920:1080:-1:-1:color=black\" out.mp4 -y')\n",
    "    \n"
   ]
  },
  {
   "cell_type": "code",
   "execution_count": null,
   "id": "f1cb8b8c-64be-49ab-be66-a0aee5938ff7",
   "metadata": {},
   "outputs": [],
   "source": []
  },
  {
   "cell_type": "code",
   "execution_count": 155,
   "id": "03b174fe-ed62-43f1-a944-cf64e1509315",
   "metadata": {
    "collapsed": true,
    "jupyter": {
     "outputs_hidden": true
    },
    "tags": []
   },
   "outputs": [
    {
     "name": "stdout",
     "output_type": "stream",
     "text": [
      "ffmpeg version 4.2.4-1ubuntu0.1 Copyright (c) 2000-2020 the FFmpeg developers\n",
      "  built with gcc 9 (Ubuntu 9.3.0-10ubuntu2)\n",
      "  configuration: --prefix=/usr --extra-version=1ubuntu0.1 --toolchain=hardened --libdir=/usr/lib/x86_64-linux-gnu --incdir=/usr/include/x86_64-linux-gnu --arch=amd64 --enable-gpl --disable-stripping --enable-avresample --disable-filter=resample --enable-avisynth --enable-gnutls --enable-ladspa --enable-libaom --enable-libass --enable-libbluray --enable-libbs2b --enable-libcaca --enable-libcdio --enable-libcodec2 --enable-libflite --enable-libfontconfig --enable-libfreetype --enable-libfribidi --enable-libgme --enable-libgsm --enable-libjack --enable-libmp3lame --enable-libmysofa --enable-libopenjpeg --enable-libopenmpt --enable-libopus --enable-libpulse --enable-librsvg --enable-librubberband --enable-libshine --enable-libsnappy --enable-libsoxr --enable-libspeex --enable-libssh --enable-libtheora --enable-libtwolame --enable-libvidstab --enable-libvorbis --enable-libvpx --enable-libwavpack --enable-libwebp --enable-libx265 --enable-libxml2 --enable-libxvid --enable-libzmq --enable-libzvbi --enable-lv2 --enable-omx --enable-openal --enable-opencl --enable-opengl --enable-sdl2 --enable-libdc1394 --enable-libdrm --enable-libiec61883 --enable-nvenc --enable-chromaprint --enable-frei0r --enable-libx264 --enable-shared\n",
      "  libavutil      56. 31.100 / 56. 31.100\n",
      "  libavcodec     58. 54.100 / 58. 54.100\n",
      "  libavformat    58. 29.100 / 58. 29.100\n",
      "  libavdevice    58.  8.100 / 58.  8.100\n",
      "  libavfilter     7. 57.100 /  7. 57.100\n",
      "  libavresample   4.  0.  0 /  4.  0.  0\n",
      "  libswscale      5.  5.100 /  5.  5.100\n",
      "  libswresample   3.  5.100 /  3.  5.100\n",
      "  libpostproc    55.  5.100 / 55.  5.100\n",
      "Input #0, mov,mp4,m4a,3gp,3g2,mj2, from 'directed_by.mp4':\n",
      "  Metadata:\n",
      "    major_brand     : mp42\n",
      "    minor_version   : 0\n",
      "    compatible_brands: isommp42\n",
      "    creation_time   : 2021-04-28T02:53:19.000000Z\n",
      "  Duration: 00:00:10.36, start: 0.000000, bitrate: 708 kb/s\n",
      "    Stream #0:0(und): Video: h264 (High) (avc1 / 0x31637661), yuv420p(tv, bt709), 1280x720 [SAR 1:1 DAR 16:9], 573 kb/s, 30 fps, 30 tbr, 15360 tbn, 60 tbc (default)\n",
      "    Metadata:\n",
      "      creation_time   : 2021-04-28T02:53:19.000000Z\n",
      "      handler_name    : ISO Media file produced by Google Inc. Created on: 04/27/2021.\n",
      "    Stream #0:1(und): Audio: aac (LC) (mp4a / 0x6134706D), 44100 Hz, stereo, fltp, 128 kb/s (default)\n",
      "    Metadata:\n",
      "      creation_time   : 2021-04-28T02:53:19.000000Z\n",
      "      handler_name    : ISO Media file produced by Google Inc. Created on: 04/27/2021.\n",
      "Stream mapping:\n",
      "  Stream #0:0 -> #0:0 (h264 (native) -> h264 (libx264))\n",
      "  Stream #0:1 -> #0:1 (aac (native) -> aac (native))\n",
      "Press [q] to stop, [?] for help\n",
      "\u001b[1;36m[libx264 @ 0x55cb1401b540] \u001b[0musing SAR=1/1\n",
      "\u001b[1;36m[libx264 @ 0x55cb1401b540] \u001b[0musing cpu capabilities: MMX2 SSE2Fast SSSE3 SSE4.2 AVX FMA3 BMI2 AVX2\n",
      "\u001b[1;36m[libx264 @ 0x55cb1401b540] \u001b[0mprofile High, level 4.0\n",
      "\u001b[1;36m[libx264 @ 0x55cb1401b540] \u001b[0m264 - core 155 r2917 0a84d98 - H.264/MPEG-4 AVC codec - Copyleft 2003-2018 - http://www.videolan.org/x264.html - options: cabac=1 ref=3 deblock=1:0:0 analyse=0x3:0x113 me=hex subme=7 psy=1 psy_rd=1.00:0.00 mixed_ref=1 me_range=16 chroma_me=1 trellis=1 8x8dct=1 cqm=0 deadzone=21,11 fast_pskip=1 chroma_qp_offset=-2 threads=18 lookahead_threads=3 sliced_threads=0 nr=0 decimate=1 interlaced=0 bluray_compat=0 constrained_intra=0 bframes=3 b_pyramid=2 b_adapt=1 b_bias=0 direct=1 weightb=1 open_gop=0 weightp=2 keyint=250 keyint_min=25 scenecut=40 intra_refresh=0 rc_lookahead=40 rc=crf mbtree=1 crf=23.0 qcomp=0.60 qpmin=0 qpmax=69 qpstep=4 ip_ratio=1.40 aq=1:1.00\n",
      "Output #0, mp4, to 'directed_by_scaled.mp4':\n",
      "  Metadata:\n",
      "    major_brand     : mp42\n",
      "    minor_version   : 0\n",
      "    compatible_brands: isommp42\n",
      "    encoder         : Lavf58.29.100\n",
      "    Stream #0:0(und): Video: h264 (libx264) (avc1 / 0x31637661), yuv420p, 1920x1080 [SAR 1:1 DAR 16:9], q=-1--1, 30 fps, 15360 tbn, 30 tbc (default)\n",
      "    Metadata:\n",
      "      creation_time   : 2021-04-28T02:53:19.000000Z\n",
      "      handler_name    : ISO Media file produced by Google Inc. Created on: 04/27/2021.\n",
      "      encoder         : Lavc58.54.100 libx264\n",
      "    Side data:\n",
      "      cpb: bitrate max/min/avg: 0/0/0 buffer size: 0 vbv_delay: -1\n",
      "    Stream #0:1(und): Audio: aac (LC) (mp4a / 0x6134706D), 44100 Hz, stereo, fltp, 128 kb/s (default)\n",
      "    Metadata:\n",
      "      creation_time   : 2021-04-28T02:53:19.000000Z\n",
      "      handler_name    : ISO Media file produced by Google Inc. Created on: 04/27/2021.\n",
      "      encoder         : Lavc58.54.100 aac\n",
      "frame=  310 fps=112 q=-1.0 Lsize=    1215kB time=00:00:10.35 bitrate= 960.8kbits/s speed=3.76x    \n",
      "video:1039kB audio:164kB subtitle:0kB other streams:0kB global headers:0kB muxing overhead: 0.990573%\n",
      "\u001b[1;36m[libx264 @ 0x55cb1401b540] \u001b[0mframe I:4     Avg QP:12.88  size:  9454\n",
      "\u001b[1;36m[libx264 @ 0x55cb1401b540] \u001b[0mframe P:137   Avg QP:16.60  size:  4811\n",
      "\u001b[1;36m[libx264 @ 0x55cb1401b540] \u001b[0mframe B:169   Avg QP:18.43  size:  2168\n",
      "\u001b[1;36m[libx264 @ 0x55cb1401b540] \u001b[0mconsecutive B-frames: 22.3% 11.0% 12.6% 54.2%\n",
      "\u001b[1;36m[libx264 @ 0x55cb1401b540] \u001b[0mmb I  I16..4: 39.2% 59.8%  1.0%\n",
      "\u001b[1;36m[libx264 @ 0x55cb1401b540] \u001b[0mmb P  I16..4:  2.9%  7.9%  0.5%  P16..4:  2.2%  0.4%  0.1%  0.0%  0.0%    skip:86.1%\n",
      "\u001b[1;36m[libx264 @ 0x55cb1401b540] \u001b[0mmb B  I16..4:  0.2%  0.4%  0.0%  B16..8:  3.2%  0.8%  0.1%  direct: 1.1%  skip:94.2%  L0:48.8% L1:40.7% BI:10.5%\n",
      "\u001b[1;36m[libx264 @ 0x55cb1401b540] \u001b[0m8x8 transform intra:67.9% inter:83.9%\n",
      "\u001b[1;36m[libx264 @ 0x55cb1401b540] \u001b[0mcoded y,uvDC,uvAC intra: 25.1% 42.0% 8.6% inter: 1.1% 3.0% 0.1%\n",
      "\u001b[1;36m[libx264 @ 0x55cb1401b540] \u001b[0mi16 v,h,dc,p: 36% 43%  2% 20%\n",
      "\u001b[1;36m[libx264 @ 0x55cb1401b540] \u001b[0mi8 v,h,dc,ddl,ddr,vr,hd,vl,hu: 33% 33% 17%  2%  3%  3%  4%  2%  3%\n",
      "\u001b[1;36m[libx264 @ 0x55cb1401b540] \u001b[0mi4 v,h,dc,ddl,ddr,vr,hd,vl,hu: 22% 40%  5%  3%  7%  7%  8%  4%  3%\n",
      "\u001b[1;36m[libx264 @ 0x55cb1401b540] \u001b[0mi8c dc,h,v,p: 54% 29% 10%  6%\n",
      "\u001b[1;36m[libx264 @ 0x55cb1401b540] \u001b[0mWeighted P-Frames: Y:16.1% UV:16.1%\n",
      "\u001b[1;36m[libx264 @ 0x55cb1401b540] \u001b[0mref P L0: 73.2%  7.8% 15.7%  2.7%  0.5%\n",
      "\u001b[1;36m[libx264 @ 0x55cb1401b540] \u001b[0mref B L0: 91.6%  6.7%  1.7%\n",
      "\u001b[1;36m[libx264 @ 0x55cb1401b540] \u001b[0mref B L1: 98.7%  1.3%\n",
      "\u001b[1;36m[libx264 @ 0x55cb1401b540] \u001b[0mkb/s:823.21\n",
      "\u001b[1;36m[aac @ 0x55cb14038bc0] \u001b[0mQavg: 2158.445\n"
     ]
    }
   ],
   "source": [
    "! ffmpeg -i directed_by.mp4 -vf \"scale=1920:1080:force_original_aspect_ratio=decrease,pad=1920:1080:-1:-1:color=black\" directed_by_scaled.mp4 -y"
   ]
  },
  {
   "cell_type": "code",
   "execution_count": 32,
   "id": "defaf83f-18a6-4560-9e5d-b67c6b87d110",
   "metadata": {},
   "outputs": [
    {
     "data": {
      "text/plain": [
       "'/home/sourabh/work/personal/whodoesntlovereddit/images/tt'"
      ]
     },
     "execution_count": 32,
     "metadata": {},
     "output_type": "execute_result"
    }
   ],
   "source": [
    "os.getcwd()"
   ]
  },
  {
   "cell_type": "code",
   "execution_count": null,
   "id": "dafd8d67-abd4-4a2e-89a7-c7404d5db501",
   "metadata": {},
   "outputs": [],
   "source": []
  },
  {
   "cell_type": "code",
   "execution_count": 1,
   "id": "0e0267e4-0a73-4099-98fb-951b89a6f834",
   "metadata": {},
   "outputs": [],
   "source": [
    "import os\n",
    "os.chdir('./tt')"
   ]
  },
  {
   "cell_type": "code",
   "execution_count": 5,
   "id": "1933e172-db2a-435c-a724-9b8dbc3b9279",
   "metadata": {
    "collapsed": true,
    "jupyter": {
     "outputs_hidden": true
    },
    "tags": []
   },
   "outputs": [
    {
     "name": "stdout",
     "output_type": "stream",
     "text": [
      "ffmpeg version 4.2.4-1ubuntu0.1 Copyright (c) 2000-2020 the FFmpeg developers\n",
      "  built with gcc 9 (Ubuntu 9.3.0-10ubuntu2)\n",
      "  configuration: --prefix=/usr --extra-version=1ubuntu0.1 --toolchain=hardened --libdir=/usr/lib/x86_64-linux-gnu --incdir=/usr/include/x86_64-linux-gnu --arch=amd64 --enable-gpl --disable-stripping --enable-avresample --disable-filter=resample --enable-avisynth --enable-gnutls --enable-ladspa --enable-libaom --enable-libass --enable-libbluray --enable-libbs2b --enable-libcaca --enable-libcdio --enable-libcodec2 --enable-libflite --enable-libfontconfig --enable-libfreetype --enable-libfribidi --enable-libgme --enable-libgsm --enable-libjack --enable-libmp3lame --enable-libmysofa --enable-libopenjpeg --enable-libopenmpt --enable-libopus --enable-libpulse --enable-librsvg --enable-librubberband --enable-libshine --enable-libsnappy --enable-libsoxr --enable-libspeex --enable-libssh --enable-libtheora --enable-libtwolame --enable-libvidstab --enable-libvorbis --enable-libvpx --enable-libwavpack --enable-libwebp --enable-libx265 --enable-libxml2 --enable-libxvid --enable-libzmq --enable-libzvbi --enable-lv2 --enable-omx --enable-openal --enable-opencl --enable-opengl --enable-sdl2 --enable-libdc1394 --enable-libdrm --enable-libiec61883 --enable-nvenc --enable-chromaprint --enable-frei0r --enable-libx264 --enable-shared\n",
      "  libavutil      56. 31.100 / 56. 31.100\n",
      "  libavcodec     58. 54.100 / 58. 54.100\n",
      "  libavformat    58. 29.100 / 58. 29.100\n",
      "  libavdevice    58.  8.100 / 58.  8.100\n",
      "  libavfilter     7. 57.100 /  7. 57.100\n",
      "  libavresample   4.  0.  0 /  4.  0.  0\n",
      "  libswscale      5.  5.100 /  5.  5.100\n",
      "  libswresample   3.  5.100 /  3.  5.100\n",
      "  libpostproc    55.  5.100 / 55.  5.100\n",
      "Input #0, mov,mp4,m4a,3gp,3g2,mj2, from 'hello.mp4':\n",
      "  Metadata:\n",
      "    major_brand     : isom\n",
      "    minor_version   : 512\n",
      "    compatible_brands: isomiso2avc1mp41\n",
      "    encoder         : Lavf58.29.100\n",
      "  Duration: 00:00:34.73, start: 0.000000, bitrate: 1365 kb/s\n",
      "    Stream #0:0(und): Video: h264 (Main) (avc1 / 0x31637661), yuv420p(tv, bt709), 358x480 [SAR 357:358 DAR 119:160], 1230 kb/s, 30 fps, 30 tbr, 12k tbn, 60 tbc (default)\n",
      "    Metadata:\n",
      "      handler_name    : Bento4 Video Handler\n",
      "    Stream #0:1(und): Audio: aac (LC) (mp4a / 0x6134706D), 48000 Hz, stereo, fltp, 128 kb/s (default)\n",
      "    Metadata:\n",
      "      handler_name    : Bento4 Sound Handler\n",
      "Stream mapping:\n",
      "  Stream #0:0 -> #0:0 (h264 (native) -> h264 (libx264))\n",
      "  Stream #0:1 -> #0:1 (aac (native) -> aac (native))\n",
      "Press [q] to stop, [?] for help\n",
      "\u001b[1;34m[swscaler @ 0x555e821d01c0] \u001b[0m\u001b[0;33mWarning: data is not aligned! This can lead to a speed loss\n",
      "\u001b[0m\u001b[1;36m[libx264 @ 0x555e81d892c0] \u001b[0musing SAR=3213/3224\n",
      "\u001b[1;36m[libx264 @ 0x555e81d892c0] \u001b[0musing cpu capabilities: MMX2 SSE2Fast SSSE3 SSE4.2 AVX FMA3 BMI2 AVX2\n",
      "\u001b[1;36m[libx264 @ 0x555e81d892c0] \u001b[0mprofile High, level 4.0\n",
      "\u001b[1;36m[libx264 @ 0x555e81d892c0] \u001b[0m264 - core 155 r2917 0a84d98 - H.264/MPEG-4 AVC codec - Copyleft 2003-2018 - http://www.videolan.org/x264.html - options: cabac=1 ref=3 deblock=1:0:0 analyse=0x3:0x113 me=hex subme=7 psy=1 psy_rd=1.00:0.00 mixed_ref=1 me_range=16 chroma_me=1 trellis=1 8x8dct=1 cqm=0 deadzone=21,11 fast_pskip=1 chroma_qp_offset=-2 threads=18 lookahead_threads=3 sliced_threads=0 nr=0 decimate=1 interlaced=0 bluray_compat=0 constrained_intra=0 bframes=3 b_pyramid=2 b_adapt=1 b_bias=0 direct=1 weightb=1 open_gop=0 weightp=2 keyint=250 keyint_min=25 scenecut=40 intra_refresh=0 rc_lookahead=40 rc=crf mbtree=1 crf=23.0 qcomp=0.60 qpmin=0 qpmax=69 qpstep=4 ip_ratio=1.40 aq=1:1.00\n",
      "Output #0, mp4, to '2_scaled.mp4':\n",
      "  Metadata:\n",
      "    major_brand     : isom\n",
      "    minor_version   : 512\n",
      "    compatible_brands: isomiso2avc1mp41\n",
      "    encoder         : Lavf58.29.100\n",
      "    Stream #0:0(und): Video: h264 (libx264) (avc1 / 0x31637661), yuv420p, 1920x1080 [SAR 3213:3224 DAR 714:403], q=-1--1, 30 fps, 15360 tbn, 30 tbc (default)\n",
      "    Metadata:\n",
      "      handler_name    : Bento4 Video Handler\n",
      "      encoder         : Lavc58.54.100 libx264\n",
      "    Side data:\n",
      "      cpb: bitrate max/min/avg: 0/0/0 buffer size: 0 vbv_delay: -1\n",
      "    Stream #0:1(und): Audio: aac (LC) (mp4a / 0x6134706D), 48000 Hz, stereo, fltp, 128 kb/s (default)\n",
      "    Metadata:\n",
      "      handler_name    : Bento4 Sound Handler\n",
      "      encoder         : Lavc58.54.100 aac\n",
      "frame= 1041 fps= 11 q=-1.0 Lsize=    6059kB time=00:00:34.73 bitrate=1429.2kbits/s speed=0.362x    \n",
      "video:5477kB audio:544kB subtitle:0kB other streams:0kB global headers:0kB muxing overhead: 0.640616%\n",
      "\u001b[1;36m[libx264 @ 0x555e81d892c0] \u001b[0mframe I:5     Avg QP:21.26  size: 38099\n",
      "\u001b[1;36m[libx264 @ 0x555e81d892c0] \u001b[0mframe P:284   Avg QP:22.84  size: 12843\n",
      "\u001b[1;36m[libx264 @ 0x555e81d892c0] \u001b[0mframe B:752   Avg QP:24.76  size:  2354\n",
      "\u001b[1;36m[libx264 @ 0x555e81d892c0] \u001b[0mconsecutive B-frames:  2.1%  3.5%  3.7% 90.7%\n",
      "\u001b[1;36m[libx264 @ 0x555e81d892c0] \u001b[0mmb I  I16..4:  8.2% 87.9%  3.9%\n",
      "\u001b[1;36m[libx264 @ 0x555e81d892c0] \u001b[0mmb P  I16..4:  2.1%  5.6%  0.2%  P16..4: 19.9%  5.6%  2.2%  0.0%  0.0%    skip:64.4%\n",
      "\u001b[1;36m[libx264 @ 0x555e81d892c0] \u001b[0mmb B  I16..4:  0.1%  0.2%  0.0%  B16..8: 14.6%  0.5%  0.0%  direct: 0.2%  skip:84.4%  L0:41.3% L1:57.2% BI: 1.5%\n",
      "\u001b[1;36m[libx264 @ 0x555e81d892c0] \u001b[0m8x8 transform intra:72.7% inter:87.2%\n",
      "\u001b[1;36m[libx264 @ 0x555e81d892c0] \u001b[0mcoded y,uvDC,uvAC intra: 36.6% 35.3% 3.0% inter: 3.9% 3.9% 0.0%\n",
      "\u001b[1;36m[libx264 @ 0x555e81d892c0] \u001b[0mi16 v,h,dc,p: 27% 26%  8% 40%\n",
      "\u001b[1;36m[libx264 @ 0x555e81d892c0] \u001b[0mi8 v,h,dc,ddl,ddr,vr,hd,vl,hu: 24% 21% 24%  4%  7%  4%  8%  4%  5%\n",
      "\u001b[1;36m[libx264 @ 0x555e81d892c0] \u001b[0mi4 v,h,dc,ddl,ddr,vr,hd,vl,hu: 27% 22% 17%  4% 10%  5%  9%  3%  3%\n",
      "\u001b[1;36m[libx264 @ 0x555e81d892c0] \u001b[0mi8c dc,h,v,p: 64% 18% 14%  3%\n",
      "\u001b[1;36m[libx264 @ 0x555e81d892c0] \u001b[0mWeighted P-Frames: Y:6.7% UV:0.7%\n",
      "\u001b[1;36m[libx264 @ 0x555e81d892c0] \u001b[0mref P L0: 64.0% 13.8% 18.8%  3.2%  0.1%\n",
      "\u001b[1;36m[libx264 @ 0x555e81d892c0] \u001b[0mref B L0: 94.3%  5.0%  0.7%\n",
      "\u001b[1;36m[libx264 @ 0x555e81d892c0] \u001b[0mref B L1: 97.8%  2.2%\n",
      "\u001b[1;36m[libx264 @ 0x555e81d892c0] \u001b[0mkb/s:1292.84\n",
      "\u001b[1;36m[aac @ 0x555e81d8a500] \u001b[0mQavg: 470.841\n"
     ]
    }
   ],
   "source": [
    "! ffmpeg -i hello.mp4 -vf \"scale=1920:1080:force_original_aspect_ratio=decrease,pad=1920:1080:-1:-1:color=black\" 2_scaled.mp4 -y"
   ]
  },
  {
   "cell_type": "code",
   "execution_count": 28,
   "id": "3a5da456-6cd8-4ab2-b15c-e5cf82904570",
   "metadata": {},
   "outputs": [],
   "source": [
    "import asyncio\n",
    "file_path = \"hello.mp4\"\n",
    "processed_file_path=\"hello_processed.mp4\"\n",
    "ffmpeg_command = [\"ffmpeg\" ,\n",
    "                  \"-hide_banner\" , \n",
    "                  \"-loglevel\",\n",
    "                  \"error\",\n",
    "                  \"-i\", \n",
    "                  file_path, \n",
    "                  \"-vf\", \n",
    "                  \"scale=1920:1080:force_original_aspect_ratio=decrease,pad=1920:1080:-1:-1:color=black\",\n",
    "                  processed_file_path, \n",
    "                  \"-y\"]"
   ]
  },
  {
   "cell_type": "code",
   "execution_count": 29,
   "id": "cb33df4f-b810-47ef-bfa7-2d27d7ab6aa3",
   "metadata": {},
   "outputs": [],
   "source": [
    "# ffmpeg = await asyncio.create_subprocess_exec(*ffmpeg_command, stdout=asyncio.subprocess.PIPE, stderr=asyncio.subprocess.PIPE)  \n",
    "# await ffmpeg.wait()"
   ]
  },
  {
   "cell_type": "code",
   "execution_count": 33,
   "id": "8ee9b138-dd47-407e-9599-979f35eccc52",
   "metadata": {},
   "outputs": [],
   "source": [
    "# import subprocess\n",
    "# a = subprocess.run(ffmpeg_command, stdout=subprocess.PIPE, stderr=subprocess.PIPE)"
   ]
  },
  {
   "cell_type": "code",
   "execution_count": 3,
   "id": "c1c32ba9-6d92-4def-b506-a6b49ae6688a",
   "metadata": {},
   "outputs": [],
   "source": [
    "from moviepy.editor import *\n",
    "from helpers import s3 as s3_helpers\n",
    "import logging, os, boto3, random"
   ]
  },
  {
   "cell_type": "code",
   "execution_count": 12,
   "id": "0497561a-02b0-4499-8a74-ecec682d0d39",
   "metadata": {},
   "outputs": [],
   "source": [
    "# t = VideoFileClip('t.mp4')\n",
    "s3 = boto3.client('s3')"
   ]
  },
  {
   "cell_type": "code",
   "execution_count": 13,
   "id": "39e0aba5-fff7-4d35-a29d-798f294c39a9",
   "metadata": {},
   "outputs": [],
   "source": [
    "def __download_a_random_clip(bucket_name, s3):\n",
    "        \"\"\"Method to download a random clip from a bucket.\n",
    "        Used for downloading intro/outtro clips.\n",
    "\n",
    "        Args:\n",
    "            bucket_name (String): Name of the bucket to download from.\n",
    "\n",
    "        Returns:\n",
    "            String: Path to the downloaded clip.\n",
    "        \"\"\"\n",
    "        params = {\"Bucket\": bucket_name}\n",
    "        objects = s3_helpers.list_objects_v2(s3, logging.getLogger(), **params)\n",
    "        random_clip = objects[random.randint(0, len(objects) - 1)]\n",
    "        file_path = os.path.join(os.getcwd(), random_clip)\n",
    "        params = {\n",
    "            \"Bucket\": bucket_name,\n",
    "            \"Key\": random_clip,\n",
    "            # \"Filename\": f\"/tmp/{random_outtro_clip}\",\n",
    "            \"Filename\": file_path,\n",
    "        }\n",
    "\n",
    "        s3_helpers.download_file(s3, logging.getLogger(), **params)\n",
    "\n",
    "        return file_path"
   ]
  },
  {
   "cell_type": "code",
   "execution_count": 62,
   "id": "18112023-3d88-4f02-a2f0-2b6a8aa6c15f",
   "metadata": {},
   "outputs": [
    {
     "data": {
      "text/plain": [
       "'/home/sourabh/work/personal/whodoesntlovereddit/images/tt/funny_clip_1.mp3'"
      ]
     },
     "execution_count": 62,
     "metadata": {},
     "output_type": "execute_result"
    }
   ],
   "source": [
    "__download_a_random_clip('whodoesntlovereddit-audioclips', s3)"
   ]
  },
  {
   "cell_type": "code",
   "execution_count": 64,
   "id": "7120395b-36d4-4beb-b969-3d5d6fa198b5",
   "metadata": {},
   "outputs": [],
   "source": []
  },
  {
   "cell_type": "code",
   "execution_count": 4,
   "id": "007ed2cc-314e-4fae-abf4-40e45c60a632",
   "metadata": {},
   "outputs": [],
   "source": [
    "video_clip = VideoFileClip('t.mp4')\n",
    "audio_clip = AudioFileClip('funny_clip_1.mp3')\n"
   ]
  },
  {
   "cell_type": "code",
   "execution_count": 73,
   "id": "5066f4d7-25d3-4e67-af4e-d82effa5aaa3",
   "metadata": {},
   "outputs": [
    {
     "data": {
      "text/plain": [
       "True"
      ]
     },
     "execution_count": 73,
     "metadata": {},
     "output_type": "execute_result"
    }
   ],
   "source": [
    "video_clip.duration <= audio_clip.duration"
   ]
  },
  {
   "cell_type": "code",
   "execution_count": 6,
   "id": "87bbfb3f-0e40-46c7-acd0-38570b2eefe3",
   "metadata": {},
   "outputs": [],
   "source": [
    "audio_clip = audio_clip.subclip(0, video_clip.duration)\n",
    "audio_clip = audio_clip.audio_fadeout(0.8)\n",
    "video_clip.audio = audio_clip"
   ]
  },
  {
   "cell_type": "code",
   "execution_count": 7,
   "id": "153746b4-c548-4dde-98fd-095fa495a3c0",
   "metadata": {},
   "outputs": [
    {
     "name": "stdout",
     "output_type": "stream",
     "text": [
      "Moviepy - Building video temp.mp4.\n",
      "MoviePy - Writing audio in tempTEMP_MPY_wvf_snd.mp3\n"
     ]
    },
    {
     "name": "stderr",
     "output_type": "stream",
     "text": [
      "                                                                        \r"
     ]
    },
    {
     "name": "stdout",
     "output_type": "stream",
     "text": [
      "MoviePy - Done.\n",
      "Moviepy - Writing video temp.mp4\n",
      "\n"
     ]
    },
    {
     "name": "stderr",
     "output_type": "stream",
     "text": [
      "                                                                        \r"
     ]
    },
    {
     "name": "stdout",
     "output_type": "stream",
     "text": [
      "Moviepy - Done !\n",
      "Moviepy - video ready temp.mp4\n"
     ]
    }
   ],
   "source": [
    "video_clip.write_videofile('temp.mp4')"
   ]
  },
  {
   "cell_type": "code",
   "execution_count": 12,
   "id": "d6308350-b502-4510-a8ab-eb6351d6653d",
   "metadata": {},
   "outputs": [],
   "source": [
    "import os\n",
    "os.chdir('/home/sourabh/work/personal/whodoesntlovereddit/images/tt/funny')\n",
    "\n"
   ]
  },
  {
   "cell_type": "code",
   "execution_count": 10,
   "id": "3f00d94f-b64b-4ef9-8665-7991cb4aa49f",
   "metadata": {},
   "outputs": [
    {
     "data": {
      "text/plain": [
       "'Highlander'"
      ]
     },
     "execution_count": 10,
     "metadata": {},
     "output_type": "execute_result"
    }
   ],
   "source": [
    "a = 'Highlander - Scandinavianz'\n",
    "a[:a.find(' ')]"
   ]
  },
  {
   "cell_type": "code",
   "execution_count": 13,
   "id": "38746184-2cd6-42d6-8330-5ff6ba8a8d74",
   "metadata": {},
   "outputs": [],
   "source": [
    "counter=1\n",
    "genre = 'funny_clip_'\n",
    "for idx, file_item in enumerate(os.listdir(os.getcwd())):    \n",
    "    new_name = genre + str(counter) + \".mp3\"\n",
    "    os.rename(file_item, new_name)\n",
    "    counter += 1\n",
    "    "
   ]
  },
  {
   "cell_type": "code",
   "execution_count": 9,
   "id": "f8d620e6-4bbf-416c-bb6d-4ba9ff25c526",
   "metadata": {},
   "outputs": [],
   "source": [
    "s3 = boto3.client('s3')"
   ]
  },
  {
   "cell_type": "code",
   "execution_count": 20,
   "id": "6422d002-4513-4f1b-a4a4-63ca2d17e5a1",
   "metadata": {
    "collapsed": true,
    "jupyter": {
     "outputs_hidden": true
    },
    "tags": []
   },
   "outputs": [
    {
     "data": {
      "text/plain": [
       "{'ResponseMetadata': {'RequestId': 'Z13B3NFWBX3N6ERY',\n",
       "  'HostId': 'iqvTfNnhSlFqJeP7IzRYVo+a2v4A1PajaSpXWdpN5E/PxAqpjIq7Q4gz4qDYXk9mdAmsYh3bT3o=',\n",
       "  'HTTPStatusCode': 200,\n",
       "  'HTTPHeaders': {'x-amz-id-2': 'iqvTfNnhSlFqJeP7IzRYVo+a2v4A1PajaSpXWdpN5E/PxAqpjIq7Q4gz4qDYXk9mdAmsYh3bT3o=',\n",
       "   'x-amz-request-id': 'Z13B3NFWBX3N6ERY',\n",
       "   'date': 'Thu, 26 Aug 2021 03:51:25 GMT',\n",
       "   'x-amz-bucket-region': 'ap-south-1',\n",
       "   'content-type': 'application/xml',\n",
       "   'transfer-encoding': 'chunked',\n",
       "   'server': 'AmazonS3'},\n",
       "  'RetryAttempts': 0},\n",
       " 'IsTruncated': False,\n",
       " 'Contents': [{'Key': 'funny_clip_1.mp3',\n",
       "   'LastModified': datetime.datetime(2021, 8, 25, 17, 14, 10, tzinfo=tzutc()),\n",
       "   'ETag': '\"35cb13e41093815439204f9285c4523e\"',\n",
       "   'Size': 1648684,\n",
       "   'StorageClass': 'STANDARD'},\n",
       "  {'Key': 'funny_clip_2.mp3',\n",
       "   'LastModified': datetime.datetime(2021, 8, 25, 17, 9, 40, tzinfo=tzutc()),\n",
       "   'ETag': '\"c53ba432d87fafd8a48bd858e9b46da7\"',\n",
       "   'Size': 6431554,\n",
       "   'StorageClass': 'STANDARD'},\n",
       "  {'Key': 'funny_clip_3_monkeys_spinning_monkeys.mp3',\n",
       "   'LastModified': datetime.datetime(2021, 8, 26, 3, 17, 46, tzinfo=tzutc()),\n",
       "   'ETag': '\"9a2c84bd71674a9033d873991668bf9a\"',\n",
       "   'Size': 4621270,\n",
       "   'StorageClass': 'STANDARD'},\n",
       "  {'Key': 'funny_clip_4_sneaky_snitch.mp3',\n",
       "   'LastModified': datetime.datetime(2021, 8, 26, 3, 17, 44, tzinfo=tzutc()),\n",
       "   'ETag': '\"0f88ba2262a41a321b7680f2d9139cee\"',\n",
       "   'Size': 4427300,\n",
       "   'StorageClass': 'STANDARD'},\n",
       "  {'Key': 'happy/',\n",
       "   'LastModified': datetime.datetime(2021, 8, 26, 3, 34, 46, tzinfo=tzutc()),\n",
       "   'ETag': '\"d41d8cd98f00b204e9800998ecf8427e\"',\n",
       "   'Size': 0,\n",
       "   'StorageClass': 'STANDARD'},\n",
       "  {'Key': 'happy/happy_clip_1-Highlander.mp3',\n",
       "   'LastModified': datetime.datetime(2021, 8, 26, 3, 35, tzinfo=tzutc()),\n",
       "   'ETag': '\"a4d48349a598b5a3e9769190d83af2dd\"',\n",
       "   'Size': 8153916,\n",
       "   'StorageClass': 'STANDARD'},\n",
       "  {'Key': 'happy/happy_clip_10-Soave.mp3',\n",
       "   'LastModified': datetime.datetime(2021, 8, 26, 3, 35, 19, tzinfo=tzutc()),\n",
       "   'ETag': '\"6331ccf865012044936f8b809907fae1\"',\n",
       "   'Size': 6900293,\n",
       "   'StorageClass': 'STANDARD'},\n",
       "  {'Key': 'happy/happy_clip_11-Driver.mp3',\n",
       "   'LastModified': datetime.datetime(2021, 8, 26, 3, 35, 21, tzinfo=tzutc()),\n",
       "   'ETag': '\"332d60dfca2a3d6bd2bb137a6fffff80\"',\n",
       "   'Size': 8909334,\n",
       "   'StorageClass': 'STANDARD'},\n",
       "  {'Key': 'happy/happy_clip_12-Fairytale.mp3',\n",
       "   'LastModified': datetime.datetime(2021, 8, 26, 3, 35, 23, tzinfo=tzutc()),\n",
       "   'ETag': '\"21066189635fce8231c97ef19837467c\"',\n",
       "   'Size': 8759475,\n",
       "   'StorageClass': 'STANDARD'},\n",
       "  {'Key': 'happy/happy_clip_13-Will.mp3',\n",
       "   'LastModified': datetime.datetime(2021, 8, 26, 3, 35, 26, tzinfo=tzutc()),\n",
       "   'ETag': '\"704d040e734d9c57ed22bffe7198ecf9\"',\n",
       "   'Size': 8898729,\n",
       "   'StorageClass': 'STANDARD'},\n",
       "  {'Key': 'happy/happy_clip_14-Love.mp3',\n",
       "   'LastModified': datetime.datetime(2021, 8, 26, 3, 35, 28, tzinfo=tzutc()),\n",
       "   'ETag': '\"6715eaf8af3740a3d75fe1ddd5681653\"',\n",
       "   'Size': 9684916,\n",
       "   'StorageClass': 'STANDARD'},\n",
       "  {'Key': 'happy/happy_clip_15-Effervescence.mp3',\n",
       "   'LastModified': datetime.datetime(2021, 8, 26, 3, 35, 30, tzinfo=tzutc()),\n",
       "   'ETag': '\"8e8f114364288ae2acc6dbabbc5b2b3f\"',\n",
       "   'Size': 8900873,\n",
       "   'StorageClass': 'STANDARD'},\n",
       "  {'Key': 'happy/happy_clip_16-Lucid.mp3',\n",
       "   'LastModified': datetime.datetime(2021, 8, 26, 3, 35, 32, tzinfo=tzutc()),\n",
       "   'ETag': '\"d5fa8bd803bb7c5793ce113af23f9bda\"',\n",
       "   'Size': 7965903,\n",
       "   'StorageClass': 'STANDARD'},\n",
       "  {'Key': 'happy/happy_clip_17-Girl.mp3',\n",
       "   'LastModified': datetime.datetime(2021, 8, 26, 3, 35, 35, tzinfo=tzutc()),\n",
       "   'ETag': '\"557fc0d96bdd3baf4a83e5c27f4eacf5\"',\n",
       "   'Size': 8443517,\n",
       "   'StorageClass': 'STANDARD'},\n",
       "  {'Key': 'happy/happy_clip_18-Will.mp3',\n",
       "   'LastModified': datetime.datetime(2021, 8, 26, 3, 35, 37, tzinfo=tzutc()),\n",
       "   'ETag': '\"cb302f5e52c44f72a1f01eefd5658f78\"',\n",
       "   'Size': 9191007,\n",
       "   'StorageClass': 'STANDARD'},\n",
       "  {'Key': 'happy/happy_clip_19-All.mp3',\n",
       "   'LastModified': datetime.datetime(2021, 8, 26, 3, 35, 39, tzinfo=tzutc()),\n",
       "   'ETag': '\"deb1df6d434a0ccae7a4dde8bff2448d\"',\n",
       "   'Size': 9199881,\n",
       "   'StorageClass': 'STANDARD'},\n",
       "  {'Key': 'happy/happy_clip_2-Back.mp3',\n",
       "   'LastModified': datetime.datetime(2021, 8, 26, 3, 35, 2, tzinfo=tzutc()),\n",
       "   'ETag': '\"82d9a70bde1ef0d7373abc35353565ae\"',\n",
       "   'Size': 10895987,\n",
       "   'StorageClass': 'STANDARD'},\n",
       "  {'Key': 'happy/happy_clip_20-Good.mp3',\n",
       "   'LastModified': datetime.datetime(2021, 8, 26, 3, 35, 41, tzinfo=tzutc()),\n",
       "   'ETag': '\"cd944143d6c03886aedb111ab2c84765\"',\n",
       "   'Size': 7569380,\n",
       "   'StorageClass': 'STANDARD'},\n",
       "  {'Key': 'happy/happy_clip_21-A.mp3',\n",
       "   'LastModified': datetime.datetime(2021, 8, 26, 3, 35, 43, tzinfo=tzutc()),\n",
       "   'ETag': '\"a2131266a45ebe8a79c8e01137ba0c4a\"',\n",
       "   'Size': 10050438,\n",
       "   'StorageClass': 'STANDARD'},\n",
       "  {'Key': 'happy/happy_clip_3-When.mp3',\n",
       "   'LastModified': datetime.datetime(2021, 8, 26, 3, 35, 4, tzinfo=tzutc()),\n",
       "   'ETag': '\"9f2ba94a1953cdc5ba6da102e655df3e\"',\n",
       "   'Size': 8355314,\n",
       "   'StorageClass': 'STANDARD'},\n",
       "  {'Key': 'happy/happy_clip_4-Move.mp3',\n",
       "   'LastModified': datetime.datetime(2021, 8, 26, 3, 35, 6, tzinfo=tzutc()),\n",
       "   'ETag': '\"cf9cee43763382db138999acd528e4fa\"',\n",
       "   'Size': 7022089,\n",
       "   'StorageClass': 'STANDARD'},\n",
       "  {'Key': 'happy/happy_clip_5-Silence.mp3',\n",
       "   'LastModified': datetime.datetime(2021, 8, 26, 3, 35, 8, tzinfo=tzutc()),\n",
       "   'ETag': '\"fe69f17baf99205aa4f842cf2c509d89\"',\n",
       "   'Size': 7566230,\n",
       "   'StorageClass': 'STANDARD'},\n",
       "  {'Key': 'happy/happy_clip_6-Refreshing.mp3',\n",
       "   'LastModified': datetime.datetime(2021, 8, 26, 3, 35, 10, tzinfo=tzutc()),\n",
       "   'ETag': '\"2dcfaa6e08f96e741e620906ba390f8e\"',\n",
       "   'Size': 11390399,\n",
       "   'StorageClass': 'STANDARD'},\n",
       "  {'Key': 'happy/happy_clip_7-Growth,.mp3',\n",
       "   'LastModified': datetime.datetime(2021, 8, 26, 3, 35, 13, tzinfo=tzutc()),\n",
       "   'ETag': '\"947f49da8ca1701761f1de6556fc7f4c\"',\n",
       "   'Size': 10257212,\n",
       "   'StorageClass': 'STANDARD'},\n",
       "  {'Key': 'happy/happy_clip_8-Teen.mp3',\n",
       "   'LastModified': datetime.datetime(2021, 8, 26, 3, 35, 16, tzinfo=tzutc()),\n",
       "   'ETag': '\"786bbf6d0e29aac5fe1ad8851b421410\"',\n",
       "   'Size': 10380349,\n",
       "   'StorageClass': 'STANDARD'},\n",
       "  {'Key': 'happy/happy_clip_9-Deep.mp3',\n",
       "   'LastModified': datetime.datetime(2021, 8, 26, 3, 35, 18, tzinfo=tzutc()),\n",
       "   'ETag': '\"8998785984e982e2954637323963345f\"',\n",
       "   'Size': 7765393,\n",
       "   'StorageClass': 'STANDARD'}],\n",
       " 'Name': 'whodoesntlovereddit-audioclips',\n",
       " 'Prefix': '',\n",
       " 'MaxKeys': 1000,\n",
       " 'EncodingType': 'url',\n",
       " 'KeyCount': 26}"
      ]
     },
     "execution_count": 20,
     "metadata": {},
     "output_type": "execute_result"
    }
   ],
   "source": [
    "params = {\n",
    "\"Bucket\": 'whodoesntlovereddit-audioclips',\n",
    "\"Prefix\": ''\n",
    "}\n",
    "s3.list_objects_v2(**params)"
   ]
  },
  {
   "cell_type": "code",
   "execution_count": 15,
   "id": "b03805d0-5123-4dd4-a641-88ad622936b9",
   "metadata": {
    "collapsed": true,
    "jupyter": {
     "outputs_hidden": true
    },
    "tags": []
   },
   "outputs": [
    {
     "data": {
      "text/plain": [
       "['_PY_TO_OP_NAME',\n",
       " '__class__',\n",
       " '__delattr__',\n",
       " '__dict__',\n",
       " '__dir__',\n",
       " '__doc__',\n",
       " '__eq__',\n",
       " '__format__',\n",
       " '__ge__',\n",
       " '__getattr__',\n",
       " '__getattribute__',\n",
       " '__gt__',\n",
       " '__hash__',\n",
       " '__init__',\n",
       " '__init_subclass__',\n",
       " '__le__',\n",
       " '__lt__',\n",
       " '__module__',\n",
       " '__ne__',\n",
       " '__new__',\n",
       " '__reduce__',\n",
       " '__reduce_ex__',\n",
       " '__repr__',\n",
       " '__setattr__',\n",
       " '__sizeof__',\n",
       " '__str__',\n",
       " '__subclasshook__',\n",
       " '__weakref__',\n",
       " '_cache',\n",
       " '_client_config',\n",
       " '_convert_to_request_dict',\n",
       " '_emit_api_params',\n",
       " '_endpoint',\n",
       " '_exceptions',\n",
       " '_exceptions_factory',\n",
       " '_get_waiter_config',\n",
       " '_load_exceptions',\n",
       " '_loader',\n",
       " '_make_api_call',\n",
       " '_make_request',\n",
       " '_register_handlers',\n",
       " '_request_signer',\n",
       " '_response_parser',\n",
       " '_serializer',\n",
       " '_service_model',\n",
       " 'abort_multipart_upload',\n",
       " 'can_paginate',\n",
       " 'complete_multipart_upload',\n",
       " 'copy',\n",
       " 'copy_object',\n",
       " 'create_bucket',\n",
       " 'create_multipart_upload',\n",
       " 'delete_bucket',\n",
       " 'delete_bucket_analytics_configuration',\n",
       " 'delete_bucket_cors',\n",
       " 'delete_bucket_encryption',\n",
       " 'delete_bucket_intelligent_tiering_configuration',\n",
       " 'delete_bucket_inventory_configuration',\n",
       " 'delete_bucket_lifecycle',\n",
       " 'delete_bucket_metrics_configuration',\n",
       " 'delete_bucket_ownership_controls',\n",
       " 'delete_bucket_policy',\n",
       " 'delete_bucket_replication',\n",
       " 'delete_bucket_tagging',\n",
       " 'delete_bucket_website',\n",
       " 'delete_object',\n",
       " 'delete_object_tagging',\n",
       " 'delete_objects',\n",
       " 'delete_public_access_block',\n",
       " 'download_file',\n",
       " 'download_fileobj',\n",
       " 'exceptions',\n",
       " 'generate_presigned_post',\n",
       " 'generate_presigned_url',\n",
       " 'get_bucket_accelerate_configuration',\n",
       " 'get_bucket_acl',\n",
       " 'get_bucket_analytics_configuration',\n",
       " 'get_bucket_cors',\n",
       " 'get_bucket_encryption',\n",
       " 'get_bucket_intelligent_tiering_configuration',\n",
       " 'get_bucket_inventory_configuration',\n",
       " 'get_bucket_lifecycle',\n",
       " 'get_bucket_lifecycle_configuration',\n",
       " 'get_bucket_location',\n",
       " 'get_bucket_logging',\n",
       " 'get_bucket_metrics_configuration',\n",
       " 'get_bucket_notification',\n",
       " 'get_bucket_notification_configuration',\n",
       " 'get_bucket_ownership_controls',\n",
       " 'get_bucket_policy',\n",
       " 'get_bucket_policy_status',\n",
       " 'get_bucket_replication',\n",
       " 'get_bucket_request_payment',\n",
       " 'get_bucket_tagging',\n",
       " 'get_bucket_versioning',\n",
       " 'get_bucket_website',\n",
       " 'get_object',\n",
       " 'get_object_acl',\n",
       " 'get_object_legal_hold',\n",
       " 'get_object_lock_configuration',\n",
       " 'get_object_retention',\n",
       " 'get_object_tagging',\n",
       " 'get_object_torrent',\n",
       " 'get_paginator',\n",
       " 'get_public_access_block',\n",
       " 'get_waiter',\n",
       " 'head_bucket',\n",
       " 'head_object',\n",
       " 'list_bucket_analytics_configurations',\n",
       " 'list_bucket_intelligent_tiering_configurations',\n",
       " 'list_bucket_inventory_configurations',\n",
       " 'list_bucket_metrics_configurations',\n",
       " 'list_buckets',\n",
       " 'list_multipart_uploads',\n",
       " 'list_object_versions',\n",
       " 'list_objects',\n",
       " 'list_objects_v2',\n",
       " 'list_parts',\n",
       " 'meta',\n",
       " 'put_bucket_accelerate_configuration',\n",
       " 'put_bucket_acl',\n",
       " 'put_bucket_analytics_configuration',\n",
       " 'put_bucket_cors',\n",
       " 'put_bucket_encryption',\n",
       " 'put_bucket_intelligent_tiering_configuration',\n",
       " 'put_bucket_inventory_configuration',\n",
       " 'put_bucket_lifecycle',\n",
       " 'put_bucket_lifecycle_configuration',\n",
       " 'put_bucket_logging',\n",
       " 'put_bucket_metrics_configuration',\n",
       " 'put_bucket_notification',\n",
       " 'put_bucket_notification_configuration',\n",
       " 'put_bucket_ownership_controls',\n",
       " 'put_bucket_policy',\n",
       " 'put_bucket_replication',\n",
       " 'put_bucket_request_payment',\n",
       " 'put_bucket_tagging',\n",
       " 'put_bucket_versioning',\n",
       " 'put_bucket_website',\n",
       " 'put_object',\n",
       " 'put_object_acl',\n",
       " 'put_object_legal_hold',\n",
       " 'put_object_lock_configuration',\n",
       " 'put_object_retention',\n",
       " 'put_object_tagging',\n",
       " 'put_public_access_block',\n",
       " 'restore_object',\n",
       " 'select_object_content',\n",
       " 'upload_file',\n",
       " 'upload_fileobj',\n",
       " 'upload_part',\n",
       " 'upload_part_copy',\n",
       " 'waiter_names',\n",
       " 'write_get_object_response']"
      ]
     },
     "execution_count": 15,
     "metadata": {},
     "output_type": "execute_result"
    }
   ],
   "source": [
    "dir(s3)\n"
   ]
  },
  {
   "cell_type": "code",
   "execution_count": null,
   "id": "7d80a8cb-50f9-4020-b7c3-40e920721e88",
   "metadata": {},
   "outputs": [],
   "source": []
  }
 ],
 "metadata": {
  "kernelspec": {
   "display_name": "Python 3.8.10 64-bit ('.venv': venv)",
   "language": "python",
   "name": "python3810jvsc74a57bd024b555649d86f360bc29675e4ea05747664583e96f16283f97272f664e30bb4e"
  },
  "language_info": {
   "codemirror_mode": {
    "name": "ipython",
    "version": 3
   },
   "file_extension": ".py",
   "mimetype": "text/x-python",
   "name": "python",
   "nbconvert_exporter": "python",
   "pygments_lexer": "ipython3",
   "version": "3.8.10"
  }
 },
 "nbformat": 4,
 "nbformat_minor": 5
}
