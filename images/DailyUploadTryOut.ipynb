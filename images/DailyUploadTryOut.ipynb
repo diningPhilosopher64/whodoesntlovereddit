{
 "cells": [
  {
   "cell_type": "code",
   "execution_count": 1,
   "id": "16f7f114-a2fd-4492-bdb1-1428a0c311bd",
   "metadata": {},
   "outputs": [],
   "source": [
    "import requests, boto3, pandas as pd, os, sys, pprint\n",
    "from pathlib import Path\n",
    "pp = pprint.PrettyPrinter(indent=2, compact=True, width=80)\n",
    "\n",
    "from entities.RedditAccount import RedditAccount\n",
    "from entities.DailyUpload import DailyUpload\n",
    "\n",
    "#TODO: Change path accordingly in handler\n",
    "\n",
    "\n",
    "# Making the current directory in which this file is in discoverable to python.\n",
    "# Commenting it here because it will not work in jupyter notebook. It will work in lambda though.\n",
    "#sys.path.append(os.path.join(os.path.dirname(__file__)))\n",
    "\n",
    "# Below should be used only in jupyter notebook\n",
    "sys.path.append('./')\n",
    "\n",
    "\n",
    "REDDIT_AUTH_URL = 'https://www.reddit.com/api/v1/access_token'\n",
    "REDDIT_ACCOUNTS_TABLE_NAME = 'RedditAccountsTable-dev'\n",
    "DAILY_UPLOADS_TABLE = \"DailyUploadsTable-dev\"\n",
    "REDDIT_API_URL_TOP = \"https://oauth.reddit.com/r/placeholder_value/top\"\n",
    "REDDIT_API_URL_SORT = \"https://oauth.reddit.com/r/placeholder_value/sort\"\n",
    "\n",
    "ddb = boto3.client(\"dynamodb\", region_name=\"ap-south-1\")\n",
    "subreddit='funny'"
   ]
  },
  {
   "cell_type": "markdown",
   "id": "2e44576c-0f9c-467b-b137-35fbf53ce551",
   "metadata": {},
   "source": [
    "## Get values from reddit accounts table"
   ]
  },
  {
   "cell_type": "code",
   "execution_count": 2,
   "id": "b54d0543-35b4-487a-88c1-7eebddd5ffe3",
   "metadata": {},
   "outputs": [],
   "source": [
    "reddit_account = RedditAccount(subreddit=subreddit, ddb=ddb)\n",
    "daily_upload = DailyUpload(subreddit=subreddit)\n",
    "\n"
   ]
  },
  {
   "cell_type": "code",
   "execution_count": 3,
   "id": "90d0b97e-e52e-4fba-8b7f-827719c3ef2d",
   "metadata": {},
   "outputs": [],
   "source": [
    "reddit_account.fetch_and_update_account_details(REDDIT_ACCOUNTS_TABLE_NAME)"
   ]
  },
  {
   "cell_type": "markdown",
   "id": "bf222a3d-deed-4841-a16a-15bea12333a5",
   "metadata": {},
   "source": [
    "## Authorise with reddit"
   ]
  },
  {
   "cell_type": "code",
   "execution_count": 4,
   "id": "1674746f-9a26-4772-88d8-e691177c8cf2",
   "metadata": {},
   "outputs": [],
   "source": [
    "reddit_account.authenticate_with_api()"
   ]
  },
  {
   "cell_type": "code",
   "execution_count": 5,
   "id": "1aa769eb-a2c4-4eb9-8ada-d9e4d067812f",
   "metadata": {},
   "outputs": [
    {
     "data": {
      "text/plain": [
       "<Response [200]>"
      ]
     },
     "execution_count": 5,
     "metadata": {},
     "output_type": "execute_result"
    }
   ],
   "source": [
    "res = requests.post(REDDIT_AUTH_URL, auth=reddit_account.auth, data=reddit_account.data, headers= reddit_account.headers)\n",
    "# reddit_account.data\n",
    "res"
   ]
  },
  {
   "cell_type": "code",
   "execution_count": 6,
   "id": "8ad239ff-c7ae-41cb-8eae-4e345ce8abc9",
   "metadata": {},
   "outputs": [],
   "source": [
    "reddit_account.fetch_access_token(REDDIT_AUTH_URL)"
   ]
  },
  {
   "cell_type": "markdown",
   "id": "c515a62f-dd12-4a4d-8d78-d56b5ec8ca57",
   "metadata": {},
   "source": [
    "## Send request for posts (with params, limit 100 posts)"
   ]
  },
  {
   "cell_type": "code",
   "execution_count": 7,
   "id": "5d3e61da-90ba-4470-af64-faad5051df79",
   "metadata": {},
   "outputs": [],
   "source": [
    "\n",
    "REDDIT_API_URL_TOP = REDDIT_API_URL_TOP.replace(\"placeholder_value\", subreddit)\n",
    "top_posts = reddit_account.fetch_posts_as_json(REDDIT_API_URL_TOP, params = {'limit': '100'})\n"
   ]
  },
  {
   "cell_type": "code",
   "execution_count": 8,
   "id": "b43c1235-d43f-44af-a84a-4ddda0d5bd6e",
   "metadata": {},
   "outputs": [
    {
     "data": {
      "text/plain": [
       "100"
      ]
     },
     "execution_count": 8,
     "metadata": {},
     "output_type": "execute_result"
    }
   ],
   "source": [
    "len(top_posts['data']['children'])"
   ]
  },
  {
   "cell_type": "code",
   "execution_count": 9,
   "id": "8d3cebfd-8fbd-41af-8d5f-695225524a8e",
   "metadata": {},
   "outputs": [],
   "source": [
    "daily_upload.parse_posts(top_posts)"
   ]
  },
  {
   "cell_type": "markdown",
   "id": "203dc3cd-cc07-484e-93ea-6daa6dade353",
   "metadata": {
    "tags": []
   },
   "source": [
    "# Pushshift api tryout"
   ]
  },
  {
   "cell_type": "code",
   "execution_count": 32,
   "id": "31118117-2a1f-49a6-ba21-9163a3c27bac",
   "metadata": {},
   "outputs": [],
   "source": [
    "api = PushshiftAPI()"
   ]
  },
  {
   "cell_type": "code",
   "execution_count": 157,
   "id": "bd6780af-ffbd-4d76-868e-88cd716a727a",
   "metadata": {},
   "outputs": [],
   "source": [
    "from datetime import datetime, timedelta"
   ]
  },
  {
   "cell_type": "code",
   "execution_count": 158,
   "id": "4d1335ff-b6f0-45fb-8bc6-efdecbe2c0af",
   "metadata": {},
   "outputs": [],
   "source": [
    "today =  datetime.today()\n",
    "yesterday = datetime.today() - timedelta(days=1)\n",
    "day_before_yesterday = yesterday - timedelta(days=1)"
   ]
  },
  {
   "cell_type": "code",
   "execution_count": 159,
   "id": "bb1d29ae-d9b8-4cf4-a259-3ef9a9a0f556",
   "metadata": {},
   "outputs": [],
   "source": [
    "today = datetime(today.year, today.month, today.day, 0,0,0).timestamp()\n",
    "yesterday = datetime(yesterday.year, yesterday.month, yesterday.day,0,0,0).timestamp()\n",
    "day_before_yesterday = datetime(day_before_yesterday.year, day_before_yesterday.month, day_before_yesterday.day,0,0,0).timestamp()"
   ]
  },
  {
   "cell_type": "code",
   "execution_count": 92,
   "id": "f4987782-469c-449b-a215-71e1391add11",
   "metadata": {
    "collapsed": true,
    "jupyter": {
     "outputs_hidden": true
    },
    "tags": []
   },
   "outputs": [
    {
     "ename": "KeyboardInterrupt",
     "evalue": "",
     "output_type": "error",
     "traceback": [
      "\u001b[0;31m---------------------------------------------------------------------------\u001b[0m",
      "\u001b[0;31mKeyboardInterrupt\u001b[0m                         Traceback (most recent call last)",
      "\u001b[0;32m/tmp/ipykernel_38920/3945883094.py\u001b[0m in \u001b[0;36m<module>\u001b[0;34m\u001b[0m\n\u001b[0;32m----> 1\u001b[0;31m \u001b[0ma\u001b[0m \u001b[0;34m=\u001b[0m \u001b[0mlist\u001b[0m\u001b[0;34m(\u001b[0m\u001b[0mapi\u001b[0m\u001b[0;34m.\u001b[0m\u001b[0msearch_submissions\u001b[0m\u001b[0;34m(\u001b[0m\u001b[0mafter\u001b[0m\u001b[0;34m=\u001b[0m\u001b[0mday_before_yesterday\u001b[0m\u001b[0;34m,\u001b[0m \u001b[0mbefore\u001b[0m\u001b[0;34m=\u001b[0m\u001b[0mtoday\u001b[0m\u001b[0;34m,\u001b[0m \u001b[0msubreddit\u001b[0m\u001b[0;34m=\u001b[0m\u001b[0;34m'funny'\u001b[0m\u001b[0;34m,\u001b[0m \u001b[0mfilter\u001b[0m\u001b[0;34m=\u001b[0m\u001b[0;34m[\u001b[0m\u001b[0;34m'url'\u001b[0m\u001b[0;34m,\u001b[0m \u001b[0;34m'title'\u001b[0m\u001b[0;34m]\u001b[0m\u001b[0;34m,\u001b[0m \u001b[0mlimit\u001b[0m \u001b[0;34m=\u001b[0m \u001b[0;36m10\u001b[0m\u001b[0;34m)\u001b[0m\u001b[0;34m)\u001b[0m\u001b[0;34m\u001b[0m\u001b[0;34m\u001b[0m\u001b[0m\n\u001b[0m",
      "\u001b[0;32m~/work/personal/whodoesntlovereddit/.venv/lib/python3.8/site-packages/psaw/PushshiftAPI.py\u001b[0m in \u001b[0;36m_search\u001b[0;34m(self, kind, stop_condition, return_batch, dataset, **kwargs)\u001b[0m\n\u001b[1;32m    236\u001b[0m         \u001b[0mendpoint\u001b[0m \u001b[0;34m=\u001b[0m \u001b[0;34m'{dataset}/{kind}/search'\u001b[0m\u001b[0;34m.\u001b[0m\u001b[0mformat\u001b[0m\u001b[0;34m(\u001b[0m\u001b[0mdataset\u001b[0m\u001b[0;34m=\u001b[0m\u001b[0mdataset\u001b[0m\u001b[0;34m,\u001b[0m \u001b[0mkind\u001b[0m\u001b[0;34m=\u001b[0m\u001b[0mkind\u001b[0m\u001b[0;34m)\u001b[0m\u001b[0;34m\u001b[0m\u001b[0;34m\u001b[0m\u001b[0m\n\u001b[1;32m    237\u001b[0m         \u001b[0murl\u001b[0m \u001b[0;34m=\u001b[0m \u001b[0mself\u001b[0m\u001b[0;34m.\u001b[0m\u001b[0mbase_url\u001b[0m\u001b[0;34m.\u001b[0m\u001b[0mformat\u001b[0m\u001b[0;34m(\u001b[0m\u001b[0mendpoint\u001b[0m\u001b[0;34m=\u001b[0m\u001b[0mendpoint\u001b[0m\u001b[0;34m)\u001b[0m\u001b[0;34m\u001b[0m\u001b[0;34m\u001b[0m\u001b[0m\n\u001b[0;32m--> 238\u001b[0;31m         \u001b[0;32mfor\u001b[0m \u001b[0mresponse\u001b[0m \u001b[0;32min\u001b[0m \u001b[0mself\u001b[0m\u001b[0;34m.\u001b[0m\u001b[0m_handle_paging\u001b[0m\u001b[0;34m(\u001b[0m\u001b[0murl\u001b[0m\u001b[0;34m)\u001b[0m\u001b[0;34m:\u001b[0m\u001b[0;34m\u001b[0m\u001b[0;34m\u001b[0m\u001b[0m\n\u001b[0m\u001b[1;32m    239\u001b[0m             \u001b[0;32mif\u001b[0m \u001b[0;34m'aggs'\u001b[0m \u001b[0;32min\u001b[0m \u001b[0mresponse\u001b[0m\u001b[0;34m:\u001b[0m\u001b[0;34m\u001b[0m\u001b[0;34m\u001b[0m\u001b[0m\n\u001b[1;32m    240\u001b[0m                 \u001b[0;32myield\u001b[0m \u001b[0mresponse\u001b[0m\u001b[0;34m[\u001b[0m\u001b[0;34m'aggs'\u001b[0m\u001b[0;34m]\u001b[0m\u001b[0;34m\u001b[0m\u001b[0;34m\u001b[0m\u001b[0m\n",
      "\u001b[0;32m~/work/personal/whodoesntlovereddit/.venv/lib/python3.8/site-packages/psaw/PushshiftAPI.py\u001b[0m in \u001b[0;36m_handle_paging\u001b[0;34m(self, url)\u001b[0m\n\u001b[1;32m    213\u001b[0m             \u001b[0mself\u001b[0m\u001b[0;34m.\u001b[0m\u001b[0m_add_nec_args\u001b[0m\u001b[0;34m(\u001b[0m\u001b[0mself\u001b[0m\u001b[0;34m.\u001b[0m\u001b[0mpayload\u001b[0m\u001b[0;34m)\u001b[0m\u001b[0;34m\u001b[0m\u001b[0;34m\u001b[0m\u001b[0m\n\u001b[1;32m    214\u001b[0m \u001b[0;34m\u001b[0m\u001b[0m\n\u001b[0;32m--> 215\u001b[0;31m             \u001b[0mdata\u001b[0m \u001b[0;34m=\u001b[0m \u001b[0mself\u001b[0m\u001b[0;34m.\u001b[0m\u001b[0m_get\u001b[0m\u001b[0;34m(\u001b[0m\u001b[0murl\u001b[0m\u001b[0;34m,\u001b[0m \u001b[0mself\u001b[0m\u001b[0;34m.\u001b[0m\u001b[0mpayload\u001b[0m\u001b[0;34m)\u001b[0m\u001b[0;34m\u001b[0m\u001b[0;34m\u001b[0m\u001b[0m\n\u001b[0m\u001b[1;32m    216\u001b[0m             \u001b[0;32myield\u001b[0m \u001b[0mdata\u001b[0m\u001b[0;34m\u001b[0m\u001b[0;34m\u001b[0m\u001b[0m\n\u001b[1;32m    217\u001b[0m             \u001b[0;32mif\u001b[0m \u001b[0mlimit\u001b[0m \u001b[0;32mis\u001b[0m \u001b[0;32mnot\u001b[0m \u001b[0;32mNone\u001b[0m\u001b[0;34m:\u001b[0m\u001b[0;34m\u001b[0m\u001b[0;34m\u001b[0m\u001b[0m\n",
      "\u001b[0;32m~/work/personal/whodoesntlovereddit/.venv/lib/python3.8/site-packages/psaw/PushshiftAPI.py\u001b[0m in \u001b[0;36m_get\u001b[0;34m(self, url, payload)\u001b[0m\n\u001b[1;32m    179\u001b[0m             \u001b[0;32mif\u001b[0m \u001b[0mi\u001b[0m \u001b[0;34m>\u001b[0m \u001b[0;36m0\u001b[0m\u001b[0;34m:\u001b[0m\u001b[0;34m\u001b[0m\u001b[0;34m\u001b[0m\u001b[0m\n\u001b[1;32m    180\u001b[0m                 \u001b[0mwarnings\u001b[0m\u001b[0;34m.\u001b[0m\u001b[0mwarn\u001b[0m\u001b[0;34m(\u001b[0m\u001b[0;34m\"Unable to connect to pushshift.io. Retrying after backoff.\"\u001b[0m\u001b[0;34m)\u001b[0m\u001b[0;34m\u001b[0m\u001b[0;34m\u001b[0m\u001b[0m\n\u001b[0;32m--> 181\u001b[0;31m             \u001b[0mself\u001b[0m\u001b[0;34m.\u001b[0m\u001b[0m_impose_rate_limit\u001b[0m\u001b[0;34m(\u001b[0m\u001b[0mi\u001b[0m\u001b[0;34m)\u001b[0m\u001b[0;34m\u001b[0m\u001b[0;34m\u001b[0m\u001b[0m\n\u001b[0m\u001b[1;32m    182\u001b[0m             \u001b[0mi\u001b[0m\u001b[0;34m+=\u001b[0m\u001b[0;36m1\u001b[0m\u001b[0;34m\u001b[0m\u001b[0;34m\u001b[0m\u001b[0m\n\u001b[1;32m    183\u001b[0m             \u001b[0;32mtry\u001b[0m\u001b[0;34m:\u001b[0m\u001b[0;34m\u001b[0m\u001b[0;34m\u001b[0m\u001b[0m\n",
      "\u001b[0;32m~/work/personal/whodoesntlovereddit/.venv/lib/python3.8/site-packages/psaw/PushshiftAPI.py\u001b[0m in \u001b[0;36m_impose_rate_limit\u001b[0;34m(self, nth_request)\u001b[0m\n\u001b[1;32m    149\u001b[0m         \u001b[0;32mif\u001b[0m \u001b[0minterval\u001b[0m \u001b[0;34m>\u001b[0m \u001b[0;36m0\u001b[0m\u001b[0;34m:\u001b[0m\u001b[0;34m\u001b[0m\u001b[0;34m\u001b[0m\u001b[0m\n\u001b[1;32m    150\u001b[0m             \u001b[0mlog\u001b[0m\u001b[0;34m.\u001b[0m\u001b[0mdebug\u001b[0m\u001b[0;34m(\u001b[0m\u001b[0;34m\"Imposing rate limit, sleeping for %s\"\u001b[0m \u001b[0;34m%\u001b[0m \u001b[0minterval\u001b[0m\u001b[0;34m)\u001b[0m\u001b[0;34m\u001b[0m\u001b[0;34m\u001b[0m\u001b[0m\n\u001b[0;32m--> 151\u001b[0;31m             \u001b[0mtime\u001b[0m\u001b[0;34m.\u001b[0m\u001b[0msleep\u001b[0m\u001b[0;34m(\u001b[0m\u001b[0minterval\u001b[0m\u001b[0;34m)\u001b[0m\u001b[0;34m\u001b[0m\u001b[0;34m\u001b[0m\u001b[0m\n\u001b[0m\u001b[1;32m    152\u001b[0m \u001b[0;34m\u001b[0m\u001b[0m\n\u001b[1;32m    153\u001b[0m     \u001b[0;32mdef\u001b[0m \u001b[0m_add_nec_args\u001b[0m\u001b[0;34m(\u001b[0m\u001b[0mself\u001b[0m\u001b[0;34m,\u001b[0m \u001b[0mpayload\u001b[0m\u001b[0;34m)\u001b[0m\u001b[0;34m:\u001b[0m\u001b[0;34m\u001b[0m\u001b[0;34m\u001b[0m\u001b[0m\n",
      "\u001b[0;31mKeyboardInterrupt\u001b[0m: "
     ]
    }
   ],
   "source": [
    " a = list(api.search_submissions(after=day_before_yesterday, before=today, subreddit='funny', filter=['url', 'title'], limit = 10))"
   ]
  },
  {
   "cell_type": "code",
   "execution_count": 201,
   "id": "c5525ffc-0bf2-4f0b-aba8-f9eb5db3fecc",
   "metadata": {},
   "outputs": [
    {
     "data": {
      "text/plain": [
       "1628447400"
      ]
     },
     "execution_count": 201,
     "metadata": {},
     "output_type": "execute_result"
    }
   ],
   "source": [
    "int(day_before_yesterday)"
   ]
  },
  {
   "cell_type": "code",
   "execution_count": 235,
   "id": "8b94ffc6-7d9b-488d-a1eb-bd06047d62d4",
   "metadata": {
    "tags": []
   },
   "outputs": [],
   "source": [
    "def get_pushshift_data(data_type, **kwargs):\n",
    "    \"\"\"\n",
    "    Gets data from the pushshift api.\n",
    " \n",
    "    data_type can be 'comment' or 'submission'\n",
    "    The rest of the args are interpreted as payload.\n",
    " \n",
    "    Read more: https://github.com/pushshift/api\n",
    "    \"\"\"\n",
    " \n",
    "    base_url = f\"https://api.pushshift.io/reddit/search/submission/?subreddit=funny&num_comments=>0&after={int(day_before_yesterday)}&before={int(yesterday)}&is_video=true&sort_type=score&sort=score:asc&size=100&aggs=subreddit\"\n",
    "#     payload = {}\n",
    "#     print(payload)\n",
    "    request = requests.get(base_url)\n",
    "    return request.json()"
   ]
  },
  {
   "cell_type": "code",
   "execution_count": 236,
   "id": "7162332a-ce32-487a-91f1-729889c4332d",
   "metadata": {},
   "outputs": [],
   "source": [
    "data_type=\"submission\"     # give me comments, use \"submission\" to publish something\n",
    "query=\"funny\"          # Add your query\n",
    "duration=\"1d\"          # Select the timeframe. Epoch value or Integer + \"s,m,h,d\" (i.e. \"second\", \"minute\", \"hour\", \"day\")\n",
    "size=1000               # maximum 1000 comments\n",
    "sort_type=\"score\"       # Sort by score (Accepted: \"score\", \"num_comments\", \"created_utc\")\n",
    "sort=\"desc\"             # sort descending\n",
    "aggs=\"subreddit\"        #\"author\", \"link_id\", \"created_utc\", \"subreddit\""
   ]
  },
  {
   "cell_type": "code",
   "execution_count": 254,
   "id": "3645ffb5-554d-47e6-a73d-f52197fb5df7",
   "metadata": {
    "tags": []
   },
   "outputs": [],
   "source": [
    "base_url = f\"https://api.pushshift.io/reddit/search/submission/?subreddit=funny&num_comments=>0&over_18=false&after={int(day_before_yesterday)}&before={int(yesterday)}&is_video=true&sort_type=score&sort=score:desc&size=100&aggs=subreddit\"\n",
    "\n",
    "request = requests.get(base_url)\n",
    "b = request.json()"
   ]
  },
  {
   "cell_type": "code",
   "execution_count": 263,
   "id": "8b29ba50-c3fd-4169-8f27-6ee104843dbf",
   "metadata": {
    "collapsed": true,
    "jupyter": {
     "outputs_hidden": true
    },
    "tags": []
   },
   "outputs": [
    {
     "data": {
      "text/plain": [
       "{'all_awardings': [],\n",
       " 'allow_live_comments': False,\n",
       " 'author': 'THCv1',\n",
       " 'author_flair_css_class': None,\n",
       " 'author_flair_richtext': [],\n",
       " 'author_flair_text': None,\n",
       " 'author_flair_type': 'text',\n",
       " 'author_fullname': 't2_1bfzjru7',\n",
       " 'author_is_blocked': False,\n",
       " 'author_patreon_flair': False,\n",
       " 'author_premium': False,\n",
       " 'awarders': [],\n",
       " 'can_mod_post': False,\n",
       " 'contest_mode': False,\n",
       " 'created_utc': 1628530642,\n",
       " 'domain': '/r/funny/comments/p16ap5/we_all_have_at_least_one_in_every_town/',\n",
       " 'full_link': 'https://www.reddit.com/r/funny/comments/p16ap5/we_all_have_at_least_one_in_every_town/',\n",
       " 'gildings': {},\n",
       " 'id': 'p16ap5',\n",
       " 'is_created_from_ads_ui': False,\n",
       " 'is_crosspostable': True,\n",
       " 'is_meta': False,\n",
       " 'is_original_content': False,\n",
       " 'is_reddit_media_domain': False,\n",
       " 'is_robot_indexable': True,\n",
       " 'is_self': False,\n",
       " 'is_video': True,\n",
       " 'link_flair_background_color': '',\n",
       " 'link_flair_richtext': [],\n",
       " 'link_flair_text_color': 'dark',\n",
       " 'link_flair_type': 'text',\n",
       " 'locked': False,\n",
       " 'media_only': False,\n",
       " 'no_follow': True,\n",
       " 'num_comments': 2,\n",
       " 'num_crossposts': 0,\n",
       " 'over_18': False,\n",
       " 'parent_whitelist_status': 'all_ads',\n",
       " 'permalink': '/r/funny/comments/p16ap5/we_all_have_at_least_one_in_every_town/',\n",
       " 'pinned': False,\n",
       " 'post_hint': 'hosted:video',\n",
       " 'preview': {'enabled': False,\n",
       "  'images': [{'id': 'vAOgvqFiMXTwh_zTDxVYoYQjKaUpuIEeJx-_7z2AIYI',\n",
       "    'resolutions': [{'height': 192,\n",
       "      'url': 'https://external-preview.redd.it/ettU3c89FMAdWv87wUl7TbtDQ1VFvuElufEHbS32zxM.png?width=108&amp;crop=smart&amp;format=pjpg&amp;auto=webp&amp;s=8a0ffafed2d792006bd245d18d12f9c126a28bd2',\n",
       "      'width': 108},\n",
       "     {'height': 384,\n",
       "      'url': 'https://external-preview.redd.it/ettU3c89FMAdWv87wUl7TbtDQ1VFvuElufEHbS32zxM.png?width=216&amp;crop=smart&amp;format=pjpg&amp;auto=webp&amp;s=06ee404f7981edafcc8a49e484431f46ece0df6b',\n",
       "      'width': 216},\n",
       "     {'height': 569,\n",
       "      'url': 'https://external-preview.redd.it/ettU3c89FMAdWv87wUl7TbtDQ1VFvuElufEHbS32zxM.png?width=320&amp;crop=smart&amp;format=pjpg&amp;auto=webp&amp;s=864c85966cfd7f72a8bcece26a3ca9460434bfbd',\n",
       "      'width': 320},\n",
       "     {'height': 1138,\n",
       "      'url': 'https://external-preview.redd.it/ettU3c89FMAdWv87wUl7TbtDQ1VFvuElufEHbS32zxM.png?width=640&amp;crop=smart&amp;format=pjpg&amp;auto=webp&amp;s=580c83e23fda698f6536d10ed0cd7abe2f1f1e80',\n",
       "      'width': 640}],\n",
       "    'source': {'height': 1138,\n",
       "     'url': 'https://external-preview.redd.it/ettU3c89FMAdWv87wUl7TbtDQ1VFvuElufEHbS32zxM.png?format=pjpg&amp;auto=webp&amp;s=fc62ec2e7fdff83a195901e639fcead64f4fa4cd',\n",
       "     'width': 640},\n",
       "    'variants': {}}]},\n",
       " 'pwls': 6,\n",
       " 'retrieved_on': 1628530653,\n",
       " 'score': 1,\n",
       " 'selftext': '',\n",
       " 'send_replies': True,\n",
       " 'spoiler': False,\n",
       " 'stickied': False,\n",
       " 'subreddit': 'funny',\n",
       " 'subreddit_id': 't5_2qh33',\n",
       " 'subreddit_subscribers': 37027212,\n",
       " 'subreddit_type': 'public',\n",
       " 'thumbnail': 'https://b.thumbs.redditmedia.com/G_APlm8C9KTmR2pB6ebbD5VTrVijqTmm8U4guAZTCsM.jpg',\n",
       " 'thumbnail_height': 140,\n",
       " 'thumbnail_width': 140,\n",
       " 'title': 'We all have at least one in every town',\n",
       " 'total_awards_received': 0,\n",
       " 'treatment_tags': [],\n",
       " 'upvote_ratio': 1.0,\n",
       " 'url': 'https://v.redd.it/lf1rp8m1cdg71',\n",
       " 'url_overridden_by_dest': 'https://v.redd.it/lf1rp8m1cdg71',\n",
       " 'whitelist_status': 'all_ads',\n",
       " 'wls': 6}"
      ]
     },
     "execution_count": 263,
     "metadata": {},
     "output_type": "execute_result"
    }
   ],
   "source": [
    "b['data'][59]"
   ]
  },
  {
   "cell_type": "code",
   "execution_count": 238,
   "id": "d9f08483-3dd1-4000-b8bd-f14bd76c31de",
   "metadata": {
    "collapsed": true,
    "jupyter": {
     "outputs_hidden": true
    },
    "tags": []
   },
   "outputs": [
    {
     "name": "stdout",
     "output_type": "stream",
     "text": [
      "{ 'all_awardings': [],\n",
      "  'allow_live_comments': False,\n",
      "  'author': 'Tinzeii',\n",
      "  'author_flair_css_class': None,\n",
      "  'author_flair_richtext': [],\n",
      "  'author_flair_text': None,\n",
      "  'author_flair_type': 'text',\n",
      "  'author_fullname': 't2_4fknz7x5',\n",
      "  'author_is_blocked': False,\n",
      "  'author_patreon_flair': False,\n",
      "  'author_premium': False,\n",
      "  'awarders': [],\n",
      "  'can_mod_post': False,\n",
      "  'contest_mode': False,\n",
      "  'created_utc': 1628460924,\n",
      "  'domain': '/r/funny/comments/p0o96c/enjoy_ittt/',\n",
      "  'full_link': 'https://www.reddit.com/r/funny/comments/p0o96c/enjoy_ittt/',\n",
      "  'gildings': {},\n",
      "  'id': 'p0o96c',\n",
      "  'is_created_from_ads_ui': False,\n",
      "  'is_crosspostable': True,\n",
      "  'is_meta': False,\n",
      "  'is_original_content': False,\n",
      "  'is_reddit_media_domain': False,\n",
      "  'is_robot_indexable': True,\n",
      "  'is_self': False,\n",
      "  'is_video': True,\n",
      "  'link_flair_background_color': '',\n",
      "  'link_flair_richtext': [],\n",
      "  'link_flair_text_color': 'dark',\n",
      "  'link_flair_type': 'text',\n",
      "  'locked': False,\n",
      "  'media_only': False,\n",
      "  'no_follow': True,\n",
      "  'num_comments': 7,\n",
      "  'num_crossposts': 0,\n",
      "  'over_18': False,\n",
      "  'parent_whitelist_status': 'all_ads',\n",
      "  'permalink': '/r/funny/comments/p0o96c/enjoy_ittt/',\n",
      "  'pinned': False,\n",
      "  'post_hint': 'hosted:video',\n",
      "  'preview': { 'enabled': False,\n",
      "               'images': [ { 'id': '6mv1fxeMmZ2xCVEabIIIt0ou6y20b1yGfacQ8SVYUpQ',\n",
      "                             'resolutions': [ { 'height': 61,\n",
      "                                                'url': 'https://external-preview.redd.it/HeZqDKS-OI37QFKtiE4pefNCF7KY-c_Rj6jhrRsFJUU.png?width=108&amp;crop=smart&amp;format=pjpg&amp;auto=webp&amp;s=29d65e4c8318b389aa9a01323933e9a00585046b',\n",
      "                                                'width': 108},\n",
      "                                              { 'height': 123,\n",
      "                                                'url': 'https://external-preview.redd.it/HeZqDKS-OI37QFKtiE4pefNCF7KY-c_Rj6jhrRsFJUU.png?width=216&amp;crop=smart&amp;format=pjpg&amp;auto=webp&amp;s=f746091c8bba12f603a0a2c6aa58e7f93ae324bc',\n",
      "                                                'width': 216},\n",
      "                                              { 'height': 182,\n",
      "                                                'url': 'https://external-preview.redd.it/HeZqDKS-OI37QFKtiE4pefNCF7KY-c_Rj6jhrRsFJUU.png?width=320&amp;crop=smart&amp;format=pjpg&amp;auto=webp&amp;s=7c073116b0f276155972bcafb1890b9c0ca010b5',\n",
      "                                                'width': 320}],\n",
      "                             'source': { 'height': 360,\n",
      "                                         'url': 'https://external-preview.redd.it/HeZqDKS-OI37QFKtiE4pefNCF7KY-c_Rj6jhrRsFJUU.png?format=pjpg&amp;auto=webp&amp;s=cdd535aa180d6d3e23b127a2cbc5786f85a15763',\n",
      "                                         'width': 632},\n",
      "                             'variants': {}}]},\n",
      "  'pwls': 6,\n",
      "  'retrieved_on': 1628460935,\n",
      "  'score': 1,\n",
      "  'selftext': '',\n",
      "  'send_replies': True,\n",
      "  'spoiler': False,\n",
      "  'stickied': False,\n",
      "  'subreddit': 'funny',\n",
      "  'subreddit_id': 't5_2qh33',\n",
      "  'subreddit_subscribers': 37020145,\n",
      "  'subreddit_type': 'public',\n",
      "  'thumbnail': 'https://b.thumbs.redditmedia.com/wv4qckXFfUECxxUgnDdBHsSm_dgy80OdDMdkCr63m3Y.jpg',\n",
      "  'thumbnail_height': 79,\n",
      "  'thumbnail_width': 140,\n",
      "  'title': 'Enjoy ittt😂',\n",
      "  'total_awards_received': 0,\n",
      "  'treatment_tags': [],\n",
      "  'upvote_ratio': 1.0,\n",
      "  'url': 'https://v.redd.it/q7l6j9uvk7g71',\n",
      "  'url_overridden_by_dest': 'https://v.redd.it/q7l6j9uvk7g71',\n",
      "  'whitelist_status': 'all_ads',\n",
      "  'wls': 6}\n"
     ]
    }
   ],
   "source": [
    "for post in a['data']:    \n",
    "    pp.pprint(post)\n",
    "    break\n",
    "\n",
    "   \n",
    "    \n",
    "        \n"
   ]
  },
  {
   "cell_type": "code",
   "execution_count": 239,
   "id": "922df849-2007-41e7-869d-9a3cd2d06835",
   "metadata": {
    "collapsed": true,
    "jupyter": {
     "outputs_hidden": true
    },
    "tags": []
   },
   "outputs": [
    {
     "data": {
      "text/plain": [
       "{'all_awardings': [],\n",
       " 'allow_live_comments': False,\n",
       " 'author': 'Tinzeii',\n",
       " 'author_flair_css_class': None,\n",
       " 'author_flair_richtext': [],\n",
       " 'author_flair_text': None,\n",
       " 'author_flair_type': 'text',\n",
       " 'author_fullname': 't2_4fknz7x5',\n",
       " 'author_is_blocked': False,\n",
       " 'author_patreon_flair': False,\n",
       " 'author_premium': False,\n",
       " 'awarders': [],\n",
       " 'can_mod_post': False,\n",
       " 'contest_mode': False,\n",
       " 'created_utc': 1628460924,\n",
       " 'domain': '/r/funny/comments/p0o96c/enjoy_ittt/',\n",
       " 'full_link': 'https://www.reddit.com/r/funny/comments/p0o96c/enjoy_ittt/',\n",
       " 'gildings': {},\n",
       " 'id': 'p0o96c',\n",
       " 'is_created_from_ads_ui': False,\n",
       " 'is_crosspostable': True,\n",
       " 'is_meta': False,\n",
       " 'is_original_content': False,\n",
       " 'is_reddit_media_domain': False,\n",
       " 'is_robot_indexable': True,\n",
       " 'is_self': False,\n",
       " 'is_video': True,\n",
       " 'link_flair_background_color': '',\n",
       " 'link_flair_richtext': [],\n",
       " 'link_flair_text_color': 'dark',\n",
       " 'link_flair_type': 'text',\n",
       " 'locked': False,\n",
       " 'media_only': False,\n",
       " 'no_follow': True,\n",
       " 'num_comments': 7,\n",
       " 'num_crossposts': 0,\n",
       " 'over_18': False,\n",
       " 'parent_whitelist_status': 'all_ads',\n",
       " 'permalink': '/r/funny/comments/p0o96c/enjoy_ittt/',\n",
       " 'pinned': False,\n",
       " 'post_hint': 'hosted:video',\n",
       " 'preview': {'enabled': False,\n",
       "  'images': [{'id': '6mv1fxeMmZ2xCVEabIIIt0ou6y20b1yGfacQ8SVYUpQ',\n",
       "    'resolutions': [{'height': 61,\n",
       "      'url': 'https://external-preview.redd.it/HeZqDKS-OI37QFKtiE4pefNCF7KY-c_Rj6jhrRsFJUU.png?width=108&amp;crop=smart&amp;format=pjpg&amp;auto=webp&amp;s=29d65e4c8318b389aa9a01323933e9a00585046b',\n",
       "      'width': 108},\n",
       "     {'height': 123,\n",
       "      'url': 'https://external-preview.redd.it/HeZqDKS-OI37QFKtiE4pefNCF7KY-c_Rj6jhrRsFJUU.png?width=216&amp;crop=smart&amp;format=pjpg&amp;auto=webp&amp;s=f746091c8bba12f603a0a2c6aa58e7f93ae324bc',\n",
       "      'width': 216},\n",
       "     {'height': 182,\n",
       "      'url': 'https://external-preview.redd.it/HeZqDKS-OI37QFKtiE4pefNCF7KY-c_Rj6jhrRsFJUU.png?width=320&amp;crop=smart&amp;format=pjpg&amp;auto=webp&amp;s=7c073116b0f276155972bcafb1890b9c0ca010b5',\n",
       "      'width': 320}],\n",
       "    'source': {'height': 360,\n",
       "     'url': 'https://external-preview.redd.it/HeZqDKS-OI37QFKtiE4pefNCF7KY-c_Rj6jhrRsFJUU.png?format=pjpg&amp;auto=webp&amp;s=cdd535aa180d6d3e23b127a2cbc5786f85a15763',\n",
       "     'width': 632},\n",
       "    'variants': {}}]},\n",
       " 'pwls': 6,\n",
       " 'retrieved_on': 1628460935,\n",
       " 'score': 1,\n",
       " 'selftext': '',\n",
       " 'send_replies': True,\n",
       " 'spoiler': False,\n",
       " 'stickied': False,\n",
       " 'subreddit': 'funny',\n",
       " 'subreddit_id': 't5_2qh33',\n",
       " 'subreddit_subscribers': 37020145,\n",
       " 'subreddit_type': 'public',\n",
       " 'thumbnail': 'https://b.thumbs.redditmedia.com/wv4qckXFfUECxxUgnDdBHsSm_dgy80OdDMdkCr63m3Y.jpg',\n",
       " 'thumbnail_height': 79,\n",
       " 'thumbnail_width': 140,\n",
       " 'title': 'Enjoy ittt😂',\n",
       " 'total_awards_received': 0,\n",
       " 'treatment_tags': [],\n",
       " 'upvote_ratio': 1.0,\n",
       " 'url': 'https://v.redd.it/q7l6j9uvk7g71',\n",
       " 'url_overridden_by_dest': 'https://v.redd.it/q7l6j9uvk7g71',\n",
       " 'whitelist_status': 'all_ads',\n",
       " 'wls': 6}"
      ]
     },
     "execution_count": 239,
     "metadata": {},
     "output_type": "execute_result"
    }
   ],
   "source": [
    "post"
   ]
  },
  {
   "cell_type": "code",
   "execution_count": null,
   "id": "40c136a5-271f-49c5-8336-8f1f4f540a27",
   "metadata": {},
   "outputs": [],
   "source": []
  }
 ],
 "metadata": {
  "kernelspec": {
   "display_name": "Python 3.8.10 64-bit ('.venv': venv)",
   "language": "python",
   "name": "python3810jvsc74a57bd024b555649d86f360bc29675e4ea05747664583e96f16283f97272f664e30bb4e"
  },
  "language_info": {
   "codemirror_mode": {
    "name": "ipython",
    "version": 3
   },
   "file_extension": ".py",
   "mimetype": "text/x-python",
   "name": "python",
   "nbconvert_exporter": "python",
   "pygments_lexer": "ipython3",
   "version": "3.8.10"
  }
 },
 "nbformat": 4,
 "nbformat_minor": 5
}
