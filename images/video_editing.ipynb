{
 "cells": [
  {
   "cell_type": "code",
   "execution_count": 1,
   "id": "0fcf17a3-2df4-4cbc-827a-64ebb413bc70",
   "metadata": {},
   "outputs": [],
   "source": [
    "from moviepy.editor import *"
   ]
  },
  {
   "cell_type": "markdown",
   "id": "4a5e71a0-b438-4d50-9917-32c78b35143a",
   "metadata": {},
   "source": [
    "# Outtro transition works"
   ]
  },
  {
   "cell_type": "markdown",
   "id": "699a3e40-3a37-4f4c-ab72-5eda3e533d95",
   "metadata": {},
   "source": [
    "# crab rave"
   ]
  },
  {
   "cell_type": "code",
   "execution_count": 2,
   "id": "7e1d4189-5f26-4d0a-b3bb-f71da680d3e6",
   "metadata": {},
   "outputs": [],
   "source": [
    "import os\n",
    "file_path = os.path.join(os.getcwd(), \"crab_rave_original.mp4\")  "
   ]
  },
  {
   "cell_type": "code",
   "execution_count": 289,
   "id": "f15c978b-726e-49ef-acb6-00ba1bd41950",
   "metadata": {},
   "outputs": [
    {
     "ename": "AttributeError",
     "evalue": "'VideoFileClip' object has no attribute 'video_fadeout'",
     "output_type": "error",
     "traceback": [
      "\u001b[0;31m---------------------------------------------------------------------------\u001b[0m",
      "\u001b[0;31mAttributeError\u001b[0m                            Traceback (most recent call last)",
      "\u001b[0;32m/tmp/ipykernel_40323/3177790319.py\u001b[0m in \u001b[0;36m<module>\u001b[0;34m\u001b[0m\n\u001b[1;32m      1\u001b[0m \u001b[0mvideo_clip\u001b[0m \u001b[0;34m=\u001b[0m \u001b[0mVideoFileClip\u001b[0m\u001b[0;34m(\u001b[0m\u001b[0mfile_path\u001b[0m\u001b[0;34m)\u001b[0m\u001b[0;34m\u001b[0m\u001b[0;34m\u001b[0m\u001b[0m\n\u001b[0;32m----> 2\u001b[0;31m \u001b[0mvideo_clip\u001b[0m \u001b[0;34m=\u001b[0m \u001b[0mvideo_clip\u001b[0m\u001b[0;34m.\u001b[0m\u001b[0mvideo_fadeout\u001b[0m\u001b[0;34m(\u001b[0m\u001b[0;36m1\u001b[0m\u001b[0;34m)\u001b[0m\u001b[0;34m\u001b[0m\u001b[0;34m\u001b[0m\u001b[0m\n\u001b[0m\u001b[1;32m      3\u001b[0m \u001b[0mfps\u001b[0m \u001b[0;34m=\u001b[0m \u001b[0mvideo_clip\u001b[0m\u001b[0;34m.\u001b[0m\u001b[0mfps\u001b[0m\u001b[0;34m\u001b[0m\u001b[0;34m\u001b[0m\u001b[0m\n\u001b[1;32m      4\u001b[0m \u001b[0mduration\u001b[0m \u001b[0;34m=\u001b[0m \u001b[0mvideo_clip\u001b[0m\u001b[0;34m.\u001b[0m\u001b[0mreader\u001b[0m\u001b[0;34m.\u001b[0m\u001b[0mduration\u001b[0m\u001b[0;34m\u001b[0m\u001b[0;34m\u001b[0m\u001b[0m\n\u001b[1;32m      5\u001b[0m \u001b[0mw\u001b[0m\u001b[0;34m,\u001b[0m \u001b[0mh\u001b[0m \u001b[0;34m=\u001b[0m \u001b[0mvideo_clip\u001b[0m\u001b[0;34m.\u001b[0m\u001b[0msize\u001b[0m\u001b[0;34m\u001b[0m\u001b[0;34m\u001b[0m\u001b[0m\n",
      "\u001b[0;31mAttributeError\u001b[0m: 'VideoFileClip' object has no attribute 'video_fadeout'"
     ]
    }
   ],
   "source": [
    "video_clip = VideoFileClip(file_path)\n",
    "fps = video_clip.fps\n",
    "duration = video_clip.reader.duration\n",
    "w, h = video_clip.size"
   ]
  },
  {
   "cell_type": "code",
   "execution_count": 284,
   "id": "84c29beb-6a4f-43e1-8101-9dbf43d5be32",
   "metadata": {},
   "outputs": [],
   "source": [
    "audio_clip = video_clip.audio\n",
    "audio_clip = audio_clip.audio_fadein(1.5).audio_fadeout(1.5)\n",
    "# video_clip.audio = audio_clip"
   ]
  },
  {
   "cell_type": "code",
   "execution_count": 285,
   "id": "b75fd257-6207-436b-967a-df375042f66b",
   "metadata": {},
   "outputs": [],
   "source": [
    "credits_text = TextClip('Credits: @Noisestorm', fontsize=24, color='white', size = [w, 30], align='West')\n",
    "credits_text = credits_text.set_duration(duration).set_fps(fps)\n",
    "credits_text = credits_text.set_pos((\"top\"))\n"
   ]
  },
  {
   "cell_type": "code",
   "execution_count": 286,
   "id": "284a46d6-2d12-46ac-b5da-cbc7cacd6c00",
   "metadata": {},
   "outputs": [],
   "source": [
    "watermark_text = TextClip('@VidsFromAroundTheInternet', fontsize=30, color='white', size = [w, 30], align='East')\n",
    "watermark_text = watermark_text.set_duration(duration).set_fps(fps)\n",
    "watermark_text = watermark_text.set_pos((\"bottom\"))"
   ]
  },
  {
   "cell_type": "code",
   "execution_count": 287,
   "id": "f81e7f1a-2a60-4868-bf48-be688715030c",
   "metadata": {},
   "outputs": [
    {
     "ename": "AttributeError",
     "evalue": "'CompositeVideoClip' object has no attribute 'video_fadeout'",
     "output_type": "error",
     "traceback": [
      "\u001b[0;31m---------------------------------------------------------------------------\u001b[0m",
      "\u001b[0;31mAttributeError\u001b[0m                            Traceback (most recent call last)",
      "\u001b[0;32m/tmp/ipykernel_40323/1024087880.py\u001b[0m in \u001b[0;36m<module>\u001b[0;34m\u001b[0m\n\u001b[1;32m      1\u001b[0m \u001b[0mfinal_clip\u001b[0m \u001b[0;34m=\u001b[0m \u001b[0mCompositeVideoClip\u001b[0m\u001b[0;34m(\u001b[0m\u001b[0;34m[\u001b[0m\u001b[0mvideo_clip\u001b[0m\u001b[0;34m,\u001b[0m  \u001b[0mwatermark_text\u001b[0m\u001b[0;34m,\u001b[0m \u001b[0mcredits_text\u001b[0m\u001b[0;34m]\u001b[0m\u001b[0;34m,\u001b[0m \u001b[0msize\u001b[0m \u001b[0;34m=\u001b[0m \u001b[0;34m[\u001b[0m\u001b[0mw\u001b[0m\u001b[0;34m,\u001b[0m \u001b[0mh\u001b[0m\u001b[0;34m]\u001b[0m\u001b[0;34m)\u001b[0m\u001b[0;34m\u001b[0m\u001b[0;34m\u001b[0m\u001b[0m\n\u001b[1;32m      2\u001b[0m \u001b[0mfinal_clip\u001b[0m\u001b[0;34m.\u001b[0m\u001b[0maudio\u001b[0m \u001b[0;34m=\u001b[0m \u001b[0maudio_clip\u001b[0m\u001b[0;34m\u001b[0m\u001b[0;34m\u001b[0m\u001b[0m\n\u001b[0;32m----> 3\u001b[0;31m \u001b[0mfinal_clip\u001b[0m \u001b[0;34m=\u001b[0m \u001b[0mfinal_clip\u001b[0m\u001b[0;34m.\u001b[0m\u001b[0mvideo_fadeout\u001b[0m\u001b[0;34m(\u001b[0m\u001b[0;36m1\u001b[0m\u001b[0;34m)\u001b[0m\u001b[0;34m\u001b[0m\u001b[0;34m\u001b[0m\u001b[0m\n\u001b[0m",
      "\u001b[0;31mAttributeError\u001b[0m: 'CompositeVideoClip' object has no attribute 'video_fadeout'"
     ]
    }
   ],
   "source": [
    "final_clip = CompositeVideoClip([video_clip,  watermark_text, credits_text], size = [w, h])\n",
    "final_clip.audio = audio_clip\n"
   ]
  },
  {
   "cell_type": "code",
   "execution_count": 280,
   "id": "fcba01aa-21c0-4c8b-ac55-2447c8310c63",
   "metadata": {
    "collapsed": true,
    "jupyter": {
     "outputs_hidden": true
    },
    "tags": []
   },
   "outputs": [
    {
     "name": "stderr",
     "output_type": "stream",
     "text": [
      "                                                                                                \n",
      "\n",
      "\u001b[A\u001b[A                                                                                          \n",
      "\u001b[A                                                                                             \n",
      "\n",
      "\n",
      "\u001b[A\u001b[A\u001b[A                                                                                       \n",
      "\n",
      "\n",
      "\n",
      "t:   0%|                                       | 1/1202 [27:50<557:25:19, 1670.87s/it, now=None]\n",
      "\n",
      "t:   0%|                                       | 1/1202 [18:32<371:02:21, 1112.19s/it, now=None]\u001b[A\u001b[A\n",
      "t:   0%|                                       | 1/1202 [26:54<538:40:05, 1614.66s/it, now=None]\u001b[A\n",
      "\n",
      "\n",
      "t:   0%|                                       | 1/1202 [17:47<356:17:01, 1067.96s/it, now=None]\u001b[A\u001b[A\u001b[A\n",
      "\n",
      "\n",
      "\n",
      "                                                                                                \u001b[A\u001b[A\u001b[A\u001b[A\n",
      "\n",
      "\u001b[A\u001b[A                                                                                          \n",
      "\u001b[A                                                                                             \n",
      "\n",
      "\n",
      "\u001b[A\u001b[A\u001b[A                                                                                       \n",
      "\n",
      "\n",
      "\n",
      "t:   0%|                                       | 1/1202 [27:50<557:25:33, 1670.89s/it, now=None]\n",
      "\n",
      "t:   0%|                                       | 1/1202 [18:32<371:02:35, 1112.20s/it, now=None]\u001b[A\u001b[A\n",
      "t:   0%|                                       | 1/1202 [26:54<538:40:19, 1614.67s/it, now=None]\u001b[A\n",
      "\n",
      "\n",
      "t:   0%|                                       | 1/1202 [17:47<356:17:15, 1067.97s/it, now=None]\u001b[A\u001b[A\u001b[A\n",
      "\n",
      "\n",
      "\n",
      "t:   0%|                                       | 1/1202 [16:58<339:40:57, 1018.20s/it, now=None]\u001b[A\u001b[A\u001b[A\u001b[A"
     ]
    },
    {
     "name": "stdout",
     "output_type": "stream",
     "text": [
      "Moviepy - Building video clipped.mp4.\n",
      "MoviePy - Writing audio in clippedTEMP_MPY_wvf_snd.mp3\n"
     ]
    },
    {
     "name": "stderr",
     "output_type": "stream",
     "text": [
      "\n",
      "\n",
      "\n",
      "\n",
      "\n",
      "chunk:   0%|                                                  | 0/884 [00:00<?, ?it/s, now=None]\u001b[A\u001b[A\u001b[A\u001b[A\u001b[A\n",
      "\n",
      "\n",
      "\n",
      "\n",
      "chunk:  16%|█████▉                                | 138/884 [00:00<00:00, 1375.91it/s, now=None]\u001b[A\u001b[A\u001b[A\u001b[A\u001b[A\n",
      "\n",
      "\n",
      "\n",
      "\n",
      "chunk:  31%|███████████▊                          | 276/884 [00:00<00:00, 1201.25it/s, now=None]\u001b[A\u001b[A\u001b[A\u001b[A\u001b[A\n",
      "\n",
      "\n",
      "\n",
      "\n",
      "chunk:  45%|█████████████████                     | 398/884 [00:00<00:00, 1155.45it/s, now=None]\u001b[A\u001b[A\u001b[A\u001b[A\u001b[A\n",
      "\n",
      "\n",
      "\n",
      "\n",
      "chunk:  58%|██████████████████████▏               | 515/884 [00:00<00:00, 1121.79it/s, now=None]\u001b[A\u001b[A\u001b[A\u001b[A\u001b[A\n",
      "\n",
      "\n",
      "\n",
      "\n",
      "chunk:  71%|███████████████████████████▏          | 632/884 [00:00<00:00, 1137.16it/s, now=None]\u001b[A\u001b[A\u001b[A\u001b[A\u001b[A\n",
      "\n",
      "\n",
      "\n",
      "\n",
      "chunk:  85%|████████████████████████████████      | 747/884 [00:00<00:00, 1139.62it/s, now=None]\u001b[A\u001b[A\u001b[A\u001b[A\u001b[A\n",
      "\n",
      "\n",
      "\n",
      "\n",
      "chunk:  98%|█████████████████████████████████████ | 862/884 [00:00<00:00, 1113.19it/s, now=None]\u001b[A\u001b[A\u001b[A\u001b[A\u001b[A\n",
      "\n",
      "\n",
      "\n",
      "\n",
      "                                                                                                \u001b[A\u001b[A\u001b[A\u001b[A\u001b[A\n",
      "\n",
      "\u001b[A\u001b[A                                                                                          \n",
      "\u001b[A                                                                                             \n",
      "\n",
      "\n",
      "\u001b[A\u001b[A\u001b[A                                                                                       \n",
      "\n",
      "\n",
      "\n",
      "t:   0%|                                       | 1/1202 [27:51<557:41:51, 1671.70s/it, now=None]\n",
      "\n",
      "t:   0%|                                       | 1/1202 [18:33<371:18:53, 1113.02s/it, now=None]\u001b[A\u001b[A\n",
      "t:   0%|                                       | 1/1202 [26:55<538:56:37, 1615.48s/it, now=None]\u001b[A\n",
      "\n",
      "\n",
      "t:   0%|                                       | 1/1202 [17:48<356:33:33, 1068.79s/it, now=None]\u001b[A\u001b[A\u001b[A\n",
      "\n",
      "\n",
      "\n",
      "                                                                                                \u001b[A\u001b[A\u001b[A\u001b[A\n",
      "\n",
      "\u001b[A\u001b[A                                                                                          \n",
      "\u001b[A                                                                                             \n",
      "\n",
      "\n",
      "\u001b[A\u001b[A\u001b[A                                                                                       \n",
      "\n",
      "\n",
      "\n",
      "t:   0%|                                       | 1/1202 [27:51<557:42:08, 1671.71s/it, now=None]\n",
      "\n",
      "t:   0%|                                       | 1/1202 [18:33<371:19:09, 1113.03s/it, now=None]\u001b[A\u001b[A\n",
      "t:   0%|                                       | 1/1202 [26:55<538:56:53, 1615.50s/it, now=None]\u001b[A\n",
      "\n",
      "\n",
      "t:   0%|                                       | 1/1202 [17:48<356:33:50, 1068.80s/it, now=None]\u001b[A\u001b[A\u001b[A\n",
      "\n",
      "\n",
      "\n",
      "t:   0%|                                       | 1/1202 [16:59<339:57:32, 1019.03s/it, now=None]\u001b[A\u001b[A\u001b[A\u001b[A"
     ]
    },
    {
     "name": "stdout",
     "output_type": "stream",
     "text": [
      "MoviePy - Done.\n",
      "Moviepy - Writing video clipped.mp4\n",
      "\n"
     ]
    },
    {
     "name": "stderr",
     "output_type": "stream",
     "text": [
      "\n",
      "\n",
      "\n",
      "\n",
      "\n",
      "t:   0%|                                                     | 0/1202 [00:00<?, ?it/s, now=None]\u001b[A\u001b[A\u001b[A\u001b[A\u001b[A\n",
      "\n",
      "\n",
      "\n",
      "\n",
      "t:   1%|▎                                            | 7/1202 [00:00<00:18, 65.51it/s, now=None]\u001b[A\u001b[A\u001b[A\u001b[A\u001b[A\n",
      "\n",
      "\n",
      "\n",
      "\n",
      "t:   1%|▌                                           | 14/1202 [00:00<00:18, 64.19it/s, now=None]\u001b[A\u001b[A\u001b[A\u001b[A\u001b[A\n",
      "\n",
      "\n",
      "\n",
      "\n",
      "t:   2%|▊                                           | 22/1202 [00:00<00:17, 68.54it/s, now=None]\u001b[A\u001b[A\u001b[A\u001b[A\u001b[A\n",
      "\n",
      "\n",
      "\n",
      "\n",
      "t:   2%|█                                           | 30/1202 [00:00<00:16, 70.86it/s, now=None]\u001b[A\u001b[A\u001b[A\u001b[A\u001b[A\n",
      "\n",
      "\n",
      "\n",
      "\n",
      "t:   3%|█▍                                          | 38/1202 [00:00<00:15, 73.50it/s, now=None]\u001b[A\u001b[A\u001b[A\u001b[A\u001b[A\n",
      "\n",
      "\n",
      "\n",
      "\n",
      "t:   4%|█▋                                          | 46/1202 [00:00<00:16, 69.37it/s, now=None]\u001b[A\u001b[A\u001b[A\u001b[A\u001b[A\n",
      "\n",
      "\n",
      "\n",
      "\n",
      "t:   4%|█▉                                          | 53/1202 [00:00<00:17, 67.42it/s, now=None]\u001b[A\u001b[A\u001b[A\u001b[A\u001b[A\n",
      "\n",
      "\n",
      "\n",
      "\n",
      "t:   5%|██▏                                         | 60/1202 [00:00<00:18, 62.45it/s, now=None]\u001b[A\u001b[A\u001b[A\u001b[A\u001b[A\n",
      "\n",
      "\n",
      "\n",
      "\n",
      "t:   6%|██▍                                         | 67/1202 [00:01<00:19, 58.77it/s, now=None]\u001b[A\u001b[A\u001b[A\u001b[A\u001b[A\n",
      "\n",
      "\n",
      "\n",
      "\n",
      "t:   6%|██▋                                         | 73/1202 [00:01<00:19, 58.56it/s, now=None]\u001b[A\u001b[A\u001b[A\u001b[A\u001b[A\n",
      "\n",
      "\n",
      "\n",
      "\n",
      "t:   7%|██▉                                         | 79/1202 [00:01<00:19, 58.77it/s, now=None]\u001b[A\u001b[A\u001b[A\u001b[A\u001b[A\n",
      "\n",
      "\n",
      "\n",
      "\n",
      "t:   7%|███                                         | 85/1202 [00:01<00:19, 58.03it/s, now=None]\u001b[A\u001b[A\u001b[A\u001b[A\u001b[A\n",
      "\n",
      "\n",
      "\n",
      "\n",
      "t:   8%|███▎                                        | 91/1202 [00:01<00:19, 57.29it/s, now=None]\u001b[A\u001b[A\u001b[A\u001b[A\u001b[A\n",
      "\n",
      "\n",
      "\n",
      "\n",
      "t:   8%|███▌                                        | 98/1202 [00:01<00:18, 58.38it/s, now=None]\u001b[A\u001b[A\u001b[A\u001b[A\u001b[A\n",
      "\n",
      "\n",
      "\n",
      "\n",
      "t:   9%|███▋                                       | 104/1202 [00:01<00:18, 58.15it/s, now=None]\u001b[A\u001b[A\u001b[A\u001b[A\u001b[A\n",
      "\n",
      "\n",
      "\n",
      "\n",
      "t:   9%|███▉                                       | 111/1202 [00:01<00:18, 58.57it/s, now=None]\u001b[A\u001b[A\u001b[A\u001b[A\u001b[A\n",
      "\n",
      "\n",
      "\n",
      "\n",
      "t:  10%|████▏                                      | 117/1202 [00:01<00:18, 58.80it/s, now=None]\u001b[A\u001b[A\u001b[A\u001b[A\u001b[A\n",
      "\n",
      "\n",
      "\n",
      "\n",
      "t:  10%|████▍                                      | 123/1202 [00:02<00:18, 57.78it/s, now=None]\u001b[A\u001b[A\u001b[A\u001b[A\u001b[A\n",
      "\n",
      "\n",
      "\n",
      "\n",
      "t:  11%|████▌                                      | 129/1202 [00:02<00:19, 55.72it/s, now=None]\u001b[A\u001b[A\u001b[A\u001b[A\u001b[A\n",
      "\n",
      "\n",
      "\n",
      "\n",
      "t:  11%|████▊                                      | 136/1202 [00:02<00:18, 57.96it/s, now=None]\u001b[A\u001b[A\u001b[A\u001b[A\u001b[A\n",
      "\n",
      "\n",
      "\n",
      "\n",
      "t:  12%|█████                                      | 143/1202 [00:02<00:17, 59.26it/s, now=None]\u001b[A\u001b[A\u001b[A\u001b[A\u001b[A\n",
      "\n",
      "\n",
      "\n",
      "\n",
      "t:  12%|█████▎                                     | 149/1202 [00:02<00:17, 58.65it/s, now=None]\u001b[A\u001b[A\u001b[A\u001b[A\u001b[A\n",
      "\n",
      "\n",
      "\n",
      "\n",
      "t:  13%|█████▌                                     | 156/1202 [00:02<00:17, 60.08it/s, now=None]\u001b[A\u001b[A\u001b[A\u001b[A\u001b[A\n",
      "\n",
      "\n",
      "\n",
      "\n",
      "t:  14%|█████▊                                     | 163/1202 [00:02<00:17, 59.88it/s, now=None]\u001b[A\u001b[A\u001b[A\u001b[A\u001b[A\n",
      "\n",
      "\n",
      "\n",
      "\n",
      "t:  14%|██████                                     | 170/1202 [00:02<00:16, 60.91it/s, now=None]\u001b[A\u001b[A\u001b[A\u001b[A\u001b[A\n",
      "\n",
      "\n",
      "\n",
      "\n",
      "t:  15%|██████▎                                    | 177/1202 [00:02<00:16, 60.43it/s, now=None]\u001b[A\u001b[A\u001b[A\u001b[A\u001b[A\n",
      "\n",
      "\n",
      "\n",
      "\n",
      "t:  15%|██████▌                                    | 184/1202 [00:03<00:17, 59.11it/s, now=None]\u001b[A\u001b[A\u001b[A\u001b[A\u001b[A\n",
      "\n",
      "\n",
      "\n",
      "\n",
      "t:  16%|██████▊                                    | 190/1202 [00:03<00:17, 58.73it/s, now=None]\u001b[A\u001b[A\u001b[A\u001b[A\u001b[A\n",
      "\n",
      "\n",
      "\n",
      "\n",
      "t:  16%|███████                                    | 196/1202 [00:03<00:17, 58.42it/s, now=None]\u001b[A\u001b[A\u001b[A\u001b[A\u001b[A\n",
      "\n",
      "\n",
      "\n",
      "\n",
      "t:  17%|███████▏                                   | 202/1202 [00:03<00:17, 58.75it/s, now=None]\u001b[A\u001b[A\u001b[A\u001b[A\u001b[A\n",
      "\n",
      "\n",
      "\n",
      "\n",
      "t:  17%|███████▍                                   | 208/1202 [00:03<00:17, 57.62it/s, now=None]\u001b[A\u001b[A\u001b[A\u001b[A\u001b[A\n",
      "\n",
      "\n",
      "\n",
      "\n",
      "t:  18%|███████▋                                   | 214/1202 [00:03<00:17, 57.72it/s, now=None]\u001b[A\u001b[A\u001b[A\u001b[A\u001b[A\n",
      "\n",
      "\n",
      "\n",
      "\n",
      "t:  18%|███████▊                                   | 220/1202 [00:03<00:17, 56.61it/s, now=None]\u001b[A\u001b[A\u001b[A\u001b[A\u001b[A\n",
      "\n",
      "\n",
      "\n",
      "\n",
      "t:  19%|████████                                   | 226/1202 [00:03<00:16, 57.49it/s, now=None]\u001b[A\u001b[A\u001b[A\u001b[A\u001b[A\n",
      "\n",
      "\n",
      "\n",
      "\n",
      "t:  19%|████████▎                                  | 232/1202 [00:03<00:16, 57.28it/s, now=None]\u001b[A\u001b[A\u001b[A\u001b[A\u001b[A\n",
      "\n",
      "\n",
      "\n",
      "\n",
      "t:  20%|████████▌                                  | 238/1202 [00:03<00:16, 58.01it/s, now=None]\u001b[A\u001b[A\u001b[A\u001b[A\u001b[A\n",
      "\n",
      "\n",
      "\n",
      "\n",
      "t:  20%|████████▋                                  | 244/1202 [00:04<00:16, 58.19it/s, now=None]\u001b[A\u001b[A\u001b[A\u001b[A\u001b[A\n",
      "\n",
      "\n",
      "\n",
      "\n",
      "t:  21%|████████▉                                  | 250/1202 [00:04<00:16, 57.44it/s, now=None]\u001b[A\u001b[A\u001b[A\u001b[A\u001b[A\n",
      "\n",
      "\n",
      "\n",
      "\n",
      "t:  21%|█████████▏                                 | 257/1202 [00:04<00:16, 58.42it/s, now=None]\u001b[A\u001b[A\u001b[A\u001b[A\u001b[A\n",
      "\n",
      "\n",
      "\n",
      "\n",
      "t:  22%|█████████▍                                 | 263/1202 [00:04<00:15, 58.76it/s, now=None]\u001b[A\u001b[A\u001b[A\u001b[A\u001b[A\n",
      "\n",
      "\n",
      "\n",
      "\n",
      "t:  22%|█████████▌                                 | 269/1202 [00:04<00:15, 58.60it/s, now=None]\u001b[A\u001b[A\u001b[A\u001b[A\u001b[A\n",
      "\n",
      "\n",
      "\n",
      "\n",
      "t:  23%|█████████▊                                 | 275/1202 [00:04<00:16, 57.05it/s, now=None]\u001b[A\u001b[A\u001b[A\u001b[A\u001b[A\n",
      "\n",
      "\n",
      "\n",
      "\n",
      "t:  23%|██████████                                 | 281/1202 [00:04<00:16, 56.02it/s, now=None]\u001b[A\u001b[A\u001b[A\u001b[A\u001b[A\n",
      "\n",
      "\n",
      "\n",
      "\n",
      "t:  24%|██████████▎                                | 287/1202 [00:04<00:16, 55.43it/s, now=None]\u001b[A\u001b[A\u001b[A\u001b[A\u001b[A\n",
      "\n",
      "\n",
      "\n",
      "\n",
      "t:  24%|██████████▌                                | 294/1202 [00:04<00:15, 58.10it/s, now=None]\u001b[A\u001b[A\u001b[A\u001b[A\u001b[A\n",
      "\n",
      "\n",
      "\n",
      "\n",
      "t:  25%|██████████▊                                | 301/1202 [00:05<00:15, 59.21it/s, now=None]\u001b[A\u001b[A\u001b[A\u001b[A\u001b[A\n",
      "\n",
      "\n",
      "\n",
      "\n",
      "t:  26%|██████████▉                                | 307/1202 [00:05<00:16, 55.91it/s, now=None]\u001b[A\u001b[A\u001b[A\u001b[A\u001b[A\n",
      "\n",
      "\n",
      "\n",
      "\n",
      "t:  26%|███████████▏                               | 313/1202 [00:05<00:17, 52.21it/s, now=None]\u001b[A\u001b[A\u001b[A\u001b[A\u001b[A\n",
      "\n",
      "\n",
      "\n",
      "\n",
      "t:  27%|███████████▍                               | 319/1202 [00:05<00:17, 50.77it/s, now=None]\u001b[A\u001b[A\u001b[A\u001b[A\u001b[A\n",
      "\n",
      "\n",
      "\n",
      "\n",
      "t:  27%|███████████▋                               | 325/1202 [00:05<00:17, 50.06it/s, now=None]\u001b[A\u001b[A\u001b[A\u001b[A\u001b[A\n",
      "\n",
      "\n",
      "\n",
      "\n",
      "t:  28%|███████████▊                               | 331/1202 [00:05<00:17, 50.00it/s, now=None]\u001b[A\u001b[A\u001b[A\u001b[A\u001b[A\n",
      "\n",
      "\n",
      "\n",
      "\n",
      "t:  28%|████████████                               | 337/1202 [00:05<00:17, 50.04it/s, now=None]\u001b[A\u001b[A\u001b[A\u001b[A\u001b[A\n",
      "\n",
      "\n",
      "\n",
      "\n",
      "t:  29%|████████████▎                              | 343/1202 [00:05<00:17, 50.26it/s, now=None]\u001b[A\u001b[A\u001b[A\u001b[A\u001b[A\n",
      "\n",
      "\n",
      "\n",
      "\n",
      "t:  29%|████████████▍                              | 349/1202 [00:06<00:16, 51.73it/s, now=None]\u001b[A\u001b[A\u001b[A\u001b[A\u001b[A\n",
      "\n",
      "\n",
      "\n",
      "\n",
      "t:  30%|████████████▋                              | 355/1202 [00:06<00:16, 52.00it/s, now=None]\u001b[A\u001b[A\u001b[A\u001b[A\u001b[A\n",
      "\n",
      "\n",
      "\n",
      "\n",
      "t:  30%|████████████▉                              | 361/1202 [00:06<00:15, 52.73it/s, now=None]\u001b[A\u001b[A\u001b[A\u001b[A\u001b[A\n",
      "\n",
      "\n",
      "\n",
      "\n",
      "t:  31%|█████████████▏                             | 367/1202 [00:06<00:16, 51.83it/s, now=None]\u001b[A\u001b[A\u001b[A\u001b[A\u001b[A\n",
      "\n",
      "\n",
      "\n",
      "\n",
      "t:  31%|█████████████▎                             | 373/1202 [00:06<00:16, 51.43it/s, now=None]\u001b[A\u001b[A\u001b[A\u001b[A\u001b[A\n",
      "\n",
      "\n",
      "\n",
      "\n",
      "t:  32%|█████████████▌                             | 379/1202 [00:06<00:15, 51.93it/s, now=None]\u001b[A\u001b[A\u001b[A\u001b[A\u001b[A\n",
      "\n",
      "\n",
      "\n",
      "\n",
      "t:  32%|█████████████▊                             | 385/1202 [00:06<00:15, 52.24it/s, now=None]\u001b[A\u001b[A\u001b[A\u001b[A\u001b[A\n",
      "\n",
      "\n",
      "\n",
      "\n",
      "t:  33%|█████████████▉                             | 391/1202 [00:06<00:15, 51.81it/s, now=None]\u001b[A\u001b[A\u001b[A\u001b[A\u001b[A\n",
      "\n",
      "\n",
      "\n",
      "\n",
      "t:  33%|██████████████▏                            | 397/1202 [00:06<00:15, 52.12it/s, now=None]\u001b[A\u001b[A\u001b[A\u001b[A\u001b[A\n",
      "\n",
      "\n",
      "\n",
      "\n",
      "t:  34%|██████████████▍                            | 403/1202 [00:07<00:15, 51.82it/s, now=None]\u001b[A\u001b[A\u001b[A\u001b[A\u001b[A\n",
      "\n",
      "\n",
      "\n",
      "\n",
      "t:  34%|██████████████▋                            | 409/1202 [00:07<00:15, 51.46it/s, now=None]\u001b[A\u001b[A\u001b[A\u001b[A\u001b[A\n",
      "\n",
      "\n",
      "\n",
      "\n",
      "t:  35%|██████████████▊                            | 415/1202 [00:07<00:15, 51.98it/s, now=None]\u001b[A\u001b[A\u001b[A\u001b[A\u001b[A\n",
      "\n",
      "\n",
      "\n",
      "\n",
      "t:  35%|███████████████                            | 421/1202 [00:07<00:14, 52.33it/s, now=None]\u001b[A\u001b[A\u001b[A\u001b[A\u001b[A\n",
      "\n",
      "\n",
      "\n",
      "\n",
      "t:  36%|███████████████▎                           | 427/1202 [00:07<00:14, 52.43it/s, now=None]\u001b[A\u001b[A\u001b[A\u001b[A\u001b[A\n",
      "\n",
      "\n",
      "\n",
      "\n",
      "t:  36%|███████████████▍                           | 433/1202 [00:07<00:15, 50.51it/s, now=None]\u001b[A\u001b[A\u001b[A\u001b[A\u001b[A\n",
      "\n",
      "\n",
      "\n",
      "\n",
      "t:  37%|███████████████▋                           | 439/1202 [00:07<00:15, 50.37it/s, now=None]\u001b[A\u001b[A\u001b[A\u001b[A\u001b[A\n",
      "\n",
      "\n",
      "\n",
      "\n",
      "t:  37%|███████████████▉                           | 445/1202 [00:07<00:15, 48.85it/s, now=None]\u001b[A\u001b[A\u001b[A\u001b[A\u001b[A\n",
      "\n",
      "\n",
      "\n",
      "\n",
      "t:  37%|████████████████                           | 450/1202 [00:08<00:15, 48.87it/s, now=None]\u001b[A\u001b[A\u001b[A\u001b[A\u001b[A\n",
      "\n",
      "\n",
      "\n",
      "\n",
      "t:  38%|████████████████▎                          | 455/1202 [00:08<00:15, 47.37it/s, now=None]\u001b[A\u001b[A\u001b[A\u001b[A\u001b[A\n",
      "\n",
      "\n",
      "\n",
      "\n",
      "t:  38%|████████████████▍                          | 461/1202 [00:08<00:14, 49.48it/s, now=None]\u001b[A\u001b[A\u001b[A\u001b[A\u001b[A\n",
      "\n",
      "\n",
      "\n",
      "\n",
      "t:  39%|████████████████▋                          | 467/1202 [00:08<00:14, 50.36it/s, now=None]\u001b[A\u001b[A\u001b[A\u001b[A\u001b[A\n",
      "\n",
      "\n",
      "\n",
      "\n",
      "t:  39%|████████████████▉                          | 473/1202 [00:08<00:14, 49.02it/s, now=None]\u001b[A\u001b[A\u001b[A\u001b[A\u001b[A\n",
      "\n",
      "\n",
      "\n",
      "\n",
      "t:  40%|█████████████████                          | 478/1202 [00:08<00:14, 48.28it/s, now=None]\u001b[A\u001b[A\u001b[A\u001b[A\u001b[A\n",
      "\n",
      "\n",
      "\n",
      "\n",
      "t:  40%|█████████████████▎                         | 483/1202 [00:08<00:15, 47.52it/s, now=None]\u001b[A\u001b[A\u001b[A\u001b[A\u001b[A\n",
      "\n",
      "\n",
      "\n",
      "\n",
      "t:  41%|█████████████████▍                         | 488/1202 [00:08<00:14, 47.79it/s, now=None]\u001b[A\u001b[A\u001b[A\u001b[A\u001b[A\n",
      "\n",
      "\n",
      "\n",
      "\n",
      "t:  41%|█████████████████▋                         | 494/1202 [00:08<00:14, 49.71it/s, now=None]\u001b[A\u001b[A\u001b[A\u001b[A\u001b[A\n",
      "\n",
      "\n",
      "\n",
      "\n",
      "t:  42%|█████████████████▉                         | 500/1202 [00:09<00:13, 52.46it/s, now=None]\u001b[A\u001b[A\u001b[A\u001b[A\u001b[A\n",
      "\n",
      "\n",
      "\n",
      "\n",
      "t:  42%|██████████████████                         | 506/1202 [00:09<00:12, 54.52it/s, now=None]\u001b[A\u001b[A\u001b[A\u001b[A\u001b[A\n",
      "\n",
      "\n",
      "\n",
      "\n",
      "t:  43%|██████████████████▎                        | 512/1202 [00:09<00:12, 53.95it/s, now=None]\u001b[A\u001b[A\u001b[A\u001b[A\u001b[A\n",
      "\n",
      "\n",
      "\n",
      "\n",
      "t:  43%|██████████████████▌                        | 518/1202 [00:09<00:12, 53.98it/s, now=None]\u001b[A\u001b[A\u001b[A\u001b[A\u001b[A\n",
      "\n",
      "\n",
      "\n",
      "\n",
      "t:  44%|██████████████████▋                        | 524/1202 [00:09<00:12, 53.89it/s, now=None]\u001b[A\u001b[A\u001b[A\u001b[A\u001b[A\n",
      "\n",
      "\n",
      "\n",
      "\n",
      "t:  44%|██████████████████▉                        | 530/1202 [00:09<00:12, 54.81it/s, now=None]\u001b[A\u001b[A\u001b[A\u001b[A\u001b[A\n",
      "\n",
      "\n",
      "\n",
      "\n",
      "t:  45%|███████████████████▏                       | 536/1202 [00:09<00:12, 54.34it/s, now=None]\u001b[A\u001b[A\u001b[A\u001b[A\u001b[A\n",
      "\n",
      "\n",
      "\n",
      "\n",
      "t:  45%|███████████████████▍                       | 542/1202 [00:09<00:12, 53.24it/s, now=None]\u001b[A\u001b[A\u001b[A\u001b[A\u001b[A\n",
      "\n",
      "\n",
      "\n",
      "\n",
      "t:  46%|███████████████████▌                       | 548/1202 [00:09<00:12, 53.57it/s, now=None]\u001b[A\u001b[A\u001b[A\u001b[A\u001b[A\n",
      "\n",
      "\n",
      "\n",
      "\n",
      "t:  46%|███████████████████▊                       | 554/1202 [00:09<00:11, 54.50it/s, now=None]\u001b[A\u001b[A\u001b[A\u001b[A\u001b[A\n",
      "\n",
      "\n",
      "\n",
      "\n",
      "t:  47%|████████████████████                       | 560/1202 [00:10<00:11, 55.86it/s, now=None]\u001b[A\u001b[A\u001b[A\u001b[A\u001b[A\n",
      "\n",
      "\n",
      "\n",
      "\n",
      "t:  47%|████████████████████▏                      | 566/1202 [00:10<00:11, 57.02it/s, now=None]\u001b[A\u001b[A\u001b[A\u001b[A\u001b[A\n",
      "\n",
      "\n",
      "\n",
      "\n",
      "t:  48%|████████████████████▍                      | 572/1202 [00:10<00:11, 55.74it/s, now=None]\u001b[A\u001b[A\u001b[A\u001b[A\u001b[A\n",
      "\n",
      "\n",
      "\n",
      "\n",
      "t:  48%|████████████████████▋                      | 578/1202 [00:10<00:10, 56.79it/s, now=None]\u001b[A\u001b[A\u001b[A\u001b[A\u001b[A\n",
      "\n",
      "\n",
      "\n",
      "\n",
      "t:  49%|████████████████████▉                      | 584/1202 [00:10<00:11, 55.82it/s, now=None]\u001b[A\u001b[A\u001b[A\u001b[A\u001b[A\n",
      "\n",
      "\n",
      "\n",
      "\n",
      "t:  49%|█████████████████████                      | 590/1202 [00:10<00:10, 56.11it/s, now=None]\u001b[A\u001b[A\u001b[A\u001b[A\u001b[A\n",
      "\n",
      "\n",
      "\n",
      "\n",
      "t:  50%|█████████████████████▎                     | 596/1202 [00:10<00:10, 55.64it/s, now=None]\u001b[A\u001b[A\u001b[A\u001b[A\u001b[A\n",
      "\n",
      "\n",
      "\n",
      "\n",
      "t:  50%|█████████████████████▌                     | 602/1202 [00:10<00:10, 56.47it/s, now=None]\u001b[A\u001b[A\u001b[A\u001b[A\u001b[A\n",
      "\n",
      "\n",
      "\n",
      "\n",
      "t:  51%|█████████████████████▊                     | 608/1202 [00:10<00:10, 56.02it/s, now=None]\u001b[A\u001b[A\u001b[A\u001b[A\u001b[A\n",
      "\n",
      "\n",
      "\n",
      "\n",
      "t:  51%|██████████████████████                     | 615/1202 [00:11<00:10, 58.59it/s, now=None]\u001b[A\u001b[A\u001b[A\u001b[A\u001b[A\n",
      "\n",
      "\n",
      "\n",
      "\n",
      "t:  52%|██████████████████████▏                    | 621/1202 [00:11<00:10, 57.73it/s, now=None]\u001b[A\u001b[A\u001b[A\u001b[A\u001b[A\n",
      "\n",
      "\n",
      "\n",
      "\n",
      "t:  52%|██████████████████████▍                    | 628/1202 [00:11<00:09, 58.67it/s, now=None]\u001b[A\u001b[A\u001b[A\u001b[A\u001b[A\n",
      "\n",
      "\n",
      "\n",
      "\n",
      "t:  53%|██████████████████████▋                    | 634/1202 [00:11<00:09, 57.83it/s, now=None]\u001b[A\u001b[A\u001b[A\u001b[A\u001b[A\n",
      "\n",
      "\n",
      "\n",
      "\n",
      "t:  53%|██████████████████████▉                    | 640/1202 [00:11<00:10, 55.23it/s, now=None]\u001b[A\u001b[A\u001b[A\u001b[A\u001b[A\n",
      "\n",
      "\n",
      "\n",
      "\n",
      "t:  54%|███████████████████████                    | 646/1202 [00:11<00:10, 53.44it/s, now=None]\u001b[A\u001b[A\u001b[A\u001b[A\u001b[A\n",
      "\n",
      "\n",
      "\n",
      "\n",
      "t:  54%|███████████████████████▎                   | 652/1202 [00:11<00:10, 53.28it/s, now=None]\u001b[A\u001b[A\u001b[A\u001b[A\u001b[A\n",
      "\n",
      "\n",
      "\n",
      "\n",
      "t:  55%|███████████████████████▌                   | 658/1202 [00:11<00:10, 53.15it/s, now=None]\u001b[A\u001b[A\u001b[A\u001b[A\u001b[A\n",
      "\n",
      "\n",
      "\n",
      "\n",
      "t:  55%|███████████████████████▊                   | 664/1202 [00:11<00:10, 52.41it/s, now=None]\u001b[A\u001b[A\u001b[A\u001b[A\u001b[A\n",
      "\n",
      "\n",
      "\n",
      "\n",
      "t:  56%|███████████████████████▉                   | 670/1202 [00:12<00:10, 51.77it/s, now=None]\u001b[A\u001b[A\u001b[A\u001b[A\u001b[A\n",
      "\n",
      "\n",
      "\n",
      "\n",
      "t:  56%|████████████████████████▏                  | 676/1202 [00:12<00:10, 50.43it/s, now=None]\u001b[A\u001b[A\u001b[A\u001b[A\u001b[A\n",
      "\n",
      "\n",
      "\n",
      "\n",
      "t:  57%|████████████████████████▍                  | 682/1202 [00:12<00:10, 50.70it/s, now=None]\u001b[A\u001b[A\u001b[A\u001b[A\u001b[A\n",
      "\n",
      "\n",
      "\n",
      "\n",
      "t:  57%|████████████████████████▌                  | 688/1202 [00:12<00:10, 51.22it/s, now=None]\u001b[A\u001b[A\u001b[A\u001b[A\u001b[A\n",
      "\n",
      "\n",
      "\n",
      "\n",
      "t:  58%|████████████████████████▊                  | 694/1202 [00:12<00:10, 48.93it/s, now=None]\u001b[A\u001b[A\u001b[A\u001b[A\u001b[A\n",
      "\n",
      "\n",
      "\n",
      "\n",
      "t:  58%|█████████████████████████                  | 700/1202 [00:12<00:10, 49.38it/s, now=None]\u001b[A\u001b[A\u001b[A\u001b[A\u001b[A\n",
      "\n",
      "\n",
      "\n",
      "\n",
      "t:  59%|█████████████████████████▏                 | 705/1202 [00:12<00:10, 47.97it/s, now=None]\u001b[A\u001b[A\u001b[A\u001b[A\u001b[A\n",
      "\n",
      "\n",
      "\n",
      "\n",
      "t:  59%|█████████████████████████▍                 | 711/1202 [00:12<00:10, 48.80it/s, now=None]\u001b[A\u001b[A\u001b[A\u001b[A\u001b[A\n",
      "\n",
      "\n",
      "\n",
      "\n",
      "t:  60%|█████████████████████████▌                 | 716/1202 [00:13<00:10, 48.59it/s, now=None]\u001b[A\u001b[A\u001b[A\u001b[A\u001b[A\n",
      "\n",
      "\n",
      "\n",
      "\n",
      "t:  60%|█████████████████████████▊                 | 721/1202 [00:13<00:09, 48.27it/s, now=None]\u001b[A\u001b[A\u001b[A\u001b[A\u001b[A\n",
      "\n",
      "\n",
      "\n",
      "\n",
      "t:  60%|█████████████████████████▉                 | 726/1202 [00:13<00:09, 48.66it/s, now=None]\u001b[A\u001b[A\u001b[A\u001b[A\u001b[A\n",
      "\n",
      "\n",
      "\n",
      "\n",
      "t:  61%|██████████████████████████▏                | 731/1202 [00:13<00:09, 48.93it/s, now=None]\u001b[A\u001b[A\u001b[A\u001b[A\u001b[A\n",
      "\n",
      "\n",
      "\n",
      "\n",
      "t:  61%|██████████████████████████▎                | 736/1202 [00:13<00:09, 48.54it/s, now=None]\u001b[A\u001b[A\u001b[A\u001b[A\u001b[A\n",
      "\n",
      "\n",
      "\n",
      "\n",
      "t:  62%|██████████████████████████▌                | 742/1202 [00:13<00:09, 49.55it/s, now=None]\u001b[A\u001b[A\u001b[A\u001b[A\u001b[A\n",
      "\n",
      "\n",
      "\n",
      "\n",
      "t:  62%|██████████████████████████▊                | 748/1202 [00:13<00:09, 50.18it/s, now=None]\u001b[A\u001b[A\u001b[A\u001b[A\u001b[A\n",
      "\n",
      "\n",
      "\n",
      "\n",
      "t:  63%|██████████████████████████▉                | 754/1202 [00:13<00:09, 48.16it/s, now=None]\u001b[A\u001b[A\u001b[A\u001b[A\u001b[A\n",
      "\n",
      "\n",
      "\n",
      "\n",
      "t:  63%|███████████████████████████▏               | 760/1202 [00:13<00:08, 50.73it/s, now=None]\u001b[A\u001b[A\u001b[A\u001b[A\u001b[A\n",
      "\n",
      "\n",
      "\n",
      "\n",
      "t:  64%|███████████████████████████▍               | 766/1202 [00:14<00:08, 50.43it/s, now=None]\u001b[A\u001b[A\u001b[A\u001b[A\u001b[A\n",
      "\n",
      "\n",
      "\n",
      "\n",
      "t:  64%|███████████████████████████▌               | 772/1202 [00:14<00:08, 50.39it/s, now=None]\u001b[A\u001b[A\u001b[A\u001b[A\u001b[A\n",
      "\n",
      "\n",
      "\n",
      "\n",
      "t:  65%|███████████████████████████▊               | 778/1202 [00:14<00:08, 50.27it/s, now=None]\u001b[A\u001b[A\u001b[A\u001b[A\u001b[A\n",
      "\n",
      "\n",
      "\n",
      "\n",
      "t:  65%|████████████████████████████               | 784/1202 [00:14<00:08, 49.33it/s, now=None]\u001b[A\u001b[A\u001b[A\u001b[A\u001b[A\n",
      "\n",
      "\n",
      "\n",
      "\n",
      "t:  66%|████████████████████████████▎              | 790/1202 [00:14<00:08, 50.20it/s, now=None]\u001b[A\u001b[A\u001b[A\u001b[A\u001b[A\n",
      "\n",
      "\n",
      "\n",
      "\n",
      "t:  66%|████████████████████████████▍              | 796/1202 [00:14<00:08, 49.91it/s, now=None]\u001b[A\u001b[A\u001b[A\u001b[A\u001b[A\n",
      "\n",
      "\n",
      "\n",
      "\n",
      "t:  67%|████████████████████████████▋              | 802/1202 [00:14<00:07, 51.42it/s, now=None]\u001b[A\u001b[A\u001b[A\u001b[A\u001b[A\n",
      "\n",
      "\n",
      "\n",
      "\n",
      "t:  67%|████████████████████████████▉              | 808/1202 [00:14<00:07, 52.55it/s, now=None]\u001b[A\u001b[A\u001b[A\u001b[A\u001b[A\n",
      "\n",
      "\n",
      "\n",
      "\n",
      "t:  68%|█████████████████████████████              | 814/1202 [00:14<00:07, 53.26it/s, now=None]\u001b[A\u001b[A\u001b[A\u001b[A\u001b[A\n",
      "\n",
      "\n",
      "\n",
      "\n",
      "t:  68%|█████████████████████████████▎             | 820/1202 [00:15<00:07, 52.88it/s, now=None]\u001b[A\u001b[A\u001b[A\u001b[A\u001b[A\n",
      "\n",
      "\n",
      "\n",
      "\n",
      "t:  69%|█████████████████████████████▌             | 826/1202 [00:15<00:06, 53.71it/s, now=None]\u001b[A\u001b[A\u001b[A\u001b[A\u001b[A\n",
      "\n",
      "\n",
      "\n",
      "\n",
      "t:  69%|█████████████████████████████▊             | 832/1202 [00:15<00:06, 54.72it/s, now=None]\u001b[A\u001b[A\u001b[A\u001b[A\u001b[A\n",
      "\n",
      "\n",
      "\n",
      "\n",
      "t:  70%|█████████████████████████████▉             | 838/1202 [00:15<00:06, 55.09it/s, now=None]\u001b[A\u001b[A\u001b[A\u001b[A\u001b[A\n",
      "\n",
      "\n",
      "\n",
      "\n",
      "t:  70%|██████████████████████████████▏            | 844/1202 [00:15<00:06, 54.43it/s, now=None]\u001b[A\u001b[A\u001b[A\u001b[A\u001b[A\n",
      "\n",
      "\n",
      "\n",
      "\n",
      "t:  71%|██████████████████████████████▍            | 850/1202 [00:15<00:06, 54.81it/s, now=None]\u001b[A\u001b[A\u001b[A\u001b[A\u001b[A\n",
      "\n",
      "\n",
      "\n",
      "\n",
      "t:  71%|██████████████████████████████▌            | 856/1202 [00:15<00:06, 54.28it/s, now=None]\u001b[A\u001b[A\u001b[A\u001b[A\u001b[A\n",
      "\n",
      "\n",
      "\n",
      "\n",
      "t:  72%|██████████████████████████████▊            | 862/1202 [00:15<00:06, 53.72it/s, now=None]\u001b[A\u001b[A\u001b[A\u001b[A\u001b[A\n",
      "\n",
      "\n",
      "\n",
      "\n",
      "t:  72%|███████████████████████████████            | 868/1202 [00:15<00:06, 53.92it/s, now=None]\u001b[A\u001b[A\u001b[A\u001b[A\u001b[A\n",
      "\n",
      "\n",
      "\n",
      "\n",
      "t:  73%|███████████████████████████████▎           | 874/1202 [00:16<00:06, 54.16it/s, now=None]\u001b[A\u001b[A\u001b[A\u001b[A\u001b[A\n",
      "\n",
      "\n",
      "\n",
      "\n",
      "t:  73%|███████████████████████████████▍           | 880/1202 [00:16<00:05, 53.94it/s, now=None]\u001b[A\u001b[A\u001b[A\u001b[A\u001b[A\n",
      "\n",
      "\n",
      "\n",
      "\n",
      "t:  74%|███████████████████████████████▋           | 886/1202 [00:16<00:05, 53.06it/s, now=None]\u001b[A\u001b[A\u001b[A\u001b[A\u001b[A\n",
      "\n",
      "\n",
      "\n",
      "\n",
      "t:  74%|███████████████████████████████▉           | 892/1202 [00:16<00:05, 52.36it/s, now=None]\u001b[A\u001b[A\u001b[A\u001b[A\u001b[A\n",
      "\n",
      "\n",
      "\n",
      "\n",
      "t:  75%|████████████████████████████████           | 898/1202 [00:16<00:05, 51.91it/s, now=None]\u001b[A\u001b[A\u001b[A\u001b[A\u001b[A\n",
      "\n",
      "\n",
      "\n",
      "\n",
      "t:  75%|████████████████████████████████▎          | 904/1202 [00:16<00:05, 53.77it/s, now=None]\u001b[A\u001b[A\u001b[A\u001b[A\u001b[A\n",
      "\n",
      "\n",
      "\n",
      "\n",
      "t:  76%|████████████████████████████████▌          | 910/1202 [00:16<00:05, 55.48it/s, now=None]\u001b[A\u001b[A\u001b[A\u001b[A\u001b[A\n",
      "\n",
      "\n",
      "\n",
      "\n",
      "t:  76%|████████████████████████████████▊          | 916/1202 [00:16<00:05, 56.12it/s, now=None]\u001b[A\u001b[A\u001b[A\u001b[A\u001b[A\n",
      "\n",
      "\n",
      "\n",
      "\n",
      "t:  77%|████████████████████████████████▉          | 922/1202 [00:16<00:04, 56.47it/s, now=None]\u001b[A\u001b[A\u001b[A\u001b[A\u001b[A\n",
      "\n",
      "\n",
      "\n",
      "\n",
      "t:  77%|█████████████████████████████████▏         | 928/1202 [00:17<00:04, 56.57it/s, now=None]\u001b[A\u001b[A\u001b[A\u001b[A\u001b[A\n",
      "\n",
      "\n",
      "\n",
      "\n",
      "t:  78%|█████████████████████████████████▍         | 935/1202 [00:17<00:04, 58.48it/s, now=None]\u001b[A\u001b[A\u001b[A\u001b[A\u001b[A\n",
      "\n",
      "\n",
      "\n",
      "\n",
      "t:  78%|█████████████████████████████████▋         | 942/1202 [00:17<00:04, 60.16it/s, now=None]\u001b[A\u001b[A\u001b[A\u001b[A\u001b[A\n",
      "\n",
      "\n",
      "\n",
      "\n",
      "t:  79%|█████████████████████████████████▉         | 949/1202 [00:17<00:04, 59.00it/s, now=None]\u001b[A\u001b[A\u001b[A\u001b[A\u001b[A\n",
      "\n",
      "\n",
      "\n",
      "\n",
      "t:  79%|██████████████████████████████████▏        | 955/1202 [00:17<00:04, 58.28it/s, now=None]\u001b[A\u001b[A\u001b[A\u001b[A\u001b[A\n",
      "\n",
      "\n",
      "\n",
      "\n",
      "t:  80%|██████████████████████████████████▍        | 961/1202 [00:17<00:04, 57.55it/s, now=None]\u001b[A\u001b[A\u001b[A\u001b[A\u001b[A\n",
      "\n",
      "\n",
      "\n",
      "\n",
      "t:  80%|██████████████████████████████████▌        | 967/1202 [00:17<00:04, 55.72it/s, now=None]\u001b[A\u001b[A\u001b[A\u001b[A\u001b[A\n",
      "\n",
      "\n",
      "\n",
      "\n",
      "t:  81%|██████████████████████████████████▊        | 973/1202 [00:17<00:04, 56.35it/s, now=None]\u001b[A\u001b[A\u001b[A\u001b[A\u001b[A\n",
      "\n",
      "\n",
      "\n",
      "\n",
      "t:  81%|███████████████████████████████████        | 979/1202 [00:17<00:03, 56.33it/s, now=None]\u001b[A\u001b[A\u001b[A\u001b[A\u001b[A\n",
      "\n",
      "\n",
      "\n",
      "\n",
      "t:  82%|███████████████████████████████████▏       | 985/1202 [00:18<00:03, 55.77it/s, now=None]\u001b[A\u001b[A\u001b[A\u001b[A\u001b[A\n",
      "\n",
      "\n",
      "\n",
      "\n",
      "t:  82%|███████████████████████████████████▍       | 991/1202 [00:18<00:03, 54.29it/s, now=None]\u001b[A\u001b[A\u001b[A\u001b[A\u001b[A\n",
      "\n",
      "\n",
      "\n",
      "\n",
      "t:  83%|███████████████████████████████████▋       | 997/1202 [00:18<00:03, 53.32it/s, now=None]\u001b[A\u001b[A\u001b[A\u001b[A\u001b[A\n",
      "\n",
      "\n",
      "\n",
      "\n",
      "t:  83%|███████████████████████████████████       | 1003/1202 [00:18<00:03, 54.14it/s, now=None]\u001b[A\u001b[A\u001b[A\u001b[A\u001b[A\n",
      "\n",
      "\n",
      "\n",
      "\n",
      "t:  84%|███████████████████████████████████▎      | 1009/1202 [00:18<00:03, 53.66it/s, now=None]\u001b[A\u001b[A\u001b[A\u001b[A\u001b[A\n",
      "\n",
      "\n",
      "\n",
      "\n",
      "t:  85%|███████████████████████████████████▌      | 1016/1202 [00:18<00:03, 56.31it/s, now=None]\u001b[A\u001b[A\u001b[A\u001b[A\u001b[A\n",
      "\n",
      "\n",
      "\n",
      "\n",
      "t:  85%|███████████████████████████████████▋      | 1022/1202 [00:18<00:03, 57.31it/s, now=None]\u001b[A\u001b[A\u001b[A\u001b[A\u001b[A\n",
      "\n",
      "\n",
      "\n",
      "\n",
      "t:  86%|███████████████████████████████████▉      | 1028/1202 [00:18<00:03, 56.60it/s, now=None]\u001b[A\u001b[A\u001b[A\u001b[A\u001b[A\n",
      "\n",
      "\n",
      "\n",
      "\n",
      "t:  86%|████████████████████████████████████▏     | 1034/1202 [00:18<00:03, 55.41it/s, now=None]\u001b[A\u001b[A\u001b[A\u001b[A\u001b[A\n",
      "\n",
      "\n",
      "\n",
      "\n",
      "t:  87%|████████████████████████████████████▎     | 1040/1202 [00:19<00:02, 54.40it/s, now=None]\u001b[A\u001b[A\u001b[A\u001b[A\u001b[A\n",
      "\n",
      "\n",
      "\n",
      "\n",
      "t:  87%|████████████████████████████████████▌     | 1046/1202 [00:19<00:02, 54.75it/s, now=None]\u001b[A\u001b[A\u001b[A\u001b[A\u001b[A\n",
      "\n",
      "\n",
      "\n",
      "\n",
      "t:  88%|████████████████████████████████████▊     | 1052/1202 [00:19<00:02, 54.73it/s, now=None]\u001b[A\u001b[A\u001b[A\u001b[A\u001b[A\n",
      "\n",
      "\n",
      "\n",
      "\n",
      "t:  88%|████████████████████████████████████▉     | 1058/1202 [00:19<00:02, 55.19it/s, now=None]\u001b[A\u001b[A\u001b[A\u001b[A\u001b[A\n",
      "\n",
      "\n",
      "\n",
      "\n",
      "t:  89%|█████████████████████████████████████▏    | 1064/1202 [00:19<00:02, 54.17it/s, now=None]\u001b[A\u001b[A\u001b[A\u001b[A\u001b[A\n",
      "\n",
      "\n",
      "\n",
      "\n",
      "t:  89%|█████████████████████████████████████▍    | 1070/1202 [00:19<00:02, 54.66it/s, now=None]\u001b[A\u001b[A\u001b[A\u001b[A\u001b[A\n",
      "\n",
      "\n",
      "\n",
      "\n",
      "t:  90%|█████████████████████████████████████▌    | 1076/1202 [00:19<00:02, 54.55it/s, now=None]\u001b[A\u001b[A\u001b[A\u001b[A\u001b[A\n",
      "\n",
      "\n",
      "\n",
      "\n",
      "t:  90%|█████████████████████████████████████▊    | 1082/1202 [00:19<00:02, 54.31it/s, now=None]\u001b[A\u001b[A\u001b[A\u001b[A\u001b[A\n",
      "\n",
      "\n",
      "\n",
      "\n",
      "t:  91%|██████████████████████████████████████    | 1088/1202 [00:19<00:02, 54.12it/s, now=None]\u001b[A\u001b[A\u001b[A\u001b[A\u001b[A\n",
      "\n",
      "\n",
      "\n",
      "\n",
      "t:  91%|██████████████████████████████████████▏   | 1094/1202 [00:20<00:02, 53.84it/s, now=None]\u001b[A\u001b[A\u001b[A\u001b[A\u001b[A\n",
      "\n",
      "\n",
      "\n",
      "\n",
      "t:  92%|██████████████████████████████████████▍   | 1100/1202 [00:20<00:01, 53.52it/s, now=None]\u001b[A\u001b[A\u001b[A\u001b[A\u001b[A\n",
      "\n",
      "\n",
      "\n",
      "\n",
      "t:  92%|██████████████████████████████████████▋   | 1106/1202 [00:20<00:01, 53.27it/s, now=None]\u001b[A\u001b[A\u001b[A\u001b[A\u001b[A\n",
      "\n",
      "\n",
      "\n",
      "\n",
      "t:  93%|██████████████████████████████████████▊   | 1112/1202 [00:20<00:01, 54.40it/s, now=None]\u001b[A\u001b[A\u001b[A\u001b[A\u001b[A\n",
      "\n",
      "\n",
      "\n",
      "\n",
      "t:  93%|███████████████████████████████████████   | 1118/1202 [00:20<00:01, 53.89it/s, now=None]\u001b[A\u001b[A\u001b[A\u001b[A\u001b[A\n",
      "\n",
      "\n",
      "\n",
      "\n",
      "t:  94%|███████████████████████████████████████▎  | 1124/1202 [00:20<00:01, 53.99it/s, now=None]\u001b[A\u001b[A\u001b[A\u001b[A\u001b[A\n",
      "\n",
      "\n",
      "\n",
      "\n",
      "t:  94%|███████████████████████████████████████▍  | 1130/1202 [00:20<00:01, 53.77it/s, now=None]\u001b[A\u001b[A\u001b[A\u001b[A\u001b[A\n",
      "\n",
      "\n",
      "\n",
      "\n",
      "t:  95%|███████████████████████████████████████▋  | 1136/1202 [00:20<00:01, 52.76it/s, now=None]\u001b[A\u001b[A\u001b[A\u001b[A\u001b[A\n",
      "\n",
      "\n",
      "\n",
      "\n",
      "t:  95%|███████████████████████████████████████▉  | 1142/1202 [00:20<00:01, 53.16it/s, now=None]\u001b[A\u001b[A\u001b[A\u001b[A\u001b[A\n",
      "\n",
      "\n",
      "\n",
      "\n",
      "t:  96%|████████████████████████████████████████  | 1148/1202 [00:21<00:00, 54.16it/s, now=None]\u001b[A\u001b[A\u001b[A\u001b[A\u001b[A\n",
      "\n",
      "\n",
      "\n",
      "\n",
      "t:  96%|████████████████████████████████████████▎ | 1154/1202 [00:21<00:00, 55.71it/s, now=None]\u001b[A\u001b[A\u001b[A\u001b[A\u001b[A\n",
      "\n",
      "\n",
      "\n",
      "\n",
      "t:  97%|████████████████████████████████████████▌ | 1160/1202 [00:21<00:00, 55.39it/s, now=None]\u001b[A\u001b[A\u001b[A\u001b[A\u001b[A\n",
      "\n",
      "\n",
      "\n",
      "\n",
      "t:  97%|████████████████████████████████████████▋ | 1166/1202 [00:21<00:00, 55.19it/s, now=None]\u001b[A\u001b[A\u001b[A\u001b[A\u001b[A\n",
      "\n",
      "\n",
      "\n",
      "\n",
      "t:  98%|████████████████████████████████████████▉ | 1172/1202 [00:21<00:00, 55.71it/s, now=None]\u001b[A\u001b[A\u001b[A\u001b[A\u001b[A\n",
      "\n",
      "\n",
      "\n",
      "\n",
      "t:  98%|█████████████████████████████████████████▏| 1178/1202 [00:21<00:00, 55.61it/s, now=None]\u001b[A\u001b[A\u001b[A\u001b[A\u001b[A\n",
      "\n",
      "\n",
      "\n",
      "\n",
      "t:  99%|█████████████████████████████████████████▎| 1184/1202 [00:21<00:00, 56.43it/s, now=None]\u001b[A\u001b[A\u001b[A\u001b[A\u001b[A\n",
      "\n",
      "\n",
      "\n",
      "\n",
      "t:  99%|█████████████████████████████████████████▌| 1190/1202 [00:21<00:00, 54.49it/s, now=None]\u001b[A\u001b[A\u001b[A\u001b[A\u001b[A\n",
      "\n",
      "\n",
      "\n",
      "\n",
      "t: 100%|█████████████████████████████████████████▊| 1196/1202 [00:21<00:00, 53.04it/s, now=None]\u001b[A\u001b[A\u001b[A\u001b[A\u001b[A\n",
      "\n",
      "\n",
      "\n",
      "\n",
      "t: 100%|██████████████████████████████████████████| 1202/1202 [00:22<00:00, 52.86it/s, now=None]\u001b[A\u001b[A\u001b[A\u001b[A\u001b[A\n",
      "\n",
      "\n",
      "\n",
      "\n",
      "                                                                                                \u001b[A\u001b[A\u001b[A\u001b[A\u001b[A\n",
      "\n",
      "\u001b[A\u001b[A                                                                                          \n",
      "\u001b[A                                                                                             \n",
      "\n",
      "\n",
      "\u001b[A\u001b[A\u001b[A                                                                                       \n",
      "\n",
      "\n",
      "\n",
      "t:   0%|                                       | 1/1202 [28:14<565:13:34, 1694.27s/it, now=None]\n",
      "\n",
      "t:   0%|                                       | 1/1202 [18:55<378:50:36, 1135.58s/it, now=None]\u001b[A\u001b[A\n",
      "t:   0%|                                       | 1/1202 [27:18<546:28:22, 1638.05s/it, now=None]\u001b[A\n",
      "\n",
      "\n",
      "t:   0%|                                       | 1/1202 [18:11<364:05:18, 1091.36s/it, now=None]\u001b[A\u001b[A\u001b[A\n",
      "\n",
      "\n",
      "\n",
      "                                                                                                \u001b[A\u001b[A\u001b[A\u001b[A\n",
      "\n",
      "\u001b[A\u001b[A                                                                                          \n",
      "\u001b[A                                                                                             \n",
      "\n",
      "\n",
      "\u001b[A\u001b[A\u001b[A                                                                                       \n",
      "\n",
      "\n",
      "\n",
      "t:   0%|                                       | 1/1202 [28:14<565:13:53, 1694.28s/it, now=None]\n",
      "\n",
      "t:   0%|                                       | 1/1202 [18:55<378:50:55, 1135.60s/it, now=None]\u001b[A\u001b[A\n",
      "t:   0%|                                       | 1/1202 [27:18<546:28:39, 1638.07s/it, now=None]\u001b[A\n",
      "\n",
      "\n",
      "t:   0%|                                       | 1/1202 [18:11<364:05:36, 1091.37s/it, now=None]\u001b[A\u001b[A\u001b[A\n",
      "\n",
      "\n",
      "\n",
      "t:   0%|                                       | 1/1202 [17:21<347:29:23, 1041.60s/it, now=None]\u001b[A\u001b[A\u001b[A\u001b[A"
     ]
    },
    {
     "name": "stdout",
     "output_type": "stream",
     "text": [
      "Moviepy - Done !\n",
      "Moviepy - video ready clipped.mp4\n"
     ]
    }
   ],
   "source": [
    "final_clip.write_videofile(\"clipped.mp4\")"
   ]
  },
  {
   "cell_type": "markdown",
   "id": "12487692-ba72-4c12-99c2-dba6d449bb34",
   "metadata": {
    "tags": []
   },
   "source": [
    "# coffin dance"
   ]
  },
  {
   "cell_type": "code",
   "execution_count": 290,
   "id": "b920cefd-924f-49cf-b59d-df49d37b5fef",
   "metadata": {},
   "outputs": [],
   "source": [
    "file_path = os.path.join(os.getcwd(), \"coffin_dance_original.mp4\")  \n",
    "video_clip = VideoFileClip(file_path).subclip(5,55)\n",
    "fps = video_clip.fps\n",
    "duration = video_clip.duration\n",
    "w, h = video_clip.size\n",
    "size = video_clip.size\n",
    "audio_clip = video_clip.audio\n",
    "audio_clip = audio_clip.audio_fadein(1.5).audio_fadeout(1.5)"
   ]
  },
  {
   "cell_type": "code",
   "execution_count": 291,
   "id": "46195bab-a026-4af6-8958-455f85b17995",
   "metadata": {},
   "outputs": [],
   "source": [
    "credits_text = TextClip('Music Credits: @Tom Mucenieks', fontsize=12, color='white',stroke_width=0.6, stroke_color='white', size = [w, 12], align='West')\n",
    "credits_text = credits_text.set_duration(duration).set_fps(fps)\n",
    "credits_text = credits_text.set_pos((\"top\"))\n",
    "\n",
    "centre_text =  TextClip('You have come this far,\\n\\n you might as well like and subscribe :)', fontsize=16, color='white', stroke_width=0.6, stroke_color='white', size = [w, 80])\n",
    "centre_text = centre_text.set_duration(duration).set_fps(fps)\n",
    "centre_text = centre_text.set_pos((\"center\"))\n",
    "\n",
    "watermark_text = TextClip('@VidsFromAroundTheInternet', fontsize=20,stroke_width=0.6, stroke_color='white', color='white', size = [w, 20], align='East')\n",
    "watermark_text = watermark_text.set_duration(duration).set_fps(fps)\n",
    "watermark_text = watermark_text.set_pos((\"bottom\"))"
   ]
  },
  {
   "cell_type": "code",
   "execution_count": 292,
   "id": "91aac052-55d2-461c-8fe3-d330873c97f0",
   "metadata": {},
   "outputs": [],
   "source": [
    "background_clip = ColorClip(size =(w, h), color =[0, 0, 0])\n",
    "background_clip = background_clip.set_duration(duration).set_fps(fps)\n"
   ]
  },
  {
   "cell_type": "code",
   "execution_count": 293,
   "id": "94f305f7-f0e8-45be-a997-52290b74ba2f",
   "metadata": {},
   "outputs": [],
   "source": [
    "final_clip = CompositeVideoClip([background_clip,  watermark_text, credits_text, centre_text], size = background_clip.size)\n",
    "final_clip.audio = audio_clip"
   ]
  },
  {
   "cell_type": "code",
   "execution_count": 294,
   "id": "4e2935c4-4698-4c52-b2e2-d6bd3400dedc",
   "metadata": {
    "tags": []
   },
   "outputs": [
    {
     "name": "stderr",
     "output_type": "stream",
     "text": [
      "\n",
      "\u001b[A                                                                                                                                                        \n",
      "chunk: 100%|█████████████████████████████████████████████████████████████████████████████████████████████████████| 29/29 [18:19<00:00, 37.90s/it, now=None]\u001b[A\n",
      "\u001b[A                                                                                                                                                        \n",
      "chunk: 100%|█████████████████████████████████████████████████████████████████████████████████████████████████████| 29/29 [18:19<00:00, 37.90s/it, now=None]\u001b[A"
     ]
    },
    {
     "name": "stdout",
     "output_type": "stream",
     "text": [
      "Moviepy - Building video coffin_dance.mp4.\n",
      "MoviePy - Writing audio in coffin_danceTEMP_MPY_wvf_snd.mp3\n"
     ]
    },
    {
     "name": "stderr",
     "output_type": "stream",
     "text": [
      "                                                                                                                                                           \n",
      "\u001b[A                                                                                                                                                        \n",
      "chunk: 100%|█████████████████████████████████████████████████████████████████████████████████████████████████████| 29/29 [18:19<00:00, 37.93s/it, now=None]\u001b[A\n",
      "\u001b[A                                                                                                                                                        \n",
      "chunk: 100%|█████████████████████████████████████████████████████████████████████████████████████████████████████| 29/29 [18:19<00:00, 37.93s/it, now=None]\u001b[A"
     ]
    },
    {
     "name": "stdout",
     "output_type": "stream",
     "text": [
      "MoviePy - Done.\n",
      "Moviepy - Writing video coffin_dance.mp4\n",
      "\n"
     ]
    },
    {
     "name": "stderr",
     "output_type": "stream",
     "text": [
      "                                                                                                                                                           \n",
      "\u001b[A                                                                                                                                                        \n",
      "chunk: 100%|█████████████████████████████████████████████████████████████████████████████████████████████████████| 29/29 [18:26<00:00, 38.15s/it, now=None]\u001b[A\n",
      "\u001b[A                                                                                                                                                        \n",
      "chunk: 100%|█████████████████████████████████████████████████████████████████████████████████████████████████████| 29/29 [18:26<00:00, 38.15s/it, now=None]\u001b[A"
     ]
    },
    {
     "name": "stdout",
     "output_type": "stream",
     "text": [
      "Moviepy - Done !\n",
      "Moviepy - video ready coffin_dance.mp4\n"
     ]
    }
   ],
   "source": [
    "final_clip.write_videofile(\"coffin_dance.mp4\")"
   ]
  },
  {
   "cell_type": "code",
   "execution_count": null,
   "id": "c2abd8dc-45d9-4098-bc87-4bc526a1fdd1",
   "metadata": {},
   "outputs": [],
   "source": []
  },
  {
   "cell_type": "code",
   "execution_count": 137,
   "id": "cc19fe23-c5ea-44b3-b81b-e865a054a5fa",
   "metadata": {},
   "outputs": [
    {
     "data": {
      "text/html": [
       "<div align=middle><img  src='data:image/png;base64,iVBORw0KGgoAAAANSUhEUgAAAoAAAAFoCAYAAADHMkpRAAAMM0lEQVR42u3cf9BnVV0H8M9F3UAqgaBAkGA2zAZ2RhwErdQEf4RK9At/NSUzjSgD5IhKQaM15CRijINNjSQ2NYMMA4YtTW5Rkj8YkKkZlF1aSAxtdWAEBRdUCPDdH8+5erp+vw/P99l9FqjXa+aZ7/eee+455957Zu9nzz3nWwUAAAAAAAAAAAAAAAAAAAAAAAAAAAAAAAAAAAAAAAAAAAAAAAAAAAAAAAAAAAAAAAAAAAAAAAAAAAAAAAAAAAAAAAAAAAAAAAAAAAAAAAAAAAAAAAAAAAAAAAAAAAAAAAAAAAAAAAAAAAAAAAAAAAAAAAAAAAAAAAAAAAAAAAAAAAAAAAAAAAAAAAAAAAAAAAAAAAAAAAAAAAAAAAAAAAAAAAAAAAAAAAAAAAAAAAAAAAAAAAAAAAAAAAAAAAAAAAAAAAAAAAAAAAAAAAAAAAAAAAAAAAAAAAAAAAAAAAAAAAAAAAAAAAAAAAAAAAAAAAAAAAAAAAAAAAAAAAAAAAAAAAAAAAAAAAAAAAAAAAAAAAAAAAAAAAAAAAAAAAAAAAAAAAAAAAAAAAAAAAAAAAAAAAAAAAAAAAAAAAAAAAAAAAAAAAAAAAAAAAAAAAAAAAAAAAAAAAAAAAAAAAAAAAAAAAAAAAAAAAAAAAAAAAAAAAAAAAAAAAAAAAAAAAAAAAAAAAAAAAAAAAAAAAAAAAAAAAAAAAAAAAAAAAAAAAAAAAAAAAAAAAAAAAAAAMD/PUk+keRbSa5M8kMz9m9PclWSp845ft/H+fk9NcmHk9yY5M4kFyZx4x/be7Jsn1phGTckuS/J5a4oAE+kh+D6JBuT3JLk9iTXJnlNkjOTPGkXtqO37zL7nzHn+K8keeBxfJ2vyg/6XB8EJrk7ybb2tz3JHe3711reVz5GbT8/ybeT3JrkyC79ya1t30zyt0n2e4L1/WX71KL91r8mADxRHoCHJvmPzPfaXdiWQ1ogsdoA8MHH60M4yYFj+5JckOQXknyjbR89Jwie5QOPUfvv6NpwU5f+xkn7Tvl/GAAeluQhASAATwS7tc+/qqrD2vezqurnq+o9Xb4nt4fcM5N8Ocn9Sa5I8qYk17dXmedNRrFeleSTSW5O8qX2SnfdjAfnCW208ZYkW6vqpXMesBuTbKuq+6vq76vq3sn+9Um+3LV1HEHbnOQPZpT3otb229qo4ceS/GGSH5uR95ktKL09yeE7cL1fVlXrqmpru+a/W1X3tX3HzMj/3Kr6z+77cZN2bUjy8SSfb237WJK9u/1XtJG5ze0efCbJG5LclOSrSV64YPuf1X3fkOSQ9v1tXfpHq+qaJP/V+so7W1vO6u7JuyfncXCSS5P8a+tLW5Kck+S1i/ap1pe2tWtxXWvDDUl+YtE+tUi9wzB8ocs/tHq3t3tz9mr7HgCs5QjII9NRqJb+tpb+mrZ98mSk52uT7UtbvpPag22Wn+rKP3FOvgenI4DLldP2/8ZyQ2aPMprV+8SMvOfsjFd8Sd7Xiji3Bby9M7p8Nyb5VPv+xbb/p5Ps3+7Vq5M8qwUQszxvzjVLkgcm289eoP1Pmhx7ZRvF7F2R5PXd9pfasf/W95uuzL1aYDXPsxfsU6Ovz8h38JyRv5l9apF6W96HWvqvLdf/Ful7ALCWAWCSfHca27S5Xa9MslvbriTPSfLf3UPr2iRHt++Xt3y3dQHiSUleluQfWtp3koyjdLe2tG+10Z7Xtf2ZEQAemOSoNrIy72F9ZBc8HtX9/eQk3490dbyljchcMJ7PjHJ/eycFgBe1It7Rv86dBoCTY74XAE7SP9mVcWqS45J8tEvbI8kB3fY72uha2v05rX2/eAcCwPH+J8nVXQBY7br3AeCeXVofAJ4/uRdHJ3l7l3bUgn1qfXfsOa28C9v2xyfns5I+taJ6JwFgH9wfk+Sg1fY9AFjrAPCrC+Qfg6w/mhUPdQ+4bZO/cVTmRZN8/WvLfR5lEcjch/WkbT+8TPvXTUYb72pzILfNmr+WZLckF7eRquN3QgD45vZ5XZI/X2UA+O2WvmFOYHj8JGCrbqTt8CTHjgHbKgPA89rn+J+BE/vykuzXB4At7UdnBIBjsHTSpK7z+/NeoE/NquMH0lbap1Za7yQAHB2yo30PANbCbt33pycZZjywdl/m+PcOw7Bc+QdN/vZp6Yd2ee4chuGebvueqnp4jc97z6p6catrXVXtW0tzIA+qqgOnmYdh+G5VnT4Mw+HDMGzagXrH+X5j1Pz8qvrlVZa1R/vcMkkf5wwev8bXcJwj+pQZbVjE/u3zmkn6WVW19zAMt66iT62F1dS7x4J97yD/JAGwKwPAb7TPU7vAb88kl1XVbUlOXmX5L6ilxQvPbcHOu2tpIcNlfQAwTn5vr5rfVW0hxypN51ut60dpmt+vqn+pql9pD+n9q+q0tu9dM4LgI6tqe1sIctwOtO2W9rlfVb21fT+gfZ6+YFl3tc9+9fDPteCiqurqNe4726tq/M27N83Y/8gYP4/9qarOnpFvnPf2iv6etXt0UZIjVtGn1sIi9Z7fPv89yaEL9L13+icJgF2mzZ0b3ZzkmvZ6cnRRy/erSTZ1i0Y2Jfm7GYtHzuiOvb7l+VS3aOTYlm9cFPFQkk8n+ack93bHvrC9uvzZVtemNl9wrPuyJD8zqXtz2//5Vu/1Y71dnvd3cw8/01afbllmwcjZO2kO4GGtiDvb9l5JXtHmge01yftL7Rzvb8dcNc6Ha/tf1zXphvYD2lu7tD0ncw336V4Bb+heAV/dz2N7lPb3c/NeNf4+ZJJT2nX8XnlJdu/y/nObKzj2m3tbQFjd/NG0hSJXJ/lsknv6hREr6VOt3sva9vbx9wiT/MmMelfUpxboy386nl/b/nB33GldvX3fu/bR+h4ArHUQ+OtzViZe2i0C+cIyqzWP78qqJB+ak+8r42vlNqfs0zPy9PWc3FabLmd9V/cL5uTpf6bjd5Yp66QZ1+b1OykArC7Avbn9/McNbfvpk7xb57TvpV2eD87J8/y2v/dwW6CRblVxFlkIMqOe97b0hyfpF7f0jyxznW/ryj1v3j0b54eupE+1uY1Tw6x6V9qnFujL/6t/TPtMV+8Zi/Q9AFgLw+QB/7Ra+q26E6vqjqr6y2EYtvajUlX1mzPKebCqTh2G4b5JeYdX1Uuq6nlVdXNV/U1VbZ3OG0zy4lp6Bbh7VV1SVcdW1XNq6TXi6VW1vqrePucctlfVKcMwPNKV94yqemM77taqurKqtoz1thGvX6yqu9v5PK2qbqyqvx6G4e5ZgVtVnVlVR1XVe4Zh2LwDQeCGqrppxq4fH4bhri7fCVX1WzOu85uHYbi/y3dEVb28qjZU1aaq2jgMwwNt35m19Lqyquofq+o7tTTn8L5aegU9Bn7nruScJuVVVf3eMAxfbIsX+t9vPHcYhs3tup3c2nd7Vf1FVb2v5blkGIaNXdmHVtUJtfQblLfU0uvlLTP6ytw+leQpVfWhWppnV1V17TAMFyb54/r+71xeMgzDxiTHLNinlu3LSS6oqoOrKsMwvDrJPlX1Z/X96QxjvQv1PQBY8wCQXSPJAS2gPKCqPltVH5kshAEAAAAAAAAAAAAAAAAAAAAAAAAAAAAAAAAAAAAAAAAAAAAAAAAAAAAAAAAAAAAAAAAAAAAAAAAAAAAAAAAAAAAAAAAAAAAAAAAAAAAAAAAAAAAAAAAAAAAAAAAAAAAAAAAAAAAAAAAAAAAAAAAAAAAAAAAAAAAAAAAAAAAAAAAAAAAAAAAAAAAAAAAAAAAAAAAAAAAAAAAAAAAAAAAAAAAAAAAAAAAAAAAAAAAAAAAAAAAAAAAAAAAAAAAAAAAAAAAAAAAAAAAAAAAAAAAAAAAAAAAAAAAAAAAAAAAAAAAAAAAAAAAAAAAAAAAAAAAAAAAAAAAAAAAAAAAAAAAAAAAAAAAAAAAAAAAAAAAAAAAAAAAAAAAAAAAAAAAAAAAAAAAAAAAAAAAAAAAAAAAAAAAAAAAAAAAAAAAAAAAAAAAAAAAAAAAAAAAAAAAAAAAAAAAAAAAAAAAAAAAAAAAAAAAAAAAAAAAAAAAAAAAAAAAAAAAAAAAAAAAAAAAAAAAAAAAAAAAAAAAAAAAAAAAAAAAAAAAAAAAAAAAAAAAAAAAAAAAAAAAAAAAAAAAAAAAAAAAAHjf+B93Rz/PPCCnYAAAAAElFTkSuQmCC'></div>"
      ],
      "text/plain": [
       "<moviepy.video.io.html_tools.HTML2 object>"
      ]
     },
     "execution_count": 137,
     "metadata": {},
     "output_type": "execute_result"
    }
   ],
   "source": [
    "credits_text = TextClip('Credits: @Tom Mucenieks',stroke_width=1, stroke_color='white', fontsize=16, color='white', size = [w, h], align='West')\n",
    "credits_text = credits_text.set_pos(('top'))\n",
    "credits_text.ipython_display()"
   ]
  },
  {
   "cell_type": "markdown",
   "id": "6eea6b14-0237-41d9-ac12-4e5b64236e94",
   "metadata": {},
   "source": [
    "# like and subscribe"
   ]
  },
  {
   "cell_type": "code",
   "execution_count": 40,
   "id": "65c753d4-e843-4ed7-83be-8181c732bb64",
   "metadata": {},
   "outputs": [],
   "source": [
    "import moviepy.editor as editor\n",
    "import moviepy, os"
   ]
  },
  {
   "cell_type": "markdown",
   "id": "c73cca39-4c1c-452f-b141-a627d65d44ea",
   "metadata": {},
   "source": [
    "# First anim"
   ]
  },
  {
   "cell_type": "code",
   "execution_count": 41,
   "id": "9b1573bd-388e-4295-ad18-f2ee1cbd3917",
   "metadata": {},
   "outputs": [],
   "source": [
    "file_path = os.path.join(os.getcwd(), \"like_and_subscribe_original.mp4\")  \n",
    "video_clip = VideoFileClip(file_path).subclip(0,7)\n",
    "fps = video_clip.fps\n",
    "duration = video_clip.duration\n",
    "w, h = video_clip.size\n",
    "size = video_clip.size\n",
    "audio_clip = video_clip.audio\n",
    "\n",
    "audio_before_anim = audio_clip.subclip(0, 2.8)\n",
    "audio_before_anim = audio_before_anim.volumex(0)\n",
    "\n",
    "audio_during_anim = audio_clip.subclip(2.8, 6.3)\n",
    "\n",
    "audio_after_anim = audio_clip.subclip(6.3, 7)\n",
    "audio_after_anim = audio_after_anim.volumex(0)"
   ]
  },
  {
   "cell_type": "code",
   "execution_count": 42,
   "id": "dc570e3e-3de8-4928-b875-adfb01e57de7",
   "metadata": {},
   "outputs": [],
   "source": [
    "final_audio = CompositeAudioClip([audio_before_anim, audio_during_anim.set_start(2.8), audio_after_anim.set_start(6.3)])\n"
   ]
  },
  {
   "cell_type": "code",
   "execution_count": 43,
   "id": "9b1a477a-36a5-4383-90e7-799a59c9936f",
   "metadata": {
    "tags": []
   },
   "outputs": [],
   "source": [
    "# final_audio.write_audiofile('temp.mp3', fps=audio_clip.fps)"
   ]
  },
  {
   "cell_type": "code",
   "execution_count": 44,
   "id": "14202b4d-24ad-4b43-8c79-8765123e9323",
   "metadata": {},
   "outputs": [],
   "source": [
    "masked_clip = moviepy.video.fx.all.mask_color(video_clip, color=[24, 252, 4], thr=20, s=3)\n",
    "masked_clip = masked_clip.set_pos((0, h/2 - 150))\n",
    "masked_clip.audio = final_audio"
   ]
  },
  {
   "cell_type": "code",
   "execution_count": 45,
   "id": "0141b270-ff08-4021-bcba-dc172da2e0a6",
   "metadata": {},
   "outputs": [],
   "source": [
    "background_clip = ColorClip(size =(w, h), color =[0, 255, 0])\n",
    "background_clip = background_clip.set_duration(duration).set_fps(fps)"
   ]
  },
  {
   "cell_type": "code",
   "execution_count": 47,
   "id": "f2a89d77-3378-4e01-9a9f-a1434b4d7821",
   "metadata": {
    "tags": []
   },
   "outputs": [
    {
     "name": "stdout",
     "output_type": "stream",
     "text": [
      "Moviepy - Building video like_and_subscribe_1.mp4.\n",
      "MoviePy - Writing audio in like_and_subscribe_1TEMP_MPY_wvf_snd.mp3\n"
     ]
    },
    {
     "name": "stderr",
     "output_type": "stream",
     "text": [
      "                                                                                                                                                           \r"
     ]
    },
    {
     "name": "stdout",
     "output_type": "stream",
     "text": [
      "MoviePy - Done.\n",
      "Moviepy - Writing video like_and_subscribe_1.mp4\n",
      "\n"
     ]
    },
    {
     "name": "stderr",
     "output_type": "stream",
     "text": [
      "                                                                                                                                                           \r"
     ]
    },
    {
     "name": "stdout",
     "output_type": "stream",
     "text": [
      "Moviepy - Done !\n",
      "Moviepy - video ready like_and_subscribe_1.mp4\n"
     ]
    }
   ],
   "source": [
    "final_clip = editor.CompositeVideoClip([background_clip, masked_clip]).set_duration(duration)\n",
    "final_clip.audio = final_audio\n",
    "final_clip.write_videofile('like_and_subscribe_1.mp4')"
   ]
  },
  {
   "cell_type": "code",
   "execution_count": null,
   "id": "da2200ec-785a-4825-b0b4-21ebb8d6791b",
   "metadata": {
    "tags": []
   },
   "outputs": [],
   "source": []
  },
  {
   "cell_type": "markdown",
   "id": "b2cc4d23-ab26-4c06-a688-2f2bfeb179ab",
   "metadata": {},
   "source": [
    "# Second anim - Not using this as unable to add channel name yet"
   ]
  },
  {
   "cell_type": "code",
   "execution_count": 89,
   "id": "8b06797f-f437-411d-bb78-9b2e1ef96464",
   "metadata": {},
   "outputs": [],
   "source": [
    "file_path = os.path.join(os.getcwd(), \"like_and_subscribe_original.mp4\")  \n",
    "video_clip = VideoFileClip(file_path).subclip(7.8,15) \n",
    "fps = video_clip.fps\n",
    "duration = video_clip.duration\n",
    "w, h = video_clip.size\n",
    "size = video_clip.size\n",
    "audio_clip = video_clip.audio\n",
    "\n",
    "audio_anim_start = 2.5\n",
    "audio_anim_end = 5\n",
    "\n",
    "\n",
    "audio_before_anim = audio_clip.subclip(0, audio_anim_start)\n",
    "audio_before_anim = audio_before_anim.volumex(0)\n",
    "\n",
    "audio_during_anim = audio_clip.subclip(audio_anim_start, audio_anim_end)\n",
    "\n",
    "audio_after_anim = audio_clip.subclip(audio_anim_end, 7)\n",
    "audio_after_anim = audio_after_anim.volumex(0)\n",
    "\n",
    "final_audio = CompositeAudioClip([audio_before_anim, audio_during_anim.set_start(audio_anim_start), audio_after_anim.set_start(audio_anim_end)])\n"
   ]
  },
  {
   "cell_type": "code",
   "execution_count": 90,
   "id": "9fe1e46f-d15e-4d55-9497-10176547dbe1",
   "metadata": {},
   "outputs": [],
   "source": [
    "# audio_during_anim.write_audiofile('temp.mp3', fps=audio_clip.fps)"
   ]
  },
  {
   "cell_type": "code",
   "execution_count": 101,
   "id": "5c23cd17-0f9b-463f-b26b-06a915a49ba7",
   "metadata": {},
   "outputs": [],
   "source": [
    "masked_clip = moviepy.video.fx.all.mask_color(video_clip, color=[24, 252, 4], thr=20, s=3)\n",
    "masked_clip = masked_clip.set_pos((0, h/2 - 150))\n",
    "masked_clip.audio = final_audio\n",
    "\n",
    "background_clip = ColorClip(size =(w, h), color =[0, 255, 0])\n",
    "background_clip = background_clip.set_duration(duration).set_fps(fps)\n",
    "\n",
    "\n",
    "# channel_text = TextClip('@VidsFromAroundTheInternet', fontsize=24, color='white', size = [w, 30])\n",
    "# channel_text = channel_text.set_duration(duration).set_fps(fps)\n",
    "# channel_text = channel_text.set_pos((\"top\"))"
   ]
  },
  {
   "cell_type": "code",
   "execution_count": 102,
   "id": "0433bf7e-50c6-4615-ae3b-dfbc65e1c066",
   "metadata": {},
   "outputs": [
    {
     "name": "stdout",
     "output_type": "stream",
     "text": [
      "Moviepy - Building video test.mp4.\n",
      "MoviePy - Writing audio in testTEMP_MPY_wvf_snd.mp3\n"
     ]
    },
    {
     "name": "stderr",
     "output_type": "stream",
     "text": [
      "                                                                                                                                                           \r"
     ]
    },
    {
     "name": "stdout",
     "output_type": "stream",
     "text": [
      "MoviePy - Done.\n",
      "Moviepy - Writing video test.mp4\n",
      "\n"
     ]
    },
    {
     "name": "stderr",
     "output_type": "stream",
     "text": [
      "                                                                                                                                                           "
     ]
    },
    {
     "name": "stdout",
     "output_type": "stream",
     "text": [
      "Moviepy - Done !\n",
      "Moviepy - video ready test.mp4\n"
     ]
    },
    {
     "name": "stderr",
     "output_type": "stream",
     "text": [
      "\r"
     ]
    }
   ],
   "source": [
    "final_clip = editor.CompositeVideoClip([background_clip, masked_clip]).set_duration(duration)\n",
    "final_clip.audio = final_audio\n",
    "final_clip.write_videofile('test.mp4')"
   ]
  },
  {
   "cell_type": "code",
   "execution_count": null,
   "id": "d29dec98-6087-4afe-a185-bfec547cc184",
   "metadata": {},
   "outputs": [],
   "source": []
  },
  {
   "cell_type": "markdown",
   "id": "fb5d60b5-8961-4a1d-9414-3ba5eac83491",
   "metadata": {},
   "source": [
    "# Third anim"
   ]
  },
  {
   "cell_type": "code",
   "execution_count": 125,
   "id": "f7145874-742b-4ee2-b480-45925c4d52e9",
   "metadata": {},
   "outputs": [],
   "source": [
    "file_path = os.path.join(os.getcwd(), \"like_and_subscribe_original.mp4\")  \n",
    "video_clip = VideoFileClip(file_path).subclip(15,25) \n",
    "fps = video_clip.fps\n",
    "duration = video_clip.duration\n",
    "w, h = video_clip.size\n",
    "size = video_clip.size\n",
    "audio_clip = video_clip.audio\n",
    "\n",
    "audio_anim_start = 1.5\n",
    "audio_anim_end = 10\n",
    "\n",
    "audio_before_anim = audio_clip.subclip(0, audio_anim_start)\n",
    "audio_before_anim = audio_before_anim.volumex(0)\n",
    "\n",
    "audio_during_anim = audio_clip.subclip(audio_anim_start, audio_anim_end)\n",
    "\n",
    "audio_after_anim = audio_clip.subclip(audio_anim_end, 7)\n",
    "audio_after_anim = audio_after_anim.volumex(0)\n",
    "\n",
    "final_audio = CompositeAudioClip([audio_before_anim, audio_during_anim.set_start(audio_anim_start), audio_after_anim.set_start(audio_anim_end)])\n"
   ]
  },
  {
   "cell_type": "code",
   "execution_count": 126,
   "id": "2f18e866-1aba-4109-9578-d25a06bf2b1a",
   "metadata": {},
   "outputs": [],
   "source": [
    "# audio_during_anim.write_audiofile('temp.mp3', fps = audio_clip.fps)"
   ]
  },
  {
   "cell_type": "code",
   "execution_count": 127,
   "id": "e91246fd-061d-4f55-af62-ef88738eb913",
   "metadata": {},
   "outputs": [],
   "source": [
    "masked_clip = moviepy.video.fx.all.mask_color(video_clip, color=[24, 252, 4], thr=20, s=3)\n",
    "masked_clip = masked_clip.set_pos((0, h/2 - 150))\n",
    "masked_clip.audio = final_audio\n",
    "\n",
    "background_clip = ColorClip(size =(w, h), color =[0, 255, 0])\n",
    "background_clip = background_clip.set_duration(duration).set_fps(fps)"
   ]
  },
  {
   "cell_type": "code",
   "execution_count": 128,
   "id": "cebb2e16-7f62-4c35-9c45-bda5c0a17bbe",
   "metadata": {},
   "outputs": [
    {
     "name": "stdout",
     "output_type": "stream",
     "text": [
      "Moviepy - Building video test.mp4.\n",
      "MoviePy - Writing audio in testTEMP_MPY_wvf_snd.mp3\n"
     ]
    },
    {
     "name": "stderr",
     "output_type": "stream",
     "text": [
      "                                                                                                                                                           \r"
     ]
    },
    {
     "name": "stdout",
     "output_type": "stream",
     "text": [
      "MoviePy - Done.\n",
      "Moviepy - Writing video test.mp4\n",
      "\n"
     ]
    },
    {
     "name": "stderr",
     "output_type": "stream",
     "text": [
      "                                                                                                                                                           "
     ]
    },
    {
     "name": "stdout",
     "output_type": "stream",
     "text": [
      "Moviepy - Done !\n",
      "Moviepy - video ready test.mp4\n"
     ]
    },
    {
     "name": "stderr",
     "output_type": "stream",
     "text": [
      "\r"
     ]
    }
   ],
   "source": [
    "final_clip = editor.CompositeVideoClip([background_clip, masked_clip]).set_duration(duration)\n",
    "final_clip.audio = final_audio\n",
    "final_clip.write_videofile('test.mp4')"
   ]
  },
  {
   "cell_type": "markdown",
   "id": "78714487-86ee-41fd-97f7-7595918e8811",
   "metadata": {},
   "source": [
    "# New video, contains many anims\n",
    "# Anim 1"
   ]
  },
  {
   "cell_type": "code",
   "execution_count": 176,
   "id": "d81fb5fb-6793-494a-8b95-4f7ab6c9fc1b",
   "metadata": {},
   "outputs": [],
   "source": [
    "file_path = os.path.join(os.getcwd(), \"like_and_subscribe_original.mp4\") \n",
    "video_clip = VideoFileClip(file_path).subclip(0,9.5)\n",
    "fps = video_clip.fps\n",
    "duration = video_clip.duration\n",
    "w, h = video_clip.size\n",
    "size = video_clip.size"
   ]
  },
  {
   "cell_type": "code",
   "execution_count": 177,
   "id": "71dfc823-7e1c-40ed-8654-bce9dfb9312f",
   "metadata": {},
   "outputs": [],
   "source": [
    "masked_clip = moviepy.video.fx.all.mask_color(video_clip, color=[16,204,68], thr=20, s=3)\n",
    "# masked_clip = masked_clip.set_pos((0, h/2 - 150))\n",
    "# masked_clip.audio = final_audio\n",
    "masked_clip = masked_clip.set_position((0,50))"
   ]
  },
  {
   "cell_type": "code",
   "execution_count": 178,
   "id": "3f2fd642-4029-4c4d-8fa1-1d8ae4e14870",
   "metadata": {},
   "outputs": [],
   "source": [
    "background_clip = ColorClip(size =(w, h), color =[0, 255, 0])\n",
    "background_clip = background_clip.set_duration(duration).set_fps(fps)"
   ]
  },
  {
   "cell_type": "code",
   "execution_count": 179,
   "id": "b0fb8c21-26c8-4f2b-869a-13422973a975",
   "metadata": {},
   "outputs": [
    {
     "name": "stdout",
     "output_type": "stream",
     "text": [
      "Moviepy - Building video like_and_subscribe_2.mp4.\n",
      "MoviePy - Writing audio in like_and_subscribe_2TEMP_MPY_wvf_snd.mp3\n"
     ]
    },
    {
     "name": "stderr",
     "output_type": "stream",
     "text": [
      "                                                                                                                                                           \r"
     ]
    },
    {
     "name": "stdout",
     "output_type": "stream",
     "text": [
      "MoviePy - Done.\n",
      "Moviepy - Writing video like_and_subscribe_2.mp4\n",
      "\n"
     ]
    },
    {
     "name": "stderr",
     "output_type": "stream",
     "text": [
      "                                                                                                                                                           \r"
     ]
    },
    {
     "name": "stdout",
     "output_type": "stream",
     "text": [
      "Moviepy - Done !\n",
      "Moviepy - video ready like_and_subscribe_2.mp4\n"
     ]
    }
   ],
   "source": [
    "final_clip = editor.CompositeVideoClip([background_clip, masked_clip]).set_duration(duration)\n",
    "# final_clip.audio = final_audio\n",
    "final_clip.write_videofile('like_and_subscribe_2.mp4')"
   ]
  },
  {
   "cell_type": "code",
   "execution_count": null,
   "id": "799c48c0-51fc-4df6-b625-6c42a557da9b",
   "metadata": {},
   "outputs": [],
   "source": []
  },
  {
   "cell_type": "markdown",
   "id": "8849055b-7e6f-40ab-94b4-5524b767f667",
   "metadata": {},
   "source": [
    "# Anim 2"
   ]
  },
  {
   "cell_type": "code",
   "execution_count": 199,
   "id": "04bd9c2f-c21c-4514-9f85-f5f28578ff02",
   "metadata": {},
   "outputs": [],
   "source": [
    "file_path = os.path.join(os.getcwd(), \"like_and_subscribe_original.mp4\") \n",
    "video_clip = VideoFileClip(file_path).subclip(35,41)\n",
    "fps = video_clip.fps\n",
    "duration = video_clip.duration\n",
    "w, h = video_clip.size\n",
    "size = video_clip.size"
   ]
  },
  {
   "cell_type": "code",
   "execution_count": 200,
   "id": "59507e64-6a31-4df9-a673-8362572d33eb",
   "metadata": {},
   "outputs": [],
   "source": [
    "masked_clip = moviepy.video.fx.all.mask_color(video_clip, color=[16,204,68], thr=20, s=3)\n",
    "# masked_clip = masked_clip.set_pos((0, h/2 - 400))\n",
    "# masked_clip.audio = final_audio\n",
    "masked_clip = masked_clip.set_position((0,150))"
   ]
  },
  {
   "cell_type": "code",
   "execution_count": 201,
   "id": "2eeed9ab-900e-4135-a12b-c96eaf142fd6",
   "metadata": {},
   "outputs": [],
   "source": [
    "background_clip = ColorClip(size =(w, h), color =[0, 255, 0])\n",
    "background_clip = background_clip.set_duration(duration).set_fps(fps)"
   ]
  },
  {
   "cell_type": "code",
   "execution_count": 202,
   "id": "ec32b614-483c-4733-b0d5-3ce75f537b7c",
   "metadata": {},
   "outputs": [
    {
     "name": "stdout",
     "output_type": "stream",
     "text": [
      "Moviepy - Building video like_and_subscribe_3.mp4.\n",
      "MoviePy - Writing audio in like_and_subscribe_3TEMP_MPY_wvf_snd.mp3\n"
     ]
    },
    {
     "name": "stderr",
     "output_type": "stream",
     "text": [
      "                                                                                                                                                           \r"
     ]
    },
    {
     "name": "stdout",
     "output_type": "stream",
     "text": [
      "MoviePy - Done.\n",
      "Moviepy - Writing video like_and_subscribe_3.mp4\n",
      "\n"
     ]
    },
    {
     "name": "stderr",
     "output_type": "stream",
     "text": [
      "                                                                                                                                                           "
     ]
    },
    {
     "name": "stdout",
     "output_type": "stream",
     "text": [
      "Moviepy - Done !\n",
      "Moviepy - video ready like_and_subscribe_3.mp4\n"
     ]
    },
    {
     "name": "stderr",
     "output_type": "stream",
     "text": [
      "\r"
     ]
    }
   ],
   "source": [
    "final_clip = editor.CompositeVideoClip([background_clip, masked_clip]).set_duration(duration)\n",
    "# final_clip.audio = final_audio\n",
    "final_clip.write_videofile('like_and_subscribe_3.mp4')"
   ]
  },
  {
   "cell_type": "code",
   "execution_count": null,
   "id": "8764952e-c3d3-432d-98e0-7cc54a78bca6",
   "metadata": {},
   "outputs": [],
   "source": []
  },
  {
   "cell_type": "markdown",
   "id": "80360492-1742-41fb-8b28-61de0269f6ce",
   "metadata": {},
   "source": [
    "# Anim 3"
   ]
  },
  {
   "cell_type": "code",
   "execution_count": 211,
   "id": "2c3254d5-1186-4146-8f85-37ab6cc87f44",
   "metadata": {},
   "outputs": [],
   "source": [
    "file_path = os.path.join(os.getcwd(), \"like_and_subscribe_original.mp4\") \n",
    "video_clip = VideoFileClip(file_path).subclip(42,48)\n",
    "fps = video_clip.fps\n",
    "duration = video_clip.duration\n",
    "w, h = video_clip.size\n",
    "size = video_clip.size"
   ]
  },
  {
   "cell_type": "code",
   "execution_count": 215,
   "id": "9a8c1d34-e53c-4de2-b7ec-add96d1d46a4",
   "metadata": {},
   "outputs": [],
   "source": [
    "masked_clip = moviepy.video.fx.all.mask_color(video_clip, color=[16,204,68], thr=20, s=3)\n",
    "# masked_clip = masked_clip.set_pos((0, h/2 - 400))\n",
    "# masked_clip.audio = final_audio\n",
    "masked_clip = masked_clip.set_position((0,85))"
   ]
  },
  {
   "cell_type": "code",
   "execution_count": 216,
   "id": "6045cb4b-f833-4df3-8aed-9e1733112ccd",
   "metadata": {},
   "outputs": [],
   "source": [
    "background_clip = ColorClip(size =(w, h), color =[0, 255, 0])\n",
    "background_clip = background_clip.set_duration(duration).set_fps(fps)"
   ]
  },
  {
   "cell_type": "code",
   "execution_count": 217,
   "id": "edffda74-766a-443f-8d61-109f7b3a0bac",
   "metadata": {},
   "outputs": [
    {
     "name": "stdout",
     "output_type": "stream",
     "text": [
      "Moviepy - Building video test.mp4.\n",
      "MoviePy - Writing audio in testTEMP_MPY_wvf_snd.mp3\n"
     ]
    },
    {
     "name": "stderr",
     "output_type": "stream",
     "text": [
      "                                                                                                                                                           \r"
     ]
    },
    {
     "name": "stdout",
     "output_type": "stream",
     "text": [
      "MoviePy - Done.\n",
      "Moviepy - Writing video test.mp4\n",
      "\n"
     ]
    },
    {
     "name": "stderr",
     "output_type": "stream",
     "text": [
      "                                                                                                                                                           "
     ]
    },
    {
     "name": "stdout",
     "output_type": "stream",
     "text": [
      "Moviepy - Done !\n",
      "Moviepy - video ready test.mp4\n"
     ]
    },
    {
     "name": "stderr",
     "output_type": "stream",
     "text": [
      "\r"
     ]
    }
   ],
   "source": [
    "final_clip = editor.CompositeVideoClip([background_clip, masked_clip]).set_duration(duration)\n",
    "# final_clip.audio = final_audio\n",
    "final_clip.write_videofile('test.mp4')"
   ]
  },
  {
   "cell_type": "code",
   "execution_count": null,
   "id": "c7d0dc3a-3bd3-46ea-bb3d-018716dd15b6",
   "metadata": {},
   "outputs": [],
   "source": []
  },
  {
   "cell_type": "markdown",
   "id": "8fe799e9-53b2-4ada-a985-88a973673893",
   "metadata": {},
   "source": [
    "# Anim 4"
   ]
  },
  {
   "cell_type": "code",
   "execution_count": 219,
   "id": "d20f905d-5388-4f5a-8961-50acfd8f5a30",
   "metadata": {},
   "outputs": [],
   "source": [
    "file_path = os.path.join(os.getcwd(), \"like_and_subscribe_original.mp4\") \n",
    "video_clip = VideoFileClip(file_path).subclip(49,54)\n",
    "fps = video_clip.fps\n",
    "duration = video_clip.duration\n",
    "w, h = video_clip.size\n",
    "size = video_clip.size"
   ]
  },
  {
   "cell_type": "code",
   "execution_count": 220,
   "id": "b851686f-bea8-48ce-a579-234eba3e9ef3",
   "metadata": {},
   "outputs": [],
   "source": [
    "masked_clip = moviepy.video.fx.all.mask_color(video_clip, color=[16,204,68], thr=20, s=3)\n",
    "# masked_clip = masked_clip.set_pos((0, h/2 - 400))\n",
    "# masked_clip.audio = final_audio\n",
    "masked_clip = masked_clip.set_position((0,85))"
   ]
  },
  {
   "cell_type": "code",
   "execution_count": 221,
   "id": "46f03929-4b4c-4f8f-a9f5-df9dd7f0ad14",
   "metadata": {},
   "outputs": [],
   "source": [
    "background_clip = ColorClip(size =(w, h), color =[0, 255, 0])\n",
    "background_clip = background_clip.set_duration(duration).set_fps(fps)"
   ]
  },
  {
   "cell_type": "code",
   "execution_count": 222,
   "id": "2bdce4ce-a71b-43f5-a8b8-101042f96d55",
   "metadata": {},
   "outputs": [
    {
     "name": "stdout",
     "output_type": "stream",
     "text": [
      "Moviepy - Building video test.mp4.\n",
      "MoviePy - Writing audio in testTEMP_MPY_wvf_snd.mp3\n"
     ]
    },
    {
     "name": "stderr",
     "output_type": "stream",
     "text": [
      "                                                                                                                                                           \r"
     ]
    },
    {
     "name": "stdout",
     "output_type": "stream",
     "text": [
      "MoviePy - Done.\n",
      "Moviepy - Writing video test.mp4\n",
      "\n"
     ]
    },
    {
     "name": "stderr",
     "output_type": "stream",
     "text": [
      "                                                                                                                                                           \r"
     ]
    },
    {
     "name": "stdout",
     "output_type": "stream",
     "text": [
      "Moviepy - Done !\n",
      "Moviepy - video ready test.mp4\n"
     ]
    }
   ],
   "source": [
    "final_clip = editor.CompositeVideoClip([background_clip, masked_clip]).set_duration(duration)\n",
    "# final_clip.audio = final_audio\n",
    "final_clip.write_videofile('test.mp4')"
   ]
  },
  {
   "cell_type": "code",
   "execution_count": null,
   "id": "658137a1-ecea-4ee2-a19d-57e40e135a0f",
   "metadata": {},
   "outputs": [],
   "source": []
  },
  {
   "cell_type": "markdown",
   "id": "4b56e075-2034-4679-99cd-6c55ba477290",
   "metadata": {},
   "source": [
    "# Anim 5"
   ]
  },
  {
   "cell_type": "code",
   "execution_count": 226,
   "id": "e95dbdbd-85a4-43f8-8066-0823c03f676d",
   "metadata": {},
   "outputs": [
    {
     "name": "stdout",
     "output_type": "stream",
     "text": [
      "Moviepy - Building video test.mp4.\n",
      "MoviePy - Writing audio in testTEMP_MPY_wvf_snd.mp3\n"
     ]
    },
    {
     "name": "stderr",
     "output_type": "stream",
     "text": [
      "                                                                                                                                                           \r"
     ]
    },
    {
     "name": "stdout",
     "output_type": "stream",
     "text": [
      "MoviePy - Done.\n",
      "Moviepy - Writing video test.mp4\n",
      "\n"
     ]
    },
    {
     "name": "stderr",
     "output_type": "stream",
     "text": [
      "                                                                                                                                                           "
     ]
    },
    {
     "name": "stdout",
     "output_type": "stream",
     "text": [
      "Moviepy - Done !\n",
      "Moviepy - video ready test.mp4\n"
     ]
    },
    {
     "name": "stderr",
     "output_type": "stream",
     "text": [
      "\r"
     ]
    }
   ],
   "source": [
    "file_path = os.path.join(os.getcwd(), \"like_and_subscribe_original.mp4\") \n",
    "video_clip = VideoFileClip(file_path).subclip(68,72.45)\n",
    "fps = video_clip.fps\n",
    "duration = video_clip.duration\n",
    "w, h = video_clip.size\n",
    "size = video_clip.size\n",
    "\n",
    "masked_clip = moviepy.video.fx.all.mask_color(video_clip, color=[16,204,68], thr=20, s=3)\n",
    "masked_clip = masked_clip.set_position((0,85))\n",
    "\n",
    "background_clip = ColorClip(size =(w, h), color =[0, 255, 0])\n",
    "background_clip = background_clip.set_duration(duration).set_fps(fps)\n",
    "\n",
    "final_clip = editor.CompositeVideoClip([background_clip, masked_clip]).set_duration(duration)\n",
    "# final_clip.audio = final_audio\n",
    "final_clip.write_videofile('test.mp4')"
   ]
  },
  {
   "cell_type": "code",
   "execution_count": null,
   "id": "b51142c3-5ab4-4672-8a71-ab1f5757d88e",
   "metadata": {},
   "outputs": [],
   "source": []
  },
  {
   "cell_type": "markdown",
   "id": "4cd06977-5898-4480-83db-2e60374a5676",
   "metadata": {},
   "source": [
    "# Anim 6"
   ]
  },
  {
   "cell_type": "code",
   "execution_count": 230,
   "id": "2c310084-eab5-4108-928c-c576f812541f",
   "metadata": {
    "collapsed": true,
    "jupyter": {
     "outputs_hidden": true
    },
    "tags": []
   },
   "outputs": [
    {
     "name": "stderr",
     "output_type": "stream",
     "text": [
      "chunk:  91%|██████████████████████████████████████████████████████████████████████████████████████████         | 191/210 [00:39<00:03,  4.85it/s, now=None]"
     ]
    },
    {
     "name": "stdout",
     "output_type": "stream",
     "text": [
      "Moviepy - Building video test.mp4.\n",
      "MoviePy - Writing audio in testTEMP_MPY_wvf_snd.mp3\n"
     ]
    },
    {
     "name": "stderr",
     "output_type": "stream",
     "text": [
      "\n",
      "chunk:   0%|                                                                                                             | 0/189 [00:00<?, ?it/s, now=None]\u001b[A\n",
      "chunk:  91%|██████████████████████████████████████████████████████████████████████████████████████████         | 191/210 [00:39<00:03,  4.83it/s, now=None]\u001b[A"
     ]
    },
    {
     "name": "stdout",
     "output_type": "stream",
     "text": [
      "MoviePy - Done.\n",
      "Moviepy - Writing video test.mp4\n",
      "\n"
     ]
    },
    {
     "name": "stderr",
     "output_type": "stream",
     "text": [
      "\n",
      "t:   0%|                                                                                                                 | 0/257 [00:00<?, ?it/s, now=None]\u001b[A\n",
      "t:   1%|█▏                                                                                                       | 3/257 [00:00<00:09, 27.12it/s, now=None]\u001b[A\n",
      "t:   2%|██▍                                                                                                      | 6/257 [00:00<00:11, 21.54it/s, now=None]\u001b[A\n",
      "t:   4%|███▋                                                                                                     | 9/257 [00:00<00:12, 20.29it/s, now=None]\u001b[A\n",
      "t:   5%|████▊                                                                                                   | 12/257 [00:00<00:12, 19.99it/s, now=None]\u001b[A\n",
      "t:   6%|██████                                                                                                  | 15/257 [00:00<00:12, 19.85it/s, now=None]\u001b[A\n",
      "t:   7%|███████▎                                                                                                | 18/257 [00:00<00:12, 19.51it/s, now=None]\u001b[A\n",
      "t:   8%|████████                                                                                                | 20/257 [00:01<00:12, 19.11it/s, now=None]\u001b[A\n",
      "t:   9%|████████▉                                                                                               | 22/257 [00:01<00:12, 19.07it/s, now=None]\u001b[A\n",
      "t:   9%|█████████▋                                                                                              | 24/257 [00:01<00:12, 19.20it/s, now=None]\u001b[A\n",
      "t:  10%|██████████▌                                                                                             | 26/257 [00:01<00:11, 19.31it/s, now=None]\u001b[A\n",
      "t:  11%|███████████▎                                                                                            | 28/257 [00:01<00:12, 18.88it/s, now=None]\u001b[A\n",
      "t:  12%|████████████▏                                                                                           | 30/257 [00:01<00:12, 18.70it/s, now=None]\u001b[A\n",
      "t:  12%|████████████▉                                                                                           | 32/257 [00:01<00:12, 18.52it/s, now=None]\u001b[A\n",
      "t:  13%|█████████████▊                                                                                          | 34/257 [00:01<00:12, 18.54it/s, now=None]\u001b[A\n",
      "t:  14%|██████████████▌                                                                                         | 36/257 [00:01<00:11, 18.62it/s, now=None]\u001b[A\n",
      "t:  15%|███████████████▍                                                                                        | 38/257 [00:01<00:11, 18.77it/s, now=None]\u001b[A\n",
      "t:  16%|████████████████▏                                                                                       | 40/257 [00:02<00:11, 18.97it/s, now=None]\u001b[A\n",
      "t:  16%|████████████████▉                                                                                       | 42/257 [00:02<00:11, 19.01it/s, now=None]\u001b[A\n",
      "t:  17%|█████████████████▊                                                                                      | 44/257 [00:02<00:11, 18.85it/s, now=None]\u001b[A\n",
      "t:  18%|██████████████████▌                                                                                     | 46/257 [00:02<00:11, 18.60it/s, now=None]\u001b[A\n",
      "t:  19%|███████████████████▍                                                                                    | 48/257 [00:02<00:11, 18.74it/s, now=None]\u001b[A\n",
      "t:  19%|████████████████████▏                                                                                   | 50/257 [00:02<00:11, 18.69it/s, now=None]\u001b[A\n",
      "t:  20%|█████████████████████                                                                                   | 52/257 [00:02<00:10, 18.64it/s, now=None]\u001b[A\n",
      "t:  21%|█████████████████████▊                                                                                  | 54/257 [00:02<00:10, 18.80it/s, now=None]\u001b[A\n",
      "t:  22%|██████████████████████▋                                                                                 | 56/257 [00:02<00:10, 19.00it/s, now=None]\u001b[A\n",
      "t:  23%|███████████████████████▍                                                                                | 58/257 [00:03<00:10, 19.23it/s, now=None]\u001b[A\n",
      "t:  23%|████████████████████████▎                                                                               | 60/257 [00:03<00:10, 18.88it/s, now=None]\u001b[A\n",
      "t:  24%|█████████████████████████                                                                               | 62/257 [00:03<00:10, 18.36it/s, now=None]\u001b[A\n",
      "t:  25%|██████████████████████████▎                                                                             | 65/257 [00:03<00:10, 18.87it/s, now=None]\u001b[A\n",
      "t:  26%|███████████████████████████                                                                             | 67/257 [00:03<00:09, 19.05it/s, now=None]\u001b[A\n",
      "t:  27%|███████████████████████████▉                                                                            | 69/257 [00:03<00:09, 19.23it/s, now=None]\u001b[A\n",
      "t:  28%|████████████████████████████▋                                                                           | 71/257 [00:03<00:09, 19.36it/s, now=None]\u001b[A\n",
      "t:  28%|█████████████████████████████▌                                                                          | 73/257 [00:03<00:09, 19.27it/s, now=None]\u001b[A\n",
      "t:  29%|██████████████████████████████▎                                                                         | 75/257 [00:03<00:09, 19.42it/s, now=None]\u001b[A\n",
      "t:  30%|███████████████████████████████▏                                                                        | 77/257 [00:04<00:09, 19.58it/s, now=None]\u001b[A\n",
      "t:  31%|███████████████████████████████▉                                                                        | 79/257 [00:04<00:09, 19.68it/s, now=None]\u001b[A\n",
      "t:  32%|████████████████████████████████▊                                                                       | 81/257 [00:04<00:08, 19.56it/s, now=None]\u001b[A\n",
      "t:  32%|█████████████████████████████████▌                                                                      | 83/257 [00:04<00:08, 19.68it/s, now=None]\u001b[A\n",
      "t:  33%|██████████████████████████████████▍                                                                     | 85/257 [00:04<00:08, 19.76it/s, now=None]\u001b[A\n",
      "t:  34%|███████████████████████████████████▌                                                                    | 88/257 [00:04<00:08, 19.95it/s, now=None]\u001b[A\n",
      "t:  35%|████████████████████████████████████▊                                                                   | 91/257 [00:04<00:08, 20.05it/s, now=None]\u001b[A\n",
      "t:  37%|██████████████████████████████████████                                                                  | 94/257 [00:04<00:08, 19.83it/s, now=None]\u001b[A\n",
      "t:  37%|██████████████████████████████████████▊                                                                 | 96/257 [00:04<00:08, 19.75it/s, now=None]\u001b[A\n",
      "t:  38%|███████████████████████████████████████▋                                                                | 98/257 [00:05<00:08, 19.59it/s, now=None]\u001b[A\n",
      "t:  39%|████████████████████████████████████████                                                               | 100/257 [00:05<00:08, 19.57it/s, now=None]\u001b[A\n",
      "t:  40%|████████████████████████████████████████▉                                                              | 102/257 [00:05<00:07, 19.45it/s, now=None]\u001b[A\n",
      "t:  40%|█████████████████████████████████████████▋                                                             | 104/257 [00:05<00:07, 19.50it/s, now=None]\u001b[A\n",
      "t:  41%|██████████████████████████████████████████▍                                                            | 106/257 [00:05<00:07, 19.37it/s, now=None]\u001b[A\n",
      "t:  42%|███████████████████████████████████████████▎                                                           | 108/257 [00:05<00:07, 19.31it/s, now=None]\u001b[A\n",
      "t:  43%|████████████████████████████████████████████                                                           | 110/257 [00:05<00:07, 19.33it/s, now=None]\u001b[A\n",
      "t:  44%|████████████████████████████████████████████▉                                                          | 112/257 [00:05<00:07, 19.38it/s, now=None]\u001b[A\n",
      "t:  44%|█████████████████████████████████████████████▋                                                         | 114/257 [00:05<00:07, 19.35it/s, now=None]\u001b[A\n",
      "t:  45%|██████████████████████████████████████████████▍                                                        | 116/257 [00:06<00:07, 19.21it/s, now=None]\u001b[A\n",
      "t:  46%|███████████████████████████████████████████████▎                                                       | 118/257 [00:06<00:07, 19.18it/s, now=None]\u001b[A\n",
      "t:  47%|████████████████████████████████████████████████                                                       | 120/257 [00:06<00:07, 19.09it/s, now=None]\u001b[A\n",
      "t:  47%|████████████████████████████████████████████████▉                                                      | 122/257 [00:06<00:07, 19.24it/s, now=None]\u001b[A\n",
      "t:  48%|█████████████████████████████████████████████████▋                                                     | 124/257 [00:06<00:06, 19.09it/s, now=None]\u001b[A\n",
      "t:  49%|██████████████████████████████████████████████████▍                                                    | 126/257 [00:06<00:06, 19.02it/s, now=None]\u001b[A\n",
      "t:  50%|███████████████████████████████████████████████████▎                                                   | 128/257 [00:06<00:06, 19.18it/s, now=None]\u001b[A\n",
      "t:  51%|████████████████████████████████████████████████████                                                   | 130/257 [00:06<00:06, 19.20it/s, now=None]\u001b[A\n",
      "t:  51%|████████████████████████████████████████████████████▉                                                  | 132/257 [00:06<00:06, 19.31it/s, now=None]\u001b[A\n",
      "t:  52%|█████████████████████████████████████████████████████▋                                                 | 134/257 [00:06<00:06, 19.33it/s, now=None]\u001b[A\n",
      "t:  53%|██████████████████████████████████████████████████████▌                                                | 136/257 [00:07<00:06, 19.43it/s, now=None]\u001b[A\n",
      "t:  54%|███████████████████████████████████████████████████████▎                                               | 138/257 [00:07<00:06, 19.54it/s, now=None]\u001b[A\n",
      "t:  55%|████████████████████████████████████████████████████████▌                                              | 141/257 [00:07<00:05, 19.92it/s, now=None]\u001b[A\n",
      "t:  56%|█████████████████████████████████████████████████████████▋                                             | 144/257 [00:07<00:05, 20.10it/s, now=None]\u001b[A\n",
      "t:  57%|██████████████████████████████████████████████████████████▉                                            | 147/257 [00:07<00:05, 20.26it/s, now=None]\u001b[A\n",
      "t:  58%|████████████████████████████████████████████████████████████                                           | 150/257 [00:07<00:05, 20.28it/s, now=None]\u001b[A\n",
      "t:  60%|█████████████████████████████████████████████████████████████▎                                         | 153/257 [00:07<00:05, 20.39it/s, now=None]\u001b[A\n",
      "t:  61%|██████████████████████████████████████████████████████████████▌                                        | 156/257 [00:08<00:04, 20.38it/s, now=None]\u001b[A\n",
      "t:  62%|███████████████████████████████████████████████████████████████▋                                       | 159/257 [00:08<00:04, 20.46it/s, now=None]\u001b[A\n",
      "t:  63%|████████████████████████████████████████████████████████████████▉                                      | 162/257 [00:08<00:04, 20.50it/s, now=None]\u001b[A\n",
      "t:  64%|██████████████████████████████████████████████████████████████████▏                                    | 165/257 [00:08<00:04, 20.48it/s, now=None]\u001b[A\n",
      "t:  65%|███████████████████████████████████████████████████████████████████▎                                   | 168/257 [00:08<00:04, 20.39it/s, now=None]\u001b[A\n",
      "t:  67%|████████████████████████████████████████████████████████████████████▌                                  | 171/257 [00:08<00:04, 20.43it/s, now=None]\u001b[A\n",
      "t:  68%|█████████████████████████████████████████████████████████████████████▋                                 | 174/257 [00:08<00:04, 20.47it/s, now=None]\u001b[A\n",
      "t:  69%|██████████████████████████████████████████████████████████████████████▉                                | 177/257 [00:09<00:03, 20.47it/s, now=None]\u001b[A\n",
      "t:  70%|████████████████████████████████████████████████████████████████████████▏                              | 180/257 [00:09<00:03, 20.51it/s, now=None]\u001b[A\n",
      "t:  71%|█████████████████████████████████████████████████████████████████████████▎                             | 183/257 [00:09<00:03, 20.35it/s, now=None]\u001b[A\n",
      "t:  72%|██████████████████████████████████████████████████████████████████████████▌                            | 186/257 [00:09<00:03, 19.95it/s, now=None]\u001b[A\n",
      "t:  73%|███████████████████████████████████████████████████████████████████████████▎                           | 188/257 [00:09<00:03, 19.40it/s, now=None]\u001b[A\n",
      "t:  74%|████████████████████████████████████████████████████████████████████████████▏                          | 190/257 [00:09<00:03, 19.38it/s, now=None]\u001b[A\n",
      "t:  75%|████████████████████████████████████████████████████████████████████████████▉                          | 192/257 [00:09<00:03, 19.17it/s, now=None]\u001b[A\n",
      "t:  75%|█████████████████████████████████████████████████████████████████████████████▊                         | 194/257 [00:09<00:03, 19.01it/s, now=None]\u001b[A\n",
      "t:  76%|██████████████████████████████████████████████████████████████████████████████▌                        | 196/257 [00:10<00:03, 18.79it/s, now=None]\u001b[A\n",
      "t:  77%|███████████████████████████████████████████████████████████████████████████████▎                       | 198/257 [00:10<00:03, 18.84it/s, now=None]\u001b[A\n",
      "t:  78%|████████████████████████████████████████████████████████████████████████████████▏                      | 200/257 [00:10<00:03, 18.83it/s, now=None]\u001b[A\n",
      "t:  79%|████████████████████████████████████████████████████████████████████████████████▉                      | 202/257 [00:10<00:02, 18.88it/s, now=None]\u001b[A\n",
      "t:  79%|█████████████████████████████████████████████████████████████████████████████████▊                     | 204/257 [00:10<00:02, 18.78it/s, now=None]\u001b[A\n",
      "t:  80%|██████████████████████████████████████████████████████████████████████████████████▌                    | 206/257 [00:10<00:02, 18.76it/s, now=None]\u001b[A\n",
      "t:  81%|███████████████████████████████████████████████████████████████████████████████████▎                   | 208/257 [00:10<00:02, 18.84it/s, now=None]\u001b[A\n",
      "t:  82%|████████████████████████████████████████████████████████████████████████████████████▏                  | 210/257 [00:10<00:02, 18.73it/s, now=None]\u001b[A\n",
      "t:  82%|████████████████████████████████████████████████████████████████████████████████████▉                  | 212/257 [00:10<00:02, 18.75it/s, now=None]\u001b[A\n",
      "t:  83%|█████████████████████████████████████████████████████████████████████████████████████▊                 | 214/257 [00:11<00:02, 18.76it/s, now=None]\u001b[A\n",
      "t:  84%|██████████████████████████████████████████████████████████████████████████████████████▌                | 216/257 [00:11<00:02, 18.81it/s, now=None]\u001b[A\n",
      "t:  85%|███████████████████████████████████████████████████████████████████████████████████████▎               | 218/257 [00:11<00:02, 18.78it/s, now=None]\u001b[A\n",
      "t:  86%|████████████████████████████████████████████████████████████████████████████████████████▏              | 220/257 [00:11<00:01, 18.80it/s, now=None]\u001b[A\n",
      "t:  86%|████████████████████████████████████████████████████████████████████████████████████████▉              | 222/257 [00:11<00:01, 18.68it/s, now=None]\u001b[A\n",
      "t:  87%|█████████████████████████████████████████████████████████████████████████████████████████▊             | 224/257 [00:11<00:01, 18.74it/s, now=None]\u001b[A\n",
      "t:  88%|██████████████████████████████████████████████████████████████████████████████████████████▌            | 226/257 [00:11<00:01, 18.73it/s, now=None]\u001b[A\n",
      "t:  89%|███████████████████████████████████████████████████████████████████████████████████████████▍           | 228/257 [00:11<00:01, 18.77it/s, now=None]\u001b[A\n",
      "t:  89%|████████████████████████████████████████████████████████████████████████████████████████████▏          | 230/257 [00:11<00:01, 18.75it/s, now=None]\u001b[A\n",
      "t:  90%|████████████████████████████████████████████████████████████████████████████████████████████▉          | 232/257 [00:11<00:01, 18.82it/s, now=None]\u001b[A\n",
      "t:  91%|█████████████████████████████████████████████████████████████████████████████████████████████▊         | 234/257 [00:12<00:01, 18.84it/s, now=None]\u001b[A\n",
      "t:  92%|██████████████████████████████████████████████████████████████████████████████████████████████▌        | 236/257 [00:12<00:01, 18.84it/s, now=None]\u001b[A\n",
      "t:  93%|███████████████████████████████████████████████████████████████████████████████████████████████▍       | 238/257 [00:12<00:01, 18.83it/s, now=None]\u001b[A\n",
      "t:  93%|████████████████████████████████████████████████████████████████████████████████████████████████▏      | 240/257 [00:12<00:00, 18.83it/s, now=None]\u001b[A\n",
      "t:  94%|████████████████████████████████████████████████████████████████████████████████████████████████▉      | 242/257 [00:12<00:00, 18.91it/s, now=None]\u001b[A\n",
      "t:  95%|█████████████████████████████████████████████████████████████████████████████████████████████████▊     | 244/257 [00:12<00:00, 18.89it/s, now=None]\u001b[A\n",
      "t:  96%|██████████████████████████████████████████████████████████████████████████████████████████████████▌    | 246/257 [00:12<00:00, 18.83it/s, now=None]\u001b[A\n",
      "t:  96%|███████████████████████████████████████████████████████████████████████████████████████████████████▍   | 248/257 [00:12<00:00, 18.95it/s, now=None]\u001b[A\n",
      "t:  97%|████████████████████████████████████████████████████████████████████████████████████████████████████▏  | 250/257 [00:12<00:00, 18.82it/s, now=None]\u001b[A\n",
      "t:  98%|████████████████████████████████████████████████████████████████████████████████████████████████████▉  | 252/257 [00:13<00:00, 18.77it/s, now=None]\u001b[A\n",
      "t:  99%|█████████████████████████████████████████████████████████████████████████████████████████████████████▊ | 254/257 [00:13<00:00, 18.65it/s, now=None]\u001b[A\n",
      "t: 100%|██████████████████████████████████████████████████████████████████████████████████████████████████████▌| 256/257 [00:13<00:00, 18.61it/s, now=None]\u001b[A\n",
      "chunk:  91%|██████████████████████████████████████████████████████████████████████████████████████████         | 191/210 [00:52<00:05,  3.61it/s, now=None]\u001b[A"
     ]
    },
    {
     "name": "stdout",
     "output_type": "stream",
     "text": [
      "Moviepy - Done !\n",
      "Moviepy - video ready test.mp4\n"
     ]
    }
   ],
   "source": [
    "file_path = os.path.join(os.getcwd(), \"like_and_subscribe_original.mp4\") \n",
    "video_clip = VideoFileClip(file_path).subclip(72.45, 81)\n",
    "fps = video_clip.fps\n",
    "duration = video_clip.duration\n",
    "w, h = video_clip.size\n",
    "size = video_clip.size\n",
    "\n",
    "masked_clip = moviepy.video.fx.all.mask_color(video_clip, color=[16,204,68], thr=20, s=3)\n",
    "masked_clip = masked_clip.set_position((0,85))\n",
    "\n",
    "background_clip = ColorClip(size =(w, h), color =[0, 255, 0])\n",
    "background_clip = background_clip.set_duration(duration).set_fps(fps)\n",
    "\n",
    "final_clip = editor.CompositeVideoClip([background_clip, masked_clip]).set_duration(duration)\n",
    "# final_clip.audio = final_audio\n",
    "final_clip.write_videofile('test.mp4')"
   ]
  },
  {
   "cell_type": "code",
   "execution_count": null,
   "id": "d0babde5-6068-4437-a1ce-836fb44e04a7",
   "metadata": {},
   "outputs": [],
   "source": []
  },
  {
   "cell_type": "markdown",
   "id": "20656f7a-ffd5-4d2d-905a-bd5d93264d2c",
   "metadata": {},
   "source": [
    "# Transition Please stand by"
   ]
  },
  {
   "cell_type": "code",
   "execution_count": null,
   "id": "f46eca46-bc25-40e9-8e51-f8e521cc425d",
   "metadata": {},
   "outputs": [],
   "source": []
  },
  {
   "cell_type": "code",
   "execution_count": 277,
   "id": "69f81d39-c283-4064-9539-0324dbac9435",
   "metadata": {},
   "outputs": [],
   "source": [
    "file_path = os.path.join(os.getcwd(), \"please_stand_by.png\") \n",
    "clip = ImageClip(file_path)\n",
    "clip = clip.set_duration(10)\n",
    "clip = clip.set_fps(100)"
   ]
  },
  {
   "cell_type": "code",
   "execution_count": 278,
   "id": "e1dcff44-22c6-4f66-81d8-c9f673534696",
   "metadata": {},
   "outputs": [
    {
     "name": "stderr",
     "output_type": "stream",
     "text": [
      "\n",
      "\u001b[A                                                                                                                                                        \n",
      "chunk: 100%|█████████████████████████████████████████████████████████████████████████████████████████████████████| 29/29 [05:46<00:00, 11.96s/it, now=None]\u001b[A\n",
      "\u001b[A                                                                                                                                                        \n",
      "chunk: 100%|█████████████████████████████████████████████████████████████████████████████████████████████████████| 29/29 [05:46<00:00, 11.96s/it, now=None]\u001b[A"
     ]
    },
    {
     "name": "stdout",
     "output_type": "stream",
     "text": [
      "Moviepy - Building video temp.mp4.\n",
      "Moviepy - Writing video temp.mp4\n",
      "\n"
     ]
    },
    {
     "name": "stderr",
     "output_type": "stream",
     "text": [
      "                                                                                                                                                           \n",
      "\u001b[A                                                                                                                                                        \n",
      "chunk: 100%|█████████████████████████████████████████████████████████████████████████████████████████████████████| 29/29 [06:03<00:00, 12.54s/it, now=None]\u001b[A\n",
      "\u001b[A                                                                                                                                                        \n",
      "chunk: 100%|█████████████████████████████████████████████████████████████████████████████████████████████████████| 29/29 [06:03<00:00, 12.54s/it, now=None]\u001b[A"
     ]
    },
    {
     "name": "stdout",
     "output_type": "stream",
     "text": [
      "Moviepy - Done !\n",
      "Moviepy - video ready temp.mp4\n"
     ]
    }
   ],
   "source": [
    "clip.write_videofile(\"temp.mp4\")"
   ]
  },
  {
   "cell_type": "code",
   "execution_count": 286,
   "id": "13fc1b4c-35b5-4c95-94d8-fa5f6af49d8c",
   "metadata": {},
   "outputs": [],
   "source": [
    "\n",
    "# Extracting audio from beep.mp4 to use with the above ImageCLip\n",
    "file_path = os.path.join(os.getcwd(), \"beep.mp4\")\n",
    "video_clip = VideoFileClip(file_path)\n",
    "duration = video_clip.duration\n",
    "w, h = video_clip.size\n",
    "size = video_clip.size\n",
    "\n",
    "audio = video_clip.audio\n",
    "audio = audio.volumex(0.5)\n",
    "# audio.write_audiofile('temp.mp3')"
   ]
  },
  {
   "cell_type": "code",
   "execution_count": null,
   "id": "4f644338-2306-4edd-9f29-61e5072aeaed",
   "metadata": {},
   "outputs": [],
   "source": []
  },
  {
   "cell_type": "code",
   "execution_count": 280,
   "id": "3ab669f2-eb67-420e-be70-ba3b5188c467",
   "metadata": {},
   "outputs": [
    {
     "name": "stderr",
     "output_type": "stream",
     "text": [
      "\n",
      "\u001b[A                                                                                                                                                        \n",
      "chunk: 100%|█████████████████████████████████████████████████████████████████████████████████████████████████████| 29/29 [06:24<00:00, 13.27s/it, now=None]\u001b[A\n",
      "\u001b[A                                                                                                                                                        \n",
      "chunk: 100%|█████████████████████████████████████████████████████████████████████████████████████████████████████| 29/29 [06:24<00:00, 13.27s/it, now=None]\u001b[A"
     ]
    },
    {
     "name": "stdout",
     "output_type": "stream",
     "text": [
      "Moviepy - Building video test.mp4.\n",
      "MoviePy - Writing audio in testTEMP_MPY_wvf_snd.mp3\n"
     ]
    },
    {
     "name": "stderr",
     "output_type": "stream",
     "text": [
      "                                                                                                                                                           \n",
      "\u001b[A                                                                                                                                                        \n",
      "chunk: 100%|█████████████████████████████████████████████████████████████████████████████████████████████████████| 29/29 [06:24<00:00, 13.27s/it, now=None]\u001b[A\n",
      "\u001b[A                                                                                                                                                        \n",
      "chunk: 100%|█████████████████████████████████████████████████████████████████████████████████████████████████████| 29/29 [06:24<00:00, 13.27s/it, now=None]\u001b[A"
     ]
    },
    {
     "name": "stdout",
     "output_type": "stream",
     "text": [
      "MoviePy - Done.\n",
      "Moviepy - Writing video test.mp4\n",
      "\n"
     ]
    },
    {
     "name": "stderr",
     "output_type": "stream",
     "text": [
      "                                                                                                                                                           \n",
      "\u001b[A                                                                                                                                                        \n",
      "chunk: 100%|█████████████████████████████████████████████████████████████████████████████████████████████████████| 29/29 [06:27<00:00, 13.35s/it, now=None]\u001b[A\n",
      "\u001b[A                                                                                                                                                        \n",
      "chunk: 100%|█████████████████████████████████████████████████████████████████████████████████████████████████████| 29/29 [06:27<00:00, 13.35s/it, now=None]\u001b[A"
     ]
    },
    {
     "name": "stdout",
     "output_type": "stream",
     "text": [
      "Moviepy - Done !\n",
      "Moviepy - video ready test.mp4\n"
     ]
    }
   ],
   "source": [
    "file_path = os.path.join(os.getcwd(), \"temp.mp4\") \n",
    "please_stand_by = VideoFileClip(\"temp.mp4\").subclip(3,4)\n",
    "please_stand_by.audio = audio\n",
    "please_stand_by.write_videofile(\"test.mp4\")"
   ]
  },
  {
   "cell_type": "code",
   "execution_count": null,
   "id": "d7a81883-d14a-4b37-a41a-13ae8ecbfb8c",
   "metadata": {},
   "outputs": [],
   "source": []
  },
  {
   "cell_type": "code",
   "execution_count": null,
   "id": "9601dcf6-9ce0-4fbb-8c02-c8a9652e2253",
   "metadata": {},
   "outputs": [],
   "source": []
  },
  {
   "cell_type": "code",
   "execution_count": null,
   "id": "99363703-cc6d-4773-8b66-74eb9fc0a6de",
   "metadata": {},
   "outputs": [],
   "source": []
  },
  {
   "cell_type": "code",
   "execution_count": 259,
   "id": "d17bc45b-d7df-4c62-a603-805fb12814ef",
   "metadata": {},
   "outputs": [],
   "source": [
    "\n",
    "\n",
    "# masked_clip = moviepy.video.fx.all.mask_color(video_clip, color=[16,204,68], thr=20, s=3)\n",
    "# masked_clip = masked_clip.set_position((0,85))\n",
    "\n",
    "# background_clip = ColorClip(size =(w, h), color =[0, 255, 0])\n",
    "# background_clip = background_clip.set_duration(duration).set_fps(fps)\n",
    "\n",
    "# final_clip = editor.CompositeVideoClip([background_clip, masked_clip]).set_duration(duration)\n",
    "# # final_clip.audio = final_audio\n",
    "# final_clip.write_videofile('test.mp4')"
   ]
  },
  {
   "cell_type": "code",
   "execution_count": null,
   "id": "e25a7ec3-52e0-400c-9153-b31916b81afa",
   "metadata": {},
   "outputs": [],
   "source": []
  },
  {
   "cell_type": "markdown",
   "id": "0b329a1a-561a-4f13-9f62-e2014bf731e5",
   "metadata": {},
   "source": [
    "# please standby youtube"
   ]
  },
  {
   "cell_type": "code",
   "execution_count": 288,
   "id": "58bbea62-f755-4db6-8c09-6f24aedc0f45",
   "metadata": {},
   "outputs": [],
   "source": [
    "file_path = os.path.join(os.getcwd(), \"please_stand_by_youtube.mp4\") "
   ]
  },
  {
   "cell_type": "code",
   "execution_count": 289,
   "id": "2ac01986-9a18-4e38-a398-7cce5e3d4a94",
   "metadata": {
    "tags": []
   },
   "outputs": [
    {
     "name": "stderr",
     "output_type": "stream",
     "text": [
      "\n",
      "\u001b[A                                                                                                                                                        \n",
      "chunk: 100%|█████████████████████████████████████████████████████████████████████████████████████████████████████| 29/29 [16:06<00:00, 33.34s/it, now=None]\u001b[A\n",
      "\u001b[A                                                                                                                                                        \n",
      "chunk: 100%|█████████████████████████████████████████████████████████████████████████████████████████████████████| 29/29 [16:06<00:00, 33.34s/it, now=None]\u001b[A"
     ]
    },
    {
     "name": "stdout",
     "output_type": "stream",
     "text": [
      "Moviepy - Building video temp.mp4.\n",
      "MoviePy - Writing audio in tempTEMP_MPY_wvf_snd.mp3\n"
     ]
    },
    {
     "name": "stderr",
     "output_type": "stream",
     "text": [
      "                                                                                                                                                           \n",
      "\u001b[A                                                                                                                                                        \n",
      "chunk: 100%|█████████████████████████████████████████████████████████████████████████████████████████████████████| 29/29 [16:06<00:00, 33.34s/it, now=None]\u001b[A\n",
      "\u001b[A                                                                                                                                                        \n",
      "chunk: 100%|█████████████████████████████████████████████████████████████████████████████████████████████████████| 29/29 [16:06<00:00, 33.34s/it, now=None]\u001b[A"
     ]
    },
    {
     "name": "stdout",
     "output_type": "stream",
     "text": [
      "MoviePy - Done.\n",
      "Moviepy - Writing video temp.mp4\n",
      "\n"
     ]
    },
    {
     "name": "stderr",
     "output_type": "stream",
     "text": [
      "                                                                                                                                                           \n",
      "\u001b[A                                                                                                                                                        \n",
      "chunk: 100%|█████████████████████████████████████████████████████████████████████████████████████████████████████| 29/29 [16:07<00:00, 33.36s/it, now=None]\u001b[A\n",
      "\u001b[A                                                                                                                                                        \n",
      "chunk: 100%|█████████████████████████████████████████████████████████████████████████████████████████████████████| 29/29 [16:07<00:00, 33.36s/it, now=None]\u001b[A"
     ]
    },
    {
     "name": "stdout",
     "output_type": "stream",
     "text": [
      "Moviepy - Done !\n",
      "Moviepy - video ready temp.mp4\n"
     ]
    }
   ],
   "source": [
    "video_clip = VideoFileClip(file_path).subclip(0,1)\n",
    "video_clip.audio = audio\n",
    "video_clip.write_videofile(\"temp.mp4\")"
   ]
  },
  {
   "cell_type": "code",
   "execution_count": null,
   "id": "101be051-c412-46dd-b05a-a5f8ca4d5b06",
   "metadata": {},
   "outputs": [],
   "source": []
  },
  {
   "cell_type": "code",
   "execution_count": null,
   "id": "2de9feff-9e58-4fd1-ab27-dd470c2936bc",
   "metadata": {},
   "outputs": [],
   "source": []
  },
  {
   "cell_type": "markdown",
   "id": "cfa6d19d-bdd9-4ac0-8fc5-6e924c3009e1",
   "metadata": {},
   "source": [
    "# Noice"
   ]
  },
  {
   "cell_type": "code",
   "execution_count": 8,
   "id": "5216405e-46bc-4912-bba5-faedf7e9b16a",
   "metadata": {},
   "outputs": [],
   "source": [
    "file_path = os.path.join(os.getcwd(), \"noice_original.mp4\") \n",
    "video_clip = VideoFileClip(file_path).subclip(22,24)\n",
    "video_clip.write_videofile(\"temp.mp4\")"
   ]
  },
  {
   "cell_type": "code",
   "execution_count": null,
   "id": "008d0058-9e7d-4f48-8d59-b7cb0851b0b2",
   "metadata": {},
   "outputs": [],
   "source": []
  },
  {
   "cell_type": "markdown",
   "id": "3b070b95-e653-4fac-8dff-376e22b15c80",
   "metadata": {},
   "source": [
    "# hehe boi"
   ]
  },
  {
   "cell_type": "markdown",
   "id": "a523b91a-282d-4488-af6a-ac4962893813",
   "metadata": {},
   "source": [
    "## good old rub"
   ]
  },
  {
   "cell_type": "code",
   "execution_count": 13,
   "id": "d3b822ee-c7ca-4c9a-9b70-37aa71a0f3c6",
   "metadata": {},
   "outputs": [
    {
     "name": "stderr",
     "output_type": "stream",
     "text": [
      "chunk: 100%|███████████████████████████████████████████████████████████████████████████████████████████████████████| 1/1 [00:09<00:00,  9.89s/it, now=None]"
     ]
    },
    {
     "name": "stdout",
     "output_type": "stream",
     "text": [
      "Moviepy - Building video good_old_rub.mp4.\n",
      "MoviePy - Writing audio in good_old_rubTEMP_MPY_wvf_snd.mp3\n"
     ]
    },
    {
     "name": "stderr",
     "output_type": "stream",
     "text": [
      "\n",
      "chunk:   0%|                                                                                                              | 0/45 [00:00<?, ?it/s, now=None]\u001b[A\n",
      "chunk: 100%|███████████████████████████████████████████████████████████████████████████████████████████████████████| 1/1 [00:09<00:00,  9.94s/it, now=None]\u001b[A"
     ]
    },
    {
     "name": "stdout",
     "output_type": "stream",
     "text": [
      "MoviePy - Done.\n",
      "Moviepy - Writing video good_old_rub.mp4\n",
      "\n"
     ]
    },
    {
     "name": "stderr",
     "output_type": "stream",
     "text": [
      "\n",
      "t:   0%|                                                                                                                  | 0/50 [00:00<?, ?it/s, now=None]\u001b[A\n",
      "chunk: 100%|███████████████████████████████████████████████████████████████████████████████████████████████████████| 1/1 [00:10<00:00, 10.14s/it, now=None]\u001b[A"
     ]
    },
    {
     "name": "stdout",
     "output_type": "stream",
     "text": [
      "Moviepy - Done !\n",
      "Moviepy - video ready good_old_rub.mp4\n"
     ]
    }
   ],
   "source": [
    "file_path = os.path.join(os.getcwd(), \"hehe_boi_original.mp4\") \n",
    "video_clip = VideoFileClip(file_path).subclip(100.3,102)\n",
    "video_clip.write_videofile(\"good_old_rub.mp4\")"
   ]
  },
  {
   "cell_type": "markdown",
   "id": "0ddfb7ff-9b57-4adb-8335-1b2c32ec80bc",
   "metadata": {},
   "source": [
    "## hehe boi"
   ]
  },
  {
   "cell_type": "code",
   "execution_count": 19,
   "id": "653dd7c8-1a22-40b3-aae7-698b7e38b20e",
   "metadata": {},
   "outputs": [
    {
     "name": "stderr",
     "output_type": "stream",
     "text": [
      "chunk: 100%|███████████████████████████████████████████████████████████████████████████████████████████████████████| 1/1 [01:33<00:00, 93.49s/it, now=None]"
     ]
    },
    {
     "name": "stdout",
     "output_type": "stream",
     "text": [
      "Moviepy - Building video hehe_boi.mp4.\n",
      "MoviePy - Writing audio in hehe_boiTEMP_MPY_wvf_snd.mp3\n"
     ]
    },
    {
     "name": "stderr",
     "output_type": "stream",
     "text": [
      "\n",
      "chunk:   0%|                                                                                                              | 0/38 [00:00<?, ?it/s, now=None]\u001b[A\n",
      "chunk: 100%|███████████████████████████████████████████████████████████████████████████████████████████████████████| 1/1 [01:33<00:00, 93.54s/it, now=None]\u001b[A"
     ]
    },
    {
     "name": "stdout",
     "output_type": "stream",
     "text": [
      "MoviePy - Done.\n",
      "Moviepy - Writing video hehe_boi.mp4\n",
      "\n"
     ]
    },
    {
     "name": "stderr",
     "output_type": "stream",
     "text": [
      "\n",
      "t:   0%|                                                                                                                  | 0/43 [00:00<?, ?it/s, now=None]\u001b[A\n",
      "chunk: 100%|███████████████████████████████████████████████████████████████████████████████████████████████████████| 1/1 [01:33<00:00, 93.75s/it, now=None]\u001b[A"
     ]
    },
    {
     "name": "stdout",
     "output_type": "stream",
     "text": [
      "Moviepy - Done !\n",
      "Moviepy - video ready hehe_boi.mp4\n"
     ]
    }
   ],
   "source": [
    "file_path = os.path.join(os.getcwd(), \"hehe_boi_original.mp4\") \n",
    "video_clip = VideoFileClip(file_path).subclip(107.3,109)\n",
    "video_clip.write_videofile(\"hehe_boi.mp4\")"
   ]
  },
  {
   "cell_type": "code",
   "execution_count": null,
   "id": "44666c31-1332-4a92-b526-fdea39884429",
   "metadata": {},
   "outputs": [],
   "source": []
  },
  {
   "cell_type": "markdown",
   "id": "e9acbeca-fe74-44d6-b794-b97d00d753bf",
   "metadata": {},
   "source": [
    "# ainsley original"
   ]
  },
  {
   "cell_type": "code",
   "execution_count": 30,
   "id": "8b48abc5-63cb-47e7-8721-6bfa20fe1720",
   "metadata": {},
   "outputs": [
    {
     "name": "stderr",
     "output_type": "stream",
     "text": [
      "chunk: 100%|██████████████████████████████████████████████████████████████████████████████████████████████████████| 1/1 [12:28<00:00, 748.62s/it, now=None]"
     ]
    },
    {
     "name": "stdout",
     "output_type": "stream",
     "text": [
      "Moviepy - Building video slap.mp4.\n",
      "MoviePy - Writing audio in slapTEMP_MPY_wvf_snd.mp3\n"
     ]
    },
    {
     "name": "stderr",
     "output_type": "stream",
     "text": [
      "\n",
      "chunk:   0%|                                                                                                              | 0/45 [00:00<?, ?it/s, now=None]\u001b[A\n",
      "chunk: 100%|██████████████████████████████████████████████████████████████████████████████████████████████████████| 1/1 [12:28<00:00, 748.68s/it, now=None]\u001b[A"
     ]
    },
    {
     "name": "stdout",
     "output_type": "stream",
     "text": [
      "MoviePy - Done.\n",
      "Moviepy - Writing video slap.mp4\n",
      "\n"
     ]
    },
    {
     "name": "stderr",
     "output_type": "stream",
     "text": [
      "\n",
      "t:   0%|                                                                                                                  | 0/50 [00:00<?, ?it/s, now=None]\u001b[A\n",
      "t:  58%|████████████████████████████████████████████████████████████▎                                           | 29/50 [00:00<00:00, 278.42it/s, now=None]\u001b[A\n",
      "chunk: 100%|██████████████████████████████████████████████████████████████████████████████████████████████████████| 1/1 [12:29<00:00, 749.45s/it, now=None]\u001b[A"
     ]
    },
    {
     "name": "stdout",
     "output_type": "stream",
     "text": [
      "Moviepy - Done !\n",
      "Moviepy - video ready slap.mp4\n"
     ]
    }
   ],
   "source": [
    "file_path = os.path.join(os.getcwd(), \"ainsley_original.mp4\") \n",
    "video_clip = VideoFileClip(file_path).subclip(112.5,114.5)\n",
    "video_clip.write_videofile(\"slap.mp4\")"
   ]
  },
  {
   "cell_type": "code",
   "execution_count": null,
   "id": "156aa957-955c-4f5b-912d-2d745defa6e2",
   "metadata": {},
   "outputs": [],
   "source": []
  },
  {
   "cell_type": "markdown",
   "id": "c42d7b0f-8d98-4262-9ac2-b35d941a2ba8",
   "metadata": {},
   "source": [
    "# Adding credits"
   ]
  },
  {
   "cell_type": "code",
   "execution_count": 31,
   "id": "8cc129bf-2be1-4233-89eb-10836e3d06ea",
   "metadata": {
    "collapsed": true,
    "jupyter": {
     "outputs_hidden": true
    },
    "tags": []
   },
   "outputs": [
    {
     "name": "stderr",
     "output_type": "stream",
     "text": [
      "chunk: 100%|██████████████████████████████████████████████████████████████████████████████████████████████████████| 1/1 [15:48<00:00, 948.09s/it, now=None]"
     ]
    },
    {
     "name": "stdout",
     "output_type": "stream",
     "text": [
      "Moviepy - Building video slap_credited.mp4.\n",
      "MoviePy - Writing audio in slap_creditedTEMP_MPY_wvf_snd.mp3\n"
     ]
    },
    {
     "name": "stderr",
     "output_type": "stream",
     "text": [
      "\n",
      "chunk:   0%|                                                                                                              | 0/45 [00:00<?, ?it/s, now=None]\u001b[A\n",
      "chunk: 100%|██████████████████████████████████████████████████████████████████████████████████████████████████████| 1/1 [15:48<00:00, 948.13s/it, now=None]\u001b[A"
     ]
    },
    {
     "name": "stdout",
     "output_type": "stream",
     "text": [
      "MoviePy - Done.\n",
      "Moviepy - Writing video slap_credited.mp4\n",
      "\n"
     ]
    },
    {
     "name": "stderr",
     "output_type": "stream",
     "text": [
      "\n",
      "t:   0%|                                                                                                                  | 0/51 [00:00<?, ?it/s, now=None]\u001b[A\n",
      "t:  18%|██████████████████▋                                                                                       | 9/51 [00:00<00:00, 83.52it/s, now=None]\u001b[A\n",
      "t:  35%|█████████████████████████████████████                                                                    | 18/51 [00:00<00:00, 85.73it/s, now=None]\u001b[A\n",
      "t:  53%|███████████████████████████████████████████████████████▌                                                 | 27/51 [00:00<00:00, 87.45it/s, now=None]\u001b[A\n",
      "t:  73%|████████████████████████████████████████████████████████████████████████████▏                            | 37/51 [00:00<00:00, 89.16it/s, now=None]\u001b[A\n",
      "t:  90%|██████████████████████████████████████████████████████████████████████████████████████████████▋          | 46/51 [00:00<00:00, 87.41it/s, now=None]\u001b[A\n",
      "chunk: 100%|██████████████████████████████████████████████████████████████████████████████████████████████████████| 1/1 [15:49<00:00, 949.18s/it, now=None]\u001b[A"
     ]
    },
    {
     "name": "stdout",
     "output_type": "stream",
     "text": [
      "Moviepy - Done !\n",
      "Moviepy - video ready slap_credited.mp4\n"
     ]
    }
   ],
   "source": [
    "file_path = os.path.join(os.getcwd(), \"slap.mp4\") \n",
    "\n",
    "video_clip = VideoFileClip(file_path)\n",
    "fps = video_clip.fps\n",
    "duration = video_clip.reader.duration\n",
    "w, h = video_clip.size\n",
    "\n",
    "credits_text = TextClip('Credits: @BBC Good Food', fontsize=24, color='white', size = [w, 30], align='West')\n",
    "credits_text = credits_text.set_duration(duration).set_fps(fps)\n",
    "credits_text = credits_text.set_pos((\"top\"))\n",
    "\n",
    "final_clip = CompositeVideoClip([video_clip, credits_text], size = [w, h])\n",
    "\n",
    "final_clip.write_videofile(\"slap_credited.mp4\")"
   ]
  },
  {
   "cell_type": "code",
   "execution_count": 33,
   "id": "4ec4beb9-0c68-44cc-9007-c7c53e07034f",
   "metadata": {
    "collapsed": true,
    "jupyter": {
     "outputs_hidden": true
    },
    "tags": []
   },
   "outputs": [
    {
     "name": "stderr",
     "output_type": "stream",
     "text": [
      "chunk: 100%|█████████████████████████████████████████████████████████████████████████████████████████████████████| 1/1 [16:46<00:00, 1006.31s/it, now=None]"
     ]
    },
    {
     "name": "stdout",
     "output_type": "stream",
     "text": [
      "Moviepy - Building video hehe_boi_credited.mp4.\n",
      "MoviePy - Writing audio in hehe_boi_creditedTEMP_MPY_wvf_snd.mp3\n"
     ]
    },
    {
     "name": "stderr",
     "output_type": "stream",
     "text": [
      "\n",
      "chunk:   0%|                                                                                                              | 0/39 [00:00<?, ?it/s, now=None]\u001b[A\n",
      "chunk: 100%|█████████████████████████████████████████████████████████████████████████████████████████████████████| 1/1 [16:46<00:00, 1006.35s/it, now=None]\u001b[A"
     ]
    },
    {
     "name": "stdout",
     "output_type": "stream",
     "text": [
      "MoviePy - Done.\n",
      "Moviepy - Writing video hehe_boi_credited.mp4\n",
      "\n"
     ]
    },
    {
     "name": "stderr",
     "output_type": "stream",
     "text": [
      "\n",
      "t:   0%|                                                                                                                  | 0/44 [00:00<?, ?it/s, now=None]\u001b[A\n",
      "t:  86%|█████████████████████████████████████████████████████████████████████████████████████████▊              | 38/44 [00:00<00:00, 375.57it/s, now=None]\u001b[A\n",
      "chunk: 100%|█████████████████████████████████████████████████████████████████████████████████████████████████████| 1/1 [16:46<00:00, 1006.60s/it, now=None]\u001b[A"
     ]
    },
    {
     "name": "stdout",
     "output_type": "stream",
     "text": [
      "Moviepy - Done !\n",
      "Moviepy - video ready hehe_boi_credited.mp4\n"
     ]
    }
   ],
   "source": [
    "file_path = os.path.join(os.getcwd(), \"hehe_boi.mp4\") \n",
    "\n",
    "video_clip = VideoFileClip(file_path)\n",
    "fps = video_clip.fps\n",
    "duration = video_clip.reader.duration\n",
    "w, h = video_clip.size\n",
    "\n",
    "credits_text = TextClip('Credits: @BBC Good Food', fontsize=24, color='white', size = [w, 30], align='West')\n",
    "credits_text = credits_text.set_duration(duration).set_fps(fps)\n",
    "credits_text = credits_text.set_pos((\"top\"))\n",
    "\n",
    "final_clip = CompositeVideoClip([video_clip, credits_text], size = [w, h])\n",
    "\n",
    "final_clip.write_videofile(\"hehe_boi_credited.mp4\")"
   ]
  },
  {
   "cell_type": "code",
   "execution_count": 35,
   "id": "63b50ce6-7ac1-409c-98f5-53169cc04e0f",
   "metadata": {},
   "outputs": [
    {
     "name": "stderr",
     "output_type": "stream",
     "text": [
      "chunk: 100%|█████████████████████████████████████████████████████████████████████████████████████████████████████| 1/1 [18:20<00:00, 1100.12s/it, now=None]"
     ]
    },
    {
     "name": "stdout",
     "output_type": "stream",
     "text": [
      "Moviepy - Building video good_old_rub_credited.mp4.\n",
      "MoviePy - Writing audio in good_old_rub_creditedTEMP_MPY_wvf_snd.mp3\n"
     ]
    },
    {
     "name": "stderr",
     "output_type": "stream",
     "text": [
      "\n",
      "chunk:   0%|                                                                                                              | 0/39 [00:00<?, ?it/s, now=None]\u001b[A\n",
      "chunk: 100%|█████████████████████████████████████████████████████████████████████████████████████████████████████| 1/1 [18:20<00:00, 1100.16s/it, now=None]\u001b[A"
     ]
    },
    {
     "name": "stdout",
     "output_type": "stream",
     "text": [
      "MoviePy - Done.\n",
      "Moviepy - Writing video good_old_rub_credited.mp4\n",
      "\n"
     ]
    },
    {
     "name": "stderr",
     "output_type": "stream",
     "text": [
      "\n",
      "t:   0%|                                                                                                                  | 0/44 [00:00<?, ?it/s, now=None]\u001b[A\n",
      "t:  89%|████████████████████████████████████████████████████████████████████████████████████████████▏           | 39/44 [00:00<00:00, 383.60it/s, now=None]\u001b[A\n",
      "chunk: 100%|█████████████████████████████████████████████████████████████████████████████████████████████████████| 1/1 [18:20<00:00, 1100.44s/it, now=None]\u001b[A"
     ]
    },
    {
     "name": "stdout",
     "output_type": "stream",
     "text": [
      "Moviepy - Done !\n",
      "Moviepy - video ready good_old_rub_credited.mp4\n"
     ]
    }
   ],
   "source": [
    "file_path = os.path.join(os.getcwd(), \"good_old_rub.mp4\") \n",
    "\n",
    "video_clip = VideoFileClip(file_path)\n",
    "fps = video_clip.fps\n",
    "duration = video_clip.reader.duration\n",
    "w, h = video_clip.size\n",
    "\n",
    "credits_text = TextClip('Credits: @BBC Good Food', fontsize=24, color='white', size = [w, 30], align='West')\n",
    "credits_text = credits_text.set_duration(duration).set_fps(fps)\n",
    "credits_text = credits_text.set_pos((\"top\"))\n",
    "\n",
    "final_clip = CompositeVideoClip([video_clip, credits_text], size = [w, h])\n",
    "\n",
    "final_clip.write_videofile(\"good_old_rub_credited.mp4\")"
   ]
  },
  {
   "cell_type": "code",
   "execution_count": null,
   "id": "3d0648ec-9b8c-47c6-b9d6-755462214d83",
   "metadata": {},
   "outputs": [],
   "source": []
  },
  {
   "cell_type": "code",
   "execution_count": null,
   "id": "0421d60e-e0a2-47bc-8bfa-b5d81ff3564b",
   "metadata": {},
   "outputs": [],
   "source": []
  },
  {
   "cell_type": "markdown",
   "id": "47dcb931-16ef-4de3-8ad1-4eae1d6aa91e",
   "metadata": {},
   "source": [
    "# Tripaloski outtro"
   ]
  },
  {
   "cell_type": "code",
   "execution_count": 39,
   "id": "e30d85f8-2066-4655-8493-ab014628d734",
   "metadata": {
    "collapsed": true,
    "jupyter": {
     "outputs_hidden": true
    },
    "tags": []
   },
   "outputs": [
    {
     "name": "stderr",
     "output_type": "stream",
     "text": [
      "chunk: 100%|█████████████████████████████████████████████████████████████████████████████████████████████████████| 1/1 [57:47<00:00, 3467.70s/it, now=None]"
     ]
    },
    {
     "name": "stdout",
     "output_type": "stream",
     "text": [
      "Moviepy - Building video tripaloski.mp4.\n",
      "MoviePy - Writing audio in tripaloskiTEMP_MPY_wvf_snd.mp3\n"
     ]
    },
    {
     "name": "stderr",
     "output_type": "stream",
     "text": [
      "\n",
      "chunk:   0%|                                                                                                             | 0/971 [00:00<?, ?it/s, now=None]\u001b[A\n",
      "chunk:  11%|███████████                                                                                      | 111/971 [00:00<00:00, 1095.80it/s, now=None]\u001b[A\n",
      "chunk:  23%|██████████████████████▊                                                                          | 228/971 [00:00<00:00, 1138.23it/s, now=None]\u001b[A\n",
      "chunk:  36%|██████████████████████████████████▊                                                              | 348/971 [00:00<00:00, 1162.50it/s, now=None]\u001b[A\n",
      "chunk:  48%|██████████████████████████████████████████████▍                                                  | 465/971 [00:00<00:00, 1140.60it/s, now=None]\u001b[A\n",
      "chunk:  60%|██████████████████████████████████████████████████████████▏                                      | 583/971 [00:00<00:00, 1149.33it/s, now=None]\u001b[A\n",
      "chunk:  72%|█████████████████████████████████████████████████████████████████████▉                           | 700/971 [00:00<00:00, 1154.88it/s, now=None]\u001b[A\n",
      "chunk:  84%|█████████████████████████████████████████████████████████████████████████████████▌               | 817/971 [00:00<00:00, 1153.12it/s, now=None]\u001b[A\n",
      "chunk:  98%|██████████████████████████████████████████████████████████████████████████████████████████████▋  | 948/971 [00:00<00:00, 1199.39it/s, now=None]\u001b[A\n",
      "chunk: 100%|█████████████████████████████████████████████████████████████████████████████████████████████████████| 1/1 [57:48<00:00, 3468.55s/it, now=None]\u001b[A"
     ]
    },
    {
     "name": "stdout",
     "output_type": "stream",
     "text": [
      "MoviePy - Done.\n",
      "Moviepy - Writing video tripaloski.mp4\n",
      "\n"
     ]
    },
    {
     "name": "stderr",
     "output_type": "stream",
     "text": [
      "\n",
      "t:   0%|                                                                                                                | 0/1495 [00:00<?, ?it/s, now=None]\u001b[A\n",
      "t:   2%|█▋                                                                                                    | 24/1495 [00:00<00:06, 230.86it/s, now=None]\u001b[A\n",
      "t:   3%|███▎                                                                                                  | 48/1495 [00:00<00:07, 196.67it/s, now=None]\u001b[A\n",
      "t:   5%|████▋                                                                                                 | 68/1495 [00:00<00:08, 167.86it/s, now=None]\u001b[A\n",
      "t:   6%|█████▉                                                                                                | 87/1495 [00:00<00:08, 174.10it/s, now=None]\u001b[A\n",
      "t:   7%|███████                                                                                              | 105/1495 [00:00<00:07, 175.58it/s, now=None]\u001b[A\n",
      "t:   8%|████████▍                                                                                            | 124/1495 [00:00<00:07, 178.59it/s, now=None]\u001b[A\n",
      "t:  10%|█████████▋                                                                                           | 144/1495 [00:00<00:07, 184.30it/s, now=None]\u001b[A\n",
      "t:  11%|███████████                                                                                          | 164/1495 [00:00<00:07, 187.62it/s, now=None]\u001b[A\n",
      "t:  12%|████████████▎                                                                                        | 183/1495 [00:01<00:07, 182.94it/s, now=None]\u001b[A\n",
      "t:  14%|█████████████▋                                                                                       | 202/1495 [00:01<00:07, 180.15it/s, now=None]\u001b[A\n",
      "t:  15%|██████████████▉                                                                                      | 221/1495 [00:01<00:07, 177.87it/s, now=None]\u001b[A\n",
      "t:  16%|████████████████▏                                                                                    | 240/1495 [00:01<00:06, 180.47it/s, now=None]\u001b[A\n",
      "t:  17%|█████████████████▌                                                                                   | 260/1495 [00:01<00:06, 185.45it/s, now=None]\u001b[A\n",
      "t:  19%|██████████████████▊                                                                                  | 279/1495 [00:01<00:06, 183.38it/s, now=None]\u001b[A\n",
      "t:  20%|████████████████████▏                                                                                | 298/1495 [00:01<00:06, 178.78it/s, now=None]\u001b[A\n",
      "t:  21%|█████████████████████▎                                                                               | 316/1495 [00:01<00:06, 177.54it/s, now=None]\u001b[A\n",
      "t:  22%|██████████████████████▌                                                                              | 334/1495 [00:01<00:06, 171.39it/s, now=None]\u001b[A\n",
      "t:  24%|███████████████████████▊                                                                             | 352/1495 [00:01<00:06, 169.74it/s, now=None]\u001b[A\n",
      "t:  25%|████████████████████████▉                                                                            | 370/1495 [00:02<00:06, 162.87it/s, now=None]\u001b[A\n",
      "t:  26%|██████████████████████████▏                                                                          | 387/1495 [00:02<00:07, 151.64it/s, now=None]\u001b[A\n",
      "t:  27%|███████████████████████████▏                                                                         | 403/1495 [00:02<00:07, 143.33it/s, now=None]\u001b[A\n",
      "t:  28%|████████████████████████████▏                                                                        | 418/1495 [00:02<00:07, 144.89it/s, now=None]\u001b[A\n",
      "t:  29%|█████████████████████████████▎                                                                       | 434/1495 [00:02<00:07, 147.53it/s, now=None]\u001b[A\n",
      "t:  30%|██████████████████████████████▎                                                                      | 449/1495 [00:02<00:07, 147.75it/s, now=None]\u001b[A\n",
      "t:  31%|███████████████████████████████▍                                                                     | 466/1495 [00:02<00:06, 152.87it/s, now=None]\u001b[A\n",
      "t:  32%|████████████████████████████████▋                                                                    | 484/1495 [00:02<00:06, 159.65it/s, now=None]\u001b[A\n",
      "t:  34%|█████████████████████████████████▉                                                                   | 503/1495 [00:02<00:05, 166.90it/s, now=None]\u001b[A\n",
      "t:  35%|███████████████████████████████████▏                                                                 | 521/1495 [00:03<00:05, 169.46it/s, now=None]\u001b[A\n",
      "t:  36%|████████████████████████████████████▎                                                                | 538/1495 [00:03<00:05, 166.84it/s, now=None]\u001b[A\n",
      "t:  37%|█████████████████████████████████████▌                                                               | 556/1495 [00:03<00:05, 170.25it/s, now=None]\u001b[A\n",
      "t:  38%|██████████████████████████████████████▊                                                              | 575/1495 [00:03<00:05, 175.90it/s, now=None]\u001b[A\n",
      "t:  40%|████████████████████████████████████████                                                             | 593/1495 [00:03<00:05, 176.70it/s, now=None]\u001b[A\n",
      "t:  41%|█████████████████████████████████████████▍                                                           | 613/1495 [00:03<00:04, 182.42it/s, now=None]\u001b[A\n",
      "t:  42%|██████████████████████████████████████████▋                                                          | 632/1495 [00:03<00:04, 181.00it/s, now=None]\u001b[A\n",
      "t:  44%|███████████████████████████████████████████▉                                                         | 651/1495 [00:03<00:04, 181.02it/s, now=None]\u001b[A\n",
      "t:  45%|█████████████████████████████████████████████▎                                                       | 670/1495 [00:03<00:04, 182.26it/s, now=None]\u001b[A\n",
      "t:  46%|██████████████████████████████████████████████▌                                                      | 689/1495 [00:03<00:04, 180.57it/s, now=None]\u001b[A\n",
      "t:  47%|███████████████████████████████████████████████▊                                                     | 708/1495 [00:04<00:04, 181.93it/s, now=None]\u001b[A\n",
      "t:  49%|█████████████████████████████████████████████████                                                    | 727/1495 [00:04<00:04, 181.90it/s, now=None]\u001b[A\n",
      "t:  50%|██████████████████████████████████████████████████▍                                                  | 746/1495 [00:04<00:04, 180.26it/s, now=None]\u001b[A\n",
      "t:  51%|███████████████████████████████████████████████████▋                                                 | 765/1495 [00:04<00:04, 178.00it/s, now=None]\u001b[A\n",
      "t:  52%|████████████████████████████████████████████████████▉                                                | 784/1495 [00:04<00:03, 180.03it/s, now=None]\u001b[A\n",
      "t:  54%|██████████████████████████████████████████████████████▏                                              | 803/1495 [00:04<00:03, 181.09it/s, now=None]\u001b[A\n",
      "t:  55%|███████████████████████████████████████████████████████▌                                             | 822/1495 [00:04<00:03, 180.73it/s, now=None]\u001b[A\n",
      "t:  56%|████████████████████████████████████████████████████████▊                                            | 841/1495 [00:04<00:03, 180.82it/s, now=None]\u001b[A\n",
      "t:  58%|██████████████████████████████████████████████████████████▏                                          | 861/1495 [00:04<00:03, 183.83it/s, now=None]\u001b[A\n",
      "t:  59%|███████████████████████████████████████████████████████████▍                                         | 880/1495 [00:05<00:03, 182.69it/s, now=None]\u001b[A\n",
      "t:  60%|████████████████████████████████████████████████████████████▋                                        | 899/1495 [00:05<00:03, 182.89it/s, now=None]\u001b[A\n",
      "t:  61%|██████████████████████████████████████████████████████████████                                       | 918/1495 [00:05<00:03, 179.27it/s, now=None]\u001b[A\n",
      "t:  63%|███████████████████████████████████████████████████████████████▏                                     | 936/1495 [00:05<00:03, 172.44it/s, now=None]\u001b[A\n",
      "t:  64%|████████████████████████████████████████████████████████████████▍                                    | 954/1495 [00:05<00:03, 174.31it/s, now=None]\u001b[A\n",
      "t:  65%|█████████████████████████████████████████████████████████████████▋                                   | 972/1495 [00:05<00:03, 169.82it/s, now=None]\u001b[A\n",
      "t:  66%|██████████████████████████████████████████████████████████████████▉                                  | 990/1495 [00:05<00:03, 168.26it/s, now=None]\u001b[A\n",
      "t:  67%|███████████████████████████████████████████████████████████████████▎                                | 1007/1495 [00:05<00:02, 162.83it/s, now=None]\u001b[A\n",
      "t:  68%|████████████████████████████████████████████████████████████████████▍                               | 1024/1495 [00:05<00:02, 163.35it/s, now=None]\u001b[A\n",
      "t:  70%|█████████████████████████████████████████████████████████████████████▋                              | 1041/1495 [00:06<00:02, 159.00it/s, now=None]\u001b[A\n",
      "t:  71%|██████████████████████████████████████████████████████████████████████▊                             | 1059/1495 [00:06<00:02, 162.91it/s, now=None]\u001b[A\n",
      "t:  72%|████████████████████████████████████████████████████████████████████████                            | 1077/1495 [00:06<00:02, 166.30it/s, now=None]\u001b[A\n",
      "t:  73%|█████████████████████████████████████████████████████████████████████████▎                          | 1096/1495 [00:06<00:02, 172.10it/s, now=None]\u001b[A\n",
      "t:  75%|███████████████████████████████████████████████████████████████████████████                         | 1122/1495 [00:06<00:01, 196.30it/s, now=None]\u001b[A\n",
      "t:  77%|████████████████████████████████████████████████████████████████████████████▊                       | 1148/1495 [00:06<00:01, 214.22it/s, now=None]\u001b[A\n",
      "t:  79%|██████████████████████████████████████████████████████████████████████████████▉                     | 1181/1495 [00:06<00:01, 246.92it/s, now=None]\u001b[A\n",
      "t:  81%|█████████████████████████████████████████████████████████████████████████████████▍                  | 1217/1495 [00:06<00:00, 278.46it/s, now=None]\u001b[A\n",
      "t:  84%|███████████████████████████████████████████████████████████████████████████████████▋                | 1252/1495 [00:06<00:00, 298.86it/s, now=None]\u001b[A\n",
      "t:  86%|██████████████████████████████████████████████████████████████████████████████████████▏             | 1289/1495 [00:06<00:00, 318.73it/s, now=None]\u001b[A\n",
      "t:  88%|████████████████████████████████████████████████████████████████████████████████████████▍           | 1323/1495 [00:07<00:00, 323.97it/s, now=None]\u001b[A\n",
      "t:  91%|██████████████████████████████████████████████████████████████████████████████████████████▉         | 1360/1495 [00:07<00:00, 335.90it/s, now=None]\u001b[A\n",
      "t:  93%|█████████████████████████████████████████████████████████████████████████████████████████████▍      | 1397/1495 [00:07<00:00, 345.86it/s, now=None]\u001b[A\n",
      "t:  96%|███████████████████████████████████████████████████████████████████████████████████████████████▉    | 1434/1495 [00:07<00:00, 352.12it/s, now=None]\u001b[A\n",
      "t:  98%|██████████████████████████████████████████████████████████████████████████████████████████████████▎ | 1470/1495 [00:07<00:00, 347.86it/s, now=None]\u001b[A\n",
      "chunk: 100%|█████████████████████████████████████████████████████████████████████████████████████████████████████| 1/1 [57:56<00:00, 3476.13s/it, now=None]\u001b[A"
     ]
    },
    {
     "name": "stdout",
     "output_type": "stream",
     "text": [
      "Moviepy - Done !\n",
      "Moviepy - video ready tripaloski.mp4\n"
     ]
    }
   ],
   "source": [
    "file_path = os.path.join(os.getcwd(), \"tripaloski_original.mp4\") \n",
    "\n",
    "video_clip = VideoFileClip(file_path).subclip(15, 59)\n",
    "fps = video_clip.fps\n",
    "duration = video_clip.reader.duration\n",
    "w, h = video_clip.size\n",
    "audio_clip = video_clip.audio\n",
    "\n",
    "audio_clip = audio_clip.audio_fadein(1)\n",
    "\n",
    "credits_text = TextClip('Credits: @Pocica, Song: @Davay', fontsize=24, color='white', size = [w, 30], align='West')\n",
    "credits_text = credits_text.set_duration(duration).set_fps(fps)\n",
    "credits_text = credits_text.set_pos((\"top\"))\n",
    "\n",
    "# watermark_text = TextClip('@VidsFromAroundTheInternet', fontsize=30, color='white', size = [w, 30], align='East')\n",
    "# watermark_text = watermark_text.set_duration(duration).set_fps(fps)\n",
    "# watermark_text = watermark_text.set_pos((\"bottom\"))\n",
    "\n",
    "final_clip = CompositeVideoClip([video_clip, credits_text], size = [w, h])\n",
    "\n",
    "final_clip.audio = audio_clip\n",
    "\n",
    "final_clip.write_videofile(\"tripaloski.mp4\")"
   ]
  },
  {
   "cell_type": "markdown",
   "id": "5abf6aaf-aaf5-4418-945c-0c4e3cd2383e",
   "metadata": {},
   "source": [
    "# Title for a video"
   ]
  },
  {
   "cell_type": "code",
   "execution_count": 67,
   "id": "028d2970-0d14-4f5a-ab6e-57cce99c85b3",
   "metadata": {},
   "outputs": [],
   "source": [
    "import logging, os\n",
    "import moviepy\n",
    "from moviepy.editor import *\n",
    "\n",
    "file_path = os.path.join(os.getcwd(), \"t3_p82nvt.mp4\")\n",
    "\n",
    "video_clip = VideoFileClip(file_path)\n",
    "title = \"Hello world\"\n",
    "fps = video_clip.fps\n",
    "duration = video_clip.duration\n",
    "w, h = video_clip.size\n",
    "size = video_clip.size"
   ]
  },
  {
   "cell_type": "code",
   "execution_count": 76,
   "id": "8545d96f-78b7-413f-8162-79ccb3717a07",
   "metadata": {},
   "outputs": [],
   "source": [
    "title_clip = TextClip(title, fontsize=18, color='white', size= [w,24], align='West', stroke_width=1.5)\n",
    "# words per sec\n",
    "wps = 3\n",
    "title_clip_duration = max(len(title)/wps, duration/2)\n",
    "title_clip = title_clip.set_pos((\"bottom\"))\n",
    "title_clip = title_clip.set_duration(title_clip_duration).set_fps(fps)"
   ]
  },
  {
   "cell_type": "code",
   "execution_count": 77,
   "id": "7eed596e-609d-4fef-bae3-7c5d7482114e",
   "metadata": {},
   "outputs": [
    {
     "name": "stdout",
     "output_type": "stream",
     "text": [
      "Moviepy - Building video temp.mp4.\n",
      "MoviePy - Writing audio in tempTEMP_MPY_wvf_snd.mp3\n"
     ]
    },
    {
     "name": "stderr",
     "output_type": "stream",
     "text": [
      "                                                                                                                                          \r"
     ]
    },
    {
     "name": "stdout",
     "output_type": "stream",
     "text": [
      "MoviePy - Done.\n",
      "Moviepy - Writing video temp.mp4\n",
      "\n"
     ]
    },
    {
     "name": "stderr",
     "output_type": "stream",
     "text": [
      "                                                                                                                                          \r"
     ]
    },
    {
     "name": "stdout",
     "output_type": "stream",
     "text": [
      "Moviepy - Done !\n",
      "Moviepy - video ready temp.mp4\n"
     ]
    }
   ],
   "source": [
    "final_clip = CompositeVideoClip([video_clip, title_clip, watermark_clip], size = [w, h])\n",
    "\n",
    "final_clip.write_videofile('temp.mp4')"
   ]
  },
  {
   "cell_type": "code",
   "execution_count": null,
   "id": "f56aadf6-3e96-4b6c-ad9e-7c35994fe9f1",
   "metadata": {},
   "outputs": [],
   "source": []
  },
  {
   "cell_type": "markdown",
   "id": "912a3446-4929-4c15-8e6d-52a19195721c",
   "metadata": {},
   "source": [
    "# Intro clip editing"
   ]
  },
  {
   "cell_type": "code",
   "execution_count": 22,
   "id": "33698a2c-b2dc-4ff4-9e0d-01f21cb36f2a",
   "metadata": {},
   "outputs": [],
   "source": [
    "import logging, os\n",
    "import moviepy\n",
    "from moviepy.editor import *"
   ]
  },
  {
   "cell_type": "code",
   "execution_count": 23,
   "id": "2c7bbf8f-4af3-4f96-b84e-e115be7c0cf1",
   "metadata": {},
   "outputs": [],
   "source": [
    "video_clip = VideoFileClip('intro_1.mp4')\n",
    "video_clip.audio = None"
   ]
  },
  {
   "cell_type": "code",
   "execution_count": 24,
   "id": "92bd681f-2483-4e8c-ad22-d4c63395ec1f",
   "metadata": {},
   "outputs": [],
   "source": [
    "audio_clip = AudioFileClip('intro_6_sec.mp3')\n",
    "audio_clip = audio_clip.audio_fadeout(0.3)\n",
    "# audio_clip = audio_clip.set_duration(video_clip.duration)"
   ]
  },
  {
   "cell_type": "code",
   "execution_count": 25,
   "id": "e28e3f69-8699-4236-ae67-1d9d52c139ba",
   "metadata": {},
   "outputs": [],
   "source": [
    "# video_clip.audio = audio_clip"
   ]
  },
  {
   "cell_type": "code",
   "execution_count": 26,
   "id": "fe21a3ce-0ff5-4ec7-922b-2877b11200fc",
   "metadata": {
    "collapsed": true,
    "jupyter": {
     "outputs_hidden": true
    },
    "tags": []
   },
   "outputs": [
    {
     "name": "stderr",
     "output_type": "stream",
     "text": [
      "chunk:  85%|███████████████▏  | 137/162 [15:54<02:54,  6.97s/it, now=None]"
     ]
    },
    {
     "name": "stdout",
     "output_type": "stream",
     "text": [
      "Moviepy - Building video temp.mp4.\n",
      "MoviePy - Writing audio in tempTEMP_MPY_wvf_snd.mp3\n"
     ]
    },
    {
     "name": "stderr",
     "output_type": "stream",
     "text": [
      "\n",
      "chunk:   0%|                            | 0/134 [00:00<?, ?it/s, now=None]\u001b[A\n",
      "chunk:  97%|███████████████▌| 130/134 [00:00<00:00, 1298.08it/s, now=None]\u001b[A\n",
      "chunk:  85%|███████████████▏  | 137/162 [15:54<02:54,  6.97s/it, now=None]\u001b[A"
     ]
    },
    {
     "name": "stdout",
     "output_type": "stream",
     "text": [
      "MoviePy - Done.\n",
      "Moviepy - Writing video temp.mp4\n",
      "\n"
     ]
    },
    {
     "name": "stderr",
     "output_type": "stream",
     "text": [
      "\n",
      "t:   0%|                                | 0/190 [00:00<?, ?it/s, now=None]\u001b[A\n",
      "t:   7%|█▌                    | 13/190 [00:00<00:01, 125.44it/s, now=None]\u001b[A\n",
      "t:  14%|███                   | 26/190 [00:00<00:01, 128.00it/s, now=None]\u001b[A\n",
      "t:  21%|████▋                 | 40/190 [00:00<00:01, 132.64it/s, now=None]\u001b[A\n",
      "t:  28%|██████▎               | 54/190 [00:00<00:01, 119.83it/s, now=None]\u001b[A\n",
      "t:  35%|████████               | 67/190 [00:00<00:01, 80.71it/s, now=None]\u001b[A\n",
      "t:  41%|█████████▎             | 77/190 [00:00<00:01, 77.39it/s, now=None]\u001b[A\n",
      "t:  45%|██████████▍            | 86/190 [00:00<00:01, 79.03it/s, now=None]\u001b[A\n",
      "t:  51%|███████████▌           | 96/190 [00:01<00:01, 82.47it/s, now=None]\u001b[A\n",
      "t:  56%|████████████▎         | 106/190 [00:01<00:00, 84.97it/s, now=None]\u001b[A\n",
      "t:  61%|█████████████▎        | 115/190 [00:01<00:00, 84.23it/s, now=None]\u001b[A\n",
      "t:  65%|██████████████▎       | 124/190 [00:01<00:00, 84.21it/s, now=None]\u001b[A\n",
      "t:  70%|███████████████▍      | 133/190 [00:01<00:00, 84.49it/s, now=None]\u001b[A\n",
      "t:  75%|████████████████▌     | 143/190 [00:01<00:00, 88.19it/s, now=None]\u001b[A\n",
      "t:  81%|█████████████████▋    | 153/190 [00:01<00:00, 89.56it/s, now=None]\u001b[A\n",
      "t:  86%|██████████████████▊   | 163/190 [00:01<00:00, 90.10it/s, now=None]\u001b[A\n",
      "t:  91%|████████████████████  | 173/190 [00:01<00:00, 91.31it/s, now=None]\u001b[A\n",
      "t:  96%|█████████████████████▏| 183/190 [00:02<00:00, 91.50it/s, now=None]\u001b[A\n",
      "chunk:  85%|███████████████▏  | 137/162 [15:57<02:54,  6.99s/it, now=None]\u001b[A"
     ]
    },
    {
     "name": "stdout",
     "output_type": "stream",
     "text": [
      "Moviepy - Done !\n",
      "Moviepy - video ready temp.mp4\n"
     ]
    }
   ],
   "source": [
    "# video_clip = video_clip.set_audio(CompositeAudioClip([audio_clip.set_start(1)]))\n",
    "video_clip.audio = audio_clip\n",
    "video_clip.write_videofile('temp.mp4')"
   ]
  },
  {
   "cell_type": "markdown",
   "id": "508ca37e-ad5d-4848-a07d-98e34c5ca69b",
   "metadata": {},
   "source": [
    "# 10 sec intro video + audio"
   ]
  },
  {
   "cell_type": "code",
   "execution_count": 29,
   "id": "ec97d391-cf1c-493e-b0b9-3bcd97920ee6",
   "metadata": {},
   "outputs": [],
   "source": [
    "import logging, os\n",
    "import moviepy\n",
    "from moviepy.editor import *"
   ]
  },
  {
   "cell_type": "code",
   "execution_count": null,
   "id": "67fe3c15-3bb4-4a6a-bfed-074e81f43b46",
   "metadata": {},
   "outputs": [],
   "source": [
    "\n"
   ]
  },
  {
   "cell_type": "code",
   "execution_count": 31,
   "id": "daad5cfd-e7ec-459c-8c3e-b18184ff515e",
   "metadata": {
    "collapsed": true,
    "jupyter": {
     "outputs_hidden": true
    },
    "tags": []
   },
   "outputs": [
    {
     "name": "stderr",
     "output_type": "stream",
     "text": [
      "chunk:  85%|███████████████▏  | 137/162 [41:34<07:35, 18.21s/it, now=None]"
     ]
    },
    {
     "name": "stdout",
     "output_type": "stream",
     "text": [
      "Moviepy - Building video intro_3.mp4.\n",
      "MoviePy - Writing audio in intro_3TEMP_MPY_wvf_snd.mp3\n"
     ]
    },
    {
     "name": "stderr",
     "output_type": "stream",
     "text": [
      "\n",
      "chunk:   0%|                            | 0/223 [00:00<?, ?it/s, now=None]\u001b[A\n",
      "chunk:  52%|████████▍       | 117/223 [00:00<00:00, 1165.50it/s, now=None]\u001b[A\n",
      "chunk:  85%|███████████████▏  | 137/162 [41:34<07:35, 18.21s/it, now=None]\u001b[A"
     ]
    },
    {
     "name": "stdout",
     "output_type": "stream",
     "text": [
      "MoviePy - Done.\n",
      "Moviepy - Writing video intro_3.mp4\n",
      "\n"
     ]
    },
    {
     "name": "stderr",
     "output_type": "stream",
     "text": [
      "\n",
      "t:   0%|                                | 0/298 [00:00<?, ?it/s, now=None]\u001b[A\n",
      "t:   5%|█                     | 14/298 [00:00<00:02, 139.20it/s, now=None]\u001b[A\n",
      "t:   9%|██                    | 28/298 [00:00<00:02, 134.76it/s, now=None]\u001b[A\n",
      "t:  14%|███                   | 42/298 [00:00<00:02, 127.66it/s, now=None]\u001b[A\n",
      "t:  18%|████                  | 55/298 [00:00<00:02, 118.32it/s, now=None]\u001b[A\n",
      "t:  22%|█████▏                 | 67/298 [00:00<00:02, 87.07it/s, now=None]\u001b[A\n",
      "t:  26%|█████▉                 | 77/298 [00:00<00:02, 83.08it/s, now=None]\u001b[A\n",
      "t:  29%|██████▋                | 86/298 [00:00<00:02, 81.33it/s, now=None]\u001b[A\n",
      "t:  32%|███████▍               | 96/298 [00:01<00:02, 85.75it/s, now=None]\u001b[A\n",
      "t:  36%|███████▊              | 106/298 [00:01<00:02, 87.29it/s, now=None]\u001b[A\n",
      "t:  39%|████████▌             | 116/298 [00:01<00:02, 89.53it/s, now=None]\u001b[A\n",
      "t:  42%|█████████▎            | 126/298 [00:01<00:01, 89.65it/s, now=None]\u001b[A\n",
      "t:  46%|██████████            | 136/298 [00:01<00:01, 90.72it/s, now=None]\u001b[A\n",
      "t:  49%|██████████▊           | 146/298 [00:01<00:01, 92.27it/s, now=None]\u001b[A\n",
      "t:  52%|███████████▌          | 156/298 [00:01<00:01, 93.17it/s, now=None]\u001b[A\n",
      "t:  56%|████████████▎         | 166/298 [00:01<00:01, 92.84it/s, now=None]\u001b[A\n",
      "t:  59%|████████████▉         | 176/298 [00:01<00:01, 94.56it/s, now=None]\u001b[A\n",
      "t:  62%|█████████████▋        | 186/298 [00:01<00:01, 92.98it/s, now=None]\u001b[A\n",
      "t:  66%|██████████████▍       | 196/298 [00:02<00:01, 93.62it/s, now=None]\u001b[A\n",
      "t:  69%|███████████████▏      | 206/298 [00:02<00:00, 92.83it/s, now=None]\u001b[A\n",
      "t:  72%|███████████████▉      | 216/298 [00:02<00:00, 94.35it/s, now=None]\u001b[A\n",
      "t:  76%|████████████████▊     | 227/298 [00:02<00:00, 97.08it/s, now=None]\u001b[A\n",
      "t:  80%|█████████████████▍    | 237/298 [00:02<00:00, 96.83it/s, now=None]\u001b[A\n",
      "t:  83%|██████████████████▏   | 247/298 [00:02<00:00, 95.57it/s, now=None]\u001b[A\n",
      "t:  86%|██████████████████▉   | 257/298 [00:02<00:00, 93.79it/s, now=None]\u001b[A\n",
      "t:  90%|███████████████████▋  | 267/298 [00:02<00:00, 91.51it/s, now=None]\u001b[A\n",
      "t:  93%|████████████████████▍ | 277/298 [00:02<00:00, 85.93it/s, now=None]\u001b[A\n",
      "t:  96%|█████████████████████ | 286/298 [00:03<00:00, 85.40it/s, now=None]\u001b[A\n",
      "t:  99%|█████████████████████▊| 295/298 [00:03<00:00, 85.17it/s, now=None]\u001b[A\n",
      "chunk:  85%|███████████████▏  | 137/162 [41:38<07:35, 18.24s/it, now=None]\u001b[A"
     ]
    },
    {
     "name": "stdout",
     "output_type": "stream",
     "text": [
      "Moviepy - Done !\n",
      "Moviepy - video ready intro_3.mp4\n"
     ]
    },
    {
     "name": "stderr",
     "output_type": "stream",
     "text": [
      "chunk:  85%|███████████████▏  | 137/162 [41:38<07:35, 18.24s/it, now=None]"
     ]
    },
    {
     "name": "stdout",
     "output_type": "stream",
     "text": [
      "Moviepy - Building video intro_4.mp4.\n",
      "MoviePy - Writing audio in intro_4TEMP_MPY_wvf_snd.mp3\n"
     ]
    },
    {
     "name": "stderr",
     "output_type": "stream",
     "text": [
      "\n",
      "chunk:   0%|                            | 0/222 [00:00<?, ?it/s, now=None]\u001b[A\n",
      "chunk:  37%|██████▋           | 83/222 [00:00<00:00, 817.65it/s, now=None]\u001b[A\n",
      "chunk:  74%|████████████▋    | 165/222 [00:00<00:00, 777.44it/s, now=None]\u001b[A\n",
      "chunk:  85%|███████████████▏  | 137/162 [41:38<07:36, 18.24s/it, now=None]\u001b[A"
     ]
    },
    {
     "name": "stdout",
     "output_type": "stream",
     "text": [
      "MoviePy - Done.\n",
      "Moviepy - Writing video intro_4.mp4\n",
      "\n"
     ]
    },
    {
     "name": "stderr",
     "output_type": "stream",
     "text": [
      "\n",
      "t:   0%|                                | 0/298 [00:00<?, ?it/s, now=None]\u001b[A\n",
      "t:   3%|▋                       | 8/298 [00:00<00:03, 75.08it/s, now=None]\u001b[A\n",
      "t:   6%|█▎                     | 17/298 [00:00<00:03, 81.47it/s, now=None]\u001b[A\n",
      "t:   9%|██▏                    | 28/298 [00:00<00:02, 92.01it/s, now=None]\u001b[A\n",
      "t:  13%|██▉                    | 38/298 [00:00<00:02, 94.10it/s, now=None]\u001b[A\n",
      "t:  16%|███▋                   | 48/298 [00:00<00:02, 88.16it/s, now=None]\u001b[A\n",
      "t:  19%|████▍                  | 57/298 [00:00<00:03, 68.59it/s, now=None]\u001b[A\n",
      "t:  22%|█████                  | 65/298 [00:00<00:03, 68.80it/s, now=None]\u001b[A\n",
      "t:  24%|█████▋                 | 73/298 [00:00<00:03, 67.25it/s, now=None]\u001b[A\n",
      "t:  27%|██████▏                | 80/298 [00:01<00:03, 67.82it/s, now=None]\u001b[A\n",
      "t:  29%|██████▋                | 87/298 [00:01<00:03, 65.01it/s, now=None]\u001b[A\n",
      "t:  32%|███████▎               | 94/298 [00:01<00:03, 65.62it/s, now=None]\u001b[A\n",
      "t:  35%|███████▌              | 103/298 [00:01<00:02, 71.28it/s, now=None]\u001b[A\n",
      "t:  37%|████████▏             | 111/298 [00:01<00:02, 72.36it/s, now=None]\u001b[A\n",
      "t:  40%|████████▊             | 119/298 [00:01<00:02, 73.61it/s, now=None]\u001b[A\n",
      "t:  43%|█████████▍            | 127/298 [00:01<00:02, 74.88it/s, now=None]\u001b[A\n",
      "t:  46%|██████████            | 136/298 [00:01<00:02, 76.13it/s, now=None]\u001b[A\n",
      "t:  48%|██████████▋           | 144/298 [00:01<00:02, 75.24it/s, now=None]\u001b[A\n",
      "t:  51%|███████████▏          | 152/298 [00:02<00:02, 72.86it/s, now=None]\u001b[A\n",
      "t:  54%|███████████▉          | 161/298 [00:02<00:01, 76.00it/s, now=None]\u001b[A\n",
      "t:  57%|████████████▍         | 169/298 [00:02<00:01, 74.69it/s, now=None]\u001b[A\n",
      "t:  59%|█████████████         | 177/298 [00:02<00:01, 75.75it/s, now=None]\u001b[A\n",
      "t:  62%|█████████████▋        | 186/298 [00:02<00:01, 77.63it/s, now=None]\u001b[A\n",
      "t:  65%|██████████████▎       | 194/298 [00:02<00:01, 75.96it/s, now=None]\u001b[A\n",
      "t:  68%|██████████████▉       | 202/298 [00:02<00:01, 75.28it/s, now=None]\u001b[A\n",
      "t:  70%|███████████████▌      | 210/298 [00:02<00:01, 73.84it/s, now=None]\u001b[A\n",
      "t:  73%|████████████████      | 218/298 [00:02<00:01, 73.00it/s, now=None]\u001b[A\n",
      "t:  76%|████████████████▋     | 226/298 [00:03<00:01, 71.99it/s, now=None]\u001b[A\n",
      "t:  79%|█████████████████▎    | 234/298 [00:03<00:00, 70.13it/s, now=None]\u001b[A\n",
      "t:  81%|█████████████████▊    | 242/298 [00:03<00:00, 71.47it/s, now=None]\u001b[A\n",
      "t:  84%|██████████████████▍   | 250/298 [00:03<00:00, 71.48it/s, now=None]\u001b[A\n",
      "t:  87%|███████████████████   | 258/298 [00:03<00:00, 72.34it/s, now=None]\u001b[A\n",
      "t:  90%|███████████████████▋  | 267/298 [00:03<00:00, 75.65it/s, now=None]\u001b[A\n",
      "t:  93%|████████████████████▍ | 276/298 [00:03<00:00, 77.28it/s, now=None]\u001b[A\n",
      "t:  95%|████████████████████▉ | 284/298 [00:03<00:00, 75.58it/s, now=None]\u001b[A\n",
      "t:  98%|█████████████████████▋| 293/298 [00:03<00:00, 77.20it/s, now=None]\u001b[A\n",
      "chunk:  85%|███████████████▏  | 137/162 [41:43<07:36, 18.27s/it, now=None]\u001b[A"
     ]
    },
    {
     "name": "stdout",
     "output_type": "stream",
     "text": [
      "Moviepy - Done !\n",
      "Moviepy - video ready intro_4.mp4\n",
      "Moviepy - Building video intro_5.mp4.\n",
      "MoviePy - Writing audio in intro_5TEMP_MPY_wvf_snd.mp3\n"
     ]
    },
    {
     "name": "stderr",
     "output_type": "stream",
     "text": [
      "\n",
      "chunk:   0%|                            | 0/222 [00:00<?, ?it/s, now=None]\u001b[A\n",
      "chunk:  51%|████████▏       | 113/222 [00:00<00:00, 1129.07it/s, now=None]\u001b[A\n",
      "chunk:  85%|███████████████▏  | 137/162 [41:43<07:36, 18.27s/it, now=None]\u001b[A"
     ]
    },
    {
     "name": "stdout",
     "output_type": "stream",
     "text": [
      "MoviePy - Done.\n",
      "Moviepy - Writing video intro_5.mp4\n",
      "\n"
     ]
    },
    {
     "name": "stderr",
     "output_type": "stream",
     "text": [
      "\n",
      "t:   0%|                                | 0/298 [00:00<?, ?it/s, now=None]\u001b[A\n",
      "t:   4%|▉                     | 12/298 [00:00<00:02, 116.26it/s, now=None]\u001b[A\n",
      "t:   8%|█▊                    | 24/298 [00:00<00:02, 113.98it/s, now=None]\u001b[A\n",
      "t:  12%|██▋                   | 36/298 [00:00<00:02, 115.43it/s, now=None]\u001b[A\n",
      "t:  16%|███▌                  | 48/298 [00:00<00:02, 106.44it/s, now=None]\u001b[A\n",
      "t:  20%|████▌                  | 59/298 [00:00<00:02, 82.16it/s, now=None]\u001b[A\n",
      "t:  23%|█████▏                 | 68/298 [00:00<00:02, 78.01it/s, now=None]\u001b[A\n",
      "t:  26%|█████▉                 | 77/298 [00:00<00:02, 75.29it/s, now=None]\u001b[A\n",
      "t:  29%|██████▌                | 85/298 [00:01<00:02, 74.66it/s, now=None]\u001b[A\n",
      "t:  32%|███████▎               | 94/298 [00:01<00:02, 76.45it/s, now=None]\u001b[A\n",
      "t:  35%|███████▌              | 103/298 [00:01<00:02, 78.28it/s, now=None]\u001b[A\n",
      "t:  38%|████████▎             | 112/298 [00:01<00:02, 78.71it/s, now=None]\u001b[A\n",
      "t:  40%|████████▊             | 120/298 [00:01<00:02, 77.23it/s, now=None]\u001b[A\n",
      "t:  43%|█████████▍            | 128/298 [00:01<00:02, 76.68it/s, now=None]\u001b[A\n",
      "t:  46%|██████████            | 137/298 [00:01<00:02, 77.88it/s, now=None]\u001b[A\n",
      "t:  49%|██████████▊           | 146/298 [00:01<00:01, 78.77it/s, now=None]\u001b[A\n",
      "t:  52%|███████████▎          | 154/298 [00:01<00:01, 78.65it/s, now=None]\u001b[A\n",
      "t:  54%|███████████▉          | 162/298 [00:01<00:01, 77.48it/s, now=None]\u001b[A\n",
      "t:  57%|████████████▌         | 170/298 [00:02<00:01, 76.95it/s, now=None]\u001b[A\n",
      "t:  60%|█████████████▏        | 178/298 [00:02<00:01, 75.06it/s, now=None]\u001b[A\n",
      "t:  62%|█████████████▋        | 186/298 [00:02<00:01, 74.00it/s, now=None]\u001b[A\n",
      "t:  65%|██████████████▍       | 195/298 [00:02<00:01, 76.67it/s, now=None]\u001b[A\n",
      "t:  68%|███████████████       | 204/298 [00:02<00:01, 78.92it/s, now=None]\u001b[A\n",
      "t:  71%|███████████████▋      | 213/298 [00:02<00:01, 80.75it/s, now=None]\u001b[A\n",
      "t:  74%|████████████████▍     | 222/298 [00:02<00:00, 82.96it/s, now=None]\u001b[A\n",
      "t:  78%|█████████████████     | 231/298 [00:02<00:00, 83.40it/s, now=None]\u001b[A\n",
      "t:  81%|█████████████████▋    | 240/298 [00:02<00:00, 84.29it/s, now=None]\u001b[A\n",
      "t:  84%|██████████████████▍   | 249/298 [00:03<00:00, 83.72it/s, now=None]\u001b[A\n",
      "t:  87%|███████████████████   | 258/298 [00:03<00:00, 80.57it/s, now=None]\u001b[A\n",
      "t:  90%|███████████████████▋  | 267/298 [00:03<00:00, 81.77it/s, now=None]\u001b[A\n",
      "t:  93%|████████████████████▍ | 276/298 [00:03<00:00, 83.03it/s, now=None]\u001b[A\n",
      "t:  96%|█████████████████████ | 285/298 [00:03<00:00, 84.80it/s, now=None]\u001b[A\n",
      "t:  99%|█████████████████████▋| 294/298 [00:03<00:00, 84.32it/s, now=None]\u001b[A\n",
      "chunk:  85%|███████████████▏  | 137/162 [41:47<07:37, 18.30s/it, now=None]\u001b[A"
     ]
    },
    {
     "name": "stdout",
     "output_type": "stream",
     "text": [
      "Moviepy - Done !\n",
      "Moviepy - video ready intro_5.mp4\n"
     ]
    },
    {
     "name": "stderr",
     "output_type": "stream",
     "text": [
      "chunk:  85%|███████████████▏  | 137/162 [41:47<07:37, 18.30s/it, now=None]"
     ]
    },
    {
     "name": "stdout",
     "output_type": "stream",
     "text": [
      "Moviepy - Building video intro_6.mp4.\n",
      "MoviePy - Writing audio in intro_6TEMP_MPY_wvf_snd.mp3\n"
     ]
    },
    {
     "name": "stderr",
     "output_type": "stream",
     "text": [
      "\n",
      "chunk:   0%|                            | 0/224 [00:00<?, ?it/s, now=None]\u001b[A\n",
      "chunk:  46%|███████▋         | 102/224 [00:00<00:00, 972.60it/s, now=None]\u001b[A\n",
      "chunk:  97%|███████████████▌| 217/224 [00:00<00:00, 1073.54it/s, now=None]\u001b[A\n",
      "chunk:  85%|███████████████▏  | 137/162 [41:47<07:37, 18.31s/it, now=None]\u001b[A"
     ]
    },
    {
     "name": "stdout",
     "output_type": "stream",
     "text": [
      "MoviePy - Done.\n",
      "Moviepy - Writing video intro_6.mp4\n",
      "\n"
     ]
    },
    {
     "name": "stderr",
     "output_type": "stream",
     "text": [
      "\n",
      "t:   0%|                                | 0/298 [00:00<?, ?it/s, now=None]\u001b[A\n",
      "t:   4%|▊                     | 11/298 [00:00<00:02, 107.47it/s, now=None]\u001b[A\n",
      "t:   7%|█▌                    | 22/298 [00:00<00:02, 101.67it/s, now=None]\u001b[A\n",
      "t:  11%|██▌                   | 34/298 [00:00<00:02, 107.39it/s, now=None]\u001b[A\n",
      "t:  15%|███▍                   | 45/298 [00:00<00:02, 94.53it/s, now=None]\u001b[A\n",
      "t:  18%|████▏                  | 55/298 [00:00<00:02, 90.78it/s, now=None]\u001b[A\n",
      "t:  22%|█████                  | 65/298 [00:00<00:03, 67.34it/s, now=None]\u001b[A\n",
      "t:  24%|█████▋                 | 73/298 [00:00<00:03, 66.41it/s, now=None]\u001b[A\n",
      "t:  27%|██████▎                | 81/298 [00:01<00:03, 67.48it/s, now=None]\u001b[A\n",
      "t:  30%|██████▊                | 89/298 [00:01<00:03, 66.51it/s, now=None]\u001b[A\n",
      "t:  33%|███████▍               | 97/298 [00:01<00:02, 67.99it/s, now=None]\u001b[A\n",
      "t:  35%|███████▊              | 105/298 [00:01<00:02, 69.89it/s, now=None]\u001b[A\n",
      "t:  38%|████████▎             | 113/298 [00:01<00:02, 68.06it/s, now=None]\u001b[A\n",
      "t:  40%|████████▊             | 120/298 [00:01<00:02, 68.27it/s, now=None]\u001b[A\n",
      "t:  43%|█████████▍            | 127/298 [00:01<00:02, 67.44it/s, now=None]\u001b[A\n",
      "t:  45%|█████████▉            | 134/298 [00:01<00:02, 66.70it/s, now=None]\u001b[A\n",
      "t:  47%|██████████▍           | 141/298 [00:01<00:02, 67.16it/s, now=None]\u001b[A\n",
      "t:  50%|███████████           | 149/298 [00:02<00:02, 68.82it/s, now=None]\u001b[A\n",
      "t:  53%|███████████▋          | 158/298 [00:02<00:01, 72.57it/s, now=None]\u001b[A\n",
      "t:  56%|████████████▎         | 166/298 [00:02<00:01, 71.86it/s, now=None]\u001b[A\n",
      "t:  58%|████████████▊         | 174/298 [00:02<00:01, 70.89it/s, now=None]\u001b[A\n",
      "t:  61%|█████████████▍        | 182/298 [00:02<00:01, 71.64it/s, now=None]\u001b[A\n",
      "t:  64%|██████████████        | 190/298 [00:02<00:01, 72.46it/s, now=None]\u001b[A\n",
      "t:  66%|██████████████▌       | 198/298 [00:02<00:01, 68.89it/s, now=None]\u001b[A\n",
      "t:  69%|███████████████▏      | 206/298 [00:02<00:01, 69.12it/s, now=None]\u001b[A\n",
      "t:  71%|███████████████▋      | 213/298 [00:02<00:01, 67.97it/s, now=None]\u001b[A\n",
      "t:  74%|████████████████▎     | 221/298 [00:03<00:01, 68.30it/s, now=None]\u001b[A\n",
      "t:  77%|████████████████▉     | 229/298 [00:03<00:01, 68.95it/s, now=None]\u001b[A\n",
      "t:  80%|█████████████████▍    | 237/298 [00:03<00:00, 69.82it/s, now=None]\u001b[A\n",
      "t:  82%|██████████████████    | 244/298 [00:03<00:00, 69.60it/s, now=None]\u001b[A\n",
      "t:  84%|██████████████████▌   | 251/298 [00:03<00:00, 69.54it/s, now=None]\u001b[A\n",
      "t:  87%|███████████████████   | 259/298 [00:03<00:00, 69.98it/s, now=None]\u001b[A\n",
      "t:  89%|███████████████████▋  | 266/298 [00:03<00:00, 69.62it/s, now=None]\u001b[A\n",
      "t:  92%|████████████████████▏ | 274/298 [00:03<00:00, 71.43it/s, now=None]\u001b[A\n",
      "t:  95%|████████████████████▊ | 282/298 [00:03<00:00, 70.38it/s, now=None]\u001b[A\n",
      "t:  97%|█████████████████████▍| 290/298 [00:04<00:00, 71.95it/s, now=None]\u001b[A\n",
      "chunk:  85%|███████████████▏  | 137/162 [41:52<07:38, 18.34s/it, now=None]\u001b[A"
     ]
    },
    {
     "name": "stdout",
     "output_type": "stream",
     "text": [
      "Moviepy - Done !\n",
      "Moviepy - video ready intro_6.mp4\n"
     ]
    },
    {
     "name": "stderr",
     "output_type": "stream",
     "text": [
      "chunk:  85%|███████████████▏  | 137/162 [41:52<07:38, 18.34s/it, now=None]"
     ]
    },
    {
     "name": "stdout",
     "output_type": "stream",
     "text": [
      "Moviepy - Building video intro_7.mp4.\n",
      "MoviePy - Writing audio in intro_7TEMP_MPY_wvf_snd.mp3\n"
     ]
    },
    {
     "name": "stderr",
     "output_type": "stream",
     "text": [
      "\n",
      "chunk:   0%|                            | 0/240 [00:00<?, ?it/s, now=None]\u001b[A\n",
      "chunk:  42%|███████▏         | 102/240 [00:00<00:00, 987.27it/s, now=None]\u001b[A\n",
      "chunk:  85%|██████████████▍  | 204/240 [00:00<00:00, 976.78it/s, now=None]\u001b[A\n",
      "chunk:  85%|███████████████▏  | 137/162 [41:52<07:38, 18.34s/it, now=None]\u001b[A"
     ]
    },
    {
     "name": "stdout",
     "output_type": "stream",
     "text": [
      "MoviePy - Done.\n",
      "Moviepy - Writing video intro_7.mp4\n",
      "\n"
     ]
    },
    {
     "name": "stderr",
     "output_type": "stream",
     "text": [
      "\n",
      "t:   0%|                                | 0/298 [00:00<?, ?it/s, now=None]\u001b[A\n",
      "t:   4%|▊                     | 11/298 [00:00<00:02, 101.32it/s, now=None]\u001b[A\n",
      "t:   7%|█▋                     | 22/298 [00:00<00:02, 94.09it/s, now=None]\u001b[A\n",
      "t:  11%|██▍                    | 32/298 [00:00<00:02, 96.30it/s, now=None]\u001b[A\n",
      "t:  14%|███▏                   | 42/298 [00:00<00:02, 92.14it/s, now=None]\u001b[A\n",
      "t:  17%|████                   | 52/298 [00:00<00:02, 87.14it/s, now=None]\u001b[A\n",
      "t:  20%|████▋                  | 61/298 [00:00<00:03, 66.56it/s, now=None]\u001b[A\n",
      "t:  23%|█████▎                 | 69/298 [00:00<00:03, 66.11it/s, now=None]\u001b[A\n",
      "t:  26%|█████▉                 | 77/298 [00:01<00:03, 66.13it/s, now=None]\u001b[A\n",
      "t:  28%|██████▍                | 84/298 [00:01<00:03, 64.64it/s, now=None]\u001b[A\n",
      "t:  31%|███████                | 92/298 [00:01<00:03, 66.49it/s, now=None]\u001b[A\n",
      "t:  34%|███████▍              | 100/298 [00:01<00:02, 69.98it/s, now=None]\u001b[A\n",
      "t:  36%|███████▉              | 108/298 [00:01<00:02, 72.62it/s, now=None]\u001b[A\n",
      "t:  39%|████████▌             | 116/298 [00:01<00:02, 74.04it/s, now=None]\u001b[A\n",
      "t:  42%|█████████▏            | 124/298 [00:01<00:02, 74.41it/s, now=None]\u001b[A\n",
      "t:  45%|█████████▊            | 133/298 [00:01<00:02, 77.13it/s, now=None]\u001b[A\n",
      "t:  48%|██████████▍           | 142/298 [00:01<00:01, 79.61it/s, now=None]\u001b[A\n",
      "t:  51%|███████████▏          | 151/298 [00:01<00:01, 80.09it/s, now=None]\u001b[A\n",
      "t:  54%|███████████▊          | 160/298 [00:02<00:01, 82.56it/s, now=None]\u001b[A\n",
      "t:  57%|████████████▍         | 169/298 [00:02<00:01, 81.32it/s, now=None]\u001b[A\n",
      "t:  60%|█████████████▏        | 178/298 [00:02<00:01, 80.75it/s, now=None]\u001b[A\n",
      "t:  63%|█████████████▊        | 187/298 [00:02<00:01, 81.62it/s, now=None]\u001b[A\n",
      "t:  66%|██████████████▍       | 196/298 [00:02<00:01, 81.47it/s, now=None]\u001b[A\n",
      "t:  69%|███████████████▏      | 205/298 [00:02<00:01, 83.66it/s, now=None]\u001b[A\n",
      "t:  72%|███████████████▊      | 214/298 [00:02<00:00, 84.34it/s, now=None]\u001b[A\n",
      "t:  75%|████████████████▍     | 223/298 [00:02<00:00, 83.59it/s, now=None]\u001b[A\n",
      "t:  78%|█████████████████▏    | 232/298 [00:02<00:00, 84.07it/s, now=None]\u001b[A\n",
      "t:  81%|█████████████████▊    | 241/298 [00:03<00:00, 84.28it/s, now=None]\u001b[A\n",
      "t:  84%|██████████████████▍   | 250/298 [00:03<00:00, 81.55it/s, now=None]\u001b[A\n",
      "t:  87%|███████████████████   | 259/298 [00:03<00:00, 80.98it/s, now=None]\u001b[A\n",
      "t:  90%|███████████████████▊  | 268/298 [00:03<00:00, 80.17it/s, now=None]\u001b[A\n",
      "t:  93%|████████████████████▍ | 277/298 [00:03<00:00, 80.68it/s, now=None]\u001b[A\n",
      "t:  96%|█████████████████████ | 286/298 [00:03<00:00, 81.11it/s, now=None]\u001b[A\n",
      "t:  99%|█████████████████████▊| 295/298 [00:03<00:00, 83.21it/s, now=None]\u001b[A\n",
      "chunk:  85%|███████████████▏  | 137/162 [41:56<07:39, 18.37s/it, now=None]\u001b[A"
     ]
    },
    {
     "name": "stdout",
     "output_type": "stream",
     "text": [
      "Moviepy - Done !\n",
      "Moviepy - video ready intro_7.mp4\n"
     ]
    },
    {
     "name": "stderr",
     "output_type": "stream",
     "text": [
      "chunk:  85%|███████████████▏  | 137/162 [41:57<07:39, 18.37s/it, now=None]"
     ]
    },
    {
     "name": "stdout",
     "output_type": "stream",
     "text": [
      "Moviepy - Building video intro_8.mp4.\n",
      "MoviePy - Writing audio in intro_8TEMP_MPY_wvf_snd.mp3\n"
     ]
    },
    {
     "name": "stderr",
     "output_type": "stream",
     "text": [
      "\n",
      "chunk:   0%|                            | 0/234 [00:00<?, ?it/s, now=None]\u001b[A\n",
      "chunk:  50%|████████        | 117/234 [00:00<00:00, 1158.76it/s, now=None]\u001b[A\n",
      "chunk: 100%|███████████████▉| 233/234 [00:00<00:00, 1134.00it/s, now=None]\u001b[A\n",
      "chunk:  85%|███████████████▏  | 137/162 [41:57<07:39, 18.37s/it, now=None]\u001b[A"
     ]
    },
    {
     "name": "stdout",
     "output_type": "stream",
     "text": [
      "MoviePy - Done.\n",
      "Moviepy - Writing video intro_8.mp4\n",
      "\n"
     ]
    },
    {
     "name": "stderr",
     "output_type": "stream",
     "text": [
      "\n",
      "t:   0%|                                | 0/298 [00:00<?, ?it/s, now=None]\u001b[A\n",
      "t:   4%|▉                     | 12/298 [00:00<00:02, 117.01it/s, now=None]\u001b[A\n",
      "t:   8%|█▊                    | 24/298 [00:00<00:02, 110.62it/s, now=None]\u001b[A\n",
      "t:  12%|██▋                   | 37/298 [00:00<00:02, 115.13it/s, now=None]\u001b[A\n",
      "t:  16%|███▌                  | 49/298 [00:00<00:02, 113.59it/s, now=None]\u001b[A\n",
      "t:  20%|████▋                  | 61/298 [00:00<00:02, 82.47it/s, now=None]\u001b[A\n",
      "t:  24%|█████▍                 | 71/298 [00:00<00:02, 76.19it/s, now=None]\u001b[A\n",
      "t:  27%|██████▏                | 80/298 [00:00<00:02, 73.85it/s, now=None]\u001b[A\n",
      "t:  30%|██████▊                | 88/298 [00:01<00:02, 71.58it/s, now=None]\u001b[A\n",
      "t:  32%|███████▍               | 96/298 [00:01<00:02, 72.71it/s, now=None]\u001b[A\n",
      "t:  35%|███████▋              | 104/298 [00:01<00:02, 73.91it/s, now=None]\u001b[A\n",
      "t:  38%|████████▎             | 112/298 [00:01<00:02, 75.15it/s, now=None]\u001b[A\n",
      "t:  41%|████████▉             | 121/298 [00:01<00:02, 76.11it/s, now=None]\u001b[A\n",
      "t:  43%|█████████▌            | 129/298 [00:01<00:02, 76.17it/s, now=None]\u001b[A\n",
      "t:  46%|██████████▏           | 138/298 [00:01<00:02, 78.37it/s, now=None]\u001b[A\n",
      "t:  49%|██████████▊           | 147/298 [00:01<00:01, 80.41it/s, now=None]\u001b[A\n",
      "t:  52%|███████████▌          | 156/298 [00:01<00:01, 78.06it/s, now=None]\u001b[A\n",
      "t:  55%|████████████▏         | 165/298 [00:02<00:01, 80.89it/s, now=None]\u001b[A\n",
      "t:  58%|████████████▊         | 174/298 [00:02<00:01, 82.43it/s, now=None]\u001b[A\n",
      "t:  61%|█████████████▌        | 183/298 [00:02<00:01, 81.40it/s, now=None]\u001b[A\n",
      "t:  64%|██████████████▏       | 192/298 [00:02<00:01, 81.63it/s, now=None]\u001b[A\n",
      "t:  67%|██████████████▊       | 201/298 [00:02<00:01, 76.79it/s, now=None]\u001b[A\n",
      "t:  70%|███████████████▌      | 210/298 [00:02<00:01, 79.68it/s, now=None]\u001b[A\n",
      "t:  73%|████████████████▏     | 219/298 [00:02<00:00, 80.50it/s, now=None]\u001b[A\n",
      "t:  77%|████████████████▊     | 228/298 [00:02<00:00, 82.27it/s, now=None]\u001b[A\n",
      "t:  80%|█████████████████▍    | 237/298 [00:02<00:00, 84.12it/s, now=None]\u001b[A\n",
      "t:  83%|██████████████████▏   | 246/298 [00:03<00:00, 82.91it/s, now=None]\u001b[A\n",
      "t:  86%|██████████████████▊   | 255/298 [00:03<00:00, 83.10it/s, now=None]\u001b[A\n",
      "t:  89%|███████████████████▍  | 264/298 [00:03<00:00, 82.61it/s, now=None]\u001b[A\n",
      "t:  92%|████████████████████▏ | 273/298 [00:03<00:00, 83.30it/s, now=None]\u001b[A\n",
      "t:  95%|████████████████████▊ | 282/298 [00:03<00:00, 81.35it/s, now=None]\u001b[A\n",
      "t:  98%|█████████████████████▍| 291/298 [00:03<00:00, 80.74it/s, now=None]\u001b[A\n",
      "chunk:  85%|███████████████▏  | 137/162 [42:01<07:40, 18.40s/it, now=None]\u001b[A"
     ]
    },
    {
     "name": "stdout",
     "output_type": "stream",
     "text": [
      "Moviepy - Done !\n",
      "Moviepy - video ready intro_8.mp4\n"
     ]
    },
    {
     "name": "stderr",
     "output_type": "stream",
     "text": [
      "chunk:  85%|███████████████▏  | 137/162 [42:01<07:40, 18.40s/it, now=None]"
     ]
    },
    {
     "name": "stdout",
     "output_type": "stream",
     "text": [
      "Moviepy - Building video intro_9.mp4.\n",
      "MoviePy - Writing audio in intro_9TEMP_MPY_wvf_snd.mp3\n"
     ]
    },
    {
     "name": "stderr",
     "output_type": "stream",
     "text": [
      "\n",
      "chunk:   0%|                            | 0/239 [00:00<?, ?it/s, now=None]\u001b[A\n",
      "chunk:  47%|███████▍        | 112/239 [00:00<00:00, 1119.88it/s, now=None]\u001b[A\n",
      "chunk:  94%|██████████████▉ | 224/239 [00:00<00:00, 1057.52it/s, now=None]\u001b[A\n",
      "chunk:  85%|███████████████▏  | 137/162 [42:01<07:40, 18.41s/it, now=None]\u001b[A"
     ]
    },
    {
     "name": "stdout",
     "output_type": "stream",
     "text": [
      "MoviePy - Done.\n",
      "Moviepy - Writing video intro_9.mp4\n",
      "\n"
     ]
    },
    {
     "name": "stderr",
     "output_type": "stream",
     "text": [
      "\n",
      "t:   0%|                                | 0/298 [00:00<?, ?it/s, now=None]\u001b[A\n",
      "t:   4%|▉                     | 12/298 [00:00<00:02, 118.76it/s, now=None]\u001b[A\n",
      "t:   8%|█▊                    | 24/298 [00:00<00:02, 104.19it/s, now=None]\u001b[A\n",
      "t:  12%|██▋                   | 36/298 [00:00<00:02, 107.64it/s, now=None]\u001b[A\n",
      "t:  16%|███▋                   | 47/298 [00:00<00:02, 98.20it/s, now=None]\u001b[A\n",
      "t:  19%|████▍                  | 57/298 [00:00<00:03, 79.70it/s, now=None]\u001b[A\n",
      "t:  22%|█████                  | 66/298 [00:00<00:02, 78.43it/s, now=None]\u001b[A\n",
      "t:  25%|█████▊                 | 75/298 [00:00<00:02, 76.25it/s, now=None]\u001b[A\n",
      "t:  28%|██████▍                | 83/298 [00:00<00:02, 76.32it/s, now=None]\u001b[A\n",
      "t:  31%|███████                | 91/298 [00:01<00:02, 73.60it/s, now=None]\u001b[A\n",
      "t:  33%|███████▋               | 99/298 [00:01<00:02, 74.62it/s, now=None]\u001b[A\n",
      "t:  36%|███████▉              | 107/298 [00:01<00:02, 74.80it/s, now=None]\u001b[A\n",
      "t:  39%|████████▍             | 115/298 [00:01<00:02, 74.20it/s, now=None]\u001b[A\n",
      "t:  41%|█████████             | 123/298 [00:01<00:02, 73.99it/s, now=None]\u001b[A\n",
      "t:  44%|█████████▋            | 131/298 [00:01<00:02, 75.61it/s, now=None]\u001b[A\n",
      "t:  47%|██████████▎           | 139/298 [00:01<00:02, 76.59it/s, now=None]\u001b[A\n",
      "t:  50%|██████████▉           | 148/298 [00:01<00:01, 79.07it/s, now=None]\u001b[A\n",
      "t:  53%|███████████▌          | 157/298 [00:01<00:01, 78.41it/s, now=None]\u001b[A\n",
      "t:  56%|████████████▎         | 166/298 [00:02<00:01, 81.19it/s, now=None]\u001b[A\n",
      "t:  59%|████████████▉         | 175/298 [00:02<00:01, 79.50it/s, now=None]\u001b[A\n",
      "t:  62%|█████████████▌        | 184/298 [00:02<00:01, 79.38it/s, now=None]\u001b[A\n",
      "t:  65%|██████████████▏       | 193/298 [00:02<00:01, 79.82it/s, now=None]\u001b[A\n",
      "t:  67%|██████████████▊       | 201/298 [00:02<00:01, 78.91it/s, now=None]\u001b[A\n",
      "t:  70%|███████████████▌      | 210/298 [00:02<00:01, 80.00it/s, now=None]\u001b[A\n",
      "t:  73%|████████████████▏     | 219/298 [00:02<00:00, 79.19it/s, now=None]\u001b[A\n",
      "t:  77%|████████████████▊     | 228/298 [00:02<00:00, 79.92it/s, now=None]\u001b[A\n",
      "t:  80%|█████████████████▍    | 237/298 [00:02<00:00, 82.18it/s, now=None]\u001b[A\n",
      "t:  83%|██████████████████▏   | 246/298 [00:03<00:00, 79.04it/s, now=None]\u001b[A\n",
      "t:  85%|██████████████████▊   | 254/298 [00:03<00:00, 78.36it/s, now=None]\u001b[A\n",
      "t:  88%|███████████████████▎  | 262/298 [00:03<00:00, 77.69it/s, now=None]\u001b[A\n",
      "t:  91%|███████████████████▉  | 270/298 [00:03<00:00, 76.39it/s, now=None]\u001b[A\n",
      "t:  93%|████████████████████▌ | 278/298 [00:03<00:00, 75.54it/s, now=None]\u001b[A\n",
      "t:  96%|█████████████████████ | 286/298 [00:03<00:00, 76.38it/s, now=None]\u001b[A\n",
      "t:  99%|█████████████████████▊| 295/298 [00:03<00:00, 79.31it/s, now=None]\u001b[A\n",
      "chunk:  85%|███████████████▏  | 137/162 [42:05<07:40, 18.44s/it, now=None]\u001b[A"
     ]
    },
    {
     "name": "stdout",
     "output_type": "stream",
     "text": [
      "Moviepy - Done !\n",
      "Moviepy - video ready intro_9.mp4\n",
      "Moviepy - Building video intro_10.mp4.\n",
      "MoviePy - Writing audio in intro_10TEMP_MPY_wvf_snd.mp3\n"
     ]
    },
    {
     "name": "stderr",
     "output_type": "stream",
     "text": [
      "\n",
      "chunk:   0%|                            | 0/222 [00:00<?, ?it/s, now=None]\u001b[A\n",
      "chunk:  49%|███████▊        | 108/222 [00:00<00:00, 1079.61it/s, now=None]\u001b[A\n",
      "chunk:  97%|███████████████▌| 216/222 [00:00<00:00, 1070.50it/s, now=None]\u001b[A\n",
      "chunk:  85%|███████████████▏  | 137/162 [42:06<07:40, 18.44s/it, now=None]\u001b[A"
     ]
    },
    {
     "name": "stdout",
     "output_type": "stream",
     "text": [
      "MoviePy - Done.\n",
      "Moviepy - Writing video intro_10.mp4\n",
      "\n"
     ]
    },
    {
     "name": "stderr",
     "output_type": "stream",
     "text": [
      "\n",
      "t:   0%|                                | 0/298 [00:00<?, ?it/s, now=None]\u001b[A\n",
      "t:   4%|▉                     | 13/298 [00:00<00:02, 126.43it/s, now=None]\u001b[A\n",
      "t:   9%|█▉                    | 26/298 [00:00<00:02, 112.00it/s, now=None]\u001b[A\n",
      "t:  13%|██▊                   | 38/298 [00:00<00:02, 104.64it/s, now=None]\u001b[A\n",
      "t:  16%|███▌                  | 49/298 [00:00<00:02, 101.44it/s, now=None]\u001b[A\n",
      "t:  20%|████▋                  | 60/298 [00:00<00:03, 77.09it/s, now=None]\u001b[A\n",
      "t:  23%|█████▎                 | 69/298 [00:00<00:03, 74.98it/s, now=None]\u001b[A\n",
      "t:  26%|█████▉                 | 77/298 [00:00<00:02, 74.53it/s, now=None]\u001b[A\n",
      "t:  29%|██████▌                | 85/298 [00:01<00:02, 73.37it/s, now=None]\u001b[A\n",
      "t:  31%|███████▏               | 93/298 [00:01<00:02, 72.45it/s, now=None]\u001b[A\n",
      "t:  34%|███████▍              | 101/298 [00:01<00:02, 73.09it/s, now=None]\u001b[A\n",
      "t:  37%|████████              | 109/298 [00:01<00:02, 74.97it/s, now=None]\u001b[A\n",
      "t:  39%|████████▋             | 117/298 [00:01<00:02, 72.29it/s, now=None]\u001b[A\n",
      "t:  42%|█████████▏            | 125/298 [00:01<00:02, 73.69it/s, now=None]\u001b[A\n",
      "t:  45%|█████████▊            | 133/298 [00:01<00:02, 75.23it/s, now=None]\u001b[A\n",
      "t:  47%|██████████▍           | 141/298 [00:01<00:02, 74.18it/s, now=None]\u001b[A\n",
      "t:  50%|███████████           | 150/298 [00:01<00:01, 76.65it/s, now=None]\u001b[A\n",
      "t:  53%|███████████▋          | 159/298 [00:01<00:01, 79.16it/s, now=None]\u001b[A\n",
      "t:  56%|████████████▍         | 168/298 [00:02<00:01, 81.25it/s, now=None]\u001b[A\n",
      "t:  59%|█████████████         | 177/298 [00:02<00:01, 81.79it/s, now=None]\u001b[A\n",
      "t:  62%|█████████████▋        | 186/298 [00:02<00:01, 84.13it/s, now=None]\u001b[A\n",
      "t:  65%|██████████████▍       | 195/298 [00:02<00:01, 83.88it/s, now=None]\u001b[A\n",
      "t:  68%|███████████████       | 204/298 [00:02<00:01, 83.43it/s, now=None]\u001b[A\n",
      "t:  71%|███████████████▋      | 213/298 [00:02<00:01, 83.21it/s, now=None]\u001b[A\n",
      "t:  74%|████████████████▍     | 222/298 [00:02<00:00, 83.11it/s, now=None]\u001b[A\n",
      "t:  78%|█████████████████     | 231/298 [00:02<00:00, 83.42it/s, now=None]\u001b[A\n",
      "t:  81%|█████████████████▋    | 240/298 [00:02<00:00, 84.66it/s, now=None]\u001b[A\n",
      "t:  84%|██████████████████▍   | 249/298 [00:03<00:00, 81.66it/s, now=None]\u001b[A\n",
      "t:  87%|███████████████████   | 258/298 [00:03<00:00, 79.84it/s, now=None]\u001b[A\n",
      "t:  90%|███████████████████▋  | 267/298 [00:03<00:00, 78.50it/s, now=None]\u001b[A\n",
      "t:  92%|████████████████████▎ | 275/298 [00:03<00:00, 78.47it/s, now=None]\u001b[A\n",
      "t:  95%|████████████████████▉ | 283/298 [00:03<00:00, 77.81it/s, now=None]\u001b[A\n",
      "t:  98%|█████████████████████▋| 293/298 [00:03<00:00, 81.60it/s, now=None]\u001b[A\n",
      "chunk:  85%|███████████████▏  | 137/162 [42:10<07:41, 18.47s/it, now=None]\u001b[A"
     ]
    },
    {
     "name": "stdout",
     "output_type": "stream",
     "text": [
      "Moviepy - Done !\n",
      "Moviepy - video ready intro_10.mp4\n"
     ]
    }
   ],
   "source": [
    "\n",
    "for i in range(8):\n",
    "    video_clip = VideoFileClip('10_sec_video_intro.mp4')\n",
    "    audio_clip = AudioFileClip(\"intro_10sec_\"+ str(i+1) + \".mp3\")\n",
    "    audio_clip = audio_clip.audio_fadeout(0.3)\n",
    "    video_clip.audio = audio_clip\n",
    "    video_clip.write_videofile(\"intro_\" + str(i+3) + \".mp4\")"
   ]
  },
  {
   "cell_type": "markdown",
   "id": "56d11f1a-2c60-46e0-aadf-fcf8c8b10801",
   "metadata": {},
   "source": [
    "# Spanish guy laughing"
   ]
  },
  {
   "cell_type": "code",
   "execution_count": 3,
   "id": "10e88b3c-37b7-4cf4-a882-f8882c64a53e",
   "metadata": {},
   "outputs": [],
   "source": [
    "import os, boto3, logging, random\n",
    "from moviepy.editor import *\n",
    "from helpers import s3 as s3_helpers\n",
    "from moviepy import editor\n",
    "import moviepy\n",
    "\n",
    "s3 = boto3.client('s3')"
   ]
  },
  {
   "cell_type": "code",
   "execution_count": 4,
   "id": "69f9bce6-2493-47f9-acff-cda0b39eef80",
   "metadata": {},
   "outputs": [],
   "source": [
    "os.chdir('./tt')"
   ]
  },
  {
   "cell_type": "code",
   "execution_count": 8,
   "id": "c667bcb9-bcef-4b0e-a6fb-772d7f012dce",
   "metadata": {},
   "outputs": [],
   "source": [
    "video_clip = VideoFileClip('first.mp4')"
   ]
  },
  {
   "cell_type": "code",
   "execution_count": 9,
   "id": "413f55eb-78a3-4419-a684-8646b37e9a02",
   "metadata": {},
   "outputs": [],
   "source": [
    "duration = video_clip.duration\n",
    "w, h = video_clip.size"
   ]
  },
  {
   "cell_type": "code",
   "execution_count": 118,
   "id": "2bd33efc-ecb7-4294-9eb3-7c132be6a071",
   "metadata": {},
   "outputs": [
    {
     "data": {
      "text/plain": [
       "21.734"
      ]
     },
     "execution_count": 118,
     "metadata": {},
     "output_type": "execute_result"
    }
   ],
   "source": [
    "0.2 * duration"
   ]
  },
  {
   "cell_type": "code",
   "execution_count": 119,
   "id": "b09f4fd8-60e8-48d2-ba7e-9ddb5ba5ba84",
   "metadata": {},
   "outputs": [],
   "source": [
    "def download_a_random_clip(bucket_name, download_path, logger, s3=None, prefix=\"\"):\n",
    "        if not s3:\n",
    "            s3 = boto3.client(\"s3\")\n",
    "\n",
    "        params = {\"Bucket\": bucket_name}\n",
    "\n",
    "        params = (\n",
    "            params\n",
    "            if not prefix\n",
    "            else {**params, \"Prefix\": prefix + \"/\", \"StartAfter\": prefix + \"/\"}\n",
    "        )\n",
    "\n",
    "        objects = s3_helpers.list_objects_v2(s3, logger, **params)\n",
    "\n",
    "        random_clip = objects[random.randint(0, len(objects) - 1)]\n",
    "\n",
    "        file_path = os.path.join(\n",
    "            download_path,\n",
    "            random_clip if not prefix else random_clip.partition(prefix + \"/\")[2],\n",
    "        )\n",
    "\n",
    "        params = {\n",
    "            \"Bucket\": bucket_name,\n",
    "            \"Key\": random_clip,\n",
    "            \"Filename\": file_path,\n",
    "        }\n",
    "\n",
    "        s3_helpers.download_file(s3, logger, **params)\n",
    "\n",
    "        print(f\"Downloaded {random_clip} from {bucket_name}\")\n",
    "\n",
    "        return file_path"
   ]
  },
  {
   "cell_type": "code",
   "execution_count": 10,
   "id": "370b6303-7cce-4600-881f-9ad07c3e15d9",
   "metadata": {},
   "outputs": [],
   "source": [
    "# like_and_subscribe = download_a_random_clip(bucket_name='whodoesntlovereddit-like-and-subscribe', download_path='.', logger=logging.getLogger(), s3=s3)\n",
    "# like_and_subscribe = download_a_random_clip(bucket_name='whodoesntlovereddit-like-and-subscribe', download_path='.', logger=logging.getLogger(), s3=s3)\n",
    "like_and_subscribe_clip = VideoFileClip('scaled_like_and_subscribe_6.mp4')\n",
    "like_and_subscribe_clip = moviepy.video.fx.all.mask_color(like_and_subscribe_clip, color=[0,255,0], thr=20, s=3)\n",
    "# like_and_subscribe_clip = like_and_subscribe_clip.set_pos((0, h/2-150))\n"
   ]
  },
  {
   "cell_type": "code",
   "execution_count": 11,
   "id": "dd2682e2-4ec0-4584-967f-1adaf7490916",
   "metadata": {},
   "outputs": [],
   "source": [
    "final_clip = CompositeVideoClip([video_clip, like_and_subscribe_clip.set_start(0.2 * duration)])"
   ]
  },
  {
   "cell_type": "code",
   "execution_count": 12,
   "id": "177aceef-e5e6-4d5d-9066-621b573a2023",
   "metadata": {},
   "outputs": [
    {
     "name": "stdout",
     "output_type": "stream",
     "text": [
      "Moviepy - Building video final.mp4.\n",
      "MoviePy - Writing audio in finalTEMP_MPY_wvf_snd.mp3\n"
     ]
    },
    {
     "name": "stderr",
     "output_type": "stream",
     "text": [
      "                                                                                                        \r"
     ]
    },
    {
     "name": "stdout",
     "output_type": "stream",
     "text": [
      "MoviePy - Done.\n",
      "Moviepy - Writing video final.mp4\n",
      "\n"
     ]
    },
    {
     "name": "stderr",
     "output_type": "stream",
     "text": [
      "                                                                                                        \r"
     ]
    },
    {
     "name": "stdout",
     "output_type": "stream",
     "text": [
      "Moviepy - Done !\n",
      "Moviepy - video ready final.mp4\n"
     ]
    }
   ],
   "source": [
    "final_clip.write_videofile('final.mp4')"
   ]
  },
  {
   "cell_type": "code",
   "execution_count": 3,
   "id": "6587eae0-d16c-40a2-99f8-e6755056df35",
   "metadata": {},
   "outputs": [],
   "source": [
    "like_and_subscribe_clip = VideoFileClip('like_and_subscribe_6.mp4')"
   ]
  },
  {
   "cell_type": "code",
   "execution_count": 4,
   "id": "e93b23fe-4db0-49d5-8f8a-4b1672697d57",
   "metadata": {},
   "outputs": [],
   "source": [
    "like_and_subscribe_clip = like_and_subscribe_clip.resize((1920,1080))"
   ]
  },
  {
   "cell_type": "code",
   "execution_count": 5,
   "id": "86306822-c3aa-46f3-8e30-5e8d8d12653e",
   "metadata": {},
   "outputs": [
    {
     "name": "stdout",
     "output_type": "stream",
     "text": [
      "Moviepy - Building video check.mp4.\n",
      "MoviePy - Writing audio in checkTEMP_MPY_wvf_snd.mp3\n"
     ]
    },
    {
     "name": "stderr",
     "output_type": "stream",
     "text": [
      "                                                                                                        \r"
     ]
    },
    {
     "name": "stdout",
     "output_type": "stream",
     "text": [
      "MoviePy - Done.\n",
      "Moviepy - Writing video check.mp4\n",
      "\n"
     ]
    },
    {
     "name": "stderr",
     "output_type": "stream",
     "text": [
      "                                                                                                        \r"
     ]
    },
    {
     "name": "stdout",
     "output_type": "stream",
     "text": [
      "Moviepy - Done !\n",
      "Moviepy - video ready check.mp4\n"
     ]
    }
   ],
   "source": [
    "like_and_subscribe_clip.write_videofile('check.mp4')"
   ]
  },
  {
   "cell_type": "code",
   "execution_count": 7,
   "id": "7a42efcc-8149-4e2b-85fc-6154792d9043",
   "metadata": {
    "collapsed": true,
    "jupyter": {
     "outputs_hidden": true
    },
    "tags": []
   },
   "outputs": [
    {
     "name": "stdout",
     "output_type": "stream",
     "text": [
      "Moviepy - Building video scaled_like_and_subscribe_4.mp4.\n",
      "MoviePy - Writing audio in scaled_like_and_subscribe_4TEMP_MPY_wvf_snd.mp3\n"
     ]
    },
    {
     "name": "stderr",
     "output_type": "stream",
     "text": [
      "                                                                                                        \r"
     ]
    },
    {
     "name": "stdout",
     "output_type": "stream",
     "text": [
      "MoviePy - Done.\n",
      "Moviepy - Writing video scaled_like_and_subscribe_4.mp4\n",
      "\n"
     ]
    },
    {
     "name": "stderr",
     "output_type": "stream",
     "text": [
      "                                                                                                        \r"
     ]
    },
    {
     "name": "stdout",
     "output_type": "stream",
     "text": [
      "Moviepy - Done !\n",
      "Moviepy - video ready scaled_like_and_subscribe_4.mp4\n",
      "Moviepy - Building video scaled_like_and_subscribe_7.mp4.\n",
      "MoviePy - Writing audio in scaled_like_and_subscribe_7TEMP_MPY_wvf_snd.mp3\n"
     ]
    },
    {
     "name": "stderr",
     "output_type": "stream",
     "text": [
      "                                                                                                        \r"
     ]
    },
    {
     "name": "stdout",
     "output_type": "stream",
     "text": [
      "MoviePy - Done.\n",
      "Moviepy - Writing video scaled_like_and_subscribe_7.mp4\n",
      "\n"
     ]
    },
    {
     "name": "stderr",
     "output_type": "stream",
     "text": [
      "                                                                                                        \r"
     ]
    },
    {
     "name": "stdout",
     "output_type": "stream",
     "text": [
      "Moviepy - Done !\n",
      "Moviepy - video ready scaled_like_and_subscribe_7.mp4\n",
      "Moviepy - Building video scaled_like_and_subscribe_5.mp4.\n",
      "MoviePy - Writing audio in scaled_like_and_subscribe_5TEMP_MPY_wvf_snd.mp3\n"
     ]
    },
    {
     "name": "stderr",
     "output_type": "stream",
     "text": [
      "                                                                                                        \r"
     ]
    },
    {
     "name": "stdout",
     "output_type": "stream",
     "text": [
      "MoviePy - Done.\n",
      "Moviepy - Writing video scaled_like_and_subscribe_5.mp4\n",
      "\n"
     ]
    },
    {
     "name": "stderr",
     "output_type": "stream",
     "text": [
      "                                                                                                        \r"
     ]
    },
    {
     "name": "stdout",
     "output_type": "stream",
     "text": [
      "Moviepy - Done !\n",
      "Moviepy - video ready scaled_like_and_subscribe_5.mp4\n",
      "Moviepy - Building video scaled_like_and_subscribe_3.mp4.\n",
      "MoviePy - Writing audio in scaled_like_and_subscribe_3TEMP_MPY_wvf_snd.mp3\n"
     ]
    },
    {
     "name": "stderr",
     "output_type": "stream",
     "text": [
      "                                                                                                        "
     ]
    },
    {
     "name": "stdout",
     "output_type": "stream",
     "text": [
      "MoviePy - Done.\n",
      "Moviepy - Writing video scaled_like_and_subscribe_3.mp4\n",
      "\n"
     ]
    },
    {
     "name": "stderr",
     "output_type": "stream",
     "text": [
      "                                                                                                        \r"
     ]
    },
    {
     "name": "stdout",
     "output_type": "stream",
     "text": [
      "Moviepy - Done !\n",
      "Moviepy - video ready scaled_like_and_subscribe_3.mp4\n",
      "Moviepy - Building video scaled_like_and_subscribe_2.mp4.\n",
      "MoviePy - Writing audio in scaled_like_and_subscribe_2TEMP_MPY_wvf_snd.mp3\n"
     ]
    },
    {
     "name": "stderr",
     "output_type": "stream",
     "text": [
      "                                                                                                        \r"
     ]
    },
    {
     "name": "stdout",
     "output_type": "stream",
     "text": [
      "MoviePy - Done.\n",
      "Moviepy - Writing video scaled_like_and_subscribe_2.mp4\n",
      "\n"
     ]
    },
    {
     "name": "stderr",
     "output_type": "stream",
     "text": [
      "                                                                                                        \r"
     ]
    },
    {
     "name": "stdout",
     "output_type": "stream",
     "text": [
      "Moviepy - Done !\n",
      "Moviepy - video ready scaled_like_and_subscribe_2.mp4\n",
      "Moviepy - Building video scaled_like_and_subscribe_1.mp4.\n",
      "MoviePy - Writing audio in scaled_like_and_subscribe_1TEMP_MPY_wvf_snd.mp3\n"
     ]
    },
    {
     "name": "stderr",
     "output_type": "stream",
     "text": [
      "                                                                                                        \r"
     ]
    },
    {
     "name": "stdout",
     "output_type": "stream",
     "text": [
      "MoviePy - Done.\n",
      "Moviepy - Writing video scaled_like_and_subscribe_1.mp4\n",
      "\n"
     ]
    },
    {
     "name": "stderr",
     "output_type": "stream",
     "text": [
      "                                                                                                        \r"
     ]
    },
    {
     "name": "stdout",
     "output_type": "stream",
     "text": [
      "Moviepy - Done !\n",
      "Moviepy - video ready scaled_like_and_subscribe_1.mp4\n",
      "Moviepy - Building video scaled_like_and_subscribe_6.mp4.\n",
      "MoviePy - Writing audio in scaled_like_and_subscribe_6TEMP_MPY_wvf_snd.mp3\n"
     ]
    },
    {
     "name": "stderr",
     "output_type": "stream",
     "text": [
      "                                                                                                        \r"
     ]
    },
    {
     "name": "stdout",
     "output_type": "stream",
     "text": [
      "MoviePy - Done.\n",
      "Moviepy - Writing video scaled_like_and_subscribe_6.mp4\n",
      "\n"
     ]
    },
    {
     "name": "stderr",
     "output_type": "stream",
     "text": [
      "                                                                                                        \r"
     ]
    },
    {
     "name": "stdout",
     "output_type": "stream",
     "text": [
      "Moviepy - Done !\n",
      "Moviepy - video ready scaled_like_and_subscribe_6.mp4\n"
     ]
    }
   ],
   "source": [
    "for item in os.listdir():\n",
    "    if item.startswith('like'):\n",
    "        like_and_subscribe_clip = VideoFileClip(item)\n",
    "        like_and_subscribe_clip = like_and_subscribe_clip.resize((1920,1080))\n",
    "        like_and_subscribe_clip.write_videofile(f'scaled_{item}')\n",
    "        "
   ]
  },
  {
   "cell_type": "markdown",
   "id": "c8a7e92b-6202-410c-af0c-a7cab34a064c",
   "metadata": {},
   "source": [
    "# Scaling transition clips"
   ]
  },
  {
   "cell_type": "code",
   "execution_count": 20,
   "id": "bd6af7fa-d42f-45b7-b927-53cb3a8cf32f",
   "metadata": {
    "tags": []
   },
   "outputs": [],
   "source": [
    "import subprocess\n",
    "for item in os.listdir():\n",
    "#     clip = VideoFileClip(item)\n",
    "#     clip = clip.resize((1920,1080))\n",
    "#     clip.write_videofile(f'scaled_{item}')\n",
    "    ffmpeg_command = [\n",
    "        \"ffmpeg\",\n",
    "        \"-hide_banner\",\n",
    "        \"-loglevel\",\n",
    "        \"error\",\n",
    "        \"-i\",\n",
    "         item,\n",
    "        \"-vf\",\n",
    "        \"scale=1920:1080:force_original_aspect_ratio=decrease,pad=1920:1080:-1:-1:color=black\",\n",
    "        f\"scaled_{item}\",\n",
    "        \"-y\",\n",
    "    ]\n",
    "    \n",
    "    subprocess.run(ffmpeg_command, stdout=None, stderr=subprocess.PIPE)\n"
   ]
  },
  {
   "cell_type": "code",
   "execution_count": null,
   "id": "bf1488bc-07c2-4690-91de-429dcd0f2927",
   "metadata": {},
   "outputs": [],
   "source": [
    "# Testing if the lion vid is detected as vid or gif ?"
   ]
  },
  {
   "cell_type": "code",
   "execution_count": 2,
   "id": "da678516-0deb-4a7d-86c2-d1991be18a85",
   "metadata": {},
   "outputs": [
    {
     "ename": "NameError",
     "evalue": "name 'boto3' is not defined",
     "output_type": "error",
     "traceback": [
      "\u001b[0;31m---------------------------------------------------------------------------\u001b[0m",
      "\u001b[0;31mNameError\u001b[0m                                 Traceback (most recent call last)",
      "\u001b[0;32m/tmp/ipykernel_46529/3584822840.py\u001b[0m in \u001b[0;36m<module>\u001b[0;34m\u001b[0m\n\u001b[1;32m     10\u001b[0m \u001b[0;32mfrom\u001b[0m \u001b[0mentities\u001b[0m\u001b[0;34m.\u001b[0m\u001b[0mRedditAccount\u001b[0m \u001b[0;32mimport\u001b[0m \u001b[0mRedditAccount\u001b[0m\u001b[0;34m\u001b[0m\u001b[0;34m\u001b[0m\u001b[0m\n\u001b[1;32m     11\u001b[0m \u001b[0;32mimport\u001b[0m \u001b[0mpprint\u001b[0m\u001b[0;34m\u001b[0m\u001b[0;34m\u001b[0m\u001b[0m\n\u001b[0;32m---> 12\u001b[0;31m \u001b[0mddb\u001b[0m \u001b[0;34m=\u001b[0m \u001b[0mboto3\u001b[0m\u001b[0;34m.\u001b[0m\u001b[0mclient\u001b[0m\u001b[0;34m(\u001b[0m\u001b[0;34m'dynamodb'\u001b[0m\u001b[0;34m)\u001b[0m\u001b[0;34m\u001b[0m\u001b[0;34m\u001b[0m\u001b[0m\n\u001b[0m\u001b[1;32m     13\u001b[0m \u001b[0mlogger\u001b[0m \u001b[0;34m=\u001b[0m \u001b[0mlogging\u001b[0m\u001b[0;34m.\u001b[0m\u001b[0mgetLogger\u001b[0m\u001b[0;34m(\u001b[0m\u001b[0;34m)\u001b[0m\u001b[0;34m\u001b[0m\u001b[0;34m\u001b[0m\u001b[0m\n",
      "\u001b[0;31mNameError\u001b[0m: name 'boto3' is not defined"
     ]
    }
   ],
   "source": [
    "REDDIT_AUTH_URL = 'https://www.reddit.com/api/v1/access_token'\n",
    "REDDIT_ACCOUNTS_TABLE_NAME = 'RedditAccountsTable-dev'\n",
    "DAILY_UPLOADS_TABLE_NAME = 'DailyUploadsTable-dev'\n",
    "REDDIT_API_URL_TOP = 'https://oauth.reddit.com/r/placeholder_value/top'\n",
    "\n",
    "subreddit='NatureIsFuckingLit'\n",
    "\n",
    "import logging\n",
    "from entities.GatherPosts import GatherPosts\n",
    "from entities.RedditAccount import RedditAccount\n",
    "import pprint\n",
    "ddb = boto3.client('dynamodb')\n",
    "logger = logging.getLogger()"
   ]
  },
  {
   "cell_type": "code",
   "execution_count": null,
   "id": "ba679544-b293-45ad-92f7-60c57390a1d4",
   "metadata": {},
   "outputs": [],
   "source": []
  },
  {
   "cell_type": "code",
   "execution_count": null,
   "id": "f5204ce0-e671-4881-b93e-67eea09768bb",
   "metadata": {},
   "outputs": [],
   "source": []
  },
  {
   "cell_type": "code",
   "execution_count": 26,
   "id": "ae36afac-603f-43bd-a465-dc6907676661",
   "metadata": {},
   "outputs": [],
   "source": [
    "REDDIT_API_URL_TOP = REDDIT_API_URL_TOP.replace(\"placeholder_value\", subreddit)\n",
    "\n",
    "reddit_account = RedditAccount(subreddit=subreddit, ddb=ddb, logger=logger)\n",
    "reddit_account.fetch_and_update_account_details(REDDIT_ACCOUNTS_TABLE_NAME)\n",
    "reddit_account.authenticate_with_api()\n",
    "reddit_account.fetch_and_update_access_token(REDDIT_AUTH_URL)\n",
    "\n",
    "pp = pprint.PrettyPrinter(indent=2, compact=True, width=80)"
   ]
  },
  {
   "cell_type": "code",
   "execution_count": 27,
   "id": "e3ac1431-af65-4706-a130-b0062aa0d301",
   "metadata": {},
   "outputs": [
    {
     "data": {
      "text/plain": [
       "'https://oauth.reddit.com/r/NatureIsFuckingLit/top'"
      ]
     },
     "execution_count": 27,
     "metadata": {},
     "output_type": "execute_result"
    }
   ],
   "source": [
    "REDDIT_API_URL_TOP"
   ]
  },
  {
   "cell_type": "code",
   "execution_count": 39,
   "id": "89b0d06e-5720-45db-bd8d-5661043dbc25",
   "metadata": {},
   "outputs": [
    {
     "name": "stdout",
     "output_type": "stream",
     "text": [
      "h\n"
     ]
    }
   ],
   "source": [
    "import time\n",
    "time.sleep(1)\n",
    "print('h')"
   ]
  },
  {
   "cell_type": "code",
   "execution_count": 28,
   "id": "0d0d44e3-9647-4471-8d1d-bcbbb14a92c3",
   "metadata": {},
   "outputs": [],
   "source": [
    "gather_posts = GatherPosts(subreddit=subreddit, logger=logger)"
   ]
  },
  {
   "cell_type": "code",
   "execution_count": 37,
   "id": "aca4fa30-3974-4a47-8919-9f3b51a49ec5",
   "metadata": {
    "collapsed": true,
    "jupyter": {
     "outputs_hidden": true
    },
    "tags": []
   },
   "outputs": [
    {
     "name": "stdout",
     "output_type": "stream",
     "text": [
      "Fetched 70 till now\n",
      "Total duration of videos till now : 1316\n",
      "Fetched 70 till now\n",
      "Total duration of videos till now : 1316\n",
      "Fetched 70 till now\n",
      "Total duration of videos till now : 1316\n",
      "Fetched 70 till now\n",
      "Total duration of videos till now : 1316\n",
      "Fetched 70 till now\n",
      "Total duration of videos till now : 1316\n",
      "Fetched 70 till now\n",
      "Total duration of videos till now : 1316\n",
      "Fetched 70 till now\n",
      "Total duration of videos till now : 1316\n",
      "Fetched 70 till now\n",
      "Total duration of videos till now : 1316\n",
      "Fetched 70 till now\n",
      "Total duration of videos till now : 1316\n"
     ]
    },
    {
     "ename": "KeyboardInterrupt",
     "evalue": "",
     "output_type": "error",
     "traceback": [
      "\u001b[0;31m---------------------------------------------------------------------------\u001b[0m",
      "\u001b[0;31mKeyboardInterrupt\u001b[0m                         Traceback (most recent call last)",
      "\u001b[0;32m/tmp/ipykernel_6382/2319532533.py\u001b[0m in \u001b[0;36m<module>\u001b[0;34m\u001b[0m\n\u001b[1;32m      2\u001b[0m \u001b[0;32mwhile\u001b[0m \u001b[0mgather_posts\u001b[0m\u001b[0;34m.\u001b[0m\u001b[0mtotal_duration\u001b[0m \u001b[0;34m<\u001b[0m \u001b[0;36m2001\u001b[0m\u001b[0;34m:\u001b[0m\u001b[0;34m\u001b[0m\u001b[0;34m\u001b[0m\u001b[0m\n\u001b[1;32m      3\u001b[0m     \u001b[0mlogger\u001b[0m\u001b[0;34m.\u001b[0m\u001b[0minfo\u001b[0m\u001b[0;34m(\u001b[0m\u001b[0;34mf\"Fetching subreddit: {subreddit} posts after {after}\"\u001b[0m\u001b[0;34m)\u001b[0m\u001b[0;34m\u001b[0m\u001b[0;34m\u001b[0m\u001b[0m\n\u001b[0;32m----> 4\u001b[0;31m     posts = reddit_account.fetch_posts_as_json(\n\u001b[0m\u001b[1;32m      5\u001b[0m         \u001b[0mREDDIT_API_URL_TOP\u001b[0m\u001b[0;34m,\u001b[0m \u001b[0mparams\u001b[0m\u001b[0;34m=\u001b[0m\u001b[0;34m{\u001b[0m\u001b[0;34m\"limit\"\u001b[0m\u001b[0;34m:\u001b[0m \u001b[0;34m\"100\"\u001b[0m\u001b[0;34m,\u001b[0m \u001b[0;34m\"after\"\u001b[0m\u001b[0;34m:\u001b[0m \u001b[0mafter\u001b[0m\u001b[0;34m}\u001b[0m\u001b[0;34m\u001b[0m\u001b[0;34m\u001b[0m\u001b[0m\n\u001b[1;32m      6\u001b[0m     )\n",
      "\u001b[0;32m~/work/personal/whodoesntlovereddit/images/entities/RedditAccount.py\u001b[0m in \u001b[0;36mfetch_posts_as_json\u001b[0;34m(self, url, params)\u001b[0m\n\u001b[1;32m     81\u001b[0m     \u001b[0;32mdef\u001b[0m \u001b[0mfetch_posts_as_json\u001b[0m\u001b[0;34m(\u001b[0m\u001b[0mself\u001b[0m\u001b[0;34m,\u001b[0m \u001b[0murl\u001b[0m\u001b[0;34m,\u001b[0m \u001b[0mparams\u001b[0m\u001b[0;34m=\u001b[0m\u001b[0;34m{\u001b[0m\u001b[0;34m}\u001b[0m\u001b[0;34m)\u001b[0m\u001b[0;34m:\u001b[0m\u001b[0;34m\u001b[0m\u001b[0;34m\u001b[0m\u001b[0m\n\u001b[1;32m     82\u001b[0m         \u001b[0;32mtry\u001b[0m\u001b[0;34m:\u001b[0m\u001b[0;34m\u001b[0m\u001b[0;34m\u001b[0m\u001b[0m\n\u001b[0;32m---> 83\u001b[0;31m             \u001b[0mres\u001b[0m \u001b[0;34m=\u001b[0m \u001b[0mrequests\u001b[0m\u001b[0;34m.\u001b[0m\u001b[0mget\u001b[0m\u001b[0;34m(\u001b[0m\u001b[0murl\u001b[0m\u001b[0;34m,\u001b[0m \u001b[0mheaders\u001b[0m\u001b[0;34m=\u001b[0m\u001b[0mself\u001b[0m\u001b[0;34m.\u001b[0m\u001b[0mheaders\u001b[0m\u001b[0;34m,\u001b[0m \u001b[0mparams\u001b[0m\u001b[0;34m=\u001b[0m\u001b[0mparams\u001b[0m\u001b[0;34m)\u001b[0m\u001b[0;34m\u001b[0m\u001b[0;34m\u001b[0m\u001b[0m\n\u001b[0m\u001b[1;32m     84\u001b[0m             \u001b[0;32mreturn\u001b[0m \u001b[0mres\u001b[0m\u001b[0;34m.\u001b[0m\u001b[0mjson\u001b[0m\u001b[0;34m(\u001b[0m\u001b[0;34m)\u001b[0m\u001b[0;34m\u001b[0m\u001b[0;34m\u001b[0m\u001b[0m\n\u001b[1;32m     85\u001b[0m \u001b[0;34m\u001b[0m\u001b[0m\n",
      "\u001b[0;32m~/work/personal/whodoesntlovereddit/.venv/lib/python3.8/site-packages/requests/api.py\u001b[0m in \u001b[0;36mget\u001b[0;34m(url, params, **kwargs)\u001b[0m\n\u001b[1;32m     73\u001b[0m     \"\"\"\n\u001b[1;32m     74\u001b[0m \u001b[0;34m\u001b[0m\u001b[0m\n\u001b[0;32m---> 75\u001b[0;31m     \u001b[0;32mreturn\u001b[0m \u001b[0mrequest\u001b[0m\u001b[0;34m(\u001b[0m\u001b[0;34m'get'\u001b[0m\u001b[0;34m,\u001b[0m \u001b[0murl\u001b[0m\u001b[0;34m,\u001b[0m \u001b[0mparams\u001b[0m\u001b[0;34m=\u001b[0m\u001b[0mparams\u001b[0m\u001b[0;34m,\u001b[0m \u001b[0;34m**\u001b[0m\u001b[0mkwargs\u001b[0m\u001b[0;34m)\u001b[0m\u001b[0;34m\u001b[0m\u001b[0;34m\u001b[0m\u001b[0m\n\u001b[0m\u001b[1;32m     76\u001b[0m \u001b[0;34m\u001b[0m\u001b[0m\n\u001b[1;32m     77\u001b[0m \u001b[0;34m\u001b[0m\u001b[0m\n",
      "\u001b[0;32m~/work/personal/whodoesntlovereddit/.venv/lib/python3.8/site-packages/requests/api.py\u001b[0m in \u001b[0;36mrequest\u001b[0;34m(method, url, **kwargs)\u001b[0m\n\u001b[1;32m     59\u001b[0m     \u001b[0;31m# cases, and look like a memory leak in others.\u001b[0m\u001b[0;34m\u001b[0m\u001b[0;34m\u001b[0m\u001b[0;34m\u001b[0m\u001b[0m\n\u001b[1;32m     60\u001b[0m     \u001b[0;32mwith\u001b[0m \u001b[0msessions\u001b[0m\u001b[0;34m.\u001b[0m\u001b[0mSession\u001b[0m\u001b[0;34m(\u001b[0m\u001b[0;34m)\u001b[0m \u001b[0;32mas\u001b[0m \u001b[0msession\u001b[0m\u001b[0;34m:\u001b[0m\u001b[0;34m\u001b[0m\u001b[0;34m\u001b[0m\u001b[0m\n\u001b[0;32m---> 61\u001b[0;31m         \u001b[0;32mreturn\u001b[0m \u001b[0msession\u001b[0m\u001b[0;34m.\u001b[0m\u001b[0mrequest\u001b[0m\u001b[0;34m(\u001b[0m\u001b[0mmethod\u001b[0m\u001b[0;34m=\u001b[0m\u001b[0mmethod\u001b[0m\u001b[0;34m,\u001b[0m \u001b[0murl\u001b[0m\u001b[0;34m=\u001b[0m\u001b[0murl\u001b[0m\u001b[0;34m,\u001b[0m \u001b[0;34m**\u001b[0m\u001b[0mkwargs\u001b[0m\u001b[0;34m)\u001b[0m\u001b[0;34m\u001b[0m\u001b[0;34m\u001b[0m\u001b[0m\n\u001b[0m\u001b[1;32m     62\u001b[0m \u001b[0;34m\u001b[0m\u001b[0m\n\u001b[1;32m     63\u001b[0m \u001b[0;34m\u001b[0m\u001b[0m\n",
      "\u001b[0;32m~/work/personal/whodoesntlovereddit/.venv/lib/python3.8/site-packages/requests/sessions.py\u001b[0m in \u001b[0;36mrequest\u001b[0;34m(self, method, url, params, data, headers, cookies, files, auth, timeout, allow_redirects, proxies, hooks, stream, verify, cert, json)\u001b[0m\n\u001b[1;32m    540\u001b[0m         }\n\u001b[1;32m    541\u001b[0m         \u001b[0msend_kwargs\u001b[0m\u001b[0;34m.\u001b[0m\u001b[0mupdate\u001b[0m\u001b[0;34m(\u001b[0m\u001b[0msettings\u001b[0m\u001b[0;34m)\u001b[0m\u001b[0;34m\u001b[0m\u001b[0;34m\u001b[0m\u001b[0m\n\u001b[0;32m--> 542\u001b[0;31m         \u001b[0mresp\u001b[0m \u001b[0;34m=\u001b[0m \u001b[0mself\u001b[0m\u001b[0;34m.\u001b[0m\u001b[0msend\u001b[0m\u001b[0;34m(\u001b[0m\u001b[0mprep\u001b[0m\u001b[0;34m,\u001b[0m \u001b[0;34m**\u001b[0m\u001b[0msend_kwargs\u001b[0m\u001b[0;34m)\u001b[0m\u001b[0;34m\u001b[0m\u001b[0;34m\u001b[0m\u001b[0m\n\u001b[0m\u001b[1;32m    543\u001b[0m \u001b[0;34m\u001b[0m\u001b[0m\n\u001b[1;32m    544\u001b[0m         \u001b[0;32mreturn\u001b[0m \u001b[0mresp\u001b[0m\u001b[0;34m\u001b[0m\u001b[0;34m\u001b[0m\u001b[0m\n",
      "\u001b[0;32m~/work/personal/whodoesntlovereddit/.venv/lib/python3.8/site-packages/requests/sessions.py\u001b[0m in \u001b[0;36msend\u001b[0;34m(self, request, **kwargs)\u001b[0m\n\u001b[1;32m    653\u001b[0m \u001b[0;34m\u001b[0m\u001b[0m\n\u001b[1;32m    654\u001b[0m         \u001b[0;31m# Send the request\u001b[0m\u001b[0;34m\u001b[0m\u001b[0;34m\u001b[0m\u001b[0;34m\u001b[0m\u001b[0m\n\u001b[0;32m--> 655\u001b[0;31m         \u001b[0mr\u001b[0m \u001b[0;34m=\u001b[0m \u001b[0madapter\u001b[0m\u001b[0;34m.\u001b[0m\u001b[0msend\u001b[0m\u001b[0;34m(\u001b[0m\u001b[0mrequest\u001b[0m\u001b[0;34m,\u001b[0m \u001b[0;34m**\u001b[0m\u001b[0mkwargs\u001b[0m\u001b[0;34m)\u001b[0m\u001b[0;34m\u001b[0m\u001b[0;34m\u001b[0m\u001b[0m\n\u001b[0m\u001b[1;32m    656\u001b[0m \u001b[0;34m\u001b[0m\u001b[0m\n\u001b[1;32m    657\u001b[0m         \u001b[0;31m# Total elapsed time of the request (approximately)\u001b[0m\u001b[0;34m\u001b[0m\u001b[0;34m\u001b[0m\u001b[0;34m\u001b[0m\u001b[0m\n",
      "\u001b[0;32m~/work/personal/whodoesntlovereddit/.venv/lib/python3.8/site-packages/requests/adapters.py\u001b[0m in \u001b[0;36msend\u001b[0;34m(self, request, stream, timeout, verify, cert, proxies)\u001b[0m\n\u001b[1;32m    437\u001b[0m         \u001b[0;32mtry\u001b[0m\u001b[0;34m:\u001b[0m\u001b[0;34m\u001b[0m\u001b[0;34m\u001b[0m\u001b[0m\n\u001b[1;32m    438\u001b[0m             \u001b[0;32mif\u001b[0m \u001b[0;32mnot\u001b[0m \u001b[0mchunked\u001b[0m\u001b[0;34m:\u001b[0m\u001b[0;34m\u001b[0m\u001b[0;34m\u001b[0m\u001b[0m\n\u001b[0;32m--> 439\u001b[0;31m                 resp = conn.urlopen(\n\u001b[0m\u001b[1;32m    440\u001b[0m                     \u001b[0mmethod\u001b[0m\u001b[0;34m=\u001b[0m\u001b[0mrequest\u001b[0m\u001b[0;34m.\u001b[0m\u001b[0mmethod\u001b[0m\u001b[0;34m,\u001b[0m\u001b[0;34m\u001b[0m\u001b[0;34m\u001b[0m\u001b[0m\n\u001b[1;32m    441\u001b[0m                     \u001b[0murl\u001b[0m\u001b[0;34m=\u001b[0m\u001b[0murl\u001b[0m\u001b[0;34m,\u001b[0m\u001b[0;34m\u001b[0m\u001b[0;34m\u001b[0m\u001b[0m\n",
      "\u001b[0;32m~/work/personal/whodoesntlovereddit/.venv/lib/python3.8/site-packages/urllib3/connectionpool.py\u001b[0m in \u001b[0;36murlopen\u001b[0;34m(self, method, url, body, headers, retries, redirect, assert_same_host, timeout, pool_timeout, release_conn, chunked, body_pos, **response_kw)\u001b[0m\n\u001b[1;32m    697\u001b[0m \u001b[0;34m\u001b[0m\u001b[0m\n\u001b[1;32m    698\u001b[0m             \u001b[0;31m# Make the request on the httplib connection object.\u001b[0m\u001b[0;34m\u001b[0m\u001b[0;34m\u001b[0m\u001b[0;34m\u001b[0m\u001b[0m\n\u001b[0;32m--> 699\u001b[0;31m             httplib_response = self._make_request(\n\u001b[0m\u001b[1;32m    700\u001b[0m                 \u001b[0mconn\u001b[0m\u001b[0;34m,\u001b[0m\u001b[0;34m\u001b[0m\u001b[0;34m\u001b[0m\u001b[0m\n\u001b[1;32m    701\u001b[0m                 \u001b[0mmethod\u001b[0m\u001b[0;34m,\u001b[0m\u001b[0;34m\u001b[0m\u001b[0;34m\u001b[0m\u001b[0m\n",
      "\u001b[0;32m~/work/personal/whodoesntlovereddit/.venv/lib/python3.8/site-packages/urllib3/connectionpool.py\u001b[0m in \u001b[0;36m_make_request\u001b[0;34m(self, conn, method, url, timeout, chunked, **httplib_request_kw)\u001b[0m\n\u001b[1;32m    443\u001b[0m                     \u001b[0;31m# Python 3 (including for exceptions like SystemExit).\u001b[0m\u001b[0;34m\u001b[0m\u001b[0;34m\u001b[0m\u001b[0;34m\u001b[0m\u001b[0m\n\u001b[1;32m    444\u001b[0m                     \u001b[0;31m# Otherwise it looks like a bug in the code.\u001b[0m\u001b[0;34m\u001b[0m\u001b[0;34m\u001b[0m\u001b[0;34m\u001b[0m\u001b[0m\n\u001b[0;32m--> 445\u001b[0;31m                     \u001b[0msix\u001b[0m\u001b[0;34m.\u001b[0m\u001b[0mraise_from\u001b[0m\u001b[0;34m(\u001b[0m\u001b[0me\u001b[0m\u001b[0;34m,\u001b[0m \u001b[0;32mNone\u001b[0m\u001b[0;34m)\u001b[0m\u001b[0;34m\u001b[0m\u001b[0;34m\u001b[0m\u001b[0m\n\u001b[0m\u001b[1;32m    446\u001b[0m         \u001b[0;32mexcept\u001b[0m \u001b[0;34m(\u001b[0m\u001b[0mSocketTimeout\u001b[0m\u001b[0;34m,\u001b[0m \u001b[0mBaseSSLError\u001b[0m\u001b[0;34m,\u001b[0m \u001b[0mSocketError\u001b[0m\u001b[0;34m)\u001b[0m \u001b[0;32mas\u001b[0m \u001b[0me\u001b[0m\u001b[0;34m:\u001b[0m\u001b[0;34m\u001b[0m\u001b[0;34m\u001b[0m\u001b[0m\n\u001b[1;32m    447\u001b[0m             \u001b[0mself\u001b[0m\u001b[0;34m.\u001b[0m\u001b[0m_raise_timeout\u001b[0m\u001b[0;34m(\u001b[0m\u001b[0merr\u001b[0m\u001b[0;34m=\u001b[0m\u001b[0me\u001b[0m\u001b[0;34m,\u001b[0m \u001b[0murl\u001b[0m\u001b[0;34m=\u001b[0m\u001b[0murl\u001b[0m\u001b[0;34m,\u001b[0m \u001b[0mtimeout_value\u001b[0m\u001b[0;34m=\u001b[0m\u001b[0mread_timeout\u001b[0m\u001b[0;34m)\u001b[0m\u001b[0;34m\u001b[0m\u001b[0;34m\u001b[0m\u001b[0m\n",
      "\u001b[0;32m~/work/personal/whodoesntlovereddit/.venv/lib/python3.8/site-packages/urllib3/packages/six.py\u001b[0m in \u001b[0;36mraise_from\u001b[0;34m(value, from_value)\u001b[0m\n",
      "\u001b[0;32m~/work/personal/whodoesntlovereddit/.venv/lib/python3.8/site-packages/urllib3/connectionpool.py\u001b[0m in \u001b[0;36m_make_request\u001b[0;34m(self, conn, method, url, timeout, chunked, **httplib_request_kw)\u001b[0m\n\u001b[1;32m    438\u001b[0m                 \u001b[0;31m# Python 3\u001b[0m\u001b[0;34m\u001b[0m\u001b[0;34m\u001b[0m\u001b[0;34m\u001b[0m\u001b[0m\n\u001b[1;32m    439\u001b[0m                 \u001b[0;32mtry\u001b[0m\u001b[0;34m:\u001b[0m\u001b[0;34m\u001b[0m\u001b[0;34m\u001b[0m\u001b[0m\n\u001b[0;32m--> 440\u001b[0;31m                     \u001b[0mhttplib_response\u001b[0m \u001b[0;34m=\u001b[0m \u001b[0mconn\u001b[0m\u001b[0;34m.\u001b[0m\u001b[0mgetresponse\u001b[0m\u001b[0;34m(\u001b[0m\u001b[0;34m)\u001b[0m\u001b[0;34m\u001b[0m\u001b[0;34m\u001b[0m\u001b[0m\n\u001b[0m\u001b[1;32m    441\u001b[0m                 \u001b[0;32mexcept\u001b[0m \u001b[0mBaseException\u001b[0m \u001b[0;32mas\u001b[0m \u001b[0me\u001b[0m\u001b[0;34m:\u001b[0m\u001b[0;34m\u001b[0m\u001b[0;34m\u001b[0m\u001b[0m\n\u001b[1;32m    442\u001b[0m                     \u001b[0;31m# Remove the TypeError from the exception chain in\u001b[0m\u001b[0;34m\u001b[0m\u001b[0;34m\u001b[0m\u001b[0;34m\u001b[0m\u001b[0m\n",
      "\u001b[0;32m/usr/lib/python3.8/http/client.py\u001b[0m in \u001b[0;36mgetresponse\u001b[0;34m(self)\u001b[0m\n\u001b[1;32m   1342\u001b[0m         \u001b[0;32mtry\u001b[0m\u001b[0;34m:\u001b[0m\u001b[0;34m\u001b[0m\u001b[0;34m\u001b[0m\u001b[0m\n\u001b[1;32m   1343\u001b[0m             \u001b[0;32mtry\u001b[0m\u001b[0;34m:\u001b[0m\u001b[0;34m\u001b[0m\u001b[0;34m\u001b[0m\u001b[0m\n\u001b[0;32m-> 1344\u001b[0;31m                 \u001b[0mresponse\u001b[0m\u001b[0;34m.\u001b[0m\u001b[0mbegin\u001b[0m\u001b[0;34m(\u001b[0m\u001b[0;34m)\u001b[0m\u001b[0;34m\u001b[0m\u001b[0;34m\u001b[0m\u001b[0m\n\u001b[0m\u001b[1;32m   1345\u001b[0m             \u001b[0;32mexcept\u001b[0m \u001b[0mConnectionError\u001b[0m\u001b[0;34m:\u001b[0m\u001b[0;34m\u001b[0m\u001b[0;34m\u001b[0m\u001b[0m\n\u001b[1;32m   1346\u001b[0m                 \u001b[0mself\u001b[0m\u001b[0;34m.\u001b[0m\u001b[0mclose\u001b[0m\u001b[0;34m(\u001b[0m\u001b[0;34m)\u001b[0m\u001b[0;34m\u001b[0m\u001b[0;34m\u001b[0m\u001b[0m\n",
      "\u001b[0;32m/usr/lib/python3.8/http/client.py\u001b[0m in \u001b[0;36mbegin\u001b[0;34m(self)\u001b[0m\n\u001b[1;32m    305\u001b[0m         \u001b[0;31m# read until we get a non-100 response\u001b[0m\u001b[0;34m\u001b[0m\u001b[0;34m\u001b[0m\u001b[0;34m\u001b[0m\u001b[0m\n\u001b[1;32m    306\u001b[0m         \u001b[0;32mwhile\u001b[0m \u001b[0;32mTrue\u001b[0m\u001b[0;34m:\u001b[0m\u001b[0;34m\u001b[0m\u001b[0;34m\u001b[0m\u001b[0m\n\u001b[0;32m--> 307\u001b[0;31m             \u001b[0mversion\u001b[0m\u001b[0;34m,\u001b[0m \u001b[0mstatus\u001b[0m\u001b[0;34m,\u001b[0m \u001b[0mreason\u001b[0m \u001b[0;34m=\u001b[0m \u001b[0mself\u001b[0m\u001b[0;34m.\u001b[0m\u001b[0m_read_status\u001b[0m\u001b[0;34m(\u001b[0m\u001b[0;34m)\u001b[0m\u001b[0;34m\u001b[0m\u001b[0;34m\u001b[0m\u001b[0m\n\u001b[0m\u001b[1;32m    308\u001b[0m             \u001b[0;32mif\u001b[0m \u001b[0mstatus\u001b[0m \u001b[0;34m!=\u001b[0m \u001b[0mCONTINUE\u001b[0m\u001b[0;34m:\u001b[0m\u001b[0;34m\u001b[0m\u001b[0;34m\u001b[0m\u001b[0m\n\u001b[1;32m    309\u001b[0m                 \u001b[0;32mbreak\u001b[0m\u001b[0;34m\u001b[0m\u001b[0;34m\u001b[0m\u001b[0m\n",
      "\u001b[0;32m/usr/lib/python3.8/http/client.py\u001b[0m in \u001b[0;36m_read_status\u001b[0;34m(self)\u001b[0m\n\u001b[1;32m    266\u001b[0m \u001b[0;34m\u001b[0m\u001b[0m\n\u001b[1;32m    267\u001b[0m     \u001b[0;32mdef\u001b[0m \u001b[0m_read_status\u001b[0m\u001b[0;34m(\u001b[0m\u001b[0mself\u001b[0m\u001b[0;34m)\u001b[0m\u001b[0;34m:\u001b[0m\u001b[0;34m\u001b[0m\u001b[0;34m\u001b[0m\u001b[0m\n\u001b[0;32m--> 268\u001b[0;31m         \u001b[0mline\u001b[0m \u001b[0;34m=\u001b[0m \u001b[0mstr\u001b[0m\u001b[0;34m(\u001b[0m\u001b[0mself\u001b[0m\u001b[0;34m.\u001b[0m\u001b[0mfp\u001b[0m\u001b[0;34m.\u001b[0m\u001b[0mreadline\u001b[0m\u001b[0;34m(\u001b[0m\u001b[0m_MAXLINE\u001b[0m \u001b[0;34m+\u001b[0m \u001b[0;36m1\u001b[0m\u001b[0;34m)\u001b[0m\u001b[0;34m,\u001b[0m \u001b[0;34m\"iso-8859-1\"\u001b[0m\u001b[0;34m)\u001b[0m\u001b[0;34m\u001b[0m\u001b[0;34m\u001b[0m\u001b[0m\n\u001b[0m\u001b[1;32m    269\u001b[0m         \u001b[0;32mif\u001b[0m \u001b[0mlen\u001b[0m\u001b[0;34m(\u001b[0m\u001b[0mline\u001b[0m\u001b[0;34m)\u001b[0m \u001b[0;34m>\u001b[0m \u001b[0m_MAXLINE\u001b[0m\u001b[0;34m:\u001b[0m\u001b[0;34m\u001b[0m\u001b[0;34m\u001b[0m\u001b[0m\n\u001b[1;32m    270\u001b[0m             \u001b[0;32mraise\u001b[0m \u001b[0mLineTooLong\u001b[0m\u001b[0;34m(\u001b[0m\u001b[0;34m\"status line\"\u001b[0m\u001b[0;34m)\u001b[0m\u001b[0;34m\u001b[0m\u001b[0;34m\u001b[0m\u001b[0m\n",
      "\u001b[0;32m/usr/lib/python3.8/socket.py\u001b[0m in \u001b[0;36mreadinto\u001b[0;34m(self, b)\u001b[0m\n\u001b[1;32m    667\u001b[0m         \u001b[0;32mwhile\u001b[0m \u001b[0;32mTrue\u001b[0m\u001b[0;34m:\u001b[0m\u001b[0;34m\u001b[0m\u001b[0;34m\u001b[0m\u001b[0m\n\u001b[1;32m    668\u001b[0m             \u001b[0;32mtry\u001b[0m\u001b[0;34m:\u001b[0m\u001b[0;34m\u001b[0m\u001b[0;34m\u001b[0m\u001b[0m\n\u001b[0;32m--> 669\u001b[0;31m                 \u001b[0;32mreturn\u001b[0m \u001b[0mself\u001b[0m\u001b[0;34m.\u001b[0m\u001b[0m_sock\u001b[0m\u001b[0;34m.\u001b[0m\u001b[0mrecv_into\u001b[0m\u001b[0;34m(\u001b[0m\u001b[0mb\u001b[0m\u001b[0;34m)\u001b[0m\u001b[0;34m\u001b[0m\u001b[0;34m\u001b[0m\u001b[0m\n\u001b[0m\u001b[1;32m    670\u001b[0m             \u001b[0;32mexcept\u001b[0m \u001b[0mtimeout\u001b[0m\u001b[0;34m:\u001b[0m\u001b[0;34m\u001b[0m\u001b[0;34m\u001b[0m\u001b[0m\n\u001b[1;32m    671\u001b[0m                 \u001b[0mself\u001b[0m\u001b[0;34m.\u001b[0m\u001b[0m_timeout_occurred\u001b[0m \u001b[0;34m=\u001b[0m \u001b[0;32mTrue\u001b[0m\u001b[0;34m\u001b[0m\u001b[0;34m\u001b[0m\u001b[0m\n",
      "\u001b[0;32m/usr/lib/python3.8/ssl.py\u001b[0m in \u001b[0;36mrecv_into\u001b[0;34m(self, buffer, nbytes, flags)\u001b[0m\n\u001b[1;32m   1239\u001b[0m                   \u001b[0;34m\"non-zero flags not allowed in calls to recv_into() on %s\"\u001b[0m \u001b[0;34m%\u001b[0m\u001b[0;34m\u001b[0m\u001b[0;34m\u001b[0m\u001b[0m\n\u001b[1;32m   1240\u001b[0m                   self.__class__)\n\u001b[0;32m-> 1241\u001b[0;31m             \u001b[0;32mreturn\u001b[0m \u001b[0mself\u001b[0m\u001b[0;34m.\u001b[0m\u001b[0mread\u001b[0m\u001b[0;34m(\u001b[0m\u001b[0mnbytes\u001b[0m\u001b[0;34m,\u001b[0m \u001b[0mbuffer\u001b[0m\u001b[0;34m)\u001b[0m\u001b[0;34m\u001b[0m\u001b[0;34m\u001b[0m\u001b[0m\n\u001b[0m\u001b[1;32m   1242\u001b[0m         \u001b[0;32melse\u001b[0m\u001b[0;34m:\u001b[0m\u001b[0;34m\u001b[0m\u001b[0;34m\u001b[0m\u001b[0m\n\u001b[1;32m   1243\u001b[0m             \u001b[0;32mreturn\u001b[0m \u001b[0msuper\u001b[0m\u001b[0;34m(\u001b[0m\u001b[0;34m)\u001b[0m\u001b[0;34m.\u001b[0m\u001b[0mrecv_into\u001b[0m\u001b[0;34m(\u001b[0m\u001b[0mbuffer\u001b[0m\u001b[0;34m,\u001b[0m \u001b[0mnbytes\u001b[0m\u001b[0;34m,\u001b[0m \u001b[0mflags\u001b[0m\u001b[0;34m)\u001b[0m\u001b[0;34m\u001b[0m\u001b[0;34m\u001b[0m\u001b[0m\n",
      "\u001b[0;32m/usr/lib/python3.8/ssl.py\u001b[0m in \u001b[0;36mread\u001b[0;34m(self, len, buffer)\u001b[0m\n\u001b[1;32m   1097\u001b[0m         \u001b[0;32mtry\u001b[0m\u001b[0;34m:\u001b[0m\u001b[0;34m\u001b[0m\u001b[0;34m\u001b[0m\u001b[0m\n\u001b[1;32m   1098\u001b[0m             \u001b[0;32mif\u001b[0m \u001b[0mbuffer\u001b[0m \u001b[0;32mis\u001b[0m \u001b[0;32mnot\u001b[0m \u001b[0;32mNone\u001b[0m\u001b[0;34m:\u001b[0m\u001b[0;34m\u001b[0m\u001b[0;34m\u001b[0m\u001b[0m\n\u001b[0;32m-> 1099\u001b[0;31m                 \u001b[0;32mreturn\u001b[0m \u001b[0mself\u001b[0m\u001b[0;34m.\u001b[0m\u001b[0m_sslobj\u001b[0m\u001b[0;34m.\u001b[0m\u001b[0mread\u001b[0m\u001b[0;34m(\u001b[0m\u001b[0mlen\u001b[0m\u001b[0;34m,\u001b[0m \u001b[0mbuffer\u001b[0m\u001b[0;34m)\u001b[0m\u001b[0;34m\u001b[0m\u001b[0;34m\u001b[0m\u001b[0m\n\u001b[0m\u001b[1;32m   1100\u001b[0m             \u001b[0;32melse\u001b[0m\u001b[0;34m:\u001b[0m\u001b[0;34m\u001b[0m\u001b[0;34m\u001b[0m\u001b[0m\n\u001b[1;32m   1101\u001b[0m                 \u001b[0;32mreturn\u001b[0m \u001b[0mself\u001b[0m\u001b[0;34m.\u001b[0m\u001b[0m_sslobj\u001b[0m\u001b[0;34m.\u001b[0m\u001b[0mread\u001b[0m\u001b[0;34m(\u001b[0m\u001b[0mlen\u001b[0m\u001b[0;34m)\u001b[0m\u001b[0;34m\u001b[0m\u001b[0;34m\u001b[0m\u001b[0m\n",
      "\u001b[0;31mKeyboardInterrupt\u001b[0m: "
     ]
    }
   ],
   "source": [
    "after = None\n",
    "while gather_posts.total_duration < 2001:    \n",
    "    logger.info(f\"Fetching subreddit: {subreddit} posts after {after}\")\n",
    "    posts = reddit_account.fetch_posts_as_json(\n",
    "        REDDIT_API_URL_TOP, params={\"limit\": \"100\", \"after\": after}\n",
    "    )\n",
    "#     pp.pprint(posts)\n",
    "#     break \n",
    "    \n",
    "    gather_posts.parse_posts(posts)\n",
    "    print(f\"Fetched {len(gather_posts.eligible_posts)} till now\")\n",
    "    print(f\"Total duration of videos till now : {gather_posts.total_duration}\")\n",
    "    after = gather_posts.latest_post[\"name\"]"
   ]
  },
  {
   "cell_type": "code",
   "execution_count": 38,
   "id": "fa85d9e1-876b-444c-932d-c2ef6447b237",
   "metadata": {
    "collapsed": true,
    "jupyter": {
     "outputs_hidden": true
    },
    "tags": []
   },
   "outputs": [
    {
     "data": {
      "text/plain": [
       "{'PK': {'S': '2021-08-29'},\n",
       " 'SK': {'S': 'NatureIsFuckingLit'},\n",
       " 'posts': {'L': [{'M': {'title': {'S': '🔥 Ant Mill 🔥'},\n",
       "     'url': {'S': 'https://v.redd.it/g93f73nnp4k71'},\n",
       "     'upvote_ratio': {'N': '0.97'},\n",
       "     'ups': {'N': '23978'},\n",
       "     'author': {'S': 'Lord_spaceslick'},\n",
       "     'name': {'S': 't3_pddfa9'},\n",
       "     'total_awards_received': {'N': '17'},\n",
       "     'duration': {'N': '9'}}},\n",
       "   {'M': {'title': {'S': '🔥 A magnificent lion and his cubs'},\n",
       "     'url': {'S': 'https://v.redd.it/sg8pal55j6k71'},\n",
       "     'upvote_ratio': {'N': '0.98'},\n",
       "     'ups': {'N': '19315'},\n",
       "     'author': {'S': 'Princess_Zeta'},\n",
       "     'name': {'S': 't3_pdjw32'},\n",
       "     'total_awards_received': {'N': '42'},\n",
       "     'duration': {'N': '28'}}},\n",
       "   {'M': {'title': {'S': '🔥 Bispen is a Norwegian mountain peak in the Scandinavian mountain range'},\n",
       "     'url': {'S': 'https://v.redd.it/iqmff41ks6k71'},\n",
       "     'upvote_ratio': {'N': '0.96'},\n",
       "     'ups': {'N': '8920'},\n",
       "     'author': {'S': 'Defluvium'},\n",
       "     'name': {'S': 't3_pdkqi7'},\n",
       "     'total_awards_received': {'N': '18'},\n",
       "     'duration': {'N': '16'}}},\n",
       "   {'M': {'title': {'S': \"🔥 It's called Draco. Seriously it's not from Harry Potter\"},\n",
       "     'url': {'S': 'https://v.redd.it/1t8b5uxas3k71'},\n",
       "     'upvote_ratio': {'N': '0.98'},\n",
       "     'ups': {'N': '4932'},\n",
       "     'author': {'S': 'Few-Diver3252'},\n",
       "     'name': {'S': 't3_pda20o'},\n",
       "     'total_awards_received': {'N': '6'},\n",
       "     'duration': {'N': '18'}}},\n",
       "   {'M': {'title': {'S': '🔥 Somewhere Over the Rainbow'},\n",
       "     'url': {'S': 'https://v.redd.it/9kuhdw53w5k71'},\n",
       "     'upvote_ratio': {'N': '0.99'},\n",
       "     'ups': {'N': '3184'},\n",
       "     'author': {'S': 'DoctorSashaGrey'},\n",
       "     'name': {'S': 't3_pdhoqp'},\n",
       "     'total_awards_received': {'N': '8'},\n",
       "     'duration': {'N': '12'}}},\n",
       "   {'M': {'title': {'S': '🔥 When a level 50 player accidentally walks into a game full of noobs.'},\n",
       "     'url': {'S': 'https://v.redd.it/z6628u7905k71'},\n",
       "     'upvote_ratio': {'N': '0.97'},\n",
       "     'ups': {'N': '1911'},\n",
       "     'author': {'S': 'jt1509'},\n",
       "     'name': {'S': 't3_pdeie1'},\n",
       "     'total_awards_received': {'N': '2'},\n",
       "     'duration': {'N': '29'}}},\n",
       "   {'M': {'title': {'S': \"🔥 The chameleon's eyes continuously scan the environment moving each eye independently of the other, so that they can look up and down, forward and backward simultaneously.\"},\n",
       "     'url': {'S': 'https://v.redd.it/t294qag596k71'},\n",
       "     'upvote_ratio': {'N': '0.99'},\n",
       "     'ups': {'N': '1808'},\n",
       "     'author': {'S': 'Cyber_Being_'},\n",
       "     'name': {'S': 't3_pdiy0t'},\n",
       "     'total_awards_received': {'N': '2'},\n",
       "     'duration': {'N': '17'}}},\n",
       "   {'M': {'title': {'S': '🔥 Nature is not a place to visit. It is home. —Gary Snyder 🔥'},\n",
       "     'url': {'S': 'https://v.redd.it/gl89a1oqf5k71'},\n",
       "     'upvote_ratio': {'N': '0.99'},\n",
       "     'ups': {'N': '853'},\n",
       "     'author': {'S': 'Lord_spaceslick'},\n",
       "     'name': {'S': 't3_pdg27d'},\n",
       "     'total_awards_received': {'N': '2'},\n",
       "     'duration': {'N': '11'}}},\n",
       "   {'M': {'title': {'S': '🔥 Andean bear playing with her cub amid the fog'},\n",
       "     'url': {'S': 'https://v.redd.it/okspuozz84k71'},\n",
       "     'upvote_ratio': {'N': '0.98'},\n",
       "     'ups': {'N': '69'},\n",
       "     'author': {'S': 'AyatollahFromCauca'},\n",
       "     'name': {'S': 't3_pdbpn0'},\n",
       "     'total_awards_received': {'N': '0'},\n",
       "     'duration': {'N': '34'}}},\n",
       "   {'M': {'title': {'S': '🔥 Reserve in Siberia'},\n",
       "     'url': {'S': 'https://v.redd.it/hhtvtflzu7k71'},\n",
       "     'upvote_ratio': {'N': '0.97'},\n",
       "     'ups': {'N': '34'},\n",
       "     'author': {'S': 'RussianWAlex'},\n",
       "     'name': {'S': 't3_pdnyah'},\n",
       "     'total_awards_received': {'N': '0'},\n",
       "     'duration': {'N': '14'}}},\n",
       "   {'M': {'title': {'S': '🔥 Ant Mill 🔥'},\n",
       "     'url': {'S': 'https://v.redd.it/g93f73nnp4k71'},\n",
       "     'upvote_ratio': {'N': '0.97'},\n",
       "     'ups': {'N': '23981'},\n",
       "     'author': {'S': 'Lord_spaceslick'},\n",
       "     'name': {'S': 't3_pddfa9'},\n",
       "     'total_awards_received': {'N': '17'},\n",
       "     'duration': {'N': '9'}}},\n",
       "   {'M': {'title': {'S': '🔥 A magnificent lion and his cubs'},\n",
       "     'url': {'S': 'https://v.redd.it/sg8pal55j6k71'},\n",
       "     'upvote_ratio': {'N': '0.98'},\n",
       "     'ups': {'N': '19340'},\n",
       "     'author': {'S': 'Princess_Zeta'},\n",
       "     'name': {'S': 't3_pdjw32'},\n",
       "     'total_awards_received': {'N': '42'},\n",
       "     'duration': {'N': '28'}}},\n",
       "   {'M': {'title': {'S': '🔥 Bispen is a Norwegian mountain peak in the Scandinavian mountain range'},\n",
       "     'url': {'S': 'https://v.redd.it/iqmff41ks6k71'},\n",
       "     'upvote_ratio': {'N': '0.96'},\n",
       "     'ups': {'N': '8938'},\n",
       "     'author': {'S': 'Defluvium'},\n",
       "     'name': {'S': 't3_pdkqi7'},\n",
       "     'total_awards_received': {'N': '18'},\n",
       "     'duration': {'N': '16'}}},\n",
       "   {'M': {'title': {'S': \"🔥 It's called Draco. Seriously it's not from Harry Potter\"},\n",
       "     'url': {'S': 'https://v.redd.it/1t8b5uxas3k71'},\n",
       "     'upvote_ratio': {'N': '0.98'},\n",
       "     'ups': {'N': '4939'},\n",
       "     'author': {'S': 'Few-Diver3252'},\n",
       "     'name': {'S': 't3_pda20o'},\n",
       "     'total_awards_received': {'N': '6'},\n",
       "     'duration': {'N': '18'}}},\n",
       "   {'M': {'title': {'S': '🔥 Somewhere Over the Rainbow'},\n",
       "     'url': {'S': 'https://v.redd.it/9kuhdw53w5k71'},\n",
       "     'upvote_ratio': {'N': '0.99'},\n",
       "     'ups': {'N': '3184'},\n",
       "     'author': {'S': 'DoctorSashaGrey'},\n",
       "     'name': {'S': 't3_pdhoqp'},\n",
       "     'total_awards_received': {'N': '8'},\n",
       "     'duration': {'N': '12'}}},\n",
       "   {'M': {'title': {'S': '🔥 When a level 50 player accidentally walks into a game full of noobs.'},\n",
       "     'url': {'S': 'https://v.redd.it/z6628u7905k71'},\n",
       "     'upvote_ratio': {'N': '0.97'},\n",
       "     'ups': {'N': '1914'},\n",
       "     'author': {'S': 'jt1509'},\n",
       "     'name': {'S': 't3_pdeie1'},\n",
       "     'total_awards_received': {'N': '2'},\n",
       "     'duration': {'N': '29'}}},\n",
       "   {'M': {'title': {'S': \"🔥 The chameleon's eyes continuously scan the environment moving each eye independently of the other, so that they can look up and down, forward and backward simultaneously.\"},\n",
       "     'url': {'S': 'https://v.redd.it/t294qag596k71'},\n",
       "     'upvote_ratio': {'N': '0.99'},\n",
       "     'ups': {'N': '1803'},\n",
       "     'author': {'S': 'Cyber_Being_'},\n",
       "     'name': {'S': 't3_pdiy0t'},\n",
       "     'total_awards_received': {'N': '2'},\n",
       "     'duration': {'N': '17'}}},\n",
       "   {'M': {'title': {'S': '🔥 Nature is not a place to visit. It is home. —Gary Snyder 🔥'},\n",
       "     'url': {'S': 'https://v.redd.it/gl89a1oqf5k71'},\n",
       "     'upvote_ratio': {'N': '0.99'},\n",
       "     'ups': {'N': '848'},\n",
       "     'author': {'S': 'Lord_spaceslick'},\n",
       "     'name': {'S': 't3_pdg27d'},\n",
       "     'total_awards_received': {'N': '2'},\n",
       "     'duration': {'N': '11'}}},\n",
       "   {'M': {'title': {'S': '🔥 Andean bear playing with her cub amid the fog'},\n",
       "     'url': {'S': 'https://v.redd.it/okspuozz84k71'},\n",
       "     'upvote_ratio': {'N': '0.98'},\n",
       "     'ups': {'N': '68'},\n",
       "     'author': {'S': 'AyatollahFromCauca'},\n",
       "     'name': {'S': 't3_pdbpn0'},\n",
       "     'total_awards_received': {'N': '0'},\n",
       "     'duration': {'N': '34'}}},\n",
       "   {'M': {'title': {'S': '🔥 Reserve in Siberia'},\n",
       "     'url': {'S': 'https://v.redd.it/hhtvtflzu7k71'},\n",
       "     'upvote_ratio': {'N': '0.95'},\n",
       "     'ups': {'N': '31'},\n",
       "     'author': {'S': 'RussianWAlex'},\n",
       "     'name': {'S': 't3_pdnyah'},\n",
       "     'total_awards_received': {'N': '0'},\n",
       "     'duration': {'N': '14'}}},\n",
       "   {'M': {'title': {'S': '🔥 Ant Mill 🔥'},\n",
       "     'url': {'S': 'https://v.redd.it/g93f73nnp4k71'},\n",
       "     'upvote_ratio': {'N': '0.97'},\n",
       "     'ups': {'N': '23985'},\n",
       "     'author': {'S': 'Lord_spaceslick'},\n",
       "     'name': {'S': 't3_pddfa9'},\n",
       "     'total_awards_received': {'N': '17'},\n",
       "     'duration': {'N': '9'}}},\n",
       "   {'M': {'title': {'S': '🔥 A magnificent lion and his cubs'},\n",
       "     'url': {'S': 'https://v.redd.it/sg8pal55j6k71'},\n",
       "     'upvote_ratio': {'N': '0.98'},\n",
       "     'ups': {'N': '19389'},\n",
       "     'author': {'S': 'Princess_Zeta'},\n",
       "     'name': {'S': 't3_pdjw32'},\n",
       "     'total_awards_received': {'N': '42'},\n",
       "     'duration': {'N': '28'}}},\n",
       "   {'M': {'title': {'S': '🔥 Bispen is a Norwegian mountain peak in the Scandinavian mountain range'},\n",
       "     'url': {'S': 'https://v.redd.it/iqmff41ks6k71'},\n",
       "     'upvote_ratio': {'N': '0.96'},\n",
       "     'ups': {'N': '8950'},\n",
       "     'author': {'S': 'Defluvium'},\n",
       "     'name': {'S': 't3_pdkqi7'},\n",
       "     'total_awards_received': {'N': '18'},\n",
       "     'duration': {'N': '16'}}},\n",
       "   {'M': {'title': {'S': \"🔥 It's called Draco. Seriously it's not from Harry Potter\"},\n",
       "     'url': {'S': 'https://v.redd.it/1t8b5uxas3k71'},\n",
       "     'upvote_ratio': {'N': '0.98'},\n",
       "     'ups': {'N': '4943'},\n",
       "     'author': {'S': 'Few-Diver3252'},\n",
       "     'name': {'S': 't3_pda20o'},\n",
       "     'total_awards_received': {'N': '6'},\n",
       "     'duration': {'N': '18'}}},\n",
       "   {'M': {'title': {'S': '🔥 Somewhere Over the Rainbow'},\n",
       "     'url': {'S': 'https://v.redd.it/9kuhdw53w5k71'},\n",
       "     'upvote_ratio': {'N': '0.99'},\n",
       "     'ups': {'N': '3194'},\n",
       "     'author': {'S': 'DoctorSashaGrey'},\n",
       "     'name': {'S': 't3_pdhoqp'},\n",
       "     'total_awards_received': {'N': '8'},\n",
       "     'duration': {'N': '12'}}},\n",
       "   {'M': {'title': {'S': '🔥 When a level 50 player accidentally walks into a game full of noobs.'},\n",
       "     'url': {'S': 'https://v.redd.it/z6628u7905k71'},\n",
       "     'upvote_ratio': {'N': '0.97'},\n",
       "     'ups': {'N': '1918'},\n",
       "     'author': {'S': 'jt1509'},\n",
       "     'name': {'S': 't3_pdeie1'},\n",
       "     'total_awards_received': {'N': '2'},\n",
       "     'duration': {'N': '29'}}},\n",
       "   {'M': {'title': {'S': \"🔥 The chameleon's eyes continuously scan the environment moving each eye independently of the other, so that they can look up and down, forward and backward simultaneously.\"},\n",
       "     'url': {'S': 'https://v.redd.it/t294qag596k71'},\n",
       "     'upvote_ratio': {'N': '0.99'},\n",
       "     'ups': {'N': '1808'},\n",
       "     'author': {'S': 'Cyber_Being_'},\n",
       "     'name': {'S': 't3_pdiy0t'},\n",
       "     'total_awards_received': {'N': '2'},\n",
       "     'duration': {'N': '17'}}},\n",
       "   {'M': {'title': {'S': '🔥 Nature is not a place to visit. It is home. —Gary Snyder 🔥'},\n",
       "     'url': {'S': 'https://v.redd.it/gl89a1oqf5k71'},\n",
       "     'upvote_ratio': {'N': '0.99'},\n",
       "     'ups': {'N': '847'},\n",
       "     'author': {'S': 'Lord_spaceslick'},\n",
       "     'name': {'S': 't3_pdg27d'},\n",
       "     'total_awards_received': {'N': '2'},\n",
       "     'duration': {'N': '11'}}},\n",
       "   {'M': {'title': {'S': '🔥 Andean bear playing with her cub amid the fog'},\n",
       "     'url': {'S': 'https://v.redd.it/okspuozz84k71'},\n",
       "     'upvote_ratio': {'N': '0.98'},\n",
       "     'ups': {'N': '68'},\n",
       "     'author': {'S': 'AyatollahFromCauca'},\n",
       "     'name': {'S': 't3_pdbpn0'},\n",
       "     'total_awards_received': {'N': '0'},\n",
       "     'duration': {'N': '34'}}},\n",
       "   {'M': {'title': {'S': '🔥 Reserve in Siberia'},\n",
       "     'url': {'S': 'https://v.redd.it/hhtvtflzu7k71'},\n",
       "     'upvote_ratio': {'N': '0.97'},\n",
       "     'ups': {'N': '34'},\n",
       "     'author': {'S': 'RussianWAlex'},\n",
       "     'name': {'S': 't3_pdnyah'},\n",
       "     'total_awards_received': {'N': '0'},\n",
       "     'duration': {'N': '14'}}},\n",
       "   {'M': {'title': {'S': '🔥 Ant Mill 🔥'},\n",
       "     'url': {'S': 'https://v.redd.it/g93f73nnp4k71'},\n",
       "     'upvote_ratio': {'N': '0.97'},\n",
       "     'ups': {'N': '23989'},\n",
       "     'author': {'S': 'Lord_spaceslick'},\n",
       "     'name': {'S': 't3_pddfa9'},\n",
       "     'total_awards_received': {'N': '17'},\n",
       "     'duration': {'N': '9'}}},\n",
       "   {'M': {'title': {'S': '🔥 A magnificent lion and his cubs'},\n",
       "     'url': {'S': 'https://v.redd.it/sg8pal55j6k71'},\n",
       "     'upvote_ratio': {'N': '0.98'},\n",
       "     'ups': {'N': '19423'},\n",
       "     'author': {'S': 'Princess_Zeta'},\n",
       "     'name': {'S': 't3_pdjw32'},\n",
       "     'total_awards_received': {'N': '42'},\n",
       "     'duration': {'N': '28'}}},\n",
       "   {'M': {'title': {'S': '🔥 Bispen is a Norwegian mountain peak in the Scandinavian mountain range'},\n",
       "     'url': {'S': 'https://v.redd.it/iqmff41ks6k71'},\n",
       "     'upvote_ratio': {'N': '0.96'},\n",
       "     'ups': {'N': '8972'},\n",
       "     'author': {'S': 'Defluvium'},\n",
       "     'name': {'S': 't3_pdkqi7'},\n",
       "     'total_awards_received': {'N': '18'},\n",
       "     'duration': {'N': '16'}}},\n",
       "   {'M': {'title': {'S': \"🔥 It's called Draco. Seriously it's not from Harry Potter\"},\n",
       "     'url': {'S': 'https://v.redd.it/1t8b5uxas3k71'},\n",
       "     'upvote_ratio': {'N': '0.98'},\n",
       "     'ups': {'N': '4941'},\n",
       "     'author': {'S': 'Few-Diver3252'},\n",
       "     'name': {'S': 't3_pda20o'},\n",
       "     'total_awards_received': {'N': '6'},\n",
       "     'duration': {'N': '18'}}},\n",
       "   {'M': {'title': {'S': '🔥 Somewhere Over the Rainbow'},\n",
       "     'url': {'S': 'https://v.redd.it/9kuhdw53w5k71'},\n",
       "     'upvote_ratio': {'N': '0.99'},\n",
       "     'ups': {'N': '3196'},\n",
       "     'author': {'S': 'DoctorSashaGrey'},\n",
       "     'name': {'S': 't3_pdhoqp'},\n",
       "     'total_awards_received': {'N': '8'},\n",
       "     'duration': {'N': '12'}}},\n",
       "   {'M': {'title': {'S': '🔥 When a level 50 player accidentally walks into a game full of noobs.'},\n",
       "     'url': {'S': 'https://v.redd.it/z6628u7905k71'},\n",
       "     'upvote_ratio': {'N': '0.97'},\n",
       "     'ups': {'N': '1916'},\n",
       "     'author': {'S': 'jt1509'},\n",
       "     'name': {'S': 't3_pdeie1'},\n",
       "     'total_awards_received': {'N': '2'},\n",
       "     'duration': {'N': '29'}}},\n",
       "   {'M': {'title': {'S': \"🔥 The chameleon's eyes continuously scan the environment moving each eye independently of the other, so that they can look up and down, forward and backward simultaneously.\"},\n",
       "     'url': {'S': 'https://v.redd.it/t294qag596k71'},\n",
       "     'upvote_ratio': {'N': '0.99'},\n",
       "     'ups': {'N': '1814'},\n",
       "     'author': {'S': 'Cyber_Being_'},\n",
       "     'name': {'S': 't3_pdiy0t'},\n",
       "     'total_awards_received': {'N': '2'},\n",
       "     'duration': {'N': '17'}}},\n",
       "   {'M': {'title': {'S': '🔥 Nature is not a place to visit. It is home. —Gary Snyder 🔥'},\n",
       "     'url': {'S': 'https://v.redd.it/gl89a1oqf5k71'},\n",
       "     'upvote_ratio': {'N': '0.99'},\n",
       "     'ups': {'N': '852'},\n",
       "     'author': {'S': 'Lord_spaceslick'},\n",
       "     'name': {'S': 't3_pdg27d'},\n",
       "     'total_awards_received': {'N': '2'},\n",
       "     'duration': {'N': '11'}}},\n",
       "   {'M': {'title': {'S': '🔥 Andean bear playing with her cub amid the fog'},\n",
       "     'url': {'S': 'https://v.redd.it/okspuozz84k71'},\n",
       "     'upvote_ratio': {'N': '0.99'},\n",
       "     'ups': {'N': '71'},\n",
       "     'author': {'S': 'AyatollahFromCauca'},\n",
       "     'name': {'S': 't3_pdbpn0'},\n",
       "     'total_awards_received': {'N': '0'},\n",
       "     'duration': {'N': '34'}}},\n",
       "   {'M': {'title': {'S': '🔥 Reserve in Siberia'},\n",
       "     'url': {'S': 'https://v.redd.it/hhtvtflzu7k71'},\n",
       "     'upvote_ratio': {'N': '0.97'},\n",
       "     'ups': {'N': '34'},\n",
       "     'author': {'S': 'RussianWAlex'},\n",
       "     'name': {'S': 't3_pdnyah'},\n",
       "     'total_awards_received': {'N': '0'},\n",
       "     'duration': {'N': '14'}}},\n",
       "   {'M': {'title': {'S': '🔥 Ant Mill 🔥'},\n",
       "     'url': {'S': 'https://v.redd.it/g93f73nnp4k71'},\n",
       "     'upvote_ratio': {'N': '0.97'},\n",
       "     'ups': {'N': '23997'},\n",
       "     'author': {'S': 'Lord_spaceslick'},\n",
       "     'name': {'S': 't3_pddfa9'},\n",
       "     'total_awards_received': {'N': '17'},\n",
       "     'duration': {'N': '9'}}},\n",
       "   {'M': {'title': {'S': '🔥 A magnificent lion and his cubs'},\n",
       "     'url': {'S': 'https://v.redd.it/sg8pal55j6k71'},\n",
       "     'upvote_ratio': {'N': '0.98'},\n",
       "     'ups': {'N': '19480'},\n",
       "     'author': {'S': 'Princess_Zeta'},\n",
       "     'name': {'S': 't3_pdjw32'},\n",
       "     'total_awards_received': {'N': '42'},\n",
       "     'duration': {'N': '28'}}},\n",
       "   {'M': {'title': {'S': '🔥 Bispen is a Norwegian mountain peak in the Scandinavian mountain range'},\n",
       "     'url': {'S': 'https://v.redd.it/iqmff41ks6k71'},\n",
       "     'upvote_ratio': {'N': '0.96'},\n",
       "     'ups': {'N': '8979'},\n",
       "     'author': {'S': 'Defluvium'},\n",
       "     'name': {'S': 't3_pdkqi7'},\n",
       "     'total_awards_received': {'N': '18'},\n",
       "     'duration': {'N': '16'}}},\n",
       "   {'M': {'title': {'S': \"🔥 It's called Draco. Seriously it's not from Harry Potter\"},\n",
       "     'url': {'S': 'https://v.redd.it/1t8b5uxas3k71'},\n",
       "     'upvote_ratio': {'N': '0.98'},\n",
       "     'ups': {'N': '4946'},\n",
       "     'author': {'S': 'Few-Diver3252'},\n",
       "     'name': {'S': 't3_pda20o'},\n",
       "     'total_awards_received': {'N': '6'},\n",
       "     'duration': {'N': '18'}}},\n",
       "   {'M': {'title': {'S': '🔥 Somewhere Over the Rainbow'},\n",
       "     'url': {'S': 'https://v.redd.it/9kuhdw53w5k71'},\n",
       "     'upvote_ratio': {'N': '0.99'},\n",
       "     'ups': {'N': '3199'},\n",
       "     'author': {'S': 'DoctorSashaGrey'},\n",
       "     'name': {'S': 't3_pdhoqp'},\n",
       "     'total_awards_received': {'N': '8'},\n",
       "     'duration': {'N': '12'}}},\n",
       "   {'M': {'title': {'S': '🔥 When a level 50 player accidentally walks into a game full of noobs.'},\n",
       "     'url': {'S': 'https://v.redd.it/z6628u7905k71'},\n",
       "     'upvote_ratio': {'N': '0.97'},\n",
       "     'ups': {'N': '1917'},\n",
       "     'author': {'S': 'jt1509'},\n",
       "     'name': {'S': 't3_pdeie1'},\n",
       "     'total_awards_received': {'N': '2'},\n",
       "     'duration': {'N': '29'}}},\n",
       "   {'M': {'title': {'S': \"🔥 The chameleon's eyes continuously scan the environment moving each eye independently of the other, so that they can look up and down, forward and backward simultaneously.\"},\n",
       "     'url': {'S': 'https://v.redd.it/t294qag596k71'},\n",
       "     'upvote_ratio': {'N': '0.99'},\n",
       "     'ups': {'N': '1810'},\n",
       "     'author': {'S': 'Cyber_Being_'},\n",
       "     'name': {'S': 't3_pdiy0t'},\n",
       "     'total_awards_received': {'N': '2'},\n",
       "     'duration': {'N': '17'}}},\n",
       "   {'M': {'title': {'S': '🔥 Nature is not a place to visit. It is home. —Gary Snyder 🔥'},\n",
       "     'url': {'S': 'https://v.redd.it/gl89a1oqf5k71'},\n",
       "     'upvote_ratio': {'N': '0.99'},\n",
       "     'ups': {'N': '853'},\n",
       "     'author': {'S': 'Lord_spaceslick'},\n",
       "     'name': {'S': 't3_pdg27d'},\n",
       "     'total_awards_received': {'N': '2'},\n",
       "     'duration': {'N': '11'}}},\n",
       "   {'M': {'title': {'S': '🔥 Andean bear playing with her cub amid the fog'},\n",
       "     'url': {'S': 'https://v.redd.it/okspuozz84k71'},\n",
       "     'upvote_ratio': {'N': '0.99'},\n",
       "     'ups': {'N': '73'},\n",
       "     'author': {'S': 'AyatollahFromCauca'},\n",
       "     'name': {'S': 't3_pdbpn0'},\n",
       "     'total_awards_received': {'N': '0'},\n",
       "     'duration': {'N': '34'}}},\n",
       "   {'M': {'title': {'S': '🔥 Reserve in Siberia'},\n",
       "     'url': {'S': 'https://v.redd.it/hhtvtflzu7k71'},\n",
       "     'upvote_ratio': {'N': '0.97'},\n",
       "     'ups': {'N': '33'},\n",
       "     'author': {'S': 'RussianWAlex'},\n",
       "     'name': {'S': 't3_pdnyah'},\n",
       "     'total_awards_received': {'N': '0'},\n",
       "     'duration': {'N': '14'}}},\n",
       "   {'M': {'title': {'S': '🔥 Ant Mill 🔥'},\n",
       "     'url': {'S': 'https://v.redd.it/g93f73nnp4k71'},\n",
       "     'upvote_ratio': {'N': '0.97'},\n",
       "     'ups': {'N': '23998'},\n",
       "     'author': {'S': 'Lord_spaceslick'},\n",
       "     'name': {'S': 't3_pddfa9'},\n",
       "     'total_awards_received': {'N': '17'},\n",
       "     'duration': {'N': '9'}}},\n",
       "   {'M': {'title': {'S': '🔥 A magnificent lion and his cubs'},\n",
       "     'url': {'S': 'https://v.redd.it/sg8pal55j6k71'},\n",
       "     'upvote_ratio': {'N': '0.98'},\n",
       "     'ups': {'N': '19491'},\n",
       "     'author': {'S': 'Princess_Zeta'},\n",
       "     'name': {'S': 't3_pdjw32'},\n",
       "     'total_awards_received': {'N': '42'},\n",
       "     'duration': {'N': '28'}}},\n",
       "   {'M': {'title': {'S': '🔥 Bispen is a Norwegian mountain peak in the Scandinavian mountain range'},\n",
       "     'url': {'S': 'https://v.redd.it/iqmff41ks6k71'},\n",
       "     'upvote_ratio': {'N': '0.96'},\n",
       "     'ups': {'N': '9003'},\n",
       "     'author': {'S': 'Defluvium'},\n",
       "     'name': {'S': 't3_pdkqi7'},\n",
       "     'total_awards_received': {'N': '18'},\n",
       "     'duration': {'N': '16'}}},\n",
       "   {'M': {'title': {'S': \"🔥 It's called Draco. Seriously it's not from Harry Potter\"},\n",
       "     'url': {'S': 'https://v.redd.it/1t8b5uxas3k71'},\n",
       "     'upvote_ratio': {'N': '0.98'},\n",
       "     'ups': {'N': '4938'},\n",
       "     'author': {'S': 'Few-Diver3252'},\n",
       "     'name': {'S': 't3_pda20o'},\n",
       "     'total_awards_received': {'N': '6'},\n",
       "     'duration': {'N': '18'}}},\n",
       "   {'M': {'title': {'S': '🔥 Somewhere Over the Rainbow'},\n",
       "     'url': {'S': 'https://v.redd.it/9kuhdw53w5k71'},\n",
       "     'upvote_ratio': {'N': '0.99'},\n",
       "     'ups': {'N': '3200'},\n",
       "     'author': {'S': 'DoctorSashaGrey'},\n",
       "     'name': {'S': 't3_pdhoqp'},\n",
       "     'total_awards_received': {'N': '8'},\n",
       "     'duration': {'N': '12'}}},\n",
       "   {'M': {'title': {'S': '🔥 When a level 50 player accidentally walks into a game full of noobs.'},\n",
       "     'url': {'S': 'https://v.redd.it/z6628u7905k71'},\n",
       "     'upvote_ratio': {'N': '0.97'},\n",
       "     'ups': {'N': '1917'},\n",
       "     'author': {'S': 'jt1509'},\n",
       "     'name': {'S': 't3_pdeie1'},\n",
       "     'total_awards_received': {'N': '2'},\n",
       "     'duration': {'N': '29'}}},\n",
       "   {'M': {'title': {'S': \"🔥 The chameleon's eyes continuously scan the environment moving each eye independently of the other, so that they can look up and down, forward and backward simultaneously.\"},\n",
       "     'url': {'S': 'https://v.redd.it/t294qag596k71'},\n",
       "     'upvote_ratio': {'N': '0.99'},\n",
       "     'ups': {'N': '1811'},\n",
       "     'author': {'S': 'Cyber_Being_'},\n",
       "     'name': {'S': 't3_pdiy0t'},\n",
       "     'total_awards_received': {'N': '2'},\n",
       "     'duration': {'N': '17'}}},\n",
       "   {'M': {'title': {'S': '🔥 Nature is not a place to visit. It is home. —Gary Snyder 🔥'},\n",
       "     'url': {'S': 'https://v.redd.it/gl89a1oqf5k71'},\n",
       "     'upvote_ratio': {'N': '0.99'},\n",
       "     'ups': {'N': '850'},\n",
       "     'author': {'S': 'Lord_spaceslick'},\n",
       "     'name': {'S': 't3_pdg27d'},\n",
       "     'total_awards_received': {'N': '2'},\n",
       "     'duration': {'N': '11'}}},\n",
       "   {'M': {'title': {'S': '🔥 Andean bear playing with her cub amid the fog'},\n",
       "     'url': {'S': 'https://v.redd.it/okspuozz84k71'},\n",
       "     'upvote_ratio': {'N': '0.98'},\n",
       "     'ups': {'N': '70'},\n",
       "     'author': {'S': 'AyatollahFromCauca'},\n",
       "     'name': {'S': 't3_pdbpn0'},\n",
       "     'total_awards_received': {'N': '0'},\n",
       "     'duration': {'N': '34'}}},\n",
       "   {'M': {'title': {'S': '🔥 Reserve in Siberia'},\n",
       "     'url': {'S': 'https://v.redd.it/hhtvtflzu7k71'},\n",
       "     'upvote_ratio': {'N': '0.97'},\n",
       "     'ups': {'N': '33'},\n",
       "     'author': {'S': 'RussianWAlex'},\n",
       "     'name': {'S': 't3_pdnyah'},\n",
       "     'total_awards_received': {'N': '0'},\n",
       "     'duration': {'N': '14'}}},\n",
       "   {'M': {'title': {'S': '🔥 Ant Mill 🔥'},\n",
       "     'url': {'S': 'https://v.redd.it/g93f73nnp4k71'},\n",
       "     'upvote_ratio': {'N': '0.97'},\n",
       "     'ups': {'N': '23998'},\n",
       "     'author': {'S': 'Lord_spaceslick'},\n",
       "     'name': {'S': 't3_pddfa9'},\n",
       "     'total_awards_received': {'N': '17'},\n",
       "     'duration': {'N': '9'}}},\n",
       "   {'M': {'title': {'S': '🔥 A magnificent lion and his cubs'},\n",
       "     'url': {'S': 'https://v.redd.it/sg8pal55j6k71'},\n",
       "     'upvote_ratio': {'N': '0.98'},\n",
       "     'ups': {'N': '19494'},\n",
       "     'author': {'S': 'Princess_Zeta'},\n",
       "     'name': {'S': 't3_pdjw32'},\n",
       "     'total_awards_received': {'N': '42'},\n",
       "     'duration': {'N': '28'}}},\n",
       "   {'M': {'title': {'S': '🔥 Bispen is a Norwegian mountain peak in the Scandinavian mountain range'},\n",
       "     'url': {'S': 'https://v.redd.it/iqmff41ks6k71'},\n",
       "     'upvote_ratio': {'N': '0.96'},\n",
       "     'ups': {'N': '8996'},\n",
       "     'author': {'S': 'Defluvium'},\n",
       "     'name': {'S': 't3_pdkqi7'},\n",
       "     'total_awards_received': {'N': '18'},\n",
       "     'duration': {'N': '16'}}},\n",
       "   {'M': {'title': {'S': \"🔥 It's called Draco. Seriously it's not from Harry Potter\"},\n",
       "     'url': {'S': 'https://v.redd.it/1t8b5uxas3k71'},\n",
       "     'upvote_ratio': {'N': '0.98'},\n",
       "     'ups': {'N': '4937'},\n",
       "     'author': {'S': 'Few-Diver3252'},\n",
       "     'name': {'S': 't3_pda20o'},\n",
       "     'total_awards_received': {'N': '6'},\n",
       "     'duration': {'N': '18'}}},\n",
       "   {'M': {'title': {'S': '🔥 Somewhere Over the Rainbow'},\n",
       "     'url': {'S': 'https://v.redd.it/9kuhdw53w5k71'},\n",
       "     'upvote_ratio': {'N': '0.99'},\n",
       "     'ups': {'N': '3199'},\n",
       "     'author': {'S': 'DoctorSashaGrey'},\n",
       "     'name': {'S': 't3_pdhoqp'},\n",
       "     'total_awards_received': {'N': '8'},\n",
       "     'duration': {'N': '12'}}},\n",
       "   {'M': {'title': {'S': '🔥 When a level 50 player accidentally walks into a game full of noobs.'},\n",
       "     'url': {'S': 'https://v.redd.it/z6628u7905k71'},\n",
       "     'upvote_ratio': {'N': '0.97'},\n",
       "     'ups': {'N': '1921'},\n",
       "     'author': {'S': 'jt1509'},\n",
       "     'name': {'S': 't3_pdeie1'},\n",
       "     'total_awards_received': {'N': '2'},\n",
       "     'duration': {'N': '29'}}},\n",
       "   {'M': {'title': {'S': \"🔥 The chameleon's eyes continuously scan the environment moving each eye independently of the other, so that they can look up and down, forward and backward simultaneously.\"},\n",
       "     'url': {'S': 'https://v.redd.it/t294qag596k71'},\n",
       "     'upvote_ratio': {'N': '0.99'},\n",
       "     'ups': {'N': '1808'},\n",
       "     'author': {'S': 'Cyber_Being_'},\n",
       "     'name': {'S': 't3_pdiy0t'},\n",
       "     'total_awards_received': {'N': '2'},\n",
       "     'duration': {'N': '17'}}},\n",
       "   {'M': {'title': {'S': '🔥 Nature is not a place to visit. It is home. —Gary Snyder 🔥'},\n",
       "     'url': {'S': 'https://v.redd.it/gl89a1oqf5k71'},\n",
       "     'upvote_ratio': {'N': '0.99'},\n",
       "     'ups': {'N': '847'},\n",
       "     'author': {'S': 'Lord_spaceslick'},\n",
       "     'name': {'S': 't3_pdg27d'},\n",
       "     'total_awards_received': {'N': '2'},\n",
       "     'duration': {'N': '11'}}},\n",
       "   {'M': {'title': {'S': '🔥 Andean bear playing with her cub amid the fog'},\n",
       "     'url': {'S': 'https://v.redd.it/okspuozz84k71'},\n",
       "     'upvote_ratio': {'N': '0.98'},\n",
       "     'ups': {'N': '70'},\n",
       "     'author': {'S': 'AyatollahFromCauca'},\n",
       "     'name': {'S': 't3_pdbpn0'},\n",
       "     'total_awards_received': {'N': '0'},\n",
       "     'duration': {'N': '34'}}},\n",
       "   {'M': {'title': {'S': '🔥 Reserve in Siberia'},\n",
       "     'url': {'S': 'https://v.redd.it/hhtvtflzu7k71'},\n",
       "     'upvote_ratio': {'N': '0.93'},\n",
       "     'ups': {'N': '31'},\n",
       "     'author': {'S': 'RussianWAlex'},\n",
       "     'name': {'S': 't3_pdnyah'},\n",
       "     'total_awards_received': {'N': '0'},\n",
       "     'duration': {'N': '14'}}}]}}"
      ]
     },
     "execution_count": 38,
     "metadata": {},
     "output_type": "execute_result"
    }
   ],
   "source": [
    "gather_posts.serialize_to_item()"
   ]
  },
  {
   "cell_type": "code",
   "execution_count": null,
   "id": "39a48c0a-c861-4c11-8fc4-5e3e4a687257",
   "metadata": {},
   "outputs": [],
   "source": []
  },
  {
   "cell_type": "code",
   "execution_count": 7,
   "id": "17c9ecb8-cb0e-46b0-91b8-a858d34df4e9",
   "metadata": {},
   "outputs": [],
   "source": [
    "import os\n",
    "from moviepy.editor import *"
   ]
  },
  {
   "cell_type": "code",
   "execution_count": 9,
   "id": "27c2bc27-d809-428b-b93b-4ba61802ccdc",
   "metadata": {
    "collapsed": true,
    "jupyter": {
     "outputs_hidden": true
    },
    "tags": []
   },
   "outputs": [
    {
     "name": "stdout",
     "output_type": "stream",
     "text": [
      "Moviepy - Building video scaled_Boris Johnson says Gulab Jamun.mp4.\n",
      "MoviePy - Writing audio in scaled_Boris Johnson says Gulab JamunTEMP_MPY_wvf_snd.mp3\n"
     ]
    },
    {
     "name": "stderr",
     "output_type": "stream",
     "text": [
      "                                                                                                          \r"
     ]
    },
    {
     "name": "stdout",
     "output_type": "stream",
     "text": [
      "MoviePy - Done.\n",
      "Moviepy - Writing video scaled_Boris Johnson says Gulab Jamun.mp4\n",
      "\n"
     ]
    },
    {
     "name": "stderr",
     "output_type": "stream",
     "text": [
      "                                                                                                          \r"
     ]
    },
    {
     "name": "stdout",
     "output_type": "stream",
     "text": [
      "Moviepy - Done !\n",
      "Moviepy - video ready scaled_Boris Johnson says Gulab Jamun.mp4\n",
      "Moviepy - Building video scaled_Boris Johnson says Google.mp4.\n",
      "MoviePy - Writing audio in scaled_Boris Johnson says GoogleTEMP_MPY_wvf_snd.mp3\n"
     ]
    },
    {
     "name": "stderr",
     "output_type": "stream",
     "text": [
      "                                                                                                          \r"
     ]
    },
    {
     "name": "stdout",
     "output_type": "stream",
     "text": [
      "MoviePy - Done.\n",
      "Moviepy - Writing video scaled_Boris Johnson says Google.mp4\n",
      "\n"
     ]
    },
    {
     "name": "stderr",
     "output_type": "stream",
     "text": [
      "                                                                                                          \r"
     ]
    },
    {
     "name": "stdout",
     "output_type": "stream",
     "text": [
      "Moviepy - Done !\n",
      "Moviepy - video ready scaled_Boris Johnson says Google.mp4\n",
      "Moviepy - Building video scaled_Boris Johnson says Vegan.mp4.\n",
      "MoviePy - Writing audio in scaled_Boris Johnson says VeganTEMP_MPY_wvf_snd.mp3\n"
     ]
    },
    {
     "name": "stderr",
     "output_type": "stream",
     "text": [
      "                                                                                                          \r"
     ]
    },
    {
     "name": "stdout",
     "output_type": "stream",
     "text": [
      "MoviePy - Done.\n",
      "Moviepy - Writing video scaled_Boris Johnson says Vegan.mp4\n",
      "\n"
     ]
    },
    {
     "name": "stderr",
     "output_type": "stream",
     "text": [
      "                                                                                                          \r"
     ]
    },
    {
     "name": "stdout",
     "output_type": "stream",
     "text": [
      "Moviepy - Done !\n",
      "Moviepy - video ready scaled_Boris Johnson says Vegan.mp4\n",
      "Moviepy - Building video scaled_Boris Johnson turns Jabs into Jobs.mp4.\n",
      "MoviePy - Writing audio in scaled_Boris Johnson turns Jabs into JobsTEMP_MPY_wvf_snd.mp3\n"
     ]
    },
    {
     "name": "stderr",
     "output_type": "stream",
     "text": [
      "                                                                                                          "
     ]
    },
    {
     "name": "stdout",
     "output_type": "stream",
     "text": [
      "MoviePy - Done.\n",
      "Moviepy - Writing video scaled_Boris Johnson turns Jabs into Jobs.mp4\n",
      "\n"
     ]
    },
    {
     "name": "stderr",
     "output_type": "stream",
     "text": [
      "                                                                                                          \r"
     ]
    },
    {
     "name": "stdout",
     "output_type": "stream",
     "text": [
      "Moviepy - Done !\n",
      "Moviepy - video ready scaled_Boris Johnson turns Jabs into Jobs.mp4\n",
      "Moviepy - Building video scaled_Boris Johnson says Dude.mp4.\n",
      "MoviePy - Writing audio in scaled_Boris Johnson says DudeTEMP_MPY_wvf_snd.mp3\n"
     ]
    },
    {
     "name": "stderr",
     "output_type": "stream",
     "text": [
      "                                                                                                          \r"
     ]
    },
    {
     "name": "stdout",
     "output_type": "stream",
     "text": [
      "MoviePy - Done.\n",
      "Moviepy - Writing video scaled_Boris Johnson says Dude.mp4\n",
      "\n"
     ]
    },
    {
     "name": "stderr",
     "output_type": "stream",
     "text": [
      "                                                                                                          \r"
     ]
    },
    {
     "name": "stdout",
     "output_type": "stream",
     "text": [
      "Moviepy - Done !\n",
      "Moviepy - video ready scaled_Boris Johnson says Dude.mp4\n",
      "Moviepy - Building video scaled_Boris Johnson says Chimera.mp4.\n",
      "MoviePy - Writing audio in scaled_Boris Johnson says ChimeraTEMP_MPY_wvf_snd.mp3\n"
     ]
    },
    {
     "name": "stderr",
     "output_type": "stream",
     "text": [
      "                                                                                                          \r"
     ]
    },
    {
     "name": "stdout",
     "output_type": "stream",
     "text": [
      "MoviePy - Done.\n",
      "Moviepy - Writing video scaled_Boris Johnson says Chimera.mp4\n",
      "\n"
     ]
    },
    {
     "name": "stderr",
     "output_type": "stream",
     "text": [
      "                                                                                                          \r"
     ]
    },
    {
     "name": "stdout",
     "output_type": "stream",
     "text": [
      "Moviepy - Done !\n",
      "Moviepy - video ready scaled_Boris Johnson says Chimera.mp4\n",
      "Moviepy - Building video scaled_Boris Johnson says Gangnam Style.mp4.\n",
      "MoviePy - Writing audio in scaled_Boris Johnson says Gangnam StyleTEMP_MPY_wvf_snd.mp3\n"
     ]
    },
    {
     "name": "stderr",
     "output_type": "stream",
     "text": [
      "                                                                                                          \r"
     ]
    },
    {
     "name": "stdout",
     "output_type": "stream",
     "text": [
      "MoviePy - Done.\n",
      "Moviepy - Writing video scaled_Boris Johnson says Gangnam Style.mp4\n",
      "\n"
     ]
    },
    {
     "name": "stderr",
     "output_type": "stream",
     "text": [
      "                                                                                                          \r"
     ]
    },
    {
     "name": "stdout",
     "output_type": "stream",
     "text": [
      "Moviepy - Done !\n",
      "Moviepy - video ready scaled_Boris Johnson says Gangnam Style.mp4\n",
      "Moviepy - Building video scaled_Boris Johnson says Preposterous.mp4.\n",
      "MoviePy - Writing audio in scaled_Boris Johnson says PreposterousTEMP_MPY_wvf_snd.mp3\n"
     ]
    },
    {
     "name": "stderr",
     "output_type": "stream",
     "text": [
      "                                                                                                          \r"
     ]
    },
    {
     "name": "stdout",
     "output_type": "stream",
     "text": [
      "MoviePy - Done.\n",
      "Moviepy - Writing video scaled_Boris Johnson says Preposterous.mp4\n",
      "\n"
     ]
    },
    {
     "name": "stderr",
     "output_type": "stream",
     "text": [
      "                                                                                                          \r"
     ]
    },
    {
     "name": "stdout",
     "output_type": "stream",
     "text": [
      "Moviepy - Done !\n",
      "Moviepy - video ready scaled_Boris Johnson says Preposterous.mp4\n",
      "Moviepy - Building video scaled_Boris Johnson says Infantile Aphasia.mp4.\n",
      "MoviePy - Writing audio in scaled_Boris Johnson says Infantile AphasiaTEMP_MPY_wvf_snd.mp3\n"
     ]
    },
    {
     "name": "stderr",
     "output_type": "stream",
     "text": [
      "                                                                                                          \r"
     ]
    },
    {
     "name": "stdout",
     "output_type": "stream",
     "text": [
      "MoviePy - Done.\n",
      "Moviepy - Writing video scaled_Boris Johnson says Infantile Aphasia.mp4\n",
      "\n"
     ]
    },
    {
     "name": "stderr",
     "output_type": "stream",
     "text": [
      "                                                                                                          \r"
     ]
    },
    {
     "name": "stdout",
     "output_type": "stream",
     "text": [
      "Moviepy - Done !\n",
      "Moviepy - video ready scaled_Boris Johnson says Infantile Aphasia.mp4\n",
      "Moviepy - Building video scaled_Boris Johnson says Zombie.mp4.\n",
      "MoviePy - Writing audio in scaled_Boris Johnson says ZombieTEMP_MPY_wvf_snd.mp3\n"
     ]
    },
    {
     "name": "stderr",
     "output_type": "stream",
     "text": [
      "                                                                                                          \r"
     ]
    },
    {
     "name": "stdout",
     "output_type": "stream",
     "text": [
      "MoviePy - Done.\n",
      "Moviepy - Writing video scaled_Boris Johnson says Zombie.mp4\n",
      "\n"
     ]
    },
    {
     "name": "stderr",
     "output_type": "stream",
     "text": [
      "                                                                                                          \r"
     ]
    },
    {
     "name": "stdout",
     "output_type": "stream",
     "text": [
      "Moviepy - Done !\n",
      "Moviepy - video ready scaled_Boris Johnson says Zombie.mp4\n",
      "Moviepy - Building video scaled_Boris Johnson says Very Nice.mp4.\n",
      "MoviePy - Writing audio in scaled_Boris Johnson says Very NiceTEMP_MPY_wvf_snd.mp3\n"
     ]
    },
    {
     "name": "stderr",
     "output_type": "stream",
     "text": [
      "                                                                                                          \r"
     ]
    },
    {
     "name": "stdout",
     "output_type": "stream",
     "text": [
      "MoviePy - Done.\n",
      "Moviepy - Writing video scaled_Boris Johnson says Very Nice.mp4\n",
      "\n"
     ]
    },
    {
     "name": "stderr",
     "output_type": "stream",
     "text": [
      "                                                                                                          \r"
     ]
    },
    {
     "name": "stdout",
     "output_type": "stream",
     "text": [
      "Moviepy - Done !\n",
      "Moviepy - video ready scaled_Boris Johnson says Very Nice.mp4\n",
      "Moviepy - Building video scaled_Boris Johnson says Supine Protoplasmic Invertebrate Jellies.mp4.\n",
      "MoviePy - Writing audio in scaled_Boris Johnson says Supine Protoplasmic Invertebrate JelliesTEMP_MPY_wvf_snd.mp3\n"
     ]
    },
    {
     "name": "stderr",
     "output_type": "stream",
     "text": [
      "                                                                                                          \r"
     ]
    },
    {
     "name": "stdout",
     "output_type": "stream",
     "text": [
      "MoviePy - Done.\n",
      "Moviepy - Writing video scaled_Boris Johnson says Supine Protoplasmic Invertebrate Jellies.mp4\n",
      "\n"
     ]
    },
    {
     "name": "stderr",
     "output_type": "stream",
     "text": [
      "                                                                                                          \r"
     ]
    },
    {
     "name": "stdout",
     "output_type": "stream",
     "text": [
      "Moviepy - Done !\n",
      "Moviepy - video ready scaled_Boris Johnson says Supine Protoplasmic Invertebrate Jellies.mp4\n",
      "Moviepy - Building video scaled_Boris Johnson says Blue.mp4.\n",
      "MoviePy - Writing audio in scaled_Boris Johnson says BlueTEMP_MPY_wvf_snd.mp3\n"
     ]
    },
    {
     "name": "stderr",
     "output_type": "stream",
     "text": [
      "                                                                                                          \r"
     ]
    },
    {
     "name": "stdout",
     "output_type": "stream",
     "text": [
      "MoviePy - Done.\n",
      "Moviepy - Writing video scaled_Boris Johnson says Blue.mp4\n",
      "\n"
     ]
    },
    {
     "name": "stderr",
     "output_type": "stream",
     "text": [
      "                                                                                                          \r"
     ]
    },
    {
     "name": "stdout",
     "output_type": "stream",
     "text": [
      "Moviepy - Done !\n",
      "Moviepy - video ready scaled_Boris Johnson says Blue.mp4\n",
      "Moviepy - Building video scaled_Boris Johnson says Wiff Waff.mp4.\n",
      "MoviePy - Writing audio in scaled_Boris Johnson says Wiff WaffTEMP_MPY_wvf_snd.mp3\n"
     ]
    },
    {
     "name": "stderr",
     "output_type": "stream",
     "text": [
      "                                                                                                          \r"
     ]
    },
    {
     "name": "stdout",
     "output_type": "stream",
     "text": [
      "MoviePy - Done.\n",
      "Moviepy - Writing video scaled_Boris Johnson says Wiff Waff.mp4\n",
      "\n"
     ]
    },
    {
     "name": "stderr",
     "output_type": "stream",
     "text": [
      "                                                                                                          \r"
     ]
    },
    {
     "name": "stdout",
     "output_type": "stream",
     "text": [
      "Moviepy - Done !\n",
      "Moviepy - video ready scaled_Boris Johnson says Wiff Waff.mp4\n"
     ]
    }
   ],
   "source": [
    "for item in os.listdir(): \n",
    "    if not item.startswith(\"scaled_\"):\n",
    "        clip = VideoFileClip(item)\n",
    "        clip = clip.resize((1920,1080))\n",
    "        clip.write_videofile(f'scaled_{item}')\n",
    "        "
   ]
  },
  {
   "cell_type": "code",
   "execution_count": 6,
   "id": "bae69d8e-870e-4333-9330-3b4f23379338",
   "metadata": {},
   "outputs": [
    {
     "data": {
      "text/plain": [
       "'/home/sourabh/work/personal/whodoesntlovereddit/images/tt'"
      ]
     },
     "execution_count": 6,
     "metadata": {},
     "output_type": "execute_result"
    }
   ],
   "source": [
    "os.getcwd()"
   ]
  },
  {
   "cell_type": "code",
   "execution_count": null,
   "id": "01b0a250-06f8-4eb9-8a9b-30bf0e1f8644",
   "metadata": {},
   "outputs": [],
   "source": []
  },
  {
   "cell_type": "code",
   "execution_count": 117,
   "id": "91f3b0bd-1e2f-49f0-b613-3e9abb3c2367",
   "metadata": {},
   "outputs": [],
   "source": [
    "clip = VideoFileClip('scaled_Boris Johnson says Wiff Waff.mp4').subclip(8, 9.25)"
   ]
  },
  {
   "cell_type": "code",
   "execution_count": 118,
   "id": "f3f4f194-14bd-43ac-8475-c5d2df6fa0ca",
   "metadata": {},
   "outputs": [
    {
     "name": "stdout",
     "output_type": "stream",
     "text": [
      "Moviepy - Building video scaled_wiff_waff.mp4.\n",
      "MoviePy - Writing audio in scaled_wiff_waffTEMP_MPY_wvf_snd.mp3\n"
     ]
    },
    {
     "name": "stderr",
     "output_type": "stream",
     "text": [
      "                                                                                                          \r"
     ]
    },
    {
     "name": "stdout",
     "output_type": "stream",
     "text": [
      "MoviePy - Done.\n",
      "Moviepy - Writing video scaled_wiff_waff.mp4\n",
      "\n"
     ]
    },
    {
     "name": "stderr",
     "output_type": "stream",
     "text": [
      "                                                                                                          \r"
     ]
    },
    {
     "name": "stdout",
     "output_type": "stream",
     "text": [
      "Moviepy - Done !\n",
      "Moviepy - video ready scaled_wiff_waff.mp4\n"
     ]
    }
   ],
   "source": [
    "clip.write_videofile('scaled_wiff_waff.mp4')"
   ]
  },
  {
   "cell_type": "code",
   "execution_count": null,
   "id": "053e7ed7-d20d-4e75-aac8-57e2fe65c8af",
   "metadata": {},
   "outputs": [],
   "source": []
  },
  {
   "cell_type": "code",
   "execution_count": 2,
   "id": "32369189-9c5c-4794-a5bc-10c978f15a55",
   "metadata": {},
   "outputs": [
    {
     "name": "stdout",
     "output_type": "stream",
     "text": [
      "hi\n"
     ]
    }
   ],
   "source": [
    "a = \"\"\n",
    "\n",
    "if not a:\n",
    "    print(\"hi\")\n",
    "else:\n",
    "    print(\"world\")\n"
   ]
  },
  {
   "cell_type": "code",
   "execution_count": null,
   "id": "c590b346-11f2-407f-8f29-3454be57971f",
   "metadata": {},
   "outputs": [],
   "source": []
  }
 ],
 "metadata": {
  "kernelspec": {
   "display_name": "Python 3.8.10 64-bit ('.venv': venv)",
   "language": "python",
   "name": "python3810jvsc74a57bd024b555649d86f360bc29675e4ea05747664583e96f16283f97272f664e30bb4e"
  },
  "language_info": {
   "codemirror_mode": {
    "name": "ipython",
    "version": 3
   },
   "file_extension": ".py",
   "mimetype": "text/x-python",
   "name": "python",
   "nbconvert_exporter": "python",
   "pygments_lexer": "ipython3",
   "version": "3.8.10"
  }
 },
 "nbformat": 4,
 "nbformat_minor": 5
}
