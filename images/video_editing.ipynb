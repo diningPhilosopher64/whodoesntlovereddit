{
 "cells": [
  {
   "cell_type": "code",
   "execution_count": 1,
   "id": "0fcf17a3-2df4-4cbc-827a-64ebb413bc70",
   "metadata": {},
   "outputs": [],
   "source": [
    "from moviepy.editor import *"
   ]
  },
  {
   "cell_type": "markdown",
   "id": "4a5e71a0-b438-4d50-9917-32c78b35143a",
   "metadata": {},
   "source": [
    "# Outtro transition works"
   ]
  },
  {
   "cell_type": "markdown",
   "id": "699a3e40-3a37-4f4c-ab72-5eda3e533d95",
   "metadata": {},
   "source": [
    "# crab rave"
   ]
  },
  {
   "cell_type": "code",
   "execution_count": 2,
   "id": "7e1d4189-5f26-4d0a-b3bb-f71da680d3e6",
   "metadata": {},
   "outputs": [],
   "source": [
    "import os\n",
    "file_path = os.path.join(os.getcwd(), \"crab_rave_original.mp4\")  "
   ]
  },
  {
   "cell_type": "code",
   "execution_count": 289,
   "id": "f15c978b-726e-49ef-acb6-00ba1bd41950",
   "metadata": {},
   "outputs": [
    {
     "ename": "AttributeError",
     "evalue": "'VideoFileClip' object has no attribute 'video_fadeout'",
     "output_type": "error",
     "traceback": [
      "\u001b[0;31m---------------------------------------------------------------------------\u001b[0m",
      "\u001b[0;31mAttributeError\u001b[0m                            Traceback (most recent call last)",
      "\u001b[0;32m/tmp/ipykernel_40323/3177790319.py\u001b[0m in \u001b[0;36m<module>\u001b[0;34m\u001b[0m\n\u001b[1;32m      1\u001b[0m \u001b[0mvideo_clip\u001b[0m \u001b[0;34m=\u001b[0m \u001b[0mVideoFileClip\u001b[0m\u001b[0;34m(\u001b[0m\u001b[0mfile_path\u001b[0m\u001b[0;34m)\u001b[0m\u001b[0;34m\u001b[0m\u001b[0;34m\u001b[0m\u001b[0m\n\u001b[0;32m----> 2\u001b[0;31m \u001b[0mvideo_clip\u001b[0m \u001b[0;34m=\u001b[0m \u001b[0mvideo_clip\u001b[0m\u001b[0;34m.\u001b[0m\u001b[0mvideo_fadeout\u001b[0m\u001b[0;34m(\u001b[0m\u001b[0;36m1\u001b[0m\u001b[0;34m)\u001b[0m\u001b[0;34m\u001b[0m\u001b[0;34m\u001b[0m\u001b[0m\n\u001b[0m\u001b[1;32m      3\u001b[0m \u001b[0mfps\u001b[0m \u001b[0;34m=\u001b[0m \u001b[0mvideo_clip\u001b[0m\u001b[0;34m.\u001b[0m\u001b[0mfps\u001b[0m\u001b[0;34m\u001b[0m\u001b[0;34m\u001b[0m\u001b[0m\n\u001b[1;32m      4\u001b[0m \u001b[0mduration\u001b[0m \u001b[0;34m=\u001b[0m \u001b[0mvideo_clip\u001b[0m\u001b[0;34m.\u001b[0m\u001b[0mreader\u001b[0m\u001b[0;34m.\u001b[0m\u001b[0mduration\u001b[0m\u001b[0;34m\u001b[0m\u001b[0;34m\u001b[0m\u001b[0m\n\u001b[1;32m      5\u001b[0m \u001b[0mw\u001b[0m\u001b[0;34m,\u001b[0m \u001b[0mh\u001b[0m \u001b[0;34m=\u001b[0m \u001b[0mvideo_clip\u001b[0m\u001b[0;34m.\u001b[0m\u001b[0msize\u001b[0m\u001b[0;34m\u001b[0m\u001b[0;34m\u001b[0m\u001b[0m\n",
      "\u001b[0;31mAttributeError\u001b[0m: 'VideoFileClip' object has no attribute 'video_fadeout'"
     ]
    }
   ],
   "source": [
    "video_clip = VideoFileClip(file_path)\n",
    "fps = video_clip.fps\n",
    "duration = video_clip.reader.duration\n",
    "w, h = video_clip.size"
   ]
  },
  {
   "cell_type": "code",
   "execution_count": 284,
   "id": "84c29beb-6a4f-43e1-8101-9dbf43d5be32",
   "metadata": {},
   "outputs": [],
   "source": [
    "audio_clip = video_clip.audio\n",
    "audio_clip = audio_clip.audio_fadein(1.5).audio_fadeout(1.5)\n",
    "# video_clip.audio = audio_clip"
   ]
  },
  {
   "cell_type": "code",
   "execution_count": 285,
   "id": "b75fd257-6207-436b-967a-df375042f66b",
   "metadata": {},
   "outputs": [],
   "source": [
    "credits_text = TextClip('Credits: @Noisestorm', fontsize=24, color='white', size = [w, 30], align='West')\n",
    "credits_text = credits_text.set_duration(duration).set_fps(fps)\n",
    "credits_text = credits_text.set_pos((\"top\"))\n"
   ]
  },
  {
   "cell_type": "code",
   "execution_count": 286,
   "id": "284a46d6-2d12-46ac-b5da-cbc7cacd6c00",
   "metadata": {},
   "outputs": [],
   "source": [
    "watermark_text = TextClip('@VidsFromAroundTheInternet', fontsize=30, color='white', size = [w, 30], align='East')\n",
    "watermark_text = watermark_text.set_duration(duration).set_fps(fps)\n",
    "watermark_text = watermark_text.set_pos((\"bottom\"))"
   ]
  },
  {
   "cell_type": "code",
   "execution_count": 287,
   "id": "f81e7f1a-2a60-4868-bf48-be688715030c",
   "metadata": {},
   "outputs": [
    {
     "ename": "AttributeError",
     "evalue": "'CompositeVideoClip' object has no attribute 'video_fadeout'",
     "output_type": "error",
     "traceback": [
      "\u001b[0;31m---------------------------------------------------------------------------\u001b[0m",
      "\u001b[0;31mAttributeError\u001b[0m                            Traceback (most recent call last)",
      "\u001b[0;32m/tmp/ipykernel_40323/1024087880.py\u001b[0m in \u001b[0;36m<module>\u001b[0;34m\u001b[0m\n\u001b[1;32m      1\u001b[0m \u001b[0mfinal_clip\u001b[0m \u001b[0;34m=\u001b[0m \u001b[0mCompositeVideoClip\u001b[0m\u001b[0;34m(\u001b[0m\u001b[0;34m[\u001b[0m\u001b[0mvideo_clip\u001b[0m\u001b[0;34m,\u001b[0m  \u001b[0mwatermark_text\u001b[0m\u001b[0;34m,\u001b[0m \u001b[0mcredits_text\u001b[0m\u001b[0;34m]\u001b[0m\u001b[0;34m,\u001b[0m \u001b[0msize\u001b[0m \u001b[0;34m=\u001b[0m \u001b[0;34m[\u001b[0m\u001b[0mw\u001b[0m\u001b[0;34m,\u001b[0m \u001b[0mh\u001b[0m\u001b[0;34m]\u001b[0m\u001b[0;34m)\u001b[0m\u001b[0;34m\u001b[0m\u001b[0;34m\u001b[0m\u001b[0m\n\u001b[1;32m      2\u001b[0m \u001b[0mfinal_clip\u001b[0m\u001b[0;34m.\u001b[0m\u001b[0maudio\u001b[0m \u001b[0;34m=\u001b[0m \u001b[0maudio_clip\u001b[0m\u001b[0;34m\u001b[0m\u001b[0;34m\u001b[0m\u001b[0m\n\u001b[0;32m----> 3\u001b[0;31m \u001b[0mfinal_clip\u001b[0m \u001b[0;34m=\u001b[0m \u001b[0mfinal_clip\u001b[0m\u001b[0;34m.\u001b[0m\u001b[0mvideo_fadeout\u001b[0m\u001b[0;34m(\u001b[0m\u001b[0;36m1\u001b[0m\u001b[0;34m)\u001b[0m\u001b[0;34m\u001b[0m\u001b[0;34m\u001b[0m\u001b[0m\n\u001b[0m",
      "\u001b[0;31mAttributeError\u001b[0m: 'CompositeVideoClip' object has no attribute 'video_fadeout'"
     ]
    }
   ],
   "source": [
    "final_clip = CompositeVideoClip([video_clip,  watermark_text, credits_text], size = [w, h])\n",
    "final_clip.audio = audio_clip\n"
   ]
  },
  {
   "cell_type": "code",
   "execution_count": 280,
   "id": "fcba01aa-21c0-4c8b-ac55-2447c8310c63",
   "metadata": {
    "collapsed": true,
    "jupyter": {
     "outputs_hidden": true
    },
    "tags": []
   },
   "outputs": [
    {
     "name": "stderr",
     "output_type": "stream",
     "text": [
      "                                                                                                \n",
      "\n",
      "\u001b[A\u001b[A                                                                                          \n",
      "\u001b[A                                                                                             \n",
      "\n",
      "\n",
      "\u001b[A\u001b[A\u001b[A                                                                                       \n",
      "\n",
      "\n",
      "\n",
      "t:   0%|                                       | 1/1202 [27:50<557:25:19, 1670.87s/it, now=None]\n",
      "\n",
      "t:   0%|                                       | 1/1202 [18:32<371:02:21, 1112.19s/it, now=None]\u001b[A\u001b[A\n",
      "t:   0%|                                       | 1/1202 [26:54<538:40:05, 1614.66s/it, now=None]\u001b[A\n",
      "\n",
      "\n",
      "t:   0%|                                       | 1/1202 [17:47<356:17:01, 1067.96s/it, now=None]\u001b[A\u001b[A\u001b[A\n",
      "\n",
      "\n",
      "\n",
      "                                                                                                \u001b[A\u001b[A\u001b[A\u001b[A\n",
      "\n",
      "\u001b[A\u001b[A                                                                                          \n",
      "\u001b[A                                                                                             \n",
      "\n",
      "\n",
      "\u001b[A\u001b[A\u001b[A                                                                                       \n",
      "\n",
      "\n",
      "\n",
      "t:   0%|                                       | 1/1202 [27:50<557:25:33, 1670.89s/it, now=None]\n",
      "\n",
      "t:   0%|                                       | 1/1202 [18:32<371:02:35, 1112.20s/it, now=None]\u001b[A\u001b[A\n",
      "t:   0%|                                       | 1/1202 [26:54<538:40:19, 1614.67s/it, now=None]\u001b[A\n",
      "\n",
      "\n",
      "t:   0%|                                       | 1/1202 [17:47<356:17:15, 1067.97s/it, now=None]\u001b[A\u001b[A\u001b[A\n",
      "\n",
      "\n",
      "\n",
      "t:   0%|                                       | 1/1202 [16:58<339:40:57, 1018.20s/it, now=None]\u001b[A\u001b[A\u001b[A\u001b[A"
     ]
    },
    {
     "name": "stdout",
     "output_type": "stream",
     "text": [
      "Moviepy - Building video clipped.mp4.\n",
      "MoviePy - Writing audio in clippedTEMP_MPY_wvf_snd.mp3\n"
     ]
    },
    {
     "name": "stderr",
     "output_type": "stream",
     "text": [
      "\n",
      "\n",
      "\n",
      "\n",
      "\n",
      "chunk:   0%|                                                  | 0/884 [00:00<?, ?it/s, now=None]\u001b[A\u001b[A\u001b[A\u001b[A\u001b[A\n",
      "\n",
      "\n",
      "\n",
      "\n",
      "chunk:  16%|█████▉                                | 138/884 [00:00<00:00, 1375.91it/s, now=None]\u001b[A\u001b[A\u001b[A\u001b[A\u001b[A\n",
      "\n",
      "\n",
      "\n",
      "\n",
      "chunk:  31%|███████████▊                          | 276/884 [00:00<00:00, 1201.25it/s, now=None]\u001b[A\u001b[A\u001b[A\u001b[A\u001b[A\n",
      "\n",
      "\n",
      "\n",
      "\n",
      "chunk:  45%|█████████████████                     | 398/884 [00:00<00:00, 1155.45it/s, now=None]\u001b[A\u001b[A\u001b[A\u001b[A\u001b[A\n",
      "\n",
      "\n",
      "\n",
      "\n",
      "chunk:  58%|██████████████████████▏               | 515/884 [00:00<00:00, 1121.79it/s, now=None]\u001b[A\u001b[A\u001b[A\u001b[A\u001b[A\n",
      "\n",
      "\n",
      "\n",
      "\n",
      "chunk:  71%|███████████████████████████▏          | 632/884 [00:00<00:00, 1137.16it/s, now=None]\u001b[A\u001b[A\u001b[A\u001b[A\u001b[A\n",
      "\n",
      "\n",
      "\n",
      "\n",
      "chunk:  85%|████████████████████████████████      | 747/884 [00:00<00:00, 1139.62it/s, now=None]\u001b[A\u001b[A\u001b[A\u001b[A\u001b[A\n",
      "\n",
      "\n",
      "\n",
      "\n",
      "chunk:  98%|█████████████████████████████████████ | 862/884 [00:00<00:00, 1113.19it/s, now=None]\u001b[A\u001b[A\u001b[A\u001b[A\u001b[A\n",
      "\n",
      "\n",
      "\n",
      "\n",
      "                                                                                                \u001b[A\u001b[A\u001b[A\u001b[A\u001b[A\n",
      "\n",
      "\u001b[A\u001b[A                                                                                          \n",
      "\u001b[A                                                                                             \n",
      "\n",
      "\n",
      "\u001b[A\u001b[A\u001b[A                                                                                       \n",
      "\n",
      "\n",
      "\n",
      "t:   0%|                                       | 1/1202 [27:51<557:41:51, 1671.70s/it, now=None]\n",
      "\n",
      "t:   0%|                                       | 1/1202 [18:33<371:18:53, 1113.02s/it, now=None]\u001b[A\u001b[A\n",
      "t:   0%|                                       | 1/1202 [26:55<538:56:37, 1615.48s/it, now=None]\u001b[A\n",
      "\n",
      "\n",
      "t:   0%|                                       | 1/1202 [17:48<356:33:33, 1068.79s/it, now=None]\u001b[A\u001b[A\u001b[A\n",
      "\n",
      "\n",
      "\n",
      "                                                                                                \u001b[A\u001b[A\u001b[A\u001b[A\n",
      "\n",
      "\u001b[A\u001b[A                                                                                          \n",
      "\u001b[A                                                                                             \n",
      "\n",
      "\n",
      "\u001b[A\u001b[A\u001b[A                                                                                       \n",
      "\n",
      "\n",
      "\n",
      "t:   0%|                                       | 1/1202 [27:51<557:42:08, 1671.71s/it, now=None]\n",
      "\n",
      "t:   0%|                                       | 1/1202 [18:33<371:19:09, 1113.03s/it, now=None]\u001b[A\u001b[A\n",
      "t:   0%|                                       | 1/1202 [26:55<538:56:53, 1615.50s/it, now=None]\u001b[A\n",
      "\n",
      "\n",
      "t:   0%|                                       | 1/1202 [17:48<356:33:50, 1068.80s/it, now=None]\u001b[A\u001b[A\u001b[A\n",
      "\n",
      "\n",
      "\n",
      "t:   0%|                                       | 1/1202 [16:59<339:57:32, 1019.03s/it, now=None]\u001b[A\u001b[A\u001b[A\u001b[A"
     ]
    },
    {
     "name": "stdout",
     "output_type": "stream",
     "text": [
      "MoviePy - Done.\n",
      "Moviepy - Writing video clipped.mp4\n",
      "\n"
     ]
    },
    {
     "name": "stderr",
     "output_type": "stream",
     "text": [
      "\n",
      "\n",
      "\n",
      "\n",
      "\n",
      "t:   0%|                                                     | 0/1202 [00:00<?, ?it/s, now=None]\u001b[A\u001b[A\u001b[A\u001b[A\u001b[A\n",
      "\n",
      "\n",
      "\n",
      "\n",
      "t:   1%|▎                                            | 7/1202 [00:00<00:18, 65.51it/s, now=None]\u001b[A\u001b[A\u001b[A\u001b[A\u001b[A\n",
      "\n",
      "\n",
      "\n",
      "\n",
      "t:   1%|▌                                           | 14/1202 [00:00<00:18, 64.19it/s, now=None]\u001b[A\u001b[A\u001b[A\u001b[A\u001b[A\n",
      "\n",
      "\n",
      "\n",
      "\n",
      "t:   2%|▊                                           | 22/1202 [00:00<00:17, 68.54it/s, now=None]\u001b[A\u001b[A\u001b[A\u001b[A\u001b[A\n",
      "\n",
      "\n",
      "\n",
      "\n",
      "t:   2%|█                                           | 30/1202 [00:00<00:16, 70.86it/s, now=None]\u001b[A\u001b[A\u001b[A\u001b[A\u001b[A\n",
      "\n",
      "\n",
      "\n",
      "\n",
      "t:   3%|█▍                                          | 38/1202 [00:00<00:15, 73.50it/s, now=None]\u001b[A\u001b[A\u001b[A\u001b[A\u001b[A\n",
      "\n",
      "\n",
      "\n",
      "\n",
      "t:   4%|█▋                                          | 46/1202 [00:00<00:16, 69.37it/s, now=None]\u001b[A\u001b[A\u001b[A\u001b[A\u001b[A\n",
      "\n",
      "\n",
      "\n",
      "\n",
      "t:   4%|█▉                                          | 53/1202 [00:00<00:17, 67.42it/s, now=None]\u001b[A\u001b[A\u001b[A\u001b[A\u001b[A\n",
      "\n",
      "\n",
      "\n",
      "\n",
      "t:   5%|██▏                                         | 60/1202 [00:00<00:18, 62.45it/s, now=None]\u001b[A\u001b[A\u001b[A\u001b[A\u001b[A\n",
      "\n",
      "\n",
      "\n",
      "\n",
      "t:   6%|██▍                                         | 67/1202 [00:01<00:19, 58.77it/s, now=None]\u001b[A\u001b[A\u001b[A\u001b[A\u001b[A\n",
      "\n",
      "\n",
      "\n",
      "\n",
      "t:   6%|██▋                                         | 73/1202 [00:01<00:19, 58.56it/s, now=None]\u001b[A\u001b[A\u001b[A\u001b[A\u001b[A\n",
      "\n",
      "\n",
      "\n",
      "\n",
      "t:   7%|██▉                                         | 79/1202 [00:01<00:19, 58.77it/s, now=None]\u001b[A\u001b[A\u001b[A\u001b[A\u001b[A\n",
      "\n",
      "\n",
      "\n",
      "\n",
      "t:   7%|███                                         | 85/1202 [00:01<00:19, 58.03it/s, now=None]\u001b[A\u001b[A\u001b[A\u001b[A\u001b[A\n",
      "\n",
      "\n",
      "\n",
      "\n",
      "t:   8%|███▎                                        | 91/1202 [00:01<00:19, 57.29it/s, now=None]\u001b[A\u001b[A\u001b[A\u001b[A\u001b[A\n",
      "\n",
      "\n",
      "\n",
      "\n",
      "t:   8%|███▌                                        | 98/1202 [00:01<00:18, 58.38it/s, now=None]\u001b[A\u001b[A\u001b[A\u001b[A\u001b[A\n",
      "\n",
      "\n",
      "\n",
      "\n",
      "t:   9%|███▋                                       | 104/1202 [00:01<00:18, 58.15it/s, now=None]\u001b[A\u001b[A\u001b[A\u001b[A\u001b[A\n",
      "\n",
      "\n",
      "\n",
      "\n",
      "t:   9%|███▉                                       | 111/1202 [00:01<00:18, 58.57it/s, now=None]\u001b[A\u001b[A\u001b[A\u001b[A\u001b[A\n",
      "\n",
      "\n",
      "\n",
      "\n",
      "t:  10%|████▏                                      | 117/1202 [00:01<00:18, 58.80it/s, now=None]\u001b[A\u001b[A\u001b[A\u001b[A\u001b[A\n",
      "\n",
      "\n",
      "\n",
      "\n",
      "t:  10%|████▍                                      | 123/1202 [00:02<00:18, 57.78it/s, now=None]\u001b[A\u001b[A\u001b[A\u001b[A\u001b[A\n",
      "\n",
      "\n",
      "\n",
      "\n",
      "t:  11%|████▌                                      | 129/1202 [00:02<00:19, 55.72it/s, now=None]\u001b[A\u001b[A\u001b[A\u001b[A\u001b[A\n",
      "\n",
      "\n",
      "\n",
      "\n",
      "t:  11%|████▊                                      | 136/1202 [00:02<00:18, 57.96it/s, now=None]\u001b[A\u001b[A\u001b[A\u001b[A\u001b[A\n",
      "\n",
      "\n",
      "\n",
      "\n",
      "t:  12%|█████                                      | 143/1202 [00:02<00:17, 59.26it/s, now=None]\u001b[A\u001b[A\u001b[A\u001b[A\u001b[A\n",
      "\n",
      "\n",
      "\n",
      "\n",
      "t:  12%|█████▎                                     | 149/1202 [00:02<00:17, 58.65it/s, now=None]\u001b[A\u001b[A\u001b[A\u001b[A\u001b[A\n",
      "\n",
      "\n",
      "\n",
      "\n",
      "t:  13%|█████▌                                     | 156/1202 [00:02<00:17, 60.08it/s, now=None]\u001b[A\u001b[A\u001b[A\u001b[A\u001b[A\n",
      "\n",
      "\n",
      "\n",
      "\n",
      "t:  14%|█████▊                                     | 163/1202 [00:02<00:17, 59.88it/s, now=None]\u001b[A\u001b[A\u001b[A\u001b[A\u001b[A\n",
      "\n",
      "\n",
      "\n",
      "\n",
      "t:  14%|██████                                     | 170/1202 [00:02<00:16, 60.91it/s, now=None]\u001b[A\u001b[A\u001b[A\u001b[A\u001b[A\n",
      "\n",
      "\n",
      "\n",
      "\n",
      "t:  15%|██████▎                                    | 177/1202 [00:02<00:16, 60.43it/s, now=None]\u001b[A\u001b[A\u001b[A\u001b[A\u001b[A\n",
      "\n",
      "\n",
      "\n",
      "\n",
      "t:  15%|██████▌                                    | 184/1202 [00:03<00:17, 59.11it/s, now=None]\u001b[A\u001b[A\u001b[A\u001b[A\u001b[A\n",
      "\n",
      "\n",
      "\n",
      "\n",
      "t:  16%|██████▊                                    | 190/1202 [00:03<00:17, 58.73it/s, now=None]\u001b[A\u001b[A\u001b[A\u001b[A\u001b[A\n",
      "\n",
      "\n",
      "\n",
      "\n",
      "t:  16%|███████                                    | 196/1202 [00:03<00:17, 58.42it/s, now=None]\u001b[A\u001b[A\u001b[A\u001b[A\u001b[A\n",
      "\n",
      "\n",
      "\n",
      "\n",
      "t:  17%|███████▏                                   | 202/1202 [00:03<00:17, 58.75it/s, now=None]\u001b[A\u001b[A\u001b[A\u001b[A\u001b[A\n",
      "\n",
      "\n",
      "\n",
      "\n",
      "t:  17%|███████▍                                   | 208/1202 [00:03<00:17, 57.62it/s, now=None]\u001b[A\u001b[A\u001b[A\u001b[A\u001b[A\n",
      "\n",
      "\n",
      "\n",
      "\n",
      "t:  18%|███████▋                                   | 214/1202 [00:03<00:17, 57.72it/s, now=None]\u001b[A\u001b[A\u001b[A\u001b[A\u001b[A\n",
      "\n",
      "\n",
      "\n",
      "\n",
      "t:  18%|███████▊                                   | 220/1202 [00:03<00:17, 56.61it/s, now=None]\u001b[A\u001b[A\u001b[A\u001b[A\u001b[A\n",
      "\n",
      "\n",
      "\n",
      "\n",
      "t:  19%|████████                                   | 226/1202 [00:03<00:16, 57.49it/s, now=None]\u001b[A\u001b[A\u001b[A\u001b[A\u001b[A\n",
      "\n",
      "\n",
      "\n",
      "\n",
      "t:  19%|████████▎                                  | 232/1202 [00:03<00:16, 57.28it/s, now=None]\u001b[A\u001b[A\u001b[A\u001b[A\u001b[A\n",
      "\n",
      "\n",
      "\n",
      "\n",
      "t:  20%|████████▌                                  | 238/1202 [00:03<00:16, 58.01it/s, now=None]\u001b[A\u001b[A\u001b[A\u001b[A\u001b[A\n",
      "\n",
      "\n",
      "\n",
      "\n",
      "t:  20%|████████▋                                  | 244/1202 [00:04<00:16, 58.19it/s, now=None]\u001b[A\u001b[A\u001b[A\u001b[A\u001b[A\n",
      "\n",
      "\n",
      "\n",
      "\n",
      "t:  21%|████████▉                                  | 250/1202 [00:04<00:16, 57.44it/s, now=None]\u001b[A\u001b[A\u001b[A\u001b[A\u001b[A\n",
      "\n",
      "\n",
      "\n",
      "\n",
      "t:  21%|█████████▏                                 | 257/1202 [00:04<00:16, 58.42it/s, now=None]\u001b[A\u001b[A\u001b[A\u001b[A\u001b[A\n",
      "\n",
      "\n",
      "\n",
      "\n",
      "t:  22%|█████████▍                                 | 263/1202 [00:04<00:15, 58.76it/s, now=None]\u001b[A\u001b[A\u001b[A\u001b[A\u001b[A\n",
      "\n",
      "\n",
      "\n",
      "\n",
      "t:  22%|█████████▌                                 | 269/1202 [00:04<00:15, 58.60it/s, now=None]\u001b[A\u001b[A\u001b[A\u001b[A\u001b[A\n",
      "\n",
      "\n",
      "\n",
      "\n",
      "t:  23%|█████████▊                                 | 275/1202 [00:04<00:16, 57.05it/s, now=None]\u001b[A\u001b[A\u001b[A\u001b[A\u001b[A\n",
      "\n",
      "\n",
      "\n",
      "\n",
      "t:  23%|██████████                                 | 281/1202 [00:04<00:16, 56.02it/s, now=None]\u001b[A\u001b[A\u001b[A\u001b[A\u001b[A\n",
      "\n",
      "\n",
      "\n",
      "\n",
      "t:  24%|██████████▎                                | 287/1202 [00:04<00:16, 55.43it/s, now=None]\u001b[A\u001b[A\u001b[A\u001b[A\u001b[A\n",
      "\n",
      "\n",
      "\n",
      "\n",
      "t:  24%|██████████▌                                | 294/1202 [00:04<00:15, 58.10it/s, now=None]\u001b[A\u001b[A\u001b[A\u001b[A\u001b[A\n",
      "\n",
      "\n",
      "\n",
      "\n",
      "t:  25%|██████████▊                                | 301/1202 [00:05<00:15, 59.21it/s, now=None]\u001b[A\u001b[A\u001b[A\u001b[A\u001b[A\n",
      "\n",
      "\n",
      "\n",
      "\n",
      "t:  26%|██████████▉                                | 307/1202 [00:05<00:16, 55.91it/s, now=None]\u001b[A\u001b[A\u001b[A\u001b[A\u001b[A\n",
      "\n",
      "\n",
      "\n",
      "\n",
      "t:  26%|███████████▏                               | 313/1202 [00:05<00:17, 52.21it/s, now=None]\u001b[A\u001b[A\u001b[A\u001b[A\u001b[A\n",
      "\n",
      "\n",
      "\n",
      "\n",
      "t:  27%|███████████▍                               | 319/1202 [00:05<00:17, 50.77it/s, now=None]\u001b[A\u001b[A\u001b[A\u001b[A\u001b[A\n",
      "\n",
      "\n",
      "\n",
      "\n",
      "t:  27%|███████████▋                               | 325/1202 [00:05<00:17, 50.06it/s, now=None]\u001b[A\u001b[A\u001b[A\u001b[A\u001b[A\n",
      "\n",
      "\n",
      "\n",
      "\n",
      "t:  28%|███████████▊                               | 331/1202 [00:05<00:17, 50.00it/s, now=None]\u001b[A\u001b[A\u001b[A\u001b[A\u001b[A\n",
      "\n",
      "\n",
      "\n",
      "\n",
      "t:  28%|████████████                               | 337/1202 [00:05<00:17, 50.04it/s, now=None]\u001b[A\u001b[A\u001b[A\u001b[A\u001b[A\n",
      "\n",
      "\n",
      "\n",
      "\n",
      "t:  29%|████████████▎                              | 343/1202 [00:05<00:17, 50.26it/s, now=None]\u001b[A\u001b[A\u001b[A\u001b[A\u001b[A\n",
      "\n",
      "\n",
      "\n",
      "\n",
      "t:  29%|████████████▍                              | 349/1202 [00:06<00:16, 51.73it/s, now=None]\u001b[A\u001b[A\u001b[A\u001b[A\u001b[A\n",
      "\n",
      "\n",
      "\n",
      "\n",
      "t:  30%|████████████▋                              | 355/1202 [00:06<00:16, 52.00it/s, now=None]\u001b[A\u001b[A\u001b[A\u001b[A\u001b[A\n",
      "\n",
      "\n",
      "\n",
      "\n",
      "t:  30%|████████████▉                              | 361/1202 [00:06<00:15, 52.73it/s, now=None]\u001b[A\u001b[A\u001b[A\u001b[A\u001b[A\n",
      "\n",
      "\n",
      "\n",
      "\n",
      "t:  31%|█████████████▏                             | 367/1202 [00:06<00:16, 51.83it/s, now=None]\u001b[A\u001b[A\u001b[A\u001b[A\u001b[A\n",
      "\n",
      "\n",
      "\n",
      "\n",
      "t:  31%|█████████████▎                             | 373/1202 [00:06<00:16, 51.43it/s, now=None]\u001b[A\u001b[A\u001b[A\u001b[A\u001b[A\n",
      "\n",
      "\n",
      "\n",
      "\n",
      "t:  32%|█████████████▌                             | 379/1202 [00:06<00:15, 51.93it/s, now=None]\u001b[A\u001b[A\u001b[A\u001b[A\u001b[A\n",
      "\n",
      "\n",
      "\n",
      "\n",
      "t:  32%|█████████████▊                             | 385/1202 [00:06<00:15, 52.24it/s, now=None]\u001b[A\u001b[A\u001b[A\u001b[A\u001b[A\n",
      "\n",
      "\n",
      "\n",
      "\n",
      "t:  33%|█████████████▉                             | 391/1202 [00:06<00:15, 51.81it/s, now=None]\u001b[A\u001b[A\u001b[A\u001b[A\u001b[A\n",
      "\n",
      "\n",
      "\n",
      "\n",
      "t:  33%|██████████████▏                            | 397/1202 [00:06<00:15, 52.12it/s, now=None]\u001b[A\u001b[A\u001b[A\u001b[A\u001b[A\n",
      "\n",
      "\n",
      "\n",
      "\n",
      "t:  34%|██████████████▍                            | 403/1202 [00:07<00:15, 51.82it/s, now=None]\u001b[A\u001b[A\u001b[A\u001b[A\u001b[A\n",
      "\n",
      "\n",
      "\n",
      "\n",
      "t:  34%|██████████████▋                            | 409/1202 [00:07<00:15, 51.46it/s, now=None]\u001b[A\u001b[A\u001b[A\u001b[A\u001b[A\n",
      "\n",
      "\n",
      "\n",
      "\n",
      "t:  35%|██████████████▊                            | 415/1202 [00:07<00:15, 51.98it/s, now=None]\u001b[A\u001b[A\u001b[A\u001b[A\u001b[A\n",
      "\n",
      "\n",
      "\n",
      "\n",
      "t:  35%|███████████████                            | 421/1202 [00:07<00:14, 52.33it/s, now=None]\u001b[A\u001b[A\u001b[A\u001b[A\u001b[A\n",
      "\n",
      "\n",
      "\n",
      "\n",
      "t:  36%|███████████████▎                           | 427/1202 [00:07<00:14, 52.43it/s, now=None]\u001b[A\u001b[A\u001b[A\u001b[A\u001b[A\n",
      "\n",
      "\n",
      "\n",
      "\n",
      "t:  36%|███████████████▍                           | 433/1202 [00:07<00:15, 50.51it/s, now=None]\u001b[A\u001b[A\u001b[A\u001b[A\u001b[A\n",
      "\n",
      "\n",
      "\n",
      "\n",
      "t:  37%|███████████████▋                           | 439/1202 [00:07<00:15, 50.37it/s, now=None]\u001b[A\u001b[A\u001b[A\u001b[A\u001b[A\n",
      "\n",
      "\n",
      "\n",
      "\n",
      "t:  37%|███████████████▉                           | 445/1202 [00:07<00:15, 48.85it/s, now=None]\u001b[A\u001b[A\u001b[A\u001b[A\u001b[A\n",
      "\n",
      "\n",
      "\n",
      "\n",
      "t:  37%|████████████████                           | 450/1202 [00:08<00:15, 48.87it/s, now=None]\u001b[A\u001b[A\u001b[A\u001b[A\u001b[A\n",
      "\n",
      "\n",
      "\n",
      "\n",
      "t:  38%|████████████████▎                          | 455/1202 [00:08<00:15, 47.37it/s, now=None]\u001b[A\u001b[A\u001b[A\u001b[A\u001b[A\n",
      "\n",
      "\n",
      "\n",
      "\n",
      "t:  38%|████████████████▍                          | 461/1202 [00:08<00:14, 49.48it/s, now=None]\u001b[A\u001b[A\u001b[A\u001b[A\u001b[A\n",
      "\n",
      "\n",
      "\n",
      "\n",
      "t:  39%|████████████████▋                          | 467/1202 [00:08<00:14, 50.36it/s, now=None]\u001b[A\u001b[A\u001b[A\u001b[A\u001b[A\n",
      "\n",
      "\n",
      "\n",
      "\n",
      "t:  39%|████████████████▉                          | 473/1202 [00:08<00:14, 49.02it/s, now=None]\u001b[A\u001b[A\u001b[A\u001b[A\u001b[A\n",
      "\n",
      "\n",
      "\n",
      "\n",
      "t:  40%|█████████████████                          | 478/1202 [00:08<00:14, 48.28it/s, now=None]\u001b[A\u001b[A\u001b[A\u001b[A\u001b[A\n",
      "\n",
      "\n",
      "\n",
      "\n",
      "t:  40%|█████████████████▎                         | 483/1202 [00:08<00:15, 47.52it/s, now=None]\u001b[A\u001b[A\u001b[A\u001b[A\u001b[A\n",
      "\n",
      "\n",
      "\n",
      "\n",
      "t:  41%|█████████████████▍                         | 488/1202 [00:08<00:14, 47.79it/s, now=None]\u001b[A\u001b[A\u001b[A\u001b[A\u001b[A\n",
      "\n",
      "\n",
      "\n",
      "\n",
      "t:  41%|█████████████████▋                         | 494/1202 [00:08<00:14, 49.71it/s, now=None]\u001b[A\u001b[A\u001b[A\u001b[A\u001b[A\n",
      "\n",
      "\n",
      "\n",
      "\n",
      "t:  42%|█████████████████▉                         | 500/1202 [00:09<00:13, 52.46it/s, now=None]\u001b[A\u001b[A\u001b[A\u001b[A\u001b[A\n",
      "\n",
      "\n",
      "\n",
      "\n",
      "t:  42%|██████████████████                         | 506/1202 [00:09<00:12, 54.52it/s, now=None]\u001b[A\u001b[A\u001b[A\u001b[A\u001b[A\n",
      "\n",
      "\n",
      "\n",
      "\n",
      "t:  43%|██████████████████▎                        | 512/1202 [00:09<00:12, 53.95it/s, now=None]\u001b[A\u001b[A\u001b[A\u001b[A\u001b[A\n",
      "\n",
      "\n",
      "\n",
      "\n",
      "t:  43%|██████████████████▌                        | 518/1202 [00:09<00:12, 53.98it/s, now=None]\u001b[A\u001b[A\u001b[A\u001b[A\u001b[A\n",
      "\n",
      "\n",
      "\n",
      "\n",
      "t:  44%|██████████████████▋                        | 524/1202 [00:09<00:12, 53.89it/s, now=None]\u001b[A\u001b[A\u001b[A\u001b[A\u001b[A\n",
      "\n",
      "\n",
      "\n",
      "\n",
      "t:  44%|██████████████████▉                        | 530/1202 [00:09<00:12, 54.81it/s, now=None]\u001b[A\u001b[A\u001b[A\u001b[A\u001b[A\n",
      "\n",
      "\n",
      "\n",
      "\n",
      "t:  45%|███████████████████▏                       | 536/1202 [00:09<00:12, 54.34it/s, now=None]\u001b[A\u001b[A\u001b[A\u001b[A\u001b[A\n",
      "\n",
      "\n",
      "\n",
      "\n",
      "t:  45%|███████████████████▍                       | 542/1202 [00:09<00:12, 53.24it/s, now=None]\u001b[A\u001b[A\u001b[A\u001b[A\u001b[A\n",
      "\n",
      "\n",
      "\n",
      "\n",
      "t:  46%|███████████████████▌                       | 548/1202 [00:09<00:12, 53.57it/s, now=None]\u001b[A\u001b[A\u001b[A\u001b[A\u001b[A\n",
      "\n",
      "\n",
      "\n",
      "\n",
      "t:  46%|███████████████████▊                       | 554/1202 [00:09<00:11, 54.50it/s, now=None]\u001b[A\u001b[A\u001b[A\u001b[A\u001b[A\n",
      "\n",
      "\n",
      "\n",
      "\n",
      "t:  47%|████████████████████                       | 560/1202 [00:10<00:11, 55.86it/s, now=None]\u001b[A\u001b[A\u001b[A\u001b[A\u001b[A\n",
      "\n",
      "\n",
      "\n",
      "\n",
      "t:  47%|████████████████████▏                      | 566/1202 [00:10<00:11, 57.02it/s, now=None]\u001b[A\u001b[A\u001b[A\u001b[A\u001b[A\n",
      "\n",
      "\n",
      "\n",
      "\n",
      "t:  48%|████████████████████▍                      | 572/1202 [00:10<00:11, 55.74it/s, now=None]\u001b[A\u001b[A\u001b[A\u001b[A\u001b[A\n",
      "\n",
      "\n",
      "\n",
      "\n",
      "t:  48%|████████████████████▋                      | 578/1202 [00:10<00:10, 56.79it/s, now=None]\u001b[A\u001b[A\u001b[A\u001b[A\u001b[A\n",
      "\n",
      "\n",
      "\n",
      "\n",
      "t:  49%|████████████████████▉                      | 584/1202 [00:10<00:11, 55.82it/s, now=None]\u001b[A\u001b[A\u001b[A\u001b[A\u001b[A\n",
      "\n",
      "\n",
      "\n",
      "\n",
      "t:  49%|█████████████████████                      | 590/1202 [00:10<00:10, 56.11it/s, now=None]\u001b[A\u001b[A\u001b[A\u001b[A\u001b[A\n",
      "\n",
      "\n",
      "\n",
      "\n",
      "t:  50%|█████████████████████▎                     | 596/1202 [00:10<00:10, 55.64it/s, now=None]\u001b[A\u001b[A\u001b[A\u001b[A\u001b[A\n",
      "\n",
      "\n",
      "\n",
      "\n",
      "t:  50%|█████████████████████▌                     | 602/1202 [00:10<00:10, 56.47it/s, now=None]\u001b[A\u001b[A\u001b[A\u001b[A\u001b[A\n",
      "\n",
      "\n",
      "\n",
      "\n",
      "t:  51%|█████████████████████▊                     | 608/1202 [00:10<00:10, 56.02it/s, now=None]\u001b[A\u001b[A\u001b[A\u001b[A\u001b[A\n",
      "\n",
      "\n",
      "\n",
      "\n",
      "t:  51%|██████████████████████                     | 615/1202 [00:11<00:10, 58.59it/s, now=None]\u001b[A\u001b[A\u001b[A\u001b[A\u001b[A\n",
      "\n",
      "\n",
      "\n",
      "\n",
      "t:  52%|██████████████████████▏                    | 621/1202 [00:11<00:10, 57.73it/s, now=None]\u001b[A\u001b[A\u001b[A\u001b[A\u001b[A\n",
      "\n",
      "\n",
      "\n",
      "\n",
      "t:  52%|██████████████████████▍                    | 628/1202 [00:11<00:09, 58.67it/s, now=None]\u001b[A\u001b[A\u001b[A\u001b[A\u001b[A\n",
      "\n",
      "\n",
      "\n",
      "\n",
      "t:  53%|██████████████████████▋                    | 634/1202 [00:11<00:09, 57.83it/s, now=None]\u001b[A\u001b[A\u001b[A\u001b[A\u001b[A\n",
      "\n",
      "\n",
      "\n",
      "\n",
      "t:  53%|██████████████████████▉                    | 640/1202 [00:11<00:10, 55.23it/s, now=None]\u001b[A\u001b[A\u001b[A\u001b[A\u001b[A\n",
      "\n",
      "\n",
      "\n",
      "\n",
      "t:  54%|███████████████████████                    | 646/1202 [00:11<00:10, 53.44it/s, now=None]\u001b[A\u001b[A\u001b[A\u001b[A\u001b[A\n",
      "\n",
      "\n",
      "\n",
      "\n",
      "t:  54%|███████████████████████▎                   | 652/1202 [00:11<00:10, 53.28it/s, now=None]\u001b[A\u001b[A\u001b[A\u001b[A\u001b[A\n",
      "\n",
      "\n",
      "\n",
      "\n",
      "t:  55%|███████████████████████▌                   | 658/1202 [00:11<00:10, 53.15it/s, now=None]\u001b[A\u001b[A\u001b[A\u001b[A\u001b[A\n",
      "\n",
      "\n",
      "\n",
      "\n",
      "t:  55%|███████████████████████▊                   | 664/1202 [00:11<00:10, 52.41it/s, now=None]\u001b[A\u001b[A\u001b[A\u001b[A\u001b[A\n",
      "\n",
      "\n",
      "\n",
      "\n",
      "t:  56%|███████████████████████▉                   | 670/1202 [00:12<00:10, 51.77it/s, now=None]\u001b[A\u001b[A\u001b[A\u001b[A\u001b[A\n",
      "\n",
      "\n",
      "\n",
      "\n",
      "t:  56%|████████████████████████▏                  | 676/1202 [00:12<00:10, 50.43it/s, now=None]\u001b[A\u001b[A\u001b[A\u001b[A\u001b[A\n",
      "\n",
      "\n",
      "\n",
      "\n",
      "t:  57%|████████████████████████▍                  | 682/1202 [00:12<00:10, 50.70it/s, now=None]\u001b[A\u001b[A\u001b[A\u001b[A\u001b[A\n",
      "\n",
      "\n",
      "\n",
      "\n",
      "t:  57%|████████████████████████▌                  | 688/1202 [00:12<00:10, 51.22it/s, now=None]\u001b[A\u001b[A\u001b[A\u001b[A\u001b[A\n",
      "\n",
      "\n",
      "\n",
      "\n",
      "t:  58%|████████████████████████▊                  | 694/1202 [00:12<00:10, 48.93it/s, now=None]\u001b[A\u001b[A\u001b[A\u001b[A\u001b[A\n",
      "\n",
      "\n",
      "\n",
      "\n",
      "t:  58%|█████████████████████████                  | 700/1202 [00:12<00:10, 49.38it/s, now=None]\u001b[A\u001b[A\u001b[A\u001b[A\u001b[A\n",
      "\n",
      "\n",
      "\n",
      "\n",
      "t:  59%|█████████████████████████▏                 | 705/1202 [00:12<00:10, 47.97it/s, now=None]\u001b[A\u001b[A\u001b[A\u001b[A\u001b[A\n",
      "\n",
      "\n",
      "\n",
      "\n",
      "t:  59%|█████████████████████████▍                 | 711/1202 [00:12<00:10, 48.80it/s, now=None]\u001b[A\u001b[A\u001b[A\u001b[A\u001b[A\n",
      "\n",
      "\n",
      "\n",
      "\n",
      "t:  60%|█████████████████████████▌                 | 716/1202 [00:13<00:10, 48.59it/s, now=None]\u001b[A\u001b[A\u001b[A\u001b[A\u001b[A\n",
      "\n",
      "\n",
      "\n",
      "\n",
      "t:  60%|█████████████████████████▊                 | 721/1202 [00:13<00:09, 48.27it/s, now=None]\u001b[A\u001b[A\u001b[A\u001b[A\u001b[A\n",
      "\n",
      "\n",
      "\n",
      "\n",
      "t:  60%|█████████████████████████▉                 | 726/1202 [00:13<00:09, 48.66it/s, now=None]\u001b[A\u001b[A\u001b[A\u001b[A\u001b[A\n",
      "\n",
      "\n",
      "\n",
      "\n",
      "t:  61%|██████████████████████████▏                | 731/1202 [00:13<00:09, 48.93it/s, now=None]\u001b[A\u001b[A\u001b[A\u001b[A\u001b[A\n",
      "\n",
      "\n",
      "\n",
      "\n",
      "t:  61%|██████████████████████████▎                | 736/1202 [00:13<00:09, 48.54it/s, now=None]\u001b[A\u001b[A\u001b[A\u001b[A\u001b[A\n",
      "\n",
      "\n",
      "\n",
      "\n",
      "t:  62%|██████████████████████████▌                | 742/1202 [00:13<00:09, 49.55it/s, now=None]\u001b[A\u001b[A\u001b[A\u001b[A\u001b[A\n",
      "\n",
      "\n",
      "\n",
      "\n",
      "t:  62%|██████████████████████████▊                | 748/1202 [00:13<00:09, 50.18it/s, now=None]\u001b[A\u001b[A\u001b[A\u001b[A\u001b[A\n",
      "\n",
      "\n",
      "\n",
      "\n",
      "t:  63%|██████████████████████████▉                | 754/1202 [00:13<00:09, 48.16it/s, now=None]\u001b[A\u001b[A\u001b[A\u001b[A\u001b[A\n",
      "\n",
      "\n",
      "\n",
      "\n",
      "t:  63%|███████████████████████████▏               | 760/1202 [00:13<00:08, 50.73it/s, now=None]\u001b[A\u001b[A\u001b[A\u001b[A\u001b[A\n",
      "\n",
      "\n",
      "\n",
      "\n",
      "t:  64%|███████████████████████████▍               | 766/1202 [00:14<00:08, 50.43it/s, now=None]\u001b[A\u001b[A\u001b[A\u001b[A\u001b[A\n",
      "\n",
      "\n",
      "\n",
      "\n",
      "t:  64%|███████████████████████████▌               | 772/1202 [00:14<00:08, 50.39it/s, now=None]\u001b[A\u001b[A\u001b[A\u001b[A\u001b[A\n",
      "\n",
      "\n",
      "\n",
      "\n",
      "t:  65%|███████████████████████████▊               | 778/1202 [00:14<00:08, 50.27it/s, now=None]\u001b[A\u001b[A\u001b[A\u001b[A\u001b[A\n",
      "\n",
      "\n",
      "\n",
      "\n",
      "t:  65%|████████████████████████████               | 784/1202 [00:14<00:08, 49.33it/s, now=None]\u001b[A\u001b[A\u001b[A\u001b[A\u001b[A\n",
      "\n",
      "\n",
      "\n",
      "\n",
      "t:  66%|████████████████████████████▎              | 790/1202 [00:14<00:08, 50.20it/s, now=None]\u001b[A\u001b[A\u001b[A\u001b[A\u001b[A\n",
      "\n",
      "\n",
      "\n",
      "\n",
      "t:  66%|████████████████████████████▍              | 796/1202 [00:14<00:08, 49.91it/s, now=None]\u001b[A\u001b[A\u001b[A\u001b[A\u001b[A\n",
      "\n",
      "\n",
      "\n",
      "\n",
      "t:  67%|████████████████████████████▋              | 802/1202 [00:14<00:07, 51.42it/s, now=None]\u001b[A\u001b[A\u001b[A\u001b[A\u001b[A\n",
      "\n",
      "\n",
      "\n",
      "\n",
      "t:  67%|████████████████████████████▉              | 808/1202 [00:14<00:07, 52.55it/s, now=None]\u001b[A\u001b[A\u001b[A\u001b[A\u001b[A\n",
      "\n",
      "\n",
      "\n",
      "\n",
      "t:  68%|█████████████████████████████              | 814/1202 [00:14<00:07, 53.26it/s, now=None]\u001b[A\u001b[A\u001b[A\u001b[A\u001b[A\n",
      "\n",
      "\n",
      "\n",
      "\n",
      "t:  68%|█████████████████████████████▎             | 820/1202 [00:15<00:07, 52.88it/s, now=None]\u001b[A\u001b[A\u001b[A\u001b[A\u001b[A\n",
      "\n",
      "\n",
      "\n",
      "\n",
      "t:  69%|█████████████████████████████▌             | 826/1202 [00:15<00:06, 53.71it/s, now=None]\u001b[A\u001b[A\u001b[A\u001b[A\u001b[A\n",
      "\n",
      "\n",
      "\n",
      "\n",
      "t:  69%|█████████████████████████████▊             | 832/1202 [00:15<00:06, 54.72it/s, now=None]\u001b[A\u001b[A\u001b[A\u001b[A\u001b[A\n",
      "\n",
      "\n",
      "\n",
      "\n",
      "t:  70%|█████████████████████████████▉             | 838/1202 [00:15<00:06, 55.09it/s, now=None]\u001b[A\u001b[A\u001b[A\u001b[A\u001b[A\n",
      "\n",
      "\n",
      "\n",
      "\n",
      "t:  70%|██████████████████████████████▏            | 844/1202 [00:15<00:06, 54.43it/s, now=None]\u001b[A\u001b[A\u001b[A\u001b[A\u001b[A\n",
      "\n",
      "\n",
      "\n",
      "\n",
      "t:  71%|██████████████████████████████▍            | 850/1202 [00:15<00:06, 54.81it/s, now=None]\u001b[A\u001b[A\u001b[A\u001b[A\u001b[A\n",
      "\n",
      "\n",
      "\n",
      "\n",
      "t:  71%|██████████████████████████████▌            | 856/1202 [00:15<00:06, 54.28it/s, now=None]\u001b[A\u001b[A\u001b[A\u001b[A\u001b[A\n",
      "\n",
      "\n",
      "\n",
      "\n",
      "t:  72%|██████████████████████████████▊            | 862/1202 [00:15<00:06, 53.72it/s, now=None]\u001b[A\u001b[A\u001b[A\u001b[A\u001b[A\n",
      "\n",
      "\n",
      "\n",
      "\n",
      "t:  72%|███████████████████████████████            | 868/1202 [00:15<00:06, 53.92it/s, now=None]\u001b[A\u001b[A\u001b[A\u001b[A\u001b[A\n",
      "\n",
      "\n",
      "\n",
      "\n",
      "t:  73%|███████████████████████████████▎           | 874/1202 [00:16<00:06, 54.16it/s, now=None]\u001b[A\u001b[A\u001b[A\u001b[A\u001b[A\n",
      "\n",
      "\n",
      "\n",
      "\n",
      "t:  73%|███████████████████████████████▍           | 880/1202 [00:16<00:05, 53.94it/s, now=None]\u001b[A\u001b[A\u001b[A\u001b[A\u001b[A\n",
      "\n",
      "\n",
      "\n",
      "\n",
      "t:  74%|███████████████████████████████▋           | 886/1202 [00:16<00:05, 53.06it/s, now=None]\u001b[A\u001b[A\u001b[A\u001b[A\u001b[A\n",
      "\n",
      "\n",
      "\n",
      "\n",
      "t:  74%|███████████████████████████████▉           | 892/1202 [00:16<00:05, 52.36it/s, now=None]\u001b[A\u001b[A\u001b[A\u001b[A\u001b[A\n",
      "\n",
      "\n",
      "\n",
      "\n",
      "t:  75%|████████████████████████████████           | 898/1202 [00:16<00:05, 51.91it/s, now=None]\u001b[A\u001b[A\u001b[A\u001b[A\u001b[A\n",
      "\n",
      "\n",
      "\n",
      "\n",
      "t:  75%|████████████████████████████████▎          | 904/1202 [00:16<00:05, 53.77it/s, now=None]\u001b[A\u001b[A\u001b[A\u001b[A\u001b[A\n",
      "\n",
      "\n",
      "\n",
      "\n",
      "t:  76%|████████████████████████████████▌          | 910/1202 [00:16<00:05, 55.48it/s, now=None]\u001b[A\u001b[A\u001b[A\u001b[A\u001b[A\n",
      "\n",
      "\n",
      "\n",
      "\n",
      "t:  76%|████████████████████████████████▊          | 916/1202 [00:16<00:05, 56.12it/s, now=None]\u001b[A\u001b[A\u001b[A\u001b[A\u001b[A\n",
      "\n",
      "\n",
      "\n",
      "\n",
      "t:  77%|████████████████████████████████▉          | 922/1202 [00:16<00:04, 56.47it/s, now=None]\u001b[A\u001b[A\u001b[A\u001b[A\u001b[A\n",
      "\n",
      "\n",
      "\n",
      "\n",
      "t:  77%|█████████████████████████████████▏         | 928/1202 [00:17<00:04, 56.57it/s, now=None]\u001b[A\u001b[A\u001b[A\u001b[A\u001b[A\n",
      "\n",
      "\n",
      "\n",
      "\n",
      "t:  78%|█████████████████████████████████▍         | 935/1202 [00:17<00:04, 58.48it/s, now=None]\u001b[A\u001b[A\u001b[A\u001b[A\u001b[A\n",
      "\n",
      "\n",
      "\n",
      "\n",
      "t:  78%|█████████████████████████████████▋         | 942/1202 [00:17<00:04, 60.16it/s, now=None]\u001b[A\u001b[A\u001b[A\u001b[A\u001b[A\n",
      "\n",
      "\n",
      "\n",
      "\n",
      "t:  79%|█████████████████████████████████▉         | 949/1202 [00:17<00:04, 59.00it/s, now=None]\u001b[A\u001b[A\u001b[A\u001b[A\u001b[A\n",
      "\n",
      "\n",
      "\n",
      "\n",
      "t:  79%|██████████████████████████████████▏        | 955/1202 [00:17<00:04, 58.28it/s, now=None]\u001b[A\u001b[A\u001b[A\u001b[A\u001b[A\n",
      "\n",
      "\n",
      "\n",
      "\n",
      "t:  80%|██████████████████████████████████▍        | 961/1202 [00:17<00:04, 57.55it/s, now=None]\u001b[A\u001b[A\u001b[A\u001b[A\u001b[A\n",
      "\n",
      "\n",
      "\n",
      "\n",
      "t:  80%|██████████████████████████████████▌        | 967/1202 [00:17<00:04, 55.72it/s, now=None]\u001b[A\u001b[A\u001b[A\u001b[A\u001b[A\n",
      "\n",
      "\n",
      "\n",
      "\n",
      "t:  81%|██████████████████████████████████▊        | 973/1202 [00:17<00:04, 56.35it/s, now=None]\u001b[A\u001b[A\u001b[A\u001b[A\u001b[A\n",
      "\n",
      "\n",
      "\n",
      "\n",
      "t:  81%|███████████████████████████████████        | 979/1202 [00:17<00:03, 56.33it/s, now=None]\u001b[A\u001b[A\u001b[A\u001b[A\u001b[A\n",
      "\n",
      "\n",
      "\n",
      "\n",
      "t:  82%|███████████████████████████████████▏       | 985/1202 [00:18<00:03, 55.77it/s, now=None]\u001b[A\u001b[A\u001b[A\u001b[A\u001b[A\n",
      "\n",
      "\n",
      "\n",
      "\n",
      "t:  82%|███████████████████████████████████▍       | 991/1202 [00:18<00:03, 54.29it/s, now=None]\u001b[A\u001b[A\u001b[A\u001b[A\u001b[A\n",
      "\n",
      "\n",
      "\n",
      "\n",
      "t:  83%|███████████████████████████████████▋       | 997/1202 [00:18<00:03, 53.32it/s, now=None]\u001b[A\u001b[A\u001b[A\u001b[A\u001b[A\n",
      "\n",
      "\n",
      "\n",
      "\n",
      "t:  83%|███████████████████████████████████       | 1003/1202 [00:18<00:03, 54.14it/s, now=None]\u001b[A\u001b[A\u001b[A\u001b[A\u001b[A\n",
      "\n",
      "\n",
      "\n",
      "\n",
      "t:  84%|███████████████████████████████████▎      | 1009/1202 [00:18<00:03, 53.66it/s, now=None]\u001b[A\u001b[A\u001b[A\u001b[A\u001b[A\n",
      "\n",
      "\n",
      "\n",
      "\n",
      "t:  85%|███████████████████████████████████▌      | 1016/1202 [00:18<00:03, 56.31it/s, now=None]\u001b[A\u001b[A\u001b[A\u001b[A\u001b[A\n",
      "\n",
      "\n",
      "\n",
      "\n",
      "t:  85%|███████████████████████████████████▋      | 1022/1202 [00:18<00:03, 57.31it/s, now=None]\u001b[A\u001b[A\u001b[A\u001b[A\u001b[A\n",
      "\n",
      "\n",
      "\n",
      "\n",
      "t:  86%|███████████████████████████████████▉      | 1028/1202 [00:18<00:03, 56.60it/s, now=None]\u001b[A\u001b[A\u001b[A\u001b[A\u001b[A\n",
      "\n",
      "\n",
      "\n",
      "\n",
      "t:  86%|████████████████████████████████████▏     | 1034/1202 [00:18<00:03, 55.41it/s, now=None]\u001b[A\u001b[A\u001b[A\u001b[A\u001b[A\n",
      "\n",
      "\n",
      "\n",
      "\n",
      "t:  87%|████████████████████████████████████▎     | 1040/1202 [00:19<00:02, 54.40it/s, now=None]\u001b[A\u001b[A\u001b[A\u001b[A\u001b[A\n",
      "\n",
      "\n",
      "\n",
      "\n",
      "t:  87%|████████████████████████████████████▌     | 1046/1202 [00:19<00:02, 54.75it/s, now=None]\u001b[A\u001b[A\u001b[A\u001b[A\u001b[A\n",
      "\n",
      "\n",
      "\n",
      "\n",
      "t:  88%|████████████████████████████████████▊     | 1052/1202 [00:19<00:02, 54.73it/s, now=None]\u001b[A\u001b[A\u001b[A\u001b[A\u001b[A\n",
      "\n",
      "\n",
      "\n",
      "\n",
      "t:  88%|████████████████████████████████████▉     | 1058/1202 [00:19<00:02, 55.19it/s, now=None]\u001b[A\u001b[A\u001b[A\u001b[A\u001b[A\n",
      "\n",
      "\n",
      "\n",
      "\n",
      "t:  89%|█████████████████████████████████████▏    | 1064/1202 [00:19<00:02, 54.17it/s, now=None]\u001b[A\u001b[A\u001b[A\u001b[A\u001b[A\n",
      "\n",
      "\n",
      "\n",
      "\n",
      "t:  89%|█████████████████████████████████████▍    | 1070/1202 [00:19<00:02, 54.66it/s, now=None]\u001b[A\u001b[A\u001b[A\u001b[A\u001b[A\n",
      "\n",
      "\n",
      "\n",
      "\n",
      "t:  90%|█████████████████████████████████████▌    | 1076/1202 [00:19<00:02, 54.55it/s, now=None]\u001b[A\u001b[A\u001b[A\u001b[A\u001b[A\n",
      "\n",
      "\n",
      "\n",
      "\n",
      "t:  90%|█████████████████████████████████████▊    | 1082/1202 [00:19<00:02, 54.31it/s, now=None]\u001b[A\u001b[A\u001b[A\u001b[A\u001b[A\n",
      "\n",
      "\n",
      "\n",
      "\n",
      "t:  91%|██████████████████████████████████████    | 1088/1202 [00:19<00:02, 54.12it/s, now=None]\u001b[A\u001b[A\u001b[A\u001b[A\u001b[A\n",
      "\n",
      "\n",
      "\n",
      "\n",
      "t:  91%|██████████████████████████████████████▏   | 1094/1202 [00:20<00:02, 53.84it/s, now=None]\u001b[A\u001b[A\u001b[A\u001b[A\u001b[A\n",
      "\n",
      "\n",
      "\n",
      "\n",
      "t:  92%|██████████████████████████████████████▍   | 1100/1202 [00:20<00:01, 53.52it/s, now=None]\u001b[A\u001b[A\u001b[A\u001b[A\u001b[A\n",
      "\n",
      "\n",
      "\n",
      "\n",
      "t:  92%|██████████████████████████████████████▋   | 1106/1202 [00:20<00:01, 53.27it/s, now=None]\u001b[A\u001b[A\u001b[A\u001b[A\u001b[A\n",
      "\n",
      "\n",
      "\n",
      "\n",
      "t:  93%|██████████████████████████████████████▊   | 1112/1202 [00:20<00:01, 54.40it/s, now=None]\u001b[A\u001b[A\u001b[A\u001b[A\u001b[A\n",
      "\n",
      "\n",
      "\n",
      "\n",
      "t:  93%|███████████████████████████████████████   | 1118/1202 [00:20<00:01, 53.89it/s, now=None]\u001b[A\u001b[A\u001b[A\u001b[A\u001b[A\n",
      "\n",
      "\n",
      "\n",
      "\n",
      "t:  94%|███████████████████████████████████████▎  | 1124/1202 [00:20<00:01, 53.99it/s, now=None]\u001b[A\u001b[A\u001b[A\u001b[A\u001b[A\n",
      "\n",
      "\n",
      "\n",
      "\n",
      "t:  94%|███████████████████████████████████████▍  | 1130/1202 [00:20<00:01, 53.77it/s, now=None]\u001b[A\u001b[A\u001b[A\u001b[A\u001b[A\n",
      "\n",
      "\n",
      "\n",
      "\n",
      "t:  95%|███████████████████████████████████████▋  | 1136/1202 [00:20<00:01, 52.76it/s, now=None]\u001b[A\u001b[A\u001b[A\u001b[A\u001b[A\n",
      "\n",
      "\n",
      "\n",
      "\n",
      "t:  95%|███████████████████████████████████████▉  | 1142/1202 [00:20<00:01, 53.16it/s, now=None]\u001b[A\u001b[A\u001b[A\u001b[A\u001b[A\n",
      "\n",
      "\n",
      "\n",
      "\n",
      "t:  96%|████████████████████████████████████████  | 1148/1202 [00:21<00:00, 54.16it/s, now=None]\u001b[A\u001b[A\u001b[A\u001b[A\u001b[A\n",
      "\n",
      "\n",
      "\n",
      "\n",
      "t:  96%|████████████████████████████████████████▎ | 1154/1202 [00:21<00:00, 55.71it/s, now=None]\u001b[A\u001b[A\u001b[A\u001b[A\u001b[A\n",
      "\n",
      "\n",
      "\n",
      "\n",
      "t:  97%|████████████████████████████████████████▌ | 1160/1202 [00:21<00:00, 55.39it/s, now=None]\u001b[A\u001b[A\u001b[A\u001b[A\u001b[A\n",
      "\n",
      "\n",
      "\n",
      "\n",
      "t:  97%|████████████████████████████████████████▋ | 1166/1202 [00:21<00:00, 55.19it/s, now=None]\u001b[A\u001b[A\u001b[A\u001b[A\u001b[A\n",
      "\n",
      "\n",
      "\n",
      "\n",
      "t:  98%|████████████████████████████████████████▉ | 1172/1202 [00:21<00:00, 55.71it/s, now=None]\u001b[A\u001b[A\u001b[A\u001b[A\u001b[A\n",
      "\n",
      "\n",
      "\n",
      "\n",
      "t:  98%|█████████████████████████████████████████▏| 1178/1202 [00:21<00:00, 55.61it/s, now=None]\u001b[A\u001b[A\u001b[A\u001b[A\u001b[A\n",
      "\n",
      "\n",
      "\n",
      "\n",
      "t:  99%|█████████████████████████████████████████▎| 1184/1202 [00:21<00:00, 56.43it/s, now=None]\u001b[A\u001b[A\u001b[A\u001b[A\u001b[A\n",
      "\n",
      "\n",
      "\n",
      "\n",
      "t:  99%|█████████████████████████████████████████▌| 1190/1202 [00:21<00:00, 54.49it/s, now=None]\u001b[A\u001b[A\u001b[A\u001b[A\u001b[A\n",
      "\n",
      "\n",
      "\n",
      "\n",
      "t: 100%|█████████████████████████████████████████▊| 1196/1202 [00:21<00:00, 53.04it/s, now=None]\u001b[A\u001b[A\u001b[A\u001b[A\u001b[A\n",
      "\n",
      "\n",
      "\n",
      "\n",
      "t: 100%|██████████████████████████████████████████| 1202/1202 [00:22<00:00, 52.86it/s, now=None]\u001b[A\u001b[A\u001b[A\u001b[A\u001b[A\n",
      "\n",
      "\n",
      "\n",
      "\n",
      "                                                                                                \u001b[A\u001b[A\u001b[A\u001b[A\u001b[A\n",
      "\n",
      "\u001b[A\u001b[A                                                                                          \n",
      "\u001b[A                                                                                             \n",
      "\n",
      "\n",
      "\u001b[A\u001b[A\u001b[A                                                                                       \n",
      "\n",
      "\n",
      "\n",
      "t:   0%|                                       | 1/1202 [28:14<565:13:34, 1694.27s/it, now=None]\n",
      "\n",
      "t:   0%|                                       | 1/1202 [18:55<378:50:36, 1135.58s/it, now=None]\u001b[A\u001b[A\n",
      "t:   0%|                                       | 1/1202 [27:18<546:28:22, 1638.05s/it, now=None]\u001b[A\n",
      "\n",
      "\n",
      "t:   0%|                                       | 1/1202 [18:11<364:05:18, 1091.36s/it, now=None]\u001b[A\u001b[A\u001b[A\n",
      "\n",
      "\n",
      "\n",
      "                                                                                                \u001b[A\u001b[A\u001b[A\u001b[A\n",
      "\n",
      "\u001b[A\u001b[A                                                                                          \n",
      "\u001b[A                                                                                             \n",
      "\n",
      "\n",
      "\u001b[A\u001b[A\u001b[A                                                                                       \n",
      "\n",
      "\n",
      "\n",
      "t:   0%|                                       | 1/1202 [28:14<565:13:53, 1694.28s/it, now=None]\n",
      "\n",
      "t:   0%|                                       | 1/1202 [18:55<378:50:55, 1135.60s/it, now=None]\u001b[A\u001b[A\n",
      "t:   0%|                                       | 1/1202 [27:18<546:28:39, 1638.07s/it, now=None]\u001b[A\n",
      "\n",
      "\n",
      "t:   0%|                                       | 1/1202 [18:11<364:05:36, 1091.37s/it, now=None]\u001b[A\u001b[A\u001b[A\n",
      "\n",
      "\n",
      "\n",
      "t:   0%|                                       | 1/1202 [17:21<347:29:23, 1041.60s/it, now=None]\u001b[A\u001b[A\u001b[A\u001b[A"
     ]
    },
    {
     "name": "stdout",
     "output_type": "stream",
     "text": [
      "Moviepy - Done !\n",
      "Moviepy - video ready clipped.mp4\n"
     ]
    }
   ],
   "source": [
    "final_clip.write_videofile(\"clipped.mp4\")"
   ]
  },
  {
   "cell_type": "markdown",
   "id": "12487692-ba72-4c12-99c2-dba6d449bb34",
   "metadata": {
    "tags": []
   },
   "source": [
    "# coffin dance"
   ]
  },
  {
   "cell_type": "code",
   "execution_count": 290,
   "id": "b920cefd-924f-49cf-b59d-df49d37b5fef",
   "metadata": {},
   "outputs": [],
   "source": [
    "file_path = os.path.join(os.getcwd(), \"coffin_dance_original.mp4\")  \n",
    "video_clip = VideoFileClip(file_path).subclip(5,55)\n",
    "fps = video_clip.fps\n",
    "duration = video_clip.duration\n",
    "w, h = video_clip.size\n",
    "size = video_clip.size\n",
    "audio_clip = video_clip.audio\n",
    "audio_clip = audio_clip.audio_fadein(1.5).audio_fadeout(1.5)"
   ]
  },
  {
   "cell_type": "code",
   "execution_count": 291,
   "id": "46195bab-a026-4af6-8958-455f85b17995",
   "metadata": {},
   "outputs": [],
   "source": [
    "credits_text = TextClip('Music Credits: @Tom Mucenieks', fontsize=12, color='white',stroke_width=0.6, stroke_color='white', size = [w, 12], align='West')\n",
    "credits_text = credits_text.set_duration(duration).set_fps(fps)\n",
    "credits_text = credits_text.set_pos((\"top\"))\n",
    "\n",
    "centre_text =  TextClip('You have come this far,\\n\\n you might as well like and subscribe :)', fontsize=16, color='white', stroke_width=0.6, stroke_color='white', size = [w, 80])\n",
    "centre_text = centre_text.set_duration(duration).set_fps(fps)\n",
    "centre_text = centre_text.set_pos((\"center\"))\n",
    "\n",
    "watermark_text = TextClip('@VidsFromAroundTheInternet', fontsize=20,stroke_width=0.6, stroke_color='white', color='white', size = [w, 20], align='East')\n",
    "watermark_text = watermark_text.set_duration(duration).set_fps(fps)\n",
    "watermark_text = watermark_text.set_pos((\"bottom\"))"
   ]
  },
  {
   "cell_type": "code",
   "execution_count": 292,
   "id": "91aac052-55d2-461c-8fe3-d330873c97f0",
   "metadata": {},
   "outputs": [],
   "source": [
    "background_clip = ColorClip(size =(w, h), color =[0, 0, 0])\n",
    "background_clip = background_clip.set_duration(duration).set_fps(fps)\n"
   ]
  },
  {
   "cell_type": "code",
   "execution_count": 293,
   "id": "94f305f7-f0e8-45be-a997-52290b74ba2f",
   "metadata": {},
   "outputs": [],
   "source": [
    "final_clip = CompositeVideoClip([background_clip,  watermark_text, credits_text, centre_text], size = background_clip.size)\n",
    "final_clip.audio = audio_clip"
   ]
  },
  {
   "cell_type": "code",
   "execution_count": 294,
   "id": "4e2935c4-4698-4c52-b2e2-d6bd3400dedc",
   "metadata": {
    "tags": []
   },
   "outputs": [
    {
     "name": "stderr",
     "output_type": "stream",
     "text": [
      "\n",
      "\u001b[A                                                                                                                                                        \n",
      "chunk: 100%|█████████████████████████████████████████████████████████████████████████████████████████████████████| 29/29 [18:19<00:00, 37.90s/it, now=None]\u001b[A\n",
      "\u001b[A                                                                                                                                                        \n",
      "chunk: 100%|█████████████████████████████████████████████████████████████████████████████████████████████████████| 29/29 [18:19<00:00, 37.90s/it, now=None]\u001b[A"
     ]
    },
    {
     "name": "stdout",
     "output_type": "stream",
     "text": [
      "Moviepy - Building video coffin_dance.mp4.\n",
      "MoviePy - Writing audio in coffin_danceTEMP_MPY_wvf_snd.mp3\n"
     ]
    },
    {
     "name": "stderr",
     "output_type": "stream",
     "text": [
      "                                                                                                                                                           \n",
      "\u001b[A                                                                                                                                                        \n",
      "chunk: 100%|█████████████████████████████████████████████████████████████████████████████████████████████████████| 29/29 [18:19<00:00, 37.93s/it, now=None]\u001b[A\n",
      "\u001b[A                                                                                                                                                        \n",
      "chunk: 100%|█████████████████████████████████████████████████████████████████████████████████████████████████████| 29/29 [18:19<00:00, 37.93s/it, now=None]\u001b[A"
     ]
    },
    {
     "name": "stdout",
     "output_type": "stream",
     "text": [
      "MoviePy - Done.\n",
      "Moviepy - Writing video coffin_dance.mp4\n",
      "\n"
     ]
    },
    {
     "name": "stderr",
     "output_type": "stream",
     "text": [
      "                                                                                                                                                           \n",
      "\u001b[A                                                                                                                                                        \n",
      "chunk: 100%|█████████████████████████████████████████████████████████████████████████████████████████████████████| 29/29 [18:26<00:00, 38.15s/it, now=None]\u001b[A\n",
      "\u001b[A                                                                                                                                                        \n",
      "chunk: 100%|█████████████████████████████████████████████████████████████████████████████████████████████████████| 29/29 [18:26<00:00, 38.15s/it, now=None]\u001b[A"
     ]
    },
    {
     "name": "stdout",
     "output_type": "stream",
     "text": [
      "Moviepy - Done !\n",
      "Moviepy - video ready coffin_dance.mp4\n"
     ]
    }
   ],
   "source": [
    "final_clip.write_videofile(\"coffin_dance.mp4\")"
   ]
  },
  {
   "cell_type": "code",
   "execution_count": null,
   "id": "c2abd8dc-45d9-4098-bc87-4bc526a1fdd1",
   "metadata": {},
   "outputs": [],
   "source": []
  },
  {
   "cell_type": "code",
   "execution_count": 137,
   "id": "cc19fe23-c5ea-44b3-b81b-e865a054a5fa",
   "metadata": {},
   "outputs": [
    {
     "data": {
      "text/html": [
       "<div align=middle><img  src='data:image/png;base64,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'></div>"
      ],
      "text/plain": [
       "<moviepy.video.io.html_tools.HTML2 object>"
      ]
     },
     "execution_count": 137,
     "metadata": {},
     "output_type": "execute_result"
    }
   ],
   "source": [
    "credits_text = TextClip('Credits: @Tom Mucenieks',stroke_width=1, stroke_color='white', fontsize=16, color='white', size = [w, h], align='West')\n",
    "credits_text = credits_text.set_pos(('top'))\n",
    "credits_text.ipython_display()"
   ]
  },
  {
   "cell_type": "markdown",
   "id": "6eea6b14-0237-41d9-ac12-4e5b64236e94",
   "metadata": {},
   "source": [
    "# like and subscribe"
   ]
  },
  {
   "cell_type": "code",
   "execution_count": 40,
   "id": "65c753d4-e843-4ed7-83be-8181c732bb64",
   "metadata": {},
   "outputs": [],
   "source": [
    "import moviepy.editor as editor\n",
    "import moviepy, os"
   ]
  },
  {
   "cell_type": "markdown",
   "id": "c73cca39-4c1c-452f-b141-a627d65d44ea",
   "metadata": {},
   "source": [
    "# First anim"
   ]
  },
  {
   "cell_type": "code",
   "execution_count": 41,
   "id": "9b1573bd-388e-4295-ad18-f2ee1cbd3917",
   "metadata": {},
   "outputs": [],
   "source": [
    "file_path = os.path.join(os.getcwd(), \"like_and_subscribe_original.mp4\")  \n",
    "video_clip = VideoFileClip(file_path).subclip(0,7)\n",
    "fps = video_clip.fps\n",
    "duration = video_clip.duration\n",
    "w, h = video_clip.size\n",
    "size = video_clip.size\n",
    "audio_clip = video_clip.audio\n",
    "\n",
    "audio_before_anim = audio_clip.subclip(0, 2.8)\n",
    "audio_before_anim = audio_before_anim.volumex(0)\n",
    "\n",
    "audio_during_anim = audio_clip.subclip(2.8, 6.3)\n",
    "\n",
    "audio_after_anim = audio_clip.subclip(6.3, 7)\n",
    "audio_after_anim = audio_after_anim.volumex(0)"
   ]
  },
  {
   "cell_type": "code",
   "execution_count": 42,
   "id": "dc570e3e-3de8-4928-b875-adfb01e57de7",
   "metadata": {},
   "outputs": [],
   "source": [
    "final_audio = CompositeAudioClip([audio_before_anim, audio_during_anim.set_start(2.8), audio_after_anim.set_start(6.3)])\n"
   ]
  },
  {
   "cell_type": "code",
   "execution_count": 43,
   "id": "9b1a477a-36a5-4383-90e7-799a59c9936f",
   "metadata": {
    "tags": []
   },
   "outputs": [],
   "source": [
    "# final_audio.write_audiofile('temp.mp3', fps=audio_clip.fps)"
   ]
  },
  {
   "cell_type": "code",
   "execution_count": 44,
   "id": "14202b4d-24ad-4b43-8c79-8765123e9323",
   "metadata": {},
   "outputs": [],
   "source": [
    "masked_clip = moviepy.video.fx.all.mask_color(video_clip, color=[24, 252, 4], thr=20, s=3)\n",
    "masked_clip = masked_clip.set_pos((0, h/2 - 150))\n",
    "masked_clip.audio = final_audio"
   ]
  },
  {
   "cell_type": "code",
   "execution_count": 45,
   "id": "0141b270-ff08-4021-bcba-dc172da2e0a6",
   "metadata": {},
   "outputs": [],
   "source": [
    "background_clip = ColorClip(size =(w, h), color =[0, 255, 0])\n",
    "background_clip = background_clip.set_duration(duration).set_fps(fps)"
   ]
  },
  {
   "cell_type": "code",
   "execution_count": 47,
   "id": "f2a89d77-3378-4e01-9a9f-a1434b4d7821",
   "metadata": {
    "tags": []
   },
   "outputs": [
    {
     "name": "stdout",
     "output_type": "stream",
     "text": [
      "Moviepy - Building video like_and_subscribe_1.mp4.\n",
      "MoviePy - Writing audio in like_and_subscribe_1TEMP_MPY_wvf_snd.mp3\n"
     ]
    },
    {
     "name": "stderr",
     "output_type": "stream",
     "text": [
      "                                                                                                                                                           \r"
     ]
    },
    {
     "name": "stdout",
     "output_type": "stream",
     "text": [
      "MoviePy - Done.\n",
      "Moviepy - Writing video like_and_subscribe_1.mp4\n",
      "\n"
     ]
    },
    {
     "name": "stderr",
     "output_type": "stream",
     "text": [
      "                                                                                                                                                           \r"
     ]
    },
    {
     "name": "stdout",
     "output_type": "stream",
     "text": [
      "Moviepy - Done !\n",
      "Moviepy - video ready like_and_subscribe_1.mp4\n"
     ]
    }
   ],
   "source": [
    "final_clip = editor.CompositeVideoClip([background_clip, masked_clip]).set_duration(duration)\n",
    "final_clip.audio = final_audio\n",
    "final_clip.write_videofile('like_and_subscribe_1.mp4')"
   ]
  },
  {
   "cell_type": "code",
   "execution_count": null,
   "id": "da2200ec-785a-4825-b0b4-21ebb8d6791b",
   "metadata": {
    "tags": []
   },
   "outputs": [],
   "source": []
  },
  {
   "cell_type": "markdown",
   "id": "b2cc4d23-ab26-4c06-a688-2f2bfeb179ab",
   "metadata": {},
   "source": [
    "# Second anim - Not using this as unable to add channel name yet"
   ]
  },
  {
   "cell_type": "code",
   "execution_count": 89,
   "id": "8b06797f-f437-411d-bb78-9b2e1ef96464",
   "metadata": {},
   "outputs": [],
   "source": [
    "file_path = os.path.join(os.getcwd(), \"like_and_subscribe_original.mp4\")  \n",
    "video_clip = VideoFileClip(file_path).subclip(7.8,15) \n",
    "fps = video_clip.fps\n",
    "duration = video_clip.duration\n",
    "w, h = video_clip.size\n",
    "size = video_clip.size\n",
    "audio_clip = video_clip.audio\n",
    "\n",
    "audio_anim_start = 2.5\n",
    "audio_anim_end = 5\n",
    "\n",
    "\n",
    "audio_before_anim = audio_clip.subclip(0, audio_anim_start)\n",
    "audio_before_anim = audio_before_anim.volumex(0)\n",
    "\n",
    "audio_during_anim = audio_clip.subclip(audio_anim_start, audio_anim_end)\n",
    "\n",
    "audio_after_anim = audio_clip.subclip(audio_anim_end, 7)\n",
    "audio_after_anim = audio_after_anim.volumex(0)\n",
    "\n",
    "final_audio = CompositeAudioClip([audio_before_anim, audio_during_anim.set_start(audio_anim_start), audio_after_anim.set_start(audio_anim_end)])\n"
   ]
  },
  {
   "cell_type": "code",
   "execution_count": 90,
   "id": "9fe1e46f-d15e-4d55-9497-10176547dbe1",
   "metadata": {},
   "outputs": [],
   "source": [
    "# audio_during_anim.write_audiofile('temp.mp3', fps=audio_clip.fps)"
   ]
  },
  {
   "cell_type": "code",
   "execution_count": 101,
   "id": "5c23cd17-0f9b-463f-b26b-06a915a49ba7",
   "metadata": {},
   "outputs": [],
   "source": [
    "masked_clip = moviepy.video.fx.all.mask_color(video_clip, color=[24, 252, 4], thr=20, s=3)\n",
    "masked_clip = masked_clip.set_pos((0, h/2 - 150))\n",
    "masked_clip.audio = final_audio\n",
    "\n",
    "background_clip = ColorClip(size =(w, h), color =[0, 255, 0])\n",
    "background_clip = background_clip.set_duration(duration).set_fps(fps)\n",
    "\n",
    "\n",
    "# channel_text = TextClip('@VidsFromAroundTheInternet', fontsize=24, color='white', size = [w, 30])\n",
    "# channel_text = channel_text.set_duration(duration).set_fps(fps)\n",
    "# channel_text = channel_text.set_pos((\"top\"))"
   ]
  },
  {
   "cell_type": "code",
   "execution_count": 102,
   "id": "0433bf7e-50c6-4615-ae3b-dfbc65e1c066",
   "metadata": {},
   "outputs": [
    {
     "name": "stdout",
     "output_type": "stream",
     "text": [
      "Moviepy - Building video test.mp4.\n",
      "MoviePy - Writing audio in testTEMP_MPY_wvf_snd.mp3\n"
     ]
    },
    {
     "name": "stderr",
     "output_type": "stream",
     "text": [
      "                                                                                                                                                           \r"
     ]
    },
    {
     "name": "stdout",
     "output_type": "stream",
     "text": [
      "MoviePy - Done.\n",
      "Moviepy - Writing video test.mp4\n",
      "\n"
     ]
    },
    {
     "name": "stderr",
     "output_type": "stream",
     "text": [
      "                                                                                                                                                           "
     ]
    },
    {
     "name": "stdout",
     "output_type": "stream",
     "text": [
      "Moviepy - Done !\n",
      "Moviepy - video ready test.mp4\n"
     ]
    },
    {
     "name": "stderr",
     "output_type": "stream",
     "text": [
      "\r"
     ]
    }
   ],
   "source": [
    "final_clip = editor.CompositeVideoClip([background_clip, masked_clip]).set_duration(duration)\n",
    "final_clip.audio = final_audio\n",
    "final_clip.write_videofile('test.mp4')"
   ]
  },
  {
   "cell_type": "code",
   "execution_count": null,
   "id": "d29dec98-6087-4afe-a185-bfec547cc184",
   "metadata": {},
   "outputs": [],
   "source": []
  },
  {
   "cell_type": "markdown",
   "id": "fb5d60b5-8961-4a1d-9414-3ba5eac83491",
   "metadata": {},
   "source": [
    "# Third anim"
   ]
  },
  {
   "cell_type": "code",
   "execution_count": 125,
   "id": "f7145874-742b-4ee2-b480-45925c4d52e9",
   "metadata": {},
   "outputs": [],
   "source": [
    "file_path = os.path.join(os.getcwd(), \"like_and_subscribe_original.mp4\")  \n",
    "video_clip = VideoFileClip(file_path).subclip(15,25) \n",
    "fps = video_clip.fps\n",
    "duration = video_clip.duration\n",
    "w, h = video_clip.size\n",
    "size = video_clip.size\n",
    "audio_clip = video_clip.audio\n",
    "\n",
    "audio_anim_start = 1.5\n",
    "audio_anim_end = 10\n",
    "\n",
    "audio_before_anim = audio_clip.subclip(0, audio_anim_start)\n",
    "audio_before_anim = audio_before_anim.volumex(0)\n",
    "\n",
    "audio_during_anim = audio_clip.subclip(audio_anim_start, audio_anim_end)\n",
    "\n",
    "audio_after_anim = audio_clip.subclip(audio_anim_end, 7)\n",
    "audio_after_anim = audio_after_anim.volumex(0)\n",
    "\n",
    "final_audio = CompositeAudioClip([audio_before_anim, audio_during_anim.set_start(audio_anim_start), audio_after_anim.set_start(audio_anim_end)])\n"
   ]
  },
  {
   "cell_type": "code",
   "execution_count": 126,
   "id": "2f18e866-1aba-4109-9578-d25a06bf2b1a",
   "metadata": {},
   "outputs": [],
   "source": [
    "# audio_during_anim.write_audiofile('temp.mp3', fps = audio_clip.fps)"
   ]
  },
  {
   "cell_type": "code",
   "execution_count": 127,
   "id": "e91246fd-061d-4f55-af62-ef88738eb913",
   "metadata": {},
   "outputs": [],
   "source": [
    "masked_clip = moviepy.video.fx.all.mask_color(video_clip, color=[24, 252, 4], thr=20, s=3)\n",
    "masked_clip = masked_clip.set_pos((0, h/2 - 150))\n",
    "masked_clip.audio = final_audio\n",
    "\n",
    "background_clip = ColorClip(size =(w, h), color =[0, 255, 0])\n",
    "background_clip = background_clip.set_duration(duration).set_fps(fps)"
   ]
  },
  {
   "cell_type": "code",
   "execution_count": 128,
   "id": "cebb2e16-7f62-4c35-9c45-bda5c0a17bbe",
   "metadata": {},
   "outputs": [
    {
     "name": "stdout",
     "output_type": "stream",
     "text": [
      "Moviepy - Building video test.mp4.\n",
      "MoviePy - Writing audio in testTEMP_MPY_wvf_snd.mp3\n"
     ]
    },
    {
     "name": "stderr",
     "output_type": "stream",
     "text": [
      "                                                                                                                                                           \r"
     ]
    },
    {
     "name": "stdout",
     "output_type": "stream",
     "text": [
      "MoviePy - Done.\n",
      "Moviepy - Writing video test.mp4\n",
      "\n"
     ]
    },
    {
     "name": "stderr",
     "output_type": "stream",
     "text": [
      "                                                                                                                                                           "
     ]
    },
    {
     "name": "stdout",
     "output_type": "stream",
     "text": [
      "Moviepy - Done !\n",
      "Moviepy - video ready test.mp4\n"
     ]
    },
    {
     "name": "stderr",
     "output_type": "stream",
     "text": [
      "\r"
     ]
    }
   ],
   "source": [
    "final_clip = editor.CompositeVideoClip([background_clip, masked_clip]).set_duration(duration)\n",
    "final_clip.audio = final_audio\n",
    "final_clip.write_videofile('test.mp4')"
   ]
  },
  {
   "cell_type": "markdown",
   "id": "78714487-86ee-41fd-97f7-7595918e8811",
   "metadata": {},
   "source": [
    "# New video, contains many anims\n",
    "# Anim 1"
   ]
  },
  {
   "cell_type": "code",
   "execution_count": 176,
   "id": "d81fb5fb-6793-494a-8b95-4f7ab6c9fc1b",
   "metadata": {},
   "outputs": [],
   "source": [
    "file_path = os.path.join(os.getcwd(), \"like_and_subscribe_original.mp4\") \n",
    "video_clip = VideoFileClip(file_path).subclip(0,9.5)\n",
    "fps = video_clip.fps\n",
    "duration = video_clip.duration\n",
    "w, h = video_clip.size\n",
    "size = video_clip.size"
   ]
  },
  {
   "cell_type": "code",
   "execution_count": 177,
   "id": "71dfc823-7e1c-40ed-8654-bce9dfb9312f",
   "metadata": {},
   "outputs": [],
   "source": [
    "masked_clip = moviepy.video.fx.all.mask_color(video_clip, color=[16,204,68], thr=20, s=3)\n",
    "# masked_clip = masked_clip.set_pos((0, h/2 - 150))\n",
    "# masked_clip.audio = final_audio\n",
    "masked_clip = masked_clip.set_position((0,50))"
   ]
  },
  {
   "cell_type": "code",
   "execution_count": 178,
   "id": "3f2fd642-4029-4c4d-8fa1-1d8ae4e14870",
   "metadata": {},
   "outputs": [],
   "source": [
    "background_clip = ColorClip(size =(w, h), color =[0, 255, 0])\n",
    "background_clip = background_clip.set_duration(duration).set_fps(fps)"
   ]
  },
  {
   "cell_type": "code",
   "execution_count": 179,
   "id": "b0fb8c21-26c8-4f2b-869a-13422973a975",
   "metadata": {},
   "outputs": [
    {
     "name": "stdout",
     "output_type": "stream",
     "text": [
      "Moviepy - Building video like_and_subscribe_2.mp4.\n",
      "MoviePy - Writing audio in like_and_subscribe_2TEMP_MPY_wvf_snd.mp3\n"
     ]
    },
    {
     "name": "stderr",
     "output_type": "stream",
     "text": [
      "                                                                                                                                                           \r"
     ]
    },
    {
     "name": "stdout",
     "output_type": "stream",
     "text": [
      "MoviePy - Done.\n",
      "Moviepy - Writing video like_and_subscribe_2.mp4\n",
      "\n"
     ]
    },
    {
     "name": "stderr",
     "output_type": "stream",
     "text": [
      "                                                                                                                                                           \r"
     ]
    },
    {
     "name": "stdout",
     "output_type": "stream",
     "text": [
      "Moviepy - Done !\n",
      "Moviepy - video ready like_and_subscribe_2.mp4\n"
     ]
    }
   ],
   "source": [
    "final_clip = editor.CompositeVideoClip([background_clip, masked_clip]).set_duration(duration)\n",
    "# final_clip.audio = final_audio\n",
    "final_clip.write_videofile('like_and_subscribe_2.mp4')"
   ]
  },
  {
   "cell_type": "code",
   "execution_count": null,
   "id": "799c48c0-51fc-4df6-b625-6c42a557da9b",
   "metadata": {},
   "outputs": [],
   "source": []
  },
  {
   "cell_type": "markdown",
   "id": "8849055b-7e6f-40ab-94b4-5524b767f667",
   "metadata": {},
   "source": [
    "# Anim 2"
   ]
  },
  {
   "cell_type": "code",
   "execution_count": 199,
   "id": "04bd9c2f-c21c-4514-9f85-f5f28578ff02",
   "metadata": {},
   "outputs": [],
   "source": [
    "file_path = os.path.join(os.getcwd(), \"like_and_subscribe_original.mp4\") \n",
    "video_clip = VideoFileClip(file_path).subclip(35,41)\n",
    "fps = video_clip.fps\n",
    "duration = video_clip.duration\n",
    "w, h = video_clip.size\n",
    "size = video_clip.size"
   ]
  },
  {
   "cell_type": "code",
   "execution_count": 200,
   "id": "59507e64-6a31-4df9-a673-8362572d33eb",
   "metadata": {},
   "outputs": [],
   "source": [
    "masked_clip = moviepy.video.fx.all.mask_color(video_clip, color=[16,204,68], thr=20, s=3)\n",
    "# masked_clip = masked_clip.set_pos((0, h/2 - 400))\n",
    "# masked_clip.audio = final_audio\n",
    "masked_clip = masked_clip.set_position((0,150))"
   ]
  },
  {
   "cell_type": "code",
   "execution_count": 201,
   "id": "2eeed9ab-900e-4135-a12b-c96eaf142fd6",
   "metadata": {},
   "outputs": [],
   "source": [
    "background_clip = ColorClip(size =(w, h), color =[0, 255, 0])\n",
    "background_clip = background_clip.set_duration(duration).set_fps(fps)"
   ]
  },
  {
   "cell_type": "code",
   "execution_count": 202,
   "id": "ec32b614-483c-4733-b0d5-3ce75f537b7c",
   "metadata": {},
   "outputs": [
    {
     "name": "stdout",
     "output_type": "stream",
     "text": [
      "Moviepy - Building video like_and_subscribe_3.mp4.\n",
      "MoviePy - Writing audio in like_and_subscribe_3TEMP_MPY_wvf_snd.mp3\n"
     ]
    },
    {
     "name": "stderr",
     "output_type": "stream",
     "text": [
      "                                                                                                                                                           \r"
     ]
    },
    {
     "name": "stdout",
     "output_type": "stream",
     "text": [
      "MoviePy - Done.\n",
      "Moviepy - Writing video like_and_subscribe_3.mp4\n",
      "\n"
     ]
    },
    {
     "name": "stderr",
     "output_type": "stream",
     "text": [
      "                                                                                                                                                           "
     ]
    },
    {
     "name": "stdout",
     "output_type": "stream",
     "text": [
      "Moviepy - Done !\n",
      "Moviepy - video ready like_and_subscribe_3.mp4\n"
     ]
    },
    {
     "name": "stderr",
     "output_type": "stream",
     "text": [
      "\r"
     ]
    }
   ],
   "source": [
    "final_clip = editor.CompositeVideoClip([background_clip, masked_clip]).set_duration(duration)\n",
    "# final_clip.audio = final_audio\n",
    "final_clip.write_videofile('like_and_subscribe_3.mp4')"
   ]
  },
  {
   "cell_type": "code",
   "execution_count": null,
   "id": "8764952e-c3d3-432d-98e0-7cc54a78bca6",
   "metadata": {},
   "outputs": [],
   "source": []
  },
  {
   "cell_type": "markdown",
   "id": "80360492-1742-41fb-8b28-61de0269f6ce",
   "metadata": {},
   "source": [
    "# Anim 3"
   ]
  },
  {
   "cell_type": "code",
   "execution_count": 211,
   "id": "2c3254d5-1186-4146-8f85-37ab6cc87f44",
   "metadata": {},
   "outputs": [],
   "source": [
    "file_path = os.path.join(os.getcwd(), \"like_and_subscribe_original.mp4\") \n",
    "video_clip = VideoFileClip(file_path).subclip(42,48)\n",
    "fps = video_clip.fps\n",
    "duration = video_clip.duration\n",
    "w, h = video_clip.size\n",
    "size = video_clip.size"
   ]
  },
  {
   "cell_type": "code",
   "execution_count": 215,
   "id": "9a8c1d34-e53c-4de2-b7ec-add96d1d46a4",
   "metadata": {},
   "outputs": [],
   "source": [
    "masked_clip = moviepy.video.fx.all.mask_color(video_clip, color=[16,204,68], thr=20, s=3)\n",
    "# masked_clip = masked_clip.set_pos((0, h/2 - 400))\n",
    "# masked_clip.audio = final_audio\n",
    "masked_clip = masked_clip.set_position((0,85))"
   ]
  },
  {
   "cell_type": "code",
   "execution_count": 216,
   "id": "6045cb4b-f833-4df3-8aed-9e1733112ccd",
   "metadata": {},
   "outputs": [],
   "source": [
    "background_clip = ColorClip(size =(w, h), color =[0, 255, 0])\n",
    "background_clip = background_clip.set_duration(duration).set_fps(fps)"
   ]
  },
  {
   "cell_type": "code",
   "execution_count": 217,
   "id": "edffda74-766a-443f-8d61-109f7b3a0bac",
   "metadata": {},
   "outputs": [
    {
     "name": "stdout",
     "output_type": "stream",
     "text": [
      "Moviepy - Building video test.mp4.\n",
      "MoviePy - Writing audio in testTEMP_MPY_wvf_snd.mp3\n"
     ]
    },
    {
     "name": "stderr",
     "output_type": "stream",
     "text": [
      "                                                                                                                                                           \r"
     ]
    },
    {
     "name": "stdout",
     "output_type": "stream",
     "text": [
      "MoviePy - Done.\n",
      "Moviepy - Writing video test.mp4\n",
      "\n"
     ]
    },
    {
     "name": "stderr",
     "output_type": "stream",
     "text": [
      "                                                                                                                                                           "
     ]
    },
    {
     "name": "stdout",
     "output_type": "stream",
     "text": [
      "Moviepy - Done !\n",
      "Moviepy - video ready test.mp4\n"
     ]
    },
    {
     "name": "stderr",
     "output_type": "stream",
     "text": [
      "\r"
     ]
    }
   ],
   "source": [
    "final_clip = editor.CompositeVideoClip([background_clip, masked_clip]).set_duration(duration)\n",
    "# final_clip.audio = final_audio\n",
    "final_clip.write_videofile('test.mp4')"
   ]
  },
  {
   "cell_type": "code",
   "execution_count": null,
   "id": "c7d0dc3a-3bd3-46ea-bb3d-018716dd15b6",
   "metadata": {},
   "outputs": [],
   "source": []
  },
  {
   "cell_type": "markdown",
   "id": "8fe799e9-53b2-4ada-a985-88a973673893",
   "metadata": {},
   "source": [
    "# Anim 4"
   ]
  },
  {
   "cell_type": "code",
   "execution_count": 219,
   "id": "d20f905d-5388-4f5a-8961-50acfd8f5a30",
   "metadata": {},
   "outputs": [],
   "source": [
    "file_path = os.path.join(os.getcwd(), \"like_and_subscribe_original.mp4\") \n",
    "video_clip = VideoFileClip(file_path).subclip(49,54)\n",
    "fps = video_clip.fps\n",
    "duration = video_clip.duration\n",
    "w, h = video_clip.size\n",
    "size = video_clip.size"
   ]
  },
  {
   "cell_type": "code",
   "execution_count": 220,
   "id": "b851686f-bea8-48ce-a579-234eba3e9ef3",
   "metadata": {},
   "outputs": [],
   "source": [
    "masked_clip = moviepy.video.fx.all.mask_color(video_clip, color=[16,204,68], thr=20, s=3)\n",
    "# masked_clip = masked_clip.set_pos((0, h/2 - 400))\n",
    "# masked_clip.audio = final_audio\n",
    "masked_clip = masked_clip.set_position((0,85))"
   ]
  },
  {
   "cell_type": "code",
   "execution_count": 221,
   "id": "46f03929-4b4c-4f8f-a9f5-df9dd7f0ad14",
   "metadata": {},
   "outputs": [],
   "source": [
    "background_clip = ColorClip(size =(w, h), color =[0, 255, 0])\n",
    "background_clip = background_clip.set_duration(duration).set_fps(fps)"
   ]
  },
  {
   "cell_type": "code",
   "execution_count": 222,
   "id": "2bdce4ce-a71b-43f5-a8b8-101042f96d55",
   "metadata": {},
   "outputs": [
    {
     "name": "stdout",
     "output_type": "stream",
     "text": [
      "Moviepy - Building video test.mp4.\n",
      "MoviePy - Writing audio in testTEMP_MPY_wvf_snd.mp3\n"
     ]
    },
    {
     "name": "stderr",
     "output_type": "stream",
     "text": [
      "                                                                                                                                                           \r"
     ]
    },
    {
     "name": "stdout",
     "output_type": "stream",
     "text": [
      "MoviePy - Done.\n",
      "Moviepy - Writing video test.mp4\n",
      "\n"
     ]
    },
    {
     "name": "stderr",
     "output_type": "stream",
     "text": [
      "                                                                                                                                                           \r"
     ]
    },
    {
     "name": "stdout",
     "output_type": "stream",
     "text": [
      "Moviepy - Done !\n",
      "Moviepy - video ready test.mp4\n"
     ]
    }
   ],
   "source": [
    "final_clip = editor.CompositeVideoClip([background_clip, masked_clip]).set_duration(duration)\n",
    "# final_clip.audio = final_audio\n",
    "final_clip.write_videofile('test.mp4')"
   ]
  },
  {
   "cell_type": "code",
   "execution_count": null,
   "id": "658137a1-ecea-4ee2-a19d-57e40e135a0f",
   "metadata": {},
   "outputs": [],
   "source": []
  },
  {
   "cell_type": "markdown",
   "id": "4b56e075-2034-4679-99cd-6c55ba477290",
   "metadata": {},
   "source": [
    "# Anim 5"
   ]
  },
  {
   "cell_type": "code",
   "execution_count": 226,
   "id": "e95dbdbd-85a4-43f8-8066-0823c03f676d",
   "metadata": {},
   "outputs": [
    {
     "name": "stdout",
     "output_type": "stream",
     "text": [
      "Moviepy - Building video test.mp4.\n",
      "MoviePy - Writing audio in testTEMP_MPY_wvf_snd.mp3\n"
     ]
    },
    {
     "name": "stderr",
     "output_type": "stream",
     "text": [
      "                                                                                                                                                           \r"
     ]
    },
    {
     "name": "stdout",
     "output_type": "stream",
     "text": [
      "MoviePy - Done.\n",
      "Moviepy - Writing video test.mp4\n",
      "\n"
     ]
    },
    {
     "name": "stderr",
     "output_type": "stream",
     "text": [
      "                                                                                                                                                           "
     ]
    },
    {
     "name": "stdout",
     "output_type": "stream",
     "text": [
      "Moviepy - Done !\n",
      "Moviepy - video ready test.mp4\n"
     ]
    },
    {
     "name": "stderr",
     "output_type": "stream",
     "text": [
      "\r"
     ]
    }
   ],
   "source": [
    "file_path = os.path.join(os.getcwd(), \"like_and_subscribe_original.mp4\") \n",
    "video_clip = VideoFileClip(file_path).subclip(68,72.45)\n",
    "fps = video_clip.fps\n",
    "duration = video_clip.duration\n",
    "w, h = video_clip.size\n",
    "size = video_clip.size\n",
    "\n",
    "masked_clip = moviepy.video.fx.all.mask_color(video_clip, color=[16,204,68], thr=20, s=3)\n",
    "masked_clip = masked_clip.set_position((0,85))\n",
    "\n",
    "background_clip = ColorClip(size =(w, h), color =[0, 255, 0])\n",
    "background_clip = background_clip.set_duration(duration).set_fps(fps)\n",
    "\n",
    "final_clip = editor.CompositeVideoClip([background_clip, masked_clip]).set_duration(duration)\n",
    "# final_clip.audio = final_audio\n",
    "final_clip.write_videofile('test.mp4')"
   ]
  },
  {
   "cell_type": "code",
   "execution_count": null,
   "id": "b51142c3-5ab4-4672-8a71-ab1f5757d88e",
   "metadata": {},
   "outputs": [],
   "source": []
  },
  {
   "cell_type": "markdown",
   "id": "4cd06977-5898-4480-83db-2e60374a5676",
   "metadata": {},
   "source": [
    "# Anim 6"
   ]
  },
  {
   "cell_type": "code",
   "execution_count": 230,
   "id": "2c310084-eab5-4108-928c-c576f812541f",
   "metadata": {
    "collapsed": true,
    "jupyter": {
     "outputs_hidden": true
    },
    "tags": []
   },
   "outputs": [
    {
     "name": "stderr",
     "output_type": "stream",
     "text": [
      "chunk:  91%|██████████████████████████████████████████████████████████████████████████████████████████         | 191/210 [00:39<00:03,  4.85it/s, now=None]"
     ]
    },
    {
     "name": "stdout",
     "output_type": "stream",
     "text": [
      "Moviepy - Building video test.mp4.\n",
      "MoviePy - Writing audio in testTEMP_MPY_wvf_snd.mp3\n"
     ]
    },
    {
     "name": "stderr",
     "output_type": "stream",
     "text": [
      "\n",
      "chunk:   0%|                                                                                                             | 0/189 [00:00<?, ?it/s, now=None]\u001b[A\n",
      "chunk:  91%|██████████████████████████████████████████████████████████████████████████████████████████         | 191/210 [00:39<00:03,  4.83it/s, now=None]\u001b[A"
     ]
    },
    {
     "name": "stdout",
     "output_type": "stream",
     "text": [
      "MoviePy - Done.\n",
      "Moviepy - Writing video test.mp4\n",
      "\n"
     ]
    },
    {
     "name": "stderr",
     "output_type": "stream",
     "text": [
      "\n",
      "t:   0%|                                                                                                                 | 0/257 [00:00<?, ?it/s, now=None]\u001b[A\n",
      "t:   1%|█▏                                                                                                       | 3/257 [00:00<00:09, 27.12it/s, now=None]\u001b[A\n",
      "t:   2%|██▍                                                                                                      | 6/257 [00:00<00:11, 21.54it/s, now=None]\u001b[A\n",
      "t:   4%|███▋                                                                                                     | 9/257 [00:00<00:12, 20.29it/s, now=None]\u001b[A\n",
      "t:   5%|████▊                                                                                                   | 12/257 [00:00<00:12, 19.99it/s, now=None]\u001b[A\n",
      "t:   6%|██████                                                                                                  | 15/257 [00:00<00:12, 19.85it/s, now=None]\u001b[A\n",
      "t:   7%|███████▎                                                                                                | 18/257 [00:00<00:12, 19.51it/s, now=None]\u001b[A\n",
      "t:   8%|████████                                                                                                | 20/257 [00:01<00:12, 19.11it/s, now=None]\u001b[A\n",
      "t:   9%|████████▉                                                                                               | 22/257 [00:01<00:12, 19.07it/s, now=None]\u001b[A\n",
      "t:   9%|█████████▋                                                                                              | 24/257 [00:01<00:12, 19.20it/s, now=None]\u001b[A\n",
      "t:  10%|██████████▌                                                                                             | 26/257 [00:01<00:11, 19.31it/s, now=None]\u001b[A\n",
      "t:  11%|███████████▎                                                                                            | 28/257 [00:01<00:12, 18.88it/s, now=None]\u001b[A\n",
      "t:  12%|████████████▏                                                                                           | 30/257 [00:01<00:12, 18.70it/s, now=None]\u001b[A\n",
      "t:  12%|████████████▉                                                                                           | 32/257 [00:01<00:12, 18.52it/s, now=None]\u001b[A\n",
      "t:  13%|█████████████▊                                                                                          | 34/257 [00:01<00:12, 18.54it/s, now=None]\u001b[A\n",
      "t:  14%|██████████████▌                                                                                         | 36/257 [00:01<00:11, 18.62it/s, now=None]\u001b[A\n",
      "t:  15%|███████████████▍                                                                                        | 38/257 [00:01<00:11, 18.77it/s, now=None]\u001b[A\n",
      "t:  16%|████████████████▏                                                                                       | 40/257 [00:02<00:11, 18.97it/s, now=None]\u001b[A\n",
      "t:  16%|████████████████▉                                                                                       | 42/257 [00:02<00:11, 19.01it/s, now=None]\u001b[A\n",
      "t:  17%|█████████████████▊                                                                                      | 44/257 [00:02<00:11, 18.85it/s, now=None]\u001b[A\n",
      "t:  18%|██████████████████▌                                                                                     | 46/257 [00:02<00:11, 18.60it/s, now=None]\u001b[A\n",
      "t:  19%|███████████████████▍                                                                                    | 48/257 [00:02<00:11, 18.74it/s, now=None]\u001b[A\n",
      "t:  19%|████████████████████▏                                                                                   | 50/257 [00:02<00:11, 18.69it/s, now=None]\u001b[A\n",
      "t:  20%|█████████████████████                                                                                   | 52/257 [00:02<00:10, 18.64it/s, now=None]\u001b[A\n",
      "t:  21%|█████████████████████▊                                                                                  | 54/257 [00:02<00:10, 18.80it/s, now=None]\u001b[A\n",
      "t:  22%|██████████████████████▋                                                                                 | 56/257 [00:02<00:10, 19.00it/s, now=None]\u001b[A\n",
      "t:  23%|███████████████████████▍                                                                                | 58/257 [00:03<00:10, 19.23it/s, now=None]\u001b[A\n",
      "t:  23%|████████████████████████▎                                                                               | 60/257 [00:03<00:10, 18.88it/s, now=None]\u001b[A\n",
      "t:  24%|█████████████████████████                                                                               | 62/257 [00:03<00:10, 18.36it/s, now=None]\u001b[A\n",
      "t:  25%|██████████████████████████▎                                                                             | 65/257 [00:03<00:10, 18.87it/s, now=None]\u001b[A\n",
      "t:  26%|███████████████████████████                                                                             | 67/257 [00:03<00:09, 19.05it/s, now=None]\u001b[A\n",
      "t:  27%|███████████████████████████▉                                                                            | 69/257 [00:03<00:09, 19.23it/s, now=None]\u001b[A\n",
      "t:  28%|████████████████████████████▋                                                                           | 71/257 [00:03<00:09, 19.36it/s, now=None]\u001b[A\n",
      "t:  28%|█████████████████████████████▌                                                                          | 73/257 [00:03<00:09, 19.27it/s, now=None]\u001b[A\n",
      "t:  29%|██████████████████████████████▎                                                                         | 75/257 [00:03<00:09, 19.42it/s, now=None]\u001b[A\n",
      "t:  30%|███████████████████████████████▏                                                                        | 77/257 [00:04<00:09, 19.58it/s, now=None]\u001b[A\n",
      "t:  31%|███████████████████████████████▉                                                                        | 79/257 [00:04<00:09, 19.68it/s, now=None]\u001b[A\n",
      "t:  32%|████████████████████████████████▊                                                                       | 81/257 [00:04<00:08, 19.56it/s, now=None]\u001b[A\n",
      "t:  32%|█████████████████████████████████▌                                                                      | 83/257 [00:04<00:08, 19.68it/s, now=None]\u001b[A\n",
      "t:  33%|██████████████████████████████████▍                                                                     | 85/257 [00:04<00:08, 19.76it/s, now=None]\u001b[A\n",
      "t:  34%|███████████████████████████████████▌                                                                    | 88/257 [00:04<00:08, 19.95it/s, now=None]\u001b[A\n",
      "t:  35%|████████████████████████████████████▊                                                                   | 91/257 [00:04<00:08, 20.05it/s, now=None]\u001b[A\n",
      "t:  37%|██████████████████████████████████████                                                                  | 94/257 [00:04<00:08, 19.83it/s, now=None]\u001b[A\n",
      "t:  37%|██████████████████████████████████████▊                                                                 | 96/257 [00:04<00:08, 19.75it/s, now=None]\u001b[A\n",
      "t:  38%|███████████████████████████████████████▋                                                                | 98/257 [00:05<00:08, 19.59it/s, now=None]\u001b[A\n",
      "t:  39%|████████████████████████████████████████                                                               | 100/257 [00:05<00:08, 19.57it/s, now=None]\u001b[A\n",
      "t:  40%|████████████████████████████████████████▉                                                              | 102/257 [00:05<00:07, 19.45it/s, now=None]\u001b[A\n",
      "t:  40%|█████████████████████████████████████████▋                                                             | 104/257 [00:05<00:07, 19.50it/s, now=None]\u001b[A\n",
      "t:  41%|██████████████████████████████████████████▍                                                            | 106/257 [00:05<00:07, 19.37it/s, now=None]\u001b[A\n",
      "t:  42%|███████████████████████████████████████████▎                                                           | 108/257 [00:05<00:07, 19.31it/s, now=None]\u001b[A\n",
      "t:  43%|████████████████████████████████████████████                                                           | 110/257 [00:05<00:07, 19.33it/s, now=None]\u001b[A\n",
      "t:  44%|████████████████████████████████████████████▉                                                          | 112/257 [00:05<00:07, 19.38it/s, now=None]\u001b[A\n",
      "t:  44%|█████████████████████████████████████████████▋                                                         | 114/257 [00:05<00:07, 19.35it/s, now=None]\u001b[A\n",
      "t:  45%|██████████████████████████████████████████████▍                                                        | 116/257 [00:06<00:07, 19.21it/s, now=None]\u001b[A\n",
      "t:  46%|███████████████████████████████████████████████▎                                                       | 118/257 [00:06<00:07, 19.18it/s, now=None]\u001b[A\n",
      "t:  47%|████████████████████████████████████████████████                                                       | 120/257 [00:06<00:07, 19.09it/s, now=None]\u001b[A\n",
      "t:  47%|████████████████████████████████████████████████▉                                                      | 122/257 [00:06<00:07, 19.24it/s, now=None]\u001b[A\n",
      "t:  48%|█████████████████████████████████████████████████▋                                                     | 124/257 [00:06<00:06, 19.09it/s, now=None]\u001b[A\n",
      "t:  49%|██████████████████████████████████████████████████▍                                                    | 126/257 [00:06<00:06, 19.02it/s, now=None]\u001b[A\n",
      "t:  50%|███████████████████████████████████████████████████▎                                                   | 128/257 [00:06<00:06, 19.18it/s, now=None]\u001b[A\n",
      "t:  51%|████████████████████████████████████████████████████                                                   | 130/257 [00:06<00:06, 19.20it/s, now=None]\u001b[A\n",
      "t:  51%|████████████████████████████████████████████████████▉                                                  | 132/257 [00:06<00:06, 19.31it/s, now=None]\u001b[A\n",
      "t:  52%|█████████████████████████████████████████████████████▋                                                 | 134/257 [00:06<00:06, 19.33it/s, now=None]\u001b[A\n",
      "t:  53%|██████████████████████████████████████████████████████▌                                                | 136/257 [00:07<00:06, 19.43it/s, now=None]\u001b[A\n",
      "t:  54%|███████████████████████████████████████████████████████▎                                               | 138/257 [00:07<00:06, 19.54it/s, now=None]\u001b[A\n",
      "t:  55%|████████████████████████████████████████████████████████▌                                              | 141/257 [00:07<00:05, 19.92it/s, now=None]\u001b[A\n",
      "t:  56%|█████████████████████████████████████████████████████████▋                                             | 144/257 [00:07<00:05, 20.10it/s, now=None]\u001b[A\n",
      "t:  57%|██████████████████████████████████████████████████████████▉                                            | 147/257 [00:07<00:05, 20.26it/s, now=None]\u001b[A\n",
      "t:  58%|████████████████████████████████████████████████████████████                                           | 150/257 [00:07<00:05, 20.28it/s, now=None]\u001b[A\n",
      "t:  60%|█████████████████████████████████████████████████████████████▎                                         | 153/257 [00:07<00:05, 20.39it/s, now=None]\u001b[A\n",
      "t:  61%|██████████████████████████████████████████████████████████████▌                                        | 156/257 [00:08<00:04, 20.38it/s, now=None]\u001b[A\n",
      "t:  62%|███████████████████████████████████████████████████████████████▋                                       | 159/257 [00:08<00:04, 20.46it/s, now=None]\u001b[A\n",
      "t:  63%|████████████████████████████████████████████████████████████████▉                                      | 162/257 [00:08<00:04, 20.50it/s, now=None]\u001b[A\n",
      "t:  64%|██████████████████████████████████████████████████████████████████▏                                    | 165/257 [00:08<00:04, 20.48it/s, now=None]\u001b[A\n",
      "t:  65%|███████████████████████████████████████████████████████████████████▎                                   | 168/257 [00:08<00:04, 20.39it/s, now=None]\u001b[A\n",
      "t:  67%|████████████████████████████████████████████████████████████████████▌                                  | 171/257 [00:08<00:04, 20.43it/s, now=None]\u001b[A\n",
      "t:  68%|█████████████████████████████████████████████████████████████████████▋                                 | 174/257 [00:08<00:04, 20.47it/s, now=None]\u001b[A\n",
      "t:  69%|██████████████████████████████████████████████████████████████████████▉                                | 177/257 [00:09<00:03, 20.47it/s, now=None]\u001b[A\n",
      "t:  70%|████████████████████████████████████████████████████████████████████████▏                              | 180/257 [00:09<00:03, 20.51it/s, now=None]\u001b[A\n",
      "t:  71%|█████████████████████████████████████████████████████████████████████████▎                             | 183/257 [00:09<00:03, 20.35it/s, now=None]\u001b[A\n",
      "t:  72%|██████████████████████████████████████████████████████████████████████████▌                            | 186/257 [00:09<00:03, 19.95it/s, now=None]\u001b[A\n",
      "t:  73%|███████████████████████████████████████████████████████████████████████████▎                           | 188/257 [00:09<00:03, 19.40it/s, now=None]\u001b[A\n",
      "t:  74%|████████████████████████████████████████████████████████████████████████████▏                          | 190/257 [00:09<00:03, 19.38it/s, now=None]\u001b[A\n",
      "t:  75%|████████████████████████████████████████████████████████████████████████████▉                          | 192/257 [00:09<00:03, 19.17it/s, now=None]\u001b[A\n",
      "t:  75%|█████████████████████████████████████████████████████████████████████████████▊                         | 194/257 [00:09<00:03, 19.01it/s, now=None]\u001b[A\n",
      "t:  76%|██████████████████████████████████████████████████████████████████████████████▌                        | 196/257 [00:10<00:03, 18.79it/s, now=None]\u001b[A\n",
      "t:  77%|███████████████████████████████████████████████████████████████████████████████▎                       | 198/257 [00:10<00:03, 18.84it/s, now=None]\u001b[A\n",
      "t:  78%|████████████████████████████████████████████████████████████████████████████████▏                      | 200/257 [00:10<00:03, 18.83it/s, now=None]\u001b[A\n",
      "t:  79%|████████████████████████████████████████████████████████████████████████████████▉                      | 202/257 [00:10<00:02, 18.88it/s, now=None]\u001b[A\n",
      "t:  79%|█████████████████████████████████████████████████████████████████████████████████▊                     | 204/257 [00:10<00:02, 18.78it/s, now=None]\u001b[A\n",
      "t:  80%|██████████████████████████████████████████████████████████████████████████████████▌                    | 206/257 [00:10<00:02, 18.76it/s, now=None]\u001b[A\n",
      "t:  81%|███████████████████████████████████████████████████████████████████████████████████▎                   | 208/257 [00:10<00:02, 18.84it/s, now=None]\u001b[A\n",
      "t:  82%|████████████████████████████████████████████████████████████████████████████████████▏                  | 210/257 [00:10<00:02, 18.73it/s, now=None]\u001b[A\n",
      "t:  82%|████████████████████████████████████████████████████████████████████████████████████▉                  | 212/257 [00:10<00:02, 18.75it/s, now=None]\u001b[A\n",
      "t:  83%|█████████████████████████████████████████████████████████████████████████████████████▊                 | 214/257 [00:11<00:02, 18.76it/s, now=None]\u001b[A\n",
      "t:  84%|██████████████████████████████████████████████████████████████████████████████████████▌                | 216/257 [00:11<00:02, 18.81it/s, now=None]\u001b[A\n",
      "t:  85%|███████████████████████████████████████████████████████████████████████████████████████▎               | 218/257 [00:11<00:02, 18.78it/s, now=None]\u001b[A\n",
      "t:  86%|████████████████████████████████████████████████████████████████████████████████████████▏              | 220/257 [00:11<00:01, 18.80it/s, now=None]\u001b[A\n",
      "t:  86%|████████████████████████████████████████████████████████████████████████████████████████▉              | 222/257 [00:11<00:01, 18.68it/s, now=None]\u001b[A\n",
      "t:  87%|█████████████████████████████████████████████████████████████████████████████████████████▊             | 224/257 [00:11<00:01, 18.74it/s, now=None]\u001b[A\n",
      "t:  88%|██████████████████████████████████████████████████████████████████████████████████████████▌            | 226/257 [00:11<00:01, 18.73it/s, now=None]\u001b[A\n",
      "t:  89%|███████████████████████████████████████████████████████████████████████████████████████████▍           | 228/257 [00:11<00:01, 18.77it/s, now=None]\u001b[A\n",
      "t:  89%|████████████████████████████████████████████████████████████████████████████████████████████▏          | 230/257 [00:11<00:01, 18.75it/s, now=None]\u001b[A\n",
      "t:  90%|████████████████████████████████████████████████████████████████████████████████████████████▉          | 232/257 [00:11<00:01, 18.82it/s, now=None]\u001b[A\n",
      "t:  91%|█████████████████████████████████████████████████████████████████████████████████████████████▊         | 234/257 [00:12<00:01, 18.84it/s, now=None]\u001b[A\n",
      "t:  92%|██████████████████████████████████████████████████████████████████████████████████████████████▌        | 236/257 [00:12<00:01, 18.84it/s, now=None]\u001b[A\n",
      "t:  93%|███████████████████████████████████████████████████████████████████████████████████████████████▍       | 238/257 [00:12<00:01, 18.83it/s, now=None]\u001b[A\n",
      "t:  93%|████████████████████████████████████████████████████████████████████████████████████████████████▏      | 240/257 [00:12<00:00, 18.83it/s, now=None]\u001b[A\n",
      "t:  94%|████████████████████████████████████████████████████████████████████████████████████████████████▉      | 242/257 [00:12<00:00, 18.91it/s, now=None]\u001b[A\n",
      "t:  95%|█████████████████████████████████████████████████████████████████████████████████████████████████▊     | 244/257 [00:12<00:00, 18.89it/s, now=None]\u001b[A\n",
      "t:  96%|██████████████████████████████████████████████████████████████████████████████████████████████████▌    | 246/257 [00:12<00:00, 18.83it/s, now=None]\u001b[A\n",
      "t:  96%|███████████████████████████████████████████████████████████████████████████████████████████████████▍   | 248/257 [00:12<00:00, 18.95it/s, now=None]\u001b[A\n",
      "t:  97%|████████████████████████████████████████████████████████████████████████████████████████████████████▏  | 250/257 [00:12<00:00, 18.82it/s, now=None]\u001b[A\n",
      "t:  98%|████████████████████████████████████████████████████████████████████████████████████████████████████▉  | 252/257 [00:13<00:00, 18.77it/s, now=None]\u001b[A\n",
      "t:  99%|█████████████████████████████████████████████████████████████████████████████████████████████████████▊ | 254/257 [00:13<00:00, 18.65it/s, now=None]\u001b[A\n",
      "t: 100%|██████████████████████████████████████████████████████████████████████████████████████████████████████▌| 256/257 [00:13<00:00, 18.61it/s, now=None]\u001b[A\n",
      "chunk:  91%|██████████████████████████████████████████████████████████████████████████████████████████         | 191/210 [00:52<00:05,  3.61it/s, now=None]\u001b[A"
     ]
    },
    {
     "name": "stdout",
     "output_type": "stream",
     "text": [
      "Moviepy - Done !\n",
      "Moviepy - video ready test.mp4\n"
     ]
    }
   ],
   "source": [
    "file_path = os.path.join(os.getcwd(), \"like_and_subscribe_original.mp4\") \n",
    "video_clip = VideoFileClip(file_path).subclip(72.45, 81)\n",
    "fps = video_clip.fps\n",
    "duration = video_clip.duration\n",
    "w, h = video_clip.size\n",
    "size = video_clip.size\n",
    "\n",
    "masked_clip = moviepy.video.fx.all.mask_color(video_clip, color=[16,204,68], thr=20, s=3)\n",
    "masked_clip = masked_clip.set_position((0,85))\n",
    "\n",
    "background_clip = ColorClip(size =(w, h), color =[0, 255, 0])\n",
    "background_clip = background_clip.set_duration(duration).set_fps(fps)\n",
    "\n",
    "final_clip = editor.CompositeVideoClip([background_clip, masked_clip]).set_duration(duration)\n",
    "# final_clip.audio = final_audio\n",
    "final_clip.write_videofile('test.mp4')"
   ]
  },
  {
   "cell_type": "code",
   "execution_count": null,
   "id": "d0babde5-6068-4437-a1ce-836fb44e04a7",
   "metadata": {},
   "outputs": [],
   "source": []
  },
  {
   "cell_type": "markdown",
   "id": "20656f7a-ffd5-4d2d-905a-bd5d93264d2c",
   "metadata": {},
   "source": [
    "# Transition Please stand by"
   ]
  },
  {
   "cell_type": "code",
   "execution_count": null,
   "id": "f46eca46-bc25-40e9-8e51-f8e521cc425d",
   "metadata": {},
   "outputs": [],
   "source": []
  },
  {
   "cell_type": "code",
   "execution_count": 277,
   "id": "69f81d39-c283-4064-9539-0324dbac9435",
   "metadata": {},
   "outputs": [],
   "source": [
    "file_path = os.path.join(os.getcwd(), \"please_stand_by.png\") \n",
    "clip = ImageClip(file_path)\n",
    "clip = clip.set_duration(10)\n",
    "clip = clip.set_fps(100)"
   ]
  },
  {
   "cell_type": "code",
   "execution_count": 278,
   "id": "e1dcff44-22c6-4f66-81d8-c9f673534696",
   "metadata": {},
   "outputs": [
    {
     "name": "stderr",
     "output_type": "stream",
     "text": [
      "\n",
      "\u001b[A                                                                                                                                                        \n",
      "chunk: 100%|█████████████████████████████████████████████████████████████████████████████████████████████████████| 29/29 [05:46<00:00, 11.96s/it, now=None]\u001b[A\n",
      "\u001b[A                                                                                                                                                        \n",
      "chunk: 100%|█████████████████████████████████████████████████████████████████████████████████████████████████████| 29/29 [05:46<00:00, 11.96s/it, now=None]\u001b[A"
     ]
    },
    {
     "name": "stdout",
     "output_type": "stream",
     "text": [
      "Moviepy - Building video temp.mp4.\n",
      "Moviepy - Writing video temp.mp4\n",
      "\n"
     ]
    },
    {
     "name": "stderr",
     "output_type": "stream",
     "text": [
      "                                                                                                                                                           \n",
      "\u001b[A                                                                                                                                                        \n",
      "chunk: 100%|█████████████████████████████████████████████████████████████████████████████████████████████████████| 29/29 [06:03<00:00, 12.54s/it, now=None]\u001b[A\n",
      "\u001b[A                                                                                                                                                        \n",
      "chunk: 100%|█████████████████████████████████████████████████████████████████████████████████████████████████████| 29/29 [06:03<00:00, 12.54s/it, now=None]\u001b[A"
     ]
    },
    {
     "name": "stdout",
     "output_type": "stream",
     "text": [
      "Moviepy - Done !\n",
      "Moviepy - video ready temp.mp4\n"
     ]
    }
   ],
   "source": [
    "clip.write_videofile(\"temp.mp4\")"
   ]
  },
  {
   "cell_type": "code",
   "execution_count": 286,
   "id": "13fc1b4c-35b5-4c95-94d8-fa5f6af49d8c",
   "metadata": {},
   "outputs": [],
   "source": [
    "\n",
    "# Extracting audio from beep.mp4 to use with the above ImageCLip\n",
    "file_path = os.path.join(os.getcwd(), \"beep.mp4\")\n",
    "video_clip = VideoFileClip(file_path)\n",
    "duration = video_clip.duration\n",
    "w, h = video_clip.size\n",
    "size = video_clip.size\n",
    "\n",
    "audio = video_clip.audio\n",
    "audio = audio.volumex(0.5)\n",
    "# audio.write_audiofile('temp.mp3')"
   ]
  },
  {
   "cell_type": "code",
   "execution_count": null,
   "id": "4f644338-2306-4edd-9f29-61e5072aeaed",
   "metadata": {},
   "outputs": [],
   "source": []
  },
  {
   "cell_type": "code",
   "execution_count": 280,
   "id": "3ab669f2-eb67-420e-be70-ba3b5188c467",
   "metadata": {},
   "outputs": [
    {
     "name": "stderr",
     "output_type": "stream",
     "text": [
      "\n",
      "\u001b[A                                                                                                                                                        \n",
      "chunk: 100%|█████████████████████████████████████████████████████████████████████████████████████████████████████| 29/29 [06:24<00:00, 13.27s/it, now=None]\u001b[A\n",
      "\u001b[A                                                                                                                                                        \n",
      "chunk: 100%|█████████████████████████████████████████████████████████████████████████████████████████████████████| 29/29 [06:24<00:00, 13.27s/it, now=None]\u001b[A"
     ]
    },
    {
     "name": "stdout",
     "output_type": "stream",
     "text": [
      "Moviepy - Building video test.mp4.\n",
      "MoviePy - Writing audio in testTEMP_MPY_wvf_snd.mp3\n"
     ]
    },
    {
     "name": "stderr",
     "output_type": "stream",
     "text": [
      "                                                                                                                                                           \n",
      "\u001b[A                                                                                                                                                        \n",
      "chunk: 100%|█████████████████████████████████████████████████████████████████████████████████████████████████████| 29/29 [06:24<00:00, 13.27s/it, now=None]\u001b[A\n",
      "\u001b[A                                                                                                                                                        \n",
      "chunk: 100%|█████████████████████████████████████████████████████████████████████████████████████████████████████| 29/29 [06:24<00:00, 13.27s/it, now=None]\u001b[A"
     ]
    },
    {
     "name": "stdout",
     "output_type": "stream",
     "text": [
      "MoviePy - Done.\n",
      "Moviepy - Writing video test.mp4\n",
      "\n"
     ]
    },
    {
     "name": "stderr",
     "output_type": "stream",
     "text": [
      "                                                                                                                                                           \n",
      "\u001b[A                                                                                                                                                        \n",
      "chunk: 100%|█████████████████████████████████████████████████████████████████████████████████████████████████████| 29/29 [06:27<00:00, 13.35s/it, now=None]\u001b[A\n",
      "\u001b[A                                                                                                                                                        \n",
      "chunk: 100%|█████████████████████████████████████████████████████████████████████████████████████████████████████| 29/29 [06:27<00:00, 13.35s/it, now=None]\u001b[A"
     ]
    },
    {
     "name": "stdout",
     "output_type": "stream",
     "text": [
      "Moviepy - Done !\n",
      "Moviepy - video ready test.mp4\n"
     ]
    }
   ],
   "source": [
    "file_path = os.path.join(os.getcwd(), \"temp.mp4\") \n",
    "please_stand_by = VideoFileClip(\"temp.mp4\").subclip(3,4)\n",
    "please_stand_by.audio = audio\n",
    "please_stand_by.write_videofile(\"test.mp4\")"
   ]
  },
  {
   "cell_type": "code",
   "execution_count": null,
   "id": "d7a81883-d14a-4b37-a41a-13ae8ecbfb8c",
   "metadata": {},
   "outputs": [],
   "source": []
  },
  {
   "cell_type": "code",
   "execution_count": null,
   "id": "9601dcf6-9ce0-4fbb-8c02-c8a9652e2253",
   "metadata": {},
   "outputs": [],
   "source": []
  },
  {
   "cell_type": "code",
   "execution_count": null,
   "id": "99363703-cc6d-4773-8b66-74eb9fc0a6de",
   "metadata": {},
   "outputs": [],
   "source": []
  },
  {
   "cell_type": "code",
   "execution_count": 259,
   "id": "d17bc45b-d7df-4c62-a603-805fb12814ef",
   "metadata": {},
   "outputs": [],
   "source": [
    "\n",
    "\n",
    "# masked_clip = moviepy.video.fx.all.mask_color(video_clip, color=[16,204,68], thr=20, s=3)\n",
    "# masked_clip = masked_clip.set_position((0,85))\n",
    "\n",
    "# background_clip = ColorClip(size =(w, h), color =[0, 255, 0])\n",
    "# background_clip = background_clip.set_duration(duration).set_fps(fps)\n",
    "\n",
    "# final_clip = editor.CompositeVideoClip([background_clip, masked_clip]).set_duration(duration)\n",
    "# # final_clip.audio = final_audio\n",
    "# final_clip.write_videofile('test.mp4')"
   ]
  },
  {
   "cell_type": "code",
   "execution_count": null,
   "id": "e25a7ec3-52e0-400c-9153-b31916b81afa",
   "metadata": {},
   "outputs": [],
   "source": []
  },
  {
   "cell_type": "markdown",
   "id": "0b329a1a-561a-4f13-9f62-e2014bf731e5",
   "metadata": {},
   "source": [
    "# please standby youtube"
   ]
  },
  {
   "cell_type": "code",
   "execution_count": 288,
   "id": "58bbea62-f755-4db6-8c09-6f24aedc0f45",
   "metadata": {},
   "outputs": [],
   "source": [
    "file_path = os.path.join(os.getcwd(), \"please_stand_by_youtube.mp4\") "
   ]
  },
  {
   "cell_type": "code",
   "execution_count": 289,
   "id": "2ac01986-9a18-4e38-a398-7cce5e3d4a94",
   "metadata": {
    "tags": []
   },
   "outputs": [
    {
     "name": "stderr",
     "output_type": "stream",
     "text": [
      "\n",
      "\u001b[A                                                                                                                                                        \n",
      "chunk: 100%|█████████████████████████████████████████████████████████████████████████████████████████████████████| 29/29 [16:06<00:00, 33.34s/it, now=None]\u001b[A\n",
      "\u001b[A                                                                                                                                                        \n",
      "chunk: 100%|█████████████████████████████████████████████████████████████████████████████████████████████████████| 29/29 [16:06<00:00, 33.34s/it, now=None]\u001b[A"
     ]
    },
    {
     "name": "stdout",
     "output_type": "stream",
     "text": [
      "Moviepy - Building video temp.mp4.\n",
      "MoviePy - Writing audio in tempTEMP_MPY_wvf_snd.mp3\n"
     ]
    },
    {
     "name": "stderr",
     "output_type": "stream",
     "text": [
      "                                                                                                                                                           \n",
      "\u001b[A                                                                                                                                                        \n",
      "chunk: 100%|█████████████████████████████████████████████████████████████████████████████████████████████████████| 29/29 [16:06<00:00, 33.34s/it, now=None]\u001b[A\n",
      "\u001b[A                                                                                                                                                        \n",
      "chunk: 100%|█████████████████████████████████████████████████████████████████████████████████████████████████████| 29/29 [16:06<00:00, 33.34s/it, now=None]\u001b[A"
     ]
    },
    {
     "name": "stdout",
     "output_type": "stream",
     "text": [
      "MoviePy - Done.\n",
      "Moviepy - Writing video temp.mp4\n",
      "\n"
     ]
    },
    {
     "name": "stderr",
     "output_type": "stream",
     "text": [
      "                                                                                                                                                           \n",
      "\u001b[A                                                                                                                                                        \n",
      "chunk: 100%|█████████████████████████████████████████████████████████████████████████████████████████████████████| 29/29 [16:07<00:00, 33.36s/it, now=None]\u001b[A\n",
      "\u001b[A                                                                                                                                                        \n",
      "chunk: 100%|█████████████████████████████████████████████████████████████████████████████████████████████████████| 29/29 [16:07<00:00, 33.36s/it, now=None]\u001b[A"
     ]
    },
    {
     "name": "stdout",
     "output_type": "stream",
     "text": [
      "Moviepy - Done !\n",
      "Moviepy - video ready temp.mp4\n"
     ]
    }
   ],
   "source": [
    "video_clip = VideoFileClip(file_path).subclip(0,1)\n",
    "video_clip.audio = audio\n",
    "video_clip.write_videofile(\"temp.mp4\")"
   ]
  },
  {
   "cell_type": "code",
   "execution_count": null,
   "id": "101be051-c412-46dd-b05a-a5f8ca4d5b06",
   "metadata": {},
   "outputs": [],
   "source": []
  },
  {
   "cell_type": "code",
   "execution_count": null,
   "id": "2de9feff-9e58-4fd1-ab27-dd470c2936bc",
   "metadata": {},
   "outputs": [],
   "source": []
  },
  {
   "cell_type": "markdown",
   "id": "cfa6d19d-bdd9-4ac0-8fc5-6e924c3009e1",
   "metadata": {},
   "source": [
    "# Noice"
   ]
  },
  {
   "cell_type": "code",
   "execution_count": 8,
   "id": "5216405e-46bc-4912-bba5-faedf7e9b16a",
   "metadata": {},
   "outputs": [],
   "source": [
    "file_path = os.path.join(os.getcwd(), \"noice_original.mp4\") \n",
    "video_clip = VideoFileClip(file_path).subclip(22,24)\n",
    "video_clip.write_videofile(\"temp.mp4\")"
   ]
  },
  {
   "cell_type": "code",
   "execution_count": null,
   "id": "008d0058-9e7d-4f48-8d59-b7cb0851b0b2",
   "metadata": {},
   "outputs": [],
   "source": []
  },
  {
   "cell_type": "markdown",
   "id": "3b070b95-e653-4fac-8dff-376e22b15c80",
   "metadata": {},
   "source": [
    "# hehe boi"
   ]
  },
  {
   "cell_type": "markdown",
   "id": "a523b91a-282d-4488-af6a-ac4962893813",
   "metadata": {},
   "source": [
    "## good old rub"
   ]
  },
  {
   "cell_type": "code",
   "execution_count": 13,
   "id": "d3b822ee-c7ca-4c9a-9b70-37aa71a0f3c6",
   "metadata": {},
   "outputs": [
    {
     "name": "stderr",
     "output_type": "stream",
     "text": [
      "chunk: 100%|███████████████████████████████████████████████████████████████████████████████████████████████████████| 1/1 [00:09<00:00,  9.89s/it, now=None]"
     ]
    },
    {
     "name": "stdout",
     "output_type": "stream",
     "text": [
      "Moviepy - Building video good_old_rub.mp4.\n",
      "MoviePy - Writing audio in good_old_rubTEMP_MPY_wvf_snd.mp3\n"
     ]
    },
    {
     "name": "stderr",
     "output_type": "stream",
     "text": [
      "\n",
      "chunk:   0%|                                                                                                              | 0/45 [00:00<?, ?it/s, now=None]\u001b[A\n",
      "chunk: 100%|███████████████████████████████████████████████████████████████████████████████████████████████████████| 1/1 [00:09<00:00,  9.94s/it, now=None]\u001b[A"
     ]
    },
    {
     "name": "stdout",
     "output_type": "stream",
     "text": [
      "MoviePy - Done.\n",
      "Moviepy - Writing video good_old_rub.mp4\n",
      "\n"
     ]
    },
    {
     "name": "stderr",
     "output_type": "stream",
     "text": [
      "\n",
      "t:   0%|                                                                                                                  | 0/50 [00:00<?, ?it/s, now=None]\u001b[A\n",
      "chunk: 100%|███████████████████████████████████████████████████████████████████████████████████████████████████████| 1/1 [00:10<00:00, 10.14s/it, now=None]\u001b[A"
     ]
    },
    {
     "name": "stdout",
     "output_type": "stream",
     "text": [
      "Moviepy - Done !\n",
      "Moviepy - video ready good_old_rub.mp4\n"
     ]
    }
   ],
   "source": [
    "file_path = os.path.join(os.getcwd(), \"hehe_boi_original.mp4\") \n",
    "video_clip = VideoFileClip(file_path).subclip(100.3,102)\n",
    "video_clip.write_videofile(\"good_old_rub.mp4\")"
   ]
  },
  {
   "cell_type": "markdown",
   "id": "0ddfb7ff-9b57-4adb-8335-1b2c32ec80bc",
   "metadata": {},
   "source": [
    "## hehe boi"
   ]
  },
  {
   "cell_type": "code",
   "execution_count": 19,
   "id": "653dd7c8-1a22-40b3-aae7-698b7e38b20e",
   "metadata": {},
   "outputs": [
    {
     "name": "stderr",
     "output_type": "stream",
     "text": [
      "chunk: 100%|███████████████████████████████████████████████████████████████████████████████████████████████████████| 1/1 [01:33<00:00, 93.49s/it, now=None]"
     ]
    },
    {
     "name": "stdout",
     "output_type": "stream",
     "text": [
      "Moviepy - Building video hehe_boi.mp4.\n",
      "MoviePy - Writing audio in hehe_boiTEMP_MPY_wvf_snd.mp3\n"
     ]
    },
    {
     "name": "stderr",
     "output_type": "stream",
     "text": [
      "\n",
      "chunk:   0%|                                                                                                              | 0/38 [00:00<?, ?it/s, now=None]\u001b[A\n",
      "chunk: 100%|███████████████████████████████████████████████████████████████████████████████████████████████████████| 1/1 [01:33<00:00, 93.54s/it, now=None]\u001b[A"
     ]
    },
    {
     "name": "stdout",
     "output_type": "stream",
     "text": [
      "MoviePy - Done.\n",
      "Moviepy - Writing video hehe_boi.mp4\n",
      "\n"
     ]
    },
    {
     "name": "stderr",
     "output_type": "stream",
     "text": [
      "\n",
      "t:   0%|                                                                                                                  | 0/43 [00:00<?, ?it/s, now=None]\u001b[A\n",
      "chunk: 100%|███████████████████████████████████████████████████████████████████████████████████████████████████████| 1/1 [01:33<00:00, 93.75s/it, now=None]\u001b[A"
     ]
    },
    {
     "name": "stdout",
     "output_type": "stream",
     "text": [
      "Moviepy - Done !\n",
      "Moviepy - video ready hehe_boi.mp4\n"
     ]
    }
   ],
   "source": [
    "file_path = os.path.join(os.getcwd(), \"hehe_boi_original.mp4\") \n",
    "video_clip = VideoFileClip(file_path).subclip(107.3,109)\n",
    "video_clip.write_videofile(\"hehe_boi.mp4\")"
   ]
  },
  {
   "cell_type": "code",
   "execution_count": null,
   "id": "44666c31-1332-4a92-b526-fdea39884429",
   "metadata": {},
   "outputs": [],
   "source": []
  },
  {
   "cell_type": "markdown",
   "id": "e9acbeca-fe74-44d6-b794-b97d00d753bf",
   "metadata": {},
   "source": [
    "# ainsley original"
   ]
  },
  {
   "cell_type": "code",
   "execution_count": 30,
   "id": "8b48abc5-63cb-47e7-8721-6bfa20fe1720",
   "metadata": {},
   "outputs": [
    {
     "name": "stderr",
     "output_type": "stream",
     "text": [
      "chunk: 100%|██████████████████████████████████████████████████████████████████████████████████████████████████████| 1/1 [12:28<00:00, 748.62s/it, now=None]"
     ]
    },
    {
     "name": "stdout",
     "output_type": "stream",
     "text": [
      "Moviepy - Building video slap.mp4.\n",
      "MoviePy - Writing audio in slapTEMP_MPY_wvf_snd.mp3\n"
     ]
    },
    {
     "name": "stderr",
     "output_type": "stream",
     "text": [
      "\n",
      "chunk:   0%|                                                                                                              | 0/45 [00:00<?, ?it/s, now=None]\u001b[A\n",
      "chunk: 100%|██████████████████████████████████████████████████████████████████████████████████████████████████████| 1/1 [12:28<00:00, 748.68s/it, now=None]\u001b[A"
     ]
    },
    {
     "name": "stdout",
     "output_type": "stream",
     "text": [
      "MoviePy - Done.\n",
      "Moviepy - Writing video slap.mp4\n",
      "\n"
     ]
    },
    {
     "name": "stderr",
     "output_type": "stream",
     "text": [
      "\n",
      "t:   0%|                                                                                                                  | 0/50 [00:00<?, ?it/s, now=None]\u001b[A\n",
      "t:  58%|████████████████████████████████████████████████████████████▎                                           | 29/50 [00:00<00:00, 278.42it/s, now=None]\u001b[A\n",
      "chunk: 100%|██████████████████████████████████████████████████████████████████████████████████████████████████████| 1/1 [12:29<00:00, 749.45s/it, now=None]\u001b[A"
     ]
    },
    {
     "name": "stdout",
     "output_type": "stream",
     "text": [
      "Moviepy - Done !\n",
      "Moviepy - video ready slap.mp4\n"
     ]
    }
   ],
   "source": [
    "file_path = os.path.join(os.getcwd(), \"ainsley_original.mp4\") \n",
    "video_clip = VideoFileClip(file_path).subclip(112.5,114.5)\n",
    "video_clip.write_videofile(\"slap.mp4\")"
   ]
  },
  {
   "cell_type": "code",
   "execution_count": null,
   "id": "156aa957-955c-4f5b-912d-2d745defa6e2",
   "metadata": {},
   "outputs": [],
   "source": []
  },
  {
   "cell_type": "markdown",
   "id": "c42d7b0f-8d98-4262-9ac2-b35d941a2ba8",
   "metadata": {},
   "source": [
    "# Adding credits"
   ]
  },
  {
   "cell_type": "code",
   "execution_count": 31,
   "id": "8cc129bf-2be1-4233-89eb-10836e3d06ea",
   "metadata": {
    "collapsed": true,
    "jupyter": {
     "outputs_hidden": true
    },
    "tags": []
   },
   "outputs": [
    {
     "name": "stderr",
     "output_type": "stream",
     "text": [
      "chunk: 100%|██████████████████████████████████████████████████████████████████████████████████████████████████████| 1/1 [15:48<00:00, 948.09s/it, now=None]"
     ]
    },
    {
     "name": "stdout",
     "output_type": "stream",
     "text": [
      "Moviepy - Building video slap_credited.mp4.\n",
      "MoviePy - Writing audio in slap_creditedTEMP_MPY_wvf_snd.mp3\n"
     ]
    },
    {
     "name": "stderr",
     "output_type": "stream",
     "text": [
      "\n",
      "chunk:   0%|                                                                                                              | 0/45 [00:00<?, ?it/s, now=None]\u001b[A\n",
      "chunk: 100%|██████████████████████████████████████████████████████████████████████████████████████████████████████| 1/1 [15:48<00:00, 948.13s/it, now=None]\u001b[A"
     ]
    },
    {
     "name": "stdout",
     "output_type": "stream",
     "text": [
      "MoviePy - Done.\n",
      "Moviepy - Writing video slap_credited.mp4\n",
      "\n"
     ]
    },
    {
     "name": "stderr",
     "output_type": "stream",
     "text": [
      "\n",
      "t:   0%|                                                                                                                  | 0/51 [00:00<?, ?it/s, now=None]\u001b[A\n",
      "t:  18%|██████████████████▋                                                                                       | 9/51 [00:00<00:00, 83.52it/s, now=None]\u001b[A\n",
      "t:  35%|█████████████████████████████████████                                                                    | 18/51 [00:00<00:00, 85.73it/s, now=None]\u001b[A\n",
      "t:  53%|███████████████████████████████████████████████████████▌                                                 | 27/51 [00:00<00:00, 87.45it/s, now=None]\u001b[A\n",
      "t:  73%|████████████████████████████████████████████████████████████████████████████▏                            | 37/51 [00:00<00:00, 89.16it/s, now=None]\u001b[A\n",
      "t:  90%|██████████████████████████████████████████████████████████████████████████████████████████████▋          | 46/51 [00:00<00:00, 87.41it/s, now=None]\u001b[A\n",
      "chunk: 100%|██████████████████████████████████████████████████████████████████████████████████████████████████████| 1/1 [15:49<00:00, 949.18s/it, now=None]\u001b[A"
     ]
    },
    {
     "name": "stdout",
     "output_type": "stream",
     "text": [
      "Moviepy - Done !\n",
      "Moviepy - video ready slap_credited.mp4\n"
     ]
    }
   ],
   "source": [
    "file_path = os.path.join(os.getcwd(), \"slap.mp4\") \n",
    "\n",
    "video_clip = VideoFileClip(file_path)\n",
    "fps = video_clip.fps\n",
    "duration = video_clip.reader.duration\n",
    "w, h = video_clip.size\n",
    "\n",
    "credits_text = TextClip('Credits: @BBC Good Food', fontsize=24, color='white', size = [w, 30], align='West')\n",
    "credits_text = credits_text.set_duration(duration).set_fps(fps)\n",
    "credits_text = credits_text.set_pos((\"top\"))\n",
    "\n",
    "final_clip = CompositeVideoClip([video_clip, credits_text], size = [w, h])\n",
    "\n",
    "final_clip.write_videofile(\"slap_credited.mp4\")"
   ]
  },
  {
   "cell_type": "code",
   "execution_count": 33,
   "id": "4ec4beb9-0c68-44cc-9007-c7c53e07034f",
   "metadata": {
    "collapsed": true,
    "jupyter": {
     "outputs_hidden": true
    },
    "tags": []
   },
   "outputs": [
    {
     "name": "stderr",
     "output_type": "stream",
     "text": [
      "chunk: 100%|█████████████████████████████████████████████████████████████████████████████████████████████████████| 1/1 [16:46<00:00, 1006.31s/it, now=None]"
     ]
    },
    {
     "name": "stdout",
     "output_type": "stream",
     "text": [
      "Moviepy - Building video hehe_boi_credited.mp4.\n",
      "MoviePy - Writing audio in hehe_boi_creditedTEMP_MPY_wvf_snd.mp3\n"
     ]
    },
    {
     "name": "stderr",
     "output_type": "stream",
     "text": [
      "\n",
      "chunk:   0%|                                                                                                              | 0/39 [00:00<?, ?it/s, now=None]\u001b[A\n",
      "chunk: 100%|█████████████████████████████████████████████████████████████████████████████████████████████████████| 1/1 [16:46<00:00, 1006.35s/it, now=None]\u001b[A"
     ]
    },
    {
     "name": "stdout",
     "output_type": "stream",
     "text": [
      "MoviePy - Done.\n",
      "Moviepy - Writing video hehe_boi_credited.mp4\n",
      "\n"
     ]
    },
    {
     "name": "stderr",
     "output_type": "stream",
     "text": [
      "\n",
      "t:   0%|                                                                                                                  | 0/44 [00:00<?, ?it/s, now=None]\u001b[A\n",
      "t:  86%|█████████████████████████████████████████████████████████████████████████████████████████▊              | 38/44 [00:00<00:00, 375.57it/s, now=None]\u001b[A\n",
      "chunk: 100%|█████████████████████████████████████████████████████████████████████████████████████████████████████| 1/1 [16:46<00:00, 1006.60s/it, now=None]\u001b[A"
     ]
    },
    {
     "name": "stdout",
     "output_type": "stream",
     "text": [
      "Moviepy - Done !\n",
      "Moviepy - video ready hehe_boi_credited.mp4\n"
     ]
    }
   ],
   "source": [
    "file_path = os.path.join(os.getcwd(), \"hehe_boi.mp4\") \n",
    "\n",
    "video_clip = VideoFileClip(file_path)\n",
    "fps = video_clip.fps\n",
    "duration = video_clip.reader.duration\n",
    "w, h = video_clip.size\n",
    "\n",
    "credits_text = TextClip('Credits: @BBC Good Food', fontsize=24, color='white', size = [w, 30], align='West')\n",
    "credits_text = credits_text.set_duration(duration).set_fps(fps)\n",
    "credits_text = credits_text.set_pos((\"top\"))\n",
    "\n",
    "final_clip = CompositeVideoClip([video_clip, credits_text], size = [w, h])\n",
    "\n",
    "final_clip.write_videofile(\"hehe_boi_credited.mp4\")"
   ]
  },
  {
   "cell_type": "code",
   "execution_count": 35,
   "id": "63b50ce6-7ac1-409c-98f5-53169cc04e0f",
   "metadata": {},
   "outputs": [
    {
     "name": "stderr",
     "output_type": "stream",
     "text": [
      "chunk: 100%|█████████████████████████████████████████████████████████████████████████████████████████████████████| 1/1 [18:20<00:00, 1100.12s/it, now=None]"
     ]
    },
    {
     "name": "stdout",
     "output_type": "stream",
     "text": [
      "Moviepy - Building video good_old_rub_credited.mp4.\n",
      "MoviePy - Writing audio in good_old_rub_creditedTEMP_MPY_wvf_snd.mp3\n"
     ]
    },
    {
     "name": "stderr",
     "output_type": "stream",
     "text": [
      "\n",
      "chunk:   0%|                                                                                                              | 0/39 [00:00<?, ?it/s, now=None]\u001b[A\n",
      "chunk: 100%|█████████████████████████████████████████████████████████████████████████████████████████████████████| 1/1 [18:20<00:00, 1100.16s/it, now=None]\u001b[A"
     ]
    },
    {
     "name": "stdout",
     "output_type": "stream",
     "text": [
      "MoviePy - Done.\n",
      "Moviepy - Writing video good_old_rub_credited.mp4\n",
      "\n"
     ]
    },
    {
     "name": "stderr",
     "output_type": "stream",
     "text": [
      "\n",
      "t:   0%|                                                                                                                  | 0/44 [00:00<?, ?it/s, now=None]\u001b[A\n",
      "t:  89%|████████████████████████████████████████████████████████████████████████████████████████████▏           | 39/44 [00:00<00:00, 383.60it/s, now=None]\u001b[A\n",
      "chunk: 100%|█████████████████████████████████████████████████████████████████████████████████████████████████████| 1/1 [18:20<00:00, 1100.44s/it, now=None]\u001b[A"
     ]
    },
    {
     "name": "stdout",
     "output_type": "stream",
     "text": [
      "Moviepy - Done !\n",
      "Moviepy - video ready good_old_rub_credited.mp4\n"
     ]
    }
   ],
   "source": [
    "file_path = os.path.join(os.getcwd(), \"good_old_rub.mp4\") \n",
    "\n",
    "video_clip = VideoFileClip(file_path)\n",
    "fps = video_clip.fps\n",
    "duration = video_clip.reader.duration\n",
    "w, h = video_clip.size\n",
    "\n",
    "credits_text = TextClip('Credits: @BBC Good Food', fontsize=24, color='white', size = [w, 30], align='West')\n",
    "credits_text = credits_text.set_duration(duration).set_fps(fps)\n",
    "credits_text = credits_text.set_pos((\"top\"))\n",
    "\n",
    "final_clip = CompositeVideoClip([video_clip, credits_text], size = [w, h])\n",
    "\n",
    "final_clip.write_videofile(\"good_old_rub_credited.mp4\")"
   ]
  },
  {
   "cell_type": "code",
   "execution_count": null,
   "id": "3d0648ec-9b8c-47c6-b9d6-755462214d83",
   "metadata": {},
   "outputs": [],
   "source": []
  },
  {
   "cell_type": "code",
   "execution_count": null,
   "id": "0421d60e-e0a2-47bc-8bfa-b5d81ff3564b",
   "metadata": {},
   "outputs": [],
   "source": []
  },
  {
   "cell_type": "markdown",
   "id": "47dcb931-16ef-4de3-8ad1-4eae1d6aa91e",
   "metadata": {},
   "source": [
    "# Tripaloski outtro"
   ]
  },
  {
   "cell_type": "code",
   "execution_count": 39,
   "id": "e30d85f8-2066-4655-8493-ab014628d734",
   "metadata": {
    "collapsed": true,
    "jupyter": {
     "outputs_hidden": true
    },
    "tags": []
   },
   "outputs": [
    {
     "name": "stderr",
     "output_type": "stream",
     "text": [
      "chunk: 100%|█████████████████████████████████████████████████████████████████████████████████████████████████████| 1/1 [57:47<00:00, 3467.70s/it, now=None]"
     ]
    },
    {
     "name": "stdout",
     "output_type": "stream",
     "text": [
      "Moviepy - Building video tripaloski.mp4.\n",
      "MoviePy - Writing audio in tripaloskiTEMP_MPY_wvf_snd.mp3\n"
     ]
    },
    {
     "name": "stderr",
     "output_type": "stream",
     "text": [
      "\n",
      "chunk:   0%|                                                                                                             | 0/971 [00:00<?, ?it/s, now=None]\u001b[A\n",
      "chunk:  11%|███████████                                                                                      | 111/971 [00:00<00:00, 1095.80it/s, now=None]\u001b[A\n",
      "chunk:  23%|██████████████████████▊                                                                          | 228/971 [00:00<00:00, 1138.23it/s, now=None]\u001b[A\n",
      "chunk:  36%|██████████████████████████████████▊                                                              | 348/971 [00:00<00:00, 1162.50it/s, now=None]\u001b[A\n",
      "chunk:  48%|██████████████████████████████████████████████▍                                                  | 465/971 [00:00<00:00, 1140.60it/s, now=None]\u001b[A\n",
      "chunk:  60%|██████████████████████████████████████████████████████████▏                                      | 583/971 [00:00<00:00, 1149.33it/s, now=None]\u001b[A\n",
      "chunk:  72%|█████████████████████████████████████████████████████████████████████▉                           | 700/971 [00:00<00:00, 1154.88it/s, now=None]\u001b[A\n",
      "chunk:  84%|█████████████████████████████████████████████████████████████████████████████████▌               | 817/971 [00:00<00:00, 1153.12it/s, now=None]\u001b[A\n",
      "chunk:  98%|██████████████████████████████████████████████████████████████████████████████████████████████▋  | 948/971 [00:00<00:00, 1199.39it/s, now=None]\u001b[A\n",
      "chunk: 100%|█████████████████████████████████████████████████████████████████████████████████████████████████████| 1/1 [57:48<00:00, 3468.55s/it, now=None]\u001b[A"
     ]
    },
    {
     "name": "stdout",
     "output_type": "stream",
     "text": [
      "MoviePy - Done.\n",
      "Moviepy - Writing video tripaloski.mp4\n",
      "\n"
     ]
    },
    {
     "name": "stderr",
     "output_type": "stream",
     "text": [
      "\n",
      "t:   0%|                                                                                                                | 0/1495 [00:00<?, ?it/s, now=None]\u001b[A\n",
      "t:   2%|█▋                                                                                                    | 24/1495 [00:00<00:06, 230.86it/s, now=None]\u001b[A\n",
      "t:   3%|███▎                                                                                                  | 48/1495 [00:00<00:07, 196.67it/s, now=None]\u001b[A\n",
      "t:   5%|████▋                                                                                                 | 68/1495 [00:00<00:08, 167.86it/s, now=None]\u001b[A\n",
      "t:   6%|█████▉                                                                                                | 87/1495 [00:00<00:08, 174.10it/s, now=None]\u001b[A\n",
      "t:   7%|███████                                                                                              | 105/1495 [00:00<00:07, 175.58it/s, now=None]\u001b[A\n",
      "t:   8%|████████▍                                                                                            | 124/1495 [00:00<00:07, 178.59it/s, now=None]\u001b[A\n",
      "t:  10%|█████████▋                                                                                           | 144/1495 [00:00<00:07, 184.30it/s, now=None]\u001b[A\n",
      "t:  11%|███████████                                                                                          | 164/1495 [00:00<00:07, 187.62it/s, now=None]\u001b[A\n",
      "t:  12%|████████████▎                                                                                        | 183/1495 [00:01<00:07, 182.94it/s, now=None]\u001b[A\n",
      "t:  14%|█████████████▋                                                                                       | 202/1495 [00:01<00:07, 180.15it/s, now=None]\u001b[A\n",
      "t:  15%|██████████████▉                                                                                      | 221/1495 [00:01<00:07, 177.87it/s, now=None]\u001b[A\n",
      "t:  16%|████████████████▏                                                                                    | 240/1495 [00:01<00:06, 180.47it/s, now=None]\u001b[A\n",
      "t:  17%|█████████████████▌                                                                                   | 260/1495 [00:01<00:06, 185.45it/s, now=None]\u001b[A\n",
      "t:  19%|██████████████████▊                                                                                  | 279/1495 [00:01<00:06, 183.38it/s, now=None]\u001b[A\n",
      "t:  20%|████████████████████▏                                                                                | 298/1495 [00:01<00:06, 178.78it/s, now=None]\u001b[A\n",
      "t:  21%|█████████████████████▎                                                                               | 316/1495 [00:01<00:06, 177.54it/s, now=None]\u001b[A\n",
      "t:  22%|██████████████████████▌                                                                              | 334/1495 [00:01<00:06, 171.39it/s, now=None]\u001b[A\n",
      "t:  24%|███████████████████████▊                                                                             | 352/1495 [00:01<00:06, 169.74it/s, now=None]\u001b[A\n",
      "t:  25%|████████████████████████▉                                                                            | 370/1495 [00:02<00:06, 162.87it/s, now=None]\u001b[A\n",
      "t:  26%|██████████████████████████▏                                                                          | 387/1495 [00:02<00:07, 151.64it/s, now=None]\u001b[A\n",
      "t:  27%|███████████████████████████▏                                                                         | 403/1495 [00:02<00:07, 143.33it/s, now=None]\u001b[A\n",
      "t:  28%|████████████████████████████▏                                                                        | 418/1495 [00:02<00:07, 144.89it/s, now=None]\u001b[A\n",
      "t:  29%|█████████████████████████████▎                                                                       | 434/1495 [00:02<00:07, 147.53it/s, now=None]\u001b[A\n",
      "t:  30%|██████████████████████████████▎                                                                      | 449/1495 [00:02<00:07, 147.75it/s, now=None]\u001b[A\n",
      "t:  31%|███████████████████████████████▍                                                                     | 466/1495 [00:02<00:06, 152.87it/s, now=None]\u001b[A\n",
      "t:  32%|████████████████████████████████▋                                                                    | 484/1495 [00:02<00:06, 159.65it/s, now=None]\u001b[A\n",
      "t:  34%|█████████████████████████████████▉                                                                   | 503/1495 [00:02<00:05, 166.90it/s, now=None]\u001b[A\n",
      "t:  35%|███████████████████████████████████▏                                                                 | 521/1495 [00:03<00:05, 169.46it/s, now=None]\u001b[A\n",
      "t:  36%|████████████████████████████████████▎                                                                | 538/1495 [00:03<00:05, 166.84it/s, now=None]\u001b[A\n",
      "t:  37%|█████████████████████████████████████▌                                                               | 556/1495 [00:03<00:05, 170.25it/s, now=None]\u001b[A\n",
      "t:  38%|██████████████████████████████████████▊                                                              | 575/1495 [00:03<00:05, 175.90it/s, now=None]\u001b[A\n",
      "t:  40%|████████████████████████████████████████                                                             | 593/1495 [00:03<00:05, 176.70it/s, now=None]\u001b[A\n",
      "t:  41%|█████████████████████████████████████████▍                                                           | 613/1495 [00:03<00:04, 182.42it/s, now=None]\u001b[A\n",
      "t:  42%|██████████████████████████████████████████▋                                                          | 632/1495 [00:03<00:04, 181.00it/s, now=None]\u001b[A\n",
      "t:  44%|███████████████████████████████████████████▉                                                         | 651/1495 [00:03<00:04, 181.02it/s, now=None]\u001b[A\n",
      "t:  45%|█████████████████████████████████████████████▎                                                       | 670/1495 [00:03<00:04, 182.26it/s, now=None]\u001b[A\n",
      "t:  46%|██████████████████████████████████████████████▌                                                      | 689/1495 [00:03<00:04, 180.57it/s, now=None]\u001b[A\n",
      "t:  47%|███████████████████████████████████████████████▊                                                     | 708/1495 [00:04<00:04, 181.93it/s, now=None]\u001b[A\n",
      "t:  49%|█████████████████████████████████████████████████                                                    | 727/1495 [00:04<00:04, 181.90it/s, now=None]\u001b[A\n",
      "t:  50%|██████████████████████████████████████████████████▍                                                  | 746/1495 [00:04<00:04, 180.26it/s, now=None]\u001b[A\n",
      "t:  51%|███████████████████████████████████████████████████▋                                                 | 765/1495 [00:04<00:04, 178.00it/s, now=None]\u001b[A\n",
      "t:  52%|████████████████████████████████████████████████████▉                                                | 784/1495 [00:04<00:03, 180.03it/s, now=None]\u001b[A\n",
      "t:  54%|██████████████████████████████████████████████████████▏                                              | 803/1495 [00:04<00:03, 181.09it/s, now=None]\u001b[A\n",
      "t:  55%|███████████████████████████████████████████████████████▌                                             | 822/1495 [00:04<00:03, 180.73it/s, now=None]\u001b[A\n",
      "t:  56%|████████████████████████████████████████████████████████▊                                            | 841/1495 [00:04<00:03, 180.82it/s, now=None]\u001b[A\n",
      "t:  58%|██████████████████████████████████████████████████████████▏                                          | 861/1495 [00:04<00:03, 183.83it/s, now=None]\u001b[A\n",
      "t:  59%|███████████████████████████████████████████████████████████▍                                         | 880/1495 [00:05<00:03, 182.69it/s, now=None]\u001b[A\n",
      "t:  60%|████████████████████████████████████████████████████████████▋                                        | 899/1495 [00:05<00:03, 182.89it/s, now=None]\u001b[A\n",
      "t:  61%|██████████████████████████████████████████████████████████████                                       | 918/1495 [00:05<00:03, 179.27it/s, now=None]\u001b[A\n",
      "t:  63%|███████████████████████████████████████████████████████████████▏                                     | 936/1495 [00:05<00:03, 172.44it/s, now=None]\u001b[A\n",
      "t:  64%|████████████████████████████████████████████████████████████████▍                                    | 954/1495 [00:05<00:03, 174.31it/s, now=None]\u001b[A\n",
      "t:  65%|█████████████████████████████████████████████████████████████████▋                                   | 972/1495 [00:05<00:03, 169.82it/s, now=None]\u001b[A\n",
      "t:  66%|██████████████████████████████████████████████████████████████████▉                                  | 990/1495 [00:05<00:03, 168.26it/s, now=None]\u001b[A\n",
      "t:  67%|███████████████████████████████████████████████████████████████████▎                                | 1007/1495 [00:05<00:02, 162.83it/s, now=None]\u001b[A\n",
      "t:  68%|████████████████████████████████████████████████████████████████████▍                               | 1024/1495 [00:05<00:02, 163.35it/s, now=None]\u001b[A\n",
      "t:  70%|█████████████████████████████████████████████████████████████████████▋                              | 1041/1495 [00:06<00:02, 159.00it/s, now=None]\u001b[A\n",
      "t:  71%|██████████████████████████████████████████████████████████████████████▊                             | 1059/1495 [00:06<00:02, 162.91it/s, now=None]\u001b[A\n",
      "t:  72%|████████████████████████████████████████████████████████████████████████                            | 1077/1495 [00:06<00:02, 166.30it/s, now=None]\u001b[A\n",
      "t:  73%|█████████████████████████████████████████████████████████████████████████▎                          | 1096/1495 [00:06<00:02, 172.10it/s, now=None]\u001b[A\n",
      "t:  75%|███████████████████████████████████████████████████████████████████████████                         | 1122/1495 [00:06<00:01, 196.30it/s, now=None]\u001b[A\n",
      "t:  77%|████████████████████████████████████████████████████████████████████████████▊                       | 1148/1495 [00:06<00:01, 214.22it/s, now=None]\u001b[A\n",
      "t:  79%|██████████████████████████████████████████████████████████████████████████████▉                     | 1181/1495 [00:06<00:01, 246.92it/s, now=None]\u001b[A\n",
      "t:  81%|█████████████████████████████████████████████████████████████████████████████████▍                  | 1217/1495 [00:06<00:00, 278.46it/s, now=None]\u001b[A\n",
      "t:  84%|███████████████████████████████████████████████████████████████████████████████████▋                | 1252/1495 [00:06<00:00, 298.86it/s, now=None]\u001b[A\n",
      "t:  86%|██████████████████████████████████████████████████████████████████████████████████████▏             | 1289/1495 [00:06<00:00, 318.73it/s, now=None]\u001b[A\n",
      "t:  88%|████████████████████████████████████████████████████████████████████████████████████████▍           | 1323/1495 [00:07<00:00, 323.97it/s, now=None]\u001b[A\n",
      "t:  91%|██████████████████████████████████████████████████████████████████████████████████████████▉         | 1360/1495 [00:07<00:00, 335.90it/s, now=None]\u001b[A\n",
      "t:  93%|█████████████████████████████████████████████████████████████████████████████████████████████▍      | 1397/1495 [00:07<00:00, 345.86it/s, now=None]\u001b[A\n",
      "t:  96%|███████████████████████████████████████████████████████████████████████████████████████████████▉    | 1434/1495 [00:07<00:00, 352.12it/s, now=None]\u001b[A\n",
      "t:  98%|██████████████████████████████████████████████████████████████████████████████████████████████████▎ | 1470/1495 [00:07<00:00, 347.86it/s, now=None]\u001b[A\n",
      "chunk: 100%|█████████████████████████████████████████████████████████████████████████████████████████████████████| 1/1 [57:56<00:00, 3476.13s/it, now=None]\u001b[A"
     ]
    },
    {
     "name": "stdout",
     "output_type": "stream",
     "text": [
      "Moviepy - Done !\n",
      "Moviepy - video ready tripaloski.mp4\n"
     ]
    }
   ],
   "source": [
    "file_path = os.path.join(os.getcwd(), \"tripaloski_original.mp4\") \n",
    "\n",
    "video_clip = VideoFileClip(file_path).subclip(15, 59)\n",
    "fps = video_clip.fps\n",
    "duration = video_clip.reader.duration\n",
    "w, h = video_clip.size\n",
    "audio_clip = video_clip.audio\n",
    "\n",
    "audio_clip = audio_clip.audio_fadein(1)\n",
    "\n",
    "credits_text = TextClip('Credits: @Pocica, Song: @Davay', fontsize=24, color='white', size = [w, 30], align='West')\n",
    "credits_text = credits_text.set_duration(duration).set_fps(fps)\n",
    "credits_text = credits_text.set_pos((\"top\"))\n",
    "\n",
    "# watermark_text = TextClip('@VidsFromAroundTheInternet', fontsize=30, color='white', size = [w, 30], align='East')\n",
    "# watermark_text = watermark_text.set_duration(duration).set_fps(fps)\n",
    "# watermark_text = watermark_text.set_pos((\"bottom\"))\n",
    "\n",
    "final_clip = CompositeVideoClip([video_clip, credits_text], size = [w, h])\n",
    "\n",
    "final_clip.audio = audio_clip\n",
    "\n",
    "final_clip.write_videofile(\"tripaloski.mp4\")"
   ]
  },
  {
   "cell_type": "markdown",
   "id": "5abf6aaf-aaf5-4418-945c-0c4e3cd2383e",
   "metadata": {},
   "source": [
    "# Title for a video"
   ]
  },
  {
   "cell_type": "code",
   "execution_count": 67,
   "id": "028d2970-0d14-4f5a-ab6e-57cce99c85b3",
   "metadata": {},
   "outputs": [],
   "source": [
    "import logging, os\n",
    "import moviepy\n",
    "from moviepy.editor import *\n",
    "\n",
    "file_path = os.path.join(os.getcwd(), \"t3_p82nvt.mp4\")\n",
    "\n",
    "video_clip = VideoFileClip(file_path)\n",
    "title = \"Hello world\"\n",
    "fps = video_clip.fps\n",
    "duration = video_clip.duration\n",
    "w, h = video_clip.size\n",
    "size = video_clip.size"
   ]
  },
  {
   "cell_type": "code",
   "execution_count": 76,
   "id": "8545d96f-78b7-413f-8162-79ccb3717a07",
   "metadata": {},
   "outputs": [],
   "source": [
    "title_clip = TextClip(title, fontsize=18, color='white', size= [w,24], align='West', stroke_width=1.5)\n",
    "# words per sec\n",
    "wps = 3\n",
    "title_clip_duration = max(len(title)/wps, duration/2)\n",
    "title_clip = title_clip.set_pos((\"bottom\"))\n",
    "title_clip = title_clip.set_duration(title_clip_duration).set_fps(fps)"
   ]
  },
  {
   "cell_type": "code",
   "execution_count": 77,
   "id": "7eed596e-609d-4fef-bae3-7c5d7482114e",
   "metadata": {},
   "outputs": [
    {
     "name": "stdout",
     "output_type": "stream",
     "text": [
      "Moviepy - Building video temp.mp4.\n",
      "MoviePy - Writing audio in tempTEMP_MPY_wvf_snd.mp3\n"
     ]
    },
    {
     "name": "stderr",
     "output_type": "stream",
     "text": [
      "                                                                                                                                          \r"
     ]
    },
    {
     "name": "stdout",
     "output_type": "stream",
     "text": [
      "MoviePy - Done.\n",
      "Moviepy - Writing video temp.mp4\n",
      "\n"
     ]
    },
    {
     "name": "stderr",
     "output_type": "stream",
     "text": [
      "                                                                                                                                          \r"
     ]
    },
    {
     "name": "stdout",
     "output_type": "stream",
     "text": [
      "Moviepy - Done !\n",
      "Moviepy - video ready temp.mp4\n"
     ]
    }
   ],
   "source": [
    "final_clip = CompositeVideoClip([video_clip, title_clip, watermark_clip], size = [w, h])\n",
    "\n",
    "final_clip.write_videofile('temp.mp4')"
   ]
  },
  {
   "cell_type": "code",
   "execution_count": null,
   "id": "54c94637-1e08-4eed-af91-c08232a39a78",
   "metadata": {},
   "outputs": [],
   "source": []
  },
  {
   "cell_type": "code",
   "execution_count": null,
   "id": "39130304-97ef-4601-b8b3-77c032b59e5f",
   "metadata": {},
   "outputs": [],
   "source": []
  },
  {
   "cell_type": "code",
   "execution_count": null,
   "id": "1d05198d-2bb1-4056-aed8-db5a50f93ee4",
   "metadata": {},
   "outputs": [],
   "source": []
  },
  {
   "cell_type": "code",
   "execution_count": null,
   "id": "6600bf24-3c45-4ea8-bd8e-0531059da151",
   "metadata": {},
   "outputs": [],
   "source": []
  },
  {
   "cell_type": "code",
   "execution_count": null,
   "id": "9eeaa666-f125-42f5-ae0b-deee4da135e0",
   "metadata": {},
   "outputs": [],
   "source": []
  },
  {
   "cell_type": "code",
   "execution_count": 34,
   "id": "c9768dbc-2b43-4af7-a0ab-dd134df807f0",
   "metadata": {},
   "outputs": [],
   "source": []
  },
  {
   "cell_type": "code",
   "execution_count": 35,
   "id": "b7d6318a-64d7-499c-a939-f3fe01d99538",
   "metadata": {},
   "outputs": [],
   "source": []
  },
  {
   "cell_type": "code",
   "execution_count": 37,
   "id": "dcf2d34d-930a-4383-8cff-64680329b39b",
   "metadata": {},
   "outputs": [],
   "source": []
  },
  {
   "cell_type": "code",
   "execution_count": null,
   "id": "155d1cad-dbd3-437f-9b42-efcaf1436937",
   "metadata": {},
   "outputs": [],
   "source": []
  },
  {
   "cell_type": "code",
   "execution_count": 40,
   "id": "3a747252-b29a-4737-8449-8a64b3f62409",
   "metadata": {},
   "outputs": [
    {
     "ename": "SyntaxError",
     "evalue": "invalid syntax (2404826690.py, line 17)",
     "output_type": "error",
     "traceback": [
      "\u001b[0;36m  File \u001b[0;32m\"/tmp/ipykernel_80289/2404826690.py\"\u001b[0;36m, line \u001b[0;32m17\u001b[0m\n\u001b[0;31m    def __download_transition_clips(self, TRANSITION_CLIPS_BUCKET)\u001b[0m\n\u001b[0m                                                                  ^\u001b[0m\n\u001b[0;31mSyntaxError\u001b[0m\u001b[0;31m:\u001b[0m invalid syntax\n"
     ]
    }
   ],
   "source": [
    "from multiprocessing import Process, Pipe\n",
    "import pprint, random\n",
    "from time import time\n",
    "from helpers import s3 as s3_helpers\n",
    "import moviepy\n",
    "from moviepy.editor import *\n",
    "\n",
    "pp = pprint.PrettyPrinter(indent=2, compact=True, width=80)\n",
    "\n",
    "class VideoProcessing:\n",
    "    def __init__(self, download_path, posts, s3, logger):\n",
    "        self.download_path = download_path\n",
    "        self.posts = posts\n",
    "        self.s3 = s3\n",
    "        self.logger = logger      \n",
    "    \n",
    "    \n",
    "    def __download_transition_clips(self, TRANSITION_CLIPS_BUCKET)\n",
    "        transition_clips = {}\n",
    "        transition_clips_set = set()\n",
    "        \n",
    "        params = {\n",
    "            \"Bucket\": TRANSITION_CLIPS_BUCKET\n",
    "        }\n",
    "        objects = s3_helpers.list_objects_v2(self.s3, self.logger, **params)\n",
    "        \n",
    "        # convert it to a set to avoid duplication  \n",
    "        for post in self.posts:\n",
    "            clip = objects[random.randint(0, len(objects))]\n",
    "            transition_clips[post['name']] = clip\n",
    "            transition_clips_set.add(clip)\n",
    "        \n",
    "       \n",
    "        # fetch transitions put it in download_path folder\n",
    "        for clip in transition_clips_set:\n",
    "            params = {\n",
    "                'Bucket': TRANSITION_CLIPS_BUCKET,\n",
    "                'Key': clip,\n",
    "                'Filename': f'/tmp/{clip}'\n",
    "            }\n",
    "            s3_helpers.download_file(**params)\n",
    "            \n",
    "        return transition_clips\n",
    "            \n",
    "    def __download_intro_clip(self, INTRO_CLIPS_BUCKET):\n",
    "        params = {\n",
    "            \"Bucket\": INTRO_CLIPS_BUCKET\n",
    "        }        \n",
    "        objects = s3_helpers.list_objects_v2(self.s3, self.logger, **params)\n",
    "        \n",
    "        random_intro_clip = objects[random.randint(0, len(objects))]        \n",
    "        params = {\n",
    "                'Bucket': INTRO_CLIPS_BUCKET,\n",
    "                'Key': random_intro_clip,\n",
    "                'Filename': f'/tmp/{random_intro_clip}'\n",
    "            }        \n",
    "        \n",
    "        s3_helpers.download_file(**params)\n",
    "        \n",
    "    def __download_outtro_clip(self, OUTTRO_CLIPS_BUCKET):\n",
    "        params = {\n",
    "            \"Bucket\": OUTTRO_CLIPS_BUCKET\n",
    "        }        \n",
    "        objects = s3_helpers.list_objects_v2(self.s3, self.logger, **params)        \n",
    "        random_outtro_clip = objects[random.randint(0, len(objects))]        \n",
    "        params = {\n",
    "                'Bucket': OUTTRO_CLIPS_BUCKET,\n",
    "                'Key': random_intro_clip,\n",
    "                'Filename': f'/tmp/{random_outtro_clip}'\n",
    "            }        \n",
    "        \n",
    "        s3_helpers.download_file(**params)\n",
    "        \n",
    "        \n",
    "        \n",
    "    def __process_individual_video(self, post, download_path, logger, params):\n",
    "        file_path = os.path.join(download_path, post['name'])\n",
    "        \n",
    "        logger.info(f\"Process: {os.getpid()} is processing the video from the post with name: {post['name']}\")\n",
    "        \n",
    "        #Get video details:\n",
    "        video_clip = VideoFileClip(file_path)\n",
    "        fps = video_clip.fps\n",
    "        duration = video_clip.reader.duration\n",
    "        size = video_clip.size\n",
    "        w, h = video_clip.size\n",
    "        \n",
    "        # Generate Watermark clip\n",
    "        watermark_clip = TextClip('@VidsFromAroundTheInternet', fontsize=24, color='white', size = [w, 30], align='East')\n",
    "        watermark_clip = watermark_clip.set_duration(duration).set_fps(fps)\n",
    "        watermark_clip = watermark_clip.set_pos((\"bottom\"))     \n",
    "        logger.info(f\"Generated watermark_clip for the post with name : {post['name']}\")\n",
    "        \n",
    "        # Generate Title for the video\n",
    "        title_clip = TextClip(post['title'], fontsize=18, color='white', size= [w,24], align='West', stroke_width=1.5)\n",
    "        \n",
    "        # words per sec\n",
    "        wps = 3\n",
    "        title_clip_duration = max(len(title)/wps, duration/2)\n",
    "        title_clip = title_clip.set_pos((\"bottom\"))\n",
    "        title_clip = title_clip.set_duration(title_clip_duration).set_fps(fps)\n",
    "        logger.info(f\"Generated title_clip for the post with name : {post['name']}\")\n",
    "\n",
    "        processed_clip = CompositeVideoClip([video_clip, title_clip, watermark_clip], size=size)\n",
    "        logger.info(f\"Composited video_clip, title_clip and watermark_clip for the post with name : {post['name']}\")\n",
    "        \n",
    "        transition_clip = VideoFileClip(params['transition_clip'])      \n",
    "        \n",
    "        \n",
    "        if params['is_first']:\n",
    "            # If first video, concatenate: Intro | processed_clip | transition\n",
    "            intro_clip = VideoFileClip(params['intro_clip'])\n",
    "            final_clip = concatenate_videoclips([ intro_clip, processed_clip, transition_clip ])\n",
    "            logger.info(f\"Post with name : {post['name']} is the first video of the subreddit group to be concatenated.\")\n",
    "        \n",
    "        elif params['is_last']:\n",
    "            # If last video, concatenate: processed_clip | outtro\n",
    "            outtro_clip = VideoFileClip(params['outtro_clip'])\n",
    "            final_clip = concatenate_videoclips([ processed_clip, outtro_clip ])\n",
    "            logger.info(f\"Post with name : {post['name']} is the last video of the subreddit group to be concatenated.\")\n",
    "        \n",
    "        \n",
    "        else:\n",
    "            # Some video in the middle, concatenate: processed_clip | transition\n",
    "            final_clip = concatenate_videoclips([ processed_clip, transition_clip ])\n",
    "            logger.info(f\"Post with name : {post['name']} is being concatenated.\")\n",
    "            \n",
    "            \n",
    "        final_clip.write_videofile(os.path.join(download_path, f\"processed_{post['name']}\")   \n",
    "                                   \n",
    "    \n",
    "    def process_each_video_in_parallel(self, TRANSITION_CLIPS_BUCKET, INTRO_CLIPS_BUCKET, OUTTRO_CLIPS_BUCKET):\n",
    "       \n",
    "        # list items in transitions bucket\n",
    "        self.logger.info(\"Processing each video in parallel\")\n",
    "        processes = []\n",
    "        \n",
    "        # build a random item list containing transitions chosen for each video        \n",
    "#         transition_clips = {}\n",
    "#         transition_clips_set = set()\n",
    "        \n",
    "#         params = {\n",
    "#             \"Bucket\": TRANSITION_CLIPS_BUCKET\n",
    "#         }\n",
    "#         objects = s3_helpers.list_objects_v2(self.s3, self.logger, **params)\n",
    "        \n",
    "#         # convert it to a set to avoid duplication  \n",
    "#         for post in self.posts:\n",
    "#             clip = objects[random.randint(0, len(objects))]\n",
    "#             transition_clips[post['name']] = clip\n",
    "#             transition_clips_set.add(clip)\n",
    "        \n",
    "       \n",
    "#         # fetch transitions put it in download_path folder\n",
    "#         for clip in transition_clips_set:\n",
    "#             params = {\n",
    "#                 'Bucket': TRANSITION_CLIPS_BUCKET,\n",
    "#                 'Key': clip,\n",
    "#                 'Filename': f'/tmp/{clip}'\n",
    "#             }            \n",
    "#             s3_helpers.download_file(**params)\n",
    "\n",
    "        transition_clips = self.__download_transition_clips(TRANSITION_CLIPS_BUCKET) \n",
    "        intro_clip = self.__download_intro_clip(INTRO_CLIPS_BUCKET)        \n",
    "        outtro_clip = self.__download_outtro_clip(OUTTRO_CLIPS_BUCKET)  \n",
    "        \n",
    "        # pass intro, transition, outtro to each call of __process_individual_video() method\n",
    "        # In params arg, send is_first, is_last, transition_clip, intro_clip, \n",
    "        # outtro_clip and watermark_clip.        \n",
    "        start = time()\n",
    "                \n",
    "        for idx, post in enumerate(self.posts):\n",
    "            is_first = True if idx == 0 else False\n",
    "            is_last = True if idx == len(self.posts)-1 else False\n",
    "            \n",
    "            params = {                \n",
    "                'is_first': is_first,\n",
    "                'is_last': is_last,\n",
    "                'transition_clip': transition_clips[post['name']],\n",
    "                'intro_clip': intro_clip,\n",
    "                'outtro_clip': outtro_clip,\n",
    "            }\n",
    "            \n",
    "            process = Process(target=__process_individual_video, \n",
    "                              args = (post, download_path, self.logger, params))\n",
    "            \n",
    "            processes.append(process)\n",
    "                  \n",
    "                                   \n",
    "        for process in processes:\n",
    "            process.start()\n",
    "                                   \n",
    "        for process in processes:\n",
    "            process.join()\n",
    "                                   \n",
    "        end = time()\n",
    "                                   \n",
    "        \n",
    "        self.logger.info(f\"Finished processing {len(self.posts)} video clips in {round(end - start, 2)} seconds\")                                   \n",
    "        self.logger.info(f\"Concatenating processed clips\")\n",
    "                                   \n",
    "                                \n",
    "                                   \n",
    "                                   \n",
    "            \n",
    "        \n",
    "        \n",
    "        \n",
    "        "
   ]
  },
  {
   "cell_type": "code",
   "execution_count": null,
   "id": "93045591-29d8-40ec-a9a8-20d106ca5d82",
   "metadata": {},
   "outputs": [],
   "source": [
    "def process_video(file_path):\n",
    "    video_clip = VideoFileClip(file_path)    \n",
    "    add_title(video_clip, )\n",
    "    "
   ]
  },
  {
   "cell_type": "code",
   "execution_count": 48,
   "id": "2e485c81-8587-4944-8771-59b4c514ed5a",
   "metadata": {},
   "outputs": [],
   "source": [
    "a = [1,2,3,4] \n",
    "p = 0"
   ]
  },
  {
   "cell_type": "code",
   "execution_count": 49,
   "id": "c597ccb0-b1ce-4e8c-b60c-89595c86aea9",
   "metadata": {},
   "outputs": [
    {
     "data": {
      "text/plain": [
       "True"
      ]
     },
     "execution_count": 49,
     "metadata": {},
     "output_type": "execute_result"
    }
   ],
   "source": [
    "is_first = True if p == 0 else False \n",
    "is_first"
   ]
  },
  {
   "cell_type": "code",
   "execution_count": 54,
   "id": "bc92ef21-f05c-46b8-a642-00706e193cd3",
   "metadata": {},
   "outputs": [],
   "source": [
    "p=3"
   ]
  },
  {
   "cell_type": "code",
   "execution_count": 53,
   "id": "c48f8e31-377a-4254-859a-d0609bf5b3e1",
   "metadata": {},
   "outputs": [
    {
     "data": {
      "text/plain": [
       "False"
      ]
     },
     "execution_count": 53,
     "metadata": {},
     "output_type": "execute_result"
    }
   ],
   "source": [
    "is_last = True if p == len(a)-1 else False\n",
    "is_last"
   ]
  },
  {
   "cell_type": "code",
   "execution_count": null,
   "id": "12d12616-9096-4f71-b6f6-86a501405c25",
   "metadata": {},
   "outputs": [],
   "source": []
  }
 ],
 "metadata": {
  "kernelspec": {
   "display_name": "Python 3.8.10 64-bit ('.venv': venv)",
   "language": "python",
   "name": "python3810jvsc74a57bd024b555649d86f360bc29675e4ea05747664583e96f16283f97272f664e30bb4e"
  },
  "language_info": {
   "codemirror_mode": {
    "name": "ipython",
    "version": 3
   },
   "file_extension": ".py",
   "mimetype": "text/x-python",
   "name": "python",
   "nbconvert_exporter": "python",
   "pygments_lexer": "ipython3",
   "version": "3.8.10"
  }
 },
 "nbformat": 4,
 "nbformat_minor": 5
}
