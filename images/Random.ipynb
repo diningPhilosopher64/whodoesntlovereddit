{
 "cells": [
  {
   "cell_type": "code",
   "execution_count": 3,
   "id": "ae5be405-acca-47a7-b44a-109b68639b7e",
   "metadata": {},
   "outputs": [],
   "source": [
    "import boto3, logging\n",
    "\n",
    "ddb = boto3.client('dynamodb')"
   ]
  },
  {
   "cell_type": "code",
   "execution_count": 4,
   "id": "b98a6531-9908-432d-9be9-2a1740c63fd4",
   "metadata": {},
   "outputs": [],
   "source": [
    "from entities.GatherPosts import GatherPosts"
   ]
  },
  {
   "cell_type": "code",
   "execution_count": 6,
   "id": "a8537359-7440-4bf1-9bbd-1f67ac3a1dcc",
   "metadata": {},
   "outputs": [],
   "source": [
    "gather_posts = GatherPosts(subreddit=\"funny\", logger=logging.getLogger())"
   ]
  },
  {
   "cell_type": "code",
   "execution_count": 8,
   "id": "8194b9a8-d80f-4d4c-a942-ab520fbc732b",
   "metadata": {},
   "outputs": [],
   "source": [
    "# params = {\n",
    "#     \"TableName\": 'DailyUploadsTable-dev',\n",
    "#     \"Item\": gather_posts.serialize_to_item(),    \n",
    "# }\n",
    "\n",
    "# ddb.put_item(**params)"
   ]
  },
  {
   "cell_type": "code",
   "execution_count": 27,
   "id": "46f5116b-ac64-4d7e-95bc-7ad9ac0a52a0",
   "metadata": {},
   "outputs": [],
   "source": [
    "DAILY_UPLOADS_TABLE_NAME = 'DailyUploadsTable-dev'\n",
    "params = {\n",
    "        \"TableName\": DAILY_UPLOADS_TABLE_NAME,\n",
    "        \"Key\": {\n",
    "            \"PK\": {\"S\": '2021-08-17'},\n",
    "            \"SK\": {\"S\": \"todays_subreddits_count\"},\n",
    "        },\n",
    "        \"ConditionExpression\": \"attribute_exists(PK) and attribute_exists(SK)\",\n",
    "        \"UpdateExpression\": \"SET #count = #count + :inc\",\n",
    "        \"ExpressionAttributeNames\": {\"#count\": \"count\"},\n",
    "        \"ExpressionAttributeValues\": {\":inc\": {\"N\": \"1\"}},\n",
    "        \"ReturnValues\":\"NONE\"\n",
    "    }"
   ]
  },
  {
   "cell_type": "code",
   "execution_count": null,
   "id": "456c5989-41be-44ce-ae2b-52ec96e66fa0",
   "metadata": {},
   "outputs": [],
   "source": []
  },
  {
   "cell_type": "code",
   "execution_count": 22,
   "id": "5cdfdbba-6e57-4454-ac0b-7f04caf69380",
   "metadata": {},
   "outputs": [],
   "source": [
    "from helpers import ddb as ddb_helpers\n",
    "import logging\n",
    "import pprint\n",
    "\n",
    "pp = pprint.PrettyPrinter(indent=2, compact=True, width=80)\n",
    "\n",
    "\n"
   ]
  },
  {
   "cell_type": "code",
   "execution_count": 76,
   "id": "f58c9b1e-15da-4a91-98b8-9ee207cdf214",
   "metadata": {},
   "outputs": [],
   "source": [
    "DAILY_UPLOADS_TABLE_NAME = \"DailyUploadsTable-dev\"\n",
    "\n",
    "subreddit_group = ['funny']\n",
    "\n",
    "transact_items = []\n",
    "for subreddit in subreddit_group:\n",
    "    gather_posts = GatherPosts(subreddit,logging.getLogger())\n",
    "#     gather_posts.date = '2021-08-19'\n",
    "    transact_item = {\n",
    "        \"Get\": {\n",
    "            \"TableName\": DAILY_UPLOADS_TABLE_NAME,\n",
    "            \"Key\": gather_posts.key()\n",
    "        }\n",
    "    }\n",
    "    \n",
    "    transact_items.append(transact_item)  \n",
    "    \n",
    "\n",
    "\n",
    "kwargs = {'TransactItems' : transact_items}"
   ]
  },
  {
   "cell_type": "code",
   "execution_count": 77,
   "id": "497c1fc3-8cc8-4cd2-be83-4cb9169e1fb9",
   "metadata": {},
   "outputs": [],
   "source": [
    "res = ddb_helpers.transact_get_items(ddb=ddb, logger=logging.getLogger(), **kwargs)"
   ]
  },
  {
   "cell_type": "code",
   "execution_count": 78,
   "id": "54414aea-8a6b-44c7-94ac-f8c2774c0315",
   "metadata": {},
   "outputs": [],
   "source": [
    "items = [item['Item']  for item in res]"
   ]
  },
  {
   "cell_type": "code",
   "execution_count": 79,
   "id": "edd7e576-4dee-47ac-90ab-9b7dd5c7daaa",
   "metadata": {},
   "outputs": [],
   "source": [
    "deserialized_items = [\n",
    "        GatherPosts.deserialize_from_item(item) for item in items\n",
    "    ]"
   ]
  },
  {
   "cell_type": "code",
   "execution_count": 80,
   "id": "67adaaf8-e207-480c-bb24-356a1bf97646",
   "metadata": {},
   "outputs": [],
   "source": [
    "subreddits = deserialized_items"
   ]
  },
  {
   "cell_type": "code",
   "execution_count": 81,
   "id": "fa57b18f-a245-4aa7-885c-687934516ad7",
   "metadata": {
    "collapsed": true,
    "jupyter": {
     "outputs_hidden": true
    },
    "tags": []
   },
   "outputs": [
    {
     "data": {
      "text/plain": [
       "{'posts': [{'duration': 26,\n",
       "   'upvote_ratio': 0.97,\n",
       "   'author': 'hey_dont_ban_me_bro',\n",
       "   'name': 't3_p6u5f4',\n",
       "   'ups': 5632,\n",
       "   'title': '\"What would you like your obituary to say?\" RIP Sean Lock',\n",
       "   'total_awards_received': 16,\n",
       "   'url': 'https://v.redd.it/i6ghfjfd35i71'},\n",
       "  {'duration': 5,\n",
       "   'upvote_ratio': 0.88,\n",
       "   'author': 'tacolamp',\n",
       "   'name': 't3_p6z5nz',\n",
       "   'ups': 1277,\n",
       "   'title': 'Parkour!',\n",
       "   'total_awards_received': 6,\n",
       "   'url': 'https://v.redd.it/sy8ola7nb6i71'},\n",
       "  {'duration': 9,\n",
       "   'upvote_ratio': 0.97,\n",
       "   'author': 'trytheCOLDchai',\n",
       "   'name': 't3_p73sa2',\n",
       "   'ups': 951,\n",
       "   'title': 'Take a seat, right over here',\n",
       "   'total_awards_received': 0,\n",
       "   'url': 'https://v.redd.it/b4j4gz8wj7i71'},\n",
       "  {'duration': 139,\n",
       "   'upvote_ratio': 0.97,\n",
       "   'author': 'NasseHeger',\n",
       "   'name': 't3_p7bjxc',\n",
       "   'ups': 2563,\n",
       "   'title': 'Are any women here today?',\n",
       "   'total_awards_received': 9,\n",
       "   'url': 'https://v.redd.it/3uoltpdsaai71'},\n",
       "  {'duration': 9,\n",
       "   'upvote_ratio': 0.93,\n",
       "   'author': 'Momaroria',\n",
       "   'name': 't3_p6zogy',\n",
       "   'ups': 546,\n",
       "   'title': \"You're not stuck, I swear.\",\n",
       "   'total_awards_received': 3,\n",
       "   'url': 'https://v.redd.it/4ih9eu8ag6i71'},\n",
       "  {'duration': 7,\n",
       "   'upvote_ratio': 0.84,\n",
       "   'author': 'drewd0g',\n",
       "   'name': 't3_p73x8b',\n",
       "   'ups': 263,\n",
       "   'title': '7.2 MagniTurd Earthquake',\n",
       "   'total_awards_received': 0,\n",
       "   'url': 'https://v.redd.it/o9bvefm7l7i71'},\n",
       "  {'duration': 4,\n",
       "   'upvote_ratio': 0.86,\n",
       "   'author': '_Mr_JokeR_',\n",
       "   'name': 't3_p6y8uq',\n",
       "   'ups': 236,\n",
       "   'title': 'Hilarious and cute at the same moment 😂',\n",
       "   'total_awards_received': 1,\n",
       "   'url': 'https://v.redd.it/gxugpywk36i71'},\n",
       "  {'duration': 9,\n",
       "   'upvote_ratio': 0.82,\n",
       "   'author': 'Subtle_srikhand',\n",
       "   'name': 't3_p6uesz',\n",
       "   'ups': 98,\n",
       "   'title': \"It's always Germany\",\n",
       "   'total_awards_received': 0,\n",
       "   'url': 'https://v.redd.it/gpz9e9um55i71'},\n",
       "  {'duration': 5,\n",
       "   'upvote_ratio': 0.91,\n",
       "   'author': 'LobbethThou',\n",
       "   'name': 't3_p78upn',\n",
       "   'ups': 94,\n",
       "   'title': 'This is how you almost lose a brand new drone…',\n",
       "   'total_awards_received': 0,\n",
       "   'url': 'https://v.redd.it/08nvzofz59i71'},\n",
       "  {'duration': 16,\n",
       "   'upvote_ratio': 0.86,\n",
       "   'author': 'Supermandtm',\n",
       "   'name': 't3_p79357',\n",
       "   'ups': 43,\n",
       "   'title': 'Broke in a bank to make a hot pocket',\n",
       "   'total_awards_received': 0,\n",
       "   'url': 'https://v.redd.it/rq85r5g899i71'},\n",
       "  {'duration': 60,\n",
       "   'upvote_ratio': 0.82,\n",
       "   'author': 'BurrntToast420',\n",
       "   'name': 't3_p6u49s',\n",
       "   'ups': 33,\n",
       "   'title': 'Some Mayors are just built differently',\n",
       "   'total_awards_received': 0,\n",
       "   'url': 'https://v.redd.it/tcd6fn3135i71'},\n",
       "  {'duration': 16,\n",
       "   'upvote_ratio': 0.71,\n",
       "   'author': 'Asleep-Independent48',\n",
       "   'name': 't3_p756ak',\n",
       "   'ups': 27,\n",
       "   'title': 'Society and the Reddit User(s)',\n",
       "   'total_awards_received': 0,\n",
       "   'url': 'https://v.redd.it/b3sm0niwy7i71'},\n",
       "  {'duration': 25,\n",
       "   'upvote_ratio': 0.82,\n",
       "   'author': 'pumpingas',\n",
       "   'name': 't3_p6tonx',\n",
       "   'ups': 27,\n",
       "   'title': 'My favorite Sean Lock moment',\n",
       "   'total_awards_received': 0,\n",
       "   'url': 'https://v.redd.it/9lalyu9bz4i71'},\n",
       "  {'duration': 35,\n",
       "   'upvote_ratio': 0.67,\n",
       "   'author': 'IamCat16892',\n",
       "   'name': 't3_p7639v',\n",
       "   'ups': 18,\n",
       "   'title': 'My little brother made this. He says it could be the next Marvel movie',\n",
       "   'total_awards_received': 0,\n",
       "   'url': 'https://v.redd.it/cnpa4kqk88i71'},\n",
       "  {'duration': 134,\n",
       "   'upvote_ratio': 0.65,\n",
       "   'author': 'Diddy411',\n",
       "   'name': 't3_p7cfej',\n",
       "   'ups': 19,\n",
       "   'title': 'Study: Toddlers Regulate Behavior to Avoid Making Adults Angry',\n",
       "   'total_awards_received': 0,\n",
       "   'url': 'https://v.redd.it/gf3kzkirnai71'},\n",
       "  {'duration': 25,\n",
       "   'upvote_ratio': 0.7,\n",
       "   'author': 'ztaker',\n",
       "   'name': 't3_p7as35',\n",
       "   'ups': 17,\n",
       "   'title': 'Google assistant answering the longest city name',\n",
       "   'total_awards_received': 0,\n",
       "   'url': 'https://v.redd.it/7kqpkmb2z9i71'},\n",
       "  {'duration': 30,\n",
       "   'upvote_ratio': 0.61,\n",
       "   'author': 'SudoPro',\n",
       "   'name': 't3_p6yal9',\n",
       "   'ups': 12,\n",
       "   'title': 'Convincing our friend we heard him stroking his noodle.',\n",
       "   'total_awards_received': 0,\n",
       "   'url': 'https://v.redd.it/gic7bqxw36i71'},\n",
       "  {'duration': 46,\n",
       "   'upvote_ratio': 0.66,\n",
       "   'author': 'laughs_with_salad',\n",
       "   'name': 't3_p6u0r3',\n",
       "   'ups': 12,\n",
       "   'title': 'I will was your shop door for food and you cannot refuse!',\n",
       "   'total_awards_received': 0,\n",
       "   'url': 'https://v.redd.it/rzroteew15i71'},\n",
       "  {'duration': 6,\n",
       "   'upvote_ratio': 0.53,\n",
       "   'author': 'loneliest_diaspora',\n",
       "   'name': 't3_p7cxe5',\n",
       "   'ups': 3,\n",
       "   'title': 'Reddit can be unintentionally funny too',\n",
       "   'total_awards_received': 0,\n",
       "   'url': 'https://v.redd.it/qkaze6touai71'},\n",
       "  {'duration': 7,\n",
       "   'upvote_ratio': 0.52,\n",
       "   'author': 'MacsNotJacked',\n",
       "   'name': 't3_p79frv',\n",
       "   'ups': 2,\n",
       "   'title': 'Throw back to when my friend, Tater, got put on the schools Instagram account destroying this box jump. Keep your eye on the tall guy in blue.',\n",
       "   'total_awards_received': 0,\n",
       "   'url': 'https://v.redd.it/qo3ybco9e9i71'},\n",
       "  {'duration': 20,\n",
       "   'upvote_ratio': 0.66,\n",
       "   'author': 'UnlawfulBL',\n",
       "   'name': 't3_p6zivh',\n",
       "   'ups': 9,\n",
       "   'title': 'Playing Five Nights at Freddie’s with my GF.',\n",
       "   'total_awards_received': 0,\n",
       "   'url': 'https://v.redd.it/evqxm6qxe6i71'},\n",
       "  {'duration': 43,\n",
       "   'upvote_ratio': 0.6,\n",
       "   'author': 'ezio8133',\n",
       "   'name': 't3_p6s3x2',\n",
       "   'ups': 6,\n",
       "   'title': 'Squirrel can be deadly',\n",
       "   'total_awards_received': 0,\n",
       "   'url': 'https://v.redd.it/gfm0p2d2l4i71'}],\n",
       " 'SK': 'funny',\n",
       " 'PK': '2021-08-19'}"
      ]
     },
     "execution_count": 81,
     "metadata": {},
     "output_type": "execute_result"
    }
   ],
   "source": [
    "subreddits[0]"
   ]
  },
  {
   "cell_type": "code",
   "execution_count": 82,
   "id": "2b5fc02d-bec9-476c-a070-b9ad9cc0edc9",
   "metadata": {},
   "outputs": [],
   "source": [
    "posts_arr = [\n",
    "        GatherPosts.deserialize_from_item(item)['posts'] for item in items\n",
    "    ]"
   ]
  },
  {
   "cell_type": "code",
   "execution_count": null,
   "id": "d631151d-c24b-4bee-ab94-ce2bed47d0f2",
   "metadata": {},
   "outputs": [],
   "source": []
  },
  {
   "cell_type": "code",
   "execution_count": 84,
   "id": "61799b54-d7cd-4e39-97b6-bbf70e299d3b",
   "metadata": {},
   "outputs": [],
   "source": [
    "import pandas as pd"
   ]
  },
  {
   "cell_type": "code",
   "execution_count": 85,
   "id": "62351ac8-34f7-4ae2-984f-a392a4e0d0a2",
   "metadata": {},
   "outputs": [],
   "source": [
    "df_top = pd.DataFrame()"
   ]
  },
  {
   "cell_type": "code",
   "execution_count": 86,
   "id": "48ced1d8-0ecc-4887-9558-2754020f47d8",
   "metadata": {
    "collapsed": true,
    "jupyter": {
     "outputs_hidden": true
    },
    "tags": []
   },
   "outputs": [
    {
     "data": {
      "text/plain": [
       "{'duration': 26,\n",
       " 'upvote_ratio': 0.97,\n",
       " 'author': 'hey_dont_ban_me_bro',\n",
       " 'name': 't3_p6u5f4',\n",
       " 'ups': 5632,\n",
       " 'title': '\"What would you like your obituary to say?\" RIP Sean Lock',\n",
       " 'total_awards_received': 16,\n",
       " 'url': 'https://v.redd.it/i6ghfjfd35i71'}"
      ]
     },
     "execution_count": 86,
     "metadata": {},
     "output_type": "execute_result"
    }
   ],
   "source": [
    "posts_arr[0][0]"
   ]
  },
  {
   "cell_type": "code",
   "execution_count": 87,
   "id": "cdbafdf4-aafa-4d22-ad55-3778a8cb6095",
   "metadata": {},
   "outputs": [],
   "source": [
    "for posts in posts_arr:    \n",
    "    for post in posts:  \n",
    "        df_top = df_top.append(\n",
    "            {\n",
    "                \"title\": post[\"title\"],\n",
    "                \"upvote_ratio\": post[\"upvote_ratio\"],\n",
    "                \"ups\": post[\"ups\"],               \n",
    "                'total_awards_received': post['total_awards_received'],\n",
    "                \"url\": post[\"url\"],\n",
    "                \"name\": post['name'],\n",
    "                \"author\": post['author'],\n",
    "                \"duration\": post['duration']\n",
    "            },            \n",
    "            ignore_index=True\n",
    "        )"
   ]
  },
  {
   "cell_type": "code",
   "execution_count": 118,
   "id": "7621bed8-ebb7-4113-b46f-dbbe4b7aa858",
   "metadata": {
    "tags": []
   },
   "outputs": [],
   "source": [
    "df_top = df_top.sort_values([\"ups\", \"total_awards_received\", \"upvote_ratio\"], ascending=False, axis=0)"
   ]
  },
  {
   "cell_type": "code",
   "execution_count": 119,
   "id": "89ae6d1d-a54a-462b-bb53-1bc8be8447fc",
   "metadata": {
    "collapsed": true,
    "jupyter": {
     "outputs_hidden": true
    },
    "tags": []
   },
   "outputs": [
    {
     "data": {
      "text/html": [
       "<div>\n",
       "<style scoped>\n",
       "    .dataframe tbody tr th:only-of-type {\n",
       "        vertical-align: middle;\n",
       "    }\n",
       "\n",
       "    .dataframe tbody tr th {\n",
       "        vertical-align: top;\n",
       "    }\n",
       "\n",
       "    .dataframe thead th {\n",
       "        text-align: right;\n",
       "    }\n",
       "</style>\n",
       "<table border=\"1\" class=\"dataframe\">\n",
       "  <thead>\n",
       "    <tr style=\"text-align: right;\">\n",
       "      <th></th>\n",
       "      <th>title</th>\n",
       "      <th>upvote_ratio</th>\n",
       "      <th>ups</th>\n",
       "      <th>total_awards_received</th>\n",
       "      <th>url</th>\n",
       "      <th>name</th>\n",
       "      <th>author</th>\n",
       "      <th>duration</th>\n",
       "    </tr>\n",
       "  </thead>\n",
       "  <tbody>\n",
       "    <tr>\n",
       "      <th>0</th>\n",
       "      <td>\"What would you like your obituary to say?\" RI...</td>\n",
       "      <td>0.97</td>\n",
       "      <td>5632.0</td>\n",
       "      <td>16.0</td>\n",
       "      <td>https://v.redd.it/i6ghfjfd35i71</td>\n",
       "      <td>t3_p6u5f4</td>\n",
       "      <td>hey_dont_ban_me_bro</td>\n",
       "      <td>26.0</td>\n",
       "    </tr>\n",
       "    <tr>\n",
       "      <th>3</th>\n",
       "      <td>Are any women here today?</td>\n",
       "      <td>0.97</td>\n",
       "      <td>2563.0</td>\n",
       "      <td>9.0</td>\n",
       "      <td>https://v.redd.it/3uoltpdsaai71</td>\n",
       "      <td>t3_p7bjxc</td>\n",
       "      <td>NasseHeger</td>\n",
       "      <td>139.0</td>\n",
       "    </tr>\n",
       "    <tr>\n",
       "      <th>1</th>\n",
       "      <td>Parkour!</td>\n",
       "      <td>0.88</td>\n",
       "      <td>1277.0</td>\n",
       "      <td>6.0</td>\n",
       "      <td>https://v.redd.it/sy8ola7nb6i71</td>\n",
       "      <td>t3_p6z5nz</td>\n",
       "      <td>tacolamp</td>\n",
       "      <td>5.0</td>\n",
       "    </tr>\n",
       "    <tr>\n",
       "      <th>2</th>\n",
       "      <td>Take a seat, right over here</td>\n",
       "      <td>0.97</td>\n",
       "      <td>951.0</td>\n",
       "      <td>0.0</td>\n",
       "      <td>https://v.redd.it/b4j4gz8wj7i71</td>\n",
       "      <td>t3_p73sa2</td>\n",
       "      <td>trytheCOLDchai</td>\n",
       "      <td>9.0</td>\n",
       "    </tr>\n",
       "    <tr>\n",
       "      <th>4</th>\n",
       "      <td>You're not stuck, I swear.</td>\n",
       "      <td>0.93</td>\n",
       "      <td>546.0</td>\n",
       "      <td>3.0</td>\n",
       "      <td>https://v.redd.it/4ih9eu8ag6i71</td>\n",
       "      <td>t3_p6zogy</td>\n",
       "      <td>Momaroria</td>\n",
       "      <td>9.0</td>\n",
       "    </tr>\n",
       "    <tr>\n",
       "      <th>5</th>\n",
       "      <td>7.2 MagniTurd Earthquake</td>\n",
       "      <td>0.84</td>\n",
       "      <td>263.0</td>\n",
       "      <td>0.0</td>\n",
       "      <td>https://v.redd.it/o9bvefm7l7i71</td>\n",
       "      <td>t3_p73x8b</td>\n",
       "      <td>drewd0g</td>\n",
       "      <td>7.0</td>\n",
       "    </tr>\n",
       "    <tr>\n",
       "      <th>6</th>\n",
       "      <td>Hilarious and cute at the same moment 😂</td>\n",
       "      <td>0.86</td>\n",
       "      <td>236.0</td>\n",
       "      <td>1.0</td>\n",
       "      <td>https://v.redd.it/gxugpywk36i71</td>\n",
       "      <td>t3_p6y8uq</td>\n",
       "      <td>_Mr_JokeR_</td>\n",
       "      <td>4.0</td>\n",
       "    </tr>\n",
       "    <tr>\n",
       "      <th>7</th>\n",
       "      <td>It's always Germany</td>\n",
       "      <td>0.82</td>\n",
       "      <td>98.0</td>\n",
       "      <td>0.0</td>\n",
       "      <td>https://v.redd.it/gpz9e9um55i71</td>\n",
       "      <td>t3_p6uesz</td>\n",
       "      <td>Subtle_srikhand</td>\n",
       "      <td>9.0</td>\n",
       "    </tr>\n",
       "    <tr>\n",
       "      <th>8</th>\n",
       "      <td>This is how you almost lose a brand new drone…</td>\n",
       "      <td>0.91</td>\n",
       "      <td>94.0</td>\n",
       "      <td>0.0</td>\n",
       "      <td>https://v.redd.it/08nvzofz59i71</td>\n",
       "      <td>t3_p78upn</td>\n",
       "      <td>LobbethThou</td>\n",
       "      <td>5.0</td>\n",
       "    </tr>\n",
       "    <tr>\n",
       "      <th>9</th>\n",
       "      <td>Broke in a bank to make a hot pocket</td>\n",
       "      <td>0.86</td>\n",
       "      <td>43.0</td>\n",
       "      <td>0.0</td>\n",
       "      <td>https://v.redd.it/rq85r5g899i71</td>\n",
       "      <td>t3_p79357</td>\n",
       "      <td>Supermandtm</td>\n",
       "      <td>16.0</td>\n",
       "    </tr>\n",
       "    <tr>\n",
       "      <th>10</th>\n",
       "      <td>Some Mayors are just built differently</td>\n",
       "      <td>0.82</td>\n",
       "      <td>33.0</td>\n",
       "      <td>0.0</td>\n",
       "      <td>https://v.redd.it/tcd6fn3135i71</td>\n",
       "      <td>t3_p6u49s</td>\n",
       "      <td>BurrntToast420</td>\n",
       "      <td>60.0</td>\n",
       "    </tr>\n",
       "    <tr>\n",
       "      <th>12</th>\n",
       "      <td>My favorite Sean Lock moment</td>\n",
       "      <td>0.82</td>\n",
       "      <td>27.0</td>\n",
       "      <td>0.0</td>\n",
       "      <td>https://v.redd.it/9lalyu9bz4i71</td>\n",
       "      <td>t3_p6tonx</td>\n",
       "      <td>pumpingas</td>\n",
       "      <td>25.0</td>\n",
       "    </tr>\n",
       "    <tr>\n",
       "      <th>11</th>\n",
       "      <td>Society and the Reddit User(s)</td>\n",
       "      <td>0.71</td>\n",
       "      <td>27.0</td>\n",
       "      <td>0.0</td>\n",
       "      <td>https://v.redd.it/b3sm0niwy7i71</td>\n",
       "      <td>t3_p756ak</td>\n",
       "      <td>Asleep-Independent48</td>\n",
       "      <td>16.0</td>\n",
       "    </tr>\n",
       "    <tr>\n",
       "      <th>14</th>\n",
       "      <td>Study: Toddlers Regulate Behavior to Avoid Mak...</td>\n",
       "      <td>0.65</td>\n",
       "      <td>19.0</td>\n",
       "      <td>0.0</td>\n",
       "      <td>https://v.redd.it/gf3kzkirnai71</td>\n",
       "      <td>t3_p7cfej</td>\n",
       "      <td>Diddy411</td>\n",
       "      <td>134.0</td>\n",
       "    </tr>\n",
       "    <tr>\n",
       "      <th>13</th>\n",
       "      <td>My little brother made this. He says it could ...</td>\n",
       "      <td>0.67</td>\n",
       "      <td>18.0</td>\n",
       "      <td>0.0</td>\n",
       "      <td>https://v.redd.it/cnpa4kqk88i71</td>\n",
       "      <td>t3_p7639v</td>\n",
       "      <td>IamCat16892</td>\n",
       "      <td>35.0</td>\n",
       "    </tr>\n",
       "    <tr>\n",
       "      <th>15</th>\n",
       "      <td>Google assistant answering the longest city name</td>\n",
       "      <td>0.70</td>\n",
       "      <td>17.0</td>\n",
       "      <td>0.0</td>\n",
       "      <td>https://v.redd.it/7kqpkmb2z9i71</td>\n",
       "      <td>t3_p7as35</td>\n",
       "      <td>ztaker</td>\n",
       "      <td>25.0</td>\n",
       "    </tr>\n",
       "    <tr>\n",
       "      <th>17</th>\n",
       "      <td>I will was your shop door for food and you can...</td>\n",
       "      <td>0.66</td>\n",
       "      <td>12.0</td>\n",
       "      <td>0.0</td>\n",
       "      <td>https://v.redd.it/rzroteew15i71</td>\n",
       "      <td>t3_p6u0r3</td>\n",
       "      <td>laughs_with_salad</td>\n",
       "      <td>46.0</td>\n",
       "    </tr>\n",
       "    <tr>\n",
       "      <th>16</th>\n",
       "      <td>Convincing our friend we heard him stroking hi...</td>\n",
       "      <td>0.61</td>\n",
       "      <td>12.0</td>\n",
       "      <td>0.0</td>\n",
       "      <td>https://v.redd.it/gic7bqxw36i71</td>\n",
       "      <td>t3_p6yal9</td>\n",
       "      <td>SudoPro</td>\n",
       "      <td>30.0</td>\n",
       "    </tr>\n",
       "    <tr>\n",
       "      <th>20</th>\n",
       "      <td>Playing Five Nights at Freddie’s with my GF.</td>\n",
       "      <td>0.66</td>\n",
       "      <td>9.0</td>\n",
       "      <td>0.0</td>\n",
       "      <td>https://v.redd.it/evqxm6qxe6i71</td>\n",
       "      <td>t3_p6zivh</td>\n",
       "      <td>UnlawfulBL</td>\n",
       "      <td>20.0</td>\n",
       "    </tr>\n",
       "    <tr>\n",
       "      <th>21</th>\n",
       "      <td>Squirrel can be deadly</td>\n",
       "      <td>0.60</td>\n",
       "      <td>6.0</td>\n",
       "      <td>0.0</td>\n",
       "      <td>https://v.redd.it/gfm0p2d2l4i71</td>\n",
       "      <td>t3_p6s3x2</td>\n",
       "      <td>ezio8133</td>\n",
       "      <td>43.0</td>\n",
       "    </tr>\n",
       "    <tr>\n",
       "      <th>18</th>\n",
       "      <td>Reddit can be unintentionally funny too</td>\n",
       "      <td>0.53</td>\n",
       "      <td>3.0</td>\n",
       "      <td>0.0</td>\n",
       "      <td>https://v.redd.it/qkaze6touai71</td>\n",
       "      <td>t3_p7cxe5</td>\n",
       "      <td>loneliest_diaspora</td>\n",
       "      <td>6.0</td>\n",
       "    </tr>\n",
       "    <tr>\n",
       "      <th>19</th>\n",
       "      <td>Throw back to when my friend, Tater, got put o...</td>\n",
       "      <td>0.52</td>\n",
       "      <td>2.0</td>\n",
       "      <td>0.0</td>\n",
       "      <td>https://v.redd.it/qo3ybco9e9i71</td>\n",
       "      <td>t3_p79frv</td>\n",
       "      <td>MacsNotJacked</td>\n",
       "      <td>7.0</td>\n",
       "    </tr>\n",
       "  </tbody>\n",
       "</table>\n",
       "</div>"
      ],
      "text/plain": [
       "                                                title  upvote_ratio     ups  \\\n",
       "0   \"What would you like your obituary to say?\" RI...          0.97  5632.0   \n",
       "3                           Are any women here today?          0.97  2563.0   \n",
       "1                                            Parkour!          0.88  1277.0   \n",
       "2                        Take a seat, right over here          0.97   951.0   \n",
       "4                          You're not stuck, I swear.          0.93   546.0   \n",
       "5                            7.2 MagniTurd Earthquake          0.84   263.0   \n",
       "6             Hilarious and cute at the same moment 😂          0.86   236.0   \n",
       "7                                 It's always Germany          0.82    98.0   \n",
       "8      This is how you almost lose a brand new drone…          0.91    94.0   \n",
       "9                Broke in a bank to make a hot pocket          0.86    43.0   \n",
       "10             Some Mayors are just built differently          0.82    33.0   \n",
       "12                       My favorite Sean Lock moment          0.82    27.0   \n",
       "11                     Society and the Reddit User(s)          0.71    27.0   \n",
       "14  Study: Toddlers Regulate Behavior to Avoid Mak...          0.65    19.0   \n",
       "13  My little brother made this. He says it could ...          0.67    18.0   \n",
       "15   Google assistant answering the longest city name          0.70    17.0   \n",
       "17  I will was your shop door for food and you can...          0.66    12.0   \n",
       "16  Convincing our friend we heard him stroking hi...          0.61    12.0   \n",
       "20       Playing Five Nights at Freddie’s with my GF.          0.66     9.0   \n",
       "21                             Squirrel can be deadly          0.60     6.0   \n",
       "18            Reddit can be unintentionally funny too          0.53     3.0   \n",
       "19  Throw back to when my friend, Tater, got put o...          0.52     2.0   \n",
       "\n",
       "    total_awards_received                              url       name  \\\n",
       "0                    16.0  https://v.redd.it/i6ghfjfd35i71  t3_p6u5f4   \n",
       "3                     9.0  https://v.redd.it/3uoltpdsaai71  t3_p7bjxc   \n",
       "1                     6.0  https://v.redd.it/sy8ola7nb6i71  t3_p6z5nz   \n",
       "2                     0.0  https://v.redd.it/b4j4gz8wj7i71  t3_p73sa2   \n",
       "4                     3.0  https://v.redd.it/4ih9eu8ag6i71  t3_p6zogy   \n",
       "5                     0.0  https://v.redd.it/o9bvefm7l7i71  t3_p73x8b   \n",
       "6                     1.0  https://v.redd.it/gxugpywk36i71  t3_p6y8uq   \n",
       "7                     0.0  https://v.redd.it/gpz9e9um55i71  t3_p6uesz   \n",
       "8                     0.0  https://v.redd.it/08nvzofz59i71  t3_p78upn   \n",
       "9                     0.0  https://v.redd.it/rq85r5g899i71  t3_p79357   \n",
       "10                    0.0  https://v.redd.it/tcd6fn3135i71  t3_p6u49s   \n",
       "12                    0.0  https://v.redd.it/9lalyu9bz4i71  t3_p6tonx   \n",
       "11                    0.0  https://v.redd.it/b3sm0niwy7i71  t3_p756ak   \n",
       "14                    0.0  https://v.redd.it/gf3kzkirnai71  t3_p7cfej   \n",
       "13                    0.0  https://v.redd.it/cnpa4kqk88i71  t3_p7639v   \n",
       "15                    0.0  https://v.redd.it/7kqpkmb2z9i71  t3_p7as35   \n",
       "17                    0.0  https://v.redd.it/rzroteew15i71  t3_p6u0r3   \n",
       "16                    0.0  https://v.redd.it/gic7bqxw36i71  t3_p6yal9   \n",
       "20                    0.0  https://v.redd.it/evqxm6qxe6i71  t3_p6zivh   \n",
       "21                    0.0  https://v.redd.it/gfm0p2d2l4i71  t3_p6s3x2   \n",
       "18                    0.0  https://v.redd.it/qkaze6touai71  t3_p7cxe5   \n",
       "19                    0.0  https://v.redd.it/qo3ybco9e9i71  t3_p79frv   \n",
       "\n",
       "                  author  duration  \n",
       "0    hey_dont_ban_me_bro      26.0  \n",
       "3             NasseHeger     139.0  \n",
       "1               tacolamp       5.0  \n",
       "2         trytheCOLDchai       9.0  \n",
       "4              Momaroria       9.0  \n",
       "5                drewd0g       7.0  \n",
       "6             _Mr_JokeR_       4.0  \n",
       "7        Subtle_srikhand       9.0  \n",
       "8            LobbethThou       5.0  \n",
       "9            Supermandtm      16.0  \n",
       "10        BurrntToast420      60.0  \n",
       "12             pumpingas      25.0  \n",
       "11  Asleep-Independent48      16.0  \n",
       "14              Diddy411     134.0  \n",
       "13           IamCat16892      35.0  \n",
       "15                ztaker      25.0  \n",
       "17     laughs_with_salad      46.0  \n",
       "16               SudoPro      30.0  \n",
       "20            UnlawfulBL      20.0  \n",
       "21              ezio8133      43.0  \n",
       "18    loneliest_diaspora       6.0  \n",
       "19         MacsNotJacked       7.0  "
      ]
     },
     "execution_count": 119,
     "metadata": {},
     "output_type": "execute_result"
    }
   ],
   "source": [
    "df_top"
   ]
  },
  {
   "cell_type": "code",
   "execution_count": 150,
   "id": "36ee21d4-b991-44e9-a079-2983250ec587",
   "metadata": {},
   "outputs": [],
   "source": [
    "df_filtered = pd.DataFrame()"
   ]
  },
  {
   "cell_type": "code",
   "execution_count": 153,
   "id": "e82c8150-1148-41e7-aded-1e1ceeb82f8e",
   "metadata": {},
   "outputs": [],
   "source": [
    "total_duration = 0\n",
    "for index, row in df_top.iterrows():\n",
    "    duration = row['duration']\n",
    "    has_awards = True if row['total_awards_received'] > 0 else False\n",
    "    \n",
    "    if total_duration < 600 or  has_awards:    \n",
    "        total_duration += row['duration']\n",
    "        df_filtered = df_filtered.append(row)"
   ]
  },
  {
   "cell_type": "code",
   "execution_count": 164,
   "id": "ba98a36b-7074-4daf-9fc1-af43e640069c",
   "metadata": {
    "collapsed": true,
    "jupyter": {
     "outputs_hidden": true
    },
    "tags": []
   },
   "outputs": [
    {
     "data": {
      "text/plain": [
       "[{'title': '\"What would you like your obituary to say?\" RIP Sean Lock',\n",
       "  'upvote_ratio': 0.97,\n",
       "  'ups': 5632.0,\n",
       "  'total_awards_received': 16.0,\n",
       "  'url': 'https://v.redd.it/i6ghfjfd35i71',\n",
       "  'name': 't3_p6u5f4',\n",
       "  'author': 'hey_dont_ban_me_bro',\n",
       "  'duration': 26.0},\n",
       " {'title': 'Are any women here today?',\n",
       "  'upvote_ratio': 0.97,\n",
       "  'ups': 2563.0,\n",
       "  'total_awards_received': 9.0,\n",
       "  'url': 'https://v.redd.it/3uoltpdsaai71',\n",
       "  'name': 't3_p7bjxc',\n",
       "  'author': 'NasseHeger',\n",
       "  'duration': 139.0},\n",
       " {'title': 'Parkour!',\n",
       "  'upvote_ratio': 0.88,\n",
       "  'ups': 1277.0,\n",
       "  'total_awards_received': 6.0,\n",
       "  'url': 'https://v.redd.it/sy8ola7nb6i71',\n",
       "  'name': 't3_p6z5nz',\n",
       "  'author': 'tacolamp',\n",
       "  'duration': 5.0},\n",
       " {'title': 'Take a seat, right over here',\n",
       "  'upvote_ratio': 0.97,\n",
       "  'ups': 951.0,\n",
       "  'total_awards_received': 0.0,\n",
       "  'url': 'https://v.redd.it/b4j4gz8wj7i71',\n",
       "  'name': 't3_p73sa2',\n",
       "  'author': 'trytheCOLDchai',\n",
       "  'duration': 9.0},\n",
       " {'title': \"You're not stuck, I swear.\",\n",
       "  'upvote_ratio': 0.93,\n",
       "  'ups': 546.0,\n",
       "  'total_awards_received': 3.0,\n",
       "  'url': 'https://v.redd.it/4ih9eu8ag6i71',\n",
       "  'name': 't3_p6zogy',\n",
       "  'author': 'Momaroria',\n",
       "  'duration': 9.0},\n",
       " {'title': '7.2 MagniTurd Earthquake',\n",
       "  'upvote_ratio': 0.84,\n",
       "  'ups': 263.0,\n",
       "  'total_awards_received': 0.0,\n",
       "  'url': 'https://v.redd.it/o9bvefm7l7i71',\n",
       "  'name': 't3_p73x8b',\n",
       "  'author': 'drewd0g',\n",
       "  'duration': 7.0},\n",
       " {'title': 'Hilarious and cute at the same moment 😂',\n",
       "  'upvote_ratio': 0.86,\n",
       "  'ups': 236.0,\n",
       "  'total_awards_received': 1.0,\n",
       "  'url': 'https://v.redd.it/gxugpywk36i71',\n",
       "  'name': 't3_p6y8uq',\n",
       "  'author': '_Mr_JokeR_',\n",
       "  'duration': 4.0},\n",
       " {'title': \"It's always Germany\",\n",
       "  'upvote_ratio': 0.82,\n",
       "  'ups': 98.0,\n",
       "  'total_awards_received': 0.0,\n",
       "  'url': 'https://v.redd.it/gpz9e9um55i71',\n",
       "  'name': 't3_p6uesz',\n",
       "  'author': 'Subtle_srikhand',\n",
       "  'duration': 9.0},\n",
       " {'title': 'This is how you almost lose a brand new drone…',\n",
       "  'upvote_ratio': 0.91,\n",
       "  'ups': 94.0,\n",
       "  'total_awards_received': 0.0,\n",
       "  'url': 'https://v.redd.it/08nvzofz59i71',\n",
       "  'name': 't3_p78upn',\n",
       "  'author': 'LobbethThou',\n",
       "  'duration': 5.0},\n",
       " {'title': 'Broke in a bank to make a hot pocket',\n",
       "  'upvote_ratio': 0.86,\n",
       "  'ups': 43.0,\n",
       "  'total_awards_received': 0.0,\n",
       "  'url': 'https://v.redd.it/rq85r5g899i71',\n",
       "  'name': 't3_p79357',\n",
       "  'author': 'Supermandtm',\n",
       "  'duration': 16.0},\n",
       " {'title': 'Some Mayors are just built differently',\n",
       "  'upvote_ratio': 0.82,\n",
       "  'ups': 33.0,\n",
       "  'total_awards_received': 0.0,\n",
       "  'url': 'https://v.redd.it/tcd6fn3135i71',\n",
       "  'name': 't3_p6u49s',\n",
       "  'author': 'BurrntToast420',\n",
       "  'duration': 60.0},\n",
       " {'title': 'My favorite Sean Lock moment',\n",
       "  'upvote_ratio': 0.82,\n",
       "  'ups': 27.0,\n",
       "  'total_awards_received': 0.0,\n",
       "  'url': 'https://v.redd.it/9lalyu9bz4i71',\n",
       "  'name': 't3_p6tonx',\n",
       "  'author': 'pumpingas',\n",
       "  'duration': 25.0},\n",
       " {'title': 'Society and the Reddit User(s)',\n",
       "  'upvote_ratio': 0.71,\n",
       "  'ups': 27.0,\n",
       "  'total_awards_received': 0.0,\n",
       "  'url': 'https://v.redd.it/b3sm0niwy7i71',\n",
       "  'name': 't3_p756ak',\n",
       "  'author': 'Asleep-Independent48',\n",
       "  'duration': 16.0},\n",
       " {'title': 'Study: Toddlers Regulate Behavior to Avoid Making Adults Angry',\n",
       "  'upvote_ratio': 0.65,\n",
       "  'ups': 19.0,\n",
       "  'total_awards_received': 0.0,\n",
       "  'url': 'https://v.redd.it/gf3kzkirnai71',\n",
       "  'name': 't3_p7cfej',\n",
       "  'author': 'Diddy411',\n",
       "  'duration': 134.0},\n",
       " {'title': 'My little brother made this. He says it could be the next Marvel movie',\n",
       "  'upvote_ratio': 0.67,\n",
       "  'ups': 18.0,\n",
       "  'total_awards_received': 0.0,\n",
       "  'url': 'https://v.redd.it/cnpa4kqk88i71',\n",
       "  'name': 't3_p7639v',\n",
       "  'author': 'IamCat16892',\n",
       "  'duration': 35.0},\n",
       " {'title': 'Google assistant answering the longest city name',\n",
       "  'upvote_ratio': 0.7,\n",
       "  'ups': 17.0,\n",
       "  'total_awards_received': 0.0,\n",
       "  'url': 'https://v.redd.it/7kqpkmb2z9i71',\n",
       "  'name': 't3_p7as35',\n",
       "  'author': 'ztaker',\n",
       "  'duration': 25.0},\n",
       " {'title': 'I will was your shop door for food and you cannot refuse!',\n",
       "  'upvote_ratio': 0.66,\n",
       "  'ups': 12.0,\n",
       "  'total_awards_received': 0.0,\n",
       "  'url': 'https://v.redd.it/rzroteew15i71',\n",
       "  'name': 't3_p6u0r3',\n",
       "  'author': 'laughs_with_salad',\n",
       "  'duration': 46.0},\n",
       " {'title': 'Convincing our friend we heard him stroking his noodle.',\n",
       "  'upvote_ratio': 0.61,\n",
       "  'ups': 12.0,\n",
       "  'total_awards_received': 0.0,\n",
       "  'url': 'https://v.redd.it/gic7bqxw36i71',\n",
       "  'name': 't3_p6yal9',\n",
       "  'author': 'SudoPro',\n",
       "  'duration': 30.0}]"
      ]
     },
     "execution_count": 164,
     "metadata": {},
     "output_type": "execute_result"
    }
   ],
   "source": [
    "df_filtered.to_dict('records')"
   ]
  },
  {
   "cell_type": "code",
   "execution_count": null,
   "id": "fc4c6e61-3e96-4542-839b-722a8fecb60c",
   "metadata": {
    "tags": []
   },
   "outputs": [],
   "source": []
  },
  {
   "cell_type": "code",
   "execution_count": 2,
   "id": "dc7910db-e0e5-4ac1-bc25-71d0a1e93f0a",
   "metadata": {},
   "outputs": [],
   "source": [
    "from helpers import ddb as ddb_helpers\n",
    "from entities.GatherPosts import GatherPosts\n",
    "import logging, boto3\n",
    "\n",
    "ddb = boto3.client('dynamodb')\n",
    "\n",
    "DAILY_UPLOADS_TABLE_NAME=\"DailyUploadsTable-dev\"\n",
    "logger = logging.getLogger()\n",
    "\n",
    "gather_posts = GatherPosts(subreddit='funny', logger=logger)"
   ]
  },
  {
   "cell_type": "code",
   "execution_count": 11,
   "id": "fd3f8daa-09de-4312-be26-525632d8b05d",
   "metadata": {},
   "outputs": [],
   "source": [
    "params = {\n",
    "        \"TransactItems\": [\n",
    "            {\n",
    "                \"Put\": {\n",
    "                    \"TableName\": DAILY_UPLOADS_TABLE_NAME,\n",
    "                    \"Item\": gather_posts.serialize_to_item(),\n",
    "                }\n",
    "            },\n",
    "            {\n",
    "                \"Update\": {\n",
    "                    \"TableName\": DAILY_UPLOADS_TABLE_NAME,\n",
    "                    \"Key\": {\n",
    "                        \"PK\": {\"S\": gather_posts.date},\n",
    "                        \"SK\": {\"S\": \"todays_subreddits_count\"},\n",
    "                    },\n",
    "                    \"ConditionExpression\": \"attribute_exists(PK) and attribute_exists(SK)\",\n",
    "                    \"UpdateExpression\": \"SET #count = #count + :inc, #last_processed_subreddit = :last_processed_subreddit\",\n",
    "                    \"ExpressionAttributeNames\": {\"#count\": \"count\",\n",
    "                                                 \"#last_processed_subreddit\": \"last_processed_subreddit\"},\n",
    "                    \"ExpressionAttributeValues\": {\":inc\": {\"N\": \"1\"},\n",
    "                                                   \":last_processed_subreddit\" : {\"S\": gather_posts.subreddit}},\n",
    "                }\n",
    "            },\n",
    "        ]\n",
    "    }"
   ]
  },
  {
   "cell_type": "code",
   "execution_count": null,
   "id": "128d8a73-639f-4002-b3c0-8ad8cf594705",
   "metadata": {},
   "outputs": [],
   "source": []
  },
  {
   "cell_type": "code",
   "execution_count": 12,
   "id": "eb59bc12-42f8-4125-bce2-1e532a18ef07",
   "metadata": {},
   "outputs": [
    {
     "data": {
      "text/plain": [
       "{'ResponseMetadata': {'RequestId': '4O4RUID46LSIU8SQE0T3BL0ASVVV4KQNSO5AEMVJF66Q9ASUAAJG',\n",
       "  'HTTPStatusCode': 200,\n",
       "  'HTTPHeaders': {'server': 'Server',\n",
       "   'date': 'Fri, 20 Aug 2021 09:17:45 GMT',\n",
       "   'content-type': 'application/x-amz-json-1.0',\n",
       "   'content-length': '2',\n",
       "   'connection': 'keep-alive',\n",
       "   'x-amzn-requestid': '4O4RUID46LSIU8SQE0T3BL0ASVVV4KQNSO5AEMVJF66Q9ASUAAJG',\n",
       "   'x-amz-crc32': '2745614147'},\n",
       "  'RetryAttempts': 0}}"
      ]
     },
     "execution_count": 12,
     "metadata": {},
     "output_type": "execute_result"
    }
   ],
   "source": [
    "ddb_helpers.transact_write_items(ddb, logger, **params)"
   ]
  },
  {
   "cell_type": "code",
   "execution_count": null,
   "id": "89a6bb2a-2d6d-44ca-a14a-82ece486b9da",
   "metadata": {},
   "outputs": [],
   "source": []
  },
  {
   "cell_type": "code",
   "execution_count": 3,
   "id": "3c8156b1-7f88-4ce3-81d0-ed6b45291e35",
   "metadata": {},
   "outputs": [],
   "source": [
    "key = gather_posts.key()\n",
    "\n",
    "total_subreddits_key = gather_posts.key()\n",
    "todays_subreddits_key = gather_posts.key()\n",
    "\n",
    "total_subreddits_key[\"SK\"][\"S\"] = \"total_subreddits_count\"\n",
    "todays_subreddits_key[\"SK\"][\"S\"] = \"todays_subreddits_count\"\n",
    "\n",
    "params = {\n",
    "    \"TransactItems\": [\n",
    "        {\n",
    "            \"Get\": {\n",
    "                \"Key\": total_subreddits_key,\n",
    "                \"TableName\": DAILY_UPLOADS_TABLE_NAME,\n",
    "            },\n",
    "        },\n",
    "        {\n",
    "            \"Get\": {\n",
    "                \"Key\": todays_subreddits_key,\n",
    "                \"TableName\": DAILY_UPLOADS_TABLE_NAME,\n",
    "            },\n",
    "        },\n",
    "    ]\n",
    "}"
   ]
  },
  {
   "cell_type": "code",
   "execution_count": 4,
   "id": "703be46c-0950-4521-8685-2e1b1687e88d",
   "metadata": {},
   "outputs": [],
   "source": [
    "items = ddb_helpers.transact_get_items(ddb, logger, **params)"
   ]
  },
  {
   "cell_type": "code",
   "execution_count": 8,
   "id": "22352088-a7e8-4317-8f90-135a0bc1ac1f",
   "metadata": {},
   "outputs": [
    {
     "data": {
      "text/plain": [
       "{'SK': {'S': 'todays_subreddits_count'},\n",
       " 'count': {'N': '1'},\n",
       " 'PK': {'S': '2021-08-20'},\n",
       " 'last_processed_subreddit': {'S': 'funny'}}"
      ]
     },
     "execution_count": 8,
     "metadata": {},
     "output_type": "execute_result"
    }
   ],
   "source": [
    "items[1]"
   ]
  },
  {
   "cell_type": "code",
   "execution_count": 9,
   "id": "36a88ac7-6abb-4724-9272-c6f3d27d59d3",
   "metadata": {},
   "outputs": [],
   "source": [
    "total_subreddits_item_deserialized = GatherPosts.deserialize_PK_SK_count(items[0])"
   ]
  },
  {
   "cell_type": "code",
   "execution_count": 10,
   "id": "50ee5484-13f1-45ed-9b6f-cee95672463f",
   "metadata": {},
   "outputs": [],
   "source": [
    "todays_subreddit_item_deserialized = GatherPosts.deserialize_PK_SK_count(items[1])"
   ]
  },
  {
   "cell_type": "code",
   "execution_count": 14,
   "id": "57eb6a44-d037-4ee7-84c9-6c7f0f74d20b",
   "metadata": {},
   "outputs": [
    {
     "data": {
      "text/plain": [
       "True"
      ]
     },
     "execution_count": 14,
     "metadata": {},
     "output_type": "execute_result"
    }
   ],
   "source": [
    "total_subreddits_item_deserialized['count'] == todays_subreddit_item_deserialized['count'] and todays_subreddit_item_deserialized['last_processed_subreddit'] == gather_posts.subreddit"
   ]
  },
  {
   "cell_type": "code",
   "execution_count": 18,
   "id": "7a3054f8-7058-49b0-8ee8-548058657029",
   "metadata": {},
   "outputs": [],
   "source": [
    "total_subreddits_item_deserialized, todays_subreddits_item_deserialized = [\n",
    "        GatherPosts.deserialize_PK_SK_count(item) for item in items\n",
    "    ]"
   ]
  },
  {
   "cell_type": "code",
   "execution_count": 19,
   "id": "19525af1-6886-4cc1-89df-0fc9bfd324e3",
   "metadata": {},
   "outputs": [
    {
     "data": {
      "text/plain": [
       "{'SK': 'total_subreddits_count', 'count': '1', 'PK': '2021-08-20'}"
      ]
     },
     "execution_count": 19,
     "metadata": {},
     "output_type": "execute_result"
    }
   ],
   "source": [
    "total_subreddits_item_deserialized"
   ]
  },
  {
   "cell_type": "code",
   "execution_count": 20,
   "id": "54e95412-4177-41d9-a5bb-9342c490d145",
   "metadata": {},
   "outputs": [
    {
     "data": {
      "text/plain": [
       "{'SK': 'todays_subreddits_count',\n",
       " 'count': '1',\n",
       " 'PK': '2021-08-20',\n",
       " 'last_processed_subreddit': 'funny'}"
      ]
     },
     "execution_count": 20,
     "metadata": {},
     "output_type": "execute_result"
    }
   ],
   "source": [
    "todays_subreddit_item_deserialized"
   ]
  },
  {
   "cell_type": "code",
   "execution_count": 22,
   "id": "0e42b97f-a061-41be-8e9a-5222e81204b6",
   "metadata": {},
   "outputs": [
    {
     "name": "stdout",
     "output_type": "stream",
     "text": [
      "True\n"
     ]
    }
   ],
   "source": [
    "print (\n",
    "        total_subreddits_item_deserialized[\"count\"]\n",
    "        == todays_subreddit_item_deserialized[\"count\"]\n",
    "        and todays_subreddit_item_deserialized[\"last_processed_subreddit\"]\n",
    "        == gather_posts.subreddit\n",
    "    )"
   ]
  },
  {
   "cell_type": "code",
   "execution_count": null,
   "id": "a7370ba0-b3f6-4d5e-9d1a-a20711af1469",
   "metadata": {},
   "outputs": [],
   "source": []
  },
  {
   "cell_type": "code",
   "execution_count": null,
   "id": "0f9296e9-f6e8-42d3-8407-88e2ac26d438",
   "metadata": {},
   "outputs": [],
   "source": []
  },
  {
   "cell_type": "code",
   "execution_count": 44,
   "id": "d8488b45-ee51-438c-a052-6b89709b88ca",
   "metadata": {},
   "outputs": [],
   "source": [
    "from helpers import s3 as s3_helpers\n",
    "import boto3, logging\n",
    "\n",
    "# Initialize logger and its config.\n",
    "logger = logging.getLogger()\n",
    "logger.setLevel(logging.INFO)\n",
    "\n",
    "s3 = boto3.client('s3')\n",
    "\n",
    "\n",
    "params = {\n",
    "    \"Bucket\":'whodoesntlovereddit-2021-08-21-funny'\n",
    "}"
   ]
  },
  {
   "cell_type": "code",
   "execution_count": 11,
   "id": "e7c3fbec-1cbf-41c0-a6b9-119c97fb7254",
   "metadata": {},
   "outputs": [
    {
     "name": "stdout",
     "output_type": "stream",
     "text": [
      "['MSG_TEMPLATE', '__cause__', '__class__', '__context__', '__delattr__', '__dict__', '__dir__', '__doc__', '__eq__', '__format__', '__ge__', '__getattribute__', '__gt__', '__hash__', '__init__', '__init_subclass__', '__le__', '__lt__', '__module__', '__ne__', '__new__', '__reduce__', '__reduce_ex__', '__repr__', '__setattr__', '__setstate__', '__sizeof__', '__str__', '__subclasshook__', '__suppress_context__', '__traceback__', '__weakref__', '_get_retry_info', 'args', 'operation_name', 'response', 'with_traceback'] 404\n"
     ]
    }
   ],
   "source": [
    "try:\n",
    "    resp = s3.head_bucket(**params)\n",
    "except s3.exceptions.ClientError as e:\n",
    "    print(dir(e), e.response['Error']['Code'])"
   ]
  },
  {
   "cell_type": "code",
   "execution_count": null,
   "id": "9010c4d6-2184-4494-926c-c99b6b56c3e8",
   "metadata": {},
   "outputs": [],
   "source": []
  },
  {
   "cell_type": "code",
   "execution_count": 13,
   "id": "e62b41e7-5b42-4fd1-8559-f9b52aa09a83",
   "metadata": {},
   "outputs": [
    {
     "data": {
      "text/plain": [
       "['funny']"
      ]
     },
     "execution_count": 13,
     "metadata": {},
     "output_type": "execute_result"
    }
   ],
   "source": [
    "def parse_subreddit_group(subreddit_group):\n",
    "    subreddit_group_arr = subreddit_group.split(\"-\")\n",
    "    return subreddit_group_arr[4:]\n",
    "\n",
    "\n",
    "\n",
    "parse_subreddit_group('whodoesntlovereddit-2021-08-21-funny')"
   ]
  },
  {
   "cell_type": "code",
   "execution_count": 40,
   "id": "569fe800-bf4a-45aa-a55d-d305072319bc",
   "metadata": {},
   "outputs": [],
   "source": [
    "post = {}\n",
    "post['url'] = 'https://v.redd.it/t0xqaksf6mi71'\n",
    "post['name'] = 't3_p8id2y'"
   ]
  },
  {
   "cell_type": "code",
   "execution_count": 45,
   "id": "0e10242e-c3a3-4b9b-b833-41a727b68ca9",
   "metadata": {},
   "outputs": [],
   "source": [
    "bucket_name = 'whodoesntlovereddit-2021-08-21-funny'\n",
    "file_name = post[\"name\"] + \".mp4\"\n",
    "file_path = \"./\" + file_name"
   ]
  },
  {
   "cell_type": "code",
   "execution_count": 42,
   "id": "016da926-1b81-4bc9-9ef6-a3a7521f35af",
   "metadata": {},
   "outputs": [],
   "source": [
    "import youtube_dl\n",
    "# ydl_opts = {\n",
    "#             \"format\": \"bestvideo[ext=mp4]+bestaudio[ext=m4a]/best[ext=mp4]/best\",\n",
    "#             \"logger\": logging.getLogger(),\n",
    "#             \"outtmpl\": file_path,\n",
    "#         }\n",
    "\n",
    "ydl_opts = {\n",
    "            \"format\": \"bestvideo[ext=mp4]+bestaudio[ext=m4a]/best[ext=mp4]/best\",\n",
    "            \"logger\": logging.getLogger(),\n",
    "            \"outtmpl\": file_path,\n",
    "        }"
   ]
  },
  {
   "cell_type": "code",
   "execution_count": 43,
   "id": "1993ee3e-d54b-4134-82c7-e3adc132d622",
   "metadata": {},
   "outputs": [],
   "source": [
    "with youtube_dl.YoutubeDL(ydl_opts) as ydl:\n",
    "    ydl.download([post[\"url\"]])"
   ]
  },
  {
   "cell_type": "code",
   "execution_count": 46,
   "id": "a23743df-cd89-4a25-a05a-6aa80307981d",
   "metadata": {},
   "outputs": [],
   "source": [
    "with open(file_path, \"rb\") as f:\n",
    "    s3.upload_fileobj(f, bucket_name, file_name)"
   ]
  },
  {
   "cell_type": "code",
   "execution_count": null,
   "id": "03897aa9-7eca-4733-98a4-c0871beddc67",
   "metadata": {},
   "outputs": [],
   "source": []
  }
 ],
 "metadata": {
  "kernelspec": {
   "display_name": "Python 3.8.10 64-bit ('.venv': venv)",
   "language": "python",
   "name": "python3810jvsc74a57bd024b555649d86f360bc29675e4ea05747664583e96f16283f97272f664e30bb4e"
  },
  "language_info": {
   "codemirror_mode": {
    "name": "ipython",
    "version": 3
   },
   "file_extension": ".py",
   "mimetype": "text/x-python",
   "name": "python",
   "nbconvert_exporter": "python",
   "pygments_lexer": "ipython3",
   "version": "3.8.10"
  }
 },
 "nbformat": 4,
 "nbformat_minor": 5
}
