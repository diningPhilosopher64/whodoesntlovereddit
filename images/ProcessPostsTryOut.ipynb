{
 "cells": [
  {
   "cell_type": "code",
   "execution_count": 8,
   "id": "ce8a5595-b850-4211-8c8d-bf4fc181dfeb",
   "metadata": {},
   "outputs": [],
   "source": [
    "import asyncio, boto3, pandas as pd, os, sys, pprint\n",
    "pp = pprint.PrettyPrinter(indent=2, compact=True, width=80)\n",
    "\n",
    "DAILY_UPLOADS_TABLE = \"DailyUploadsTable-dev\"\n",
    "ddb = boto3.client(\"dynamodb\", region_name=\"ap-south-1\")"
   ]
  },
  {
   "cell_type": "code",
   "execution_count": 9,
   "id": "0373302c-7f92-4617-a590-844090065782",
   "metadata": {
    "tags": []
   },
   "outputs": [],
   "source": [
    "# import asyncio, concurrent.futures, functools\n",
    "import concurrent.futures\n",
    "# from multiprocessing import Pool\n",
    "from subprocess import Popen, PIPE\n",
    "import logging, pprint, os\n",
    "from time import time\n",
    "\n",
    "pp = pprint.PrettyPrinter(indent=2, compact=True, width=80)\n",
    "\n",
    "\n",
    "class DownloadPosts:\n",
    "    def __init__(self, subreddit, posts, logger):\n",
    "        self.subreddit = subreddit\n",
    "        self.posts = posts\n",
    "        self.download_cmd = [\n",
    "            \"youtube-dl\",\n",
    "            \"-f\",\n",
    "            \"bestvideo[ext=mp4]+bestaudio[ext=m4a]/best[ext=mp4]/best\",\n",
    "            \"placeholder_url\",\n",
    "            \"-o\",\n",
    "            \"placeholder_title\",\n",
    "        ]\n",
    "        self.download_processes = []\n",
    "        self.logger = logger\n",
    "        self.download_processes_logs = []\n",
    "        self.tasks = {}\n",
    "        self.logger.info(\"Initialized object\")\n",
    "\n",
    "    def download_videos_from_posts(self):\n",
    "        start = time()\n",
    "        results = []\n",
    "        with concurrent.futures.ThreadPoolExecutor(max_workers=5) as executor:\n",
    "            futures = [executor.submit(download_video_from_post, post) for post in self.posts]\n",
    "        \n",
    "        for future in concurrent.futures.as_completed(futures):\n",
    "            results.append(future.result())  \n",
    "        end = time()\n",
    "    \n",
    "        self.logger.info(\"Results are:\")\n",
    "        self.logger.info(pp.pformat(results))\n",
    "\n",
    "        self.logger.info(\n",
    "            f\"Time taken to download {len(self.posts)} videos from {self.subreddit} is {round(end-start, 2)}s\"\n",
    "        )\n",
    "\n",
    "\n",
    "def download_video_from_post(post):\n",
    "    logger = logging.getLogger()\n",
    "    download_cmd = [\n",
    "        \"youtube-dl\",\n",
    "        \"-f\",\n",
    "        \"bestvideo[ext=mp4]+bestaudio[ext=m4a]/best[ext=mp4]/best\",\n",
    "        \"placeholder_url\",\n",
    "        \"-o\",\n",
    "        \"placeholder_title\",\n",
    "    ]\n",
    "\n",
    "    download_path = post[\"title\"]\n",
    "    download_cmd[3] = post[\"url\"]\n",
    "    download_cmd[5] = download_path\n",
    "\n",
    "    process = Popen(download_cmd, stderr=PIPE)\n",
    "    stdout, stderr = process.communicate()\n",
    "\n",
    "    if stderr:\n",
    "        logger.error(\"Failed to download the post:\\n\")\n",
    "        logger.error(pp.pformat(post))\n",
    "        logger.error(\"Failed with error\")\n",
    "        logger.error(pp.pformat(stderr.decode(\"utf-8\")))\n",
    "    else:\n",
    "        logger.info(\"Successfully downloaded the post:\\n\")\n",
    "        logger.info(pp.pformat(post))"
   ]
  },
  {
   "cell_type": "markdown",
   "id": "431950f8-db19-4d85-a08c-fe515fda86dc",
   "metadata": {},
   "source": [
    "# youtube-dl  command"
   ]
  },
  {
   "cell_type": "code",
   "execution_count": 10,
   "id": "38c49db5-86e3-482f-a600-c905d50c5194",
   "metadata": {},
   "outputs": [],
   "source": [
    "# !  youtube-dl -f 'bestvideo[ext=mp4]+bestaudio[ext=m4a]/best[ext=mp4]/best' https://www.reddit.com/r/IdiotsInCars/comments/p4cm -o title\n",
    "\n",
    "# !  youtube-dl -f 'bestvideo[ext=mp4]+bestaudio[ext=m4a]/best[ext=mp4]/best' https://www.reddit.com/r/IdiotsInCars/comments/p4cmjt/i_think_this_video_belongs_here/ -o title\n"
   ]
  },
  {
   "cell_type": "code",
   "execution_count": 11,
   "id": "a538fe26-f00d-47a2-83c8-c3a8d69ed0b2",
   "metadata": {},
   "outputs": [],
   "source": [
    "import logging\n",
    "posts = [\n",
    "    {\n",
    "        'url': 'https://www.reddit.com/r/IdiotsInCars/comments/p4cmjt/i_think_this_video_belongs_here/',\n",
    "        'title': 'I think this belongs here'\n",
    "    }   \n",
    "]\n",
    "\n",
    "# Initialize log config.\n",
    "logging.basicConfig(level=logging.INFO)\n",
    "logger = logging.getLogger()"
   ]
  },
  {
   "cell_type": "code",
   "execution_count": 12,
   "id": "9ab49038-9abc-40fc-a62e-f67d557d5d3b",
   "metadata": {},
   "outputs": [
    {
     "name": "stderr",
     "output_type": "stream",
     "text": [
      "INFO:root:Initialized object\n"
     ]
    }
   ],
   "source": [
    "download_posts = DownloadPosts(subreddit='funny', posts=posts, logger=logger)"
   ]
  },
  {
   "cell_type": "code",
   "execution_count": 13,
   "id": "6d049405-76a3-419c-a069-e9f7efbefefe",
   "metadata": {},
   "outputs": [
    {
     "name": "stdout",
     "output_type": "stream",
     "text": [
      "[RedditR] p4cmjt: Downloading JSON metadata\n",
      "[Reddit] nj6jgivg2dh71: Downloading m3u8 information\n",
      "[Reddit] nj6jgivg2dh71: Downloading MPD manifest\n",
      "[hlsnative] Downloading m3u8 manifest\n",
      "[hlsnative] Total fragments: 5\n",
      "[download] Destination: I think this belongs here.fhls-1530\n",
      "[download] 100% of 4.86MiB in 00:01.97MiB/s ETA 00:00:40\n",
      "[download] Destination: I think this belongs here.fdash-audio_0_132208\n",
      "[download] 100% of 482.72KiB in 00:0054MiB/s ETA 00:001\n",
      "[ffmpeg] Merging formats into \"I think this belongs here.mp4\"\n",
      "Deleting original file I think this belongs here.fhls-1530 (pass -k to keep)\n",
      "Deleting original file I think this belongs here.fdash-audio_0_132208 (pass -k to keep)\n"
     ]
    },
    {
     "name": "stderr",
     "output_type": "stream",
     "text": [
      "INFO:root:Successfully downloaded the post:\n",
      "\n",
      "INFO:root:{ 'title': 'I think this belongs here',\n",
      "  'url': 'https://www.reddit.com/r/IdiotsInCars/comments/p4cmjt/i_think_this_video_belongs_here/'}\n",
      "INFO:root:Results are:\n",
      "INFO:root:[None]\n",
      "INFO:root:Time taken to download 1 videos from funny is 4.25s\n"
     ]
    }
   ],
   "source": [
    "download_posts.download_videos_from_posts()"
   ]
  },
  {
   "cell_type": "code",
   "execution_count": 15,
   "id": "06bb5191-6533-4d22-ba4d-c2cab6a85ecd",
   "metadata": {
    "jupyter": {
     "source_hidden": true
    },
    "tags": []
   },
   "outputs": [],
   "source": [
    "item = { 'PK': {'S': '2021-08-16'},\n",
    "'SK': {'S': 'funny'},\n",
    "'posts': { 'L': [ { 'M': { 'author': {'S': 'SplungerPlunger'},\n",
    "'name': {'S': 't3_p549q6'},\n",
    "'title': {'S': 'my best goodwill find'},\n",
    "'total_awards_received': {'N': '123'},\n",
    "'ups': {'N': '73318'},\n",
    "'upvote_ratio': {'N': '0.9'},\n",
    "'url': {'S': 'https://v.redd.it/jjv7d2hdwlh71'}}},\n",
    "{ 'M': { 'author': {'S': 'Mano_____'},\n",
    "'name': {'S': 't3_p51s3k'},\n",
    "'title': {'S': 'Don’t lose your focus.'},\n",
    "'total_awards_received': {'N': '3'},\n",
    "'ups': {'N': '1854'},\n",
    "'upvote_ratio': {'N': '0.96'},\n",
    "'url': {'S': 'https://v.redd.it/0vqji3ew6lh71'}}},\n",
    "{ 'M': { 'author': {'S': 'sickwavesdude'},\n",
    "'name': {'S': 't3_p5aze4'},\n",
    "'title': { 'S': 'No ma’am, I don’t think I want '\n",
    "'this stick up my nose'},\n",
    "'total_awards_received': {'N': '4'},\n",
    "'ups': {'N': '1616'},\n",
    "'upvote_ratio': {'N': '0.92'},\n",
    "'url': {'S': 'https://v.redd.it/m9wuwn1u5oh71'}}},\n",
    "{ 'M': { 'author': {'S': 'RickHedgemints'},\n",
    "'name': {'S': 't3_p5dxgr'},\n",
    "'title': { 'S': 'In the bathroom in the dutch '\n",
    "\"amusment park ''Walibi'' there \"\n",
    "\"is a ''party button'' when \"\n",
    "'pressed disco lights and '\n",
    "'carnival music starts playing.'},\n",
    "'total_awards_received': {'N': '2'},\n",
    "'ups': {'N': '2532'},\n",
    "'upvote_ratio': {'N': '0.97'},\n",
    "'url': {'S': 'https://v.redd.it/tnilnv4jdph71'}}},\n",
    "{ 'M': { 'author': {'S': 'Havocfyw'},\n",
    "'name': {'S': 't3_p4z3lx'},\n",
    "'title': { 'S': 'The Greatest Back Yard Wrestling '\n",
    "'Entrance of All Time'},\n",
    "'total_awards_received': {'N': '1'},\n",
    "'ups': {'N': '653'},\n",
    "'upvote_ratio': {'N': '0.93'},\n",
    "'url': {'S': 'https://v.redd.it/1gmm2kphgkh71'}}},\n",
    "{ 'M': { 'author': {'S': 'Ayuno-Tan'},\n",
    "'name': {'S': 't3_p5deb6'},\n",
    "'title': { 'S': 'popsicle is a hard word '\n",
    "'sometimes...'},\n",
    "'total_awards_received': {'N': '2'},\n",
    "'ups': {'N': '831'},\n",
    "'upvote_ratio': {'N': '0.91'},\n",
    "'url': {'S': 'https://v.redd.it/bbcho3x96ph71'}}},\n",
    "{ 'M': { 'author': {'S': 'Takkenwijf87'},\n",
    "'name': {'S': 't3_p4uxpc'},\n",
    "'title': { 'S': 'These guys are called KRPP or '\n",
    "'Kiddy Ride Police Patrol and '\n",
    "'ride around town. Checking up on '\n",
    "'kiddy rides, scootmobiles and '\n",
    "'cute pets. They have their own '\n",
    "'soundtrack.'},\n",
    "'total_awards_received': {'N': '0'},\n",
    "'ups': {'N': '252'},\n",
    "'upvote_ratio': {'N': '0.92'},\n",
    "'url': {'S': 'https://v.redd.it/hmhtndidcjh71'}}},\n",
    "{ 'M': { 'author': {'S': 'jodihas2kids'},\n",
    "'name': {'S': 't3_p526ne'},\n",
    "'title': {'S': 'Puppy vs door stop'},\n",
    "'total_awards_received': {'N': '2'},\n",
    "'ups': {'N': '221'},\n",
    "'upvote_ratio': {'N': '0.91'},\n",
    "'url': {'S': 'https://v.redd.it/c070ye4ualh71'}}},\n",
    "{ 'M': { 'author': {'S': 'thistlegypsy'},\n",
    "'name': {'S': 't3_p54vum'},\n",
    "'title': { 'S': 'Difference between boys and '\n",
    "'girls'},\n",
    "'total_awards_received': {'N': '2'},\n",
    "'ups': {'N': '197'},\n",
    "'upvote_ratio': {'N': '0.77'},\n",
    "'url': {'S': 'https://v.redd.it/lx1auqcy1mh71'}}},\n",
    "{ 'M': { 'author': {'S': 'Yash817813'},\n",
    "'name': {'S': 't3_p4y3ts'},\n",
    "'title': { 'S': 'Penguin staring at the sunset 🌇 '\n",
    "'🐧'},\n",
    "'total_awards_received': {'N': '0'},\n",
    "'ups': {'N': '139'},\n",
    "'upvote_ratio': {'N': '0.88'},\n",
    "'url': {'S': 'https://v.redd.it/pjlafy467kh71'}}},\n",
    "{ 'M': { 'author': {'S': 'NoodleAstronaut'},\n",
    "'name': {'S': 't3_p5c76p'},\n",
    "'title': {'S': 'Let me see your Indian war cry!'},\n",
    "'total_awards_received': {'N': '0'},\n",
    "'ups': {'N': '254'},\n",
    "'upvote_ratio': {'N': '0.86'},\n",
    "'url': {'S': 'https://v.redd.it/tzlisrhmooh71'}}},\n",
    "{ 'M': { 'author': {'S': 'micheleberaudo'},\n",
    "'name': {'S': 't3_p4zxht'},\n",
    "'title': {'S': 'Just a normal camping day'},\n",
    "'total_awards_received': {'N': '0'},\n",
    "'ups': {'N': '69'},\n",
    "'upvote_ratio': {'N': '0.78'},\n",
    "'url': {'S': 'https://v.redd.it/bbbyix1rokh71'}}},\n",
    "{ 'M': { 'author': {'S': 'fryether'},\n",
    "'name': {'S': 't3_p563ud'},\n",
    "'title': { 'S': 'Apparently my son understands a '\n",
    "'practical joke at 11 months'},\n",
    "'total_awards_received': {'N': '1'},\n",
    "'ups': {'N': '63'},\n",
    "'upvote_ratio': {'N': '0.71'},\n",
    "'url': {'S': 'https://v.redd.it/0ulzinopgmh71'}}},\n",
    "{ 'M': { 'author': {'S': 'JehovasHitMan'},\n",
    "'name': {'S': 't3_p4v376'},\n",
    "'title': { 'S': 'Now a lawyers gonna get '\n",
    "'involved.'},\n",
    "'total_awards_received': {'N': '0'},\n",
    "'ups': {'N': '55'},\n",
    "'upvote_ratio': {'N': '0.7'},\n",
    "'url': {'S': 'https://v.redd.it/5227hzy1ejh71'}}},\n",
    "{ 'M': { 'author': {'S': 'Additional_Plant_539'},\n",
    "'name': {'S': 't3_p5fx9s'},\n",
    "'title': {'S': 'Wall To Wall Raccoons'},\n",
    "'total_awards_received': {'N': '3'},\n",
    "'ups': {'N': '195'},\n",
    "'upvote_ratio': {'N': '0.93'},\n",
    "'url': {'S': 'https://v.redd.it/uvn691wl0qh71'}}},\n",
    "{ 'M': { 'author': {'S': 'Asleep-Bat618'},\n",
    "'name': {'S': 't3_p5c1vq'},\n",
    "'title': {'S': 'DOOM'},\n",
    "'total_awards_received': {'N': '0'},\n",
    "'ups': {'N': '61'},\n",
    "'upvote_ratio': {'N': '0.81'},\n",
    "'url': {'S': 'https://v.redd.it/h0zj6rtamoh71'}}},\n",
    "{ 'M': { 'author': {'S': 'BeTTish_09'},\n",
    "'name': {'S': 't3_p4ymet'},\n",
    "'title': { 'S': 'Wait for the MOM ..and her '\n",
    "'laugh!🤣🤣'},\n",
    "'total_awards_received': {'N': '0'},\n",
    "'ups': {'N': '59'},\n",
    "'upvote_ratio': {'N': '0.71'},\n",
    "'url': {'S': 'https://v.redd.it/pa8eepnzbkh71'}}},\n",
    "{ 'M': { 'author': {'S': 'TimHamburg'},\n",
    "'name': {'S': 't3_p4ui6t'},\n",
    "'title': { 'S': 'Round Sunglasses are for '\n",
    "'Villains: Part 2'},\n",
    "'total_awards_received': {'N': '2'},\n",
    "'ups': {'N': '45'},\n",
    "'upvote_ratio': {'N': '0.79'},\n",
    "'url': {'S': 'https://v.redd.it/ubfn2mw48jh71'}}},\n",
    "{ 'M': { 'author': {'S': 'Zombyte701'},\n",
    "'name': {'S': 't3_p588s7'},\n",
    "'title': {'S': '*Fortunate son intensifies*'},\n",
    "'total_awards_received': {'N': '0'},\n",
    "'ups': {'N': '38'},\n",
    "'upvote_ratio': {'N': '0.64'},\n",
    "'url': {'S': 'https://v.redd.it/3of91poy4nh71'}}},\n",
    "{ 'M': { 'author': {'S': 'Kawamasu'},\n",
    "'name': {'S': 't3_p5d4ue'},\n",
    "'title': {'S': \"Help I'm stuck!\"},\n",
    "'total_awards_received': {'N': '0'},\n",
    "'ups': {'N': '44'},\n",
    "'upvote_ratio': {'N': '0.75'},\n",
    "'url': {'S': 'https://v.redd.it/klcr06fe2ph71'}}},\n",
    "{ 'M': { 'author': {'S': 'ErockLobster'},\n",
    "'name': {'S': 't3_p5270o'},\n",
    "'title': { 'S': 'Mission ImPAWSable (original '\n",
    "'credit to u/pazluz)'},\n",
    "'total_awards_received': {'N': '0'},\n",
    "'ups': {'N': '36'},\n",
    "'upvote_ratio': {'N': '0.77'},\n",
    "'url': {'S': 'https://v.redd.it/yqpwfe0nalh71'}}},\n",
    "{ 'M': { 'author': {'S': 'Havocfyw'},\n",
    "'name': {'S': 't3_p4wt0t'},\n",
    "'title': {'S': \"Quick, she's coming! Act casual.\"},\n",
    "'total_awards_received': {'N': '0'},\n",
    "'ups': {'N': '34'},\n",
    "'upvote_ratio': {'N': '0.73'},\n",
    "'url': {'S': 'https://v.redd.it/zamfhd9iujh71'}}},\n",
    "{ 'M': { 'author': {'S': 'PavlovsCat333'},\n",
    "'name': {'S': 't3_p56gqh'},\n",
    "'title': { 'S': 'Randy raccoons cavorting in my '\n",
    "'yard'},\n",
    "'total_awards_received': {'N': '1'},\n",
    "'ups': {'N': '35'},\n",
    "'upvote_ratio': {'N': '0.89'},\n",
    "'url': {'S': 'https://v.redd.it/6kvgjphkkmh71'}}},\n",
    "{ 'M': { 'author': {'S': 'teyko17'},\n",
    "'name': {'S': 't3_p4u6pq'},\n",
    "'title': {'S': 'A bugs life'},\n",
    "'total_awards_received': {'N': '0'},\n",
    "'ups': {'N': '33'},\n",
    "'upvote_ratio': {'N': '0.79'},\n",
    "'url': {'S': 'https://v.redd.it/ykv0v8hw4jh71'}}},\n",
    "{ 'M': { 'author': {'S': 'BostonFan69'},\n",
    "'name': {'S': 't3_p4wmra'},\n",
    "'title': {'S': 'Supr Smsh Brs Spngbb'},\n",
    "'total_awards_received': {'N': '0'},\n",
    "'ups': {'N': '27'},\n",
    "'upvote_ratio': {'N': '0.74'},\n",
    "'url': {'S': 'https://v.redd.it/y0h75ne3tjh71'}}},\n",
    "{ 'M': { 'author': {'S': 'sjstirl'},\n",
    "'name': {'S': 't3_p59ys1'},\n",
    "'title': {'S': 'Bonk'},\n",
    "'total_awards_received': {'N': '2'},\n",
    "'ups': {'N': '30'},\n",
    "'upvote_ratio': {'N': '0.64'},\n",
    "'url': {'S': 'https://v.redd.it/qwer8fccrnh71'}}},\n",
    "{ 'M': { 'author': {'S': 'gokuorkakarot'},\n",
    "'name': {'S': 't3_p4xuj4'},\n",
    "'title': {'S': 'Its the pig from loonie toons'},\n",
    "'total_awards_received': {'N': '1'},\n",
    "'ups': {'N': '22'},\n",
    "'upvote_ratio': {'N': '0.65'},\n",
    "'url': {'S': 'https://v.redd.it/atb1ud9o4kh71'}}},\n",
    "{ 'M': { 'author': {'S': 'itsavism'},\n",
    "'name': {'S': 't3_p5bc0l'},\n",
    "'title': { 'S': 'Hi All! An irrelevant fact - '\n",
    "'Kevin, Dwight and Nard Dog are '\n",
    "'my favourite.'},\n",
    "'total_awards_received': {'N': '1'},\n",
    "'ups': {'N': '17'},\n",
    "'upvote_ratio': {'N': '0.78'},\n",
    "'url': {'S': 'https://v.redd.it/l7qjmmnzaoh71'}}},\n",
    "{ 'M': { 'author': {'S': 'caswunn'},\n",
    "'name': {'S': 't3_p4vrir'},\n",
    "'title': { 'S': 'Did you know that giraffes are '\n",
    "'ticklish?'},\n",
    "'total_awards_received': {'N': '0'},\n",
    "'ups': {'N': '13'},\n",
    "'upvote_ratio': {'N': '0.71'},\n",
    "'url': {'S': 'https://v.redd.it/nish3svnkjh71'}}},\n",
    "{ 'M': { 'author': {'S': 'ItIsMathewFrom2003'},\n",
    "'name': {'S': 't3_p5b0fo'},\n",
    "'title': { 'S': 'Sad version of Happy Birthday '\n",
    "'song.'},\n",
    "'total_awards_received': {'N': '0'},\n",
    "'ups': {'N': '13'},\n",
    "'upvote_ratio': {'N': '0.72'},\n",
    "'url': {'S': 'https://v.redd.it/by7cig976oh71'}}},\n",
    "{ 'M': { 'author': {'S': 'iammisaac'},\n",
    "'name': {'S': 't3_p58d3r'},\n",
    "'title': {'S': 'She was excited to game with me'},\n",
    "'total_awards_received': {'N': '0'},\n",
    "'ups': {'N': '9'},\n",
    "'upvote_ratio': {'N': '0.57'},\n",
    "'url': {'S': 'https://v.redd.it/4ec6b0kk6nh71'}}},\n",
    "{ 'M': { 'author': {'S': 'Havocfyw'},\n",
    "'name': {'S': 't3_p4ucc8'},\n",
    "'title': { 'S': 'Ancient contraceptive '\n",
    "'technique... It takes a village'},\n",
    "'total_awards_received': {'N': '0'},\n",
    "'ups': {'N': '9'},\n",
    "'upvote_ratio': {'N': '0.59'},\n",
    "'url': {'S': 'https://v.redd.it/e5aojtkx5jh71'}}},\n",
    "{ 'M': { 'author': {'S': 'GreetingsFromAP'},\n",
    "'name': {'S': 't3_p4xe2b'},\n",
    "'title': { 'S': 'I know you are, but what am I? '\n",
    "'Reminiscence trailer looks ok, '\n",
    "'but the casting is spot on.'},\n",
    "'total_awards_received': {'N': '0'},\n",
    "'ups': {'N': '5'},\n",
    "'upvote_ratio': {'N': '0.66'},\n",
    "'url': {'S': 'https://v.redd.it/egk9tqf3zjh71'}}},\n",
    "{ 'M': { 'author': {'S': 'porygonque_19'},\n",
    "'name': {'S': 't3_p5g5v7'},\n",
    "'title': {'S': '“Baby up in this B*tch'},\n",
    "'total_awards_received': {'N': '0'},\n",
    "'ups': {'N': '1'},\n",
    "'upvote_ratio': {'N': '0.54'},\n",
    "'url': {'S': 'https://v.redd.it/41pa06q23qh71'}}},\n",
    "{ 'M': { 'author': {'S': 'bryce_engineer'},\n",
    "'name': {'S': 't3_p586sj'},\n",
    "'title': {'S': 'Poor Psyduck.'},\n",
    "'total_awards_received': {'N': '0'},\n",
    "'ups': {'N': '1'},\n",
    "'upvote_ratio': {'N': '0.52'},\n",
    "'url': { 'S': 'https://v.redd.it/wrgxtj354nh71'}}}]}}\n"
   ]
  },
  {
   "cell_type": "code",
   "execution_count": 16,
   "id": "f6e01040-2f4c-4d39-ab48-236e44ad96b1",
   "metadata": {},
   "outputs": [],
   "source": [
    "from entities.GatherPosts import GatherPosts\n",
    "from entities.DownloadPosts import DownloadPosts"
   ]
  },
  {
   "cell_type": "code",
   "execution_count": 17,
   "id": "79a229b2-6ff5-4870-96bf-b247030f560c",
   "metadata": {},
   "outputs": [],
   "source": [
    "gather_posts = GatherPosts(subreddit=\"funny\", logger=logging.getLogger())"
   ]
  },
  {
   "cell_type": "code",
   "execution_count": 22,
   "id": "24e52aae-0a0b-49d8-a5fd-a9e599ff53d3",
   "metadata": {},
   "outputs": [],
   "source": [
    "deserialized_item = GatherPosts.deserialize_from_item(item)"
   ]
  },
  {
   "cell_type": "code",
   "execution_count": 26,
   "id": "e101e205-c912-4b78-aa58-4c0e3aaa705e",
   "metadata": {},
   "outputs": [
    {
     "name": "stderr",
     "output_type": "stream",
     "text": [
      "INFO:root:Initialized object\n"
     ]
    }
   ],
   "source": [
    "posts = deserialized_item['posts']\n",
    "download_posts = DownloadPosts(subreddit='funny', posts = posts, logger=logging.getLogger())"
   ]
  },
  {
   "cell_type": "code",
   "execution_count": 27,
   "id": "94d823df-1d5e-4b76-bab4-154583108e21",
   "metadata": {
    "collapsed": true,
    "jupyter": {
     "outputs_hidden": true
    },
    "tags": []
   },
   "outputs": [
    {
     "name": "stdout",
     "output_type": "stream",
     "text": [
      "[Reddit] m9wuwn1u5oh71: Downloading m3u8 information\n",
      "[Reddit] tnilnv4jdph71: Downloading m3u8 information\n",
      "[Reddit] jjv7d2hdwlh71: Downloading m3u8 information\n",
      "[Reddit] 0vqji3ew6lh71: Downloading m3u8 information\n",
      "[Reddit] 1gmm2kphgkh71: Downloading m3u8 information\n",
      "[Reddit] tnilnv4jdph71: Downloading MPD manifest\n",
      "[Reddit] m9wuwn1u5oh71: Downloading MPD manifest\n",
      "[Reddit] 1gmm2kphgkh71: Downloading MPD manifest\n",
      "[Reddit] 0vqji3ew6lh71: Downloading MPD manifest\n",
      "[Reddit] jjv7d2hdwlh71: Downloading MPD manifest\n",
      "[download] Destination: my best goodwill find\n",
      "[download]  27.2% of 1.84MiB at  3.24MiB/s ETA 00:00known ETA"
     ]
    },
    {
     "name": "stderr",
     "output_type": "stream",
     "text": [
      "INFO:root:Successfully downloaded the post:\n",
      "\n",
      "INFO:root:{ 'author': 'SplungerPlunger',\n",
      "  'name': 't3_p549q6',\n",
      "  'title': 'my best goodwill find',\n",
      "  'total_awards_received': 123,\n",
      "  'ups': 73318,\n",
      "  'upvote_ratio': 0.9,\n",
      "  'url': 'https://v.redd.it/jjv7d2hdwlh71'}\n"
     ]
    },
    {
     "name": "stdout",
     "output_type": "stream",
     "text": [
      "[download] 100% of 1.84MiB in 00:0082MiB/s ETA 00:00\n",
      "[Reddit] bbcho3x96ph71: Downloading m3u8 information\n",
      "[Reddit] bbcho3x96ph71: Downloading MPD manifest\n",
      "[download] Destination: popsicle is a hard word sometimes....fdash-video_2124697\n",
      "[download] 100% of 2.67MiB in 00:0071MiB/s ETA 00:00known ETA\n"
     ]
    },
    {
     "name": "stderr",
     "output_type": "stream",
     "text": [
      "INFO:root:Successfully downloaded the post:\n",
      "\n",
      "INFO:root:{ 'author': 'Ayuno-Tan',\n",
      "  'name': 't3_p5deb6',\n",
      "  'title': 'popsicle is a hard word sometimes...',\n",
      "  'total_awards_received': 2,\n",
      "  'ups': 831,\n",
      "  'upvote_ratio': 0.91,\n",
      "  'url': 'https://v.redd.it/bbcho3x96ph71'}\n"
     ]
    },
    {
     "name": "stdout",
     "output_type": "stream",
     "text": [
      "[download] Destination: popsicle is a hard word sometimes....fdash-audio_0_131323\n",
      "[download] 100% of 169.42KiB in 00:0040MiB/s ETA 00:00:00wn ETA\n",
      "[ffmpeg] Merging formats into \"popsicle is a hard word sometimes....mp4\"\n",
      "Deleting original file popsicle is a hard word sometimes....fdash-video_2124697 (pass -k to keep)\n",
      "Deleting original file popsicle is a hard word sometimes....fdash-audio_0_131323 (pass -k to keep)\n",
      "[Reddit] hmhtndidcjh71: Downloading m3u8 information\n",
      "[Reddit] hmhtndidcjh71: Downloading MPD manifest\n",
      "[download] Destination: These guys are called KRPP or Kiddy Ride Police Patrol and ride around town. Checking up on kiddy rides, scootmobiles and cute pets. They have their own soundtrack..fdash-video_2272722\n",
      "[download] 100% of 6.34MiB in 00:0159MiB/s ETA 00:00known ETA\n",
      "[download] Destination: These guys are called KRPP or Kiddy Ride Police Patrol and ride around town. Checking up on kiddy rides, scootmobiles and cute pets. They have their own soundtrack..fdash-audio_0_132250\n",
      "[download] 100% of 378.21KiB in 00:0080MiB/s ETA 00:00known ETA\n",
      "[ffmpeg] Merging formats into \"These guys are called KRPP or Kiddy Ride Police Patrol and ride around town. Checking up on kiddy rides, scootmobiles and cute pets. They have their own soundtrack..mp4\"\n"
     ]
    },
    {
     "name": "stderr",
     "output_type": "stream",
     "text": [
      "INFO:root:Successfully downloaded the post:\n",
      "\n",
      "INFO:root:{ 'author': 'Takkenwijf87',\n",
      "  'name': 't3_p4uxpc',\n",
      "  'title': 'These guys are called KRPP or Kiddy Ride Police Patrol and ride '\n",
      "           'around town. Checking up on kiddy rides, scootmobiles and cute '\n",
      "           'pets. They have their own soundtrack.',\n",
      "  'total_awards_received': 0,\n",
      "  'ups': 252,\n",
      "  'upvote_ratio': 0.92,\n",
      "  'url': 'https://v.redd.it/hmhtndidcjh71'}\n"
     ]
    },
    {
     "name": "stdout",
     "output_type": "stream",
     "text": [
      "Deleting original file These guys are called KRPP or Kiddy Ride Police Patrol and ride around town. Checking up on kiddy rides, scootmobiles and cute pets. They have their own soundtrack..fdash-video_2272722 (pass -k to keep)\n",
      "Deleting original file These guys are called KRPP or Kiddy Ride Police Patrol and ride around town. Checking up on kiddy rides, scootmobiles and cute pets. They have their own soundtrack..fdash-audio_0_132250 (pass -k to keep)\n",
      "[Reddit] c070ye4ualh71: Downloading m3u8 information\n",
      "[Reddit] c070ye4ualh71: Downloading MPD manifest\n",
      "[download] Destination: Puppy vs door stop.fdash-video_2373457\n",
      "[download]  21.0% of 4.76MiB at  3.18MiB/s ETA 00:01[download] Destination: Don’t lose your focus..fdash-video_1218045\n",
      "[download] 100% of 4.76MiB in 00:0158MiB/s ETA 00:002\n",
      "[download] Destination: Puppy vs door stop.fdash-audio_0_132376\n",
      "[download] 100% of 272.60KiB in 00:0002MiB/s ETA 00:00known ETA\n",
      "[ffmpeg] Merging formats into \"Puppy vs door stop.mp4\"\n"
     ]
    },
    {
     "name": "stderr",
     "output_type": "stream",
     "text": [
      "INFO:root:Successfully downloaded the post:\n",
      "\n",
      "INFO:root:{ 'author': 'jodihas2kids',\n",
      "  'name': 't3_p526ne',\n",
      "  'title': 'Puppy vs door stop',\n",
      "  'total_awards_received': 2,\n",
      "  'ups': 221,\n",
      "  'upvote_ratio': 0.91,\n",
      "  'url': 'https://v.redd.it/c070ye4ualh71'}\n"
     ]
    },
    {
     "name": "stdout",
     "output_type": "stream",
     "text": [
      "Deleting original file Puppy vs door stop.fdash-video_2373457 (pass -k to keep)\n",
      "Deleting original file Puppy vs door stop.fdash-audio_0_132376 (pass -k to keep)\n",
      "[download] Destination: No ma’am, I don’t think I want this stick up my nose.fdash-video_2177270\n",
      "[download]   1.2% of 2.54MiB at 679.47KiB/s ETA 00:03[download] Destination: In the bathroom in the dutch amusment park ''Walibi'' there is a ''party button'' when pressed disco lights and carnival music starts playing..fdash-video_778445\n",
      "[download] 100% of 2.62MiB in 00:0756MiB/s ETA 00:003\n",
      "[Reddit] lx1auqcy1mh71: Downloading m3u8 information\n",
      "[download]  19.6% of 2.54MiB at 1015.36KiB/s ETA 00:02[Reddit] lx1auqcy1mh71: Downloading MPD manifest\n",
      "[download] Destination: Don’t lose your focus..fdash-audio_0_128163\n",
      "[download]   6.7% of 1.86MiB at 236.86KiB/s ETA 00:070known ETA"
     ]
    },
    {
     "name": "stderr",
     "output_type": "stream",
     "text": [
      "INFO:root:Successfully downloaded the post:\n",
      "\n",
      "INFO:root:{ 'author': 'Mano_____',\n",
      "  'name': 't3_p51s3k',\n",
      "  'title': 'Don’t lose your focus.',\n",
      "  'total_awards_received': 3,\n",
      "  'ups': 1854,\n",
      "  'upvote_ratio': 0.96,\n",
      "  'url': 'https://v.redd.it/0vqji3ew6lh71'}\n"
     ]
    },
    {
     "name": "stdout",
     "output_type": "stream",
     "text": [
      "[download] 100% of 283.79KiB in 00:0007MiB/s ETA 00:000\n",
      "[ffmpeg] Merging formats into \"Don’t lose your focus..mp4\"\n",
      "[download]  39.3% of 2.54MiB at  1.18MiB/s ETA 00:01Deleting original file Don’t lose your focus..fdash-video_1218045 (pass -k to keep)\n",
      "Deleting original file Don’t lose your focus..fdash-audio_0_128163 (pass -k to keep)\n",
      "[download] Destination: Difference between boys and girls.fdash-video_2422318\n",
      "[download]  13.7% of 1.82MiB at  1.47MiB/s ETA 00:0101[Reddit] pjlafy467kh71: Downloading m3u8 information\n",
      "[download] 100% of 1.86MiB in 00:0822MiB/s ETA 00:001\n",
      "[download] 100% of 2.54MiB in 00:0858MiB/s ETA 00:00\n",
      "[download]  54.9% of 1.82MiB at  2.01MiB/s ETA 00:00[download] Destination: In the bathroom in the dutch amusment park ''Walibi'' there is a ''party button'' when pressed disco lights and carnival music starts playing..fdash-audio_0_132636\n",
      "[download]  19.3% of 326.02KiB at  3.35MiB/s ETA 00:00known ETA"
     ]
    },
    {
     "name": "stderr",
     "output_type": "stream",
     "text": [
      "INFO:root:Successfully downloaded the post:\n",
      "\n",
      "INFO:root:{ 'author': 'RickHedgemints',\n",
      "  'name': 't3_p5dxgr',\n",
      "  'title': \"In the bathroom in the dutch amusment park ''Walibi'' there is a \"\n",
      "           \"''party button'' when pressed disco lights and carnival music \"\n",
      "           'starts playing.',\n",
      "  'total_awards_received': 2,\n",
      "  'ups': 2532,\n",
      "  'upvote_ratio': 0.97,\n",
      "  'url': 'https://v.redd.it/tnilnv4jdph71'}\n"
     ]
    },
    {
     "name": "stdout",
     "output_type": "stream",
     "text": [
      "[download] Destination: No ma’am, I don’t think I want this stick up my nose.fdash-audio_0_132121\n",
      "[download] 100% of 1.82MiB in 00:0042MiB/s ETA 00:00:01\n",
      "[download] 100% of 326.02KiB in 00:0034MiB/s ETA 00:00\n",
      "[ffmpeg] Merging formats into \"In the bathroom in the dutch amusment park ''Walibi'' there is a ''party button'' when pressed disco lights and carnival music starts playing..mp4\"\n",
      "[download]  19.6% of 158.45KiB at 187.90KiB/s ETA 00:00Deleting original file In the bathroom in the dutch amusment park ''Walibi'' there is a ''party button'' when pressed disco lights and carnival music starts playing..fdash-video_778445 (pass -k to keep)\n",
      "Deleting original file In the bathroom in the dutch amusment park ''Walibi'' there is a ''party button'' when pressed disco lights and carnival music starts playing..fdash-audio_0_132636 (pass -k to keep)\n",
      "[download]  39.8% of 158.45KiB at 285.23KiB/s ETA 00:00[download] Destination: Difference between boys and girls.fdash-audio_0_137425\n",
      "[download] 100% of 105.64KiB in 00:0012MiB/s ETA 00:00known ETA\n",
      "[ffmpeg] Merging formats into \"Difference between boys and girls.mp4\"\n"
     ]
    },
    {
     "name": "stderr",
     "output_type": "stream",
     "text": [
      "INFO:root:Successfully downloaded the post:\n",
      "\n",
      "INFO:root:{ 'author': 'thistlegypsy',\n",
      "  'name': 't3_p54vum',\n",
      "  'title': 'Difference between boys and girls',\n",
      "  'total_awards_received': 2,\n",
      "  'ups': 197,\n",
      "  'upvote_ratio': 0.77,\n",
      "  'url': 'https://v.redd.it/lx1auqcy1mh71'}\n",
      "INFO:root:Successfully downloaded the post:\n",
      "\n",
      "INFO:root:{ 'author': 'sickwavesdude',\n",
      "  'name': 't3_p5aze4',\n",
      "  'title': 'No ma’am, I don’t think I want this stick up my nose',\n",
      "  'total_awards_received': 4,\n",
      "  'ups': 1616,\n",
      "  'upvote_ratio': 0.92,\n",
      "  'url': 'https://v.redd.it/m9wuwn1u5oh71'}\n"
     ]
    },
    {
     "name": "stdout",
     "output_type": "stream",
     "text": [
      "[download] 100% of 158.45KiB in 00:00.08KiB/s ETA 00:00\n",
      "[ffmpeg] Merging formats into \"No ma’am, I don’t think I want this stick up my nose.mp4\"\n",
      "Deleting original file Difference between boys and girls.fdash-video_2422318 (pass -k to keep)\n",
      "Deleting original file Difference between boys and girls.fdash-audio_0_137425 (pass -k to keep)\n",
      "Deleting original file No ma’am, I don’t think I want this stick up my nose.fdash-video_2177270 (pass -k to keep)\n",
      "Deleting original file No ma’am, I don’t think I want this stick up my nose.fdash-audio_0_132121 (pass -k to keep)\n",
      "[Reddit] tzlisrhmooh71: Downloading m3u8 information\n",
      "[Reddit] tzlisrhmooh71: Downloading MPD manifest\n",
      "[Reddit] bbbyix1rokh71: Downloading m3u8 information\n",
      "[Reddit] bbbyix1rokh71: Downloading MPD manifest\n",
      "[Reddit] 0ulzinopgmh71: Downloading m3u8 information\n",
      "[Reddit] 0ulzinopgmh71: Downloading MPD manifest\n",
      "[download] Destination: Let me see your Indian war cry!.fdash-video_1184325\n",
      "[download]   7.2% of 6.93MiB at  4.73MiB/s ETA 00:01[download] Destination: Just a normal camping day.fdash-video_1196777\n",
      "[download]  10.8% of 4.64MiB at  1.40MiB/s ETA 00:026[download] Destination: The Greatest Back Yard Wrestling Entrance of All Time.fdash-video_1256199\n",
      "[download]   3.8% of 1.63MiB at 221.04KiB/s ETA 00:07[download] Destination: Apparently my son understands a practical joke at 11 months.fdash-video_800603\n",
      "[download] 100% of 1.74MiB in 00:0148MiB/s ETA 00:008\n"
     ]
    },
    {
     "name": "stderr",
     "output_type": "stream",
     "text": [
      "INFO:root:Successfully downloaded the post:\n",
      "\n",
      "INFO:root:{ 'author': 'fryether',\n",
      "  'name': 't3_p563ud',\n",
      "  'title': 'Apparently my son understands a practical joke at 11 months',\n",
      "  'total_awards_received': 1,\n",
      "  'ups': 63,\n",
      "  'upvote_ratio': 0.71,\n",
      "  'url': 'https://v.redd.it/0ulzinopgmh71'}\n"
     ]
    },
    {
     "name": "stdout",
     "output_type": "stream",
     "text": [
      "[download] Destination: Apparently my son understands a practical joke at 11 months.fdash-audio_0_133676\n",
      "[download] 100% of 297.85KiB in 00:0030MiB/s ETA 00:00known ETA\n",
      "[ffmpeg] Merging formats into \"Apparently my son understands a practical joke at 11 months.mp4\"\n",
      "Deleting original file Apparently my son understands a practical joke at 11 months.fdash-video_800603 (pass -k to keep)\n",
      "Deleting original file Apparently my son understands a practical joke at 11 months.fdash-audio_0_133676 (pass -k to keep)\n",
      "[download]  43.1% of 4.64MiB at 943.34KiB/s ETA 00:02[Reddit] 5227hzy1ejh71: Downloading m3u8 information\n",
      "[Reddit] 5227hzy1ejh71: Downloading MPD manifest\n",
      "[download]  15.3% of 1.63MiB at 145.66KiB/s ETA 00:09[hlsnative] Downloading m3u8 manifest\n",
      "[download] 100% of 6.93MiB in 00:0254MiB/s ETA 00:00\n",
      "[hlsnative] Total fragments: 4\n",
      "[download] Destination: Now a lawyers gonna get involved..fhls-1319\n",
      "[download] Destination: Let me see your Indian war cry!.fdash-audio_0_132367\n",
      "[download]   1.8% of ~3.51MiB at 575.47KiB/s ETA 00:10known ETA"
     ]
    },
    {
     "name": "stderr",
     "output_type": "stream",
     "text": [
      "INFO:root:Successfully downloaded the post:\n",
      "\n",
      "INFO:root:{ 'author': 'NoodleAstronaut',\n",
      "  'name': 't3_p5c76p',\n",
      "  'title': 'Let me see your Indian war cry!',\n",
      "  'total_awards_received': 0,\n",
      "  'ups': 254,\n",
      "  'upvote_ratio': 0.86,\n",
      "  'url': 'https://v.redd.it/tzlisrhmooh71'}\n"
     ]
    },
    {
     "name": "stdout",
     "output_type": "stream",
     "text": [
      "[download] 100% of 793.28KiB in 00:0028MiB/s ETA 00:00\n",
      "[ffmpeg] Merging formats into \"Let me see your Indian war cry!.mp4\"\n",
      "[download]   3.5% of ~3.51MiB at 738.87KiB/s ETA 00:06Deleting original file Let me see your Indian war cry!.fdash-video_1184325 (pass -k to keep)\n",
      "Deleting original file Let me see your Indian war cry!.fdash-audio_0_132367 (pass -k to keep)\n",
      "[download]  29.9% of ~3.77MiB at  4.00MiB/s ETA 00:01[Reddit] uvn691wl0qh71: Downloading m3u8 information\n",
      "[download] 100% of 3.27MiB in 00:01.74MiB/s ETA 00:000\n",
      "[download] Destination: Now a lawyers gonna get involved..fdash-audio_0_110752\n",
      "[download] 100% of 314.31KiB in 00:0079MiB/s ETA 00:000\n",
      "[ffmpeg] Merging formats into \"Now a lawyers gonna get involved..mp4\"\n"
     ]
    },
    {
     "name": "stderr",
     "output_type": "stream",
     "text": [
      "INFO:root:Successfully downloaded the post:\n",
      "\n",
      "INFO:root:{ 'author': 'JehovasHitMan',\n",
      "  'name': 't3_p4v376',\n",
      "  'title': 'Now a lawyers gonna get involved.',\n",
      "  'total_awards_received': 0,\n",
      "  'ups': 55,\n",
      "  'upvote_ratio': 0.7,\n",
      "  'url': 'https://v.redd.it/5227hzy1ejh71'}\n"
     ]
    },
    {
     "name": "stdout",
     "output_type": "stream",
     "text": [
      "Deleting original file Now a lawyers gonna get involved..fhls-1319 (pass -k to keep)\n",
      "Deleting original file Now a lawyers gonna get involved..fdash-audio_0_110752 (pass -k to keep)\n",
      "[download] 100% of 4.64MiB in 00:0408MiB/s ETA 00:00\n",
      "[download] Destination: Just a normal camping day.fdash-audio_0_132517\n",
      "[download] 100% of 527.46KiB in 00:0024MiB/s ETA 00:000\n",
      "[ffmpeg] Merging formats into \"Just a normal camping day.mp4\"\n"
     ]
    },
    {
     "name": "stderr",
     "output_type": "stream",
     "text": [
      "INFO:root:Successfully downloaded the post:\n",
      "\n",
      "INFO:root:{ 'author': 'micheleberaudo',\n",
      "  'name': 't3_p4zxht',\n",
      "  'title': 'Just a normal camping day',\n",
      "  'total_awards_received': 0,\n",
      "  'ups': 69,\n",
      "  'upvote_ratio': 0.78,\n",
      "  'url': 'https://v.redd.it/bbbyix1rokh71'}\n"
     ]
    },
    {
     "name": "stdout",
     "output_type": "stream",
     "text": [
      "Deleting original file Just a normal camping day.fdash-video_1196777 (pass -k to keep)\n",
      "Deleting original file Just a normal camping day.fdash-audio_0_132517 (pass -k to keep)\n",
      "[Reddit] h0zj6rtamoh71: Downloading m3u8 information\n",
      "[Reddit] h0zj6rtamoh71: Downloading MPD manifest\n",
      "[hlsnative] Downloading m3u8 manifest\n",
      "[hlsnative] Total fragments: 7\n",
      "[download] Destination: DOOM.fhls-1521\n",
      "[download]   0.4% of ~7.78MiB at  4.85MiB/s ETA 00:17[Reddit] pa8eepnzbkh71: Downloading m3u8 information\n",
      "[download]   6.4% of ~7.78MiB at  4.12MiB/s ETA 00:02[Reddit] pa8eepnzbkh71: Downloading MPD manifest\n",
      "[download]  61.8% of ~7.45MiB at  3.62MiB/s ETA 00:00[Reddit] pjlafy467kh71: Downloading MPD manifest\n",
      "[download] 100% of 6.70MiB in 00:01.63MiB/s ETA 00:000\n",
      "[download] Destination: DOOM.fdash-audio_0_132234\n",
      "[download] 100% of 669.93KiB in 00:0078MiB/s ETA 00:001\n",
      "[ffmpeg] Merging formats into \"DOOM.mp4\"\n"
     ]
    },
    {
     "name": "stderr",
     "output_type": "stream",
     "text": [
      "INFO:root:Successfully downloaded the post:\n",
      "\n",
      "INFO:root:{ 'author': 'Asleep-Bat618',\n",
      "  'name': 't3_p5c1vq',\n",
      "  'title': 'DOOM',\n",
      "  'total_awards_received': 0,\n",
      "  'ups': 61,\n",
      "  'upvote_ratio': 0.81,\n",
      "  'url': 'https://v.redd.it/h0zj6rtamoh71'}\n"
     ]
    },
    {
     "name": "stdout",
     "output_type": "stream",
     "text": [
      "Deleting original file DOOM.fhls-1521 (pass -k to keep)\n",
      "Deleting original file DOOM.fdash-audio_0_132234 (pass -k to keep)\n",
      "[download]  37.4% of 1.63MiB at 93.30KiB/s ETA 00:11[Reddit] ubfn2mw48jh71: Downloading m3u8 information\n",
      "[download] Destination: Penguin staring at the sunset 🌇 🐧.fdash-video_2504053\n",
      "[download]   1.5% of 2.01MiB at 811.34KiB/s ETA 00:02[Reddit] ubfn2mw48jh71: Downloading MPD manifest\n",
      "[download]  49.7% of 2.01MiB at  3.79MiB/s ETA 00:00[download] Destination: Round Sunglasses are for Villains: Part 2.fdash-video_2385311\n",
      "[download] 100% of 2.01MiB in 00:0110MiB/s ETA 00:0028\n",
      "[download]   0.8% of 15.06MiB at 879.74KiB/s ETA 00:17[download] Destination: Penguin staring at the sunset 🌇 🐧.fdash-audio_0_133209\n",
      "[download]  56.9% of 110.67KiB at  2.98MiB/s ETA 00:00known ETA"
     ]
    },
    {
     "name": "stderr",
     "output_type": "stream",
     "text": [
      "INFO:root:Successfully downloaded the post:\n",
      "\n",
      "INFO:root:{ 'author': 'Yash817813',\n",
      "  'name': 't3_p4y3ts',\n",
      "  'title': 'Penguin staring at the sunset 🌇 🐧',\n",
      "  'total_awards_received': 0,\n",
      "  'ups': 139,\n",
      "  'upvote_ratio': 0.88,\n",
      "  'url': 'https://v.redd.it/pjlafy467kh71'}\n"
     ]
    },
    {
     "name": "stdout",
     "output_type": "stream",
     "text": [
      "[download] 100% of 110.67KiB in 00:0004MiB/s ETA 00:00\n",
      "[ffmpeg] Merging formats into \"Penguin staring at the sunset 🌇 🐧.mp4\"\n",
      "[download]  40.9% of 1.63MiB at 88.81KiB/s ETA 00:11Deleting original file Penguin staring at the sunset 🌇 🐧.fdash-video_2504053 (pass -k to keep)\n",
      "Deleting original file Penguin staring at the sunset 🌇 🐧.fdash-audio_0_133209 (pass -k to keep)\n",
      "[download]  13.3% of 15.06MiB at  3.19MiB/s ETA 00:04[Reddit] 3of91poy4nh71: Downloading m3u8 information\n",
      "[Reddit] 3of91poy4nh71: Downloading MPD manifest\n",
      "[Reddit] uvn691wl0qh71: Downloading MPD manifest\n",
      "[download]  26.6% of 15.06MiB at  3.87MiB/s ETA 00:02[download] Destination: *Fortunate son intensifies*.fdash-video_2223023\n",
      "[download]   0.2% of 9.50MiB at  3.73MiB/s ETA 00:02[download] Destination: Wall To Wall Raccoons.fdash-video_1199149\n",
      "[download]   4.9% of 5.06MiB at 149.77KiB/s ETA 00:32[download] Destination: Wait for the MOM ..and her laugh!🤣🤣.fdash-video_2005886\n",
      "[download] 100% of 15.06MiB in 00:0475MiB/s ETA 00:00\n",
      "[download]  15.9% of 9.50MiB at 555.82KiB/s ETA 00:14[download] Destination: Round Sunglasses are for Villains: Part 2.fdash-audio_0_131704\n",
      "[download]  29.9% of 852.07KiB at  3.94MiB/s ETA 00:0000"
     ]
    },
    {
     "name": "stderr",
     "output_type": "stream",
     "text": [
      "INFO:root:Successfully downloaded the post:\n",
      "\n",
      "INFO:root:{ 'author': 'TimHamburg',\n",
      "  'name': 't3_p4ui6t',\n",
      "  'title': 'Round Sunglasses are for Villains: Part 2',\n",
      "  'total_awards_received': 2,\n",
      "  'ups': 45,\n",
      "  'upvote_ratio': 0.79,\n",
      "  'url': 'https://v.redd.it/ubfn2mw48jh71'}\n"
     ]
    },
    {
     "name": "stdout",
     "output_type": "stream",
     "text": [
      "[download] 100% of 852.07KiB in 00:0019MiB/s ETA 00:00\n",
      "[ffmpeg] Merging formats into \"Round Sunglasses are for Villains: Part 2.mp4\"\n",
      "Deleting original file Round Sunglasses are for Villains: Part 2.fdash-video_2385311 (pass -k to keep)\n",
      "Deleting original file Round Sunglasses are for Villains: Part 2.fdash-audio_0_131704 (pass -k to keep)\n",
      "[download]  34.1% of 9.50MiB at 909.75KiB/s ETA 00:07[Reddit] klcr06fe2ph71: Downloading m3u8 information\n",
      "[download]  42.3% of 4.17MiB at 875.52KiB/s ETA 00:02[Reddit] klcr06fe2ph71: Downloading MPD manifest\n",
      "[download] 100% of 9.50MiB in 00:0575MiB/s ETA 00:001\n",
      "[download] Destination: *Fortunate son intensifies*.fdash-audio_0_132841\n",
      "[download]   2.6% of 581.85KiB at  5.08MiB/s ETA 00:00[download] Destination: Help I'm stuck!.fdash-video_2394444\n",
      "[download] 100% of 4.17MiB in 00:0405MiB/s ETA 00:000:00\n",
      "[download]   5.8% of 8.66MiB at  1.87MiB/s ETA 00:04[download] Destination: Wait for the MOM ..and her laugh!🤣🤣.fdash-audio_0_126064\n",
      "[download] 100% of 581.85KiB in 00:0022MiB/s ETA 00:000nown ETA\n",
      "[ffmpeg] Merging formats into \"*Fortunate son intensifies*.mp4\"\n"
     ]
    },
    {
     "name": "stderr",
     "output_type": "stream",
     "text": [
      "INFO:root:Successfully downloaded the post:\n",
      "\n",
      "INFO:root:{ 'author': 'Zombyte701',\n",
      "  'name': 't3_p588s7',\n",
      "  'title': '*Fortunate son intensifies*',\n",
      "  'total_awards_received': 0,\n",
      "  'ups': 38,\n",
      "  'upvote_ratio': 0.64,\n",
      "  'url': 'https://v.redd.it/3of91poy4nh71'}\n",
      "INFO:root:Successfully downloaded the post:\n",
      "\n",
      "INFO:root:{ 'author': 'BeTTish_09',\n",
      "  'name': 't3_p4ymet',\n",
      "  'title': 'Wait for the MOM ..and her laugh!🤣🤣',\n",
      "  'total_awards_received': 0,\n",
      "  'ups': 59,\n",
      "  'upvote_ratio': 0.71,\n",
      "  'url': 'https://v.redd.it/pa8eepnzbkh71'}\n"
     ]
    },
    {
     "name": "stdout",
     "output_type": "stream",
     "text": [
      "[download] 100% of 253.86KiB in 00:0027MiB/s ETA 00:000\n",
      "[ffmpeg] Merging formats into \"Wait for the MOM ..and her laugh!🤣🤣.mp4\"\n",
      "[download]  49.2% of 1.63MiB at 55.79KiB/s ETA 00:15Deleting original file *Fortunate son intensifies*.fdash-video_2223023 (pass -k to keep)\n",
      "Deleting original file *Fortunate son intensifies*.fdash-audio_0_132841 (pass -k to keep)\n",
      "Deleting original file Wait for the MOM ..and her laugh!🤣🤣.fdash-video_2005886 (pass -k to keep)\n",
      "Deleting original file Wait for the MOM ..and her laugh!🤣🤣.fdash-audio_0_126064 (pass -k to keep)\n",
      "[download]  23.1% of 8.66MiB at  2.67MiB/s ETA 00:029[Reddit] yqpwfe0nalh71: Downloading m3u8 information\n",
      "[Reddit] zamfhd9iujh71: Downloading m3u8 information\n",
      "[download]  46.2% of 8.66MiB at  3.36MiB/s ETA 00:01[Reddit] zamfhd9iujh71: Downloading MPD manifest\n",
      "[download] Destination: Quick, she's coming! Act casual.\n",
      "[download]  59.6% of 427.50KiB at 733.02KiB/s ETA 00:00nown ETA"
     ]
    },
    {
     "name": "stderr",
     "output_type": "stream",
     "text": [
      "INFO:root:Successfully downloaded the post:\n",
      "\n",
      "INFO:root:{ 'author': 'Havocfyw',\n",
      "  'name': 't3_p4wt0t',\n",
      "  'title': \"Quick, she's coming! Act casual.\",\n",
      "  'total_awards_received': 0,\n",
      "  'ups': 34,\n",
      "  'upvote_ratio': 0.73,\n",
      "  'url': 'https://v.redd.it/zamfhd9iujh71'}\n"
     ]
    },
    {
     "name": "stdout",
     "output_type": "stream",
     "text": [
      "[download] 100% of 427.50KiB in 00:00.66KiB/s ETA 00:00\n",
      "[download] 100% of 8.66MiB in 00:0271MiB/s ETA 00:00\n",
      "[download] Destination: Help I'm stuck!.fdash-audio_0_132068\n",
      "[download]  13.0% of 485.62KiB at  3.78MiB/s ETA 00:00[Reddit] 6kvgjphkkmh71: Downloading m3u8 information\n",
      "[download]  23.2% of 5.06MiB at 151.50KiB/s ETA 00:26[Reddit] 6kvgjphkkmh71: Downloading MPD manifest\n",
      "[download] 100% of 485.62KiB in 00:0022MiB/s ETA 00:00\n",
      "[ffmpeg] Merging formats into \"Help I'm stuck!.mp4\"\n",
      "Deleting original file Help I'm stuck!.fdash-video_2394444 (pass -k to keep)\n",
      "Deleting original file Help I'm stuck!.fdash-audio_0_132068 (pass -k to keep)\n"
     ]
    },
    {
     "name": "stderr",
     "output_type": "stream",
     "text": [
      "INFO:root:Successfully downloaded the post:\n",
      "\n",
      "INFO:root:{ 'author': 'Kawamasu',\n",
      "  'name': 't3_p5d4ue',\n",
      "  'title': \"Help I'm stuck!\",\n",
      "  'total_awards_received': 0,\n",
      "  'ups': 44,\n",
      "  'upvote_ratio': 0.75,\n",
      "  'url': 'https://v.redd.it/klcr06fe2ph71'}\n"
     ]
    },
    {
     "name": "stdout",
     "output_type": "stream",
     "text": [
      "[download] Destination: Randy raccoons cavorting in my yard.fdash-video_2137467\n",
      "[download]   8.5% of 5.86MiB at  2.78MiB/s ETA 00:011nown ETA[Reddit] ykv0v8hw4jh71: Downloading m3u8 information\n",
      "[download]  17.0% of 5.86MiB at  3.07MiB/s ETA 00:01[Reddit] ykv0v8hw4jh71: Downloading MPD manifest\n",
      "[download]  51.5% of 1.63MiB at 48.90KiB/s ETA 00:16[download] Destination: A bugs life.fdash-video_1938586\n",
      "[download] 100% of 568.00KiB in 00:00.61KiB/s ETA 00:00nown ETA\n",
      "[download] Destination: A bugs life.fdash-audio_0_126222\n",
      "[download]  41.5% of 36.14KiB at  2.69MiB/s ETA 00:00known ETA"
     ]
    },
    {
     "name": "stderr",
     "output_type": "stream",
     "text": [
      "INFO:root:Successfully downloaded the post:\n",
      "\n",
      "INFO:root:{ 'author': 'teyko17',\n",
      "  'name': 't3_p4u6pq',\n",
      "  'title': 'A bugs life',\n",
      "  'total_awards_received': 0,\n",
      "  'ups': 33,\n",
      "  'upvote_ratio': 0.79,\n",
      "  'url': 'https://v.redd.it/ykv0v8hw4jh71'}\n"
     ]
    },
    {
     "name": "stdout",
     "output_type": "stream",
     "text": [
      "[download] 100% of 36.14KiB in 00:00.73KiB/s ETA 00:00\n",
      "[ffmpeg] Merging formats into \"A bugs life.mp4\"\n",
      "[download] 100% of 5.86MiB in 00:0105MiB/s ETA 00:00\n",
      "Deleting original file A bugs life.fdash-video_1938586 (pass -k to keep)\n",
      "Deleting original file A bugs life.fdash-audio_0_126222 (pass -k to keep)\n",
      "[download] Destination: Randy raccoons cavorting in my yard.fdash-audio_0_126872\n",
      "[download]  71.3% of 357.59KiB at  5.12MiB/s ETA 00:000"
     ]
    },
    {
     "name": "stderr",
     "output_type": "stream",
     "text": [
      "INFO:root:Successfully downloaded the post:\n",
      "\n",
      "INFO:root:{ 'author': 'PavlovsCat333',\n",
      "  'name': 't3_p56gqh',\n",
      "  'title': 'Randy raccoons cavorting in my yard',\n",
      "  'total_awards_received': 1,\n",
      "  'ups': 35,\n",
      "  'upvote_ratio': 0.89,\n",
      "  'url': 'https://v.redd.it/6kvgjphkkmh71'}\n"
     ]
    },
    {
     "name": "stdout",
     "output_type": "stream",
     "text": [
      "[download] 100% of 357.59KiB in 00:0001MiB/s ETA 00:00\n",
      "[ffmpeg] Merging formats into \"Randy raccoons cavorting in my yard.mp4\"\n",
      "Deleting original file Randy raccoons cavorting in my yard.fdash-video_2137467 (pass -k to keep)\n",
      "Deleting original file Randy raccoons cavorting in my yard.fdash-audio_0_126872 (pass -k to keep)\n",
      "[download]  38.0% of 5.06MiB at 193.62KiB/s ETA 00:16[Reddit] y0h75ne3tjh71: Downloading m3u8 information\n",
      "[Reddit] y0h75ne3tjh71: Downloading MPD manifest\n",
      "[download]  52.8% of 1.63MiB at 46.37KiB/s ETA 00:173[hlsnative] Downloading m3u8 manifest\n",
      "[download]  53.6% of 5.06MiB at 264.24KiB/s ETA 00:09[Reddit] qwer8fccrnh71: Downloading m3u8 information\n",
      "[hlsnative] Total fragments: 6\n",
      "[download] Destination: Supr Smsh Brs Spngbb.fhls-1014\n",
      "[Reddit] qwer8fccrnh71: Downloading MPD manifest\n",
      "[download]  16.7% of ~3.27MiB at  2.31MiB/s ETA 00:01[download] Destination: Bonk.fdash-video_2231564\n",
      "[download] 100% of 2.00MiB in 00:0166MiB/s ETA 00:0000\n",
      "[download]  83.3% of ~3.76MiB at  4.14MiB/s ETA 00:00[download] Destination: Bonk.fdash-audio_0_132396\n",
      "[download] 100% of 121.17KiB in 00:0069MiB/s ETA 00:00known ETA\n",
      "[ffmpeg] Merging formats into \"Bonk.mp4\"\n",
      "[download]  88.6% of ~3.82MiB at  5.86MiB/s ETA 00:00Deleting original file Bonk.fdash-video_2231564 (pass -k to keep)\n",
      "Deleting original file Bonk.fdash-audio_0_132396 (pass -k to keep)\n"
     ]
    },
    {
     "name": "stderr",
     "output_type": "stream",
     "text": [
      "INFO:root:Successfully downloaded the post:\n",
      "\n",
      "INFO:root:{ 'author': 'sjstirl',\n",
      "  'name': 't3_p59ys1',\n",
      "  'title': 'Bonk',\n",
      "  'total_awards_received': 2,\n",
      "  'ups': 30,\n",
      "  'upvote_ratio': 0.64,\n",
      "  'url': 'https://v.redd.it/qwer8fccrnh71'}\n"
     ]
    },
    {
     "name": "stdout",
     "output_type": "stream",
     "text": [
      "[download] 100% of 3.82MiB in 00:01.77MiB/s ETA 00:00\n",
      "[download] Destination: Supr Smsh Brs Spngbb.fdash-audio_0_132291\n",
      "[download]  41.8% of 609.58KiB at  5.43MiB/s ETA 00:001"
     ]
    },
    {
     "name": "stderr",
     "output_type": "stream",
     "text": [
      "INFO:root:Successfully downloaded the post:\n",
      "\n",
      "INFO:root:{ 'author': 'BostonFan69',\n",
      "  'name': 't3_p4wmra',\n",
      "  'title': 'Supr Smsh Brs Spngbb',\n",
      "  'total_awards_received': 0,\n",
      "  'ups': 27,\n",
      "  'upvote_ratio': 0.74,\n",
      "  'url': 'https://v.redd.it/y0h75ne3tjh71'}\n"
     ]
    },
    {
     "name": "stdout",
     "output_type": "stream",
     "text": [
      "[download] 100% of 609.58KiB in 00:0078MiB/s ETA 00:00\n",
      "[ffmpeg] Merging formats into \"Supr Smsh Brs Spngbb.mp4\"\n",
      "Deleting original file Supr Smsh Brs Spngbb.fhls-1014 (pass -k to keep)\n",
      "Deleting original file Supr Smsh Brs Spngbb.fdash-audio_0_132291 (pass -k to keep)\n",
      "[download]  56.1% of 1.63MiB at 43.91KiB/s ETA 00:16[Reddit] yqpwfe0nalh71: Downloading MPD manifest\n",
      "[download] 100% of 5.06MiB in 00:12.34KiB/s ETA 00:00\n",
      "[Reddit] atb1ud9o4kh71: Downloading m3u8 information\n",
      "[download] Destination: Wall To Wall Raccoons.fdash-audio_0_132805\n",
      "[download]   5.4% of 573.41KiB at  7.94MiB/s ETA 00:00[Reddit] atb1ud9o4kh71: Downloading MPD manifest\n",
      "[download] 100% of 573.41KiB in 00:0022MiB/s ETA 00:00\n",
      "[ffmpeg] Merging formats into \"Wall To Wall Raccoons.mp4\"\n"
     ]
    },
    {
     "name": "stderr",
     "output_type": "stream",
     "text": [
      "INFO:root:Successfully downloaded the post:\n",
      "\n",
      "INFO:root:{ 'author': 'Additional_Plant_539',\n",
      "  'name': 't3_p5fx9s',\n",
      "  'title': 'Wall To Wall Raccoons',\n",
      "  'total_awards_received': 3,\n",
      "  'ups': 195,\n",
      "  'upvote_ratio': 0.93,\n",
      "  'url': 'https://v.redd.it/uvn691wl0qh71'}\n"
     ]
    },
    {
     "name": "stdout",
     "output_type": "stream",
     "text": [
      "[download]  57.3% of 1.63MiB at 44.07KiB/s ETA 00:16Deleting original file Wall To Wall Raccoons.fdash-video_1199149 (pass -k to keep)\n",
      "Deleting original file Wall To Wall Raccoons.fdash-audio_0_132805 (pass -k to keep)\n",
      "[download] Destination: Mission ImPAWSable (original credit to u/pazluz).fdash-video_2389163\n",
      "[download]   4.3% of 5.72MiB at  4.84MiB/s ETA 00:01[Reddit] l7qjmmnzaoh71: Downloading m3u8 information\n",
      "[download]  17.5% of 5.72MiB at  3.41MiB/s ETA 00:01[hlsnative] Downloading m3u8 manifest\n",
      "[hlsnative] Total fragments: 3\n",
      "[download] Destination: Its the pig from loonie toons.fhls-1581\n",
      "[download]  34.9% of 5.72MiB at  4.67MiB/s ETA 00:00[Reddit] nish3svnkjh71: Downloading m3u8 information\n",
      "[download]   1.0% of ~3.02MiB at  2.09MiB/s ETA 00:10[Reddit] nish3svnkjh71: Downloading MPD manifest\n",
      "[download] 100% of 5.72MiB in 00:0126MiB/s ETA 00:0006\n",
      "[download] Destination: Mission ImPAWSable (original credit to u/pazluz).fdash-audio_0_132227\n",
      "[download] 100% of 324.64KiB in 00:0049MiB/s ETA 00:00known ETA\n",
      "[ffmpeg] Merging formats into \"Mission ImPAWSable (original credit to u/pazluz).mp4\"\n"
     ]
    },
    {
     "name": "stderr",
     "output_type": "stream",
     "text": [
      "INFO:root:Successfully downloaded the post:\n",
      "\n",
      "INFO:root:{ 'author': 'ErockLobster',\n",
      "  'name': 't3_p5270o',\n",
      "  'title': 'Mission ImPAWSable (original credit to u/pazluz)',\n",
      "  'total_awards_received': 0,\n",
      "  'ups': 36,\n",
      "  'upvote_ratio': 0.77,\n",
      "  'url': 'https://v.redd.it/yqpwfe0nalh71'}\n"
     ]
    },
    {
     "name": "stdout",
     "output_type": "stream",
     "text": [
      "Deleting original file Mission ImPAWSable (original credit to u/pazluz).fdash-video_2389163 (pass -k to keep)\n",
      "Deleting original file Mission ImPAWSable (original credit to u/pazluz).fdash-audio_0_132227 (pass -k to keep)\n",
      "[download]  16.5% of ~3.02MiB at 424.35KiB/s ETA 00:06[Reddit] by7cig976oh71: Downloading m3u8 information\n",
      "[download]  27.4% of ~3.02MiB at 552.56KiB/s ETA 00:04[Reddit] by7cig976oh71: Downloading MPD manifest\n",
      "[download]  49.5% of ~3.04MiB at  3.76MiB/s ETA 00:02[download] Destination: Sad version of Happy Birthday song..fdash-video_585675\n",
      "[download] 100% of 2.37MiB in 00:0077MiB/s ETA 00:002\n",
      "[download] Destination: Sad version of Happy Birthday song..fdash-audio_0_131190\n",
      "[download]  46.6% of 547.48KiB at  5.76MiB/s ETA 00:000"
     ]
    },
    {
     "name": "stderr",
     "output_type": "stream",
     "text": [
      "INFO:root:Successfully downloaded the post:\n",
      "\n",
      "INFO:root:{ 'author': 'ItIsMathewFrom2003',\n",
      "  'name': 't3_p5b0fo',\n",
      "  'title': 'Sad version of Happy Birthday song.',\n",
      "  'total_awards_received': 0,\n",
      "  'ups': 13,\n",
      "  'upvote_ratio': 0.72,\n",
      "  'url': 'https://v.redd.it/by7cig976oh71'}\n"
     ]
    },
    {
     "name": "stdout",
     "output_type": "stream",
     "text": [
      "[download] 100% of 547.48KiB in 00:0080MiB/s ETA 00:00\n",
      "[ffmpeg] Merging formats into \"Sad version of Happy Birthday song..mp4\"\n",
      "Deleting original file Sad version of Happy Birthday song..fdash-video_585675 (pass -k to keep)\n",
      "Deleting original file Sad version of Happy Birthday song..fdash-audio_0_131190 (pass -k to keep)\n",
      "[download]  88.6% of ~2.57MiB at  2.54MiB/s ETA 00:0000[Reddit] 4ec6b0kk6nh71: Downloading m3u8 information\n",
      "[download] 100% of 2.57MiB in 00:03.97MiB/s ETA 00:00\n",
      "[Reddit] 4ec6b0kk6nh71: Downloading MPD manifest\n",
      "[download] Destination: Its the pig from loonie toons.fdash-audio_0_132896\n",
      "[download] 100% of 247.91KiB in 00:0058MiB/s ETA 00:00known ETA\n",
      "[ffmpeg] Merging formats into \"Its the pig from loonie toons.mp4\"\n"
     ]
    },
    {
     "name": "stderr",
     "output_type": "stream",
     "text": [
      "INFO:root:Successfully downloaded the post:\n",
      "\n",
      "INFO:root:{ 'author': 'gokuorkakarot',\n",
      "  'name': 't3_p4xuj4',\n",
      "  'title': 'Its the pig from loonie toons',\n",
      "  'total_awards_received': 1,\n",
      "  'ups': 22,\n",
      "  'upvote_ratio': 0.65,\n",
      "  'url': 'https://v.redd.it/atb1ud9o4kh71'}\n"
     ]
    },
    {
     "name": "stdout",
     "output_type": "stream",
     "text": [
      "Deleting original file Its the pig from loonie toons.fhls-1581 (pass -k to keep)\n",
      "Deleting original file Its the pig from loonie toons.fdash-audio_0_132896 (pass -k to keep)\n",
      "[download] Destination: She was excited to game with me.fdash-video_2471182\n",
      "[download]  27.3% of 3.66MiB at  3.47MiB/s ETA 00:005[Reddit] e5aojtkx5jh71: Downloading m3u8 information\n",
      "[Reddit] e5aojtkx5jh71: Downloading MPD manifest\n",
      "[download]  54.6% of 3.66MiB at  4.77MiB/s ETA 00:00[download] Destination: Ancient contraceptive technique... It takes a village.fdash-video_1193444\n",
      "[download] 100% of 3.66MiB in 00:0038MiB/s ETA 00:0010\n",
      "[download]  73.6% of 1.63MiB at 46.04KiB/s ETA 00:097"
     ]
    },
    {
     "name": "stderr",
     "output_type": "stream",
     "text": [
      "INFO:root:Successfully downloaded the post:\n",
      "\n",
      "INFO:root:{ 'author': 'iammisaac',\n",
      "  'name': 't3_p58d3r',\n",
      "  'title': 'She was excited to game with me',\n",
      "  'total_awards_received': 0,\n",
      "  'ups': 9,\n",
      "  'upvote_ratio': 0.57,\n",
      "  'url': 'https://v.redd.it/4ec6b0kk6nh71'}\n"
     ]
    },
    {
     "name": "stdout",
     "output_type": "stream",
     "text": [
      "[download] Destination: She was excited to game with me.fdash-audio_0_128733\n",
      "[download] 100% of 195.61KiB in 00:0007MiB/s ETA 00:00known ETA\n",
      "[ffmpeg] Merging formats into \"She was excited to game with me.mp4\"\n",
      "Deleting original file She was excited to game with me.fdash-video_2471182 (pass -k to keep)\n",
      "Deleting original file She was excited to game with me.fdash-audio_0_128733 (pass -k to keep)\n",
      "[download]  19.3% of 10.35MiB at  3.20MiB/s ETA 00:02[Reddit] l7qjmmnzaoh71: Downloading MPD manifest\n",
      "[Reddit] egk9tqf3zjh71: Downloading m3u8 information\n",
      "[Reddit] egk9tqf3zjh71: Downloading MPD manifest\n",
      "[download]  76.6% of 1.63MiB at 46.14KiB/s ETA 00:08[download] Destination: Did you know that giraffes are ticklish?.fdash-video_2369626\n",
      "[download]   0.2% of 1.94MiB at  2.34MiB/s ETA 00:00[download] Destination: Hi All! An irrelevant fact - Kevin, Dwight and Nard Dog are my favourite..fdash-video_2070544\n",
      "[download] 100% of 10.35MiB in 00:0279MiB/s ETA 00:00\n",
      "[download]  11.4% of 8.79MiB at 675.50KiB/s ETA 00:11[download] Destination: Ancient contraceptive technique... It takes a village.fdash-audio_0_130050\n",
      "[download] 100% of 1.13MiB in 00:0013MiB/s ETA 00:000\n",
      "[ffmpeg] Merging formats into \"Ancient contraceptive technique... It takes a village.mp4\"\n",
      "Deleting original file Ancient contraceptive technique... It takes a village.fdash-video_1193444 (pass -k to keep)\n",
      "Deleting original file Ancient contraceptive technique... It takes a village.fdash-audio_0_130050 (pass -k to keep)\n"
     ]
    },
    {
     "name": "stderr",
     "output_type": "stream",
     "text": [
      "INFO:root:Successfully downloaded the post:\n",
      "\n",
      "INFO:root:{ 'author': 'Havocfyw',\n",
      "  'name': 't3_p4ucc8',\n",
      "  'title': 'Ancient contraceptive technique... It takes a village',\n",
      "  'total_awards_received': 0,\n",
      "  'ups': 9,\n",
      "  'upvote_ratio': 0.59,\n",
      "  'url': 'https://v.redd.it/e5aojtkx5jh71'}\n"
     ]
    },
    {
     "name": "stdout",
     "output_type": "stream",
     "text": [
      "[download]  82.1% of 1.63MiB at 45.56KiB/s ETA 00:068[Reddit] 41pa06q23qh71: Downloading m3u8 information\n",
      "[download] 100% of 8.79MiB in 00:0426MiB/s ETA 00:007\n",
      "[download] Destination: Hi All! An irrelevant fact - Kevin, Dwight and Nard Dog are my favourite..fdash-audio_0_132064\n",
      "[download]  88.9% of 574.70KiB at  4.76MiB/s ETA 00:000"
     ]
    },
    {
     "name": "stderr",
     "output_type": "stream",
     "text": [
      "INFO:root:Successfully downloaded the post:\n",
      "\n",
      "INFO:root:{ 'author': 'itsavism',\n",
      "  'name': 't3_p5bc0l',\n",
      "  'title': 'Hi All! An irrelevant fact - Kevin, Dwight and Nard Dog are my '\n",
      "           'favourite.',\n",
      "  'total_awards_received': 1,\n",
      "  'ups': 17,\n",
      "  'upvote_ratio': 0.78,\n",
      "  'url': 'https://v.redd.it/l7qjmmnzaoh71'}\n"
     ]
    },
    {
     "name": "stdout",
     "output_type": "stream",
     "text": [
      "[download] 100% of 574.70KiB in 00:0072MiB/s ETA 00:00\n",
      "[ffmpeg] Merging formats into \"Hi All! An irrelevant fact - Kevin, Dwight and Nard Dog are my favourite..mp4\"\n",
      "[download]  84.2% of 1.63MiB at 44.04KiB/s ETA 00:06Deleting original file Hi All! An irrelevant fact - Kevin, Dwight and Nard Dog are my favourite..fdash-video_2070544 (pass -k to keep)\n",
      "Deleting original file Hi All! An irrelevant fact - Kevin, Dwight and Nard Dog are my favourite..fdash-audio_0_132064 (pass -k to keep)\n",
      "[download]  85.3% of 1.63MiB at 44.20KiB/s ETA 00:05[Reddit] wrgxtj354nh71: Downloading m3u8 information\n",
      "[download]  78.7% of 1.94MiB at 334.50KiB/s ETA 00:01[Reddit] wrgxtj354nh71: Downloading MPD manifest\n",
      "[download] 100% of 1.94MiB in 00:05.97KiB/s ETA 00:00\n",
      "[download]  87.6% of 1.63MiB at 44.72KiB/s ETA 00:04[download] Destination: Poor Psyduck..fdash-video_2415870\n",
      "[download]   1.2% of 5.26MiB at  3.17MiB/s ETA 00:01[download] Destination: Did you know that giraffes are ticklish?.fdash-audio_0_132024\n",
      "[download] 100% of 110.78KiB in 00:00.00KiB/s ETA 00:00nown ETA\n",
      "[ffmpeg] Merging formats into \"Did you know that giraffes are ticklish?.mp4\"\n",
      "Deleting original file Did you know that giraffes are ticklish?.fdash-video_2369626 (pass -k to keep)\n",
      "Deleting original file Did you know that giraffes are ticklish?.fdash-audio_0_132024 (pass -k to keep)\n"
     ]
    },
    {
     "name": "stderr",
     "output_type": "stream",
     "text": [
      "INFO:root:Successfully downloaded the post:\n",
      "\n",
      "INFO:root:{ 'author': 'caswunn',\n",
      "  'name': 't3_p4vrir',\n",
      "  'title': 'Did you know that giraffes are ticklish?',\n",
      "  'total_awards_received': 0,\n",
      "  'ups': 13,\n",
      "  'upvote_ratio': 0.71,\n",
      "  'url': 'https://v.redd.it/nish3svnkjh71'}\n"
     ]
    },
    {
     "name": "stdout",
     "output_type": "stream",
     "text": [
      "[download] 100% of 5.26MiB in 00:0151MiB/s ETA 00:00\n",
      "[download] Destination: Poor Psyduck..fdash-audio_0_131978\n",
      "[download] 100% of 294.40KiB in 00:0001MiB/s ETA 00:00known ETA\n",
      "[ffmpeg] Merging formats into \"Poor Psyduck..mp4\"\n"
     ]
    },
    {
     "name": "stderr",
     "output_type": "stream",
     "text": [
      "INFO:root:Successfully downloaded the post:\n",
      "\n",
      "INFO:root:{ 'author': 'bryce_engineer',\n",
      "  'name': 't3_p586sj',\n",
      "  'title': 'Poor Psyduck.',\n",
      "  'total_awards_received': 0,\n",
      "  'ups': 1,\n",
      "  'upvote_ratio': 0.52,\n",
      "  'url': 'https://v.redd.it/wrgxtj354nh71'}\n"
     ]
    },
    {
     "name": "stdout",
     "output_type": "stream",
     "text": [
      "Deleting original file Poor Psyduck..fdash-video_2415870 (pass -k to keep)\n",
      "Deleting original file Poor Psyduck..fdash-audio_0_131978 (pass -k to keep)\n",
      "[download] 100% of 1.63MiB in 00:4543KiB/s ETA 00:00\n",
      "[download] Destination: The Greatest Back Yard Wrestling Entrance of All Time.fdash-audio_0_133193\n",
      "[download]   8.5% of 176.07KiB at  6.17MiB/s ETA 00:00[Reddit] 41pa06q23qh71: Downloading MPD manifest\n",
      "[download] 100% of 176.07KiB in 00:0019MiB/s ETA 00:00\n",
      "[ffmpeg] Merging formats into \"The Greatest Back Yard Wrestling Entrance of All Time.mp4\"\n",
      "Deleting original file The Greatest Back Yard Wrestling Entrance of All Time.fdash-video_1256199 (pass -k to keep)\n",
      "Deleting original file The Greatest Back Yard Wrestling Entrance of All Time.fdash-audio_0_133193 (pass -k to keep)\n"
     ]
    },
    {
     "name": "stderr",
     "output_type": "stream",
     "text": [
      "INFO:root:Successfully downloaded the post:\n",
      "\n",
      "INFO:root:{ 'author': 'Havocfyw',\n",
      "  'name': 't3_p4z3lx',\n",
      "  'title': 'The Greatest Back Yard Wrestling Entrance of All Time',\n",
      "  'total_awards_received': 1,\n",
      "  'ups': 653,\n",
      "  'upvote_ratio': 0.93,\n",
      "  'url': 'https://v.redd.it/1gmm2kphgkh71'}\n"
     ]
    },
    {
     "name": "stdout",
     "output_type": "stream",
     "text": [
      "[download] Destination: “Baby up in this B*tch.fdash-video_2456635\n",
      "[download] 100% of 2.67MiB in 00:0070MiB/s ETA 00:00known ETA\n"
     ]
    },
    {
     "name": "stderr",
     "output_type": "stream",
     "text": [
      "INFO:root:Successfully downloaded the post:\n",
      "\n",
      "INFO:root:{ 'author': 'porygonque_19',\n",
      "  'name': 't3_p5g5v7',\n",
      "  'title': '“Baby up in this B*tch',\n",
      "  'total_awards_received': 0,\n",
      "  'ups': 1,\n",
      "  'upvote_ratio': 0.54,\n",
      "  'url': 'https://v.redd.it/41pa06q23qh71'}\n"
     ]
    },
    {
     "name": "stdout",
     "output_type": "stream",
     "text": [
      "[download] Destination: “Baby up in this B*tch.fdash-audio_0_133738\n",
      "[download] 100% of 149.60KiB in 00:0023MiB/s ETA 00:00:00wn ETA\n",
      "[ffmpeg] Merging formats into \"“Baby up in this B*tch.mp4\"\n",
      "Deleting original file “Baby up in this B*tch.fdash-video_2456635 (pass -k to keep)\n",
      "Deleting original file “Baby up in this B*tch.fdash-audio_0_133738 (pass -k to keep)\n",
      "[download] Destination: I know you are, but what am I? Reminiscence trailer looks ok, but the casting is spot on..fdash-video_1034695\n",
      "[download] 100% of 4.31MiB in 00:1130MiB/s ETA 00:005\n",
      "[download] Destination: I know you are, but what am I? Reminiscence trailer looks ok, but the casting is spot on..fdash-audio_0_129978\n",
      "[download]  45.8% of 556.94KiB at  5.28MiB/s ETA 00:000"
     ]
    },
    {
     "name": "stderr",
     "output_type": "stream",
     "text": [
      "INFO:root:Successfully downloaded the post:\n",
      "\n",
      "INFO:root:{ 'author': 'GreetingsFromAP',\n",
      "  'name': 't3_p4xe2b',\n",
      "  'title': 'I know you are, but what am I? Reminiscence trailer looks ok, but '\n",
      "           'the casting is spot on.',\n",
      "  'total_awards_received': 0,\n",
      "  'ups': 5,\n",
      "  'upvote_ratio': 0.66,\n",
      "  'url': 'https://v.redd.it/egk9tqf3zjh71'}\n",
      "INFO:root:Results are:\n",
      "INFO:root:[ None, None, None, None, None, None, None, None, None, None, None, None, None,\n",
      "  None, None, None, None, None, None, None, None, None, None, None, None, None,\n",
      "  None, None, None, None, None, None, None, None, None]\n",
      "INFO:root:Time taken to download 35 videos from funny is 51.13s\n"
     ]
    },
    {
     "name": "stdout",
     "output_type": "stream",
     "text": [
      "[download] 100% of 556.94KiB in 00:0038MiB/s ETA 00:00\n",
      "[ffmpeg] Merging formats into \"I know you are, but what am I? Reminiscence trailer looks ok, but the casting is spot on..mp4\"\n",
      "Deleting original file I know you are, but what am I? Reminiscence trailer looks ok, but the casting is spot on..fdash-video_1034695 (pass -k to keep)\n",
      "Deleting original file I know you are, but what am I? Reminiscence trailer looks ok, but the casting is spot on..fdash-audio_0_129978 (pass -k to keep)\n"
     ]
    }
   ],
   "source": [
    "download_posts.download_videos_from_posts()"
   ]
  },
  {
   "cell_type": "code",
   "execution_count": 15,
   "id": "f0f0b921-321e-46e6-ab0b-41e96fb72826",
   "metadata": {},
   "outputs": [],
   "source": [
    "import youtube_dl, logging\n",
    "\n",
    "# bestvideo[ext=mp4]+bestaudio[ext=m4a]/best[ext=mp4]/best\n",
    "ydl_opts = {    \n",
    "\n",
    "    'format' : 'bestvideo[ext=mp4]+bestaudio[ext=m4a]/best[ext=mp4]/best',\n",
    "    'logger': logging.getLogger(),   \n",
    "    'outtmpl': 'hello'\n",
    "}\n",
    "\n",
    "# ydl_opts = {\n",
    "#     'format': 'bestaudio/best',\n",
    "#     'postprocessors': [{\n",
    "#         'key': 'FFmpegExtractAudio',\n",
    "#         'preferredcodec': 'wav',\n",
    "#         'preferredquality': '192'\n",
    "#     }],\n",
    "#     'postprocessor_args': [\n",
    "#         '-ar', '16000'\n",
    "#     ],\n",
    "#     'prefer_ffmpeg': True,\n",
    "#     'keepvideo': True\n",
    "# }"
   ]
  },
  {
   "cell_type": "code",
   "execution_count": 16,
   "id": "98f4174c-4d50-4613-b7af-94d461d8303f",
   "metadata": {},
   "outputs": [],
   "source": [
    "with youtube_dl.YoutubeDL(ydl_opts) as ydl:\n",
    "    ydl.download(['https://www.reddit.com/r/IdiotsInCars/comments/p4cmjt/i_think_this_video_belongs_here/'])"
   ]
  },
  {
   "cell_type": "code",
   "execution_count": null,
   "id": "0390eedd-4421-42f5-8009-ea259bdd9c8f",
   "metadata": {},
   "outputs": [],
   "source": []
  },
  {
   "cell_type": "markdown",
   "id": "6e41c8d1-e01f-486b-8b01-04574bbdd1f2",
   "metadata": {},
   "source": [
    "# New implementation with youtube-dl package"
   ]
  },
  {
   "cell_type": "code",
   "execution_count": 50,
   "id": "39fc0db9-ac71-49f9-8189-595ab2f7eff3",
   "metadata": {},
   "outputs": [],
   "source": [
    "# import asyncio, concurrent.futures, functools\n",
    "# import concurrent.futures\n",
    "\n",
    "from multiprocessing import Process, Pipe\n",
    "\n",
    "# from subprocess import Popen, PIPE\n",
    "import logging, pprint, os, youtube_dl\n",
    "from time import time\n",
    "\n",
    "pp = pprint.PrettyPrinter(indent=2, compact=True, width=80)\n",
    "\n",
    "\n",
    "class DownloadPosts:\n",
    "    def __init__(self, subreddit, posts, logger):\n",
    "        self.subreddit = subreddit\n",
    "        self.posts = posts\n",
    "        self.download_cmd = [\n",
    "            \"youtube-dl\",\n",
    "            \"-f\",\n",
    "            \"bestvideo[ext=mp4]+bestaudio[ext=m4a]/best[ext=mp4]/best\",\n",
    "            \"placeholder_url\",\n",
    "            \"-o\",\n",
    "            \"placeholder_title\",\n",
    "        ]\n",
    "        self.download_processes = []\n",
    "        self.logger = logger\n",
    "        self.download_processes_logs = []\n",
    "        self.tasks = {}\n",
    "\n",
    "    def __download_video_from_post(self, post, conn, logger):\n",
    "        logger.info(\n",
    "            f\"Process: {os.getpid()} is downloading video from post with title: {post['title']}\"\n",
    "        )\n",
    "        ydl_opts = {\n",
    "            \"format\": \"bestvideo[ext=mp4]+bestaudio[ext=m4a]/best[ext=mp4]/best\",\n",
    "            \"logger\": logging.getLogger(),\n",
    "            \"outtmpl\": \"/tmp/\" + post['title'],\n",
    "        }\n",
    "\n",
    "        with youtube_dl.YoutubeDL(ydl_opts) as ydl:\n",
    "            ydl.download([post[\"url\"]])\n",
    "\n",
    "        conn.send(\"done\")\n",
    "        conn.close()\n",
    "        logger.info(\n",
    "            f\"Process: {os.getpid()} finished downloading and is shutting down.\"\n",
    "        )\n",
    "\n",
    "    def download_videos_from_posts(self):\n",
    "        self.logger.info(\"Downloading videos from posts\")\n",
    "        parent_connections = []\n",
    "        processes = []\n",
    "        posts_completed = []\n",
    "        start = time()\n",
    "        for post in self.posts:\n",
    "            parent_conn, child_conn = Pipe()\n",
    "            parent_connections.append(parent_conn)\n",
    "\n",
    "            process = Process(\n",
    "                target=self.__download_video_from_post,\n",
    "                args=(post, child_conn, self.logger),\n",
    "            )\n",
    "            processes.append(process)\n",
    "\n",
    "        for process in processes:\n",
    "            process.start()\n",
    "\n",
    "        for process in processes:\n",
    "            process.join()\n",
    "\n",
    "        for parent_conn in parent_connections:\n",
    "            posts_completed.append(parent_conn.recv())\n",
    "\n",
    "        end = time()\n",
    "\n",
    "        self.logger.info(\"Received the following messages from child processes\")\n",
    "        self.logger.info(pp.pformat(posts_completed))\n",
    "        self.logger.info(\n",
    "            f\"Finished processing {posts_completed} in {round(end - start, 2)} seconds\"\n",
    "        )"
   ]
  },
  {
   "cell_type": "code",
   "execution_count": 51,
   "id": "3e2f27c2-3e64-412c-a8ad-74b21904ce83",
   "metadata": {},
   "outputs": [],
   "source": [
    "import logging\n",
    "posts = [\n",
    "    {\n",
    "        'url': 'https://www.reddit.com/r/IdiotsInCars/comments/p4cmjt/i_think_this_video_belongs_here/',\n",
    "        'title': 'I think this belongs here'\n",
    "    },\n",
    "    {\n",
    "        'url': 'https://www.reddit.com/r/IdiotsInCars/comments/p5mjbv/just_a_mustang_doing_mustang_things/',\n",
    "        'title': 'Just a Mustang doing Mustang things'\n",
    "    },\n",
    "    {\n",
    "        'url': 'https://www.reddit.com/r/therewasanattempt/comments/p5ismm/to_hop_on_a_bus/',\n",
    "        'title': 'To hop on a bus'\n",
    "    }\n",
    "]\n",
    "\n",
    "# Initialize log config.\n",
    "logging.basicConfig(level=logging.INFO)\n",
    "logger = logging.getLogger()\n"
   ]
  },
  {
   "cell_type": "code",
   "execution_count": 52,
   "id": "a0e80ec7-70be-4b7b-91fd-4feeff50b3fc",
   "metadata": {},
   "outputs": [],
   "source": [
    "download_posts = DownloadPosts(subreddit='funny', posts = posts, logger=logger)"
   ]
  },
  {
   "cell_type": "code",
   "execution_count": 53,
   "id": "2b7655ba-88cd-46a4-8f9c-9e22b66d6d2a",
   "metadata": {},
   "outputs": [
    {
     "name": "stderr",
     "output_type": "stream",
     "text": [
      "INFO:root:Downloading videos from posts\n",
      "INFO:root:Process: 19105 is downloading video from post with title: I think this belongs here\n",
      "INFO:root:Process: 19106 is downloading video from post with title: Just a Mustang doing Mustang things\n",
      "INFO:root:Process: 19111 is downloading video from post with title: To hop on a bus\n",
      "INFO:root:Process: 19111 finished downloading and is shutting down.\n",
      "INFO:root:Process: 19105 finished downloading and is shutting down.\n",
      "INFO:root:Process: 19106 finished downloading and is shutting down.\n",
      "INFO:root:Received the following messages from child processes\n",
      "INFO:root:['done', 'done', 'done']\n",
      "INFO:root:Finished processing ['done', 'done', 'done'] in 7.08 seconds\n"
     ]
    }
   ],
   "source": [
    "download_posts.download_videos_from_posts()"
   ]
  },
  {
   "cell_type": "code",
   "execution_count": null,
   "id": "92598ccd-33ca-4cf6-851f-42d20503cfd9",
   "metadata": {},
   "outputs": [],
   "source": []
  },
  {
   "cell_type": "code",
   "execution_count": null,
   "id": "d0c56733-fc39-4f87-9a4a-e68c88cdd6b1",
   "metadata": {},
   "outputs": [],
   "source": []
  },
  {
   "cell_type": "code",
   "execution_count": 2,
   "id": "950b260b-6df1-4762-92d7-a209ba616612",
   "metadata": {},
   "outputs": [],
   "source": [
    "import boto3"
   ]
  },
  {
   "cell_type": "code",
   "execution_count": 3,
   "id": "0383f60d-f65a-4765-9b8a-9b2a162a58ef",
   "metadata": {},
   "outputs": [],
   "source": [
    "s3 = boto3.client('s3')"
   ]
  },
  {
   "cell_type": "code",
   "execution_count": 58,
   "id": "b334c02c-b008-4140-8c08-37d2a08b5bd4",
   "metadata": {},
   "outputs": [],
   "source": [
    "resp = s3.create_bucket(\n",
    "    ACL=\"private\",\n",
    "    Bucket=\"whodoesntlovereddit-bla\",\n",
    "    CreateBucketConfiguration={\n",
    "        'LocationConstraint': 'ap-south-1'\n",
    "    }\n",
    ")"
   ]
  },
  {
   "cell_type": "code",
   "execution_count": 59,
   "id": "9ea14b82-510f-417f-bab8-24781c516828",
   "metadata": {},
   "outputs": [
    {
     "data": {
      "text/plain": [
       "{'ResponseMetadata': {'RequestId': 'SZ5D0FHWRJPVNK5N',\n",
       "  'HostId': 'SyR0CJaoGAm0OZcbFqL4MZqQDqeXxL6PLimAza93vG8rixk9VBOY/+V75SkQEzJyk/OQTX2y/Rc=',\n",
       "  'HTTPStatusCode': 200,\n",
       "  'HTTPHeaders': {'x-amz-id-2': 'SyR0CJaoGAm0OZcbFqL4MZqQDqeXxL6PLimAza93vG8rixk9VBOY/+V75SkQEzJyk/OQTX2y/Rc=',\n",
       "   'x-amz-request-id': 'SZ5D0FHWRJPVNK5N',\n",
       "   'date': 'Tue, 17 Aug 2021 10:14:50 GMT',\n",
       "   'location': 'http://whodoesntlovereddit-bla.s3.amazonaws.com/',\n",
       "   'server': 'AmazonS3',\n",
       "   'content-length': '0'},\n",
       "  'RetryAttempts': 0},\n",
       " 'Location': 'http://whodoesntlovereddit-bla.s3.amazonaws.com/'}"
      ]
     },
     "execution_count": 59,
     "metadata": {},
     "output_type": "execute_result"
    }
   ],
   "source": [
    "resp"
   ]
  },
  {
   "cell_type": "code",
   "execution_count": 61,
   "id": "5a732a04-cc9d-4b1f-a4e0-d3b092ce859c",
   "metadata": {},
   "outputs": [],
   "source": [
    "resp = s3.put_object(\n",
    "    Bucket='whodoesntlovereddit-bla',\n",
    "    Body='./requirements.txt',\n",
    "    Key='requirements.txt'\n",
    ")"
   ]
  },
  {
   "cell_type": "code",
   "execution_count": 17,
   "id": "b11d7ccf-bec0-4994-89c2-0d9768512cd8",
   "metadata": {},
   "outputs": [
    {
     "ename": "ClientError",
     "evalue": "An error occurred (404) when calling the HeadBucket operation: Not Found",
     "output_type": "error",
     "traceback": [
      "\u001b[0;31m---------------------------------------------------------------------------\u001b[0m",
      "\u001b[0;31mClientError\u001b[0m                               Traceback (most recent call last)",
      "\u001b[0;32m/tmp/ipykernel_80846/2960581137.py\u001b[0m in \u001b[0;36m<module>\u001b[0;34m\u001b[0m\n\u001b[0;32m----> 1\u001b[0;31m \u001b[0ms3\u001b[0m\u001b[0;34m.\u001b[0m\u001b[0mhead_bucket\u001b[0m\u001b[0;34m(\u001b[0m\u001b[0mBucket\u001b[0m\u001b[0;34m=\u001b[0m\u001b[0;34m'whodoesntlovereddit-2021-08-17-funny'\u001b[0m\u001b[0;34m)\u001b[0m\u001b[0;34m\u001b[0m\u001b[0;34m\u001b[0m\u001b[0m\n\u001b[0m",
      "\u001b[0;32m~/work/personal/whodoesntlovereddit/.venv/lib/python3.8/site-packages/botocore/client.py\u001b[0m in \u001b[0;36m_api_call\u001b[0;34m(self, *args, **kwargs)\u001b[0m\n\u001b[1;32m    384\u001b[0m                     \"%s() only accepts keyword arguments.\" % py_operation_name)\n\u001b[1;32m    385\u001b[0m             \u001b[0;31m# The \"self\" in this scope is referring to the BaseClient.\u001b[0m\u001b[0;34m\u001b[0m\u001b[0;34m\u001b[0m\u001b[0;34m\u001b[0m\u001b[0m\n\u001b[0;32m--> 386\u001b[0;31m             \u001b[0;32mreturn\u001b[0m \u001b[0mself\u001b[0m\u001b[0;34m.\u001b[0m\u001b[0m_make_api_call\u001b[0m\u001b[0;34m(\u001b[0m\u001b[0moperation_name\u001b[0m\u001b[0;34m,\u001b[0m \u001b[0mkwargs\u001b[0m\u001b[0;34m)\u001b[0m\u001b[0;34m\u001b[0m\u001b[0;34m\u001b[0m\u001b[0m\n\u001b[0m\u001b[1;32m    387\u001b[0m \u001b[0;34m\u001b[0m\u001b[0m\n\u001b[1;32m    388\u001b[0m         \u001b[0m_api_call\u001b[0m\u001b[0;34m.\u001b[0m\u001b[0m__name__\u001b[0m \u001b[0;34m=\u001b[0m \u001b[0mstr\u001b[0m\u001b[0;34m(\u001b[0m\u001b[0mpy_operation_name\u001b[0m\u001b[0;34m)\u001b[0m\u001b[0;34m\u001b[0m\u001b[0;34m\u001b[0m\u001b[0m\n",
      "\u001b[0;32m~/work/personal/whodoesntlovereddit/.venv/lib/python3.8/site-packages/botocore/client.py\u001b[0m in \u001b[0;36m_make_api_call\u001b[0;34m(self, operation_name, api_params)\u001b[0m\n\u001b[1;32m    703\u001b[0m             \u001b[0merror_code\u001b[0m \u001b[0;34m=\u001b[0m \u001b[0mparsed_response\u001b[0m\u001b[0;34m.\u001b[0m\u001b[0mget\u001b[0m\u001b[0;34m(\u001b[0m\u001b[0;34m\"Error\"\u001b[0m\u001b[0;34m,\u001b[0m \u001b[0;34m{\u001b[0m\u001b[0;34m}\u001b[0m\u001b[0;34m)\u001b[0m\u001b[0;34m.\u001b[0m\u001b[0mget\u001b[0m\u001b[0;34m(\u001b[0m\u001b[0;34m\"Code\"\u001b[0m\u001b[0;34m)\u001b[0m\u001b[0;34m\u001b[0m\u001b[0;34m\u001b[0m\u001b[0m\n\u001b[1;32m    704\u001b[0m             \u001b[0merror_class\u001b[0m \u001b[0;34m=\u001b[0m \u001b[0mself\u001b[0m\u001b[0;34m.\u001b[0m\u001b[0mexceptions\u001b[0m\u001b[0;34m.\u001b[0m\u001b[0mfrom_code\u001b[0m\u001b[0;34m(\u001b[0m\u001b[0merror_code\u001b[0m\u001b[0;34m)\u001b[0m\u001b[0;34m\u001b[0m\u001b[0;34m\u001b[0m\u001b[0m\n\u001b[0;32m--> 705\u001b[0;31m             \u001b[0;32mraise\u001b[0m \u001b[0merror_class\u001b[0m\u001b[0;34m(\u001b[0m\u001b[0mparsed_response\u001b[0m\u001b[0;34m,\u001b[0m \u001b[0moperation_name\u001b[0m\u001b[0;34m)\u001b[0m\u001b[0;34m\u001b[0m\u001b[0;34m\u001b[0m\u001b[0m\n\u001b[0m\u001b[1;32m    706\u001b[0m         \u001b[0;32melse\u001b[0m\u001b[0;34m:\u001b[0m\u001b[0;34m\u001b[0m\u001b[0;34m\u001b[0m\u001b[0m\n\u001b[1;32m    707\u001b[0m             \u001b[0;32mreturn\u001b[0m \u001b[0mparsed_response\u001b[0m\u001b[0;34m\u001b[0m\u001b[0;34m\u001b[0m\u001b[0m\n",
      "\u001b[0;31mClientError\u001b[0m: An error occurred (404) when calling the HeadBucket operation: Not Found"
     ]
    }
   ],
   "source": [
    "s3.head_bucket(Bucket='whodoesntlovereddit-2021-08-17-funny')"
   ]
  },
  {
   "cell_type": "code",
   "execution_count": 6,
   "id": "06940dc6-4ba3-4343-854e-4c9e34f8d292",
   "metadata": {},
   "outputs": [
    {
     "ename": "ClientError",
     "evalue": "An error occurred (404) when calling the HeadBucket operation: Not Found",
     "output_type": "error",
     "traceback": [
      "\u001b[0;31m---------------------------------------------------------------------------\u001b[0m",
      "\u001b[0;31mClientError\u001b[0m                               Traceback (most recent call last)",
      "\u001b[0;32m/tmp/ipykernel_80846/1778565599.py\u001b[0m in \u001b[0;36m<module>\u001b[0;34m\u001b[0m\n\u001b[0;32m----> 1\u001b[0;31m \u001b[0ms3\u001b[0m\u001b[0;34m.\u001b[0m\u001b[0mhead_bucket\u001b[0m\u001b[0;34m(\u001b[0m\u001b[0mBucket\u001b[0m\u001b[0;34m=\u001b[0m\u001b[0;34m'whodoesntlovereddit-2021-08-17-funn'\u001b[0m\u001b[0;34m)\u001b[0m\u001b[0;34m\u001b[0m\u001b[0;34m\u001b[0m\u001b[0m\n\u001b[0m",
      "\u001b[0;32m~/work/personal/whodoesntlovereddit/.venv/lib/python3.8/site-packages/botocore/client.py\u001b[0m in \u001b[0;36m_api_call\u001b[0;34m(self, *args, **kwargs)\u001b[0m\n\u001b[1;32m    384\u001b[0m                     \"%s() only accepts keyword arguments.\" % py_operation_name)\n\u001b[1;32m    385\u001b[0m             \u001b[0;31m# The \"self\" in this scope is referring to the BaseClient.\u001b[0m\u001b[0;34m\u001b[0m\u001b[0;34m\u001b[0m\u001b[0;34m\u001b[0m\u001b[0m\n\u001b[0;32m--> 386\u001b[0;31m             \u001b[0;32mreturn\u001b[0m \u001b[0mself\u001b[0m\u001b[0;34m.\u001b[0m\u001b[0m_make_api_call\u001b[0m\u001b[0;34m(\u001b[0m\u001b[0moperation_name\u001b[0m\u001b[0;34m,\u001b[0m \u001b[0mkwargs\u001b[0m\u001b[0;34m)\u001b[0m\u001b[0;34m\u001b[0m\u001b[0;34m\u001b[0m\u001b[0m\n\u001b[0m\u001b[1;32m    387\u001b[0m \u001b[0;34m\u001b[0m\u001b[0m\n\u001b[1;32m    388\u001b[0m         \u001b[0m_api_call\u001b[0m\u001b[0;34m.\u001b[0m\u001b[0m__name__\u001b[0m \u001b[0;34m=\u001b[0m \u001b[0mstr\u001b[0m\u001b[0;34m(\u001b[0m\u001b[0mpy_operation_name\u001b[0m\u001b[0;34m)\u001b[0m\u001b[0;34m\u001b[0m\u001b[0;34m\u001b[0m\u001b[0m\n",
      "\u001b[0;32m~/work/personal/whodoesntlovereddit/.venv/lib/python3.8/site-packages/botocore/client.py\u001b[0m in \u001b[0;36m_make_api_call\u001b[0;34m(self, operation_name, api_params)\u001b[0m\n\u001b[1;32m    703\u001b[0m             \u001b[0merror_code\u001b[0m \u001b[0;34m=\u001b[0m \u001b[0mparsed_response\u001b[0m\u001b[0;34m.\u001b[0m\u001b[0mget\u001b[0m\u001b[0;34m(\u001b[0m\u001b[0;34m\"Error\"\u001b[0m\u001b[0;34m,\u001b[0m \u001b[0;34m{\u001b[0m\u001b[0;34m}\u001b[0m\u001b[0;34m)\u001b[0m\u001b[0;34m.\u001b[0m\u001b[0mget\u001b[0m\u001b[0;34m(\u001b[0m\u001b[0;34m\"Code\"\u001b[0m\u001b[0;34m)\u001b[0m\u001b[0;34m\u001b[0m\u001b[0;34m\u001b[0m\u001b[0m\n\u001b[1;32m    704\u001b[0m             \u001b[0merror_class\u001b[0m \u001b[0;34m=\u001b[0m \u001b[0mself\u001b[0m\u001b[0;34m.\u001b[0m\u001b[0mexceptions\u001b[0m\u001b[0;34m.\u001b[0m\u001b[0mfrom_code\u001b[0m\u001b[0;34m(\u001b[0m\u001b[0merror_code\u001b[0m\u001b[0;34m)\u001b[0m\u001b[0;34m\u001b[0m\u001b[0;34m\u001b[0m\u001b[0m\n\u001b[0;32m--> 705\u001b[0;31m             \u001b[0;32mraise\u001b[0m \u001b[0merror_class\u001b[0m\u001b[0;34m(\u001b[0m\u001b[0mparsed_response\u001b[0m\u001b[0;34m,\u001b[0m \u001b[0moperation_name\u001b[0m\u001b[0;34m)\u001b[0m\u001b[0;34m\u001b[0m\u001b[0;34m\u001b[0m\u001b[0m\n\u001b[0m\u001b[1;32m    706\u001b[0m         \u001b[0;32melse\u001b[0m\u001b[0;34m:\u001b[0m\u001b[0;34m\u001b[0m\u001b[0;34m\u001b[0m\u001b[0m\n\u001b[1;32m    707\u001b[0m             \u001b[0;32mreturn\u001b[0m \u001b[0mparsed_response\u001b[0m\u001b[0;34m\u001b[0m\u001b[0;34m\u001b[0m\u001b[0m\n",
      "\u001b[0;31mClientError\u001b[0m: An error occurred (404) when calling the HeadBucket operation: Not Found"
     ]
    }
   ],
   "source": [
    "s3.head_bucket(Bucket='whodoesntlovereddit-2021-08-17-funn')"
   ]
  },
  {
   "cell_type": "code",
   "execution_count": 16,
   "id": "6b9ee7ca-7363-4338-a43f-26302f8d603a",
   "metadata": {},
   "outputs": [
    {
     "name": "stdout",
     "output_type": "stream",
     "text": [
      "hello\n"
     ]
    }
   ],
   "source": [
    "try:\n",
    "    s3.head_bucket(Bucket='whodoesntlovereddit-2021-08-17-funny')\n",
    "except:\n",
    "    print(\"hello\")"
   ]
  },
  {
   "cell_type": "code",
   "execution_count": 12,
   "id": "342f6283-75d4-4699-ae53-11a8b03ebb0c",
   "metadata": {},
   "outputs": [],
   "source": [
    "file_name = 'bla.mp4'\n",
    "file_path = './' + file_name\n",
    "with open(file_path, \"rb\") as f:\n",
    "            s3.upload_fileobj(f, 'whodoesntlovereddit-2021-08-17-funny', file_name)"
   ]
  },
  {
   "cell_type": "code",
   "execution_count": null,
   "id": "644084f0-3ffc-4dce-be65-4b08c2de7381",
   "metadata": {},
   "outputs": [],
   "source": []
  }
 ],
 "metadata": {
  "kernelspec": {
   "display_name": "Python 3.8.10 64-bit ('.venv': venv)",
   "language": "python",
   "name": "python3810jvsc74a57bd024b555649d86f360bc29675e4ea05747664583e96f16283f97272f664e30bb4e"
  },
  "language_info": {
   "codemirror_mode": {
    "name": "ipython",
    "version": 3
   },
   "file_extension": ".py",
   "mimetype": "text/x-python",
   "name": "python",
   "nbconvert_exporter": "python",
   "pygments_lexer": "ipython3",
   "version": "3.8.10"
  }
 },
 "nbformat": 4,
 "nbformat_minor": 5
}
