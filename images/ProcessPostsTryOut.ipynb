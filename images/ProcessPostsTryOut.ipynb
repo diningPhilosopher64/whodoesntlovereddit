{
 "cells": [
  {
   "cell_type": "code",
   "execution_count": 12,
   "id": "ce8a5595-b850-4211-8c8d-bf4fc181dfeb",
   "metadata": {},
   "outputs": [],
   "source": [
    "import asyncio, boto3, pandas as pd, os, sys, pprint\n",
    "pp = pprint.PrettyPrinter(indent=2, compact=True, width=80)\n",
    "\n",
    "DAILY_UPLOADS_TABLE = \"DailyUploadsTable-dev\"\n",
    "ddb = boto3.client(\"dynamodb\", region_name=\"ap-south-1\")"
   ]
  },
  {
   "cell_type": "code",
   "execution_count": 140,
   "id": "0373302c-7f92-4617-a590-844090065782",
   "metadata": {
    "tags": []
   },
   "outputs": [],
   "source": [
    "# import asyncio, concurrent.futures, functools\n",
    "# from concurrent.futures import ProcessPoolExecutor\n",
    "from multiprocessing import Pool\n",
    "from subprocess import Popen, PIPE\n",
    "from time import time\n",
    "\n",
    "class ProcessPosts:\n",
    "    def __init__(self, subreddit, posts,logger):\n",
    "        self.subreddit=subreddit\n",
    "        self.posts = posts\n",
    "        self.download_cmd = [\n",
    "            'youtube-dl',\n",
    "            '-f',\n",
    "            'bestvideo[ext=mp4]+bestaudio[ext=m4a]/best[ext=mp4]/best',\n",
    "            'placeholder_url',\n",
    "            '-o',\n",
    "            'placeholder_title'\n",
    "        ]\n",
    "        self.download_processes = []\n",
    "        self.logger = logger\n",
    "        self.download_processes_logs = []\n",
    "        self.tasks = {}\n",
    "        self.logger.info('Initialized object')\n",
    "        \n",
    "    \n",
    "    def download_videos_from_posts(self):      \n",
    "        start = time()\n",
    "        with Pool(len(self.posts)) as p:\n",
    "            p.map(download_video_from_post, self.posts)\n",
    "        end = time()\n",
    "        \n",
    "        self.logger.info(f\"Time taken to download {len(self.posts)} videos from {self.subreddit} is {round(end-start, 2)}s\")\n",
    "\n",
    "\n",
    "def download_video_from_post(post):\n",
    "    logger = logging.getLogger()\n",
    "    download_cmd = [\n",
    "            'youtube-dl',\n",
    "            '-f',\n",
    "            'bestvideo[ext=mp4]+bestaudio[ext=m4a]/best[ext=mp4]/best',\n",
    "            'placeholder_url',\n",
    "            '-o',\n",
    "            'placeholder_title'\n",
    "    ]\n",
    "\n",
    "    download_cmd[3] = post['url']\n",
    "    download_cmd[5] = post['title']       \n",
    "\n",
    "\n",
    "    process = Popen(download_cmd, stderr=PIPE)\n",
    "    stdout, stderr = process.communicate()\n",
    "\n",
    "    if stderr:\n",
    "        logger.error(\"Failed to download the post:\\n\")\n",
    "        logger.error(pp.pformat(post))\n",
    "        logger.error(\"Failed with error\")\n",
    "        logger.error(pp.pformat(stderr.decode('utf-8')))   \n",
    "    else:\n",
    "        logger.info(\"Successfully downloaded the post:\\n\")\n",
    "        logger.info(pp.pformat(post))\n",
    "        "
   ]
  },
  {
   "cell_type": "markdown",
   "id": "431950f8-db19-4d85-a08c-fe515fda86dc",
   "metadata": {},
   "source": [
    "# youtube-dl  command"
   ]
  },
  {
   "cell_type": "code",
   "execution_count": 141,
   "id": "38c49db5-86e3-482f-a600-c905d50c5194",
   "metadata": {},
   "outputs": [],
   "source": [
    "# !  youtube-dl -f 'bestvideo[ext=mp4]+bestaudio[ext=m4a]/best[ext=mp4]/best' https://www.reddit.com/r/IdiotsInCars/comments/p4cm -o title\n",
    "\n",
    "# !  youtube-dl -f 'bestvideo[ext=mp4]+bestaudio[ext=m4a]/best[ext=mp4]/best' https://www.reddit.com/r/IdiotsInCars/comments/p4cmjt/i_think_this_video_belongs_here/ -o title\n"
   ]
  },
  {
   "cell_type": "code",
   "execution_count": 142,
   "id": "a538fe26-f00d-47a2-83c8-c3a8d69ed0b2",
   "metadata": {},
   "outputs": [],
   "source": [
    "import logging\n",
    "posts = [\n",
    "    {\n",
    "        'url': 'https://www.reddit.com/r/IdiotsInCars/comments/p4cmjt/i_think_this_video_belongs_here/',\n",
    "        'title': 'I think this belongs here'\n",
    "    },\n",
    "    {\n",
    "        'url': 'https://www.reddit.com/r/IdiotsInCars/commen',\n",
    "        'title': 'I there'\n",
    "    },\n",
    "   \n",
    "]\n",
    "\n",
    "# Initialize log config.\n",
    "logging.basicConfig(level=logging.INFO)\n",
    "logger = logging.getLogger()"
   ]
  },
  {
   "cell_type": "code",
   "execution_count": 143,
   "id": "5c233ae9-24c6-4c45-8370-8bd080284ca9",
   "metadata": {},
   "outputs": [
    {
     "name": "stdout",
     "output_type": "stream",
     "text": [
      "0 {'url': 'https://www.reddit.com/r/IdiotsInCars/comments/p4cmjt/i_think_this_video_belongs_here/', 'title': 'I think this belongs here'}\n",
      "1 {'url': 'https://www.reddit.com/r/IdiotsInCars/commen', 'title': 'I there'}\n"
     ]
    }
   ],
   "source": [
    "for idx, post in enumerate(posts):\n",
    "    print(idx, post)"
   ]
  },
  {
   "cell_type": "code",
   "execution_count": 144,
   "id": "9ab49038-9abc-40fc-a62e-f67d557d5d3b",
   "metadata": {},
   "outputs": [
    {
     "name": "stderr",
     "output_type": "stream",
     "text": [
      "INFO:root:Initialized object\n"
     ]
    }
   ],
   "source": [
    "process_posts = ProcessPosts(subreddit='funny', posts=posts, logger=logger)"
   ]
  },
  {
   "cell_type": "code",
   "execution_count": 156,
   "id": "223a76db-cd85-4174-9b5c-46ade6c11a8a",
   "metadata": {},
   "outputs": [
    {
     "data": {
      "text/plain": [
       "'I think this belongs here.'"
      ]
     },
     "execution_count": 156,
     "metadata": {},
     "output_type": "execute_result"
    }
   ],
   "source": [
    "title = '  I think this belongs here. '\n",
    "\n",
    "title = title.strip()\n",
    "\n",
    "# title = title if title[:-1] != '.' else title[:-1]\n",
    "\n",
    "title"
   ]
  },
  {
   "cell_type": "code",
   "execution_count": 151,
   "id": "6d049405-76a3-419c-a069-e9f7efbefefe",
   "metadata": {},
   "outputs": [
    {
     "name": "stdout",
     "output_type": "stream",
     "text": [
      "[RedditR] p4cmjt: Downloading JSON metadata\n",
      "[generic] commen: Requesting header\n",
      "[generic] commen: Downloading webpage\n"
     ]
    },
    {
     "name": "stderr",
     "output_type": "stream",
     "text": [
      "ERROR:root:Failed to download the post:\n",
      "\n",
      "ERROR:root:{'title': 'I there', 'url': 'https://www.reddit.com/r/IdiotsInCars/commen'}\n",
      "ERROR:root:Failed with error\n",
      "ERROR:root:('WARNING: Could not send HEAD request to '\n",
      " 'https://www.reddit.com/r/IdiotsInCars/commen: HTTP Error 404: Not Found\\n'\n",
      " 'ERROR: Unable to download webpage: HTTP Error 404: Not Found (caused by '\n",
      " \"<HTTPError 404: 'Not Found'>); please report this issue on \"\n",
      " 'https://yt-dl.org/bug . Make sure you are using the latest version; see  '\n",
      " 'https://yt-dl.org/update  on how to update. Be sure to call youtube-dl with '\n",
      " 'the --verbose flag and include its complete output.\\n')\n"
     ]
    },
    {
     "name": "stdout",
     "output_type": "stream",
     "text": [
      "[Reddit] nj6jgivg2dh71: Downloading m3u8 information\n",
      "[Reddit] nj6jgivg2dh71: Downloading MPD manifest\n",
      "[hlsnative] Downloading m3u8 manifest\n",
      "[hlsnative] Total fragments: 5\n",
      "[download] Destination: I think this belongs here.fhls-1530\n",
      "[download] 100% of 4.86MiB in 00:01.72MiB/s ETA 00:00:05\n",
      "[download] Destination: I think this belongs here.fdash-audio_0_132208\n",
      "[download]  52.8% of 482.72KiB at  3.86MiB/s ETA 00:00known ETA"
     ]
    },
    {
     "name": "stderr",
     "output_type": "stream",
     "text": [
      "INFO:root:Successfully downloaded the post:\n",
      "\n",
      "INFO:root:{ 'title': 'I think this belongs here',\n",
      "  'url': 'https://www.reddit.com/r/IdiotsInCars/comments/p4cmjt/i_think_this_video_belongs_here/'}\n",
      "INFO:root:Time taken to download 2 videos from funny is 4.13s\n"
     ]
    },
    {
     "name": "stdout",
     "output_type": "stream",
     "text": [
      "[download] 100% of 482.72KiB in 00:0057MiB/s ETA 00:00\n",
      "[ffmpeg] Merging formats into \"I think this belongs here.mp4\"\n",
      "Deleting original file I think this belongs here.fhls-1530 (pass -k to keep)\n",
      "Deleting original file I think this belongs here.fdash-audio_0_132208 (pass -k to keep)\n"
     ]
    }
   ],
   "source": [
    "process_posts.download_videos_from_posts()"
   ]
  },
  {
   "cell_type": "code",
   "execution_count": 121,
   "id": "06bb5191-6533-4d22-ba4d-c2cab6a85ecd",
   "metadata": {},
   "outputs": [],
   "source": [
    "    "
   ]
  },
  {
   "cell_type": "code",
   "execution_count": 11,
   "id": "f6e01040-2f4c-4d39-ab48-236e44ad96b1",
   "metadata": {},
   "outputs": [
    {
     "name": "stdout",
     "output_type": "stream",
     "text": [
      "[RedditR] p4cmjt: Downloading JSON metadata\n",
      "[RedditR] p4cmjt: Downloading JSON metadata\n",
      "[Reddit] nj6jgivg2dh71: Downloading m3u8 information\n",
      "[Reddit] nj6jgivg2dh71: Downloading MPD manifest\n",
      "[hlsnative] Downloading m3u8 manifest\n",
      "[Reddit] nj6jgivg2dh71: Downloading m3u8 information\n",
      "[hlsnative] Total fragments: 5\n",
      "[download] Destination: I there.fhls-1530\n",
      "[Reddit] nj6jgivg2dh71: Downloading MPD manifest\n",
      "[download]  10.2% of ~4.89MiB at  4.07MiB/s ETA 00:01[hlsnative] Downloading m3u8 manifest\n",
      "[download]  20.0% of ~4.89MiB at  4.77MiB/s ETA 00:01[hlsnative] Total fragments: 5\n",
      "[download] Destination: I think this belongs here.fhls-1530\n",
      "[download] 100% of 4.86MiB in 00:06.09MiB/s ETA 00:00851\n",
      "[download] Destination: I there.fdash-audio_0_132208\n",
      "[download] 100% of 482.72KiB in 00:0015MiB/s ETA 00:00known ETA\n",
      "[ffmpeg] Merging formats into \"I there.mp4\"\n",
      "Deleting original file I there.fhls-1530 (pass -k to keep)\n",
      "Deleting original file I there.fdash-audio_0_132208 (pass -k to keep)\n",
      "[download]  20.0% of ~4.89MiB at 782.26KiB/s ETA 00:05None\n",
      "b''\n",
      "[download] 100% of 4.86MiB in 00:02.81MiB/s ETA 00:005\n",
      "[download] Destination: I think this belongs here.fdash-audio_0_132208\n",
      "[download] 100% of 482.72KiB in 00:0020MiB/s ETA 00:00known ETA\n",
      "[ffmpeg] Merging formats into \"I think this belongs here.mp4\"\n",
      "None\n",
      "b''\n",
      "Deleting original file I think this belongs here.fhls-1530 (pass -k to keep)\n",
      "Deleting original file I think this belongs here.fdash-audio_0_132208 (pass -k to keep)\n",
      "Time taken:  10.643651013000635\n"
     ]
    }
   ],
   "source": []
  },
  {
   "cell_type": "code",
   "execution_count": null,
   "id": "79a229b2-6ff5-4870-96bf-b247030f560c",
   "metadata": {},
   "outputs": [],
   "source": []
  }
 ],
 "metadata": {
  "kernelspec": {
   "display_name": "Python 3.8.10 64-bit ('.venv': venv)",
   "language": "python",
   "name": "python3810jvsc74a57bd024b555649d86f360bc29675e4ea05747664583e96f16283f97272f664e30bb4e"
  },
  "language_info": {
   "codemirror_mode": {
    "name": "ipython",
    "version": 3
   },
   "file_extension": ".py",
   "mimetype": "text/x-python",
   "name": "python",
   "nbconvert_exporter": "python",
   "pygments_lexer": "ipython3",
   "version": "3.8.10"
  }
 },
 "nbformat": 4,
 "nbformat_minor": 5
}
