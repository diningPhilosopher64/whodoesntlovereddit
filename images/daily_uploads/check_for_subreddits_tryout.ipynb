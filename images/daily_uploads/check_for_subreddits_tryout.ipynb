{
 "cells": [
  {
   "cell_type": "code",
   "execution_count": 14,
   "id": "1437864c-d648-4acf-8e25-1f1c2b546e52",
   "metadata": {},
   "outputs": [],
   "source": [
    "import json, boto3, asyncio, concurrent.futures, os, pprint, logging, sys\n",
    "from datetime import datetime\n",
    "\n",
    "pp = pprint.PrettyPrinter(indent=2, compact=True, width=80)\n",
    "\n",
    "# Initialize log config.\n",
    "logging.basicConfig(level=logging.INFO)\n",
    "logger = logging.getLogger()\n",
    "\n",
    "# Added the below 2 lines to let python discover files other than the handler\n",
    "# ie. enabled relative imports with the below 2 lines.\n",
    "# sys.path.append(os.path.join(os.path.dirname(__file__)))\n",
    "# sys.path.append(\"../\")\n",
    "\n",
    "from helpers import ddb as ddb_helpers\n",
    "from helpers import sqs as sqs_helpers\n",
    "\n",
    "from subredditList import subreddits as all_subreddits\n",
    "\n",
    "sqs = boto3.client(\"sqs\")\n",
    "# DAILY_UPLOADS_GATHER_POSTS_FOR_A_SUBREDDIT_QUEUE_URL = os.getenv(\n",
    "#     \"DAILY_UPLOADS_GATHER_POSTS_FOR_A_SUBREDDIT_QUEUE_URL\"\n",
    "# )\n",
    "# DAILY_UPLOADS_TABLE = os.getenv(\"DAILY_UPLOADS_TABLE_NAME\")\n",
    "\n",
    "#TODO: Uncomment above 2 lines and comment below 2 lines\n",
    "DAILY_UPLOADS_GATHER_POSTS_FOR_A_SUBREDDIT_QUEUE_URL = 'https://sqs.ap-south-1.amazonaws.com/127014180769/GatherPostsForASubreddit'\n",
    "DAILY_UPLOADS_TABLE = 'DailyUploadsTable-dev'\n",
    "\n",
    "ddb = boto3.client(\"dynamodb\", region_name=\"ap-south-1\")\n",
    "\n",
    "\n",
    "\n",
    "def push_subreddits_to_queue(logger):\n",
    "    todays_date = str(datetime.today().date())\n",
    "    params = {\n",
    "        \"QueueUrl\": DAILY_UPLOADS_GATHER_POSTS_FOR_A_SUBREDDIT_QUEUE_URL,\n",
    "        \"MessageBody\": None,\n",
    "    }\n",
    "\n",
    "    for subreddit in all_subreddits:\n",
    "        params[\"MessageBody\"] = subreddit\n",
    "        res = sqs_helpers.send_message(sqs, logger, **params)\n",
    "\n",
    "\n",
    "def run(event, context):\n",
    "    push_subreddits_to_queue(logger)\n",
    "\n",
    "    todays_date = str(datetime.today().date())\n",
    "    total_subreddit_count = str(len(all_subreddits))\n",
    "\n",
    "    params = {\n",
    "        \"TransactItems\": [\n",
    "            {\n",
    "                \"Put\": {\n",
    "                    \"TableName\": DAILY_UPLOADS_TABLE,\n",
    "                    \"Item\": {\n",
    "                        \"PK\": {\"S\": todays_date},\n",
    "                        \"SK\": {\"S\": \"total_subreddits_count\"},\n",
    "                        \"count\": {\"N\": total_subreddit_count},\n",
    "                    },\n",
    "                }\n",
    "            },\n",
    "            {\n",
    "                \"Put\": {\n",
    "                    \"TableName\": DAILY_UPLOADS_TABLE,\n",
    "                    \"Item\": {\n",
    "                        \"PK\": {\"S\": todays_date},\n",
    "                        \"SK\": {\"S\": \"todays_subreddits_count\"},\n",
    "                        \"count\": {\"N\": \"0\"},\n",
    "                    },\n",
    "                }\n",
    "            },\n",
    "        ]\n",
    "    }\n",
    "    resp = ddb_helpers.transact_write_items(ddb, logger, **params)\n",
    "\n",
    "    return resp\n"
   ]
  },
  {
   "cell_type": "code",
   "execution_count": 15,
   "id": "4bbade3f-2e8e-4f48-8915-28592a22ff59",
   "metadata": {},
   "outputs": [
    {
     "name": "stderr",
     "output_type": "stream",
     "text": [
      "INFO:root:Successfully pushed message: abruptchaos the following message to https://sqs.ap-south-1.amazonaws.com/127014180769/GatherPostsForASubreddit.\n",
      "INFO:root:Successfully pushed message: funny the following message to https://sqs.ap-south-1.amazonaws.com/127014180769/GatherPostsForASubreddit.\n"
     ]
    },
    {
     "data": {
      "text/plain": [
       "{'ResponseMetadata': {'RequestId': '0D1PVGV8P4D77QPQOCSD9UV77BVV4KQNSO5AEMVJF66Q9ASUAAJG',\n",
       "  'HTTPStatusCode': 200,\n",
       "  'HTTPHeaders': {'server': 'Server',\n",
       "   'date': 'Sun, 15 Aug 2021 14:28:26 GMT',\n",
       "   'content-type': 'application/x-amz-json-1.0',\n",
       "   'content-length': '2',\n",
       "   'connection': 'keep-alive',\n",
       "   'x-amzn-requestid': '0D1PVGV8P4D77QPQOCSD9UV77BVV4KQNSO5AEMVJF66Q9ASUAAJG',\n",
       "   'x-amz-crc32': '2745614147'},\n",
       "  'RetryAttempts': 0},\n",
       " 'status_code': 200}"
      ]
     },
     "execution_count": 15,
     "metadata": {},
     "output_type": "execute_result"
    }
   ],
   "source": [
    "run({},{})"
   ]
  },
  {
   "cell_type": "code",
   "execution_count": null,
   "id": "1649a3f2-e2d2-4c65-980f-1b7527ee4b08",
   "metadata": {},
   "outputs": [],
   "source": []
  },
  {
   "cell_type": "code",
   "execution_count": 1,
   "id": "652fee99-1428-485e-8ee6-2f3be5074412",
   "metadata": {},
   "outputs": [],
   "source": [
    "from subredditList import subreddits as all_subreddits"
   ]
  },
  {
   "cell_type": "code",
   "execution_count": 2,
   "id": "9c2fcdb7-8877-4eb1-a48a-5e73812e2b42",
   "metadata": {},
   "outputs": [
    {
     "data": {
      "text/plain": [
       "['abruptchaos', 'funny']"
      ]
     },
     "execution_count": 2,
     "metadata": {},
     "output_type": "execute_result"
    }
   ],
   "source": [
    "all_subreddits"
   ]
  },
  {
   "cell_type": "code",
   "execution_count": null,
   "id": "2117db69-3ce9-4779-8348-61206c776d89",
   "metadata": {},
   "outputs": [],
   "source": []
  },
  {
   "cell_type": "code",
   "execution_count": null,
   "id": "18e74ff4-b289-460e-8a18-d473d0fb1d2f",
   "metadata": {},
   "outputs": [],
   "source": []
  }
 ],
 "metadata": {
  "kernelspec": {
   "display_name": "Python 3.8.10 64-bit ('.venv': venv)",
   "language": "python",
   "name": "python3810jvsc74a57bd024b555649d86f360bc29675e4ea05747664583e96f16283f97272f664e30bb4e"
  },
  "language_info": {
   "codemirror_mode": {
    "name": "ipython",
    "version": 3
   },
   "file_extension": ".py",
   "mimetype": "text/x-python",
   "name": "python",
   "nbconvert_exporter": "python",
   "pygments_lexer": "ipython3",
   "version": "3.8.10"
  }
 },
 "nbformat": 4,
 "nbformat_minor": 5
}
